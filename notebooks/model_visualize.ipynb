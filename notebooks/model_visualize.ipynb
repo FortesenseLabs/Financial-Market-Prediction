{
  "nbformat": 4,
  "nbformat_minor": 0,
  "metadata": {
    "colab": {
      "name": "model_viz_test.ipynb",
      "version": "0.3.2",
      "provenance": [],
      "collapsed_sections": []
    },
    "kernelspec": {
      "name": "python3",
      "display_name": "Python 3"
    },
    "accelerator": "GPU"
  },
  "cells": [
    {
      "cell_type": "code",
      "metadata": {
        "id": "-xkssd58cEK5",
        "colab_type": "code",
        "outputId": "62563607-507a-44db-8919-c97293defc63",
        "colab": {
          "base_uri": "https://localhost:8080/",
          "height": 34
        }
      },
      "source": [
        "from google.colab import drive\n",
        "drive.mount('/content/gdrive')\n",
        "import requests\n",
        "import yaml\n",
        "import json\n",
        "import numpy as np\n",
        "import pandas as pd\n",
        "import torch\n",
        "import torch.nn as nn\n",
        "import torch.nn.functional as F\n",
        "import torch.utils.data\n",
        "import sklearn\n",
        "from sklearn import preprocessing\n",
        "from sklearn.model_selection import train_test_split\n",
        "from tqdm import tqdm\n",
        "import matplotlib.pyplot as plt"
      ],
      "execution_count": 110,
      "outputs": [
        {
          "output_type": "stream",
          "text": [
            "Drive already mounted at /content/gdrive; to attempt to forcibly remount, call drive.mount(\"/content/gdrive\", force_remount=True).\n"
          ],
          "name": "stdout"
        }
      ]
    },
    {
      "cell_type": "code",
      "metadata": {
        "id": "dj0xknt5cJwl",
        "colab_type": "code",
        "outputId": "0ff2d41a-a7b6-465a-ee4e-f6d6b1d7e4d4",
        "colab": {
          "base_uri": "https://localhost:8080/",
          "height": 34
        }
      },
      "source": [
        "print(\"PyTorch version:\", torch.__version__)"
      ],
      "execution_count": 111,
      "outputs": [
        {
          "output_type": "stream",
          "text": [
            "PyTorch version: 1.1.0\n"
          ],
          "name": "stdout"
        }
      ]
    },
    {
      "cell_type": "code",
      "metadata": {
        "id": "WDURcbQYcMbV",
        "colab_type": "code",
        "colab": {}
      },
      "source": [
        "\"\"\"\n",
        "Basic multilayer perceptron subclass \n",
        "of three layers in PyTorch\n",
        "\"\"\"\n",
        "class MLP(nn.Module):\n",
        "    def __init__(self):\n",
        "        super(MLP,self).__init__()\n",
        "        self.fc1 = nn.Linear(in_features=5,out_features=32)\n",
        "        self.fc2 = nn.Linear(in_features=32,out_features=128)\n",
        "        self.fc3 = nn.Linear(in_features=128,out_features=1)\n",
        "    \n",
        "    def forward(self, x):\n",
        "        \"\"\"\"Forward pass definition\"\"\"\n",
        "        x = F.leaky_relu(self.fc1(x))\n",
        "        x = F.leaky_relu(self.fc2(x))\n",
        "        x = F.leaky_relu(self.fc3(x))\n",
        "        return x"
      ],
      "execution_count": 0,
      "outputs": []
    },
    {
      "cell_type": "code",
      "metadata": {
        "id": "RKSf-IgwcO6G",
        "colab_type": "code",
        "colab": {}
      },
      "source": [
        "class TickerData(torch.utils.data.Dataset):\n",
        "    def __init__(self, table):\n",
        "        self.dataset = table\n",
        "    def __len__(self):\n",
        "        return len(self.dataset)\n",
        "    def __getitem__(self,idx):\n",
        "        \"\"\"idx --> data pointer\"\"\"\n",
        "        return self.dataset[idx]"
      ],
      "execution_count": 0,
      "outputs": []
    },
    {
      "cell_type": "code",
      "metadata": {
        "id": "rKiMgnPRfHl5",
        "colab_type": "code",
        "colab": {}
      },
      "source": [
        "device = torch.device(\"cuda\" if torch.cuda.is_available() else \"cpu\")"
      ],
      "execution_count": 0,
      "outputs": []
    },
    {
      "cell_type": "code",
      "metadata": {
        "id": "ATH5hCDpcVL9",
        "colab_type": "code",
        "colab": {}
      },
      "source": [
        "def fetch_btc_prices():\n",
        "    with open(\"/content/gdrive/My Drive/College/Undergraduate Research/StockData/BTC_data.json\") as f:\n",
        "        return json.load(f)\n",
        "\n",
        "def parse_alphaV_JSON(raw_data):\n",
        "    # Remove meta data for now\n",
        "    raw_data.pop('Meta Data',None)\n",
        "    # Remove key name\n",
        "    df = pd.DataFrame.from_dict(raw_data['Time Series (Digital Currency Daily)'],dtype=float)\n",
        "    # Flip dates as columns into rows\n",
        "    df = df.transpose()\n",
        "    return df\n",
        "\n",
        "def normalize():\n",
        "    pass\n",
        "\n",
        "\n",
        "def data_split(x_train,y_train):\n",
        "        x_train, x_test, y_train, y_test = train_test_split(x_train,y_train,test_size=0.2,random_state=100,shuffle=False)\n",
        "        return x_train, x_test, y_train, y_test\n",
        "\n",
        "def train(model, x_data,y_data, original_prices):\n",
        "\n",
        "    prices = torch.tensor(original_prices)\n",
        "    max_price = torch.max(prices)\n",
        "    min_price = torch.min(prices)\n",
        "\n",
        "    print('----Dataset Prep----')\n",
        "    x_train, x_test, y_train, y_test = data_split(x_data,y_data)\n",
        "    train_tensorDataset = torch.utils.data.TensorDataset(torch.from_numpy(x_train),torch.from_numpy(y_train))\n",
        "    train_data_loader = torch.utils.data.DataLoader(\n",
        "        dataset=train_tensorDataset,\n",
        "        batch_size=1,\n",
        "        shuffle=False,\n",
        "        num_workers=0\n",
        "    )\n",
        "\n",
        "    test_tensorDataset = torch.utils.data.TensorDataset(torch.Tensor(x_test),torch.Tensor(y_test))\n",
        "    test_data_loader = torch.utils.data.DataLoader(\n",
        "        dataset=test_tensorDataset,\n",
        "        batch_size=1,\n",
        "        shuffle=False,\n",
        "        num_workers=0\n",
        "    )\n",
        "\n",
        "    print('-- Model Architecture --')\n",
        "    print(model)\n",
        "    \n",
        "    # -- Model to CUDA GPU --\n",
        "    #model.to(device)\n",
        "\n",
        "    # -- Since we are predicting prices --> mean squared error is our loss function\n",
        "    loss_func = torch.nn.MSELoss()\n",
        "\n",
        "    # -- Optimizer --> Adam generally works best\n",
        "    # TODO: choose a better learning rate later\n",
        "    optimizer = torch.optim.Adam(model.parameters(), lr=0.001)\n",
        "\n",
        "    total_loss = 0\n",
        "    losses = []\n",
        "    for epoch in (range(100)):\n",
        "        for i, (examples,labels) in tqdm(enumerate(train_data_loader)):\n",
        "\n",
        "            #print(examples , \" ----- \" , labels)\n",
        "            \n",
        "            optimizer.zero_grad()\n",
        "            \n",
        "            # -- Input to CUDA --\n",
        "            #examples = examples.to(device)\n",
        "            #labels = labels.to(device)\n",
        "            \n",
        "            y_predictions = model(examples.float())\n",
        "            loss = loss_func(y_predictions.float(),labels.float())\n",
        "\n",
        "            total_loss += loss.data\n",
        "\n",
        "            # back-prop to update the weights\n",
        "            loss.backward()\n",
        "            # optimizer steps based on lr\n",
        "            optimizer.step()\n",
        "\n",
        "            y_preds = y_predictions.cpu().detach().numpy()\n",
        "            y_preds = torch.tensor(y_preds)\n",
        "            #print(y_preds.shape)\n",
        "            test = un_normalize(y_preds, min_price, max_price)\n",
        "            #print(\"---> \", test)\n",
        "            #break\n",
        "\n",
        "        print ('Epoch [{}/{}], Loss: {}'.format(epoch+1, 100, loss.data))\n",
        "        #print(list(model.parameters()))\n",
        "        print(\"-----------------------------------------------------------------------------\")\n",
        "        losses.append(loss.data)\n",
        "    return losses, test_data_loader, loss_func, model, min_price, max_price, y_test\n",
        "\n",
        "\n",
        "def table_edit(dataframe):\n",
        "    dataframe = dataframe.drop(labels=['1b. open (USD)','2b. high (USD)','3b. low (USD)','4b. close (USD)'],axis=1)\n",
        "    table_col_order = ['1a. open (USD)','2a. high (USD)','3a. low (USD)','5. volume','6. market cap (USD)','4a. close (USD)']\n",
        "    dataframe = dataframe[table_col_order]\n",
        "    return dataframe\n",
        "\n",
        "def loss_visualize(loss_tensor):\n",
        "    losses = np.array(loss_tensor)\n",
        "    print(losses)\n",
        "    \n",
        "    plt.plot(losses)\n",
        "    \n",
        "def validation_test(test_dataloader, criterion, model, norm_min, norm_max):\n",
        "    test_loss = 0\n",
        "    accuracy = 0\n",
        "    all_predictions = []\n",
        "    for (examples, labels) in test_dataloader:\n",
        "        output = model.forward(examples)\n",
        "        \n",
        "        un_normed_outputs = un_normalize(output, norm_min,norm_max)\n",
        "        all_predictions.append(un_normed_outputs.detach())\n",
        "        #print(\"output --> \", un_normed_outputs)\n",
        "        loss = criterion(output, labels).item()\n",
        "        test_loss += loss\n",
        "        \n",
        "        #ps = torch.exp(output)\n",
        "        #equality = (labels.data == ps.max(dim=1)[1])\n",
        "        #accuracy += equality.type(torch.FloatTensor).mean()\n",
        "        \n",
        "        #print('output --> ', un_normed_outputs, ' loss --> ', loss)\n",
        "        \n",
        "    return test_loss, accuracy, all_predictions\n",
        "\n",
        "def un_normalize(norm_val,min_val,max_val,typelist=None):\n",
        "    if(typelist):\n",
        "        for idx,item in enumerate(norm_val):\n",
        "            new_val = item * (max_val - min_val) + min_val\n",
        "            norm_val[idx] = new_val\n",
        "        return norm_val\n",
        "    else:\n",
        "        return norm_val * (max_val - min_val) + min_val  \n",
        "  \n",
        "def prediction_visualization(minimum_price,maximum_price,close_prices,model_predictions):\n",
        "      test_values = np.array(un_normalize(norm_val=close_prices,min_val=minimum_price,max_val=maximum_price,typelist=True))\n",
        "      #print(np.array(model_predictions.grad))\n",
        "      #model_predictions[0].requires_grad = False\n",
        "      for idx,item in enumerate(model_predictions):\n",
        "          model_predictions[idx] = np.asscalar(item.numpy())\n",
        "      predicted_values = model_predictions\n",
        "      \n",
        "      print(len(test_values))\n",
        "      print(len(predicted_values))\n",
        "      \n",
        "      plt.plot(np.array(test_values))\n",
        "      plt.plot(np.array(predicted_values))\n",
        "      plt.show()\n",
        "      pass"
      ],
      "execution_count": 0,
      "outputs": []
    },
    {
      "cell_type": "code",
      "metadata": {
        "id": "3hMUGeDkcZnZ",
        "colab_type": "code",
        "outputId": "303c8d8a-1dfe-4828-82bc-a711eadb6731",
        "colab": {
          "base_uri": "https://localhost:8080/",
          "height": 1000
        }
      },
      "source": [
        "def main():\n",
        "    raw_price_data = fetch_btc_prices()\n",
        "    data_df = parse_alphaV_JSON(raw_data=raw_price_data)\n",
        "    #print(data_df)\n",
        "    data_df = data_df.iloc[::-1]\n",
        "    #print(data_df)\n",
        "    \n",
        "    prices = np.array(data_df['4a. close (USD)'].tolist())\n",
        "    print(prices)\n",
        "    # -- Normalize the Data --\n",
        "    min_max_scaler = preprocessing.MinMaxScaler()\n",
        "    data_df = pd.DataFrame(min_max_scaler.fit_transform(data_df), columns=data_df.columns)\n",
        "    # print(data_df)\n",
        "    data_df = table_edit(data_df)\n",
        "    y_train = np.array(data_df['4a. close (USD)'].tolist())\n",
        "    data_df = data_df.drop(labels=['4a. close (USD)'],axis=1)\n",
        "    model = MLP()\n",
        "    losses, test_data_loader, loss_func, model, min_price, max_price, test_prices = train(model, data_df.values,y_train,prices)\n",
        "    loss_visualize(losses)\n",
        "    _, _, all_unnormed_outputs = validation_test(test_dataloader=test_data_loader,criterion=loss_func, model=model, norm_min=min_price, norm_max=max_price)\n",
        "    \n",
        "    prediction_visualization(minimum_price=min_price,maximum_price=max_price,close_prices=test_prices,model_predictions=all_unnormed_outputs)\n",
        "    pass\n",
        "\n",
        "main()"
      ],
      "execution_count": 116,
      "outputs": [
        {
          "output_type": "stream",
          "text": [
            "0it [00:00, ?it/s]/usr/local/lib/python3.6/dist-packages/torch/nn/modules/loss.py:443: UserWarning: Using a target size (torch.Size([1])) that is different to the input size (torch.Size([1, 1])). This will likely lead to incorrect results due to broadcasting. Please ensure they have the same size.\n",
            "  return F.mse_loss(input, target, reduction=self.reduction)\n",
            "108it [00:00, 1075.06it/s]"
          ],
          "name": "stderr"
        },
        {
          "output_type": "stream",
          "text": [
            "[  479.0234337    438.37782382   446.81975514 ... 11023.90489058\n",
            " 11754.91156501 12872.8724891 ]\n",
            "----Dataset Prep----\n",
            "-- Model Architecture --\n",
            "MLP(\n",
            "  (fc1): Linear(in_features=5, out_features=32, bias=True)\n",
            "  (fc2): Linear(in_features=32, out_features=128, bias=True)\n",
            "  (fc3): Linear(in_features=128, out_features=1, bias=True)\n",
            ")\n"
          ],
          "name": "stdout"
        },
        {
          "output_type": "stream",
          "text": [
            "1530it [00:01, 1074.17it/s]\n",
            "111it [00:00, 1108.35it/s]"
          ],
          "name": "stderr"
        },
        {
          "output_type": "stream",
          "text": [
            "Epoch [1/100], Loss: 0.00012157059245510027\n",
            "-----------------------------------------------------------------------------\n"
          ],
          "name": "stdout"
        },
        {
          "output_type": "stream",
          "text": [
            "1530it [00:01, 1062.72it/s]\n",
            "110it [00:00, 1098.02it/s]"
          ],
          "name": "stderr"
        },
        {
          "output_type": "stream",
          "text": [
            "Epoch [2/100], Loss: 0.0001231853966601193\n",
            "-----------------------------------------------------------------------------\n"
          ],
          "name": "stdout"
        },
        {
          "output_type": "stream",
          "text": [
            "1530it [00:01, 1052.01it/s]\n",
            "106it [00:00, 1052.88it/s]"
          ],
          "name": "stderr"
        },
        {
          "output_type": "stream",
          "text": [
            "Epoch [3/100], Loss: 0.00016707331815268844\n",
            "-----------------------------------------------------------------------------\n"
          ],
          "name": "stdout"
        },
        {
          "output_type": "stream",
          "text": [
            "1530it [00:01, 1069.97it/s]\n",
            "112it [00:00, 1115.37it/s]"
          ],
          "name": "stderr"
        },
        {
          "output_type": "stream",
          "text": [
            "Epoch [4/100], Loss: 0.00010653885692590848\n",
            "-----------------------------------------------------------------------------\n"
          ],
          "name": "stdout"
        },
        {
          "output_type": "stream",
          "text": [
            "1530it [00:01, 1092.51it/s]\n",
            "111it [00:00, 1106.47it/s]"
          ],
          "name": "stderr"
        },
        {
          "output_type": "stream",
          "text": [
            "Epoch [5/100], Loss: 0.00015402326243929565\n",
            "-----------------------------------------------------------------------------\n"
          ],
          "name": "stdout"
        },
        {
          "output_type": "stream",
          "text": [
            "1530it [00:01, 1091.82it/s]\n",
            "112it [00:00, 1115.74it/s]"
          ],
          "name": "stderr"
        },
        {
          "output_type": "stream",
          "text": [
            "Epoch [6/100], Loss: 0.00017255682905670255\n",
            "-----------------------------------------------------------------------------\n"
          ],
          "name": "stdout"
        },
        {
          "output_type": "stream",
          "text": [
            "1530it [00:01, 1086.89it/s]\n",
            "112it [00:00, 1119.10it/s]"
          ],
          "name": "stderr"
        },
        {
          "output_type": "stream",
          "text": [
            "Epoch [7/100], Loss: 0.00027511734515428543\n",
            "-----------------------------------------------------------------------------\n"
          ],
          "name": "stdout"
        },
        {
          "output_type": "stream",
          "text": [
            "1530it [00:01, 1069.20it/s]\n",
            "110it [00:00, 1097.26it/s]"
          ],
          "name": "stderr"
        },
        {
          "output_type": "stream",
          "text": [
            "Epoch [8/100], Loss: 0.0002362647355766967\n",
            "-----------------------------------------------------------------------------\n"
          ],
          "name": "stdout"
        },
        {
          "output_type": "stream",
          "text": [
            "1530it [00:01, 1066.75it/s]\n",
            "109it [00:00, 1088.94it/s]"
          ],
          "name": "stderr"
        },
        {
          "output_type": "stream",
          "text": [
            "Epoch [9/100], Loss: 0.00032786981319077313\n",
            "-----------------------------------------------------------------------------\n"
          ],
          "name": "stdout"
        },
        {
          "output_type": "stream",
          "text": [
            "1530it [00:01, 1066.83it/s]\n",
            "102it [00:00, 1009.48it/s]"
          ],
          "name": "stderr"
        },
        {
          "output_type": "stream",
          "text": [
            "Epoch [10/100], Loss: 0.00040131877176463604\n",
            "-----------------------------------------------------------------------------\n"
          ],
          "name": "stdout"
        },
        {
          "output_type": "stream",
          "text": [
            "1530it [00:01, 1070.30it/s]\n",
            "113it [00:00, 1121.14it/s]"
          ],
          "name": "stderr"
        },
        {
          "output_type": "stream",
          "text": [
            "Epoch [11/100], Loss: 9.990506077883765e-05\n",
            "-----------------------------------------------------------------------------\n"
          ],
          "name": "stdout"
        },
        {
          "output_type": "stream",
          "text": [
            "1530it [00:01, 1089.84it/s]\n",
            "107it [00:00, 1066.23it/s]"
          ],
          "name": "stderr"
        },
        {
          "output_type": "stream",
          "text": [
            "Epoch [12/100], Loss: 0.00035388575633987784\n",
            "-----------------------------------------------------------------------------\n"
          ],
          "name": "stdout"
        },
        {
          "output_type": "stream",
          "text": [
            "1530it [00:01, 1066.77it/s]\n",
            "106it [00:00, 1058.17it/s]"
          ],
          "name": "stderr"
        },
        {
          "output_type": "stream",
          "text": [
            "Epoch [13/100], Loss: 0.0003778068348765373\n",
            "-----------------------------------------------------------------------------\n"
          ],
          "name": "stdout"
        },
        {
          "output_type": "stream",
          "text": [
            "1530it [00:01, 1059.53it/s]\n",
            "108it [00:00, 1073.08it/s]"
          ],
          "name": "stderr"
        },
        {
          "output_type": "stream",
          "text": [
            "Epoch [14/100], Loss: 0.0007482251385226846\n",
            "-----------------------------------------------------------------------------\n"
          ],
          "name": "stdout"
        },
        {
          "output_type": "stream",
          "text": [
            "1530it [00:01, 1073.32it/s]\n",
            "107it [00:00, 1068.98it/s]"
          ],
          "name": "stderr"
        },
        {
          "output_type": "stream",
          "text": [
            "Epoch [15/100], Loss: 0.0009052254026755691\n",
            "-----------------------------------------------------------------------------\n"
          ],
          "name": "stdout"
        },
        {
          "output_type": "stream",
          "text": [
            "1530it [00:01, 1057.05it/s]\n",
            "115it [00:00, 1145.81it/s]"
          ],
          "name": "stderr"
        },
        {
          "output_type": "stream",
          "text": [
            "Epoch [16/100], Loss: 0.0009583403589203954\n",
            "-----------------------------------------------------------------------------\n"
          ],
          "name": "stdout"
        },
        {
          "output_type": "stream",
          "text": [
            "1530it [00:01, 1092.75it/s]\n",
            "109it [00:00, 1089.69it/s]"
          ],
          "name": "stderr"
        },
        {
          "output_type": "stream",
          "text": [
            "Epoch [17/100], Loss: 0.0008120235288515687\n",
            "-----------------------------------------------------------------------------\n"
          ],
          "name": "stdout"
        },
        {
          "output_type": "stream",
          "text": [
            "1530it [00:01, 1092.98it/s]\n",
            "114it [00:00, 1139.92it/s]"
          ],
          "name": "stderr"
        },
        {
          "output_type": "stream",
          "text": [
            "Epoch [18/100], Loss: 0.0006266524433158338\n",
            "-----------------------------------------------------------------------------\n"
          ],
          "name": "stdout"
        },
        {
          "output_type": "stream",
          "text": [
            "1530it [00:01, 1103.45it/s]\n",
            "113it [00:00, 1123.63it/s]"
          ],
          "name": "stderr"
        },
        {
          "output_type": "stream",
          "text": [
            "Epoch [19/100], Loss: 0.0007500881911255419\n",
            "-----------------------------------------------------------------------------\n"
          ],
          "name": "stdout"
        },
        {
          "output_type": "stream",
          "text": [
            "1530it [00:01, 1094.57it/s]\n",
            "111it [00:00, 1104.03it/s]"
          ],
          "name": "stderr"
        },
        {
          "output_type": "stream",
          "text": [
            "Epoch [20/100], Loss: 0.00020051171304658055\n",
            "-----------------------------------------------------------------------------\n"
          ],
          "name": "stdout"
        },
        {
          "output_type": "stream",
          "text": [
            "1530it [00:01, 1081.98it/s]\n",
            "115it [00:00, 1141.21it/s]"
          ],
          "name": "stderr"
        },
        {
          "output_type": "stream",
          "text": [
            "Epoch [21/100], Loss: 0.000672783178742975\n",
            "-----------------------------------------------------------------------------\n"
          ],
          "name": "stdout"
        },
        {
          "output_type": "stream",
          "text": [
            "1530it [00:01, 1088.90it/s]\n",
            "109it [00:00, 1085.52it/s]"
          ],
          "name": "stderr"
        },
        {
          "output_type": "stream",
          "text": [
            "Epoch [22/100], Loss: 0.0005244174972176552\n",
            "-----------------------------------------------------------------------------\n"
          ],
          "name": "stdout"
        },
        {
          "output_type": "stream",
          "text": [
            "1530it [00:01, 1089.37it/s]\n",
            "108it [00:00, 1073.31it/s]"
          ],
          "name": "stderr"
        },
        {
          "output_type": "stream",
          "text": [
            "Epoch [23/100], Loss: 0.0009627091931179166\n",
            "-----------------------------------------------------------------------------\n"
          ],
          "name": "stdout"
        },
        {
          "output_type": "stream",
          "text": [
            "1530it [00:01, 1073.84it/s]\n",
            "114it [00:00, 1134.29it/s]"
          ],
          "name": "stderr"
        },
        {
          "output_type": "stream",
          "text": [
            "Epoch [24/100], Loss: 0.00018195495067629963\n",
            "-----------------------------------------------------------------------------\n"
          ],
          "name": "stdout"
        },
        {
          "output_type": "stream",
          "text": [
            "1530it [00:01, 1068.32it/s]\n",
            "106it [00:00, 1052.17it/s]"
          ],
          "name": "stderr"
        },
        {
          "output_type": "stream",
          "text": [
            "Epoch [25/100], Loss: 6.830264464952052e-05\n",
            "-----------------------------------------------------------------------------\n"
          ],
          "name": "stdout"
        },
        {
          "output_type": "stream",
          "text": [
            "1530it [00:01, 1078.32it/s]\n",
            "108it [00:00, 1072.35it/s]"
          ],
          "name": "stderr"
        },
        {
          "output_type": "stream",
          "text": [
            "Epoch [26/100], Loss: 0.000348006869899109\n",
            "-----------------------------------------------------------------------------\n"
          ],
          "name": "stdout"
        },
        {
          "output_type": "stream",
          "text": [
            "1530it [00:01, 1072.96it/s]\n",
            "111it [00:00, 1104.35it/s]"
          ],
          "name": "stderr"
        },
        {
          "output_type": "stream",
          "text": [
            "Epoch [27/100], Loss: 0.00041716324631124735\n",
            "-----------------------------------------------------------------------------\n"
          ],
          "name": "stdout"
        },
        {
          "output_type": "stream",
          "text": [
            "1530it [00:01, 1082.68it/s]\n",
            "115it [00:00, 1145.76it/s]"
          ],
          "name": "stderr"
        },
        {
          "output_type": "stream",
          "text": [
            "Epoch [28/100], Loss: 0.0007221304695121944\n",
            "-----------------------------------------------------------------------------\n"
          ],
          "name": "stdout"
        },
        {
          "output_type": "stream",
          "text": [
            "1530it [00:01, 1089.71it/s]\n",
            "97it [00:00, 964.67it/s]"
          ],
          "name": "stderr"
        },
        {
          "output_type": "stream",
          "text": [
            "Epoch [29/100], Loss: 0.0005493108183145523\n",
            "-----------------------------------------------------------------------------\n"
          ],
          "name": "stdout"
        },
        {
          "output_type": "stream",
          "text": [
            "1530it [00:01, 1072.33it/s]\n",
            "111it [00:00, 1104.12it/s]"
          ],
          "name": "stderr"
        },
        {
          "output_type": "stream",
          "text": [
            "Epoch [30/100], Loss: 0.00041959062218666077\n",
            "-----------------------------------------------------------------------------\n"
          ],
          "name": "stdout"
        },
        {
          "output_type": "stream",
          "text": [
            "1530it [00:01, 1091.70it/s]\n",
            "111it [00:00, 1102.82it/s]"
          ],
          "name": "stderr"
        },
        {
          "output_type": "stream",
          "text": [
            "Epoch [31/100], Loss: 0.000743982323911041\n",
            "-----------------------------------------------------------------------------\n"
          ],
          "name": "stdout"
        },
        {
          "output_type": "stream",
          "text": [
            "1530it [00:01, 1075.39it/s]\n",
            "109it [00:00, 1083.01it/s]"
          ],
          "name": "stderr"
        },
        {
          "output_type": "stream",
          "text": [
            "Epoch [32/100], Loss: 0.00011444254050729796\n",
            "-----------------------------------------------------------------------------\n"
          ],
          "name": "stdout"
        },
        {
          "output_type": "stream",
          "text": [
            "1530it [00:01, 1098.10it/s]\n",
            "115it [00:00, 1141.43it/s]"
          ],
          "name": "stderr"
        },
        {
          "output_type": "stream",
          "text": [
            "Epoch [33/100], Loss: 0.00022061959316488355\n",
            "-----------------------------------------------------------------------------\n"
          ],
          "name": "stdout"
        },
        {
          "output_type": "stream",
          "text": [
            "1530it [00:01, 1106.28it/s]\n",
            "111it [00:00, 1109.80it/s]"
          ],
          "name": "stderr"
        },
        {
          "output_type": "stream",
          "text": [
            "Epoch [34/100], Loss: 0.0005791509174741805\n",
            "-----------------------------------------------------------------------------\n"
          ],
          "name": "stdout"
        },
        {
          "output_type": "stream",
          "text": [
            "1530it [00:01, 1087.35it/s]\n",
            "111it [00:00, 1101.99it/s]"
          ],
          "name": "stderr"
        },
        {
          "output_type": "stream",
          "text": [
            "Epoch [35/100], Loss: 0.0006547719822265208\n",
            "-----------------------------------------------------------------------------\n"
          ],
          "name": "stdout"
        },
        {
          "output_type": "stream",
          "text": [
            "1530it [00:01, 1092.83it/s]\n",
            "111it [00:00, 1102.96it/s]"
          ],
          "name": "stderr"
        },
        {
          "output_type": "stream",
          "text": [
            "Epoch [36/100], Loss: 0.0004650115442927927\n",
            "-----------------------------------------------------------------------------\n"
          ],
          "name": "stdout"
        },
        {
          "output_type": "stream",
          "text": [
            "1530it [00:01, 1093.88it/s]\n",
            "105it [00:00, 1049.17it/s]"
          ],
          "name": "stderr"
        },
        {
          "output_type": "stream",
          "text": [
            "Epoch [37/100], Loss: 0.0006637339829467237\n",
            "-----------------------------------------------------------------------------\n"
          ],
          "name": "stdout"
        },
        {
          "output_type": "stream",
          "text": [
            "1530it [00:01, 1060.93it/s]\n",
            "109it [00:00, 1082.04it/s]"
          ],
          "name": "stderr"
        },
        {
          "output_type": "stream",
          "text": [
            "Epoch [38/100], Loss: 1.0743051461759023e-05\n",
            "-----------------------------------------------------------------------------\n"
          ],
          "name": "stdout"
        },
        {
          "output_type": "stream",
          "text": [
            "1530it [00:01, 1090.57it/s]\n",
            "115it [00:00, 1144.35it/s]"
          ],
          "name": "stderr"
        },
        {
          "output_type": "stream",
          "text": [
            "Epoch [39/100], Loss: 0.0005266037187539041\n",
            "-----------------------------------------------------------------------------\n"
          ],
          "name": "stdout"
        },
        {
          "output_type": "stream",
          "text": [
            "1530it [00:01, 1095.14it/s]\n",
            "107it [00:00, 1067.68it/s]"
          ],
          "name": "stderr"
        },
        {
          "output_type": "stream",
          "text": [
            "Epoch [40/100], Loss: 0.00034133208100683987\n",
            "-----------------------------------------------------------------------------\n"
          ],
          "name": "stdout"
        },
        {
          "output_type": "stream",
          "text": [
            "1530it [00:01, 1099.38it/s]\n",
            "111it [00:00, 1109.24it/s]"
          ],
          "name": "stderr"
        },
        {
          "output_type": "stream",
          "text": [
            "Epoch [41/100], Loss: 0.0007877929019741714\n",
            "-----------------------------------------------------------------------------\n"
          ],
          "name": "stdout"
        },
        {
          "output_type": "stream",
          "text": [
            "1530it [00:01, 1091.18it/s]\n",
            "102it [00:00, 1016.74it/s]"
          ],
          "name": "stderr"
        },
        {
          "output_type": "stream",
          "text": [
            "Epoch [42/100], Loss: 0.00046754319919273257\n",
            "-----------------------------------------------------------------------------\n"
          ],
          "name": "stdout"
        },
        {
          "output_type": "stream",
          "text": [
            "1530it [00:01, 1091.10it/s]\n",
            "113it [00:00, 1130.00it/s]"
          ],
          "name": "stderr"
        },
        {
          "output_type": "stream",
          "text": [
            "Epoch [43/100], Loss: 1.343288147381827e-07\n",
            "-----------------------------------------------------------------------------\n"
          ],
          "name": "stdout"
        },
        {
          "output_type": "stream",
          "text": [
            "1530it [00:01, 1096.35it/s]\n",
            "113it [00:00, 1123.33it/s]"
          ],
          "name": "stderr"
        },
        {
          "output_type": "stream",
          "text": [
            "Epoch [44/100], Loss: 0.00048677015001885593\n",
            "-----------------------------------------------------------------------------\n"
          ],
          "name": "stdout"
        },
        {
          "output_type": "stream",
          "text": [
            "1530it [00:01, 1099.45it/s]\n",
            "116it [00:00, 1156.97it/s]"
          ],
          "name": "stderr"
        },
        {
          "output_type": "stream",
          "text": [
            "Epoch [45/100], Loss: 0.0001576744980411604\n",
            "-----------------------------------------------------------------------------\n"
          ],
          "name": "stdout"
        },
        {
          "output_type": "stream",
          "text": [
            "1530it [00:01, 1090.23it/s]\n",
            "114it [00:00, 1132.01it/s]"
          ],
          "name": "stderr"
        },
        {
          "output_type": "stream",
          "text": [
            "Epoch [46/100], Loss: 0.0003017598937731236\n",
            "-----------------------------------------------------------------------------\n"
          ],
          "name": "stdout"
        },
        {
          "output_type": "stream",
          "text": [
            "1530it [00:01, 1081.41it/s]\n",
            "112it [00:00, 1113.97it/s]"
          ],
          "name": "stderr"
        },
        {
          "output_type": "stream",
          "text": [
            "Epoch [47/100], Loss: 4.5650082029169425e-05\n",
            "-----------------------------------------------------------------------------\n"
          ],
          "name": "stdout"
        },
        {
          "output_type": "stream",
          "text": [
            "1530it [00:01, 1100.24it/s]\n",
            "104it [00:00, 1030.42it/s]"
          ],
          "name": "stderr"
        },
        {
          "output_type": "stream",
          "text": [
            "Epoch [48/100], Loss: 0.000779312162194401\n",
            "-----------------------------------------------------------------------------\n"
          ],
          "name": "stdout"
        },
        {
          "output_type": "stream",
          "text": [
            "1530it [00:01, 1099.01it/s]\n",
            "107it [00:00, 1066.33it/s]"
          ],
          "name": "stderr"
        },
        {
          "output_type": "stream",
          "text": [
            "Epoch [49/100], Loss: 9.575157378094445e-08\n",
            "-----------------------------------------------------------------------------\n"
          ],
          "name": "stdout"
        },
        {
          "output_type": "stream",
          "text": [
            "1530it [00:01, 1093.95it/s]\n",
            "116it [00:00, 1156.67it/s]"
          ],
          "name": "stderr"
        },
        {
          "output_type": "stream",
          "text": [
            "Epoch [50/100], Loss: 0.000543299422133714\n",
            "-----------------------------------------------------------------------------\n"
          ],
          "name": "stdout"
        },
        {
          "output_type": "stream",
          "text": [
            "1530it [00:01, 1072.23it/s]\n",
            "109it [00:00, 1089.61it/s]"
          ],
          "name": "stderr"
        },
        {
          "output_type": "stream",
          "text": [
            "Epoch [51/100], Loss: 0.00041819014586508274\n",
            "-----------------------------------------------------------------------------\n"
          ],
          "name": "stdout"
        },
        {
          "output_type": "stream",
          "text": [
            "1530it [00:01, 1097.64it/s]\n",
            "113it [00:00, 1127.31it/s]"
          ],
          "name": "stderr"
        },
        {
          "output_type": "stream",
          "text": [
            "Epoch [52/100], Loss: 8.048054587561637e-05\n",
            "-----------------------------------------------------------------------------\n"
          ],
          "name": "stdout"
        },
        {
          "output_type": "stream",
          "text": [
            "1530it [00:01, 1086.60it/s]\n",
            "114it [00:00, 1131.90it/s]"
          ],
          "name": "stderr"
        },
        {
          "output_type": "stream",
          "text": [
            "Epoch [53/100], Loss: 0.0004007959505543113\n",
            "-----------------------------------------------------------------------------\n"
          ],
          "name": "stdout"
        },
        {
          "output_type": "stream",
          "text": [
            "1530it [00:01, 1112.08it/s]\n",
            "114it [00:00, 1138.15it/s]"
          ],
          "name": "stderr"
        },
        {
          "output_type": "stream",
          "text": [
            "Epoch [54/100], Loss: 0.0003573285648599267\n",
            "-----------------------------------------------------------------------------\n"
          ],
          "name": "stdout"
        },
        {
          "output_type": "stream",
          "text": [
            "1530it [00:01, 1085.10it/s]\n",
            "112it [00:00, 1116.38it/s]"
          ],
          "name": "stderr"
        },
        {
          "output_type": "stream",
          "text": [
            "Epoch [55/100], Loss: 0.00017705497157294303\n",
            "-----------------------------------------------------------------------------\n"
          ],
          "name": "stdout"
        },
        {
          "output_type": "stream",
          "text": [
            "1530it [00:01, 1088.71it/s]\n",
            "98it [00:00, 976.87it/s]"
          ],
          "name": "stderr"
        },
        {
          "output_type": "stream",
          "text": [
            "Epoch [56/100], Loss: 3.913771433872171e-05\n",
            "-----------------------------------------------------------------------------\n"
          ],
          "name": "stdout"
        },
        {
          "output_type": "stream",
          "text": [
            "1530it [00:01, 1088.02it/s]\n",
            "107it [00:00, 1068.04it/s]"
          ],
          "name": "stderr"
        },
        {
          "output_type": "stream",
          "text": [
            "Epoch [57/100], Loss: 8.382394298678264e-05\n",
            "-----------------------------------------------------------------------------\n"
          ],
          "name": "stdout"
        },
        {
          "output_type": "stream",
          "text": [
            "1530it [00:01, 1091.61it/s]\n",
            "104it [00:00, 1031.55it/s]"
          ],
          "name": "stderr"
        },
        {
          "output_type": "stream",
          "text": [
            "Epoch [58/100], Loss: 7.526302215410396e-05\n",
            "-----------------------------------------------------------------------------\n"
          ],
          "name": "stdout"
        },
        {
          "output_type": "stream",
          "text": [
            "1530it [00:01, 1050.20it/s]\n",
            "109it [00:00, 1081.12it/s]"
          ],
          "name": "stderr"
        },
        {
          "output_type": "stream",
          "text": [
            "Epoch [59/100], Loss: 3.448384859439102e-06\n",
            "-----------------------------------------------------------------------------\n"
          ],
          "name": "stdout"
        },
        {
          "output_type": "stream",
          "text": [
            "1530it [00:01, 1065.42it/s]\n",
            "109it [00:00, 1085.56it/s]"
          ],
          "name": "stderr"
        },
        {
          "output_type": "stream",
          "text": [
            "Epoch [60/100], Loss: 5.212022369960323e-05\n",
            "-----------------------------------------------------------------------------\n"
          ],
          "name": "stdout"
        },
        {
          "output_type": "stream",
          "text": [
            "1530it [00:01, 1085.02it/s]\n",
            "107it [00:00, 1066.49it/s]"
          ],
          "name": "stderr"
        },
        {
          "output_type": "stream",
          "text": [
            "Epoch [61/100], Loss: 0.00010332673991797492\n",
            "-----------------------------------------------------------------------------\n"
          ],
          "name": "stdout"
        },
        {
          "output_type": "stream",
          "text": [
            "1530it [00:01, 1054.18it/s]\n",
            "111it [00:00, 1102.11it/s]"
          ],
          "name": "stderr"
        },
        {
          "output_type": "stream",
          "text": [
            "Epoch [62/100], Loss: 2.1703476704715285e-07\n",
            "-----------------------------------------------------------------------------\n"
          ],
          "name": "stdout"
        },
        {
          "output_type": "stream",
          "text": [
            "1530it [00:01, 1078.10it/s]\n",
            "111it [00:00, 1108.50it/s]"
          ],
          "name": "stderr"
        },
        {
          "output_type": "stream",
          "text": [
            "Epoch [63/100], Loss: 9.041195880854502e-05\n",
            "-----------------------------------------------------------------------------\n"
          ],
          "name": "stdout"
        },
        {
          "output_type": "stream",
          "text": [
            "1530it [00:01, 1063.79it/s]\n",
            "106it [00:00, 1051.80it/s]"
          ],
          "name": "stderr"
        },
        {
          "output_type": "stream",
          "text": [
            "Epoch [64/100], Loss: 0.00024339334049727768\n",
            "-----------------------------------------------------------------------------\n"
          ],
          "name": "stdout"
        },
        {
          "output_type": "stream",
          "text": [
            "1530it [00:01, 1057.11it/s]\n",
            "112it [00:00, 1112.34it/s]"
          ],
          "name": "stderr"
        },
        {
          "output_type": "stream",
          "text": [
            "Epoch [65/100], Loss: 7.62263298383914e-05\n",
            "-----------------------------------------------------------------------------\n"
          ],
          "name": "stdout"
        },
        {
          "output_type": "stream",
          "text": [
            "1530it [00:01, 1093.97it/s]\n",
            "110it [00:00, 1098.05it/s]"
          ],
          "name": "stderr"
        },
        {
          "output_type": "stream",
          "text": [
            "Epoch [66/100], Loss: 1.4238481526263058e-05\n",
            "-----------------------------------------------------------------------------\n"
          ],
          "name": "stdout"
        },
        {
          "output_type": "stream",
          "text": [
            "1530it [00:01, 1093.41it/s]\n",
            "104it [00:00, 1038.00it/s]"
          ],
          "name": "stderr"
        },
        {
          "output_type": "stream",
          "text": [
            "Epoch [67/100], Loss: 2.420411146886181e-05\n",
            "-----------------------------------------------------------------------------\n"
          ],
          "name": "stdout"
        },
        {
          "output_type": "stream",
          "text": [
            "1530it [00:01, 1095.94it/s]\n",
            "109it [00:00, 1087.12it/s]"
          ],
          "name": "stderr"
        },
        {
          "output_type": "stream",
          "text": [
            "Epoch [68/100], Loss: 2.625541583256563e-06\n",
            "-----------------------------------------------------------------------------\n"
          ],
          "name": "stdout"
        },
        {
          "output_type": "stream",
          "text": [
            "1530it [00:01, 1083.21it/s]\n",
            "108it [00:00, 1073.48it/s]"
          ],
          "name": "stderr"
        },
        {
          "output_type": "stream",
          "text": [
            "Epoch [69/100], Loss: 7.421543705277145e-05\n",
            "-----------------------------------------------------------------------------\n"
          ],
          "name": "stdout"
        },
        {
          "output_type": "stream",
          "text": [
            "1530it [00:01, 1110.20it/s]\n",
            "111it [00:00, 1107.23it/s]"
          ],
          "name": "stderr"
        },
        {
          "output_type": "stream",
          "text": [
            "Epoch [70/100], Loss: 0.00013573213072959334\n",
            "-----------------------------------------------------------------------------\n"
          ],
          "name": "stdout"
        },
        {
          "output_type": "stream",
          "text": [
            "1530it [00:01, 1123.04it/s]\n",
            "113it [00:00, 1124.93it/s]"
          ],
          "name": "stderr"
        },
        {
          "output_type": "stream",
          "text": [
            "Epoch [71/100], Loss: 1.6340893125743605e-05\n",
            "-----------------------------------------------------------------------------\n"
          ],
          "name": "stdout"
        },
        {
          "output_type": "stream",
          "text": [
            "1530it [00:01, 1111.21it/s]\n",
            "115it [00:00, 1148.54it/s]"
          ],
          "name": "stderr"
        },
        {
          "output_type": "stream",
          "text": [
            "Epoch [72/100], Loss: 0.00013963041419629008\n",
            "-----------------------------------------------------------------------------\n"
          ],
          "name": "stdout"
        },
        {
          "output_type": "stream",
          "text": [
            "1530it [00:01, 1116.67it/s]\n",
            "117it [00:00, 1166.89it/s]"
          ],
          "name": "stderr"
        },
        {
          "output_type": "stream",
          "text": [
            "Epoch [73/100], Loss: 6.327467190203606e-07\n",
            "-----------------------------------------------------------------------------\n"
          ],
          "name": "stdout"
        },
        {
          "output_type": "stream",
          "text": [
            "1530it [00:01, 1118.17it/s]\n",
            "114it [00:00, 1130.90it/s]"
          ],
          "name": "stderr"
        },
        {
          "output_type": "stream",
          "text": [
            "Epoch [74/100], Loss: 0.0004285766917746514\n",
            "-----------------------------------------------------------------------------\n"
          ],
          "name": "stdout"
        },
        {
          "output_type": "stream",
          "text": [
            "1530it [00:01, 1101.57it/s]\n",
            "111it [00:00, 1102.63it/s]"
          ],
          "name": "stderr"
        },
        {
          "output_type": "stream",
          "text": [
            "Epoch [75/100], Loss: 2.718487621677923e-06\n",
            "-----------------------------------------------------------------------------\n"
          ],
          "name": "stdout"
        },
        {
          "output_type": "stream",
          "text": [
            "1530it [00:01, 1103.35it/s]\n",
            "99it [00:00, 974.85it/s]"
          ],
          "name": "stderr"
        },
        {
          "output_type": "stream",
          "text": [
            "Epoch [76/100], Loss: 8.014936270228645e-09\n",
            "-----------------------------------------------------------------------------\n"
          ],
          "name": "stdout"
        },
        {
          "output_type": "stream",
          "text": [
            "1530it [00:01, 1112.11it/s]\n",
            "108it [00:00, 1072.07it/s]"
          ],
          "name": "stderr"
        },
        {
          "output_type": "stream",
          "text": [
            "Epoch [77/100], Loss: 4.474208617466502e-05\n",
            "-----------------------------------------------------------------------------\n"
          ],
          "name": "stdout"
        },
        {
          "output_type": "stream",
          "text": [
            "1530it [00:01, 1108.85it/s]\n",
            "111it [00:00, 1100.80it/s]"
          ],
          "name": "stderr"
        },
        {
          "output_type": "stream",
          "text": [
            "Epoch [78/100], Loss: 0.00010441228369018063\n",
            "-----------------------------------------------------------------------------\n"
          ],
          "name": "stdout"
        },
        {
          "output_type": "stream",
          "text": [
            "1530it [00:01, 1114.85it/s]\n",
            "109it [00:00, 1088.80it/s]"
          ],
          "name": "stderr"
        },
        {
          "output_type": "stream",
          "text": [
            "Epoch [79/100], Loss: 0.0001081562222680077\n",
            "-----------------------------------------------------------------------------\n"
          ],
          "name": "stdout"
        },
        {
          "output_type": "stream",
          "text": [
            "1530it [00:01, 1108.25it/s]\n",
            "115it [00:00, 1142.70it/s]"
          ],
          "name": "stderr"
        },
        {
          "output_type": "stream",
          "text": [
            "Epoch [80/100], Loss: 6.214940367499366e-05\n",
            "-----------------------------------------------------------------------------\n"
          ],
          "name": "stdout"
        },
        {
          "output_type": "stream",
          "text": [
            "1530it [00:01, 1077.88it/s]\n",
            "106it [00:00, 1053.56it/s]"
          ],
          "name": "stderr"
        },
        {
          "output_type": "stream",
          "text": [
            "Epoch [81/100], Loss: 0.00015791109763085842\n",
            "-----------------------------------------------------------------------------\n"
          ],
          "name": "stdout"
        },
        {
          "output_type": "stream",
          "text": [
            "1530it [00:01, 1107.69it/s]\n",
            "115it [00:00, 1145.48it/s]"
          ],
          "name": "stderr"
        },
        {
          "output_type": "stream",
          "text": [
            "Epoch [82/100], Loss: 9.230909199686721e-05\n",
            "-----------------------------------------------------------------------------\n"
          ],
          "name": "stdout"
        },
        {
          "output_type": "stream",
          "text": [
            "1530it [00:01, 1113.69it/s]\n",
            "111it [00:00, 1108.20it/s]"
          ],
          "name": "stderr"
        },
        {
          "output_type": "stream",
          "text": [
            "Epoch [83/100], Loss: 3.739236854016781e-05\n",
            "-----------------------------------------------------------------------------\n"
          ],
          "name": "stdout"
        },
        {
          "output_type": "stream",
          "text": [
            "1530it [00:01, 1108.59it/s]\n",
            "114it [00:00, 1135.51it/s]"
          ],
          "name": "stderr"
        },
        {
          "output_type": "stream",
          "text": [
            "Epoch [84/100], Loss: 0.00022260361583903432\n",
            "-----------------------------------------------------------------------------\n"
          ],
          "name": "stdout"
        },
        {
          "output_type": "stream",
          "text": [
            "1530it [00:01, 1109.69it/s]\n",
            "114it [00:00, 1133.13it/s]"
          ],
          "name": "stderr"
        },
        {
          "output_type": "stream",
          "text": [
            "Epoch [85/100], Loss: 0.00017378278425894678\n",
            "-----------------------------------------------------------------------------\n"
          ],
          "name": "stdout"
        },
        {
          "output_type": "stream",
          "text": [
            "1530it [00:01, 1034.20it/s]\n",
            "105it [00:00, 1047.19it/s]"
          ],
          "name": "stderr"
        },
        {
          "output_type": "stream",
          "text": [
            "Epoch [86/100], Loss: 0.00020051677711308002\n",
            "-----------------------------------------------------------------------------\n"
          ],
          "name": "stdout"
        },
        {
          "output_type": "stream",
          "text": [
            "1530it [00:01, 1052.60it/s]\n",
            "106it [00:00, 1056.98it/s]"
          ],
          "name": "stderr"
        },
        {
          "output_type": "stream",
          "text": [
            "Epoch [87/100], Loss: 0.00015879090642556548\n",
            "-----------------------------------------------------------------------------\n"
          ],
          "name": "stdout"
        },
        {
          "output_type": "stream",
          "text": [
            "1530it [00:01, 1033.04it/s]\n",
            "102it [00:00, 1015.04it/s]"
          ],
          "name": "stderr"
        },
        {
          "output_type": "stream",
          "text": [
            "Epoch [88/100], Loss: 0.0001267292827833444\n",
            "-----------------------------------------------------------------------------\n"
          ],
          "name": "stdout"
        },
        {
          "output_type": "stream",
          "text": [
            "1530it [00:01, 1031.40it/s]\n",
            "108it [00:00, 1070.09it/s]"
          ],
          "name": "stderr"
        },
        {
          "output_type": "stream",
          "text": [
            "Epoch [89/100], Loss: 0.00010685593588277698\n",
            "-----------------------------------------------------------------------------\n"
          ],
          "name": "stdout"
        },
        {
          "output_type": "stream",
          "text": [
            "1530it [00:01, 1017.96it/s]\n",
            "105it [00:00, 1046.17it/s]"
          ],
          "name": "stderr"
        },
        {
          "output_type": "stream",
          "text": [
            "Epoch [90/100], Loss: 0.0002271378762088716\n",
            "-----------------------------------------------------------------------------\n"
          ],
          "name": "stdout"
        },
        {
          "output_type": "stream",
          "text": [
            "1530it [00:01, 1002.67it/s]\n",
            "106it [00:00, 1058.08it/s]"
          ],
          "name": "stderr"
        },
        {
          "output_type": "stream",
          "text": [
            "Epoch [91/100], Loss: 1.853490857683937e-06\n",
            "-----------------------------------------------------------------------------\n"
          ],
          "name": "stdout"
        },
        {
          "output_type": "stream",
          "text": [
            "1530it [00:01, 1015.98it/s]\n",
            "104it [00:00, 1038.06it/s]"
          ],
          "name": "stderr"
        },
        {
          "output_type": "stream",
          "text": [
            "Epoch [92/100], Loss: 4.263839218765497e-05\n",
            "-----------------------------------------------------------------------------\n"
          ],
          "name": "stdout"
        },
        {
          "output_type": "stream",
          "text": [
            "1530it [00:01, 1067.87it/s]\n",
            "114it [00:00, 1135.07it/s]"
          ],
          "name": "stderr"
        },
        {
          "output_type": "stream",
          "text": [
            "Epoch [93/100], Loss: 0.00014070444740355015\n",
            "-----------------------------------------------------------------------------\n"
          ],
          "name": "stdout"
        },
        {
          "output_type": "stream",
          "text": [
            "1530it [00:01, 1102.72it/s]\n",
            "111it [00:00, 1100.94it/s]"
          ],
          "name": "stderr"
        },
        {
          "output_type": "stream",
          "text": [
            "Epoch [94/100], Loss: 0.00011998995614703745\n",
            "-----------------------------------------------------------------------------\n"
          ],
          "name": "stdout"
        },
        {
          "output_type": "stream",
          "text": [
            "1530it [00:01, 1102.36it/s]\n",
            "114it [00:00, 1131.12it/s]"
          ],
          "name": "stderr"
        },
        {
          "output_type": "stream",
          "text": [
            "Epoch [95/100], Loss: 0.0001314765977440402\n",
            "-----------------------------------------------------------------------------\n"
          ],
          "name": "stdout"
        },
        {
          "output_type": "stream",
          "text": [
            "1530it [00:01, 1069.49it/s]\n",
            "110it [00:00, 1091.06it/s]"
          ],
          "name": "stderr"
        },
        {
          "output_type": "stream",
          "text": [
            "Epoch [96/100], Loss: 0.00014419233775697649\n",
            "-----------------------------------------------------------------------------\n"
          ],
          "name": "stdout"
        },
        {
          "output_type": "stream",
          "text": [
            "1530it [00:01, 1097.05it/s]\n",
            "114it [00:00, 1134.01it/s]"
          ],
          "name": "stderr"
        },
        {
          "output_type": "stream",
          "text": [
            "Epoch [97/100], Loss: 0.00017817184561863542\n",
            "-----------------------------------------------------------------------------\n"
          ],
          "name": "stdout"
        },
        {
          "output_type": "stream",
          "text": [
            "1530it [00:01, 1081.02it/s]\n",
            "107it [00:00, 1069.02it/s]"
          ],
          "name": "stderr"
        },
        {
          "output_type": "stream",
          "text": [
            "Epoch [98/100], Loss: 0.00019485091615933925\n",
            "-----------------------------------------------------------------------------\n"
          ],
          "name": "stdout"
        },
        {
          "output_type": "stream",
          "text": [
            "1530it [00:01, 1108.47it/s]\n",
            "115it [00:00, 1145.39it/s]"
          ],
          "name": "stderr"
        },
        {
          "output_type": "stream",
          "text": [
            "Epoch [99/100], Loss: 0.00020054547348991036\n",
            "-----------------------------------------------------------------------------\n"
          ],
          "name": "stdout"
        },
        {
          "output_type": "stream",
          "text": [
            "1530it [00:01, 1111.59it/s]\n"
          ],
          "name": "stderr"
        },
        {
          "output_type": "stream",
          "text": [
            "Epoch [100/100], Loss: 0.0002098964323522523\n",
            "-----------------------------------------------------------------------------\n",
            "[1.21570592e-04 1.23185397e-04 1.67073318e-04 1.06538857e-04\n",
            " 1.54023262e-04 1.72556829e-04 2.75117345e-04 2.36264736e-04\n",
            " 3.27869813e-04 4.01318772e-04 9.99050608e-05 3.53885756e-04\n",
            " 3.77806835e-04 7.48225139e-04 9.05225403e-04 9.58340359e-04\n",
            " 8.12023529e-04 6.26652443e-04 7.50088191e-04 2.00511713e-04\n",
            " 6.72783179e-04 5.24417497e-04 9.62709193e-04 1.81954951e-04\n",
            " 6.83026446e-05 3.48006870e-04 4.17163246e-04 7.22130470e-04\n",
            " 5.49310818e-04 4.19590622e-04 7.43982324e-04 1.14442541e-04\n",
            " 2.20619593e-04 5.79150917e-04 6.54771982e-04 4.65011544e-04\n",
            " 6.63733983e-04 1.07430515e-05 5.26603719e-04 3.41332081e-04\n",
            " 7.87792902e-04 4.67543199e-04 1.34328815e-07 4.86770150e-04\n",
            " 1.57674498e-04 3.01759894e-04 4.56500820e-05 7.79312162e-04\n",
            " 9.57515738e-08 5.43299422e-04 4.18190146e-04 8.04805459e-05\n",
            " 4.00795951e-04 3.57328565e-04 1.77054972e-04 3.91377143e-05\n",
            " 8.38239430e-05 7.52630222e-05 3.44838486e-06 5.21202237e-05\n",
            " 1.03326740e-04 2.17034767e-07 9.04119588e-05 2.43393340e-04\n",
            " 7.62263298e-05 1.42384815e-05 2.42041115e-05 2.62554158e-06\n",
            " 7.42154371e-05 1.35732131e-04 1.63408931e-05 1.39630414e-04\n",
            " 6.32746719e-07 4.28576692e-04 2.71848762e-06 8.01493627e-09\n",
            " 4.47420862e-05 1.04412284e-04 1.08156222e-04 6.21494037e-05\n",
            " 1.57911098e-04 9.23090920e-05 3.73923685e-05 2.22603616e-04\n",
            " 1.73782784e-04 2.00516777e-04 1.58790906e-04 1.26729283e-04\n",
            " 1.06855936e-04 2.27137876e-04 1.85349086e-06 4.26383922e-05\n",
            " 1.40704447e-04 1.19989956e-04 1.31476598e-04 1.44192338e-04\n",
            " 1.78171846e-04 1.94850916e-04 2.00545473e-04 2.09896432e-04]\n",
            "383\n",
            "383\n"
          ],
          "name": "stdout"
        },
        {
          "output_type": "display_data",
          "data": {
            "image/png": "[encoded data removed]",
            "text/plain": [
              "<Figure size 432x288 with 1 Axes>"
            ]
          },
          "metadata": {
            "tags": []
          }
        }
      ]
    },
    {
      "cell_type": "code",
      "metadata": {
        "id": "rC1qbe-GH7Iv",
        "colab_type": "code",
        "colab": {}
      },
      "source": [
        ""
      ],
      "execution_count": 0,
      "outputs": []
    }
  ]
}