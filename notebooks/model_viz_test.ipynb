{
 "cells": [
  {
   "cell_type": "code",
   "execution_count": 1,
   "metadata": {
    "colab": {
     "base_uri": "https://localhost:8080/",
     "height": 129
    },
    "colab_type": "code",
    "id": "-xkssd58cEK5",
    "outputId": "41cc002e-9905-4d9b-b377-c8c6f4fb0c30"
   },
   "outputs": [],
   "source": [
    "#from google.colab import drive\n",
    "#drive.mount('/content/gdrive')\n",
    "import requests\n",
    "import yaml\n",
    "import json\n",
    "import numpy as np\n",
    "import pandas as pd\n",
    "import torch\n",
    "import torch.nn as nn\n",
    "import torch.nn.functional as F\n",
    "import torch.utils.data\n",
    "import sklearn\n",
    "from sklearn import preprocessing\n",
    "from sklearn.model_selection import train_test_split\n",
    "from tqdm import tqdm\n",
    "import matplotlib.pyplot as plt"
   ]
  },
  {
   "cell_type": "code",
   "execution_count": 2,
   "metadata": {
    "colab": {
     "base_uri": "https://localhost:8080/",
     "height": 35
    },
    "colab_type": "code",
    "id": "dj0xknt5cJwl",
    "outputId": "6074390f-d1dd-4b84-c5ef-03841f1b8742"
   },
   "outputs": [
    {
     "name": "stdout",
     "output_type": "stream",
     "text": [
      "PyTorch version: 1.0.1.post2\n"
     ]
    }
   ],
   "source": [
    "print(\"PyTorch version:\", torch.__version__)"
   ]
  },
  {
   "cell_type": "code",
   "execution_count": 3,
   "metadata": {
    "colab": {},
    "colab_type": "code",
    "id": "WDURcbQYcMbV"
   },
   "outputs": [],
   "source": [
    "\"\"\"\n",
    "Basic multilayer perceptron subclass \n",
    "of three layers in PyTorch\n",
    "\"\"\"\n",
    "class MLP(nn.Module):\n",
    "    def __init__(self):\n",
    "        super(MLP,self).__init__()\n",
    "        self.fc1 = nn.Linear(in_features=5,out_features=32)\n",
    "        self.fc2 = nn.Linear(in_features=32,out_features=128)\n",
    "        self.fc3 = nn.Linear(in_features=128,out_features=1)\n",
    "    \n",
    "    def forward(self, x):\n",
    "        \"\"\"\"Forward pass definition\"\"\"\n",
    "        x = F.leaky_relu(self.fc1(x))\n",
    "        x = F.leaky_relu(self.fc2(x))\n",
    "        x = F.leaky_relu(self.fc3(x))\n",
    "        return x\n",
    "      \n",
    "class NumberRegression_MLP(nn.Module):\n",
    "    def __init__(self):\n",
    "        super(NumberRegression_MLP,self).__init__()\n",
    "        self.fc1 = nn.Linear(in_features=1,out_features=32)\n",
    "        self.fc2 = nn.Linear(in_features=32,out_features=128)\n",
    "        self.fc3 = nn.Linear(in_features=128,out_features=1)\n",
    "    def forward(self, x):\n",
    "        \"\"\"\"Forward pass definition\"\"\"\n",
    "        x = F.leaky_relu(self.fc1(x))\n",
    "        x = F.leaky_relu(self.fc2(x))\n",
    "        x = F.leaky_relu(self.fc3(x))\n",
    "        return x"
   ]
  },
  {
   "cell_type": "code",
   "execution_count": 0,
   "metadata": {
    "colab": {},
    "colab_type": "code",
    "id": "RKSf-IgwcO6G"
   },
   "outputs": [],
   "source": [
    "class TickerData(torch.utils.data.Dataset):\n",
    "    def __init__(self, table):\n",
    "        self.dataset = table\n",
    "    def __len__(self):\n",
    "        return len(self.dataset)\n",
    "    def __getitem__(self,idx):\n",
    "        \"\"\"idx --> data pointer\"\"\"\n",
    "        return self.dataset[idx]"
   ]
  },
  {
   "cell_type": "code",
   "execution_count": 0,
   "metadata": {
    "colab": {},
    "colab_type": "code",
    "id": "rKiMgnPRfHl5"
   },
   "outputs": [],
   "source": [
    "device = torch.device(\"cuda\" if torch.cuda.is_available() else \"cpu\")"
   ]
  },
  {
   "cell_type": "code",
   "execution_count": 64,
   "metadata": {
    "colab": {},
    "colab_type": "code",
    "id": "ATH5hCDpcVL9"
   },
   "outputs": [],
   "source": [
    "def fetch_latest_BTC_JSON():\n",
    "    \"\"\"Fetch the latest JSON data\"\"\"\n",
    "    API_LINK = 'https://www.alphavantage.co/query?function=DIGITAL_CURRENCY_DAILY&symbol=BTC&market=USD&apikey=SAITMI5ZUMGEKGKY'\n",
    "    page = requests.get(API_LINK).json()\n",
    "    return page\n",
    "  \n",
    "def fetch_btc_prices():\n",
    "    with open(\"/content/gdrive/My Drive/College/Undergraduate Research/StockData/BTC_data.json\") as f:\n",
    "        return json.load(f)      \n",
    "      \n",
    "def parse_alphaV_JSON(raw_data):\n",
    "    # Remove meta data for now\n",
    "    raw_data.pop('Meta Data',None)\n",
    "    # Remove key name\n",
    "    df = pd.DataFrame.from_dict(raw_data['Time Series (Digital Currency Daily)'],dtype=float)\n",
    "    # Flip dates as columns into rows\n",
    "    df = df.transpose()\n",
    "    return df\n",
    "\n",
    "def normalize():\n",
    "    pass\n",
    "  \n",
    "\n",
    "def data_split(x_train,y_train):\n",
    "        x_train, x_test, y_train, y_test = train_test_split(x_train,y_train,test_size=0.2,random_state=100,shuffle=False)\n",
    "        return x_train, x_test, y_train, y_test\n",
    "\n",
    "def train(model, x_data,y_data, original_prices):\n",
    "\n",
    "    prices = torch.tensor(original_prices)\n",
    "    max_price = torch.max(prices)\n",
    "    min_price = torch.min(prices)\n",
    "\n",
    "    print('----Dataset Prep----')\n",
    "    x_train, x_test, y_train, y_test = data_split(x_data,y_data)\n",
    "    train_tensorDataset = torch.utils.data.TensorDataset(torch.from_numpy(x_train),torch.from_numpy(y_train))\n",
    "    train_data_loader = torch.utils.data.DataLoader(\n",
    "        dataset=train_tensorDataset,\n",
    "        batch_size=1,\n",
    "        shuffle=False,\n",
    "        num_workers=0\n",
    "    )\n",
    "\n",
    "    test_tensorDataset = torch.utils.data.TensorDataset(torch.Tensor(x_test),torch.Tensor(y_test))\n",
    "    test_data_loader = torch.utils.data.DataLoader(\n",
    "        dataset=test_tensorDataset,\n",
    "        batch_size=1,\n",
    "        shuffle=False,\n",
    "        num_workers=0\n",
    "    )\n",
    "\n",
    "    print('-- Model Architecture --')\n",
    "    print(model)\n",
    "    \n",
    "    # -- Model to CUDA GPU --\n",
    "    #model.to(device)\n",
    "\n",
    "    # -- Since we are predicting prices --> mean squared error is our loss function\n",
    "    loss_func = torch.nn.MSELoss()\n",
    "\n",
    "    # -- Optimizer --> Adam generally works best\n",
    "    # TODO: choose a better learning rate later\n",
    "    optimizer = torch.optim.Adam(model.parameters(), lr=0.001)\n",
    "\n",
    "    total_loss = 0\n",
    "    losses = []\n",
    "    for epoch in (range(100)):\n",
    "        for i, (examples,labels) in tqdm(enumerate(train_data_loader)):\n",
    "\n",
    "            #print(examples , \" ----- \" , labels)\n",
    "            \n",
    "            optimizer.zero_grad()\n",
    "            \n",
    "            # -- Input to CUDA --\n",
    "            #examples = examples.to(device)\n",
    "            #labels = labels.to(device)\n",
    "            \n",
    "            y_predictions = model(examples.float())\n",
    "            loss = loss_func(y_predictions.float(),labels.float())\n",
    "\n",
    "            total_loss += loss.data\n",
    "\n",
    "            # back-prop to update the weights\n",
    "            loss.backward()\n",
    "            # optimizer steps based on lr\n",
    "            optimizer.step()\n",
    "\n",
    "            y_preds = y_predictions.cpu().detach().numpy()\n",
    "            y_preds = torch.tensor(y_preds)\n",
    "            #print(y_preds.shape)\n",
    "            test = un_normalize(y_preds, min_price, max_price)\n",
    "            #print(\"---> \", test)\n",
    "            #break\n",
    "\n",
    "        print ('Epoch [{}/{}], Loss: {}'.format(epoch+1, 100, loss.data))\n",
    "        #print(list(model.parameters()))\n",
    "        print(\"-----------------------------------------------------------------------------\")\n",
    "        losses.append(loss.data)\n",
    "    return losses, test_data_loader, loss_func, model, min_price, max_price, y_test\n",
    "\n",
    "\n",
    "def table_edit(dataframe):\n",
    "    dataframe = dataframe.drop(labels=['1b. open (USD)','2b. high (USD)','3b. low (USD)','4b. close (USD)'],axis=1)\n",
    "    table_col_order = ['1a. open (USD)','2a. high (USD)','3a. low (USD)','5. volume','6. market cap (USD)','4a. close (USD)']\n",
    "    dataframe = dataframe[table_col_order]\n",
    "    return dataframe\n",
    "\n",
    "def loss_visualize(loss_tensor):\n",
    "    losses = np.array(loss_tensor)\n",
    "    print(losses)\n",
    "    \n",
    "    plt.plot(losses)\n",
    "    \n",
    "def validation_test(test_dataloader, criterion, model, norm_min, norm_max):\n",
    "    test_loss = 0\n",
    "    accuracy = 0\n",
    "    all_predictions = []\n",
    "    for (examples, labels) in test_dataloader:\n",
    "        output = model.forward(examples)\n",
    "        \n",
    "        un_normed_outputs = un_normalize(output, norm_min,norm_max)\n",
    "        all_predictions.append(un_normed_outputs.detach())\n",
    "        #print(\"output --> \", un_normed_outputs)\n",
    "        loss = criterion(output, labels).item()\n",
    "        test_loss += loss\n",
    "        \n",
    "        #ps = torch.exp(output)\n",
    "        #equality = (labels.data == ps.max(dim=1)[1])\n",
    "        #accuracy += equality.type(torch.FloatTensor).mean()\n",
    "        \n",
    "        #print('output --> ', un_normed_outputs, ' loss --> ', loss)\n",
    "        \n",
    "    return test_loss, accuracy, all_predictions\n",
    "\n",
    "def un_normalize(norm_val,min_val,max_val,typelist=None):\n",
    "    if(typelist):\n",
    "        for idx,item in enumerate(norm_val):\n",
    "            new_val = item * (max_val - min_val) + min_val\n",
    "            norm_val[idx] = new_val\n",
    "        return norm_val\n",
    "    else:\n",
    "        return norm_val * (max_val - min_val) + min_val  \n",
    "\n",
    "def prediction_visualization(minimum_price,maximum_price,close_prices,model_predictions):\n",
    "      test_values = np.array(un_normalize(norm_val=close_prices,min_val=minimum_price,max_val=maximum_price,typelist=True))\n",
    "      #print(np.array(model_predictions.grad))\n",
    "      #model_predictions[0].requires_grad = False\n",
    "      for idx,item in enumerate(model_predictions):\n",
    "          model_predictions[idx] = np.asscalar(item.numpy())\n",
    "      predicted_values = model_predictions\n",
    "      \n",
    "      print(len(test_values))\n",
    "      print(len(predicted_values))\n",
    "      \n",
    "      plt.plot(np.array(test_values))\n",
    "      plt.plot(np.array(predicted_values))\n",
    "      plt.show()\n",
    "      pass\n",
    "    \n",
    "def volume_visualization(volume):\n",
    "      vol = np.array(volume)\n",
    "      plt.plot(vol)\n",
    "      pass\n",
    "    \n",
    "def VMA_calculation(prices=[]):\n",
    "    prices = np.array(prices)\n",
    "      \n",
    "    n_prices = []\n",
    "    for idx, p in enumerate(prices):\n",
    "        if(idx + 1 == len(prices)):\n",
    "            break\n",
    "        p1 = prices[idx]\n",
    "        p2 = prices[idx+1]\n",
    "        arr = np.array([p1,p2])#,p3,p4,p5,p6,p7,p8,p9,p10,p11])\n",
    "        n_prices.append(arr)\n",
    "\n",
    "    vmas = []\n",
    "    for arr in n_prices:\n",
    "        sum_vol = arr.sum()\n",
    "        vmas.append(sum_vol/2)\n",
    "    \n",
    "    first_ten = vmas[:10]\n",
    "    average_num = np.average(first_ten)\n",
    "    vmas = np.insert(vmas,0,average_num)\n",
    "    \n",
    "    #plt.figure(figsize=(20,10))\n",
    "    #plt.plot(np.array(prices))\n",
    "    #plt.plot(np.array(vmas))\n",
    "    return vmas\n",
    "\n",
    "\n",
    "def vol_dataset_prep(vma,volume,original_volume):\n",
    "    \"\"\"VMA - x_train -- volume -- y_train\"\"\"\n",
    "    print(len(vma))\n",
    "    print(len(volume))\n",
    "    print(len(original_volume))\n",
    "    \n",
    "#     vma = torch.tensor(vma)\n",
    "#     volume = torch.tensor(volume)\n",
    "    \n",
    "    x_train,x_test,y_train,y_test = data_split(vma,volume)\n",
    "    \n",
    "    train_data = torch.utils.data.TensorDataset(torch.from_numpy(x_train),torch.from_numpy(y_train))\n",
    "    test_data = torch.utils.data.TensorDataset(torch.from_numpy(x_test),torch.from_numpy(y_test))\n",
    "    train_dataloader = torch.utils.data.DataLoader(\n",
    "        dataset=train_data,\n",
    "        batch_size=1,\n",
    "        shuffle=False,\n",
    "        num_workers=0\n",
    "    )\n",
    "    test_dataloader = torch.utils.data.DataLoader(\n",
    "        dataset=test_data,\n",
    "        batch_size=1,\n",
    "        shuffle=False,\n",
    "        num_workers=0\n",
    "    )\n",
    "    return x_train,y_train,x_test,y_test,train_dataloader,test_dataloader\n",
    "\n",
    "def vol_train(model, train_dataloader):\n",
    "    loss_func = torch.nn.MSELoss()\n",
    "    optimizer = torch.optim.Adam(model.parameters(),lr=0.001)\n",
    "    \n",
    "    total_loss = 0\n",
    "    losses = []\n",
    "    for epoch in (range(100)):\n",
    "        for i, (examples,labels) in tqdm(enumerate(train_dataloader)):\n",
    "\n",
    "            optimizer.zero_grad()\n",
    "            \n",
    "            y_predictions = model(examples.float())\n",
    "            loss = loss_func(y_predictions.float(),labels.float())\n",
    "\n",
    "            total_loss += loss.data\n",
    "\n",
    "            # back-prop to update the weights\n",
    "            loss.backward()\n",
    "            # optimizer steps based on lr\n",
    "            optimizer.step()\n",
    "\n",
    "            y_preds = y_predictions.cpu().detach().numpy()\n",
    "            y_preds = torch.tensor(y_preds)\n",
    "            #print(y_preds.shape)\n",
    "            #print(\"---> \", test)\n",
    "            #break\n",
    "\n",
    "        print ('Epoch [{}/{}], Loss: {}'.format(epoch+1, 100, loss.data))\n",
    "        #print(list(model.parameters()))\n",
    "        print(\"-----------------------------------------------------------------------------\")\n",
    "        losses.append(loss.data)\n",
    "    return model,loss_func,total_loss,losses\n",
    "\n",
    "def vol_test(model,criterion,test_dataloader,min_val,max_val):\n",
    "    test_loss = 0\n",
    "    accuracy = 0\n",
    "    all_predictions = []\n",
    "    for (examples, labels) in test_dataloader:\n",
    "        output = model.forward(examples.float())\n",
    "        un_normed_outputs = un_normalize(output, min_val,max_val)\n",
    "        all_predictions.append(un_normed_outputs.detach())\n",
    "        loss = criterion(output, labels.float()).item()\n",
    "        test_loss += loss\n",
    "    return test_loss, accuracy, all_predictions\n",
    "\n",
    "def vol_prediction_visualization(predictions,actual,min_val,max_val):\n",
    "    for idx,item in enumerate(predictions):\n",
    "          predictions[idx] = np.asscalar(item.numpy())\n",
    "    print(predictions)\n",
    "    actual = un_normalize(actual,min_val,max_val,typelist=True)\n",
    "    print(actual)\n",
    "    plt.figure(figsize=(20,10))\n",
    "    plt.plot(np.array(actual),color='g')\n",
    "    plt.plot(np.array(predictions),color='#FFA500')\n",
    "      "
   ]
  },
  {
   "cell_type": "code",
   "execution_count": 65,
   "metadata": {
    "colab": {
     "base_uri": "https://localhost:8080/",
     "height": 700
    },
    "colab_type": "code",
    "id": "3hMUGeDkcZnZ",
    "outputId": "e351ab35-4ccf-4f68-c683-bc8b94e82d67"
   },
   "outputs": [
    {
     "name": "stderr",
     "output_type": "stream",
     "text": [
      "56it [00:00, 559.38it/s]"
     ]
    },
    {
     "name": "stdout",
     "output_type": "stream",
     "text": [
      "[ 9667.40442881  9464.30110037 10892.855597   ...   446.81975514\n",
      "   438.37782382   479.0234337 ]\n",
      "113.97640361\n",
      "957152.47872048\n",
      "1934\n",
      "1934\n",
      "1934\n"
     ]
    },
    {
     "name": "stderr",
     "output_type": "stream",
     "text": [
      "1547it [00:02, 727.63it/s]\n",
      "62it [00:00, 616.73it/s]"
     ]
    },
    {
     "name": "stdout",
     "output_type": "stream",
     "text": [
      "Epoch [1/100], Loss: 0.00018247369735036045\n",
      "-----------------------------------------------------------------------------\n"
     ]
    },
    {
     "name": "stderr",
     "output_type": "stream",
     "text": [
      "1547it [00:02, 768.97it/s]\n",
      "50it [00:00, 496.81it/s]"
     ]
    },
    {
     "name": "stdout",
     "output_type": "stream",
     "text": [
      "Epoch [2/100], Loss: 0.00017256016144528985\n",
      "-----------------------------------------------------------------------------\n"
     ]
    },
    {
     "name": "stderr",
     "output_type": "stream",
     "text": [
      "1547it [00:02, 672.47it/s]\n",
      "57it [00:00, 565.72it/s]"
     ]
    },
    {
     "name": "stdout",
     "output_type": "stream",
     "text": [
      "Epoch [3/100], Loss: 0.00018509091751184314\n",
      "-----------------------------------------------------------------------------\n"
     ]
    },
    {
     "name": "stderr",
     "output_type": "stream",
     "text": [
      "1547it [00:02, 673.37it/s]\n",
      "58it [00:00, 563.33it/s]"
     ]
    },
    {
     "name": "stdout",
     "output_type": "stream",
     "text": [
      "Epoch [4/100], Loss: 0.0002120146236848086\n",
      "-----------------------------------------------------------------------------\n"
     ]
    },
    {
     "name": "stderr",
     "output_type": "stream",
     "text": [
      "1547it [00:02, 663.27it/s]\n",
      "58it [00:00, 576.05it/s]"
     ]
    },
    {
     "name": "stdout",
     "output_type": "stream",
     "text": [
      "Epoch [5/100], Loss: 0.00021274339815136045\n",
      "-----------------------------------------------------------------------------\n"
     ]
    },
    {
     "name": "stderr",
     "output_type": "stream",
     "text": [
      "1547it [00:02, 569.97it/s]\n",
      "53it [00:00, 529.70it/s]"
     ]
    },
    {
     "name": "stdout",
     "output_type": "stream",
     "text": [
      "Epoch [6/100], Loss: 0.00020180408318992704\n",
      "-----------------------------------------------------------------------------\n"
     ]
    },
    {
     "name": "stderr",
     "output_type": "stream",
     "text": [
      "1547it [00:02, 690.94it/s]\n",
      "41it [00:00, 406.37it/s]"
     ]
    },
    {
     "name": "stdout",
     "output_type": "stream",
     "text": [
      "Epoch [7/100], Loss: 0.00022251269547268748\n",
      "-----------------------------------------------------------------------------\n"
     ]
    },
    {
     "name": "stderr",
     "output_type": "stream",
     "text": [
      "1547it [00:02, 839.86it/s]\n",
      "52it [00:00, 516.05it/s]"
     ]
    },
    {
     "name": "stdout",
     "output_type": "stream",
     "text": [
      "Epoch [8/100], Loss: 0.00023665519256610423\n",
      "-----------------------------------------------------------------------------\n"
     ]
    },
    {
     "name": "stderr",
     "output_type": "stream",
     "text": [
      "1547it [00:02, 618.71it/s]\n",
      "16it [00:00, 159.81it/s]"
     ]
    },
    {
     "name": "stdout",
     "output_type": "stream",
     "text": [
      "Epoch [9/100], Loss: 0.00023363760556094348\n",
      "-----------------------------------------------------------------------------\n"
     ]
    },
    {
     "name": "stderr",
     "output_type": "stream",
     "text": [
      "1547it [00:02, 517.83it/s]\n",
      "58it [00:00, 575.10it/s]"
     ]
    },
    {
     "name": "stdout",
     "output_type": "stream",
     "text": [
      "Epoch [10/100], Loss: 0.00026547969901002944\n",
      "-----------------------------------------------------------------------------\n"
     ]
    },
    {
     "name": "stderr",
     "output_type": "stream",
     "text": [
      "1547it [00:04, 335.01it/s]\n",
      "41it [00:00, 406.62it/s]"
     ]
    },
    {
     "name": "stdout",
     "output_type": "stream",
     "text": [
      "Epoch [11/100], Loss: 0.00024031056091189384\n",
      "-----------------------------------------------------------------------------\n"
     ]
    },
    {
     "name": "stderr",
     "output_type": "stream",
     "text": [
      "1547it [00:02, 672.89it/s]\n",
      "57it [00:00, 566.78it/s]"
     ]
    },
    {
     "name": "stdout",
     "output_type": "stream",
     "text": [
      "Epoch [12/100], Loss: 0.0002428101870464161\n",
      "-----------------------------------------------------------------------------\n"
     ]
    },
    {
     "name": "stderr",
     "output_type": "stream",
     "text": [
      "1547it [00:02, 674.43it/s]\n",
      "43it [00:00, 426.29it/s]"
     ]
    },
    {
     "name": "stdout",
     "output_type": "stream",
     "text": [
      "Epoch [13/100], Loss: 0.00022194624762050807\n",
      "-----------------------------------------------------------------------------\n"
     ]
    },
    {
     "name": "stderr",
     "output_type": "stream",
     "text": [
      "1547it [00:01, 799.80it/s]\n",
      "44it [00:00, 436.31it/s]"
     ]
    },
    {
     "name": "stdout",
     "output_type": "stream",
     "text": [
      "Epoch [14/100], Loss: 0.0002693292044568807\n",
      "-----------------------------------------------------------------------------\n"
     ]
    },
    {
     "name": "stderr",
     "output_type": "stream",
     "text": [
      "1547it [00:01, 805.25it/s]\n",
      "52it [00:00, 514.65it/s]"
     ]
    },
    {
     "name": "stdout",
     "output_type": "stream",
     "text": [
      "Epoch [15/100], Loss: 0.0001695840765023604\n",
      "-----------------------------------------------------------------------------\n"
     ]
    },
    {
     "name": "stderr",
     "output_type": "stream",
     "text": [
      "1547it [00:01, 792.41it/s]\n",
      "53it [00:00, 529.86it/s]"
     ]
    },
    {
     "name": "stdout",
     "output_type": "stream",
     "text": [
      "Epoch [16/100], Loss: 0.00027527083875611424\n",
      "-----------------------------------------------------------------------------\n"
     ]
    },
    {
     "name": "stderr",
     "output_type": "stream",
     "text": [
      "1547it [00:01, 786.13it/s]\n",
      "61it [00:00, 608.93it/s]"
     ]
    },
    {
     "name": "stdout",
     "output_type": "stream",
     "text": [
      "Epoch [17/100], Loss: 0.00022115510364528745\n",
      "-----------------------------------------------------------------------------\n"
     ]
    },
    {
     "name": "stderr",
     "output_type": "stream",
     "text": [
      "1547it [00:02, 745.00it/s]\n",
      "55it [00:00, 548.70it/s]"
     ]
    },
    {
     "name": "stdout",
     "output_type": "stream",
     "text": [
      "Epoch [18/100], Loss: 0.00029715141863562167\n",
      "-----------------------------------------------------------------------------\n"
     ]
    },
    {
     "name": "stderr",
     "output_type": "stream",
     "text": [
      "1547it [00:02, 659.59it/s]\n",
      "77it [00:00, 767.86it/s]"
     ]
    },
    {
     "name": "stdout",
     "output_type": "stream",
     "text": [
      "Epoch [19/100], Loss: 0.00018968942458741367\n",
      "-----------------------------------------------------------------------------\n"
     ]
    },
    {
     "name": "stderr",
     "output_type": "stream",
     "text": [
      "1547it [00:02, 665.97it/s]\n",
      "40it [00:00, 396.48it/s]"
     ]
    },
    {
     "name": "stdout",
     "output_type": "stream",
     "text": [
      "Epoch [20/100], Loss: 0.0003790469199884683\n",
      "-----------------------------------------------------------------------------\n"
     ]
    },
    {
     "name": "stderr",
     "output_type": "stream",
     "text": [
      "1547it [00:02, 704.27it/s]\n",
      "88it [00:00, 875.56it/s]"
     ]
    },
    {
     "name": "stdout",
     "output_type": "stream",
     "text": [
      "Epoch [21/100], Loss: 0.0002182462631026283\n",
      "-----------------------------------------------------------------------------\n"
     ]
    },
    {
     "name": "stderr",
     "output_type": "stream",
     "text": [
      "1547it [00:02, 697.71it/s]\n",
      "89it [00:00, 881.10it/s]"
     ]
    },
    {
     "name": "stdout",
     "output_type": "stream",
     "text": [
      "Epoch [22/100], Loss: 0.00035392920835874975\n",
      "-----------------------------------------------------------------------------\n"
     ]
    },
    {
     "name": "stderr",
     "output_type": "stream",
     "text": [
      "1547it [00:02, 585.94it/s]\n",
      "83it [00:00, 825.76it/s]"
     ]
    },
    {
     "name": "stdout",
     "output_type": "stream",
     "text": [
      "Epoch [23/100], Loss: 0.00021402853599283844\n",
      "-----------------------------------------------------------------------------\n"
     ]
    },
    {
     "name": "stderr",
     "output_type": "stream",
     "text": [
      "1547it [00:01, 854.58it/s]\n",
      "79it [00:00, 783.38it/s]"
     ]
    },
    {
     "name": "stdout",
     "output_type": "stream",
     "text": [
      "Epoch [24/100], Loss: 0.0003259614750277251\n",
      "-----------------------------------------------------------------------------\n"
     ]
    },
    {
     "name": "stderr",
     "output_type": "stream",
     "text": [
      "1547it [00:01, 829.85it/s]\n",
      "86it [00:00, 857.72it/s]"
     ]
    },
    {
     "name": "stdout",
     "output_type": "stream",
     "text": [
      "Epoch [25/100], Loss: 0.0002038311358774081\n",
      "-----------------------------------------------------------------------------\n"
     ]
    },
    {
     "name": "stderr",
     "output_type": "stream",
     "text": [
      "1547it [00:01, 849.62it/s]\n",
      "85it [00:00, 841.74it/s]"
     ]
    },
    {
     "name": "stdout",
     "output_type": "stream",
     "text": [
      "Epoch [26/100], Loss: 0.0003084985073655844\n",
      "-----------------------------------------------------------------------------\n"
     ]
    },
    {
     "name": "stderr",
     "output_type": "stream",
     "text": [
      "1547it [00:01, 859.72it/s]\n",
      "79it [00:00, 787.43it/s]"
     ]
    },
    {
     "name": "stdout",
     "output_type": "stream",
     "text": [
      "Epoch [27/100], Loss: 0.00021444991580210626\n",
      "-----------------------------------------------------------------------------\n"
     ]
    },
    {
     "name": "stderr",
     "output_type": "stream",
     "text": [
      "1547it [00:01, 786.18it/s]\n",
      "67it [00:00, 667.54it/s]"
     ]
    },
    {
     "name": "stdout",
     "output_type": "stream",
     "text": [
      "Epoch [28/100], Loss: 0.0002966299362014979\n",
      "-----------------------------------------------------------------------------\n"
     ]
    },
    {
     "name": "stderr",
     "output_type": "stream",
     "text": [
      "1547it [00:01, 847.68it/s]\n",
      "93it [00:00, 922.15it/s]"
     ]
    },
    {
     "name": "stdout",
     "output_type": "stream",
     "text": [
      "Epoch [29/100], Loss: 0.00022971701400820166\n",
      "-----------------------------------------------------------------------------\n"
     ]
    },
    {
     "name": "stderr",
     "output_type": "stream",
     "text": [
      "1547it [00:01, 807.71it/s]\n",
      "51it [00:00, 509.26it/s]"
     ]
    },
    {
     "name": "stdout",
     "output_type": "stream",
     "text": [
      "Epoch [30/100], Loss: 0.0004890919663012028\n",
      "-----------------------------------------------------------------------------\n"
     ]
    },
    {
     "name": "stderr",
     "output_type": "stream",
     "text": [
      "1547it [00:01, 828.32it/s]\n",
      "87it [00:00, 869.82it/s]"
     ]
    },
    {
     "name": "stdout",
     "output_type": "stream",
     "text": [
      "Epoch [31/100], Loss: 0.0002518648689147085\n",
      "-----------------------------------------------------------------------------\n"
     ]
    },
    {
     "name": "stderr",
     "output_type": "stream",
     "text": [
      "1547it [00:02, 739.74it/s]\n",
      "86it [00:00, 854.53it/s]"
     ]
    },
    {
     "name": "stdout",
     "output_type": "stream",
     "text": [
      "Epoch [32/100], Loss: 0.0002653243427630514\n",
      "-----------------------------------------------------------------------------\n"
     ]
    },
    {
     "name": "stderr",
     "output_type": "stream",
     "text": [
      "1547it [00:01, 845.91it/s]\n",
      "74it [00:00, 738.84it/s]"
     ]
    },
    {
     "name": "stdout",
     "output_type": "stream",
     "text": [
      "Epoch [33/100], Loss: 0.00027821873663924634\n",
      "-----------------------------------------------------------------------------\n"
     ]
    },
    {
     "name": "stderr",
     "output_type": "stream",
     "text": [
      "1547it [00:02, 767.90it/s]\n",
      "69it [00:00, 677.14it/s]"
     ]
    },
    {
     "name": "stdout",
     "output_type": "stream",
     "text": [
      "Epoch [34/100], Loss: 0.0002152327069779858\n",
      "-----------------------------------------------------------------------------\n"
     ]
    },
    {
     "name": "stderr",
     "output_type": "stream",
     "text": [
      "1547it [00:02, 701.84it/s]\n",
      "65it [00:00, 645.36it/s]"
     ]
    },
    {
     "name": "stdout",
     "output_type": "stream",
     "text": [
      "Epoch [35/100], Loss: 0.00032578984973952174\n",
      "-----------------------------------------------------------------------------\n"
     ]
    },
    {
     "name": "stderr",
     "output_type": "stream",
     "text": [
      "1547it [00:02, 687.96it/s]\n",
      "35it [00:00, 347.50it/s]"
     ]
    },
    {
     "name": "stdout",
     "output_type": "stream",
     "text": [
      "Epoch [36/100], Loss: 0.00022775160323362797\n",
      "-----------------------------------------------------------------------------\n"
     ]
    },
    {
     "name": "stderr",
     "output_type": "stream",
     "text": [
      "1547it [00:04, 314.43it/s]\n",
      "59it [00:00, 587.47it/s]"
     ]
    },
    {
     "name": "stdout",
     "output_type": "stream",
     "text": [
      "Epoch [37/100], Loss: 0.0002603509637992829\n",
      "-----------------------------------------------------------------------------\n"
     ]
    },
    {
     "name": "stderr",
     "output_type": "stream",
     "text": [
      "1547it [00:02, 531.71it/s]\n",
      "60it [00:00, 591.68it/s]"
     ]
    },
    {
     "name": "stdout",
     "output_type": "stream",
     "text": [
      "Epoch [38/100], Loss: 0.0002813865430653095\n",
      "-----------------------------------------------------------------------------\n"
     ]
    },
    {
     "name": "stderr",
     "output_type": "stream",
     "text": [
      "1547it [00:02, 628.35it/s]\n",
      "29it [00:00, 285.48it/s]"
     ]
    },
    {
     "name": "stdout",
     "output_type": "stream",
     "text": [
      "Epoch [39/100], Loss: 0.00018899801943916827\n",
      "-----------------------------------------------------------------------------\n"
     ]
    },
    {
     "name": "stderr",
     "output_type": "stream",
     "text": [
      "1547it [00:02, 664.06it/s]\n",
      "78it [00:00, 773.73it/s]"
     ]
    },
    {
     "name": "stdout",
     "output_type": "stream",
     "text": [
      "Epoch [40/100], Loss: 0.0003108049277216196\n",
      "-----------------------------------------------------------------------------\n"
     ]
    },
    {
     "name": "stderr",
     "output_type": "stream",
     "text": [
      "1547it [00:02, 594.25it/s]\n",
      "82it [00:00, 811.26it/s]"
     ]
    },
    {
     "name": "stdout",
     "output_type": "stream",
     "text": [
      "Epoch [41/100], Loss: 0.0002145498729078099\n",
      "-----------------------------------------------------------------------------\n"
     ]
    },
    {
     "name": "stderr",
     "output_type": "stream",
     "text": [
      "1547it [00:01, 875.50it/s]\n",
      "83it [00:00, 827.57it/s]"
     ]
    },
    {
     "name": "stdout",
     "output_type": "stream",
     "text": [
      "Epoch [42/100], Loss: 0.00030152566614560783\n",
      "-----------------------------------------------------------------------------\n"
     ]
    },
    {
     "name": "stderr",
     "output_type": "stream",
     "text": [
      "1547it [00:02, 744.36it/s]\n",
      "85it [00:00, 843.60it/s]"
     ]
    },
    {
     "name": "stdout",
     "output_type": "stream",
     "text": [
      "Epoch [43/100], Loss: 0.0002160977601306513\n",
      "-----------------------------------------------------------------------------\n"
     ]
    },
    {
     "name": "stderr",
     "output_type": "stream",
     "text": [
      "1547it [00:01, 891.69it/s]\n",
      "105it [00:00, 1040.91it/s]"
     ]
    },
    {
     "name": "stdout",
     "output_type": "stream",
     "text": [
      "Epoch [44/100], Loss: 0.0003017487470060587\n",
      "-----------------------------------------------------------------------------\n"
     ]
    },
    {
     "name": "stderr",
     "output_type": "stream",
     "text": [
      "1547it [00:01, 887.70it/s]\n",
      "72it [00:00, 714.82it/s]"
     ]
    },
    {
     "name": "stdout",
     "output_type": "stream",
     "text": [
      "Epoch [45/100], Loss: 0.00022102326329331845\n",
      "-----------------------------------------------------------------------------\n"
     ]
    },
    {
     "name": "stderr",
     "output_type": "stream",
     "text": [
      "1547it [00:01, 780.75it/s]\n",
      "85it [00:00, 845.91it/s]"
     ]
    },
    {
     "name": "stdout",
     "output_type": "stream",
     "text": [
      "Epoch [46/100], Loss: 0.0002774946915451437\n",
      "-----------------------------------------------------------------------------\n"
     ]
    },
    {
     "name": "stderr",
     "output_type": "stream",
     "text": [
      "1547it [00:01, 841.57it/s]\n",
      "26it [00:00, 254.69it/s]"
     ]
    },
    {
     "name": "stdout",
     "output_type": "stream",
     "text": [
      "Epoch [47/100], Loss: 0.000277700019069016\n",
      "-----------------------------------------------------------------------------\n"
     ]
    },
    {
     "name": "stderr",
     "output_type": "stream",
     "text": [
      "1547it [00:02, 634.45it/s]\n",
      "88it [00:00, 879.76it/s]"
     ]
    },
    {
     "name": "stdout",
     "output_type": "stream",
     "text": [
      "Epoch [48/100], Loss: 0.00022279152472037822\n",
      "-----------------------------------------------------------------------------\n"
     ]
    },
    {
     "name": "stderr",
     "output_type": "stream",
     "text": [
      "1547it [00:02, 562.67it/s]\n",
      "49it [00:00, 471.74it/s]"
     ]
    },
    {
     "name": "stdout",
     "output_type": "stream",
     "text": [
      "Epoch [49/100], Loss: 0.0002666884975042194\n",
      "-----------------------------------------------------------------------------\n"
     ]
    },
    {
     "name": "stderr",
     "output_type": "stream",
     "text": [
      "1547it [00:02, 653.36it/s]\n",
      "90it [00:00, 896.86it/s]"
     ]
    },
    {
     "name": "stdout",
     "output_type": "stream",
     "text": [
      "Epoch [50/100], Loss: 0.00023222122399602085\n",
      "-----------------------------------------------------------------------------\n"
     ]
    },
    {
     "name": "stderr",
     "output_type": "stream",
     "text": [
      "1547it [00:01, 867.86it/s]\n",
      "84it [00:00, 826.94it/s]"
     ]
    },
    {
     "name": "stdout",
     "output_type": "stream",
     "text": [
      "Epoch [51/100], Loss: 0.0002653549308888614\n",
      "-----------------------------------------------------------------------------\n"
     ]
    },
    {
     "name": "stderr",
     "output_type": "stream",
     "text": [
      "1547it [00:01, 835.48it/s]\n",
      "53it [00:00, 512.89it/s]"
     ]
    },
    {
     "name": "stdout",
     "output_type": "stream",
     "text": [
      "Epoch [52/100], Loss: 0.0002807042910717428\n",
      "-----------------------------------------------------------------------------\n"
     ]
    },
    {
     "name": "stderr",
     "output_type": "stream",
     "text": [
      "1547it [00:02, 768.29it/s]\n",
      "75it [00:00, 744.03it/s]"
     ]
    },
    {
     "name": "stdout",
     "output_type": "stream",
     "text": [
      "Epoch [53/100], Loss: 0.0002073543582810089\n",
      "-----------------------------------------------------------------------------\n"
     ]
    },
    {
     "name": "stderr",
     "output_type": "stream",
     "text": [
      "1547it [00:01, 876.97it/s]\n",
      "81it [00:00, 805.27it/s]"
     ]
    },
    {
     "name": "stdout",
     "output_type": "stream",
     "text": [
      "Epoch [54/100], Loss: 0.00028234143974259496\n",
      "-----------------------------------------------------------------------------\n"
     ]
    },
    {
     "name": "stderr",
     "output_type": "stream",
     "text": [
      "1547it [00:02, 704.56it/s]\n",
      "56it [00:00, 558.69it/s]"
     ]
    },
    {
     "name": "stdout",
     "output_type": "stream",
     "text": [
      "Epoch [55/100], Loss: 0.00021661064238287508\n",
      "-----------------------------------------------------------------------------\n"
     ]
    },
    {
     "name": "stderr",
     "output_type": "stream",
     "text": [
      "1547it [00:01, 808.25it/s]\n",
      "70it [00:00, 696.35it/s]"
     ]
    },
    {
     "name": "stdout",
     "output_type": "stream",
     "text": [
      "Epoch [56/100], Loss: 0.00026155670639127493\n",
      "-----------------------------------------------------------------------------\n"
     ]
    },
    {
     "name": "stderr",
     "output_type": "stream",
     "text": [
      "1547it [00:01, 856.69it/s]\n",
      "82it [00:00, 814.57it/s]"
     ]
    },
    {
     "name": "stdout",
     "output_type": "stream",
     "text": [
      "Epoch [57/100], Loss: 0.00021485380420926958\n",
      "-----------------------------------------------------------------------------\n"
     ]
    },
    {
     "name": "stderr",
     "output_type": "stream",
     "text": [
      "1547it [00:01, 847.34it/s]\n",
      "91it [00:00, 901.33it/s]"
     ]
    },
    {
     "name": "stdout",
     "output_type": "stream",
     "text": [
      "Epoch [58/100], Loss: 0.000279304978903383\n",
      "-----------------------------------------------------------------------------\n"
     ]
    },
    {
     "name": "stderr",
     "output_type": "stream",
     "text": [
      "1547it [00:01, 861.90it/s]\n",
      "93it [00:00, 927.40it/s]"
     ]
    },
    {
     "name": "stdout",
     "output_type": "stream",
     "text": [
      "Epoch [59/100], Loss: 0.00022042045020498335\n",
      "-----------------------------------------------------------------------------\n"
     ]
    },
    {
     "name": "stderr",
     "output_type": "stream",
     "text": [
      "1547it [00:02, 738.31it/s]\n",
      "90it [00:00, 891.83it/s]"
     ]
    },
    {
     "name": "stdout",
     "output_type": "stream",
     "text": [
      "Epoch [60/100], Loss: 0.000253279140451923\n",
      "-----------------------------------------------------------------------------\n"
     ]
    },
    {
     "name": "stderr",
     "output_type": "stream",
     "text": [
      "1547it [00:02, 716.55it/s]\n",
      "94it [00:00, 931.59it/s]"
     ]
    },
    {
     "name": "stdout",
     "output_type": "stream",
     "text": [
      "Epoch [61/100], Loss: 0.0002257057640235871\n",
      "-----------------------------------------------------------------------------\n"
     ]
    },
    {
     "name": "stderr",
     "output_type": "stream",
     "text": [
      "1547it [00:02, 751.60it/s]\n",
      "85it [00:00, 843.60it/s]"
     ]
    },
    {
     "name": "stdout",
     "output_type": "stream",
     "text": [
      "Epoch [62/100], Loss: 0.00026700273156166077\n",
      "-----------------------------------------------------------------------------\n"
     ]
    },
    {
     "name": "stderr",
     "output_type": "stream",
     "text": [
      "1547it [00:02, 691.19it/s]\n",
      "75it [00:00, 745.60it/s]"
     ]
    },
    {
     "name": "stdout",
     "output_type": "stream",
     "text": [
      "Epoch [63/100], Loss: 0.00021536805434152484\n",
      "-----------------------------------------------------------------------------\n"
     ]
    },
    {
     "name": "stderr",
     "output_type": "stream",
     "text": [
      "1547it [00:03, 417.42it/s]\n",
      "63it [00:00, 622.75it/s]"
     ]
    },
    {
     "name": "stdout",
     "output_type": "stream",
     "text": [
      "Epoch [64/100], Loss: 0.00025977447512559593\n",
      "-----------------------------------------------------------------------------\n"
     ]
    },
    {
     "name": "stderr",
     "output_type": "stream",
     "text": [
      "1547it [00:03, 464.16it/s]\n",
      "21it [00:00, 205.94it/s]"
     ]
    },
    {
     "name": "stdout",
     "output_type": "stream",
     "text": [
      "Epoch [65/100], Loss: 0.000200777460122481\n",
      "-----------------------------------------------------------------------------\n"
     ]
    },
    {
     "name": "stderr",
     "output_type": "stream",
     "text": [
      "1547it [00:02, 739.96it/s]\n",
      "80it [00:00, 795.03it/s]"
     ]
    },
    {
     "name": "stdout",
     "output_type": "stream",
     "text": [
      "Epoch [66/100], Loss: 0.0003631334111560136\n",
      "-----------------------------------------------------------------------------\n"
     ]
    },
    {
     "name": "stderr",
     "output_type": "stream",
     "text": [
      "1547it [00:02, 715.97it/s]\n",
      "80it [00:00, 793.11it/s]"
     ]
    },
    {
     "name": "stdout",
     "output_type": "stream",
     "text": [
      "Epoch [67/100], Loss: 0.0001717808045214042\n",
      "-----------------------------------------------------------------------------\n"
     ]
    },
    {
     "name": "stderr",
     "output_type": "stream",
     "text": [
      "1547it [00:01, 926.65it/s]\n",
      "86it [00:00, 845.68it/s]"
     ]
    },
    {
     "name": "stdout",
     "output_type": "stream",
     "text": [
      "Epoch [68/100], Loss: 0.00033305963734164834\n",
      "-----------------------------------------------------------------------------\n"
     ]
    },
    {
     "name": "stderr",
     "output_type": "stream",
     "text": [
      "1547it [00:02, 761.01it/s]\n",
      "66it [00:00, 653.67it/s]"
     ]
    },
    {
     "name": "stdout",
     "output_type": "stream",
     "text": [
      "Epoch [69/100], Loss: 0.0002499496622476727\n",
      "-----------------------------------------------------------------------------\n"
     ]
    },
    {
     "name": "stderr",
     "output_type": "stream",
     "text": [
      "1547it [00:02, 693.66it/s]\n",
      "65it [00:00, 645.20it/s]"
     ]
    },
    {
     "name": "stdout",
     "output_type": "stream",
     "text": [
      "Epoch [70/100], Loss: 0.00027964203036390245\n",
      "-----------------------------------------------------------------------------\n"
     ]
    },
    {
     "name": "stderr",
     "output_type": "stream",
     "text": [
      "1547it [00:02, 707.00it/s]\n",
      "62it [00:00, 616.34it/s]"
     ]
    },
    {
     "name": "stdout",
     "output_type": "stream",
     "text": [
      "Epoch [71/100], Loss: 0.0002288250980200246\n",
      "-----------------------------------------------------------------------------\n"
     ]
    },
    {
     "name": "stderr",
     "output_type": "stream",
     "text": [
      "1547it [00:01, 796.41it/s]\n",
      "82it [00:00, 812.87it/s]"
     ]
    },
    {
     "name": "stdout",
     "output_type": "stream",
     "text": [
      "Epoch [72/100], Loss: 0.0002889335446525365\n",
      "-----------------------------------------------------------------------------\n"
     ]
    },
    {
     "name": "stderr",
     "output_type": "stream",
     "text": [
      "1547it [00:01, 857.31it/s]\n",
      "82it [00:00, 816.82it/s]"
     ]
    },
    {
     "name": "stdout",
     "output_type": "stream",
     "text": [
      "Epoch [73/100], Loss: 0.00022249558242037892\n",
      "-----------------------------------------------------------------------------\n"
     ]
    },
    {
     "name": "stderr",
     "output_type": "stream",
     "text": [
      "1547it [00:02, 723.27it/s]\n",
      "69it [00:00, 685.83it/s]"
     ]
    },
    {
     "name": "stdout",
     "output_type": "stream",
     "text": [
      "Epoch [74/100], Loss: 0.0003454971010796726\n",
      "-----------------------------------------------------------------------------\n"
     ]
    },
    {
     "name": "stderr",
     "output_type": "stream",
     "text": [
      "1547it [00:02, 726.31it/s]\n",
      "74it [00:00, 735.77it/s]"
     ]
    },
    {
     "name": "stdout",
     "output_type": "stream",
     "text": [
      "Epoch [75/100], Loss: 0.00021272101730573922\n",
      "-----------------------------------------------------------------------------\n"
     ]
    },
    {
     "name": "stderr",
     "output_type": "stream",
     "text": [
      "1547it [00:01, 818.30it/s]\n",
      "83it [00:00, 822.64it/s]"
     ]
    },
    {
     "name": "stdout",
     "output_type": "stream",
     "text": [
      "Epoch [76/100], Loss: 0.00036549492506310344\n",
      "-----------------------------------------------------------------------------\n"
     ]
    },
    {
     "name": "stderr",
     "output_type": "stream",
     "text": [
      "1547it [00:02, 768.34it/s]\n",
      "80it [00:00, 794.20it/s]"
     ]
    },
    {
     "name": "stdout",
     "output_type": "stream",
     "text": [
      "Epoch [77/100], Loss: 0.00021188033861108124\n",
      "-----------------------------------------------------------------------------\n"
     ]
    },
    {
     "name": "stderr",
     "output_type": "stream",
     "text": [
      "1547it [00:01, 778.65it/s]\n",
      "84it [00:00, 839.46it/s]"
     ]
    },
    {
     "name": "stdout",
     "output_type": "stream",
     "text": [
      "Epoch [78/100], Loss: 0.00038531378959305584\n",
      "-----------------------------------------------------------------------------\n"
     ]
    },
    {
     "name": "stderr",
     "output_type": "stream",
     "text": [
      "1547it [00:01, 807.14it/s]\n",
      "85it [00:00, 846.26it/s]"
     ]
    },
    {
     "name": "stdout",
     "output_type": "stream",
     "text": [
      "Epoch [79/100], Loss: 0.0002376687916694209\n",
      "-----------------------------------------------------------------------------\n"
     ]
    },
    {
     "name": "stderr",
     "output_type": "stream",
     "text": [
      "1547it [00:01, 861.92it/s]\n",
      "84it [00:00, 832.55it/s]"
     ]
    },
    {
     "name": "stdout",
     "output_type": "stream",
     "text": [
      "Epoch [80/100], Loss: 0.00027986409259028733\n",
      "-----------------------------------------------------------------------------\n"
     ]
    },
    {
     "name": "stderr",
     "output_type": "stream",
     "text": [
      "1547it [00:01, 854.72it/s]\n",
      "66it [00:00, 652.73it/s]"
     ]
    },
    {
     "name": "stdout",
     "output_type": "stream",
     "text": [
      "Epoch [81/100], Loss: 0.00022875996364746243\n",
      "-----------------------------------------------------------------------------\n"
     ]
    },
    {
     "name": "stderr",
     "output_type": "stream",
     "text": [
      "1547it [00:01, 830.74it/s]\n",
      "83it [00:00, 826.65it/s]"
     ]
    },
    {
     "name": "stdout",
     "output_type": "stream",
     "text": [
      "Epoch [82/100], Loss: 0.0003998416068498045\n",
      "-----------------------------------------------------------------------------\n"
     ]
    },
    {
     "name": "stderr",
     "output_type": "stream",
     "text": [
      "1547it [00:01, 843.15it/s]\n",
      "82it [00:00, 817.86it/s]"
     ]
    },
    {
     "name": "stdout",
     "output_type": "stream",
     "text": [
      "Epoch [83/100], Loss: 0.0002174867840949446\n",
      "-----------------------------------------------------------------------------\n"
     ]
    },
    {
     "name": "stderr",
     "output_type": "stream",
     "text": [
      "1547it [00:01, 842.01it/s]\n",
      "71it [00:00, 702.06it/s]"
     ]
    },
    {
     "name": "stdout",
     "output_type": "stream",
     "text": [
      "Epoch [84/100], Loss: 0.0003040769079234451\n",
      "-----------------------------------------------------------------------------\n"
     ]
    },
    {
     "name": "stderr",
     "output_type": "stream",
     "text": [
      "1547it [00:03, 478.94it/s]\n",
      "25it [00:00, 249.88it/s]"
     ]
    },
    {
     "name": "stdout",
     "output_type": "stream",
     "text": [
      "Epoch [85/100], Loss: 0.0003890733642037958\n",
      "-----------------------------------------------------------------------------\n"
     ]
    },
    {
     "name": "stderr",
     "output_type": "stream",
     "text": [
      "1547it [00:02, 588.36it/s]\n",
      "97it [00:00, 967.87it/s]"
     ]
    },
    {
     "name": "stdout",
     "output_type": "stream",
     "text": [
      "Epoch [86/100], Loss: 0.0002579169813543558\n",
      "-----------------------------------------------------------------------------\n"
     ]
    },
    {
     "name": "stderr",
     "output_type": "stream",
     "text": [
      "1547it [00:01, 822.67it/s]\n",
      "76it [00:00, 756.62it/s]"
     ]
    },
    {
     "name": "stdout",
     "output_type": "stream",
     "text": [
      "Epoch [87/100], Loss: 0.00034130262793041766\n",
      "-----------------------------------------------------------------------------\n"
     ]
    },
    {
     "name": "stderr",
     "output_type": "stream",
     "text": [
      "1547it [00:02, 535.92it/s]\n",
      "79it [00:00, 786.37it/s]"
     ]
    },
    {
     "name": "stdout",
     "output_type": "stream",
     "text": [
      "Epoch [88/100], Loss: 0.000236418898566626\n",
      "-----------------------------------------------------------------------------\n"
     ]
    },
    {
     "name": "stderr",
     "output_type": "stream",
     "text": [
      "1547it [00:02, 598.00it/s]\n",
      "52it [00:00, 514.17it/s]"
     ]
    },
    {
     "name": "stdout",
     "output_type": "stream",
     "text": [
      "Epoch [89/100], Loss: 0.00031006141216494143\n",
      "-----------------------------------------------------------------------------\n"
     ]
    },
    {
     "name": "stderr",
     "output_type": "stream",
     "text": [
      "1547it [00:02, 730.82it/s]\n",
      "84it [00:00, 836.30it/s]"
     ]
    },
    {
     "name": "stdout",
     "output_type": "stream",
     "text": [
      "Epoch [90/100], Loss: 0.00023799051996320486\n",
      "-----------------------------------------------------------------------------\n"
     ]
    },
    {
     "name": "stderr",
     "output_type": "stream",
     "text": [
      "1547it [00:01, 860.52it/s]\n",
      "96it [00:00, 954.27it/s]"
     ]
    },
    {
     "name": "stdout",
     "output_type": "stream",
     "text": [
      "Epoch [91/100], Loss: 0.00031050763209350407\n",
      "-----------------------------------------------------------------------------\n"
     ]
    },
    {
     "name": "stderr",
     "output_type": "stream",
     "text": [
      "1547it [00:02, 705.11it/s]\n",
      "84it [00:00, 838.93it/s]"
     ]
    },
    {
     "name": "stdout",
     "output_type": "stream",
     "text": [
      "Epoch [92/100], Loss: 0.00025190412998199463\n",
      "-----------------------------------------------------------------------------\n"
     ]
    },
    {
     "name": "stderr",
     "output_type": "stream",
     "text": [
      "1547it [00:02, 521.92it/s]\n",
      "90it [00:00, 899.99it/s]"
     ]
    },
    {
     "name": "stdout",
     "output_type": "stream",
     "text": [
      "Epoch [93/100], Loss: 0.00030399556271731853\n",
      "-----------------------------------------------------------------------------\n"
     ]
    },
    {
     "name": "stderr",
     "output_type": "stream",
     "text": [
      "1547it [00:02, 756.79it/s]\n",
      "70it [00:00, 689.14it/s]"
     ]
    },
    {
     "name": "stdout",
     "output_type": "stream",
     "text": [
      "Epoch [94/100], Loss: 0.0002483047137502581\n",
      "-----------------------------------------------------------------------------\n"
     ]
    },
    {
     "name": "stderr",
     "output_type": "stream",
     "text": [
      "1547it [00:02, 752.01it/s]\n",
      "69it [00:00, 676.82it/s]"
     ]
    },
    {
     "name": "stdout",
     "output_type": "stream",
     "text": [
      "Epoch [95/100], Loss: 0.00029826725949533284\n",
      "-----------------------------------------------------------------------------\n"
     ]
    },
    {
     "name": "stderr",
     "output_type": "stream",
     "text": [
      "1547it [00:02, 732.28it/s]\n",
      "78it [00:00, 777.22it/s]"
     ]
    },
    {
     "name": "stdout",
     "output_type": "stream",
     "text": [
      "Epoch [96/100], Loss: 0.00022090188576839864\n",
      "-----------------------------------------------------------------------------\n"
     ]
    },
    {
     "name": "stderr",
     "output_type": "stream",
     "text": [
      "1547it [00:02, 568.59it/s]\n",
      "95it [00:00, 941.29it/s]"
     ]
    },
    {
     "name": "stdout",
     "output_type": "stream",
     "text": [
      "Epoch [97/100], Loss: 0.0003184359520673752\n",
      "-----------------------------------------------------------------------------\n"
     ]
    },
    {
     "name": "stderr",
     "output_type": "stream",
     "text": [
      "1547it [00:01, 863.02it/s]\n",
      "92it [00:00, 919.40it/s]"
     ]
    },
    {
     "name": "stdout",
     "output_type": "stream",
     "text": [
      "Epoch [98/100], Loss: 0.00023001951922196895\n",
      "-----------------------------------------------------------------------------\n"
     ]
    },
    {
     "name": "stderr",
     "output_type": "stream",
     "text": [
      "1547it [00:01, 798.43it/s]\n",
      "93it [00:00, 928.53it/s]"
     ]
    },
    {
     "name": "stdout",
     "output_type": "stream",
     "text": [
      "Epoch [99/100], Loss: 0.0003220850194338709\n",
      "-----------------------------------------------------------------------------\n"
     ]
    },
    {
     "name": "stderr",
     "output_type": "stream",
     "text": [
      "1547it [00:01, 799.63it/s]\n"
     ]
    },
    {
     "name": "stdout",
     "output_type": "stream",
     "text": [
      "Epoch [100/100], Loss: 0.00023278016305994242\n",
      "-----------------------------------------------------------------------------\n",
      "[81701.34375, 96857.6015625, 87342.046875, 70880.921875, 61733.453125, 72072.828125, 93971.1484375, 97608.71875, 113114.015625, 130317.828125, 90521.8984375, 59215.2109375, 89001.84375, 96410.6328125, 96890.4921875, 90596.1328125, 72653.4140625, 74497.8203125, 61166.84375, 68244.9609375, 92396.421875, 92075.3125, 86456.46875, 91234.9296875, 93510.21875, 79699.3984375, 71855.09375, 90033.453125, 121773.140625, 151257.640625, 126569.5078125, 80889.421875, 69370.296875, 71530.5078125, 135478.0, 207487.484375, 146549.84375, 79891.078125, 63666.97265625, 66116.5546875, 98657.28125, 98065.796875, 84760.3359375, 130860.0, 169756.0, 110953.8046875, 64182.69140625, 87670.4609375, 124292.7734375, 143674.78125, 161410.3125, 162138.25, 123171.40625, 79717.234375, 118584.8125, 120922.03125, 61366.36328125, 62890.60546875, 72972.4140625, 81256.984375, 72072.453125, 80949.8125, 93254.2265625, 99086.609375, 118469.96875, 122018.015625, 177057.390625, 212144.125, 184109.546875, 124169.4296875, 77967.6171875, 88562.046875, 107170.9296875, 98839.4453125, 85958.90625, 99238.484375, 102266.4140625, 107845.28125, 138995.453125, 140318.984375, 121616.0859375, 116578.6328125, 112311.4375, 125516.1640625, 157619.046875, 169220.90625, 253936.375, 236843.34375, 110007.640625, 98693.859375, 116311.5234375, 127047.8671875, 115259.4765625, 95297.9765625, 107070.0625, 120820.5625, 137783.71875, 260156.703125, 446606.59375, 395773.5, 179760.515625, 69168.375, 76232.46875, 80724.078125, 74150.8203125, 76530.7421875, 81058.8828125, 97919.1484375, 155485.796875, 152892.421875, 71455.125, 35398.8984375, 40397.64453125, 47114.0234375, 45114.76953125, 44232.0859375, 48572.8046875, 54798.22265625, 46862.87109375, 45510.0234375, 55804.91796875, 65903.1640625, 64579.2109375, 62432.5703125, 74898.3125, 104142.359375, 122514.6953125, 105907.5546875, 75044.015625, 48902.80859375, 41465.13671875, 47129.4765625, 76828.953125, 77461.1484375, 75467.7578125, 77547.5859375, 42895.1328125, 34818.35546875, 47433.03125, 59241.5546875, 55845.63671875, 51093.4921875, 46914.5078125, 40348.6953125, 71362.859375, 98085.171875, 62430.4296875, 49290.3203125, 78707.7109375, 91959.8359375, 68015.9140625, 47903.9609375, 68506.59375, 81350.328125, 67178.5, 74796.640625, 101023.390625, 86970.25, 73509.96875, 108210.6875, 202030.03125, 239783.25, 125820.90625, 68373.765625, 80816.265625, 52297.6640625, 43391.06640625, 62077.59375, 71118.8359375, 66903.1875, 57830.3359375, 48854.9765625, 53852.203125, 59225.671875, 75276.0703125, 81960.6328125, 52306.359375, 44070.17578125, 49601.05859375, 57660.16796875, 66998.8203125, 76902.15625, 64835.6796875, 45693.73828125, 52490.96484375, 41559.81640625, 36814.609375, 49236.3671875, 72029.203125, 90962.65625, 104783.8046875, 111585.09375, 83437.6015625, 56161.2109375, 72969.7265625, 124395.734375, 125332.8125, 88343.640625, 120181.6015625, 168925.15625, 134763.21875, 79255.5703125, 53160.81640625, 43448.66796875, 53907.328125, 62788.7578125, 59056.828125, 41477.6640625, 37692.21484375, 46911.65234375, 53085.01171875, 77106.8046875, 72688.75, 49863.5390625, 65436.49609375, 83407.3359375, 88493.765625, 65171.05859375, 38139.75390625, 34061.828125, 32048.193359375, 32269.91015625, 33243.8671875, 33407.6171875, 37388.25390625, 39583.14453125, 44222.9765625, 36950.7421875, 29198.037109375, 31122.89453125, 37059.2890625, 36516.984375, 34861.80859375, 37522.48828125, 57922.03515625, 51413.42578125, 31881.333984375, 33380.53515625, 34375.98046875, 36019.0, 35443.66796875, 33290.13671875, 34380.05078125, 40329.234375, 50586.98046875, 63792.03515625, 68305.5703125, 83677.4765625, 71967.2421875, 43291.203125, 52021.5390625, 75828.1796875, 79872.8125, 48633.7734375, 34847.328125, 31766.86328125, 28966.408203125, 30094.232421875, 32278.857421875, 33091.36328125, 33258.41796875, 32516.01171875, 30552.576171875, 29641.466796875, 35996.609375, 42039.0, 38776.6171875, 35774.2734375, 36880.0234375, 34809.11328125, 31130.6171875, 32667.900390625, 37642.12890625, 35285.0390625, 30204.912109375, 30681.134765625, 29811.8828125, 29047.66015625, 30771.033203125, 32405.2890625, 32174.302734375, 31419.3984375, 31432.810546875, 30812.09375, 30585.701171875, 31464.876953125, 31964.19921875, 30858.345703125, 29385.8203125, 31288.25, 31250.376953125, 29076.796875, 30948.001953125, 32490.291015625, 32812.16015625, 39289.4140625, 52613.421875, 38866.265625, 29864.904296875, 33226.67578125, 34012.41015625, 34361.9296875, 34441.640625, 32307.60546875, 31357.52734375, 30233.93359375, 32272.248046875, 33902.66796875, 33614.19140625, 34608.91015625, 38594.94921875, 41219.18359375, 48753.2109375, 56303.55078125, 64714.5703125, 56722.953125, 35843.2421875, 33371.375, 31369.1953125, 30736.279296875, 32677.509765625, 35828.5234375, 51901.52734375, 59078.859375, 57020.2890625, 71442.015625, 56958.15625, 49591.73828125, 49008.6953125, 35586.65234375, 46104.34765625, 53504.10546875, 59617.73046875, 48036.9609375, 41280.8203125, 56126.35546875, 41633.7578125, 51037.484375, 46275.74609375, 28844.14453125, 28450.08984375, 28770.29296875, 29708.0546875, 30950.810546875, 31464.53125, 30715.234375, 32574.009765625, 32301.861328125, 31006.884765625, 31727.548828125, 35495.90625, 37877.46484375, 33850.52734375, 31021.021484375, 31114.08203125, 32788.41796875, 33613.53125, 35512.37109375, 37084.921875, 43218.3671875, 39762.65625, 33642.890625, 57651.19921875, 56528.984375, 32007.73828125, 31993.869140625, 33918.140625, 33282.8203125, 34935.16796875, 39135.75390625, 49797.3984375, 75564.765625, 90384.984375, 92840.2734375, 74123.59375, 49466.8828125, 87561.78125, 130208.46875, 81577.4609375, 33618.78125, 34912.10546875, 34458.0234375, 32850.69140625, 38647.09375, 61324.74609375, 87231.6953125, 82057.703125]\n",
      "[ 93904.89435543  97907.84627552  72942.56000955  61648.48734231\n",
      "  52811.33207964  84404.46124976 101049.59006117  92417.84240167\n",
      " 135331.67620553 131191.54455245  46663.95564358  62254.24160527\n",
      " 112252.65866797  78575.4683414  113309.74077108  64709.24775028\n",
      "  73785.04430007  68770.84238754  44442.10105942  84346.79053624\n",
      "  97638.18924665  83639.43884769  85260.06896471  94166.20758828\n",
      "  90272.40650322  63741.65055516  72994.64584904 103784.81031952\n",
      " 143480.33802714 168780.84427237  89294.37634221  67341.19650942\n",
      "  63924.09880971  72097.41366189 206055.83986898 225336.96241633\n",
      "  77769.99166403  76666.29999496  42048.37879293  82056.82571154\n",
      " 113720.54618109  80753.82466252  84409.19121859 183335.99369899\n",
      " 167458.29868522  55471.09346999  64378.4927403  107195.41254355\n",
      " 145748.5270895  150878.63919223 182025.79700214 152439.97676161\n",
      "  97976.60735957  56076.72203747 184002.5771125   61344.38027685\n",
      "  52307.61128431  64698.63566128  74498.13119003  82947.18414638\n",
      "  54267.7494807  102500.84727445  81373.81187301 115349.33224562\n",
      " 124471.14641913 123345.92640732 243044.88442609 198294.99214833\n",
      " 183160.00684814  69505.93134843  80693.04147333  92844.96655408\n",
      " 121696.73987781  74481.91014956  93321.53359192 103736.19262647\n",
      "  99991.94450286 116045.00775996 170035.85177983 119028.01561607\n",
      " 127883.14359485 107674.61947346 118267.3587444  137433.84873063\n",
      " 187339.13778769 162312.12915418 368300.46205317 125799.60152462\n",
      "  95031.90272466 100826.07905721 134129.68513189 125023.69694602\n",
      " 107560.95418752  80815.99329905 133502.10694895 111616.11347095\n",
      " 171733.72089542 372166.15010555 518235.18785137 305661.97462706\n",
      "  66503.03757922  64317.95049291  82058.55734692  74212.79885089\n",
      "  67578.94639216  79454.67018834  77554.22624303 116597.06407638\n",
      " 203600.56501327 111697.5157286   24157.99331027  24577.54038977\n",
      "  42801.56894751  39489.07842221  38402.62785634  37546.90109804\n",
      "  47953.49912394  51244.78329629  30493.24439552  48268.14132929\n",
      "  53145.44299271  70490.16738132  50231.98034126  65766.30942929\n",
      "  77671.49586477 130189.24863618 118747.25620307  93003.25793592\n",
      "  50755.39748643  35471.10078527  34390.32344961  47934.31549601\n",
      "  99756.23286818  49327.0800289   95364.81653356  53908.85646107\n",
      "  19099.0289691   27493.09592165  55499.46708374  53476.71631828\n",
      "  48026.49370956  43020.15940977  38831.47557997  28364.84854923\n",
      " 107287.50300588  87229.56188608  28763.97402137  58315.16109613\n",
      "  93514.23262892  87508.96307099  40775.92881535  43252.78445006\n",
      "  86111.85266541  71539.10106465  54902.97622241  88310.92272566\n",
      " 112678.91004744  57352.48610788  83028.02526939 133819.1795571\n",
      " 285915.88562138 214464.17238789  41923.85567126  87148.52350449\n",
      "  69325.89521785  24370.31350507  49728.73226866  65488.3760089\n",
      "  69626.57966368  56209.63227247  49661.03427967  36460.19880729\n",
      "  60656.43790173  48284.78878863  95984.92988302  63010.50608314\n",
      "  30704.79788145  44888.48070141  42874.39031418  62621.83703674\n",
      "  63424.84199259  84426.99145427  36859.5412847   42306.08436233\n",
      "  51815.42418172  18254.34575756  35744.13063085  51216.27816879\n",
      "  85903.42047053  92923.00381437 116350.81252017 107978.3101453\n",
      "  54270.7831972   47926.84386176  91263.99842723 161911.98748036\n",
      "  93375.98258287  79680.90270965 163997.3009065  185022.19196413\n",
      "  91520.07394601  61516.21727372  34079.1566826   40146.62248639\n",
      "  57091.31588664  59690.78347063  48878.87803653  21010.13760566\n",
      "  36265.74210642  45579.6248509   49848.97410962  98453.67572233\n",
      "  40118.39301454  48222.00316775  74386.69747076  87795.74772404\n",
      "  85591.88536936  36432.65861593  22514.51607722  21008.78994356\n",
      "  13174.59935447  22125.41419425  17802.06350053  22845.2887602\n",
      "  33295.46098703  31041.96114658  44887.54516733   9619.27705986\n",
      "   9735.12381614  19752.29568287  35159.94999616  17727.09419857\n",
      "  29025.42365402  27616.57293751  78455.90008544  13294.67697053\n",
      "  20046.24449284  20482.05596827  24419.66698492  26607.99102224\n",
      "  22292.91189556  17837.96898151  27081.34223559  40042.2967892\n",
      "  49889.90940835  69099.96598874  59822.32641177 102955.25393031\n",
      "  34028.01632932  39851.29864083  53237.30092881  92248.59678182\n",
      "  62147.4658548   23487.08666439  23211.95298634   9546.34795351\n",
      "   8071.95484209  16202.3346125   19142.76185609  20114.3229285\n",
      "  19877.14515303  16662.36877121   9934.78066547  12044.90534372\n",
      "  38899.17990149  32224.93389224  29100.58304183  21020.90840598\n",
      "  33221.87301278  13336.05063767  16190.49635238  21114.02435334\n",
      "  35974.77853045  12340.40805915  12494.75311221  14753.91064509\n",
      "   8089.40007751  10220.60281456  17483.608428    18498.28058044\n",
      "  16320.26131595  14669.79787946  16388.17758419  11524.17071091\n",
      "  15240.76847703  15980.38703286  17779.94362064  10366.79013733\n",
      "  10291.76051079  20033.65432376  10099.86562306   8412.47195895\n",
      "  20188.59977333  16221.35635789  21808.31623862  41432.21504558\n",
      "  52958.73386648   8701.569752    14410.41872613  25441.53294742\n",
      "  17864.53522205  26976.4542631   18209.11997062  17280.7148437\n",
      "  13395.79916775  11586.44044905  23725.37830369  19098.30590619\n",
      "  22457.1967695   23361.57060323  37285.47824376  32034.80533859\n",
      "  53862.54043776  48648.31894636  72371.65781218  31062.11649278\n",
      "  19314.01907258  21174.02838821   9561.63609359  17966.43473311\n",
      "  19386.50364203  30935.29376529  61889.26185479  46728.89816885\n",
      "  57359.23017118  78467.42973962  25483.91330745  62258.42347195\n",
      "  24201.0863115   25227.75118993  54841.31417901  41509.40323512\n",
      "  68294.58926818  16026.79760356  53429.08264372  48691.87355094\n",
      "  21540.57885813  69382.83458251  11063.37044583   5472.81106914\n",
      "   5607.9638818   10279.1453102   12037.98919031  16577.34572477\n",
      "  14642.08769005  12779.35746477  24052.30206717  11408.68867998\n",
      "  17490.80081824  15067.35468284  34026.39119024  23941.27030961\n",
      "  18653.16368927  10318.01120228  19124.7697462   18786.80394518\n",
      "  22765.77074915  26388.74079084  28619.20650352  45099.85998327\n",
      "  19907.94397649  21773.66240552  83702.83646554  19304.11509746\n",
      "  14675.49691799  19234.24237613  23657.39813154  16441.32979824\n",
      "  30582.03740439  32084.6280211   56110.23794251  88795.38783169\n",
      "  88758.50470496  94204.25765471  47527.55520736  39940.05212685\n",
      " 131394.41744535 134882.3449919   23268.96123972  18306.71112114\n",
      "  28631.52628784  16624.90199963  21574.14453682  39267.66734771\n",
      "  74292.74954889  96314.58755168  62894.68306786]\n"
     ]
    },
    {
     "data": {
      "image/png": "[encoded data removed]",
      "text/plain": [
       "<Figure size 1440x720 with 1 Axes>"
      ]
     },
     "metadata": {
      "needs_background": "light"
     },
     "output_type": "display_data"
    }
   ],
   "source": [
    "def main():    \n",
    "    # ------------------------------------------ PREPROCESSING ----------------------------------------------\n",
    "    raw_price_data = fetch_latest_BTC_JSON()\n",
    "#     raw_price_data = fetch_btc_prices()\n",
    "    data_df = parse_alphaV_JSON(raw_data=raw_price_data)\n",
    "    data_df = data_df.iloc[::-1]\n",
    "    \n",
    "    prices = np.array(data_df['4a. close (USD)'].tolist())\n",
    "    print(prices)\n",
    "    \n",
    "    original_volume = data_df['5. volume'].values\n",
    "    min_volume = np.min(data_df['5. volume'].values)\n",
    "    max_volume = np.max(data_df['5. volume'].values)\n",
    "    print(min_volume)\n",
    "    print(max_volume)\n",
    "    \n",
    "    # -- Normalize the Data --\n",
    "    min_max_scaler = preprocessing.MinMaxScaler()\n",
    "    data_df = pd.DataFrame(min_max_scaler.fit_transform(data_df), columns=data_df.columns)\n",
    "    # print(data_df)\n",
    "    data_df = table_edit(data_df)\n",
    "    y_train = np.array(data_df['4a. close (USD)'].tolist())\n",
    "    data_df = data_df.drop(labels=['4a. close (USD)'],axis=1)\n",
    "\n",
    "    vmas = VMA_calculation(prices=data_df['5. volume'].values)\n",
    "    \n",
    "    #print(vmas)\n",
    "    #print(un_normalize(norm_val=vmas,min_val=min_volume,max_val=max_volume,typelist=True))\n",
    "    \n",
    "    \n",
    "    x_train,y_train,x_test,y_test,train_dataloader,test_dataloader = vol_dataset_prep(vmas,data_df['5. volume'].values,original_volume)\n",
    "    vol_predictor = NumberRegression_MLP()\n",
    "    model,loss_func,_,_ = vol_train(vol_predictor, train_dataloader)\n",
    "    test_loss,accuracy,predictions = vol_test(vol_predictor,loss_func,test_dataloader,min_volume,max_volume)\n",
    "    vol_prediction_visualization(predictions,y_test,min_volume,max_volume)\n",
    "#     #print(data_df)\n",
    "#     test = data_df['5. volume'].values\n",
    "#     print(test)\n",
    "#     volume_visualization(test)\n",
    "    \n",
    "    \n",
    "#     model = MLP()\n",
    "#     losses, test_data_loader, loss_func, model, min_price, max_price, test_prices = train(model, data_df.values,y_train,prices)\n",
    "#     loss_visualize(losses)\n",
    "#     _, _, all_unnormed_outputs = validation_test(test_dataloader=test_data_loader,criterion=loss_func, model=model, norm_min=min_price, norm_max=max_price)\n",
    "    \n",
    "#     prediction_visualization(minimum_price=min_price,maximum_price=max_price,close_prices=test_prices,model_predictions=all_unnormed_outputs)\n",
    "\n",
    "main()"
   ]
  },
  {
   "cell_type": "code",
   "execution_count": null,
   "metadata": {
    "colab": {},
    "colab_type": "code",
    "id": "rC1qbe-GH7Iv"
   },
   "outputs": [],
   "source": []
  }
 ],
 "metadata": {
  "accelerator": "GPU",
  "colab": {
   "collapsed_sections": [],
   "name": "model_viz_test.ipynb",
   "provenance": [],
   "version": "0.3.2"
  },
  "kernelspec": {
   "display_name": "Python 3",
   "language": "python",
   "name": "python3"
  },
  "language_info": {
   "codemirror_mode": {
    "name": "ipython",
    "version": 3
   },
   "file_extension": ".py",
   "mimetype": "text/x-python",
   "name": "python",
   "nbconvert_exporter": "python",
   "pygments_lexer": "ipython3",
   "version": "3.5.2"
  }
 },
 "nbformat": 4,
 "nbformat_minor": 1
}
