{
  "nbformat": 4,
  "nbformat_minor": 0,
  "metadata": {
    "colab": {
      "name": "model_viz_test.ipynb",
      "version": "0.3.2",
      "provenance": [],
      "collapsed_sections": []
    },
    "kernelspec": {
      "name": "python3",
      "display_name": "Python 3"
    },
    "accelerator": "GPU"
  },
  "cells": [
    {
      "cell_type": "markdown",
      "metadata": {
        "id": "vGODXQ40k75X",
        "colab_type": "text"
      },
      "source": [
        "# Time Series Regression with Neural Networks: Cryptocurrency Price Prediction"
      ]
    },
    {
      "cell_type": "code",
      "metadata": {
        "id": "X8aFqnebuJB_",
        "colab_type": "code",
        "outputId": "90144d22-49e5-44f4-a497-e38757e7ed2a",
        "colab": {
          "base_uri": "https://localhost:8080/",
          "height": 119
        }
      },
      "source": [
        "!pip install cryptocompare"
      ],
      "execution_count": 0,
      "outputs": [
        {
          "output_type": "stream",
          "text": [
            "Requirement already satisfied: cryptocompare in /usr/local/lib/python3.6/dist-packages (0.6.4)\n",
            "Requirement already satisfied: requests in /usr/local/lib/python3.6/dist-packages (from cryptocompare) (2.21.0)\n",
            "Requirement already satisfied: certifi>=2017.4.17 in /usr/local/lib/python3.6/dist-packages (from requests->cryptocompare) (2019.6.16)\n",
            "Requirement already satisfied: chardet<3.1.0,>=3.0.2 in /usr/local/lib/python3.6/dist-packages (from requests->cryptocompare) (3.0.4)\n",
            "Requirement already satisfied: idna<2.9,>=2.5 in /usr/local/lib/python3.6/dist-packages (from requests->cryptocompare) (2.8)\n",
            "Requirement already satisfied: urllib3<1.25,>=1.21.1 in /usr/local/lib/python3.6/dist-packages (from requests->cryptocompare) (1.24.3)\n"
          ],
          "name": "stdout"
        }
      ]
    },
    {
      "cell_type": "code",
      "metadata": {
        "id": "-xkssd58cEK5",
        "colab_type": "code",
        "outputId": "97456422-cac0-4836-c9f0-60552719e9bb",
        "colab": {
          "base_uri": "https://localhost:8080/",
          "height": 34
        }
      },
      "source": [
        "from google.colab import drive\n",
        "drive.mount('/content/gdrive')\n",
        "import requests\n",
        "import os\n",
        "import yaml\n",
        "import json\n",
        "import numpy as np\n",
        "import pandas as pd\n",
        "import torch\n",
        "import torch.nn as nn\n",
        "import torch.nn.functional as F\n",
        "import torch.utils.data\n",
        "from torch.utils.tensorboard import SummaryWriter\n",
        "import sklearn\n",
        "from sklearn import preprocessing\n",
        "from sklearn.model_selection import train_test_split\n",
        "from tqdm import tqdm\n",
        "import matplotlib.pyplot as plt\n",
        "import urllib3\n",
        "import cryptocompare\n",
        "from datetime import datetime"
      ],
      "execution_count": 0,
      "outputs": [
        {
          "output_type": "stream",
          "text": [
            "Drive already mounted at /content/gdrive; to attempt to forcibly remount, call drive.mount(\"/content/gdrive\", force_remount=True).\n"
          ],
          "name": "stdout"
        }
      ]
    },
    {
      "cell_type": "code",
      "metadata": {
        "id": "dj0xknt5cJwl",
        "colab_type": "code",
        "outputId": "879c3451-3b7f-4f6b-f97d-791aa9b06041",
        "colab": {
          "base_uri": "https://localhost:8080/",
          "height": 34
        }
      },
      "source": [
        "print(\"PyTorch version:\", torch.__version__)"
      ],
      "execution_count": 0,
      "outputs": [
        {
          "output_type": "stream",
          "text": [
            "PyTorch version: 1.1.0\n"
          ],
          "name": "stdout"
        }
      ]
    },
    {
      "cell_type": "code",
      "metadata": {
        "id": "UJIfjHclu6Fl",
        "colab_type": "code",
        "outputId": "24f7b230-e918-46ec-9180-7de743fc7167",
        "colab": {
          "base_uri": "https://localhost:8080/",
          "height": 379
        }
      },
      "source": [
        "# hourly -- volume -- per day\n",
        "# USD \n",
        "\n",
        "#cryptocompare api key:1 e3c9fe62074dbf5805d45f528d1e60c7ae15be68a63ba57ca3a5f2f9dbbf66f\n",
        "\n",
        "#close,high,low,open,time,volumefrom,volumeto\n",
        "\n",
        "def posix2Human(time_):\n",
        "    timestamp = time_\n",
        "    dt_object = datetime.fromtimestamp(timestamp)\n",
        "    return dt_object\n",
        "\n",
        "histPriceDay = cryptocompare.get_historical_price_day('BTC', curr='USD')\n",
        "\n",
        "# Getting CryptoCompare BTC volume data -- 2000 API calls back \n",
        "vol = []\n",
        "for idx, item in enumerate(histPriceDay['Data']):\n",
        "    vol.append(item['volumefrom'])    \n",
        "\n",
        "# -- Init subplots --\n",
        "f,arr = plt.subplots(1,2)\n",
        "  \n",
        "arr[0].plot(np.array(vol),'g')\n",
        "\n",
        "def fetch_latest_BTC_JSON():\n",
        "    \"\"\"Fetch the latest JSON data\"\"\"\n",
        "    API_LINK = 'https://www.alphavantage.co/query?function=DIGITAL_CURRENCY_DAILY&symbol=BTC&market=USD&apikey=SAITMI5ZUMGEKGKY'\n",
        "    page = requests.get(API_LINK).json()\n",
        "    return page\n",
        "\n",
        "page = fetch_latest_BTC_JSON()\n",
        "\n",
        "vol2 = []\n",
        "for key,value in page['Time Series (Digital Currency Daily)'].items():\n",
        "    vol2.append(float(value['5. volume']))\n",
        "    \n",
        "arr[1].plot(np.array(vol2))\n",
        "\n",
        "plt.tight_layout()\n",
        "f.set_figheight(5)\n",
        "f.set_figwidth(30)\n",
        "\n",
        "plt.show()\n",
        "\n"
      ],
      "execution_count": 0,
      "outputs": [
        {
          "output_type": "display_data",
          "data": {
            "image/png": "[encoded data removed]",
            "text/plain": [
              "<Figure size 2160x360 with 2 Axes>"
            ]
          },
          "metadata": {
            "tags": []
          }
        }
      ]
    },
    {
      "cell_type": "code",
      "metadata": {
        "id": "huJFdlNivLxr",
        "colab_type": "code",
        "outputId": "e7616055-7227-4c50-fa81-57545f7a82e6",
        "colab": {
          "base_uri": "https://localhost:8080/",
          "height": 34
        }
      },
      "source": [
        "print('CryptoCompare last reported volume (yesterday): ', vol[-1])"
      ],
      "execution_count": 0,
      "outputs": [
        {
          "output_type": "stream",
          "text": [
            "CryptoCompare last reported volume (yesterday):  28716.12\n"
          ],
          "name": "stdout"
        }
      ]
    },
    {
      "cell_type": "markdown",
      "metadata": {
        "id": "p16ipIQIDeRx",
        "colab_type": "text"
      },
      "source": [
        "## Config file with Model Hyperparameters"
      ]
    },
    {
      "cell_type": "code",
      "metadata": {
        "id": "Fs81MIhVvQ9Q",
        "colab_type": "code",
        "outputId": "615c739d-986f-4be8-f086-676e309dd78e",
        "colab": {
          "base_uri": "https://localhost:8080/",
          "height": 51
        }
      },
      "source": [
        "def get_config(file_loc='/content/gdrive/My Drive/College/Undergraduate Research/StockData/config.yaml'):\n",
        "    return yaml.safe_load(open(file_loc))\n",
        "config = get_config()\n",
        "print(type(config))\n",
        "print(config)"
      ],
      "execution_count": 143,
      "outputs": [
        {
          "output_type": "stream",
          "text": [
            "<class 'dict'>\n",
            "{'learning_rate': 0.001, 'batch_size': 1, 'epochs': 50, 'dropout_rate': 0, 'lstm_hidden_size': 1, 'lstm_num_layers': 1}\n"
          ],
          "name": "stdout"
        }
      ]
    },
    {
      "cell_type": "markdown",
      "metadata": {
        "id": "r3mV8lNFDjKB",
        "colab_type": "text"
      },
      "source": [
        "## Neural network architectures\n",
        "\n",
        "* 3 Layer Multi-Layer Perceptron\n",
        "* 1 Layer Temporal Convolutional Neural Network\n",
        "* Long-Term-Short-Term Recurrent Neural Network"
      ]
    },
    {
      "cell_type": "code",
      "metadata": {
        "id": "WDURcbQYcMbV",
        "colab_type": "code",
        "colab": {}
      },
      "source": [
        "\"\"\"\n",
        "Basic multilayer perceptron subclass \n",
        "of three layers in PyTorch\n",
        "\"\"\"\n",
        "class MLP(nn.Module):\n",
        "    def __init__(self,num_features):\n",
        "        super(MLP,self).__init__()\n",
        "        self.fc1 = nn.Linear(in_features=num_features,out_features=32)\n",
        "        self.fc2 = nn.Linear(in_features=32,out_features=128)\n",
        "        self.fc3 = nn.Linear(in_features=128,out_features=1)\n",
        "    \n",
        "    def forward(self, x):\n",
        "        \"\"\"\"Forward pass definition\"\"\"\n",
        "        x = F.leaky_relu(self.fc1(x))\n",
        "        x = F.leaky_relu(self.fc2(x))\n",
        "        x = F.leaky_relu(self.fc3(x))\n",
        "        return x\n",
        "\n",
        "class NumberRegression_MLP(nn.Module):\n",
        "    def __init__(self):\n",
        "        super(NumberRegression_MLP,self).__init__()\n",
        "        self.fc1 = nn.Linear(in_features=1,out_features=32)\n",
        "        self.fc2 = nn.Linear(in_features=32,out_features=128)\n",
        "        self.fc3 = nn.Linear(in_features=128,out_features=1)\n",
        "    def forward(self, x):\n",
        "        \"\"\"\"Forward pass definition\"\"\"\n",
        "        x = F.leaky_relu(self.fc1(x))\n",
        "        x = F.leaky_relu(self.fc2(x))\n",
        "        x = F.leaky_relu(self.fc3(x))\n",
        "        return x\n",
        "\"\"\"\n",
        "Recurrent Neural Networks (RNN)\n",
        "RNNs are an excellent method to model sequential data\n",
        "and time series data. This is perfect for stocks and\n",
        "crytocurrency price prediction.\n",
        "\n",
        "https://stackoverflow.com/questions/45022734/understanding-a-simple-lstm-pytorch\n",
        "https://www.jessicayung.com/lstms-for-time-series-in-pytorch/\n",
        "\"\"\"\n",
        "class TestRNN(nn.Module):\n",
        "    def __init__(self,bat_size,in_features,h_size,layer_amnt):\n",
        "        super(TestRNN,self).__init__()\n",
        "        \n",
        "        self.batch_sz = bat_size\n",
        "        self.in_features = in_features\n",
        "        self.h_size = h_size\n",
        "        self.layer_amnt = layer_amnt\n",
        "        \n",
        "        self.lstm1 = nn.LSTM(input_size=self.in_features,\n",
        "                             hidden_size=self.h_size,\n",
        "                             num_layers=self.layer_amnt,\n",
        "                             bias=True,\n",
        "                             batch_first=True,\n",
        "                             dropout=0,\n",
        "                             bidirectional=False\n",
        "                            )\n",
        "        self.fc1 = nn.Linear(in_features=1,out_features=32)\n",
        "        self.fc2 = nn.Linear(in_features=32,out_features=1)\n",
        "    def init_hidden(self):\n",
        "        \"\"\"Intialize/re-init the hidden and cell states. \n",
        "        The hidden state acts as the memory of the RNN \n",
        "        which gets passed from one unit to another. \n",
        "        h_i = f(h_i + in)\n",
        "\n",
        "        Intializing with 0s\n",
        "        \"\"\"\n",
        "        #print('layer size =\\t', self.layer_amnt)\n",
        "        #print('bat_size =\\t', self.batch_sz)\n",
        "        #print('hidden size =\\t',self.h_size)\n",
        "        return (torch.zeros(self.layer_amnt,self.batch_sz,self.h_size),\n",
        "                torch.zeros(self.layer_amnt,self.batch_sz,self.h_size))\n",
        "    def forward(self,x):\n",
        "        x = x.unsqueeze(0)\n",
        "        hidden_init = self.init_hidden()\n",
        "        h0 = hidden_init[0].to(device)\n",
        "        c0 = hidden_init[1].to(device)\n",
        "        x,hidden = self.lstm1( x,(h0,c0))\n",
        "        # x = self.fc1(x)\n",
        "        # x = self.fc2(x)\n",
        "        return x\n",
        "      \n",
        "\"\"\"\n",
        "Temporal Convolutional Neural Network (CNN)\n",
        "Time series based convolutional neural network\n",
        "\"\"\"\n",
        "class TimeCNN(nn.Module):\n",
        "    def __init__(self):\n",
        "        super(TimeCNN,self).__init__()\n",
        "        self.conv1 = nn.Conv1d(in_channels=1,out_channels=256,kernel_size=2,stride=1,padding=0)\n",
        "        self.fc1 = nn.Linear(in_features=512,out_features=1024)\n",
        "        self.fc2 = nn.Linear(in_features=1024,out_features=128)\n",
        "        self.fc3 = nn.Linear(in_features=128,out_features=1)\n",
        "    def forward(self,x):\n",
        "        x = x.unsqueeze(0)\n",
        "        x = F.leaky_relu(self.conv1(x))\n",
        "        x = x.reshape(-1)\n",
        "        x = F.leaky_relu(self.fc1(x))\n",
        "        x = F.leaky_relu(self.fc2(x))\n",
        "        x = F.leaky_relu(self.fc3(x))\n",
        "        return x"
      ],
      "execution_count": 0,
      "outputs": []
    },
    {
      "cell_type": "code",
      "metadata": {
        "id": "RKSf-IgwcO6G",
        "colab_type": "code",
        "colab": {}
      },
      "source": [
        "class TickerData(torch.utils.data.Dataset):\n",
        "    def __init__(self, table):\n",
        "        self.dataset = table\n",
        "    def __len__(self):\n",
        "        return len(self.dataset)\n",
        "    def __getitem__(self,idx):\n",
        "        \"\"\"idx --> data pointer\"\"\"\n",
        "        return self.dataset[idx]"
      ],
      "execution_count": 0,
      "outputs": []
    },
    {
      "cell_type": "code",
      "metadata": {
        "id": "rKiMgnPRfHl5",
        "colab_type": "code",
        "outputId": "5837e36b-02c6-442f-d6b6-b0194e8d6e15",
        "colab": {
          "base_uri": "https://localhost:8080/",
          "height": 68
        }
      },
      "source": [
        "device = torch.device(\"cuda\" if torch.cuda.is_available() else \"cpu\")\n",
        "print(\"Device state:\\t\", device)\n",
        "print(\"Device index:\\t\",torch.cuda.current_device())\n",
        "print(\"Current device:\\t\", torch.cuda.get_device_name(device))"
      ],
      "execution_count": 146,
      "outputs": [
        {
          "output_type": "stream",
          "text": [
            "Device state:\t cuda\n",
            "Device index:\t 0\n",
            "Current device:\t Tesla T4\n"
          ],
          "name": "stdout"
        }
      ]
    },
    {
      "cell_type": "markdown",
      "metadata": {
        "id": "psJuWNdZD3il",
        "colab_type": "text"
      },
      "source": [
        "## Training Phase"
      ]
    },
    {
      "cell_type": "code",
      "metadata": {
        "id": "ATH5hCDpcVL9",
        "colab_type": "code",
        "colab": {}
      },
      "source": [
        "class Trainer(object):\n",
        "    def __init__(self):\n",
        "        pass\n",
        "    def fetch_latest_BTC_JSON(self):\n",
        "        \"\"\"Fetch the latest JSON data\"\"\"\n",
        "        API_LINK = 'https://www.alphavantage.co/query?function=DIGITAL_CURRENCY_DAILY&symbol=BTC&market=USD&apikey=SAITMI5ZUMGEKGKY'\n",
        "        page = requests.get(API_LINK).json()\n",
        "        return page\n",
        "    def fetch_btc_prices(self):\n",
        "        with open(\"/content/gdrive/My Drive/College/Undergraduate Research/StockData/BTC_data.json\") as f:\n",
        "            return json.load(f)  \n",
        "\n",
        "    def parse_alphaV_JSON(self,raw_data):\n",
        "        # Remove meta data for now\n",
        "        raw_data.pop('Meta Data',None)\n",
        "        # Remove key name\n",
        "        df = pd.DataFrame.from_dict(raw_data['Time Series (Digital Currency Daily)'],dtype=float)\n",
        "        # Flip dates as columns into rows\n",
        "        df = df.transpose()\n",
        "        return df\n",
        "    \n",
        "    def data_split(self,x_train,y_train):\n",
        "        x_train, x_test, y_train, y_test = train_test_split(x_train,y_train,test_size=0.2,random_state=100,shuffle=False)\n",
        "        return x_train, x_test, y_train, y_test\n",
        "\n",
        "    def train(self,model, x_data,y_data, original_prices,epochs):\n",
        "        \"\"\"Price prediction model training loop function. This method\n",
        "        is generalized for the purposes of allowing any model to be used\n",
        "\n",
        "        Arguements:\"\"\"\n",
        "        prices = torch.tensor(original_prices)\n",
        "        max_price = torch.max(prices)\n",
        "        min_price = torch.min(prices)\n",
        "\n",
        "        print('----Dataset Prep----')\n",
        "        x_train, x_test, y_train, y_test = self.data_split(x_data,y_data)\n",
        "        train_tensorDataset = torch.utils.data.TensorDataset(torch.from_numpy(x_train),torch.from_numpy(y_train))\n",
        "        train_data_loader = torch.utils.data.DataLoader(\n",
        "            dataset=train_tensorDataset,\n",
        "            batch_size=config['batch_size'],\n",
        "            shuffle=False,\n",
        "            num_workers=0\n",
        "        )\n",
        "\n",
        "        test_tensorDataset = torch.utils.data.TensorDataset(torch.Tensor(x_test),torch.Tensor(y_test))\n",
        "        test_data_loader = torch.utils.data.DataLoader(\n",
        "            dataset=test_tensorDataset,\n",
        "            batch_size=config['batch_size'],\n",
        "            shuffle=False,\n",
        "            num_workers=0\n",
        "        )\n",
        "\n",
        "        print('-- Model Architecture --')\n",
        "        print(model)\n",
        "\n",
        "        # -- Model to CUDA GPU --\n",
        "        if( str(device) == 'cuda'):\n",
        "            print('Sending model to',torch.cuda.get_device_name(device),' GPU')\n",
        "            #model = model.cuda()\n",
        "            model.to(device)\n",
        "\n",
        "        # -- Since we are predicting prices --> mean squared error is our loss function\n",
        "        loss_func = torch.nn.MSELoss()\n",
        "\n",
        "        # -- Optimizer --> Adam generally works best\n",
        "        # TODO: choose a better learning rate later\n",
        "        optimizer = torch.optim.Adam(model.parameters(), lr=config['learning_rate'])\n",
        "\n",
        "        total_loss = 0\n",
        "        losses = []\n",
        "        for epoch in (range(epochs)):\n",
        "            for i, (examples,labels) in tqdm(enumerate(train_data_loader)):\n",
        "\n",
        "                if( str(device) == 'cuda'):\n",
        "                    examples = examples.to(device)\n",
        "                    labels = labels.to(device)\n",
        "\n",
        "                #print(examples , \" ----- \" , labels)\n",
        "\n",
        "                optimizer.zero_grad()\n",
        "\n",
        "                # -- Input to CUDA --\n",
        "                #examples = examples.to(device)\n",
        "                #labels = labels.to(device)\n",
        "\n",
        "                y_predictions = model(examples.float())\n",
        "                loss = loss_func(y_predictions.float(),labels.float())\n",
        "\n",
        "                total_loss += loss.data\n",
        "\n",
        "                # back-prop to update the weights\n",
        "                loss.backward()\n",
        "                # optimizer steps based on lr\n",
        "                optimizer.step()\n",
        "\n",
        "                y_preds = y_predictions.cpu().detach().numpy()\n",
        "                y_preds = torch.tensor(y_preds)\n",
        "                #print(y_preds.shape)\n",
        "                test = self.un_normalize(y_preds, min_price, max_price)\n",
        "                #print(\"---> \", test)\n",
        "                #break\n",
        "\n",
        "            print ('Epoch [{}/{}], Loss: {}'.format(epoch+1, config['epochs'], loss.data))\n",
        "            #print(list(model.parameters()))\n",
        "            print(\"-----------------------------------------------------------------------------\")\n",
        "            losses.append(loss.data)\n",
        "        return losses, test_data_loader, loss_func, model, min_price, max_price, y_test\n",
        "\n",
        "\n",
        "    def table_edit(self,dataframe):\n",
        "        dataframe = dataframe.drop(labels=['1b. open (USD)','2b. high (USD)','3b. low (USD)','4b. close (USD)'],axis=1)\n",
        "        table_col_order = ['1a. open (USD)','2a. high (USD)','3a. low (USD)','5. volume','6. market cap (USD)','4a. close (USD)']\n",
        "        dataframe = dataframe[table_col_order]\n",
        "        return dataframe\n",
        "\n",
        "    def loss_visualize(self,loss_tensor):\n",
        "        losses = np.array(loss_tensor)\n",
        "        print(losses)\n",
        "\n",
        "        plt.plot(losses)\n",
        "\n",
        "    def validation_test(self,test_dataloader, criterion, model, norm_min, norm_max):\n",
        "        test_loss = 0\n",
        "        accuracy = 0\n",
        "        all_predictions = []\n",
        "        for (examples, labels) in test_dataloader:\n",
        "\n",
        "            if(str(device) == 'cuda'):\n",
        "                examples = examples.to(device)\n",
        "                labels = labels.to(device)\n",
        "\n",
        "            output = model.forward(examples)\n",
        "\n",
        "            un_normed_outputs = self.un_normalize(output, norm_min,norm_max)\n",
        "            all_predictions.append(un_normed_outputs.detach())\n",
        "            #print(\"output --> \", un_normed_outputs)\n",
        "            loss = criterion(output, labels).item()\n",
        "            test_loss += loss\n",
        "\n",
        "            #ps = torch.exp(output)\n",
        "            #equality = (labels.data == ps.max(dim=1)[1])\n",
        "            #accuracy += equality.type(torch.FloatTensor).mean()\n",
        "\n",
        "            #print('output --> ', un_normed_outputs, ' loss --> ', loss)\n",
        "\n",
        "        return test_loss, accuracy, all_predictions\n",
        "\n",
        "    def un_normalize(self,norm_val,min_val,max_val,typelist=None):\n",
        "        if(typelist):\n",
        "            for idx,item in enumerate(norm_val):\n",
        "                new_val = item * (max_val - min_val) + min_val\n",
        "                norm_val[idx] = new_val\n",
        "            return norm_val\n",
        "        else:\n",
        "            return norm_val * (max_val - min_val) + min_val  \n",
        "\n",
        "    def prediction_visualization(self,minimum_price,maximum_price,close_prices,model_predictions):\n",
        "        plt.close()\n",
        "\n",
        "        test_values = np.array(self.un_normalize(norm_val=close_prices,min_val=minimum_price,max_val=maximum_price,typelist=True))\n",
        "        print(test_values)\n",
        "        #print(np.array(model_predictions.grad))\n",
        "        #model_predictions[0].requires_grad = False\n",
        "        for idx,item in enumerate(model_predictions):\n",
        "            print('the item is =\\t',item)\n",
        "            print('the size of the item is =\\t', item.shape)\n",
        "            model_predictions[idx] = np.asscalar(item.cpu().numpy())\n",
        "        predicted_values = model_predictions\n",
        "\n",
        "        print(len(test_values))\n",
        "        print(len(predicted_values))\n",
        "\n",
        "        plt.plot(np.array(test_values),color='#FFA500')\n",
        "        plt.plot(np.array(predicted_values),color='g')\n",
        "        plt.show()\n",
        "        pass\n",
        "\n",
        "    def volume_visualization(self,volume):\n",
        "        vol = np.array(volume)\n",
        "        plt.plot(vol)\n",
        "        pass\n",
        "\n",
        "    def VMA_calculation(self,prices=[]):\n",
        "        prices = np.array(prices)\n",
        "\n",
        "        n_prices = []\n",
        "        for idx, p in enumerate(prices):\n",
        "            if(idx + 1 == len(prices)):\n",
        "                break\n",
        "            p1 = prices[idx]\n",
        "            p2 = prices[idx+1]\n",
        "            arr = np.array([p1,p2])#,p3,p4,p5,p6,p7,p8,p9,p10,p11])\n",
        "            n_prices.append(arr)\n",
        "\n",
        "        vmas = []\n",
        "        for arr in n_prices:\n",
        "            sum_vol = arr.sum()\n",
        "            vmas.append(sum_vol/2)\n",
        "\n",
        "        first_ten = vmas[:10]\n",
        "        average_num = np.average(first_ten)\n",
        "        vmas = np.insert(vmas,0,average_num)\n",
        "\n",
        "        #plt.figure(figsize=(20,10))\n",
        "        #plt.plot(np.array(prices))\n",
        "        #plt.plot(np.array(vmas))\n",
        "        return vmas\n",
        "\n",
        "\n",
        "    def vol_dataset_prep(self,vma,volume,original_volume):\n",
        "        \"\"\"VMA - x_train -- volume -- y_train\"\"\"\n",
        "        print(len(vma))\n",
        "        print(len(volume))\n",
        "        print(len(original_volume))\n",
        "\n",
        "    #     vma = torch.tensor(vma)\n",
        "    #     volume = torch.tensor(volume)\n",
        "\n",
        "\n",
        "        #########################\n",
        "        x_train,x_test,y_train,y_test = data_split(volume,volume)\n",
        "\n",
        "        #######################\n",
        "\n",
        "        #x_train,x_test,y_train,y_test = data_split(vma,volume)\n",
        "\n",
        "        train_data = torch.utils.data.TensorDataset(torch.from_numpy(x_train),torch.from_numpy(y_train))\n",
        "        test_data = torch.utils.data.TensorDataset(torch.from_numpy(x_test),torch.from_numpy(y_test))\n",
        "        train_dataloader = torch.utils.data.DataLoader(\n",
        "            dataset=train_data,\n",
        "            batch_size=1,\n",
        "            shuffle=False,\n",
        "            num_workers=0\n",
        "        )\n",
        "        test_dataloader = torch.utils.data.DataLoader(\n",
        "            dataset=test_data,\n",
        "            batch_size=1,\n",
        "            shuffle=False,\n",
        "            num_workers=0\n",
        "        )\n",
        "        return x_train,y_train,x_test,y_test,train_dataloader,test_dataloader\n",
        "\n",
        "    def vol_train(self,model, train_dataloader):\n",
        "        loss_func = torch.nn.MSELoss()\n",
        "        optimizer = torch.optim.Adam(model.parameters(),lr=0.001)\n",
        "\n",
        "        total_loss = 0\n",
        "        losses = []\n",
        "        for epoch in (range(10)):\n",
        "            for i, (examples,labels) in tqdm(enumerate(train_dataloader)):\n",
        "\n",
        "                optimizer.zero_grad()\n",
        "\n",
        "                y_predictions = model(examples.float())\n",
        "                loss = loss_func(y_predictions.float(),labels.float())\n",
        "\n",
        "                total_loss += loss.data\n",
        "\n",
        "                # back-prop to update the weights\n",
        "                loss.backward()\n",
        "                # optimizer steps based on lr\n",
        "                optimizer.step()\n",
        "\n",
        "                y_preds = y_predictions.cpu().detach().numpy()\n",
        "                y_preds = torch.tensor(y_preds)\n",
        "                #print(y_preds.shape)\n",
        "                #print(\"---> \", test)\n",
        "                #break\n",
        "\n",
        "            print ('Epoch [{}/{}], Loss: {}'.format(epoch+1, 100, loss.data))\n",
        "            #print(list(model.parameters()))\n",
        "            print(\"-----------------------------------------------------------------------------\")\n",
        "            losses.append(loss.data)\n",
        "        return model,loss_func,total_loss,losses\n",
        "\n",
        "    def vol_test(self,model,criterion,test_dataloader,min_val,max_val):\n",
        "        test_loss = 0\n",
        "        accuracy = 0\n",
        "        all_predictions = []\n",
        "        for (examples, labels) in test_dataloader:\n",
        "            output = model.forward(examples.float())\n",
        "            un_normed_outputs = self.un_normalize(output, min_val,max_val)\n",
        "            all_predictions.append(un_normed_outputs.detach())\n",
        "            loss = criterion(output, labels.float()).item()\n",
        "            test_loss += loss\n",
        "        return test_loss, accuracy, all_predictions\n",
        "\n",
        "    def vol_prediction_visualization(self,predictions,actual,min_val,max_val):\n",
        "        for idx,item in enumerate(predictions):\n",
        "              predictions[idx] = np.asscalar(item.numpy())\n",
        "        print(predictions)\n",
        "        actual = self.un_normalize(actual,min_val,max_val,typelist=True)\n",
        "        print(actual)\n",
        "        plt.figure(figsize=(20,10))\n",
        "        plt.plot(np.array(actual),color='g')\n",
        "        plt.plot(np.array(predictions),color='#FFA500')"
      ],
      "execution_count": 0,
      "outputs": []
    },
    {
      "cell_type": "code",
      "metadata": {
        "id": "3hMUGeDkcZnZ",
        "colab_type": "code",
        "outputId": "84065350-374f-4b50-e802-f2315dcb28f9",
        "colab": {
          "base_uri": "https://localhost:8080/",
          "height": 1000
        }
      },
      "source": [
        "def main():\n",
        "\n",
        "    trainer = Trainer()\n",
        "\n",
        "    # -- Preprocessing -- #\n",
        "    raw_price_data = trainer.fetch_latest_BTC_JSON()\n",
        "    data_df = trainer.parse_alphaV_JSON(raw_data=raw_price_data)\n",
        "    data_df = data_df.iloc[::-1] # Flip data\n",
        "\n",
        "    # Seperating the y-data\n",
        "    prices = np.array(data_df['4a. close (USD)'].tolist())\n",
        "   \n",
        "    # Temporary dataframe for creating an extra normalizer for re-scaling inference values later\n",
        "    data_df_temp = data_df.drop(labels=['1a. open (USD)','1b. open (USD)','2b. high (USD)','3b. low (USD)','4a. close (USD)','4b. close (USD)','6. market cap (USD)'],axis=1) # ,'2a. high (USD)','3a. low (USD)'\n",
        "    minmax_2 = preprocessing.MinMaxScaler()\n",
        "    data_df_temp = pd.DataFrame(minmax_2.fit_transform(data_df_temp), columns=data_df_temp.columns)\n",
        "    \n",
        "    # -- Normalize the Data --\n",
        "    min_max_scaler = preprocessing.MinMaxScaler()\n",
        "    data_df = pd.DataFrame(min_max_scaler.fit_transform(data_df), columns=data_df.columns)\n",
        "    data_df = trainer.table_edit(data_df)\n",
        "    y_train = np.array(data_df['4a. close (USD)'].tolist())\n",
        "    data_df = data_df.drop(labels=['4a. close (USD)'],axis=1)\n",
        "    \n",
        "    data_df = data_df.drop(labels=['1a. open (USD)','6. market cap (USD)'],axis=1)\n",
        "    print('---new---')\n",
        "    print(data_df)\n",
        " \n",
        "    model = TestRNN(bat_size=config['batch_size'],\n",
        "                    in_features=3,\n",
        "                    h_size=config['lstm_hidden_size'],\n",
        "                    layer_amnt=config['lstm_num_layers']\n",
        "                    ) \n",
        "    #model = TimeCNN()\n",
        "    #model = MLP(3)\n",
        "\n",
        "    losses, test_data_loader, loss_func, model, min_price, max_price, test_prices = trainer.train(model=model, \n",
        "                                                                                                  x_data=data_df.values,\n",
        "                                                                                                  y_data=y_train,\n",
        "                                                                                                  original_prices=prices,\n",
        "                                                                                                  epochs=config['epochs']\n",
        "                                                                                                  )\n",
        "    trainer.loss_visualize(losses)\n",
        "    _, _, all_unnormed_outputs = trainer.validation_test(test_dataloader=test_data_loader,criterion=loss_func, model=model, norm_min=min_price, norm_max=max_price)\n",
        "    \n",
        "    trainer.prediction_visualization(minimum_price=min_price,maximum_price=max_price,close_prices=test_prices,model_predictions=all_unnormed_outputs)\n",
        "    return minmax_2,model,min_price,max_price\n",
        "\n",
        "min_max_scaler,price_model,min_price,max_price = main()"
      ],
      "execution_count": 151,
      "outputs": [
        {
          "output_type": "stream",
          "text": [
            "0it [00:00, ?it/s]/usr/local/lib/python3.6/dist-packages/torch/nn/modules/loss.py:443: UserWarning: Using a target size (torch.Size([1])) that is different to the input size (torch.Size([1, 1, 1])). This will likely lead to incorrect results due to broadcasting. Please ensure they have the same size.\n",
            "  return F.mse_loss(input, target, reduction=self.reduction)\n",
            "56it [00:00, 558.75it/s]"
          ],
          "name": "stderr"
        },
        {
          "output_type": "stream",
          "text": [
            "---new---\n",
            "      2a. high (USD)  3a. low (USD)  5. volume\n",
            "0           0.014211       0.015871   0.065599\n",
            "1           0.014355       0.013845   0.100519\n",
            "2           0.012236       0.012991   0.077509\n",
            "3           0.012484       0.013762   0.040911\n",
            "4           0.012945       0.014617   0.022424\n",
            "5           0.013249       0.014911   0.017252\n",
            "6           0.012887       0.014522   0.029798\n",
            "7           0.012805       0.014599   0.019009\n",
            "8           0.012839       0.014362   0.024194\n",
            "9           0.012070       0.009860   0.140818\n",
            "10          0.011075       0.009354   0.137174\n",
            "11          0.011771       0.012994   0.041614\n",
            "12          0.011221       0.011829   0.049542\n",
            "13          0.013162       0.012539   0.098314\n",
            "14          0.015952       0.015069   0.092624\n",
            "15          0.017025       0.017238   0.092662\n",
            "16          0.016395       0.016630   0.058510\n",
            "17          0.014684       0.015970   0.033406\n",
            "18          0.015022       0.015944   0.031836\n",
            "19          0.015335       0.017046   0.017060\n",
            "20          0.015214       0.017085   0.024600\n",
            "21          0.015527       0.016735   0.019979\n",
            "22          0.014785       0.016675   0.015215\n",
            "23          0.015437       0.016455   0.020052\n",
            "24          0.015295       0.014523   0.087341\n",
            "25          0.013033       0.014837   0.022632\n",
            "26          0.013104       0.014165   0.020683\n",
            "27          0.012035       0.013445   0.047005\n",
            "28          0.012851       0.014013   0.029785\n",
            "29          0.012825       0.014131   0.027454\n",
            "...              ...            ...        ...\n",
            "1915        0.617741       0.603804   0.099438\n",
            "1916        0.608868       0.567487   0.099433\n",
            "1917        0.559513       0.530156   0.139375\n",
            "1918        0.544439       0.512019   0.144343\n",
            "1919        0.597755       0.572169   0.135481\n",
            "1920        0.600840       0.587116   0.086402\n",
            "1921        0.569810       0.573142   0.081185\n",
            "1922        0.583661       0.581017   0.061057\n",
            "1923        0.579340       0.588668   0.048619\n",
            "1924        0.618587       0.600718   0.079138\n",
            "1925        0.639539       0.645278   0.097185\n",
            "1926        0.657030       0.619128   0.145848\n",
            "1927        0.604970       0.584006   0.124805\n",
            "1928        0.594753       0.588930   0.069069\n",
            "1929        0.591270       0.572785   0.071339\n",
            "1930        0.570775       0.539536   0.094342\n",
            "1931        0.551091       0.523810   0.110072\n",
            "1932        0.549693       0.495538   0.140342\n",
            "1933        0.495285       0.481139   0.118756\n",
            "1934        0.534817       0.492144   0.123273\n",
            "1935        0.534293       0.537854   0.078462\n",
            "1936        0.550011       0.550673   0.126703\n",
            "1937        0.540438       0.551110   0.078611\n",
            "1938        0.530167       0.534912   0.066031\n",
            "1939        0.514769       0.520250   0.067275\n",
            "1940        0.493587       0.504494   0.071496\n",
            "1941        0.505751       0.515214   0.054223\n",
            "1942        0.493175       0.512645   0.043757\n",
            "1943        0.506331       0.495625   0.071350\n",
            "1944        0.475978       0.484464   0.044569\n",
            "\n",
            "[1945 rows x 3 columns]\n",
            "----Dataset Prep----\n",
            "-- Model Architecture --\n",
            "TestRNN(\n",
            "  (lstm1): LSTM(3, 1, batch_first=True)\n",
            "  (fc1): Linear(in_features=1, out_features=32, bias=True)\n",
            "  (fc2): Linear(in_features=32, out_features=1, bias=True)\n",
            ")\n",
            "Sending model to Tesla T4  GPU\n"
          ],
          "name": "stdout"
        },
        {
          "output_type": "stream",
          "text": [
            "1556it [00:02, 570.10it/s]\n",
            "59it [00:00, 581.63it/s]"
          ],
          "name": "stderr"
        },
        {
          "output_type": "stream",
          "text": [
            "Epoch [1/50], Loss: 0.0015299305086955428\n",
            "-----------------------------------------------------------------------------\n"
          ],
          "name": "stdout"
        },
        {
          "output_type": "stream",
          "text": [
            "1556it [00:02, 563.55it/s]\n",
            "59it [00:00, 586.15it/s]"
          ],
          "name": "stderr"
        },
        {
          "output_type": "stream",
          "text": [
            "Epoch [2/50], Loss: 0.0003102469490841031\n",
            "-----------------------------------------------------------------------------\n"
          ],
          "name": "stdout"
        },
        {
          "output_type": "stream",
          "text": [
            "1556it [00:02, 560.59it/s]\n",
            "57it [00:00, 561.56it/s]"
          ],
          "name": "stderr"
        },
        {
          "output_type": "stream",
          "text": [
            "Epoch [3/50], Loss: 1.7837412087828852e-05\n",
            "-----------------------------------------------------------------------------\n"
          ],
          "name": "stdout"
        },
        {
          "output_type": "stream",
          "text": [
            "1556it [00:02, 553.66it/s]\n",
            "55it [00:00, 541.59it/s]"
          ],
          "name": "stderr"
        },
        {
          "output_type": "stream",
          "text": [
            "Epoch [4/50], Loss: 2.482680372395407e-07\n",
            "-----------------------------------------------------------------------------\n"
          ],
          "name": "stdout"
        },
        {
          "output_type": "stream",
          "text": [
            "1556it [00:02, 555.23it/s]\n",
            "58it [00:00, 570.76it/s]"
          ],
          "name": "stderr"
        },
        {
          "output_type": "stream",
          "text": [
            "Epoch [5/50], Loss: 9.657028385845479e-07\n",
            "-----------------------------------------------------------------------------\n"
          ],
          "name": "stdout"
        },
        {
          "output_type": "stream",
          "text": [
            "1556it [00:02, 568.10it/s]\n",
            "55it [00:00, 547.53it/s]"
          ],
          "name": "stderr"
        },
        {
          "output_type": "stream",
          "text": [
            "Epoch [6/50], Loss: 1.3465670178902656e-07\n",
            "-----------------------------------------------------------------------------\n"
          ],
          "name": "stdout"
        },
        {
          "output_type": "stream",
          "text": [
            "1556it [00:02, 557.31it/s]\n",
            "59it [00:00, 587.53it/s]"
          ],
          "name": "stderr"
        },
        {
          "output_type": "stream",
          "text": [
            "Epoch [7/50], Loss: 3.5468119676806964e-06\n",
            "-----------------------------------------------------------------------------\n"
          ],
          "name": "stdout"
        },
        {
          "output_type": "stream",
          "text": [
            "1556it [00:02, 570.29it/s]\n",
            "58it [00:00, 579.61it/s]"
          ],
          "name": "stderr"
        },
        {
          "output_type": "stream",
          "text": [
            "Epoch [8/50], Loss: 9.571653208695352e-06\n",
            "-----------------------------------------------------------------------------\n"
          ],
          "name": "stdout"
        },
        {
          "output_type": "stream",
          "text": [
            "1556it [00:02, 570.30it/s]\n",
            "56it [00:00, 558.91it/s]"
          ],
          "name": "stderr"
        },
        {
          "output_type": "stream",
          "text": [
            "Epoch [9/50], Loss: 1.5661176803405397e-05\n",
            "-----------------------------------------------------------------------------\n"
          ],
          "name": "stdout"
        },
        {
          "output_type": "stream",
          "text": [
            "1556it [00:02, 568.96it/s]\n",
            "59it [00:00, 580.77it/s]"
          ],
          "name": "stderr"
        },
        {
          "output_type": "stream",
          "text": [
            "Epoch [10/50], Loss: 2.043874337687157e-05\n",
            "-----------------------------------------------------------------------------\n"
          ],
          "name": "stdout"
        },
        {
          "output_type": "stream",
          "text": [
            "1556it [00:02, 571.04it/s]\n",
            "58it [00:00, 571.28it/s]"
          ],
          "name": "stderr"
        },
        {
          "output_type": "stream",
          "text": [
            "Epoch [11/50], Loss: 2.3511516701546498e-05\n",
            "-----------------------------------------------------------------------------\n"
          ],
          "name": "stdout"
        },
        {
          "output_type": "stream",
          "text": [
            "1556it [00:02, 574.89it/s]\n",
            "60it [00:00, 595.44it/s]"
          ],
          "name": "stderr"
        },
        {
          "output_type": "stream",
          "text": [
            "Epoch [12/50], Loss: 2.5039009415195324e-05\n",
            "-----------------------------------------------------------------------------\n"
          ],
          "name": "stdout"
        },
        {
          "output_type": "stream",
          "text": [
            "1556it [00:02, 565.27it/s]\n",
            "59it [00:00, 589.03it/s]"
          ],
          "name": "stderr"
        },
        {
          "output_type": "stream",
          "text": [
            "Epoch [13/50], Loss: 2.5385279514011927e-05\n",
            "-----------------------------------------------------------------------------\n"
          ],
          "name": "stdout"
        },
        {
          "output_type": "stream",
          "text": [
            "1556it [00:02, 580.88it/s]\n",
            "61it [00:00, 602.66it/s]"
          ],
          "name": "stderr"
        },
        {
          "output_type": "stream",
          "text": [
            "Epoch [14/50], Loss: 2.4907947590691037e-05\n",
            "-----------------------------------------------------------------------------\n"
          ],
          "name": "stdout"
        },
        {
          "output_type": "stream",
          "text": [
            "1556it [00:02, 575.27it/s]\n",
            "58it [00:00, 573.90it/s]"
          ],
          "name": "stderr"
        },
        {
          "output_type": "stream",
          "text": [
            "Epoch [15/50], Loss: 2.3880582375568338e-05\n",
            "-----------------------------------------------------------------------------\n"
          ],
          "name": "stdout"
        },
        {
          "output_type": "stream",
          "text": [
            "1556it [00:02, 570.16it/s]\n",
            "57it [00:00, 569.88it/s]"
          ],
          "name": "stderr"
        },
        {
          "output_type": "stream",
          "text": [
            "Epoch [16/50], Loss: 2.249557655886747e-05\n",
            "-----------------------------------------------------------------------------\n"
          ],
          "name": "stdout"
        },
        {
          "output_type": "stream",
          "text": [
            "1556it [00:02, 576.58it/s]\n",
            "55it [00:00, 547.35it/s]"
          ],
          "name": "stderr"
        },
        {
          "output_type": "stream",
          "text": [
            "Epoch [17/50], Loss: 2.0881425371044315e-05\n",
            "-----------------------------------------------------------------------------\n"
          ],
          "name": "stdout"
        },
        {
          "output_type": "stream",
          "text": [
            "1556it [00:02, 572.94it/s]\n",
            "57it [00:00, 564.42it/s]"
          ],
          "name": "stderr"
        },
        {
          "output_type": "stream",
          "text": [
            "Epoch [18/50], Loss: 1.9125596736557782e-05\n",
            "-----------------------------------------------------------------------------\n"
          ],
          "name": "stdout"
        },
        {
          "output_type": "stream",
          "text": [
            "1556it [00:02, 563.76it/s]\n",
            "58it [00:00, 577.19it/s]"
          ],
          "name": "stderr"
        },
        {
          "output_type": "stream",
          "text": [
            "Epoch [19/50], Loss: 1.7293095879722387e-05\n",
            "-----------------------------------------------------------------------------\n"
          ],
          "name": "stdout"
        },
        {
          "output_type": "stream",
          "text": [
            "1556it [00:02, 566.51it/s]\n",
            "52it [00:00, 513.72it/s]"
          ],
          "name": "stderr"
        },
        {
          "output_type": "stream",
          "text": [
            "Epoch [20/50], Loss: 1.54311019286979e-05\n",
            "-----------------------------------------------------------------------------\n"
          ],
          "name": "stdout"
        },
        {
          "output_type": "stream",
          "text": [
            "1556it [00:02, 537.63it/s]\n",
            "57it [00:00, 560.82it/s]"
          ],
          "name": "stderr"
        },
        {
          "output_type": "stream",
          "text": [
            "Epoch [21/50], Loss: 1.3580964150605723e-05\n",
            "-----------------------------------------------------------------------------\n"
          ],
          "name": "stdout"
        },
        {
          "output_type": "stream",
          "text": [
            "1556it [00:02, 535.98it/s]\n",
            "55it [00:00, 546.48it/s]"
          ],
          "name": "stderr"
        },
        {
          "output_type": "stream",
          "text": [
            "Epoch [22/50], Loss: 1.1771095159929246e-05\n",
            "-----------------------------------------------------------------------------\n"
          ],
          "name": "stdout"
        },
        {
          "output_type": "stream",
          "text": [
            "1556it [00:02, 531.97it/s]\n",
            "57it [00:00, 563.44it/s]"
          ],
          "name": "stderr"
        },
        {
          "output_type": "stream",
          "text": [
            "Epoch [23/50], Loss: 1.0031420970335603e-05\n",
            "-----------------------------------------------------------------------------\n"
          ],
          "name": "stdout"
        },
        {
          "output_type": "stream",
          "text": [
            "1556it [00:02, 556.13it/s]\n",
            "50it [00:00, 494.38it/s]"
          ],
          "name": "stderr"
        },
        {
          "output_type": "stream",
          "text": [
            "Epoch [24/50], Loss: 8.384979992115404e-06\n",
            "-----------------------------------------------------------------------------\n"
          ],
          "name": "stdout"
        },
        {
          "output_type": "stream",
          "text": [
            "1556it [00:02, 580.26it/s]\n",
            "60it [00:00, 591.64it/s]"
          ],
          "name": "stderr"
        },
        {
          "output_type": "stream",
          "text": [
            "Epoch [25/50], Loss: 6.851661055407021e-06\n",
            "-----------------------------------------------------------------------------\n"
          ],
          "name": "stdout"
        },
        {
          "output_type": "stream",
          "text": [
            "1556it [00:02, 575.40it/s]\n",
            "58it [00:00, 579.96it/s]"
          ],
          "name": "stderr"
        },
        {
          "output_type": "stream",
          "text": [
            "Epoch [26/50], Loss: 5.449080163089093e-06\n",
            "-----------------------------------------------------------------------------\n"
          ],
          "name": "stdout"
        },
        {
          "output_type": "stream",
          "text": [
            "1556it [00:02, 577.91it/s]\n",
            "51it [00:00, 505.51it/s]"
          ],
          "name": "stderr"
        },
        {
          "output_type": "stream",
          "text": [
            "Epoch [27/50], Loss: 4.190096660749987e-06\n",
            "-----------------------------------------------------------------------------\n"
          ],
          "name": "stdout"
        },
        {
          "output_type": "stream",
          "text": [
            "1556it [00:02, 571.51it/s]\n",
            "57it [00:00, 561.66it/s]"
          ],
          "name": "stderr"
        },
        {
          "output_type": "stream",
          "text": [
            "Epoch [28/50], Loss: 3.086301603616448e-06\n",
            "-----------------------------------------------------------------------------\n"
          ],
          "name": "stdout"
        },
        {
          "output_type": "stream",
          "text": [
            "1556it [00:02, 577.04it/s]\n",
            "56it [00:00, 549.47it/s]"
          ],
          "name": "stderr"
        },
        {
          "output_type": "stream",
          "text": [
            "Epoch [29/50], Loss: 2.146465703845024e-06\n",
            "-----------------------------------------------------------------------------\n"
          ],
          "name": "stdout"
        },
        {
          "output_type": "stream",
          "text": [
            "1556it [00:02, 571.36it/s]\n",
            "60it [00:00, 584.20it/s]"
          ],
          "name": "stderr"
        },
        {
          "output_type": "stream",
          "text": [
            "Epoch [30/50], Loss: 1.374716362079198e-06\n",
            "-----------------------------------------------------------------------------\n"
          ],
          "name": "stdout"
        },
        {
          "output_type": "stream",
          "text": [
            "1556it [00:02, 578.05it/s]\n",
            "57it [00:00, 561.40it/s]"
          ],
          "name": "stderr"
        },
        {
          "output_type": "stream",
          "text": [
            "Epoch [31/50], Loss: 7.744577033008682e-07\n",
            "-----------------------------------------------------------------------------\n"
          ],
          "name": "stdout"
        },
        {
          "output_type": "stream",
          "text": [
            "1556it [00:02, 567.79it/s]\n",
            "59it [00:00, 589.59it/s]"
          ],
          "name": "stderr"
        },
        {
          "output_type": "stream",
          "text": [
            "Epoch [32/50], Loss: 3.4616448374436004e-07\n",
            "-----------------------------------------------------------------------------\n"
          ],
          "name": "stdout"
        },
        {
          "output_type": "stream",
          "text": [
            "1556it [00:02, 571.38it/s]\n",
            "56it [00:00, 552.73it/s]"
          ],
          "name": "stderr"
        },
        {
          "output_type": "stream",
          "text": [
            "Epoch [33/50], Loss: 8.897778513983212e-08\n",
            "-----------------------------------------------------------------------------\n"
          ],
          "name": "stdout"
        },
        {
          "output_type": "stream",
          "text": [
            "1556it [00:02, 555.33it/s]\n",
            "58it [00:00, 577.12it/s]"
          ],
          "name": "stderr"
        },
        {
          "output_type": "stream",
          "text": [
            "Epoch [34/50], Loss: 1.1383249898244685e-10\n",
            "-----------------------------------------------------------------------------\n"
          ],
          "name": "stdout"
        },
        {
          "output_type": "stream",
          "text": [
            "1556it [00:02, 571.11it/s]\n",
            "56it [00:00, 558.47it/s]"
          ],
          "name": "stderr"
        },
        {
          "output_type": "stream",
          "text": [
            "Epoch [35/50], Loss: 7.50447384234576e-08\n",
            "-----------------------------------------------------------------------------\n"
          ],
          "name": "stdout"
        },
        {
          "output_type": "stream",
          "text": [
            "1556it [00:02, 578.74it/s]\n",
            "57it [00:00, 569.61it/s]"
          ],
          "name": "stderr"
        },
        {
          "output_type": "stream",
          "text": [
            "Epoch [36/50], Loss: 3.074063670283067e-07\n",
            "-----------------------------------------------------------------------------\n"
          ],
          "name": "stdout"
        },
        {
          "output_type": "stream",
          "text": [
            "1556it [00:02, 576.56it/s]\n",
            "53it [00:00, 525.40it/s]"
          ],
          "name": "stderr"
        },
        {
          "output_type": "stream",
          "text": [
            "Epoch [37/50], Loss: 6.893365025462117e-07\n",
            "-----------------------------------------------------------------------------\n"
          ],
          "name": "stdout"
        },
        {
          "output_type": "stream",
          "text": [
            "1556it [00:02, 569.31it/s]\n",
            "58it [00:00, 577.70it/s]"
          ],
          "name": "stderr"
        },
        {
          "output_type": "stream",
          "text": [
            "Epoch [38/50], Loss: 1.2105983842047863e-06\n",
            "-----------------------------------------------------------------------------\n"
          ],
          "name": "stdout"
        },
        {
          "output_type": "stream",
          "text": [
            "1556it [00:02, 577.35it/s]\n",
            "59it [00:00, 580.80it/s]"
          ],
          "name": "stderr"
        },
        {
          "output_type": "stream",
          "text": [
            "Epoch [39/50], Loss: 1.8588503962746472e-06\n",
            "-----------------------------------------------------------------------------\n"
          ],
          "name": "stdout"
        },
        {
          "output_type": "stream",
          "text": [
            "1556it [00:02, 579.55it/s]\n",
            "58it [00:00, 579.04it/s]"
          ],
          "name": "stderr"
        },
        {
          "output_type": "stream",
          "text": [
            "Epoch [40/50], Loss: 2.6212935608782573e-06\n",
            "-----------------------------------------------------------------------------\n"
          ],
          "name": "stdout"
        },
        {
          "output_type": "stream",
          "text": [
            "1556it [00:02, 560.12it/s]\n",
            "60it [00:00, 594.76it/s]"
          ],
          "name": "stderr"
        },
        {
          "output_type": "stream",
          "text": [
            "Epoch [41/50], Loss: 3.482115062070079e-06\n",
            "-----------------------------------------------------------------------------\n"
          ],
          "name": "stdout"
        },
        {
          "output_type": "stream",
          "text": [
            "1556it [00:02, 576.72it/s]\n",
            "60it [00:00, 597.68it/s]"
          ],
          "name": "stderr"
        },
        {
          "output_type": "stream",
          "text": [
            "Epoch [42/50], Loss: 4.427251951710787e-06\n",
            "-----------------------------------------------------------------------------\n"
          ],
          "name": "stdout"
        },
        {
          "output_type": "stream",
          "text": [
            "1556it [00:02, 582.76it/s]\n",
            "57it [00:00, 568.48it/s]"
          ],
          "name": "stderr"
        },
        {
          "output_type": "stream",
          "text": [
            "Epoch [43/50], Loss: 5.439623237180058e-06\n",
            "-----------------------------------------------------------------------------\n"
          ],
          "name": "stdout"
        },
        {
          "output_type": "stream",
          "text": [
            "1556it [00:02, 580.01it/s]\n",
            "60it [00:00, 597.54it/s]"
          ],
          "name": "stderr"
        },
        {
          "output_type": "stream",
          "text": [
            "Epoch [44/50], Loss: 6.505722467409214e-06\n",
            "-----------------------------------------------------------------------------\n"
          ],
          "name": "stdout"
        },
        {
          "output_type": "stream",
          "text": [
            "1556it [00:02, 571.76it/s]\n",
            "59it [00:00, 586.47it/s]"
          ],
          "name": "stderr"
        },
        {
          "output_type": "stream",
          "text": [
            "Epoch [45/50], Loss: 7.609667591168545e-06\n",
            "-----------------------------------------------------------------------------\n"
          ],
          "name": "stdout"
        },
        {
          "output_type": "stream",
          "text": [
            "1556it [00:02, 575.97it/s]\n",
            "61it [00:00, 600.64it/s]"
          ],
          "name": "stderr"
        },
        {
          "output_type": "stream",
          "text": [
            "Epoch [46/50], Loss: 8.738834367250092e-06\n",
            "-----------------------------------------------------------------------------\n"
          ],
          "name": "stdout"
        },
        {
          "output_type": "stream",
          "text": [
            "1556it [00:02, 576.27it/s]\n",
            "57it [00:00, 563.92it/s]"
          ],
          "name": "stderr"
        },
        {
          "output_type": "stream",
          "text": [
            "Epoch [47/50], Loss: 9.879839126369916e-06\n",
            "-----------------------------------------------------------------------------\n"
          ],
          "name": "stdout"
        },
        {
          "output_type": "stream",
          "text": [
            "1556it [00:02, 577.19it/s]\n",
            "60it [00:00, 598.62it/s]"
          ],
          "name": "stderr"
        },
        {
          "output_type": "stream",
          "text": [
            "Epoch [48/50], Loss: 1.1018103577953298e-05\n",
            "-----------------------------------------------------------------------------\n"
          ],
          "name": "stdout"
        },
        {
          "output_type": "stream",
          "text": [
            "1556it [00:02, 576.99it/s]\n",
            "60it [00:00, 596.99it/s]"
          ],
          "name": "stderr"
        },
        {
          "output_type": "stream",
          "text": [
            "Epoch [49/50], Loss: 1.214227631862741e-05\n",
            "-----------------------------------------------------------------------------\n"
          ],
          "name": "stdout"
        },
        {
          "output_type": "stream",
          "text": [
            "1556it [00:02, 580.48it/s]\n"
          ],
          "name": "stderr"
        },
        {
          "output_type": "stream",
          "text": [
            "Epoch [50/50], Loss: 1.3236340237199329e-05\n",
            "-----------------------------------------------------------------------------\n",
            "[tensor(0.0015, device='cuda:0') tensor(0.0003, device='cuda:0')\n",
            " tensor(1.7837e-05, device='cuda:0') tensor(2.4827e-07, device='cuda:0')\n",
            " tensor(9.6570e-07, device='cuda:0') tensor(1.3466e-07, device='cuda:0')\n",
            " tensor(3.5468e-06, device='cuda:0') tensor(9.5717e-06, device='cuda:0')\n",
            " tensor(1.5661e-05, device='cuda:0') tensor(2.0439e-05, device='cuda:0')\n",
            " tensor(2.3512e-05, device='cuda:0') tensor(2.5039e-05, device='cuda:0')\n",
            " tensor(2.5385e-05, device='cuda:0') tensor(2.4908e-05, device='cuda:0')\n",
            " tensor(2.3881e-05, device='cuda:0') tensor(2.2496e-05, device='cuda:0')\n",
            " tensor(2.0881e-05, device='cuda:0') tensor(1.9126e-05, device='cuda:0')\n",
            " tensor(1.7293e-05, device='cuda:0') tensor(1.5431e-05, device='cuda:0')\n",
            " tensor(1.3581e-05, device='cuda:0') tensor(1.1771e-05, device='cuda:0')\n",
            " tensor(1.0031e-05, device='cuda:0') tensor(8.3850e-06, device='cuda:0')\n",
            " tensor(6.8517e-06, device='cuda:0') tensor(5.4491e-06, device='cuda:0')\n",
            " tensor(4.1901e-06, device='cuda:0') tensor(3.0863e-06, device='cuda:0')\n",
            " tensor(2.1465e-06, device='cuda:0') tensor(1.3747e-06, device='cuda:0')\n",
            " tensor(7.7446e-07, device='cuda:0') tensor(3.4616e-07, device='cuda:0')\n",
            " tensor(8.8978e-08, device='cuda:0') tensor(1.1383e-10, device='cuda:0')\n",
            " tensor(7.5045e-08, device='cuda:0') tensor(3.0741e-07, device='cuda:0')\n",
            " tensor(6.8934e-07, device='cuda:0') tensor(1.2106e-06, device='cuda:0')\n",
            " tensor(1.8589e-06, device='cuda:0') tensor(2.6213e-06, device='cuda:0')\n",
            " tensor(3.4821e-06, device='cuda:0') tensor(4.4273e-06, device='cuda:0')\n",
            " tensor(5.4396e-06, device='cuda:0') tensor(6.5057e-06, device='cuda:0')\n",
            " tensor(7.6097e-06, device='cuda:0') tensor(8.7388e-06, device='cuda:0')\n",
            " tensor(9.8798e-06, device='cuda:0') tensor(1.1018e-05, device='cuda:0')\n",
            " tensor(1.2142e-05, device='cuda:0') tensor(1.3236e-05, device='cuda:0')]\n",
            "[ 6560.11114254  6636.53627348  6774.69022384  6737.46429176\n",
            "  6708.48141789  6330.18659771  6423.04042267  6238.16187736\n",
            "  6252.54430099  6287.34536857  6370.69156202  6756.4192309\n",
            "  7341.35947304  7393.81792842  7475.40689152  7348.91089276\n",
            "  7424.29955259  7425.79046231  7721.92490928  8407.79531239\n",
            "  8180.32125737  7959.21988897  8161.90322246  8190.11748672\n",
            "  8211.75844822  8180.93000635  7752.9686645   7610.51252298\n",
            "  7553.60622647  7421.93900489  7013.11355544  7044.08904097\n",
            "  6944.98718708  6730.3463785   6271.18103145  6548.04055443\n",
            "  6165.02886932  6275.25287495  6330.03454277  6274.7676068\n",
            "  6202.19991566  6288.04626781  6322.61420485  6578.94705862\n",
            "  6418.43716667  6488.41202577  6310.51821252  6473.85384868\n",
            "  6369.81019672  6530.66522891  6693.30788869  6748.21414819\n",
            "  6729.41221601  6902.47153692  7084.51901362  7040.04581263\n",
            "  6985.97553485  7046.78303475  7193.12246679  7277.19919306\n",
            "  7255.24079169  7364.44304581  6704.71475914  6503.56429735\n",
            "  6446.21011185  6203.58845719  6260.21630907  6317.64690575\n",
            "  6289.96127905  6339.01032166  6498.65153172  6492.36704562\n",
            "  6524.67067555  6501.49901345  6273.4174209   6353.99526239\n",
            "  6400.64083224  6512.75494432  6754.67772598  6721.98452917\n",
            "  6702.90464229  6601.14291014  6439.56257032  6474.58160941\n",
            "  6684.70938949  6635.1872506   6604.28257681  6630.37019087\n",
            "  6581.95220852  6542.04345297  6490.56723447  6557.96350838\n",
            "  6626.9359544   6589.33176365  6591.5776855   6656.37508543\n",
            "  6617.30268565  6577.59820344  6228.87043888  6246.0161118\n",
            "  6245.56502557  6282.56544136  6613.71080922  6615.21872304\n",
            "  6540.98905599  6498.37267454  6443.59821772  6489.16968154\n",
            "  6500.72715805  6467.1973034   6482.88005037  6494.28941705\n",
            "  6458.69866081  6446.82714927  6444.30309146  6445.25955128\n",
            "  6312.25999418  6308.63047507  6337.46209336  6379.22152992\n",
            "  6395.39242935  6377.50569597  6456.19377989  6442.32938958\n",
            "  6471.10864054  6522.47832878  6448.56888202  6409.77066369\n",
            "  6399.37621037  6404.82204992  6375.86047086  6362.43585823\n",
            "  5711.90602463  5646.65170714  5573.4164832   5557.54050919\n",
            "  5612.15535796  4837.79524059  4441.81124819  4602.15536416\n",
            "  4349.62801673  4342.7235057   3860.02238685  4016.264014\n",
            "  3781.23279638  3813.48133389  4260.25509769  4273.89434568\n",
            "  4012.0923579   4194.16520798  4131.7900403   3875.30964639\n",
            "  3942.37365098  3752.69330547  3506.85010251  3413.898571\n",
            "  3480.32048335  3615.7697974   3500.08058076  3419.40673955\n",
            "  3485.72627768  3311.7986787   3237.65748004  3241.34911877\n",
            "  3251.99038152  3544.93561315  3702.92221906  3757.9372566\n",
            "  4148.54612705  3902.60087891  4028.9715984   4007.18189341\n",
            "  4080.83952978  3819.71721352  3862.13925499  3655.68630909\n",
            "  3935.76228988  3844.48381381  3877.26435028  3752.05575164\n",
            "  3862.87078827  3950.03743983  3851.62901604  3859.72524329\n",
            "  3848.55075171  4081.77628047  4028.60921722  4026.21386024\n",
            "  4037.57681015  3662.93921775  3665.16647753  3653.02108745\n",
            "  3536.79235732  3699.57009646  3630.25983971  3650.9065022\n",
            "  3673.15951893  3648.95023008  3727.52431048  3602.76867239\n",
            "  3571.11148096  3603.05024184  3579.77476259  3602.36668912\n",
            "  3598.33644091  3597.67821861  3581.70083233  3463.28819308\n",
            "  3440.00601361  3479.30180006  3451.31987662  3479.09411435\n",
            "  3506.52230177  3452.49982061  3455.53312658  3458.86444282\n",
            "  3405.37514383  3390.50540402  3658.38964874  3665.16988048\n",
            "  3686.97761018  3643.486916    3646.32014553  3623.29193634\n",
            "  3609.65272141  3611.647189    3618.71221893  3660.4989769\n",
            "  3910.43067479  3948.832097    3999.2730522   3951.52290765\n",
            "  4002.06967666  4139.65677498  3808.96858015  3883.8054743\n",
            "  3857.29403349  3841.7850284   3855.99925235  3859.79447951\n",
            "  3865.23949756  3846.07536184  3764.86236769  3893.47068584\n",
            "  3900.17974517  3915.96911986  3896.89193755  3973.91117957\n",
            "  3962.28001431  3901.77708601  3913.16049318  3910.52356601\n",
            "  3925.10252397  3964.22086803  4052.95137923  4027.10714962\n",
            "  4035.19903285  4053.91685406  4080.65613614  4031.44060362\n",
            "  4028.55027023  4039.88971813  4015.98603236  3961.27993039\n",
            "  3977.02522142  4080.2130958   4063.93601469  4095.44498708\n",
            "  4223.71830897  4123.61349231  4178.00796545  4882.93197252\n",
            "  4965.66500635  4918.30561026  5035.83413091  5053.21725082\n",
            "  5206.98201238  5300.38106356  5214.98287783  5326.16957297\n",
            "  5071.84691031  5102.91338409  5097.22233148  5166.7912904\n",
            "  5065.99874134  5238.26936286  5253.02808638  5294.8843241\n",
            "  5144.27849978  5275.30762596  5180.68270346  5287.33462994\n",
            "  5544.97293788  5407.00063229  5161.88223622  5194.92187863\n",
            "  5092.79129491  5132.50420292  5210.21459809  5369.63961641\n",
            "  5241.57092364  5533.31385222  5791.74035957  5870.43056758\n",
            "  5834.59479624  5790.26825263  5888.6441294   6007.95831807\n",
            "  6164.44095976  6382.37409703  7193.89903977  6957.47454692\n",
            "  7835.28565227  7998.88575398  8205.9747001   7886.81738993\n",
            "  7337.08626726  7229.94752608  8206.31614111  7994.63943839\n",
            "  7974.50377998  7670.65170943  7875.1687166   7999.25524001\n",
            "  8057.83184639  8672.8835634   8822.26193399  8718.52510888\n",
            "  8669.38243321  8286.57298025  8568.29511316  8559.58679744\n",
            "  8754.0549938   8173.97233015  7670.41734933  7801.36196991\n",
            "  7822.26864212  8035.07592896  7948.69769304  7670.27194893\n",
            "  8001.05616665  7915.50569279  8154.26676229  8232.37108779\n",
            "  8688.28161299  8851.64793581  8984.97872497  9330.36293433\n",
            "  9090.35949671  9293.2206218   9534.67483761 10155.56054856\n",
            " 10698.81735533 10847.10369416 11023.90489058 11754.91156501\n",
            " 12872.8724891  11121.79698612 12355.18458418 11959.32072798\n",
            " 10748.17521215 10593.12739993 10816.38588672 11964.17846179\n",
            " 11196.58957803 10977.84530865 11245.18687332 11469.83708232\n",
            " 12311.24952666 12560.66951349 12133.10265667 11347.91972079\n",
            " 11805.52527406 11371.08351853 10235.69561349 10892.855597\n",
            "  9464.30110037  9667.40442881 10640.42545418 10530.66301176\n",
            " 10780.40529175 10558.57269918 10322.8022907   9904.56899653\n",
            "  9807.19644747  9906.95166254  9869.51696924  9460.70116492\n",
            "  9538.97653615]\n",
            "the item is =\t tensor([[[6501.8291]]], device='cuda:0')\n",
            "the size of the item is =\t torch.Size([1, 1, 1])\n",
            "the item is =\t tensor([[[6491.2285]]], device='cuda:0')\n",
            "the size of the item is =\t torch.Size([1, 1, 1])\n",
            "the item is =\t tensor([[[6632.7949]]], device='cuda:0')\n",
            "the size of the item is =\t torch.Size([1, 1, 1])\n",
            "the item is =\t tensor([[[6729.3872]]], device='cuda:0')\n",
            "the size of the item is =\t torch.Size([1, 1, 1])\n",
            "the item is =\t tensor([[[6697.9922]]], device='cuda:0')\n",
            "the size of the item is =\t torch.Size([1, 1, 1])\n",
            "the item is =\t tensor([[[6417.8105]]], device='cuda:0')\n",
            "the size of the item is =\t torch.Size([1, 1, 1])\n",
            "the item is =\t tensor([[[6268.4912]]], device='cuda:0')\n",
            "the size of the item is =\t torch.Size([1, 1, 1])\n",
            "the item is =\t tensor([[[6147.6143]]], device='cuda:0')\n",
            "the size of the item is =\t torch.Size([1, 1, 1])\n",
            "the item is =\t tensor([[[6128.2334]]], device='cuda:0')\n",
            "the size of the item is =\t torch.Size([1, 1, 1])\n",
            "the item is =\t tensor([[[6149.1646]]], device='cuda:0')\n",
            "the size of the item is =\t torch.Size([1, 1, 1])\n",
            "the item is =\t tensor([[[6238.6558]]], device='cuda:0')\n",
            "the size of the item is =\t torch.Size([1, 1, 1])\n",
            "the item is =\t tensor([[[6447.6499]]], device='cuda:0')\n",
            "the size of the item is =\t torch.Size([1, 1, 1])\n",
            "the item is =\t tensor([[[7027.3145]]], device='cuda:0')\n",
            "the size of the item is =\t torch.Size([1, 1, 1])\n",
            "the item is =\t tensor([[[7488.2749]]], device='cuda:0')\n",
            "the size of the item is =\t torch.Size([1, 1, 1])\n",
            "the item is =\t tensor([[[7512.4478]]], device='cuda:0')\n",
            "the size of the item is =\t torch.Size([1, 1, 1])\n",
            "the item is =\t tensor([[[7554.4829]]], device='cuda:0')\n",
            "the size of the item is =\t torch.Size([1, 1, 1])\n",
            "the item is =\t tensor([[[7453.7090]]], device='cuda:0')\n",
            "the size of the item is =\t torch.Size([1, 1, 1])\n",
            "the item is =\t tensor([[[7600.0176]]], device='cuda:0')\n",
            "the size of the item is =\t torch.Size([1, 1, 1])\n",
            "the item is =\t tensor([[[7699.3628]]], device='cuda:0')\n",
            "the size of the item is =\t torch.Size([1, 1, 1])\n",
            "the item is =\t tensor([[[8240.7920]]], device='cuda:0')\n",
            "the size of the item is =\t torch.Size([1, 1, 1])\n",
            "the item is =\t tensor([[[8507.3027]]], device='cuda:0')\n",
            "the size of the item is =\t torch.Size([1, 1, 1])\n",
            "the item is =\t tensor([[[8314.7959]]], device='cuda:0')\n",
            "the size of the item is =\t torch.Size([1, 1, 1])\n",
            "the item is =\t tensor([[[8265.0908]]], device='cuda:0')\n",
            "the size of the item is =\t torch.Size([1, 1, 1])\n",
            "the item is =\t tensor([[[8429.4307]]], device='cuda:0')\n",
            "the size of the item is =\t torch.Size([1, 1, 1])\n",
            "the item is =\t tensor([[[8483.5205]]], device='cuda:0')\n",
            "the size of the item is =\t torch.Size([1, 1, 1])\n",
            "the item is =\t tensor([[[8276.5283]]], device='cuda:0')\n",
            "the size of the item is =\t torch.Size([1, 1, 1])\n",
            "the item is =\t tensor([[[8103.1533]]], device='cuda:0')\n",
            "the size of the item is =\t torch.Size([1, 1, 1])\n",
            "the item is =\t tensor([[[7732.2563]]], device='cuda:0')\n",
            "the size of the item is =\t torch.Size([1, 1, 1])\n",
            "the item is =\t tensor([[[7744.3149]]], device='cuda:0')\n",
            "the size of the item is =\t torch.Size([1, 1, 1])\n",
            "the item is =\t tensor([[[7516.0713]]], device='cuda:0')\n",
            "the size of the item is =\t torch.Size([1, 1, 1])\n",
            "the item is =\t tensor([[[7282.6968]]], device='cuda:0')\n",
            "the size of the item is =\t torch.Size([1, 1, 1])\n",
            "the item is =\t tensor([[[7021.1123]]], device='cuda:0')\n",
            "the size of the item is =\t torch.Size([1, 1, 1])\n",
            "the item is =\t tensor([[[7029.2524]]], device='cuda:0')\n",
            "the size of the item is =\t torch.Size([1, 1, 1])\n",
            "the item is =\t tensor([[[6906.6826]]], device='cuda:0')\n",
            "the size of the item is =\t torch.Size([1, 1, 1])\n",
            "the item is =\t tensor([[[6308.4185]]], device='cuda:0')\n",
            "the size of the item is =\t torch.Size([1, 1, 1])\n",
            "the item is =\t tensor([[[6292.3950]]], device='cuda:0')\n",
            "the size of the item is =\t torch.Size([1, 1, 1])\n",
            "the item is =\t tensor([[[6161.8091]]], device='cuda:0')\n",
            "the size of the item is =\t torch.Size([1, 1, 1])\n",
            "the item is =\t tensor([[[6095.7671]]], device='cuda:0')\n",
            "the size of the item is =\t torch.Size([1, 1, 1])\n",
            "the item is =\t tensor([[[6184.2808]]], device='cuda:0')\n",
            "the size of the item is =\t torch.Size([1, 1, 1])\n",
            "the item is =\t tensor([[[6199.7900]]], device='cuda:0')\n",
            "the size of the item is =\t torch.Size([1, 1, 1])\n",
            "the item is =\t tensor([[[5875.8726]]], device='cuda:0')\n",
            "the size of the item is =\t torch.Size([1, 1, 1])\n",
            "the item is =\t tensor([[[6214.5825]]], device='cuda:0')\n",
            "the size of the item is =\t torch.Size([1, 1, 1])\n",
            "the item is =\t tensor([[[6225.2051]]], device='cuda:0')\n",
            "the size of the item is =\t torch.Size([1, 1, 1])\n",
            "the item is =\t tensor([[[6329.5601]]], device='cuda:0')\n",
            "the size of the item is =\t torch.Size([1, 1, 1])\n",
            "the item is =\t tensor([[[6387.9966]]], device='cuda:0')\n",
            "the size of the item is =\t torch.Size([1, 1, 1])\n",
            "the item is =\t tensor([[[6342.6279]]], device='cuda:0')\n",
            "the size of the item is =\t torch.Size([1, 1, 1])\n",
            "the item is =\t tensor([[[6284.3394]]], device='cuda:0')\n",
            "the size of the item is =\t torch.Size([1, 1, 1])\n",
            "the item is =\t tensor([[[6280.7246]]], device='cuda:0')\n",
            "the size of the item is =\t torch.Size([1, 1, 1])\n",
            "the item is =\t tensor([[[6409.3818]]], device='cuda:0')\n",
            "the size of the item is =\t torch.Size([1, 1, 1])\n",
            "the item is =\t tensor([[[6353.6372]]], device='cuda:0')\n",
            "the size of the item is =\t torch.Size([1, 1, 1])\n",
            "the item is =\t tensor([[[6526.2778]]], device='cuda:0')\n",
            "the size of the item is =\t torch.Size([1, 1, 1])\n",
            "the item is =\t tensor([[[6689.2212]]], device='cuda:0')\n",
            "the size of the item is =\t torch.Size([1, 1, 1])\n",
            "the item is =\t tensor([[[6650.1328]]], device='cuda:0')\n",
            "the size of the item is =\t torch.Size([1, 1, 1])\n",
            "the item is =\t tensor([[[6749.0708]]], device='cuda:0')\n",
            "the size of the item is =\t torch.Size([1, 1, 1])\n",
            "the item is =\t tensor([[[7006.0596]]], device='cuda:0')\n",
            "the size of the item is =\t torch.Size([1, 1, 1])\n",
            "the item is =\t tensor([[[7071.1519]]], device='cuda:0')\n",
            "the size of the item is =\t torch.Size([1, 1, 1])\n",
            "the item is =\t tensor([[[6896.7954]]], device='cuda:0')\n",
            "the size of the item is =\t torch.Size([1, 1, 1])\n",
            "the item is =\t tensor([[[7009.6602]]], device='cuda:0')\n",
            "the size of the item is =\t torch.Size([1, 1, 1])\n",
            "the item is =\t tensor([[[7199.2324]]], device='cuda:0')\n",
            "the size of the item is =\t torch.Size([1, 1, 1])\n",
            "the item is =\t tensor([[[7278.1104]]], device='cuda:0')\n",
            "the size of the item is =\t torch.Size([1, 1, 1])\n",
            "the item is =\t tensor([[[7348.0425]]], device='cuda:0')\n",
            "the size of the item is =\t torch.Size([1, 1, 1])\n",
            "the item is =\t tensor([[[7410.0005]]], device='cuda:0')\n",
            "the size of the item is =\t torch.Size([1, 1, 1])\n",
            "the item is =\t tensor([[[7038.2075]]], device='cuda:0')\n",
            "the size of the item is =\t torch.Size([1, 1, 1])\n",
            "the item is =\t tensor([[[6403.8677]]], device='cuda:0')\n",
            "the size of the item is =\t torch.Size([1, 1, 1])\n",
            "the item is =\t tensor([[[6365.5405]]], device='cuda:0')\n",
            "the size of the item is =\t torch.Size([1, 1, 1])\n",
            "the item is =\t tensor([[[6200.3823]]], device='cuda:0')\n",
            "the size of the item is =\t torch.Size([1, 1, 1])\n",
            "the item is =\t tensor([[[6181.4058]]], device='cuda:0')\n",
            "the size of the item is =\t torch.Size([1, 1, 1])\n",
            "the item is =\t tensor([[[6183.8125]]], device='cuda:0')\n",
            "the size of the item is =\t torch.Size([1, 1, 1])\n",
            "the item is =\t tensor([[[6192.2432]]], device='cuda:0')\n",
            "the size of the item is =\t torch.Size([1, 1, 1])\n",
            "the item is =\t tensor([[[6167.4785]]], device='cuda:0')\n",
            "the size of the item is =\t torch.Size([1, 1, 1])\n",
            "the item is =\t tensor([[[6324.0874]]], device='cuda:0')\n",
            "the size of the item is =\t torch.Size([1, 1, 1])\n",
            "the item is =\t tensor([[[6417.8833]]], device='cuda:0')\n",
            "the size of the item is =\t torch.Size([1, 1, 1])\n",
            "the item is =\t tensor([[[6457.5449]]], device='cuda:0')\n",
            "the size of the item is =\t torch.Size([1, 1, 1])\n",
            "the item is =\t tensor([[[6432.9580]]], device='cuda:0')\n",
            "the size of the item is =\t torch.Size([1, 1, 1])\n",
            "the item is =\t tensor([[[6281.6113]]], device='cuda:0')\n",
            "the size of the item is =\t torch.Size([1, 1, 1])\n",
            "the item is =\t tensor([[[6175.7178]]], device='cuda:0')\n",
            "the size of the item is =\t torch.Size([1, 1, 1])\n",
            "the item is =\t tensor([[[6169.1514]]], device='cuda:0')\n",
            "the size of the item is =\t torch.Size([1, 1, 1])\n",
            "the item is =\t tensor([[[6363.3110]]], device='cuda:0')\n",
            "the size of the item is =\t torch.Size([1, 1, 1])\n",
            "the item is =\t tensor([[[6543.7017]]], device='cuda:0')\n",
            "the size of the item is =\t torch.Size([1, 1, 1])\n",
            "the item is =\t tensor([[[6694.9014]]], device='cuda:0')\n",
            "the size of the item is =\t torch.Size([1, 1, 1])\n",
            "the item is =\t tensor([[[6696.7842]]], device='cuda:0')\n",
            "the size of the item is =\t torch.Size([1, 1, 1])\n",
            "the item is =\t tensor([[[6596.7998]]], device='cuda:0')\n",
            "the size of the item is =\t torch.Size([1, 1, 1])\n",
            "the item is =\t tensor([[[6380.2148]]], device='cuda:0')\n",
            "the size of the item is =\t torch.Size([1, 1, 1])\n",
            "the item is =\t tensor([[[6384.4751]]], device='cuda:0')\n",
            "the size of the item is =\t torch.Size([1, 1, 1])\n",
            "the item is =\t tensor([[[6506.8589]]], device='cuda:0')\n",
            "the size of the item is =\t torch.Size([1, 1, 1])\n",
            "the item is =\t tensor([[[6615.0776]]], device='cuda:0')\n",
            "the size of the item is =\t torch.Size([1, 1, 1])\n",
            "the item is =\t tensor([[[6496.3198]]], device='cuda:0')\n",
            "the size of the item is =\t torch.Size([1, 1, 1])\n",
            "the item is =\t tensor([[[6548.3638]]], device='cuda:0')\n",
            "the size of the item is =\t torch.Size([1, 1, 1])\n",
            "the item is =\t tensor([[[6529.9668]]], device='cuda:0')\n",
            "the size of the item is =\t torch.Size([1, 1, 1])\n",
            "the item is =\t tensor([[[6489.4897]]], device='cuda:0')\n",
            "the size of the item is =\t torch.Size([1, 1, 1])\n",
            "the item is =\t tensor([[[6396.9209]]], device='cuda:0')\n",
            "the size of the item is =\t torch.Size([1, 1, 1])\n",
            "the item is =\t tensor([[[6476.9302]]], device='cuda:0')\n",
            "the size of the item is =\t torch.Size([1, 1, 1])\n",
            "the item is =\t tensor([[[6526.8262]]], device='cuda:0')\n",
            "the size of the item is =\t torch.Size([1, 1, 1])\n",
            "the item is =\t tensor([[[6543.6367]]], device='cuda:0')\n",
            "the size of the item is =\t torch.Size([1, 1, 1])\n",
            "the item is =\t tensor([[[6505.2637]]], device='cuda:0')\n",
            "the size of the item is =\t torch.Size([1, 1, 1])\n",
            "the item is =\t tensor([[[6561.5356]]], device='cuda:0')\n",
            "the size of the item is =\t torch.Size([1, 1, 1])\n",
            "the item is =\t tensor([[[6570.2896]]], device='cuda:0')\n",
            "the size of the item is =\t torch.Size([1, 1, 1])\n",
            "the item is =\t tensor([[[6512.3091]]], device='cuda:0')\n",
            "the size of the item is =\t torch.Size([1, 1, 1])\n",
            "the item is =\t tensor([[[6226.9438]]], device='cuda:0')\n",
            "the size of the item is =\t torch.Size([1, 1, 1])\n",
            "the item is =\t tensor([[[6111.4009]]], device='cuda:0')\n",
            "the size of the item is =\t torch.Size([1, 1, 1])\n",
            "the item is =\t tensor([[[6144.7334]]], device='cuda:0')\n",
            "the size of the item is =\t torch.Size([1, 1, 1])\n",
            "the item is =\t tensor([[[6171.2290]]], device='cuda:0')\n",
            "the size of the item is =\t torch.Size([1, 1, 1])\n",
            "the item is =\t tensor([[[6478.8784]]], device='cuda:0')\n",
            "the size of the item is =\t torch.Size([1, 1, 1])\n",
            "the item is =\t tensor([[[6569.0894]]], device='cuda:0')\n",
            "the size of the item is =\t torch.Size([1, 1, 1])\n",
            "the item is =\t tensor([[[6506.4048]]], device='cuda:0')\n",
            "the size of the item is =\t torch.Size([1, 1, 1])\n",
            "the item is =\t tensor([[[6435.6401]]], device='cuda:0')\n",
            "the size of the item is =\t torch.Size([1, 1, 1])\n",
            "the item is =\t tensor([[[6387.6611]]], device='cuda:0')\n",
            "the size of the item is =\t torch.Size([1, 1, 1])\n",
            "the item is =\t tensor([[[6384.2070]]], device='cuda:0')\n",
            "the size of the item is =\t torch.Size([1, 1, 1])\n",
            "the item is =\t tensor([[[6445.5635]]], device='cuda:0')\n",
            "the size of the item is =\t torch.Size([1, 1, 1])\n",
            "the item is =\t tensor([[[6438.9990]]], device='cuda:0')\n",
            "the size of the item is =\t torch.Size([1, 1, 1])\n",
            "the item is =\t tensor([[[6374.4478]]], device='cuda:0')\n",
            "the size of the item is =\t torch.Size([1, 1, 1])\n",
            "the item is =\t tensor([[[6408.8696]]], device='cuda:0')\n",
            "the size of the item is =\t torch.Size([1, 1, 1])\n",
            "the item is =\t tensor([[[6380.1514]]], device='cuda:0')\n",
            "the size of the item is =\t torch.Size([1, 1, 1])\n",
            "the item is =\t tensor([[[6382.8003]]], device='cuda:0')\n",
            "the size of the item is =\t torch.Size([1, 1, 1])\n",
            "the item is =\t tensor([[[6386.7075]]], device='cuda:0')\n",
            "the size of the item is =\t torch.Size([1, 1, 1])\n",
            "the item is =\t tensor([[[6380.2275]]], device='cuda:0')\n",
            "the size of the item is =\t torch.Size([1, 1, 1])\n",
            "the item is =\t tensor([[[6266.1968]]], device='cuda:0')\n",
            "the size of the item is =\t torch.Size([1, 1, 1])\n",
            "the item is =\t tensor([[[6196.3042]]], device='cuda:0')\n",
            "the size of the item is =\t torch.Size([1, 1, 1])\n",
            "the item is =\t tensor([[[6185.3071]]], device='cuda:0')\n",
            "the size of the item is =\t torch.Size([1, 1, 1])\n",
            "the item is =\t tensor([[[6254.3887]]], device='cuda:0')\n",
            "the size of the item is =\t torch.Size([1, 1, 1])\n",
            "the item is =\t tensor([[[6295.9131]]], device='cuda:0')\n",
            "the size of the item is =\t torch.Size([1, 1, 1])\n",
            "the item is =\t tensor([[[6276.8774]]], device='cuda:0')\n",
            "the size of the item is =\t torch.Size([1, 1, 1])\n",
            "the item is =\t tensor([[[6334.0400]]], device='cuda:0')\n",
            "the size of the item is =\t torch.Size([1, 1, 1])\n",
            "the item is =\t tensor([[[6369.2134]]], device='cuda:0')\n",
            "the size of the item is =\t torch.Size([1, 1, 1])\n",
            "the item is =\t tensor([[[6358.3354]]], device='cuda:0')\n",
            "the size of the item is =\t torch.Size([1, 1, 1])\n",
            "the item is =\t tensor([[[6429.2310]]], device='cuda:0')\n",
            "the size of the item is =\t torch.Size([1, 1, 1])\n",
            "the item is =\t tensor([[[6406.9185]]], device='cuda:0')\n",
            "the size of the item is =\t torch.Size([1, 1, 1])\n",
            "the item is =\t tensor([[[6325.9126]]], device='cuda:0')\n",
            "the size of the item is =\t torch.Size([1, 1, 1])\n",
            "the item is =\t tensor([[[6336.0010]]], device='cuda:0')\n",
            "the size of the item is =\t torch.Size([1, 1, 1])\n",
            "the item is =\t tensor([[[6282.4302]]], device='cuda:0')\n",
            "the size of the item is =\t torch.Size([1, 1, 1])\n",
            "the item is =\t tensor([[[6296.3755]]], device='cuda:0')\n",
            "the size of the item is =\t torch.Size([1, 1, 1])\n",
            "the item is =\t tensor([[[6248.4326]]], device='cuda:0')\n",
            "the size of the item is =\t torch.Size([1, 1, 1])\n",
            "the item is =\t tensor([[[5634.7158]]], device='cuda:0')\n",
            "the size of the item is =\t torch.Size([1, 1, 1])\n",
            "the item is =\t tensor([[[5223.4224]]], device='cuda:0')\n",
            "the size of the item is =\t torch.Size([1, 1, 1])\n",
            "the item is =\t tensor([[[5301.4111]]], device='cuda:0')\n",
            "the size of the item is =\t torch.Size([1, 1, 1])\n",
            "the item is =\t tensor([[[5290.1514]]], device='cuda:0')\n",
            "the size of the item is =\t torch.Size([1, 1, 1])\n",
            "the item is =\t tensor([[[5350.7412]]], device='cuda:0')\n",
            "the size of the item is =\t torch.Size([1, 1, 1])\n",
            "the item is =\t tensor([[[4798.8931]]], device='cuda:0')\n",
            "the size of the item is =\t torch.Size([1, 1, 1])\n",
            "the item is =\t tensor([[[4061.0840]]], device='cuda:0')\n",
            "the size of the item is =\t torch.Size([1, 1, 1])\n",
            "the item is =\t tensor([[[4090.9597]]], device='cuda:0')\n",
            "the size of the item is =\t torch.Size([1, 1, 1])\n",
            "the item is =\t tensor([[[4113.1328]]], device='cuda:0')\n",
            "the size of the item is =\t torch.Size([1, 1, 1])\n",
            "the item is =\t tensor([[[3897.8997]]], device='cuda:0')\n",
            "the size of the item is =\t torch.Size([1, 1, 1])\n",
            "the item is =\t tensor([[[3697.1882]]], device='cuda:0')\n",
            "the size of the item is =\t torch.Size([1, 1, 1])\n",
            "the item is =\t tensor([[[3405.1680]]], device='cuda:0')\n",
            "the size of the item is =\t torch.Size([1, 1, 1])\n",
            "the item is =\t tensor([[[3442.6462]]], device='cuda:0')\n",
            "the size of the item is =\t torch.Size([1, 1, 1])\n",
            "the item is =\t tensor([[[3357.6340]]], device='cuda:0')\n",
            "the size of the item is =\t torch.Size([1, 1, 1])\n",
            "the item is =\t tensor([[[3654.6699]]], device='cuda:0')\n",
            "the size of the item is =\t torch.Size([1, 1, 1])\n",
            "the item is =\t tensor([[[3869.2600]]], device='cuda:0')\n",
            "the size of the item is =\t torch.Size([1, 1, 1])\n",
            "the item is =\t tensor([[[3725.3979]]], device='cuda:0')\n",
            "the size of the item is =\t torch.Size([1, 1, 1])\n",
            "the item is =\t tensor([[[3741.1750]]], device='cuda:0')\n",
            "the size of the item is =\t torch.Size([1, 1, 1])\n",
            "the item is =\t tensor([[[3809.3711]]], device='cuda:0')\n",
            "the size of the item is =\t torch.Size([1, 1, 1])\n",
            "the item is =\t tensor([[[3590.9299]]], device='cuda:0')\n",
            "the size of the item is =\t torch.Size([1, 1, 1])\n",
            "the item is =\t tensor([[[3549.1096]]], device='cuda:0')\n",
            "the size of the item is =\t torch.Size([1, 1, 1])\n",
            "the item is =\t tensor([[[3469.0928]]], device='cuda:0')\n",
            "the size of the item is =\t torch.Size([1, 1, 1])\n",
            "the item is =\t tensor([[[3292.9204]]], device='cuda:0')\n",
            "the size of the item is =\t torch.Size([1, 1, 1])\n",
            "the item is =\t tensor([[[3002.2666]]], device='cuda:0')\n",
            "the size of the item is =\t torch.Size([1, 1, 1])\n",
            "the item is =\t tensor([[[3088.2483]]], device='cuda:0')\n",
            "the size of the item is =\t torch.Size([1, 1, 1])\n",
            "the item is =\t tensor([[[3220.7188]]], device='cuda:0')\n",
            "the size of the item is =\t torch.Size([1, 1, 1])\n",
            "the item is =\t tensor([[[3196.7356]]], device='cuda:0')\n",
            "the size of the item is =\t torch.Size([1, 1, 1])\n",
            "the item is =\t tensor([[[3100.8145]]], device='cuda:0')\n",
            "the size of the item is =\t torch.Size([1, 1, 1])\n",
            "the item is =\t tensor([[[3128.8853]]], device='cuda:0')\n",
            "the size of the item is =\t torch.Size([1, 1, 1])\n",
            "the item is =\t tensor([[[3055.1985]]], device='cuda:0')\n",
            "the size of the item is =\t torch.Size([1, 1, 1])\n",
            "the item is =\t tensor([[[2945.5508]]], device='cuda:0')\n",
            "the size of the item is =\t torch.Size([1, 1, 1])\n",
            "the item is =\t tensor([[[2929.2505]]], device='cuda:0')\n",
            "the size of the item is =\t torch.Size([1, 1, 1])\n",
            "the item is =\t tensor([[[2966.2039]]], device='cuda:0')\n",
            "the size of the item is =\t torch.Size([1, 1, 1])\n",
            "the item is =\t tensor([[[3084.2747]]], device='cuda:0')\n",
            "the size of the item is =\t torch.Size([1, 1, 1])\n",
            "the item is =\t tensor([[[3240.7637]]], device='cuda:0')\n",
            "the size of the item is =\t torch.Size([1, 1, 1])\n",
            "the item is =\t tensor([[[3411.0784]]], device='cuda:0')\n",
            "the size of the item is =\t torch.Size([1, 1, 1])\n",
            "the item is =\t tensor([[[3541.1472]]], device='cuda:0')\n",
            "the size of the item is =\t torch.Size([1, 1, 1])\n",
            "the item is =\t tensor([[[3626.7896]]], device='cuda:0')\n",
            "the size of the item is =\t torch.Size([1, 1, 1])\n",
            "the item is =\t tensor([[[3576.8269]]], device='cuda:0')\n",
            "the size of the item is =\t torch.Size([1, 1, 1])\n",
            "the item is =\t tensor([[[3666.5757]]], device='cuda:0')\n",
            "the size of the item is =\t torch.Size([1, 1, 1])\n",
            "the item is =\t tensor([[[3738.8098]]], device='cuda:0')\n",
            "the size of the item is =\t torch.Size([1, 1, 1])\n",
            "the item is =\t tensor([[[3543.9897]]], device='cuda:0')\n",
            "the size of the item is =\t torch.Size([1, 1, 1])\n",
            "the item is =\t tensor([[[3465.3167]]], device='cuda:0')\n",
            "the size of the item is =\t torch.Size([1, 1, 1])\n",
            "the item is =\t tensor([[[3396.2966]]], device='cuda:0')\n",
            "the size of the item is =\t torch.Size([1, 1, 1])\n",
            "the item is =\t tensor([[[3432.7622]]], device='cuda:0')\n",
            "the size of the item is =\t torch.Size([1, 1, 1])\n",
            "the item is =\t tensor([[[3553.4973]]], device='cuda:0')\n",
            "the size of the item is =\t torch.Size([1, 1, 1])\n",
            "the item is =\t tensor([[[3500.4961]]], device='cuda:0')\n",
            "the size of the item is =\t torch.Size([1, 1, 1])\n",
            "the item is =\t tensor([[[3439.3691]]], device='cuda:0')\n",
            "the size of the item is =\t torch.Size([1, 1, 1])\n",
            "the item is =\t tensor([[[3434.3027]]], device='cuda:0')\n",
            "the size of the item is =\t torch.Size([1, 1, 1])\n",
            "the item is =\t tensor([[[3522.2542]]], device='cuda:0')\n",
            "the size of the item is =\t torch.Size([1, 1, 1])\n",
            "the item is =\t tensor([[[3525.5593]]], device='cuda:0')\n",
            "the size of the item is =\t torch.Size([1, 1, 1])\n",
            "the item is =\t tensor([[[3472.7190]]], device='cuda:0')\n",
            "the size of the item is =\t torch.Size([1, 1, 1])\n",
            "the item is =\t tensor([[[3505.2441]]], device='cuda:0')\n",
            "the size of the item is =\t torch.Size([1, 1, 1])\n",
            "the item is =\t tensor([[[3582.6177]]], device='cuda:0')\n",
            "the size of the item is =\t torch.Size([1, 1, 1])\n",
            "the item is =\t tensor([[[3672.7134]]], device='cuda:0')\n",
            "the size of the item is =\t torch.Size([1, 1, 1])\n",
            "the item is =\t tensor([[[3667.2422]]], device='cuda:0')\n",
            "the size of the item is =\t torch.Size([1, 1, 1])\n",
            "the item is =\t tensor([[[3661.3186]]], device='cuda:0')\n",
            "the size of the item is =\t torch.Size([1, 1, 1])\n",
            "the item is =\t tensor([[[3454.7273]]], device='cuda:0')\n",
            "the size of the item is =\t torch.Size([1, 1, 1])\n",
            "the item is =\t tensor([[[3307.2971]]], device='cuda:0')\n",
            "the size of the item is =\t torch.Size([1, 1, 1])\n",
            "the item is =\t tensor([[[3307.8977]]], device='cuda:0')\n",
            "the size of the item is =\t torch.Size([1, 1, 1])\n",
            "the item is =\t tensor([[[3259.1160]]], device='cuda:0')\n",
            "the size of the item is =\t torch.Size([1, 1, 1])\n",
            "the item is =\t tensor([[[3273.9497]]], device='cuda:0')\n",
            "the size of the item is =\t torch.Size([1, 1, 1])\n",
            "the item is =\t tensor([[[3307.7361]]], device='cuda:0')\n",
            "the size of the item is =\t torch.Size([1, 1, 1])\n",
            "the item is =\t tensor([[[3296.9871]]], device='cuda:0')\n",
            "the size of the item is =\t torch.Size([1, 1, 1])\n",
            "the item is =\t tensor([[[3293.5884]]], device='cuda:0')\n",
            "the size of the item is =\t torch.Size([1, 1, 1])\n",
            "the item is =\t tensor([[[3305.6045]]], device='cuda:0')\n",
            "the size of the item is =\t torch.Size([1, 1, 1])\n",
            "the item is =\t tensor([[[3345.5396]]], device='cuda:0')\n",
            "the size of the item is =\t torch.Size([1, 1, 1])\n",
            "the item is =\t tensor([[[3302.2644]]], device='cuda:0')\n",
            "the size of the item is =\t torch.Size([1, 1, 1])\n",
            "the item is =\t tensor([[[3230.3989]]], device='cuda:0')\n",
            "the size of the item is =\t torch.Size([1, 1, 1])\n",
            "the item is =\t tensor([[[3221.4646]]], device='cuda:0')\n",
            "the size of the item is =\t torch.Size([1, 1, 1])\n",
            "the item is =\t tensor([[[3221.9316]]], device='cuda:0')\n",
            "the size of the item is =\t torch.Size([1, 1, 1])\n",
            "the item is =\t tensor([[[3243.2273]]], device='cuda:0')\n",
            "the size of the item is =\t torch.Size([1, 1, 1])\n",
            "the item is =\t tensor([[[3243.5322]]], device='cuda:0')\n",
            "the size of the item is =\t torch.Size([1, 1, 1])\n",
            "the item is =\t tensor([[[3273.9458]]], device='cuda:0')\n",
            "the size of the item is =\t torch.Size([1, 1, 1])\n",
            "the item is =\t tensor([[[3236.5823]]], device='cuda:0')\n",
            "the size of the item is =\t torch.Size([1, 1, 1])\n",
            "the item is =\t tensor([[[3148.1965]]], device='cuda:0')\n",
            "the size of the item is =\t torch.Size([1, 1, 1])\n",
            "the item is =\t tensor([[[3097.3899]]], device='cuda:0')\n",
            "the size of the item is =\t torch.Size([1, 1, 1])\n",
            "the item is =\t tensor([[[3119.8250]]], device='cuda:0')\n",
            "the size of the item is =\t torch.Size([1, 1, 1])\n",
            "the item is =\t tensor([[[3125.9983]]], device='cuda:0')\n",
            "the size of the item is =\t torch.Size([1, 1, 1])\n",
            "the item is =\t tensor([[[3120.3157]]], device='cuda:0')\n",
            "the size of the item is =\t torch.Size([1, 1, 1])\n",
            "the item is =\t tensor([[[3149.2075]]], device='cuda:0')\n",
            "the size of the item is =\t torch.Size([1, 1, 1])\n",
            "the item is =\t tensor([[[3139.8645]]], device='cuda:0')\n",
            "the size of the item is =\t torch.Size([1, 1, 1])\n",
            "the item is =\t tensor([[[3125.8047]]], device='cuda:0')\n",
            "the size of the item is =\t torch.Size([1, 1, 1])\n",
            "the item is =\t tensor([[[3126.8975]]], device='cuda:0')\n",
            "the size of the item is =\t torch.Size([1, 1, 1])\n",
            "the item is =\t tensor([[[3090.8638]]], device='cuda:0')\n",
            "the size of the item is =\t torch.Size([1, 1, 1])\n",
            "the item is =\t tensor([[[3077.1453]]], device='cuda:0')\n",
            "the size of the item is =\t torch.Size([1, 1, 1])\n",
            "the item is =\t tensor([[[3179.1426]]], device='cuda:0')\n",
            "the size of the item is =\t torch.Size([1, 1, 1])\n",
            "the item is =\t tensor([[[3311.1716]]], device='cuda:0')\n",
            "the size of the item is =\t torch.Size([1, 1, 1])\n",
            "the item is =\t tensor([[[3319.1396]]], device='cuda:0')\n",
            "the size of the item is =\t torch.Size([1, 1, 1])\n",
            "the item is =\t tensor([[[3314.7424]]], device='cuda:0')\n",
            "the size of the item is =\t torch.Size([1, 1, 1])\n",
            "the item is =\t tensor([[[3280.5281]]], device='cuda:0')\n",
            "the size of the item is =\t torch.Size([1, 1, 1])\n",
            "the item is =\t tensor([[[3281.7246]]], device='cuda:0')\n",
            "the size of the item is =\t torch.Size([1, 1, 1])\n",
            "the item is =\t tensor([[[3268.2046]]], device='cuda:0')\n",
            "the size of the item is =\t torch.Size([1, 1, 1])\n",
            "the item is =\t tensor([[[3274.8982]]], device='cuda:0')\n",
            "the size of the item is =\t torch.Size([1, 1, 1])\n",
            "the item is =\t tensor([[[3277.7957]]], device='cuda:0')\n",
            "the size of the item is =\t torch.Size([1, 1, 1])\n",
            "the item is =\t tensor([[[3289.7996]]], device='cuda:0')\n",
            "the size of the item is =\t torch.Size([1, 1, 1])\n",
            "the item is =\t tensor([[[3399.4666]]], device='cuda:0')\n",
            "the size of the item is =\t torch.Size([1, 1, 1])\n",
            "the item is =\t tensor([[[3549.4116]]], device='cuda:0')\n",
            "the size of the item is =\t torch.Size([1, 1, 1])\n",
            "the item is =\t tensor([[[3575.9236]]], device='cuda:0')\n",
            "the size of the item is =\t torch.Size([1, 1, 1])\n",
            "the item is =\t tensor([[[3593.0701]]], device='cuda:0')\n",
            "the size of the item is =\t torch.Size([1, 1, 1])\n",
            "the item is =\t tensor([[[3588.6331]]], device='cuda:0')\n",
            "the size of the item is =\t torch.Size([1, 1, 1])\n",
            "the item is =\t tensor([[[3658.0701]]], device='cuda:0')\n",
            "the size of the item is =\t torch.Size([1, 1, 1])\n",
            "the item is =\t tensor([[[3586.6560]]], device='cuda:0')\n",
            "the size of the item is =\t torch.Size([1, 1, 1])\n",
            "the item is =\t tensor([[[3475.1238]]], device='cuda:0')\n",
            "the size of the item is =\t torch.Size([1, 1, 1])\n",
            "the item is =\t tensor([[[3489.4436]]], device='cuda:0')\n",
            "the size of the item is =\t torch.Size([1, 1, 1])\n",
            "the item is =\t tensor([[[3448.0852]]], device='cuda:0')\n",
            "the size of the item is =\t torch.Size([1, 1, 1])\n",
            "the item is =\t tensor([[[3485.0212]]], device='cuda:0')\n",
            "the size of the item is =\t torch.Size([1, 1, 1])\n",
            "the item is =\t tensor([[[3498.0437]]], device='cuda:0')\n",
            "the size of the item is =\t torch.Size([1, 1, 1])\n",
            "the item is =\t tensor([[[3487.8533]]], device='cuda:0')\n",
            "the size of the item is =\t torch.Size([1, 1, 1])\n",
            "the item is =\t tensor([[[3491.0635]]], device='cuda:0')\n",
            "the size of the item is =\t torch.Size([1, 1, 1])\n",
            "the item is =\t tensor([[[3429.6582]]], device='cuda:0')\n",
            "the size of the item is =\t torch.Size([1, 1, 1])\n",
            "the item is =\t tensor([[[3445.9656]]], device='cuda:0')\n",
            "the size of the item is =\t torch.Size([1, 1, 1])\n",
            "the item is =\t tensor([[[3506.1460]]], device='cuda:0')\n",
            "the size of the item is =\t torch.Size([1, 1, 1])\n",
            "the item is =\t tensor([[[3533.0959]]], device='cuda:0')\n",
            "the size of the item is =\t torch.Size([1, 1, 1])\n",
            "the item is =\t tensor([[[3528.9255]]], device='cuda:0')\n",
            "the size of the item is =\t torch.Size([1, 1, 1])\n",
            "the item is =\t tensor([[[3560.8450]]], device='cuda:0')\n",
            "the size of the item is =\t torch.Size([1, 1, 1])\n",
            "the item is =\t tensor([[[3577.9963]]], device='cuda:0')\n",
            "the size of the item is =\t torch.Size([1, 1, 1])\n",
            "the item is =\t tensor([[[3542.3262]]], device='cuda:0')\n",
            "the size of the item is =\t torch.Size([1, 1, 1])\n",
            "the item is =\t tensor([[[3511.9368]]], device='cuda:0')\n",
            "the size of the item is =\t torch.Size([1, 1, 1])\n",
            "the item is =\t tensor([[[3533.3184]]], device='cuda:0')\n",
            "the size of the item is =\t torch.Size([1, 1, 1])\n",
            "the item is =\t tensor([[[3538.6819]]], device='cuda:0')\n",
            "the size of the item is =\t torch.Size([1, 1, 1])\n",
            "the item is =\t tensor([[[3557.2800]]], device='cuda:0')\n",
            "the size of the item is =\t torch.Size([1, 1, 1])\n",
            "the item is =\t tensor([[[3627.4265]]], device='cuda:0')\n",
            "the size of the item is =\t torch.Size([1, 1, 1])\n",
            "the item is =\t tensor([[[3650.6265]]], device='cuda:0')\n",
            "the size of the item is =\t torch.Size([1, 1, 1])\n",
            "the item is =\t tensor([[[3651.0527]]], device='cuda:0')\n",
            "the size of the item is =\t torch.Size([1, 1, 1])\n",
            "the item is =\t tensor([[[3650.0881]]], device='cuda:0')\n",
            "the size of the item is =\t torch.Size([1, 1, 1])\n",
            "the item is =\t tensor([[[3657.4575]]], device='cuda:0')\n",
            "the size of the item is =\t torch.Size([1, 1, 1])\n",
            "the item is =\t tensor([[[3643.9199]]], device='cuda:0')\n",
            "the size of the item is =\t torch.Size([1, 1, 1])\n",
            "the item is =\t tensor([[[3657.5244]]], device='cuda:0')\n",
            "the size of the item is =\t torch.Size([1, 1, 1])\n",
            "the item is =\t tensor([[[3658.5789]]], device='cuda:0')\n",
            "the size of the item is =\t torch.Size([1, 1, 1])\n",
            "the item is =\t tensor([[[3640.4636]]], device='cuda:0')\n",
            "the size of the item is =\t torch.Size([1, 1, 1])\n",
            "the item is =\t tensor([[[3582.2307]]], device='cuda:0')\n",
            "the size of the item is =\t torch.Size([1, 1, 1])\n",
            "the item is =\t tensor([[[3574.3774]]], device='cuda:0')\n",
            "the size of the item is =\t torch.Size([1, 1, 1])\n",
            "the item is =\t tensor([[[3632.5098]]], device='cuda:0')\n",
            "the size of the item is =\t torch.Size([1, 1, 1])\n",
            "the item is =\t tensor([[[3688.6865]]], device='cuda:0')\n",
            "the size of the item is =\t torch.Size([1, 1, 1])\n",
            "the item is =\t tensor([[[3683.1526]]], device='cuda:0')\n",
            "the size of the item is =\t torch.Size([1, 1, 1])\n",
            "the item is =\t tensor([[[3762.4421]]], device='cuda:0')\n",
            "the size of the item is =\t torch.Size([1, 1, 1])\n",
            "the item is =\t tensor([[[3781.4180]]], device='cuda:0')\n",
            "the size of the item is =\t torch.Size([1, 1, 1])\n",
            "the item is =\t tensor([[[3751.5120]]], device='cuda:0')\n",
            "the size of the item is =\t torch.Size([1, 1, 1])\n",
            "the item is =\t tensor([[[4039.8809]]], device='cuda:0')\n",
            "the size of the item is =\t torch.Size([1, 1, 1])\n",
            "the item is =\t tensor([[[4629.9126]]], device='cuda:0')\n",
            "the size of the item is =\t torch.Size([1, 1, 1])\n",
            "the item is =\t tensor([[[4535.3906]]], device='cuda:0')\n",
            "the size of the item is =\t torch.Size([1, 1, 1])\n",
            "the item is =\t tensor([[[4599.5010]]], device='cuda:0')\n",
            "the size of the item is =\t torch.Size([1, 1, 1])\n",
            "the item is =\t tensor([[[4725.0024]]], device='cuda:0')\n",
            "the size of the item is =\t torch.Size([1, 1, 1])\n",
            "the item is =\t tensor([[[4833.5596]]], device='cuda:0')\n",
            "the size of the item is =\t torch.Size([1, 1, 1])\n",
            "the item is =\t tensor([[[4928.0410]]], device='cuda:0')\n",
            "the size of the item is =\t torch.Size([1, 1, 1])\n",
            "the item is =\t tensor([[[4933.6455]]], device='cuda:0')\n",
            "the size of the item is =\t torch.Size([1, 1, 1])\n",
            "the item is =\t tensor([[[5010.3442]]], device='cuda:0')\n",
            "the size of the item is =\t torch.Size([1, 1, 1])\n",
            "the item is =\t tensor([[[4865.1372]]], device='cuda:0')\n",
            "the size of the item is =\t torch.Size([1, 1, 1])\n",
            "the item is =\t tensor([[[4712.8560]]], device='cuda:0')\n",
            "the size of the item is =\t torch.Size([1, 1, 1])\n",
            "the item is =\t tensor([[[4805.0376]]], device='cuda:0')\n",
            "the size of the item is =\t torch.Size([1, 1, 1])\n",
            "the item is =\t tensor([[[4822.5449]]], device='cuda:0')\n",
            "the size of the item is =\t torch.Size([1, 1, 1])\n",
            "the item is =\t tensor([[[4799.1738]]], device='cuda:0')\n",
            "the size of the item is =\t torch.Size([1, 1, 1])\n",
            "the item is =\t tensor([[[4839.7910]]], device='cuda:0')\n",
            "the size of the item is =\t torch.Size([1, 1, 1])\n",
            "the item is =\t tensor([[[4951.8994]]], device='cuda:0')\n",
            "the size of the item is =\t torch.Size([1, 1, 1])\n",
            "the item is =\t tensor([[[4993.8071]]], device='cuda:0')\n",
            "the size of the item is =\t torch.Size([1, 1, 1])\n",
            "the item is =\t tensor([[[4863.4175]]], device='cuda:0')\n",
            "the size of the item is =\t torch.Size([1, 1, 1])\n",
            "the item is =\t tensor([[[4843.2041]]], device='cuda:0')\n",
            "the size of the item is =\t torch.Size([1, 1, 1])\n",
            "the item is =\t tensor([[[4882.1792]]], device='cuda:0')\n",
            "the size of the item is =\t torch.Size([1, 1, 1])\n",
            "the item is =\t tensor([[[4821.9692]]], device='cuda:0')\n",
            "the size of the item is =\t torch.Size([1, 1, 1])\n",
            "the item is =\t tensor([[[5137.9668]]], device='cuda:0')\n",
            "the size of the item is =\t torch.Size([1, 1, 1])\n",
            "the item is =\t tensor([[[5162.3315]]], device='cuda:0')\n",
            "the size of the item is =\t torch.Size([1, 1, 1])\n",
            "the item is =\t tensor([[[4991.5381]]], device='cuda:0')\n",
            "the size of the item is =\t torch.Size([1, 1, 1])\n",
            "the item is =\t tensor([[[4902.5996]]], device='cuda:0')\n",
            "the size of the item is =\t torch.Size([1, 1, 1])\n",
            "the item is =\t tensor([[[4783.5713]]], device='cuda:0')\n",
            "the size of the item is =\t torch.Size([1, 1, 1])\n",
            "the item is =\t tensor([[[4779.7144]]], device='cuda:0')\n",
            "the size of the item is =\t torch.Size([1, 1, 1])\n",
            "the item is =\t tensor([[[4855.3042]]], device='cuda:0')\n",
            "the size of the item is =\t torch.Size([1, 1, 1])\n",
            "the item is =\t tensor([[[5012.9419]]], device='cuda:0')\n",
            "the size of the item is =\t torch.Size([1, 1, 1])\n",
            "the item is =\t tensor([[[4999.2632]]], device='cuda:0')\n",
            "the size of the item is =\t torch.Size([1, 1, 1])\n",
            "the item is =\t tensor([[[5112.9419]]], device='cuda:0')\n",
            "the size of the item is =\t torch.Size([1, 1, 1])\n",
            "the item is =\t tensor([[[5447.9546]]], device='cuda:0')\n",
            "the size of the item is =\t torch.Size([1, 1, 1])\n",
            "the item is =\t tensor([[[5563.4258]]], device='cuda:0')\n",
            "the size of the item is =\t torch.Size([1, 1, 1])\n",
            "the item is =\t tensor([[[5585.6694]]], device='cuda:0')\n",
            "the size of the item is =\t torch.Size([1, 1, 1])\n",
            "the item is =\t tensor([[[5550.1670]]], device='cuda:0')\n",
            "the size of the item is =\t torch.Size([1, 1, 1])\n",
            "the item is =\t tensor([[[5693.6401]]], device='cuda:0')\n",
            "the size of the item is =\t torch.Size([1, 1, 1])\n",
            "the item is =\t tensor([[[5719.5581]]], device='cuda:0')\n",
            "the size of the item is =\t torch.Size([1, 1, 1])\n",
            "the item is =\t tensor([[[5906.0200]]], device='cuda:0')\n",
            "the size of the item is =\t torch.Size([1, 1, 1])\n",
            "the item is =\t tensor([[[6131.7012]]], device='cuda:0')\n",
            "the size of the item is =\t torch.Size([1, 1, 1])\n",
            "the item is =\t tensor([[[6747.9663]]], device='cuda:0')\n",
            "the size of the item is =\t torch.Size([1, 1, 1])\n",
            "the item is =\t tensor([[[7093.8662]]], device='cuda:0')\n",
            "the size of the item is =\t torch.Size([1, 1, 1])\n",
            "the item is =\t tensor([[[7518.2358]]], device='cuda:0')\n",
            "the size of the item is =\t torch.Size([1, 1, 1])\n",
            "the item is =\t tensor([[[8112.0317]]], device='cuda:0')\n",
            "the size of the item is =\t torch.Size([1, 1, 1])\n",
            "the item is =\t tensor([[[8237.4326]]], device='cuda:0')\n",
            "the size of the item is =\t torch.Size([1, 1, 1])\n",
            "the item is =\t tensor([[[8200.2070]]], device='cuda:0')\n",
            "the size of the item is =\t torch.Size([1, 1, 1])\n",
            "the item is =\t tensor([[[7489.1006]]], device='cuda:0')\n",
            "the size of the item is =\t torch.Size([1, 1, 1])\n",
            "the item is =\t tensor([[[7412.5103]]], device='cuda:0')\n",
            "the size of the item is =\t torch.Size([1, 1, 1])\n",
            "the item is =\t tensor([[[7906.3149]]], device='cuda:0')\n",
            "the size of the item is =\t torch.Size([1, 1, 1])\n",
            "the item is =\t tensor([[[8094.4893]]], device='cuda:0')\n",
            "the size of the item is =\t torch.Size([1, 1, 1])\n",
            "the item is =\t tensor([[[8182.8325]]], device='cuda:0')\n",
            "the size of the item is =\t torch.Size([1, 1, 1])\n",
            "the item is =\t tensor([[[8009.7783]]], device='cuda:0')\n",
            "the size of the item is =\t torch.Size([1, 1, 1])\n",
            "the item is =\t tensor([[[7919.3408]]], device='cuda:0')\n",
            "the size of the item is =\t torch.Size([1, 1, 1])\n",
            "the item is =\t tensor([[[8206.8350]]], device='cuda:0')\n",
            "the size of the item is =\t torch.Size([1, 1, 1])\n",
            "the item is =\t tensor([[[8302.0439]]], device='cuda:0')\n",
            "the size of the item is =\t torch.Size([1, 1, 1])\n",
            "the item is =\t tensor([[[8582.5088]]], device='cuda:0')\n",
            "the size of the item is =\t torch.Size([1, 1, 1])\n",
            "the item is =\t tensor([[[9125.0830]]], device='cuda:0')\n",
            "the size of the item is =\t torch.Size([1, 1, 1])\n",
            "the item is =\t tensor([[[9070.0020]]], device='cuda:0')\n",
            "the size of the item is =\t torch.Size([1, 1, 1])\n",
            "the item is =\t tensor([[[8957.2705]]], device='cuda:0')\n",
            "the size of the item is =\t torch.Size([1, 1, 1])\n",
            "the item is =\t tensor([[[8875.5693]]], device='cuda:0')\n",
            "the size of the item is =\t torch.Size([1, 1, 1])\n",
            "the item is =\t tensor([[[8646.9004]]], device='cuda:0')\n",
            "the size of the item is =\t torch.Size([1, 1, 1])\n",
            "the item is =\t tensor([[[8876.1387]]], device='cuda:0')\n",
            "the size of the item is =\t torch.Size([1, 1, 1])\n",
            "the item is =\t tensor([[[9054.]]], device='cuda:0')\n",
            "the size of the item is =\t torch.Size([1, 1, 1])\n",
            "the item is =\t tensor([[[8740.3623]]], device='cuda:0')\n",
            "the size of the item is =\t torch.Size([1, 1, 1])\n",
            "the item is =\t tensor([[[7964.1514]]], device='cuda:0')\n",
            "the size of the item is =\t torch.Size([1, 1, 1])\n",
            "the item is =\t tensor([[[7923.9487]]], device='cuda:0')\n",
            "the size of the item is =\t torch.Size([1, 1, 1])\n",
            "the item is =\t tensor([[[7875.2119]]], device='cuda:0')\n",
            "the size of the item is =\t torch.Size([1, 1, 1])\n",
            "the item is =\t tensor([[[8175.4194]]], device='cuda:0')\n",
            "the size of the item is =\t torch.Size([1, 1, 1])\n",
            "the item is =\t tensor([[[8191.1338]]], device='cuda:0')\n",
            "the size of the item is =\t torch.Size([1, 1, 1])\n",
            "the item is =\t tensor([[[7973.4150]]], device='cuda:0')\n",
            "the size of the item is =\t torch.Size([1, 1, 1])\n",
            "the item is =\t tensor([[[7996.6035]]], device='cuda:0')\n",
            "the size of the item is =\t torch.Size([1, 1, 1])\n",
            "the item is =\t tensor([[[8121.4365]]], device='cuda:0')\n",
            "the size of the item is =\t torch.Size([1, 1, 1])\n",
            "the item is =\t tensor([[[8263.3340]]], device='cuda:0')\n",
            "the size of the item is =\t torch.Size([1, 1, 1])\n",
            "the item is =\t tensor([[[8481.9141]]], device='cuda:0')\n",
            "the size of the item is =\t torch.Size([1, 1, 1])\n",
            "the item is =\t tensor([[[8774.3203]]], device='cuda:0')\n",
            "the size of the item is =\t torch.Size([1, 1, 1])\n",
            "the item is =\t tensor([[[9121.9102]]], device='cuda:0')\n",
            "the size of the item is =\t torch.Size([1, 1, 1])\n",
            "the item is =\t tensor([[[9456.1328]]], device='cuda:0')\n",
            "the size of the item is =\t torch.Size([1, 1, 1])\n",
            "the item is =\t tensor([[[9605.7188]]], device='cuda:0')\n",
            "the size of the item is =\t torch.Size([1, 1, 1])\n",
            "the item is =\t tensor([[[9577.1924]]], device='cuda:0')\n",
            "the size of the item is =\t torch.Size([1, 1, 1])\n",
            "the item is =\t tensor([[[9613.1865]]], device='cuda:0')\n",
            "the size of the item is =\t torch.Size([1, 1, 1])\n",
            "the item is =\t tensor([[[9845.3672]]], device='cuda:0')\n",
            "the size of the item is =\t torch.Size([1, 1, 1])\n",
            "the item is =\t tensor([[[10274.9111]]], device='cuda:0')\n",
            "the size of the item is =\t torch.Size([1, 1, 1])\n",
            "the item is =\t tensor([[[11014.5615]]], device='cuda:0')\n",
            "the size of the item is =\t torch.Size([1, 1, 1])\n",
            "the item is =\t tensor([[[11284.7432]]], device='cuda:0')\n",
            "the size of the item is =\t torch.Size([1, 1, 1])\n",
            "the item is =\t tensor([[[11229.6875]]], device='cuda:0')\n",
            "the size of the item is =\t torch.Size([1, 1, 1])\n",
            "the item is =\t tensor([[[11678.3838]]], device='cuda:0')\n",
            "the size of the item is =\t torch.Size([1, 1, 1])\n",
            "the item is =\t tensor([[[12564.3477]]], device='cuda:0')\n",
            "the size of the item is =\t torch.Size([1, 1, 1])\n",
            "the item is =\t tensor([[[11948.5684]]], device='cuda:0')\n",
            "the size of the item is =\t torch.Size([1, 1, 1])\n",
            "the item is =\t tensor([[[11853.1523]]], device='cuda:0')\n",
            "the size of the item is =\t torch.Size([1, 1, 1])\n",
            "the item is =\t tensor([[[12057.1387]]], device='cuda:0')\n",
            "the size of the item is =\t torch.Size([1, 1, 1])\n",
            "the item is =\t tensor([[[11747.2012]]], device='cuda:0')\n",
            "the size of the item is =\t torch.Size([1, 1, 1])\n",
            "the item is =\t tensor([[[11010.1289]]], device='cuda:0')\n",
            "the size of the item is =\t torch.Size([1, 1, 1])\n",
            "the item is =\t tensor([[[10711.8506]]], device='cuda:0')\n",
            "the size of the item is =\t torch.Size([1, 1, 1])\n",
            "the item is =\t tensor([[[11666.3193]]], device='cuda:0')\n",
            "the size of the item is =\t torch.Size([1, 1, 1])\n",
            "the item is =\t tensor([[[11825.8125]]], device='cuda:0')\n",
            "the size of the item is =\t torch.Size([1, 1, 1])\n",
            "the item is =\t tensor([[[11474.8818]]], device='cuda:0')\n",
            "the size of the item is =\t torch.Size([1, 1, 1])\n",
            "the item is =\t tensor([[[11661.2695]]], device='cuda:0')\n",
            "the size of the item is =\t torch.Size([1, 1, 1])\n",
            "the item is =\t tensor([[[11687.7373]]], device='cuda:0')\n",
            "the size of the item is =\t torch.Size([1, 1, 1])\n",
            "the item is =\t tensor([[[12055.7168]]], device='cuda:0')\n",
            "the size of the item is =\t torch.Size([1, 1, 1])\n",
            "the item is =\t tensor([[[12459.2285]]], device='cuda:0')\n",
            "the size of the item is =\t torch.Size([1, 1, 1])\n",
            "the item is =\t tensor([[[12400.7031]]], device='cuda:0')\n",
            "the size of the item is =\t torch.Size([1, 1, 1])\n",
            "the item is =\t tensor([[[11813.2822]]], device='cuda:0')\n",
            "the size of the item is =\t torch.Size([1, 1, 1])\n",
            "the item is =\t tensor([[[11800.7803]]], device='cuda:0')\n",
            "the size of the item is =\t torch.Size([1, 1, 1])\n",
            "the item is =\t tensor([[[11659.0410]]], device='cuda:0')\n",
            "the size of the item is =\t torch.Size([1, 1, 1])\n",
            "the item is =\t tensor([[[11220.3477]]], device='cuda:0')\n",
            "the size of the item is =\t torch.Size([1, 1, 1])\n",
            "the item is =\t tensor([[[10900.5654]]], device='cuda:0')\n",
            "the size of the item is =\t torch.Size([1, 1, 1])\n",
            "the item is =\t tensor([[[10626.7432]]], device='cuda:0')\n",
            "the size of the item is =\t torch.Size([1, 1, 1])\n",
            "the item is =\t tensor([[[9947.6904]]], device='cuda:0')\n",
            "the size of the item is =\t torch.Size([1, 1, 1])\n",
            "the item is =\t tensor([[[10460.6250]]], device='cuda:0')\n",
            "the size of the item is =\t torch.Size([1, 1, 1])\n",
            "the item is =\t tensor([[[10878.8574]]], device='cuda:0')\n",
            "the size of the item is =\t torch.Size([1, 1, 1])\n",
            "the item is =\t tensor([[[11094.9258]]], device='cuda:0')\n",
            "the size of the item is =\t torch.Size([1, 1, 1])\n",
            "the item is =\t tensor([[[11044.5488]]], device='cuda:0')\n",
            "the size of the item is =\t torch.Size([1, 1, 1])\n",
            "the item is =\t tensor([[[10824.0664]]], device='cuda:0')\n",
            "the size of the item is =\t torch.Size([1, 1, 1])\n",
            "the item is =\t tensor([[[10546.3174]]], device='cuda:0')\n",
            "the size of the item is =\t torch.Size([1, 1, 1])\n",
            "the item is =\t tensor([[[10183.8135]]], device='cuda:0')\n",
            "the size of the item is =\t torch.Size([1, 1, 1])\n",
            "the item is =\t tensor([[[10420.6582]]], device='cuda:0')\n",
            "the size of the item is =\t torch.Size([1, 1, 1])\n",
            "the item is =\t tensor([[[10275.6484]]], device='cuda:0')\n",
            "the size of the item is =\t torch.Size([1, 1, 1])\n",
            "the item is =\t tensor([[[10237.9639]]], device='cuda:0')\n",
            "the size of the item is =\t torch.Size([1, 1, 1])\n",
            "the item is =\t tensor([[[9829.7236]]], device='cuda:0')\n",
            "the size of the item is =\t torch.Size([1, 1, 1])\n",
            "389\n",
            "389\n"
          ],
          "name": "stdout"
        },
        {
          "output_type": "display_data",
          "data": {
            "image/png": "[encoded data removed]",
            "text/plain": [
              "<Figure size 432x288 with 1 Axes>"
            ]
          },
          "metadata": {
            "tags": []
          }
        }
      ]
    },
    {
      "cell_type": "markdown",
      "metadata": {
        "id": "6Q-T1K5rWChB",
        "colab_type": "text"
      },
      "source": [
        "## Model Inference Testing"
      ]
    },
    {
      "cell_type": "code",
      "metadata": {
        "id": "rC1qbe-GH7Iv",
        "colab_type": "code",
        "outputId": "7bc07c47-492d-4ed2-b068-53504692c6ae",
        "colab": {
          "base_uri": "https://localhost:8080/",
          "height": 68
        }
      },
      "source": [
        "class Inferencer(object):\n",
        "    def __init__(self):\n",
        "        pass\n",
        "    def un_normalize(self,norm_val,min_val,max_val,typelist=None):\n",
        "        if(typelist):\n",
        "            for idx,item in enumerate(norm_val):\n",
        "                new_val = item * (max_val - min_val) + min_val\n",
        "                norm_val[idx] = new_val\n",
        "            return norm_val\n",
        "        else:\n",
        "            return norm_val * (max_val - min_val) + min_val \n",
        "\n",
        "    def inference(self,value, normalize_method, model,minimum_price,maximum_price):\n",
        "        value = np.array(value).reshape(1,-1)\n",
        "        # -- Normalize the value --\n",
        "        value = torch.tensor(normalize_method.transform(value)).float()\n",
        "        \n",
        "        if(str(device) == 'cuda'):\n",
        "            value = value.to(device)\n",
        "        \n",
        "        output = model(value)\n",
        "        output_unnorm = self.un_normalize(norm_val=output.detach(),min_val=minimum_price,max_val=maximum_price)\n",
        "        return output_unnorm\n",
        "\n",
        "def main(normalizer,model,minimum_price,maximum_price):\n",
        "    inf = Inferencer()\n",
        "    print(minimum_price)\n",
        "    print(maximum_price)\n",
        "    output = inf.inference(value=[ 9100,9600,vol[-1]],\n",
        "                       normalize_method=normalizer,\n",
        "                       model=model,\n",
        "                       minimum_price=minimum_price,\n",
        "                       maximum_price=maximum_price\n",
        "                      )\n",
        "    print('BTC prediction: ', output)\n",
        "    \n",
        "    \n",
        "main(normalizer=min_max_scaler,model=price_model,minimum_price=min_price,maximum_price=max_price)\n",
        "\n"
      ],
      "execution_count": 152,
      "outputs": [
        {
          "output_type": "stream",
          "text": [
            "tensor(178.3485, dtype=torch.float64)\n",
            "tensor(19394.7576, dtype=torch.float64)\n",
            "BTC prediction:  tensor([[[9781.3535]]], device='cuda:0')\n"
          ],
          "name": "stdout"
        }
      ]
    }
  ]
}