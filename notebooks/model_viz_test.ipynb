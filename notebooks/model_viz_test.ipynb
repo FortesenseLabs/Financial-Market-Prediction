{
  "nbformat": 4,
  "nbformat_minor": 0,
  "metadata": {
    "colab": {
      "name": "model_viz_test.ipynb",
      "version": "0.3.2",
      "provenance": [],
      "collapsed_sections": []
    },
    "kernelspec": {
      "name": "python3",
      "display_name": "Python 3"
    },
    "accelerator": "GPU"
  },
  "cells": [
    {
      "cell_type": "markdown",
      "metadata": {
        "id": "vGODXQ40k75X",
        "colab_type": "text"
      },
      "source": [
        "# Time Series Regression with Neural Networks: Cryptocurrency Price Prediction"
      ]
    },
    {
      "cell_type": "code",
      "metadata": {
        "id": "X8aFqnebuJB_",
        "colab_type": "code",
        "outputId": "506e9fc5-ea50-4f86-e884-226df6af1554",
        "colab": {
          "base_uri": "https://localhost:8080/",
          "height": 238
        }
      },
      "source": [
        "!pip install cryptocompare"
      ],
      "execution_count": 1,
      "outputs": [
        {
          "output_type": "stream",
          "text": [
            "Collecting cryptocompare\n",
            "  Downloading https://files.pythonhosted.org/packages/5f/fb/06d620efa600bfd59ce693f291754428e3cbe2b5637cbaab217a7e6d9ea9/cryptocompare-0.6.4.tar.gz\n",
            "Requirement already satisfied: requests in /usr/local/lib/python3.6/dist-packages (from cryptocompare) (2.21.0)\n",
            "Requirement already satisfied: chardet<3.1.0,>=3.0.2 in /usr/local/lib/python3.6/dist-packages (from requests->cryptocompare) (3.0.4)\n",
            "Requirement already satisfied: urllib3<1.25,>=1.21.1 in /usr/local/lib/python3.6/dist-packages (from requests->cryptocompare) (1.24.3)\n",
            "Requirement already satisfied: certifi>=2017.4.17 in /usr/local/lib/python3.6/dist-packages (from requests->cryptocompare) (2019.6.16)\n",
            "Requirement already satisfied: idna<2.9,>=2.5 in /usr/local/lib/python3.6/dist-packages (from requests->cryptocompare) (2.8)\n",
            "Building wheels for collected packages: cryptocompare\n",
            "  Building wheel for cryptocompare (setup.py) ... \u001b[?25l\u001b[?25hdone\n",
            "  Stored in directory: /root/.cache/pip/wheels/65/a3/15/2a0d81279c399c458d34b33a42d0786d14541efe595ee2fa1c\n",
            "Successfully built cryptocompare\n",
            "Installing collected packages: cryptocompare\n",
            "Successfully installed cryptocompare-0.6.4\n"
          ],
          "name": "stdout"
        }
      ]
    },
    {
      "cell_type": "code",
      "metadata": {
        "id": "-xkssd58cEK5",
        "colab_type": "code",
        "outputId": "27a07f9c-2396-459f-bb74-bf312b9f7aed",
        "colab": {
          "base_uri": "https://localhost:8080/",
          "height": 34
        }
      },
      "source": [
        "from google.colab import drive\n",
        "drive.mount('/content/gdrive')\n",
        "import requests\n",
        "import os\n",
        "import yaml\n",
        "import json\n",
        "import numpy as np\n",
        "import pandas as pd\n",
        "import torch\n",
        "import torch.nn as nn\n",
        "import torch.nn.functional as F\n",
        "import torch.utils.data\n",
        "from torch.utils.tensorboard import SummaryWriter\n",
        "import sklearn\n",
        "from sklearn import preprocessing\n",
        "from sklearn.model_selection import train_test_split\n",
        "from tqdm import tqdm\n",
        "import matplotlib.pyplot as plt\n",
        "import urllib3\n",
        "import cryptocompare\n",
        "from datetime import datetime"
      ],
      "execution_count": 2,
      "outputs": [
        {
          "output_type": "stream",
          "text": [
            "Drive already mounted at /content/gdrive; to attempt to forcibly remount, call drive.mount(\"/content/gdrive\", force_remount=True).\n"
          ],
          "name": "stdout"
        }
      ]
    },
    {
      "cell_type": "code",
      "metadata": {
        "id": "dj0xknt5cJwl",
        "colab_type": "code",
        "outputId": "9924d246-1270-4afd-e8d6-14ced35c1cbb",
        "colab": {
          "base_uri": "https://localhost:8080/",
          "height": 34
        }
      },
      "source": [
        "print(\"PyTorch version:\", torch.__version__)"
      ],
      "execution_count": 3,
      "outputs": [
        {
          "output_type": "stream",
          "text": [
            "PyTorch version: 1.1.0\n"
          ],
          "name": "stdout"
        }
      ]
    },
    {
      "cell_type": "markdown",
      "metadata": {
        "id": "vHSMryQzE6Zy",
        "colab_type": "text"
      },
      "source": [
        "## Data Analysis"
      ]
    },
    {
      "cell_type": "code",
      "metadata": {
        "id": "UJIfjHclu6Fl",
        "colab_type": "code",
        "outputId": "aab83097-726a-45f4-ac84-fc5de5260695",
        "colab": {
          "base_uri": "https://localhost:8080/",
          "height": 1000
        }
      },
      "source": [
        "# hourly -- volume -- per day\n",
        "# USD \n",
        "\n",
        "#cryptocompare api key:1 e3c9fe62074dbf5805d45f528d1e60c7ae15be68a63ba57ca3a5f2f9dbbf66f\n",
        "\n",
        "#close,high,low,open,time,volumefrom,volumeto\n",
        "\n",
        "def posix2Human(time_):\n",
        "    timestamp = time_\n",
        "    dt_object = datetime.fromtimestamp(timestamp)\n",
        "    return dt_object\n",
        "\n",
        "histPriceDay = cryptocompare.get_historical_price_day('BTC', curr='USD')\n",
        "\n",
        "# Getting CryptoCompare BTC volume data -- 2000 API calls back \n",
        "vol = []\n",
        "for idx, item in enumerate(histPriceDay['Data']):\n",
        "    vol.append(item['volumefrom'])    \n",
        "\n",
        "# -- Init subplots --\n",
        "f,arr = plt.subplots(1,2)\n",
        "  \n",
        "arr[0].plot(np.array(vol),'g')\n",
        "\n",
        "# Testing moving average\n",
        "\n",
        "rolling_amnt = 4\n",
        "df = pd.DataFrame(vol).rolling(rolling_amnt).mean()\n",
        "print(df)\n",
        "\n",
        "min_vol = np.nanmin(df.values)\n",
        "max_vol = np.nanmax(df.values)\n",
        "\n",
        "print(min_vol)\n",
        "print(max_vol)\n",
        "\n",
        "test = df.values\n",
        "\n",
        "\n",
        "for i in range(rolling_amnt):\n",
        "    rand_num = np.random.randint(low=min_vol,high=max_vol)\n",
        "    test[i] = rand_num\n",
        "\n",
        "arr[0].plot(test,color='r')\n",
        "\n",
        "\n",
        "def fetch_latest_BTC_JSON():\n",
        "    \"\"\"Fetch the latest JSON data\"\"\"\n",
        "    API_LINK = 'https://www.alphavantage.co/query?function=DIGITAL_CURRENCY_DAILY&symbol=BTC&market=USD&apikey=SAITMI5ZUMGEKGKY'\n",
        "    page = requests.get(API_LINK).json()\n",
        "    return page\n",
        "\n",
        "page = fetch_latest_BTC_JSON()\n",
        "\n",
        "vol2 = []\n",
        "for key,value in page['Time Series (Digital Currency Daily)'].items():\n",
        "    vol2.append(float(value['5. volume']))\n",
        "    \n",
        "arr[1].plot(np.array(vol2))\n",
        "\n",
        "plt.tight_layout()\n",
        "f.set_figheight(5)\n",
        "f.set_figwidth(30)\n",
        "\n",
        "plt.show()\n",
        "\n"
      ],
      "execution_count": 4,
      "outputs": [
        {
          "output_type": "stream",
          "text": [
            "                0\n",
            "0             NaN\n",
            "1             NaN\n",
            "2             NaN\n",
            "3      94347.6425\n",
            "4     127633.7850\n",
            "5     132285.5275\n",
            "6     135136.8450\n",
            "7     108628.2575\n",
            "8      71864.8650\n",
            "9      58613.7500\n",
            "10     57179.0550\n",
            "11     51149.7425\n",
            "12     54906.1600\n",
            "13     58491.7050\n",
            "14     60305.6175\n",
            "15     55739.7625\n",
            "16     57616.0950\n",
            "17     58375.5300\n",
            "18     62023.2900\n",
            "19     67269.2175\n",
            "20     65835.7525\n",
            "21     62982.2650\n",
            "22     54837.2475\n",
            "23     50420.2250\n",
            "24     50560.2675\n",
            "25     51495.7825\n",
            "26     53530.5825\n",
            "27     54646.8150\n",
            "28     52664.5975\n",
            "29     48903.2975\n",
            "...           ...\n",
            "1411   99875.8600\n",
            "1412  108298.3600\n",
            "1413  105860.2775\n",
            "1414   93441.9725\n",
            "1415   75236.2850\n",
            "1416   55556.7975\n",
            "1417   53733.3575\n",
            "1418   57118.5375\n",
            "1419   76206.2600\n",
            "1420   92726.7350\n",
            "1421   90763.6400\n",
            "1422   85658.7325\n",
            "1423   73605.5125\n",
            "1424   71058.9275\n",
            "1425   85444.6650\n",
            "1426   95905.7250\n",
            "1427  102438.9400\n",
            "1428   95002.0800\n",
            "1429   80809.2625\n",
            "1430   65146.0950\n",
            "1431   52178.8325\n",
            "1432   49618.5050\n",
            "1433   49114.5575\n",
            "1434   49591.0950\n",
            "1435   44937.6675\n",
            "1436   45019.5175\n",
            "1437   38410.2100\n",
            "1438   36197.4200\n",
            "1439   35421.3900\n",
            "1440   24293.4300\n",
            "\n",
            "[1441 rows x 1 columns]\n",
            "18778.552500000027\n",
            "374488.67000000004\n"
          ],
          "name": "stdout"
        },
        {
          "output_type": "display_data",
          "data": {
            "image/png": "[encoded data removed]",
            "text/plain": [
              "<Figure size 2160x360 with 2 Axes>"
            ]
          },
          "metadata": {
            "tags": []
          }
        }
      ]
    },
    {
      "cell_type": "code",
      "metadata": {
        "id": "Rqa4cSjR-U4X",
        "colab_type": "code",
        "outputId": "35878dbe-2b36-406a-c2ac-089616be3958",
        "colab": {
          "base_uri": "https://localhost:8080/",
          "height": 935
        }
      },
      "source": [
        "histPriceDay\n",
        "\n",
        "close_prices = []\n",
        "for idx,item in enumerate(histPriceDay['Data']):\n",
        "    close_prices.append(item['close'])\n",
        "\n",
        "print(len(close_prices))\n",
        "\n",
        "# Calc SMA\n",
        "sma = pd.DataFrame(close_prices).rolling(21).sum() / 21\n",
        "\n",
        "# B-Bands\n",
        "std = pd.DataFrame(close_prices).rolling(21).std()\n",
        "lower_band = sma + (std * 2)\n",
        "upper_band = sma - (std * 2)\n",
        "\n",
        "print(type(lower_band.values))\n",
        "print(type(upper_band.values))\n",
        "lower_band = lower_band.values.flatten()\n",
        "upper_band = upper_band.values.flatten()\n",
        "\n",
        "plt.plot(lower_band,'c--')\n",
        "plt.plot(upper_band,'r--')\n",
        "x = np.arange(1441)\n",
        "plt.fill_between(x,np.array(lower_band),np.array(upper_band),interpolate=True,alpha=0.5)\n",
        "plt.plot(close_prices,'white')\n",
        "plt.plot(sma,'yellow')\n",
        "fig_size = plt.rcParams[\"figure.figsize\"]\n",
        "print(fig_size)\n",
        "fig_size[0] = 20\n",
        "fig_size[1] = 15\n",
        "plt.rcParams[\"figure.figsize\"] = fig_size\n",
        "fig_size = plt.rcParams[\"figure.figsize\"]\n",
        "ax = plt.gca()\n",
        "ax.set_facecolor((0, 0, 0))\n",
        "plt.legend(['Bollinger Bands Up','Bollinger Bands Down','Closing Price','SMA'])\n",
        "plt.show()"
      ],
      "execution_count": 74,
      "outputs": [
        {
          "output_type": "stream",
          "text": [
            "1441\n",
            "<class 'numpy.ndarray'>\n",
            "<class 'numpy.ndarray'>\n",
            "[20.0, 15.0]\n"
          ],
          "name": "stdout"
        },
        {
          "output_type": "display_data",
          "data": {
            "image/png": "[encoded data removed]",
            "text/plain": [
              "<Figure size 1440x1080 with 1 Axes>"
            ]
          },
          "metadata": {
            "tags": []
          }
        }
      ]
    },
    {
      "cell_type": "code",
      "metadata": {
        "id": "huJFdlNivLxr",
        "colab_type": "code",
        "outputId": "a334e582-11e8-4eb5-afcf-c1237782f455",
        "colab": {
          "base_uri": "https://localhost:8080/",
          "height": 34
        }
      },
      "source": [
        "print('CryptoCompare last reported volume (yesterday): ', vol[-1])"
      ],
      "execution_count": 0,
      "outputs": [
        {
          "output_type": "stream",
          "text": [
            "CryptoCompare last reported volume (yesterday):  22540.84\n"
          ],
          "name": "stdout"
        }
      ]
    },
    {
      "cell_type": "markdown",
      "metadata": {
        "id": "p16ipIQIDeRx",
        "colab_type": "text"
      },
      "source": [
        "## Config file with Model Hyperparameters"
      ]
    },
    {
      "cell_type": "code",
      "metadata": {
        "id": "Fs81MIhVvQ9Q",
        "colab_type": "code",
        "outputId": "3f28e5c2-60df-46b6-fa31-fb0be1a1a7b4",
        "colab": {
          "base_uri": "https://localhost:8080/",
          "height": 51
        }
      },
      "source": [
        "def get_config(file_loc='/content/gdrive/My Drive/College/Undergraduate Research/StockData/config.yaml'):\n",
        "    return yaml.safe_load(open(file_loc))\n",
        "config = get_config()\n",
        "print(type(config))\n",
        "print(config)"
      ],
      "execution_count": 0,
      "outputs": [
        {
          "output_type": "stream",
          "text": [
            "<class 'dict'>\n",
            "{'learning_rate': 0.001, 'batch_size': 1, 'epochs': 100, 'dropout_rate': 0, 'lstm_hidden_size': 1, 'lstm_num_layers': 1}\n"
          ],
          "name": "stdout"
        }
      ]
    },
    {
      "cell_type": "markdown",
      "metadata": {
        "id": "r3mV8lNFDjKB",
        "colab_type": "text"
      },
      "source": [
        "## Neural network architectures\n",
        "\n",
        "* 3 Layer Multi-Layer Perceptron\n",
        "* 1 Layer Temporal Convolutional Neural Network\n",
        "* Long-Term-Short-Term Recurrent Neural Network"
      ]
    },
    {
      "cell_type": "code",
      "metadata": {
        "id": "WDURcbQYcMbV",
        "colab_type": "code",
        "colab": {}
      },
      "source": [
        "\"\"\"\n",
        "Basic multilayer perceptron subclass \n",
        "of three layers in PyTorch\n",
        "\"\"\"\n",
        "class MLP(nn.Module):\n",
        "    def __init__(self,num_features):\n",
        "        super(MLP,self).__init__()\n",
        "        self.fc1 = nn.Linear(in_features=num_features,out_features=32)\n",
        "        self.fc2 = nn.Linear(in_features=32,out_features=128)\n",
        "        self.fc3 = nn.Linear(in_features=128,out_features=1)\n",
        "    \n",
        "    def forward(self, x):\n",
        "        \"\"\"\"Forward pass definition\"\"\"\n",
        "        x = F.leaky_relu(self.fc1(x))\n",
        "        x = F.leaky_relu(self.fc2(x))\n",
        "        x = F.leaky_relu(self.fc3(x))\n",
        "        return x\n",
        "\n",
        "class NumberRegression_MLP(nn.Module):\n",
        "    def __init__(self):\n",
        "        super(NumberRegression_MLP,self).__init__()\n",
        "        self.fc1 = nn.Linear(in_features=1,out_features=32)\n",
        "        self.fc2 = nn.Linear(in_features=32,out_features=128)\n",
        "        self.fc3 = nn.Linear(in_features=128,out_features=1)\n",
        "    def forward(self, x):\n",
        "        \"\"\"\"Forward pass definition\"\"\"\n",
        "        x = F.leaky_relu(self.fc1(x))\n",
        "        x = F.leaky_relu(self.fc2(x))\n",
        "        x = F.leaky_relu(self.fc3(x))\n",
        "        return x\n",
        "\"\"\"\n",
        "Recurrent Neural Networks (RNN)\n",
        "RNNs are an excellent method to model sequential data\n",
        "and time series data. This is perfect for stocks and\n",
        "crytocurrency price prediction.\n",
        "\n",
        "https://stackoverflow.com/questions/45022734/understanding-a-simple-lstm-pytorch\n",
        "https://www.jessicayung.com/lstms-for-time-series-in-pytorch/\n",
        "\"\"\"\n",
        "class TestRNN(nn.Module):\n",
        "    def __init__(self,bat_size,in_features,h_size,layer_amnt):\n",
        "        super(TestRNN,self).__init__()\n",
        "        \n",
        "        self.batch_sz = bat_size\n",
        "        self.in_features = in_features\n",
        "        self.h_size = h_size\n",
        "        self.layer_amnt = layer_amnt\n",
        "        \n",
        "        self.lstm1 = nn.LSTM(input_size=self.in_features,\n",
        "                             hidden_size=self.h_size,\n",
        "                             num_layers=self.layer_amnt,\n",
        "                             bias=True,\n",
        "                             batch_first=True,\n",
        "                             dropout=0,\n",
        "                             bidirectional=False\n",
        "                            )\n",
        "    def init_hidden(self):\n",
        "        \"\"\"Intialize/re-init the hidden and cell states. \n",
        "        The hidden state acts as the memory of the RNN \n",
        "        which gets passed from one unit to another. \n",
        "        h_i = f(h_i + in)\n",
        "\n",
        "        Intializing with 0s\n",
        "        \"\"\"\n",
        "        #print('layer size =\\t', self.layer_amnt)\n",
        "        #print('bat_size =\\t', self.batch_sz)\n",
        "        #print('hidden size =\\t',self.h_size)\n",
        "        return (torch.zeros(self.layer_amnt,self.batch_sz,self.h_size),\n",
        "                torch.zeros(self.layer_amnt,self.batch_sz,self.h_size))\n",
        "    def forward(self,x):\n",
        "        x = x.unsqueeze(0)\n",
        "        hidden_init = self.init_hidden()\n",
        "        h0 = hidden_init[0].to(device)\n",
        "        c0 = hidden_init[1].to(device)\n",
        "        x,hidden = self.lstm1( x,(h0,c0))\n",
        "        return x\n",
        "      \n",
        "\"\"\"\n",
        "Temporal Convolutional Neural Network (CNN)\n",
        "Time series based convolutional neural network\n",
        "\"\"\"\n",
        "class TimeCNN(nn.Module):\n",
        "    def __init__(self):\n",
        "        super(TimeCNN,self).__init__()\n",
        "        self.conv1 = nn.Conv1d(in_channels=1,out_channels=256,kernel_size=2,stride=1,padding=0)\n",
        "        self.fc1 = nn.Linear(in_features=512,out_features=1024)\n",
        "        self.fc2 = nn.Linear(in_features=1024,out_features=128)\n",
        "        self.fc3 = nn.Linear(in_features=128,out_features=1)\n",
        "    def forward(self,x):\n",
        "        x = x.unsqueeze(0)\n",
        "        x = F.leaky_relu(self.conv1(x))\n",
        "        x = x.reshape(-1)\n",
        "        x = F.leaky_relu(self.fc1(x))\n",
        "        x = F.leaky_relu(self.fc2(x))\n",
        "        x = F.leaky_relu(self.fc3(x))\n",
        "        return x\n",
        "\n",
        "\"\"\"\n",
        "https://arxiv.org/pdf/1506.00019.pdf\n",
        "https://www.quora.com/How-is-the-hidden-state-h-different-from-the-memory-c-in-an-LSTM-cell\n",
        "\"\"\"\n",
        "class TimeRNN(nn.Module):\n",
        "    def __init__(self,bat_size,in_features,h_size,layer_amnt):\n",
        "        super(TimeRNN,self).__init__()\n",
        "        \n",
        "        self.batch_sz = bat_size\n",
        "        self.in_features = in_features\n",
        "        self.h_size = h_size\n",
        "        self.layer_amnt = layer_amnt\n",
        "        \n",
        "        self.lstm1 = nn.LSTM(input_size=self.in_features,\n",
        "                             hidden_size=self.h_size,\n",
        "                             num_layers=self.layer_amnt,\n",
        "                             bias=True,\n",
        "                             batch_first=True,\n",
        "                             dropout=0,\n",
        "                             bidirectional=False)\n",
        "        self.fc1 = nn.Linear(in_features=1,out_features=1)\n",
        "    def init_hidden(self):\n",
        "        \"\"\"Intialize/re-init the hidden and cell states. \n",
        "        The hidden state acts as the memory of the RNN \n",
        "        which gets passed from one unit to another. \n",
        "        h_i = f(h_i + in)\n",
        "\n",
        "        Intializing with 0s\n",
        "        \"\"\"\n",
        "        #print('layer size =\\t', self.layer_amnt)\n",
        "        #print('bat_size =\\t', self.batch_sz)\n",
        "        #print('hidden size =\\t',self.h_size)\n",
        "        return (torch.zeros(self.layer_amnt,self.batch_sz,self.h_size),\n",
        "                torch.zeros(self.layer_amnt,self.batch_sz,self.h_size))\n",
        "    def forward(self,x):\n",
        "        x = x.unsqueeze(0)\n",
        "        hidden_init = self.init_hidden()\n",
        "        h0 = hidden_init[0].to(device)\n",
        "        c0 = hidden_init[1].to(device)\n",
        "        x,hidden = self.lstm1( x,(h0,c0))\n",
        "        x = F.leaky_relu(self.fc1(x[-1].view(self.batch_sz,-1)))\n",
        "        return x"
      ],
      "execution_count": 0,
      "outputs": []
    },
    {
      "cell_type": "code",
      "metadata": {
        "id": "RKSf-IgwcO6G",
        "colab_type": "code",
        "colab": {}
      },
      "source": [
        "class TickerData(torch.utils.data.Dataset):\n",
        "    def __init__(self, table):\n",
        "        self.dataset = table\n",
        "    def __len__(self):\n",
        "        return len(self.dataset)\n",
        "    def __getitem__(self,idx):\n",
        "        \"\"\"idx --> data pointer\"\"\"\n",
        "        return self.dataset[idx]"
      ],
      "execution_count": 0,
      "outputs": []
    },
    {
      "cell_type": "code",
      "metadata": {
        "id": "rKiMgnPRfHl5",
        "colab_type": "code",
        "outputId": "0f317ec5-2c62-4abf-818d-0cd8e1afc87e",
        "colab": {
          "base_uri": "https://localhost:8080/",
          "height": 68
        }
      },
      "source": [
        "device = torch.device(\"cuda\" if torch.cuda.is_available() else \"cpu\")\n",
        "print(\"Device state:\\t\", device)\n",
        "print(\"Device index:\\t\",torch.cuda.current_device())\n",
        "print(\"Current device:\\t\", torch.cuda.get_device_name(device))"
      ],
      "execution_count": 0,
      "outputs": [
        {
          "output_type": "stream",
          "text": [
            "Device state:\t cuda\n",
            "Device index:\t 0\n",
            "Current device:\t Tesla T4\n"
          ],
          "name": "stdout"
        }
      ]
    },
    {
      "cell_type": "markdown",
      "metadata": {
        "id": "psJuWNdZD3il",
        "colab_type": "text"
      },
      "source": [
        "## Training Phase"
      ]
    },
    {
      "cell_type": "code",
      "metadata": {
        "id": "ATH5hCDpcVL9",
        "colab_type": "code",
        "colab": {}
      },
      "source": [
        "class Trainer(object):\n",
        "    def __init__(self):\n",
        "        pass\n",
        "    def fetch_latest_BTC_JSON(self):\n",
        "        \"\"\"Fetch the latest JSON data\"\"\"\n",
        "        API_LINK = 'https://www.alphavantage.co/query?function=DIGITAL_CURRENCY_DAILY&symbol=BTC&market=USD&apikey=SAITMI5ZUMGEKGKY'\n",
        "        page = requests.get(API_LINK).json()\n",
        "        return page\n",
        "    def fetch_btc_prices(self):\n",
        "        with open(\"/content/gdrive/My Drive/College/Undergraduate Research/StockData/BTC_data.json\") as f:\n",
        "            return json.load(f)  \n",
        "\n",
        "    def parse_alphaV_JSON(self,raw_data):\n",
        "        # Remove meta data for now\n",
        "        raw_data.pop('Meta Data',None)\n",
        "        # Remove key name\n",
        "        df = pd.DataFrame.from_dict(raw_data['Time Series (Digital Currency Daily)'],dtype=float)\n",
        "        # Flip dates as columns into rows\n",
        "        df = df.transpose()\n",
        "        return df\n",
        "    \n",
        "    def data_split(self,x_train,y_train):\n",
        "        x_train, x_test, y_train, y_test = train_test_split(x_train,y_train,test_size=0.2,random_state=100,shuffle=False)\n",
        "        return x_train, x_test, y_train, y_test\n",
        "\n",
        "    def train(self,model, x_data,y_data, original_prices,epochs):\n",
        "        \"\"\"Price prediction model training loop function. This method\n",
        "        is generalized for the purposes of allowing any model to be used\n",
        "\n",
        "        Arguements:\"\"\"\n",
        "        prices = torch.tensor(original_prices)\n",
        "        max_price = torch.max(prices)\n",
        "        min_price = torch.min(prices)\n",
        "\n",
        "        print('----Dataset Prep----')\n",
        "        x_train, x_test, y_train, y_test = self.data_split(x_data,y_data)\n",
        "        train_tensorDataset = torch.utils.data.TensorDataset(torch.from_numpy(x_train),torch.from_numpy(y_train))\n",
        "        train_data_loader = torch.utils.data.DataLoader(\n",
        "            dataset=train_tensorDataset,\n",
        "            batch_size=config['batch_size'],\n",
        "            shuffle=False,\n",
        "            num_workers=0\n",
        "        )\n",
        "\n",
        "        test_tensorDataset = torch.utils.data.TensorDataset(torch.Tensor(x_test),torch.Tensor(y_test))\n",
        "        test_data_loader = torch.utils.data.DataLoader(\n",
        "            dataset=test_tensorDataset,\n",
        "            batch_size=config['batch_size'],\n",
        "            shuffle=False,\n",
        "            num_workers=0\n",
        "        )\n",
        "\n",
        "        print('-- Model Architecture --')\n",
        "        print(model)\n",
        "\n",
        "        # -- Model to CUDA GPU --\n",
        "        if( str(device) == 'cuda'):\n",
        "            print('Sending model to',torch.cuda.get_device_name(device),' GPU')\n",
        "            #model = model.cuda()\n",
        "            model.to(device)\n",
        "\n",
        "        # -- Since we are predicting prices --> mean squared error is our loss function\n",
        "        loss_func = torch.nn.MSELoss()\n",
        "\n",
        "        # -- Optimizer --> Adam generally works best\n",
        "        # TODO: choose a better learning rate later\n",
        "        optimizer = torch.optim.Adam(model.parameters(), lr=config['learning_rate'])\n",
        "\n",
        "        total_loss = 0\n",
        "        losses = []\n",
        "        for epoch in (range(epochs)):\n",
        "            for i, (examples,labels) in tqdm(enumerate(train_data_loader)):\n",
        "\n",
        "                if( str(device) == 'cuda'):\n",
        "                    examples = examples.to(device)\n",
        "                    labels = labels.to(device)\n",
        "\n",
        "                #print(examples , \" ----- \" , labels)\n",
        "\n",
        "                optimizer.zero_grad()\n",
        "\n",
        "                # -- Input to CUDA --\n",
        "                #examples = examples.to(device)\n",
        "                #labels = labels.to(device)\n",
        "\n",
        "                y_predictions = model(examples.float())\n",
        "                loss = loss_func(y_predictions.float(),labels.float())\n",
        "\n",
        "                total_loss += loss.data\n",
        "\n",
        "                # back-prop to update the weights\n",
        "                loss.backward()\n",
        "                # optimizer steps based on lr\n",
        "                optimizer.step()\n",
        "\n",
        "                y_preds = y_predictions.cpu().detach().numpy()\n",
        "                y_preds = torch.tensor(y_preds)\n",
        "                #print(y_preds.shape)\n",
        "                test = self.un_normalize(y_preds, min_price, max_price)\n",
        "                #print(\"---> \", test)\n",
        "                #break\n",
        "\n",
        "            print ('Epoch [{}/{}], Loss: {}'.format(epoch+1, config['epochs'], loss.data))\n",
        "            #print(list(model.parameters()))\n",
        "            print(\"-----------------------------------------------------------------------------\")\n",
        "            losses.append(loss.data)\n",
        "        return losses, test_data_loader, loss_func, model, min_price, max_price, y_test\n",
        "\n",
        "\n",
        "    def table_edit(self,dataframe):\n",
        "        dataframe = dataframe.drop(labels=['1b. open (USD)','2b. high (USD)','3b. low (USD)','4b. close (USD)'],axis=1)\n",
        "        table_col_order = ['1a. open (USD)','2a. high (USD)','3a. low (USD)','5. volume','6. market cap (USD)','4a. close (USD)']\n",
        "        dataframe = dataframe[table_col_order]\n",
        "        return dataframe\n",
        "\n",
        "    def loss_visualize(self,loss_tensor):\n",
        "        losses = np.array(loss_tensor)\n",
        "        print(losses)\n",
        "\n",
        "        plt.plot(losses)\n",
        "\n",
        "    def validation_test(self,test_dataloader, criterion, model, norm_min, norm_max):\n",
        "        test_loss = 0\n",
        "        accuracy = 0\n",
        "        all_predictions = []\n",
        "        for (examples, labels) in test_dataloader:\n",
        "\n",
        "            if(str(device) == 'cuda'):\n",
        "                examples = examples.to(device)\n",
        "                labels = labels.to(device)\n",
        "\n",
        "            output = model.forward(examples)\n",
        "\n",
        "            un_normed_outputs = self.un_normalize(output, norm_min,norm_max)\n",
        "            all_predictions.append(un_normed_outputs.detach())\n",
        "            #print(\"output --> \", un_normed_outputs)\n",
        "            loss = criterion(output, labels).item()\n",
        "            test_loss += loss\n",
        "\n",
        "            #ps = torch.exp(output)\n",
        "            #equality = (labels.data == ps.max(dim=1)[1])\n",
        "            #accuracy += equality.type(torch.FloatTensor).mean()\n",
        "\n",
        "            #print('output --> ', un_normed_outputs, ' loss --> ', loss)\n",
        "\n",
        "        return test_loss, accuracy, all_predictions\n",
        "\n",
        "    def un_normalize(self,norm_val,min_val,max_val,typelist=None):\n",
        "        if(typelist):\n",
        "            for idx,item in enumerate(norm_val):\n",
        "                new_val = item * (max_val - min_val) + min_val\n",
        "                norm_val[idx] = new_val\n",
        "            return norm_val\n",
        "        else:\n",
        "            return norm_val * (max_val - min_val) + min_val  \n",
        "\n",
        "    def prediction_visualization(self,minimum_price,maximum_price,close_prices,model_predictions):\n",
        "        plt.close()\n",
        "\n",
        "        test_values = np.array(self.un_normalize(norm_val=close_prices,min_val=minimum_price,max_val=maximum_price,typelist=True))\n",
        "        print(test_values)\n",
        "        #print(np.array(model_predictions.grad))\n",
        "        #model_predictions[0].requires_grad = False\n",
        "        print(model_predictions) ###\n",
        "        print(len(model_predictions))\n",
        "        for idx,item in enumerate(model_predictions):\n",
        "            print('the item is =\\t',item)\n",
        "            print('the size of the item is =\\t', item.shape)\n",
        "            model_predictions[idx] = np.asscalar(item.cpu().numpy())\n",
        "        predicted_values = model_predictions\n",
        "\n",
        "        print(len(test_values))\n",
        "        print(len(predicted_values))\n",
        "\n",
        "        plt.plot(np.array(test_values),color='#FFA500')\n",
        "        plt.plot(np.array(predicted_values),color='g')\n",
        "        plt.show()\n",
        "        pass\n",
        "\n",
        "    def volume_visualization(self,volume):\n",
        "        vol = np.array(volume)\n",
        "        plt.plot(vol)\n",
        "        pass\n",
        "\n",
        "    def VMA_calculation(self,prices=[]):\n",
        "        prices = np.array(prices)\n",
        "\n",
        "        n_prices = []\n",
        "        for idx, p in enumerate(prices):\n",
        "            if(idx + 1 == len(prices)):\n",
        "                break\n",
        "            p1 = prices[idx]\n",
        "            p2 = prices[idx+1]\n",
        "            arr = np.array([p1,p2])#,p3,p4,p5,p6,p7,p8,p9,p10,p11])\n",
        "            n_prices.append(arr)\n",
        "\n",
        "        vmas = []\n",
        "        for arr in n_prices:\n",
        "            sum_vol = arr.sum()\n",
        "            vmas.append(sum_vol/2)\n",
        "\n",
        "        first_ten = vmas[:10]\n",
        "        average_num = np.average(first_ten)\n",
        "        vmas = np.insert(vmas,0,average_num)\n",
        "\n",
        "        #plt.figure(figsize=(20,10))\n",
        "        #plt.plot(np.array(prices))\n",
        "        #plt.plot(np.array(vmas))\n",
        "        return vmas\n",
        "\n",
        "\n",
        "    def vol_dataset_prep(self,vma,volume,original_volume):\n",
        "        \"\"\"VMA - x_train -- volume -- y_train\"\"\"\n",
        "        print(len(vma))\n",
        "        print(len(volume))\n",
        "        print(len(original_volume))\n",
        "\n",
        "    #     vma = torch.tensor(vma)\n",
        "    #     volume = torch.tensor(volume)\n",
        "\n",
        "\n",
        "        #########################\n",
        "        x_train,x_test,y_train,y_test = data_split(volume,volume)\n",
        "\n",
        "        #######################\n",
        "\n",
        "        #x_train,x_test,y_train,y_test = data_split(vma,volume)\n",
        "\n",
        "        train_data = torch.utils.data.TensorDataset(torch.from_numpy(x_train),torch.from_numpy(y_train))\n",
        "        test_data = torch.utils.data.TensorDataset(torch.from_numpy(x_test),torch.from_numpy(y_test))\n",
        "        train_dataloader = torch.utils.data.DataLoader(\n",
        "            dataset=train_data,\n",
        "            batch_size=1,\n",
        "            shuffle=False,\n",
        "            num_workers=0\n",
        "        )\n",
        "        test_dataloader = torch.utils.data.DataLoader(\n",
        "            dataset=test_data,\n",
        "            batch_size=1,\n",
        "            shuffle=False,\n",
        "            num_workers=0\n",
        "        )\n",
        "        return x_train,y_train,x_test,y_test,train_dataloader,test_dataloader\n",
        "\n",
        "    def vol_train(self,model, train_dataloader):\n",
        "        loss_func = torch.nn.MSELoss()\n",
        "        optimizer = torch.optim.Adam(model.parameters(),lr=0.001)\n",
        "\n",
        "        total_loss = 0\n",
        "        losses = []\n",
        "        for epoch in (range(10)):\n",
        "            for i, (examples,labels) in tqdm(enumerate(train_dataloader)):\n",
        "\n",
        "                optimizer.zero_grad()\n",
        "\n",
        "                y_predictions = model(examples.float())\n",
        "                loss = loss_func(y_predictions.float(),labels.float())\n",
        "\n",
        "                total_loss += loss.data\n",
        "\n",
        "                # back-prop to update the weights\n",
        "                loss.backward()\n",
        "                # optimizer steps based on lr\n",
        "                optimizer.step()\n",
        "\n",
        "                y_preds = y_predictions.cpu().detach().numpy()\n",
        "                y_preds = torch.tensor(y_preds)\n",
        "                #print(y_preds.shape)\n",
        "                #print(\"---> \", test)\n",
        "                #break\n",
        "\n",
        "            print ('Epoch [{}/{}], Loss: {}'.format(epoch+1, 100, loss.data))\n",
        "            #print(list(model.parameters()))\n",
        "            print(\"-----------------------------------------------------------------------------\")\n",
        "            losses.append(loss.data)\n",
        "        return model,loss_func,total_loss,losses\n",
        "\n",
        "    def vol_test(self,model,criterion,test_dataloader,min_val,max_val):\n",
        "        test_loss = 0\n",
        "        accuracy = 0\n",
        "        all_predictions = []\n",
        "        for (examples, labels) in test_dataloader:\n",
        "            output = model.forward(examples.float())\n",
        "            un_normed_outputs = self.un_normalize(output, min_val,max_val)\n",
        "            all_predictions.append(un_normed_outputs.detach())\n",
        "            loss = criterion(output, labels.float()).item()\n",
        "            test_loss += loss\n",
        "        return test_loss, accuracy, all_predictions\n",
        "\n",
        "    def vol_prediction_visualization(self,predictions,actual,min_val,max_val):\n",
        "        for idx,item in enumerate(predictions):\n",
        "              predictions[idx] = np.asscalar(item.numpy())\n",
        "        print(predictions)\n",
        "        actual = self.un_normalize(actual,min_val,max_val,typelist=True)\n",
        "        print(actual)\n",
        "        plt.figure(figsize=(20,10))\n",
        "        plt.plot(np.array(actual),color='g')\n",
        "        plt.plot(np.array(predictions),color='#FFA500')"
      ],
      "execution_count": 0,
      "outputs": []
    },
    {
      "cell_type": "code",
      "metadata": {
        "id": "3hMUGeDkcZnZ",
        "colab_type": "code",
        "outputId": "4bfd0af8-00d0-4189-bf99-d0610e611a5c",
        "colab": {
          "base_uri": "https://localhost:8080/",
          "height": 1000
        }
      },
      "source": [
        "def main():\n",
        "\n",
        "    trainer = Trainer()\n",
        "\n",
        "    # -- Preprocessing -- #\n",
        "    raw_price_data = trainer.fetch_latest_BTC_JSON()\n",
        "    data_df = trainer.parse_alphaV_JSON(raw_data=raw_price_data)\n",
        "    data_df = data_df.iloc[::-1] # Flip data\n",
        "\n",
        "    # Seperating the y-data\n",
        "    prices = np.array(data_df['4a. close (USD)'].tolist())\n",
        "   \n",
        "    # Temporary dataframe for creating an extra normalizer for re-scaling inference values later\n",
        "    data_df_temp = data_df.drop(labels=['1a. open (USD)','1b. open (USD)','2b. high (USD)','3b. low (USD)','4a. close (USD)','4b. close (USD)','6. market cap (USD)'],axis=1) # ,'2a. high (USD)','3a. low (USD)'\n",
        "    minmax_2 = preprocessing.MinMaxScaler()\n",
        "    data_df_temp = pd.DataFrame(minmax_2.fit_transform(data_df_temp), columns=data_df_temp.columns)\n",
        "    \n",
        "    # -- Normalize the Data --\n",
        "    min_max_scaler = preprocessing.MinMaxScaler()\n",
        "    data_df = pd.DataFrame(min_max_scaler.fit_transform(data_df), columns=data_df.columns)\n",
        "    data_df = trainer.table_edit(data_df)\n",
        "    y_train = np.array(data_df['4a. close (USD)'].tolist())\n",
        "    data_df = data_df.drop(labels=['4a. close (USD)'],axis=1)\n",
        "    \n",
        "    data_df = data_df.drop(labels=['1a. open (USD)','6. market cap (USD)'],axis=1)\n",
        "    print('---new---')\n",
        "    print(data_df)\n",
        " \n",
        "    model = TimeRNN(bat_size=config['batch_size'],\n",
        "                    in_features=3,\n",
        "                    h_size=config['lstm_hidden_size'],\n",
        "                    layer_amnt=config['lstm_num_layers']\n",
        "                    ) \n",
        "    #model = TimeCNN()\n",
        "    #model = MLP(3)\n",
        "\n",
        "    losses, test_data_loader, loss_func, model, min_price, max_price, test_prices = trainer.train(model=model, \n",
        "                                                                                                  x_data=data_df.values,\n",
        "                                                                                                  y_data=y_train,\n",
        "                                                                                                  original_prices=prices,\n",
        "                                                                                                  epochs=config['epochs']\n",
        "                                                                                                  )\n",
        "    trainer.loss_visualize(losses)\n",
        "    _, _, all_unnormed_outputs = trainer.validation_test(test_dataloader=test_data_loader,criterion=loss_func, model=model, norm_min=min_price, norm_max=max_price)\n",
        "    \n",
        "    trainer.prediction_visualization(minimum_price=min_price,maximum_price=max_price,close_prices=test_prices,model_predictions=all_unnormed_outputs)\n",
        "    return minmax_2,model,min_price,max_price\n",
        "\n",
        "min_max_scaler,price_model,min_price,max_price = main()"
      ],
      "execution_count": 0,
      "outputs": [
        {
          "output_type": "stream",
          "text": [
            "0it [00:00, ?it/s]/usr/local/lib/python3.6/dist-packages/torch/nn/modules/loss.py:443: UserWarning: Using a target size (torch.Size([1])) that is different to the input size (torch.Size([1, 1])). This will likely lead to incorrect results due to broadcasting. Please ensure they have the same size.\n",
            "  return F.mse_loss(input, target, reduction=self.reduction)\n",
            "48it [00:00, 473.07it/s]"
          ],
          "name": "stderr"
        },
        {
          "output_type": "stream",
          "text": [
            "---new---\n",
            "      2a. high (USD)  3a. low (USD)  5. volume\n",
            "0           0.014211       0.015871   0.065599\n",
            "1           0.014355       0.013845   0.100519\n",
            "2           0.012236       0.012991   0.077509\n",
            "3           0.012484       0.013762   0.040911\n",
            "4           0.012945       0.014617   0.022424\n",
            "5           0.013249       0.014911   0.017252\n",
            "6           0.012887       0.014522   0.029798\n",
            "7           0.012805       0.014599   0.019009\n",
            "8           0.012839       0.014362   0.024194\n",
            "9           0.012070       0.009860   0.140818\n",
            "10          0.011075       0.009354   0.137174\n",
            "11          0.011771       0.012994   0.041614\n",
            "12          0.011221       0.011829   0.049542\n",
            "13          0.013162       0.012539   0.098314\n",
            "14          0.015952       0.015069   0.092624\n",
            "15          0.017025       0.017238   0.092662\n",
            "16          0.016395       0.016630   0.058510\n",
            "17          0.014684       0.015970   0.033406\n",
            "18          0.015022       0.015944   0.031836\n",
            "19          0.015335       0.017046   0.017060\n",
            "20          0.015214       0.017085   0.024600\n",
            "21          0.015527       0.016735   0.019979\n",
            "22          0.014785       0.016675   0.015215\n",
            "23          0.015437       0.016455   0.020052\n",
            "24          0.015295       0.014523   0.087341\n",
            "25          0.013033       0.014837   0.022632\n",
            "26          0.013104       0.014165   0.020683\n",
            "27          0.012035       0.013445   0.047005\n",
            "28          0.012851       0.014013   0.029785\n",
            "29          0.012825       0.014131   0.027454\n",
            "...              ...            ...        ...\n",
            "1916        0.608868       0.567487   0.099433\n",
            "1917        0.559513       0.530156   0.139375\n",
            "1918        0.544439       0.512019   0.144343\n",
            "1919        0.597755       0.572169   0.135481\n",
            "1920        0.600840       0.587116   0.086402\n",
            "1921        0.569810       0.573142   0.081185\n",
            "1922        0.583661       0.581017   0.061057\n",
            "1923        0.579340       0.588668   0.048619\n",
            "1924        0.618587       0.600718   0.079138\n",
            "1925        0.639539       0.645278   0.097185\n",
            "1926        0.657030       0.619128   0.145848\n",
            "1927        0.604970       0.584006   0.124805\n",
            "1928        0.594753       0.588930   0.069069\n",
            "1929        0.591270       0.572785   0.071339\n",
            "1930        0.570775       0.539536   0.094342\n",
            "1931        0.551091       0.523810   0.110072\n",
            "1932        0.549693       0.495538   0.140342\n",
            "1933        0.495285       0.481139   0.118756\n",
            "1934        0.534817       0.492144   0.123273\n",
            "1935        0.534293       0.537854   0.078462\n",
            "1936        0.550011       0.550673   0.126703\n",
            "1937        0.540438       0.551110   0.078611\n",
            "1938        0.530167       0.534912   0.066031\n",
            "1939        0.514769       0.520250   0.067275\n",
            "1940        0.493587       0.504494   0.071496\n",
            "1941        0.505751       0.515214   0.054223\n",
            "1942        0.493175       0.512645   0.043757\n",
            "1943        0.506331       0.495625   0.071350\n",
            "1944        0.475978       0.484464   0.044569\n",
            "1945        0.481745       0.498239   0.045346\n",
            "\n",
            "[1946 rows x 3 columns]\n",
            "----Dataset Prep----\n",
            "-- Model Architecture --\n",
            "TimeRNN(\n",
            "  (lstm1): LSTM(3, 1, batch_first=True)\n",
            "  (fc1): Linear(in_features=1, out_features=1, bias=True)\n",
            ")\n",
            "Sending model to Tesla T4  GPU\n"
          ],
          "name": "stdout"
        },
        {
          "output_type": "stream",
          "text": [
            "1556it [00:03, 474.56it/s]\n",
            "48it [00:00, 479.14it/s]"
          ],
          "name": "stderr"
        },
        {
          "output_type": "stream",
          "text": [
            "Epoch [1/100], Loss: 0.0014250111998990178\n",
            "-----------------------------------------------------------------------------\n"
          ],
          "name": "stdout"
        },
        {
          "output_type": "stream",
          "text": [
            "1556it [00:03, 473.22it/s]\n",
            "49it [00:00, 481.77it/s]"
          ],
          "name": "stderr"
        },
        {
          "output_type": "stream",
          "text": [
            "Epoch [2/100], Loss: 0.0016841277247294784\n",
            "-----------------------------------------------------------------------------\n"
          ],
          "name": "stdout"
        },
        {
          "output_type": "stream",
          "text": [
            "1556it [00:03, 477.06it/s]\n",
            "49it [00:00, 482.15it/s]"
          ],
          "name": "stderr"
        },
        {
          "output_type": "stream",
          "text": [
            "Epoch [3/100], Loss: 0.0009448977070860565\n",
            "-----------------------------------------------------------------------------\n"
          ],
          "name": "stdout"
        },
        {
          "output_type": "stream",
          "text": [
            "1556it [00:03, 475.43it/s]\n",
            "44it [00:00, 434.37it/s]"
          ],
          "name": "stderr"
        },
        {
          "output_type": "stream",
          "text": [
            "Epoch [4/100], Loss: 0.0002097341202897951\n",
            "-----------------------------------------------------------------------------\n"
          ],
          "name": "stdout"
        },
        {
          "output_type": "stream",
          "text": [
            "1556it [00:03, 455.38it/s]\n",
            "46it [00:00, 457.39it/s]"
          ],
          "name": "stderr"
        },
        {
          "output_type": "stream",
          "text": [
            "Epoch [5/100], Loss: 3.666949055514124e-07\n",
            "-----------------------------------------------------------------------------\n"
          ],
          "name": "stdout"
        },
        {
          "output_type": "stream",
          "text": [
            "1556it [00:03, 456.88it/s]\n",
            "48it [00:00, 475.60it/s]"
          ],
          "name": "stderr"
        },
        {
          "output_type": "stream",
          "text": [
            "Epoch [6/100], Loss: 1.3439436770568136e-05\n",
            "-----------------------------------------------------------------------------\n"
          ],
          "name": "stdout"
        },
        {
          "output_type": "stream",
          "text": [
            "1556it [00:03, 468.50it/s]\n",
            "48it [00:00, 475.54it/s]"
          ],
          "name": "stderr"
        },
        {
          "output_type": "stream",
          "text": [
            "Epoch [7/100], Loss: 1.91955518857867e-06\n",
            "-----------------------------------------------------------------------------\n"
          ],
          "name": "stdout"
        },
        {
          "output_type": "stream",
          "text": [
            "1556it [00:03, 468.19it/s]\n",
            "48it [00:00, 478.99it/s]"
          ],
          "name": "stderr"
        },
        {
          "output_type": "stream",
          "text": [
            "Epoch [8/100], Loss: 1.5181867638602853e-06\n",
            "-----------------------------------------------------------------------------\n"
          ],
          "name": "stdout"
        },
        {
          "output_type": "stream",
          "text": [
            "1556it [00:03, 472.48it/s]\n",
            "48it [00:00, 476.38it/s]"
          ],
          "name": "stderr"
        },
        {
          "output_type": "stream",
          "text": [
            "Epoch [9/100], Loss: 4.518770765571389e-06\n",
            "-----------------------------------------------------------------------------\n"
          ],
          "name": "stdout"
        },
        {
          "output_type": "stream",
          "text": [
            "1556it [00:03, 476.22it/s]\n",
            "48it [00:00, 478.76it/s]"
          ],
          "name": "stderr"
        },
        {
          "output_type": "stream",
          "text": [
            "Epoch [10/100], Loss: 5.02041393701802e-06\n",
            "-----------------------------------------------------------------------------\n"
          ],
          "name": "stdout"
        },
        {
          "output_type": "stream",
          "text": [
            "1556it [00:03, 474.97it/s]\n",
            "48it [00:00, 473.63it/s]"
          ],
          "name": "stderr"
        },
        {
          "output_type": "stream",
          "text": [
            "Epoch [11/100], Loss: 5.2493360271910205e-06\n",
            "-----------------------------------------------------------------------------\n"
          ],
          "name": "stdout"
        },
        {
          "output_type": "stream",
          "text": [
            "1556it [00:03, 473.49it/s]\n",
            "48it [00:00, 476.84it/s]"
          ],
          "name": "stderr"
        },
        {
          "output_type": "stream",
          "text": [
            "Epoch [12/100], Loss: 5.627781774819596e-06\n",
            "-----------------------------------------------------------------------------\n"
          ],
          "name": "stdout"
        },
        {
          "output_type": "stream",
          "text": [
            "1556it [00:03, 475.65it/s]\n",
            "49it [00:00, 484.48it/s]"
          ],
          "name": "stderr"
        },
        {
          "output_type": "stream",
          "text": [
            "Epoch [13/100], Loss: 6.205067620612681e-06\n",
            "-----------------------------------------------------------------------------\n"
          ],
          "name": "stdout"
        },
        {
          "output_type": "stream",
          "text": [
            "1556it [00:03, 476.12it/s]\n",
            "47it [00:00, 465.71it/s]"
          ],
          "name": "stderr"
        },
        {
          "output_type": "stream",
          "text": [
            "Epoch [14/100], Loss: 6.964927251829067e-06\n",
            "-----------------------------------------------------------------------------\n"
          ],
          "name": "stdout"
        },
        {
          "output_type": "stream",
          "text": [
            "1556it [00:03, 469.72it/s]\n",
            "47it [00:00, 467.30it/s]"
          ],
          "name": "stderr"
        },
        {
          "output_type": "stream",
          "text": [
            "Epoch [15/100], Loss: 7.799262675689533e-06\n",
            "-----------------------------------------------------------------------------\n"
          ],
          "name": "stdout"
        },
        {
          "output_type": "stream",
          "text": [
            "1556it [00:03, 474.97it/s]\n",
            "49it [00:00, 483.17it/s]"
          ],
          "name": "stderr"
        },
        {
          "output_type": "stream",
          "text": [
            "Epoch [16/100], Loss: 8.634134246676695e-06\n",
            "-----------------------------------------------------------------------------\n"
          ],
          "name": "stdout"
        },
        {
          "output_type": "stream",
          "text": [
            "1556it [00:03, 474.98it/s]\n",
            "45it [00:00, 446.29it/s]"
          ],
          "name": "stderr"
        },
        {
          "output_type": "stream",
          "text": [
            "Epoch [17/100], Loss: 9.593240974936634e-06\n",
            "-----------------------------------------------------------------------------\n"
          ],
          "name": "stdout"
        },
        {
          "output_type": "stream",
          "text": [
            "1556it [00:03, 474.82it/s]\n",
            "49it [00:00, 482.42it/s]"
          ],
          "name": "stderr"
        },
        {
          "output_type": "stream",
          "text": [
            "Epoch [18/100], Loss: 1.0484016456757672e-05\n",
            "-----------------------------------------------------------------------------\n"
          ],
          "name": "stdout"
        },
        {
          "output_type": "stream",
          "text": [
            "1556it [00:03, 472.94it/s]\n",
            "48it [00:00, 476.41it/s]"
          ],
          "name": "stderr"
        },
        {
          "output_type": "stream",
          "text": [
            "Epoch [19/100], Loss: 1.1427627214288805e-05\n",
            "-----------------------------------------------------------------------------\n"
          ],
          "name": "stdout"
        },
        {
          "output_type": "stream",
          "text": [
            "1556it [00:03, 476.12it/s]\n",
            "49it [00:00, 484.66it/s]"
          ],
          "name": "stderr"
        },
        {
          "output_type": "stream",
          "text": [
            "Epoch [20/100], Loss: 1.2312766557442956e-05\n",
            "-----------------------------------------------------------------------------\n"
          ],
          "name": "stdout"
        },
        {
          "output_type": "stream",
          "text": [
            "1556it [00:03, 476.46it/s]\n",
            "48it [00:00, 479.68it/s]"
          ],
          "name": "stderr"
        },
        {
          "output_type": "stream",
          "text": [
            "Epoch [21/100], Loss: 1.3089075764582958e-05\n",
            "-----------------------------------------------------------------------------\n"
          ],
          "name": "stdout"
        },
        {
          "output_type": "stream",
          "text": [
            "1556it [00:03, 472.19it/s]\n",
            "46it [00:00, 459.50it/s]"
          ],
          "name": "stderr"
        },
        {
          "output_type": "stream",
          "text": [
            "Epoch [22/100], Loss: 1.3661478078574874e-05\n",
            "-----------------------------------------------------------------------------\n"
          ],
          "name": "stdout"
        },
        {
          "output_type": "stream",
          "text": [
            "1556it [00:03, 473.94it/s]\n",
            "49it [00:00, 484.73it/s]"
          ],
          "name": "stderr"
        },
        {
          "output_type": "stream",
          "text": [
            "Epoch [23/100], Loss: 1.3876677257940173e-05\n",
            "-----------------------------------------------------------------------------\n"
          ],
          "name": "stdout"
        },
        {
          "output_type": "stream",
          "text": [
            "1556it [00:03, 470.97it/s]\n",
            "48it [00:00, 475.21it/s]"
          ],
          "name": "stderr"
        },
        {
          "output_type": "stream",
          "text": [
            "Epoch [24/100], Loss: 1.4175351680023596e-05\n",
            "-----------------------------------------------------------------------------\n"
          ],
          "name": "stdout"
        },
        {
          "output_type": "stream",
          "text": [
            "1556it [00:03, 468.86it/s]\n",
            "48it [00:00, 471.82it/s]"
          ],
          "name": "stderr"
        },
        {
          "output_type": "stream",
          "text": [
            "Epoch [25/100], Loss: 1.4380528227775358e-05\n",
            "-----------------------------------------------------------------------------\n"
          ],
          "name": "stdout"
        },
        {
          "output_type": "stream",
          "text": [
            "1556it [00:03, 473.59it/s]\n",
            "48it [00:00, 475.54it/s]"
          ],
          "name": "stderr"
        },
        {
          "output_type": "stream",
          "text": [
            "Epoch [26/100], Loss: 1.4441848179558292e-05\n",
            "-----------------------------------------------------------------------------\n"
          ],
          "name": "stdout"
        },
        {
          "output_type": "stream",
          "text": [
            "1556it [00:03, 470.93it/s]\n",
            "49it [00:00, 481.10it/s]"
          ],
          "name": "stderr"
        },
        {
          "output_type": "stream",
          "text": [
            "Epoch [27/100], Loss: 1.4403140085050836e-05\n",
            "-----------------------------------------------------------------------------\n"
          ],
          "name": "stdout"
        },
        {
          "output_type": "stream",
          "text": [
            "1556it [00:03, 473.47it/s]\n",
            "42it [00:00, 418.46it/s]"
          ],
          "name": "stderr"
        },
        {
          "output_type": "stream",
          "text": [
            "Epoch [28/100], Loss: 1.4343483599077445e-05\n",
            "-----------------------------------------------------------------------------\n"
          ],
          "name": "stdout"
        },
        {
          "output_type": "stream",
          "text": [
            "1556it [00:03, 474.26it/s]\n",
            "46it [00:00, 458.07it/s]"
          ],
          "name": "stderr"
        },
        {
          "output_type": "stream",
          "text": [
            "Epoch [29/100], Loss: 1.3943368685431778e-05\n",
            "-----------------------------------------------------------------------------\n"
          ],
          "name": "stdout"
        },
        {
          "output_type": "stream",
          "text": [
            "1556it [00:03, 470.20it/s]\n",
            "48it [00:00, 476.95it/s]"
          ],
          "name": "stderr"
        },
        {
          "output_type": "stream",
          "text": [
            "Epoch [30/100], Loss: 1.3519748790713493e-05\n",
            "-----------------------------------------------------------------------------\n"
          ],
          "name": "stdout"
        },
        {
          "output_type": "stream",
          "text": [
            "1556it [00:03, 470.22it/s]\n",
            "45it [00:00, 447.60it/s]"
          ],
          "name": "stderr"
        },
        {
          "output_type": "stream",
          "text": [
            "Epoch [31/100], Loss: 1.3057610885880422e-05\n",
            "-----------------------------------------------------------------------------\n"
          ],
          "name": "stdout"
        },
        {
          "output_type": "stream",
          "text": [
            "1556it [00:03, 469.42it/s]\n",
            "48it [00:00, 475.78it/s]"
          ],
          "name": "stderr"
        },
        {
          "output_type": "stream",
          "text": [
            "Epoch [32/100], Loss: 1.2614303159352858e-05\n",
            "-----------------------------------------------------------------------------\n"
          ],
          "name": "stdout"
        },
        {
          "output_type": "stream",
          "text": [
            "1556it [00:03, 475.96it/s]\n",
            "49it [00:00, 481.49it/s]"
          ],
          "name": "stderr"
        },
        {
          "output_type": "stream",
          "text": [
            "Epoch [33/100], Loss: 1.2180938938399777e-05\n",
            "-----------------------------------------------------------------------------\n"
          ],
          "name": "stdout"
        },
        {
          "output_type": "stream",
          "text": [
            "1556it [00:03, 477.41it/s]\n",
            "49it [00:00, 485.03it/s]"
          ],
          "name": "stderr"
        },
        {
          "output_type": "stream",
          "text": [
            "Epoch [34/100], Loss: 1.1757806532841641e-05\n",
            "-----------------------------------------------------------------------------\n"
          ],
          "name": "stdout"
        },
        {
          "output_type": "stream",
          "text": [
            "1556it [00:03, 462.41it/s]\n",
            "45it [00:00, 440.66it/s]"
          ],
          "name": "stderr"
        },
        {
          "output_type": "stream",
          "text": [
            "Epoch [35/100], Loss: 1.1350184649927542e-05\n",
            "-----------------------------------------------------------------------------\n"
          ],
          "name": "stdout"
        },
        {
          "output_type": "stream",
          "text": [
            "1556it [00:03, 447.56it/s]\n",
            "46it [00:00, 458.02it/s]"
          ],
          "name": "stderr"
        },
        {
          "output_type": "stream",
          "text": [
            "Epoch [36/100], Loss: 1.0959026440104935e-05\n",
            "-----------------------------------------------------------------------------\n"
          ],
          "name": "stdout"
        },
        {
          "output_type": "stream",
          "text": [
            "1556it [00:03, 448.21it/s]\n",
            "46it [00:00, 453.09it/s]"
          ],
          "name": "stderr"
        },
        {
          "output_type": "stream",
          "text": [
            "Epoch [37/100], Loss: 1.0590044439595658e-05\n",
            "-----------------------------------------------------------------------------\n"
          ],
          "name": "stdout"
        },
        {
          "output_type": "stream",
          "text": [
            "1556it [00:03, 455.54it/s]\n",
            "48it [00:00, 479.61it/s]"
          ],
          "name": "stderr"
        },
        {
          "output_type": "stream",
          "text": [
            "Epoch [38/100], Loss: 1.023786717269104e-05\n",
            "-----------------------------------------------------------------------------\n"
          ],
          "name": "stdout"
        },
        {
          "output_type": "stream",
          "text": [
            "1556it [00:03, 476.45it/s]\n",
            "49it [00:00, 483.35it/s]"
          ],
          "name": "stderr"
        },
        {
          "output_type": "stream",
          "text": [
            "Epoch [39/100], Loss: 9.91903380054282e-06\n",
            "-----------------------------------------------------------------------------\n"
          ],
          "name": "stdout"
        },
        {
          "output_type": "stream",
          "text": [
            "1556it [00:03, 475.43it/s]\n",
            "49it [00:00, 482.60it/s]"
          ],
          "name": "stderr"
        },
        {
          "output_type": "stream",
          "text": [
            "Epoch [40/100], Loss: 9.626500286685769e-06\n",
            "-----------------------------------------------------------------------------\n"
          ],
          "name": "stdout"
        },
        {
          "output_type": "stream",
          "text": [
            "1556it [00:03, 475.40it/s]\n",
            "49it [00:00, 487.94it/s]"
          ],
          "name": "stderr"
        },
        {
          "output_type": "stream",
          "text": [
            "Epoch [41/100], Loss: 9.357661838294007e-06\n",
            "-----------------------------------------------------------------------------\n"
          ],
          "name": "stdout"
        },
        {
          "output_type": "stream",
          "text": [
            "1556it [00:03, 476.84it/s]\n",
            "49it [00:00, 483.13it/s]"
          ],
          "name": "stderr"
        },
        {
          "output_type": "stream",
          "text": [
            "Epoch [42/100], Loss: 9.110973223869223e-06\n",
            "-----------------------------------------------------------------------------\n"
          ],
          "name": "stdout"
        },
        {
          "output_type": "stream",
          "text": [
            "1556it [00:03, 474.79it/s]\n",
            "49it [00:00, 482.12it/s]"
          ],
          "name": "stderr"
        },
        {
          "output_type": "stream",
          "text": [
            "Epoch [43/100], Loss: 8.882672773324884e-06\n",
            "-----------------------------------------------------------------------------\n"
          ],
          "name": "stdout"
        },
        {
          "output_type": "stream",
          "text": [
            "1556it [00:03, 476.23it/s]\n",
            "49it [00:00, 488.04it/s]"
          ],
          "name": "stderr"
        },
        {
          "output_type": "stream",
          "text": [
            "Epoch [44/100], Loss: 8.673059710417874e-06\n",
            "-----------------------------------------------------------------------------\n"
          ],
          "name": "stdout"
        },
        {
          "output_type": "stream",
          "text": [
            "1556it [00:03, 476.22it/s]\n",
            "48it [00:00, 475.98it/s]"
          ],
          "name": "stderr"
        },
        {
          "output_type": "stream",
          "text": [
            "Epoch [45/100], Loss: 8.480350516038015e-06\n",
            "-----------------------------------------------------------------------------\n"
          ],
          "name": "stdout"
        },
        {
          "output_type": "stream",
          "text": [
            "1556it [00:03, 476.37it/s]\n",
            "49it [00:00, 484.80it/s]"
          ],
          "name": "stderr"
        },
        {
          "output_type": "stream",
          "text": [
            "Epoch [46/100], Loss: 8.392576091864612e-06\n",
            "-----------------------------------------------------------------------------\n"
          ],
          "name": "stdout"
        },
        {
          "output_type": "stream",
          "text": [
            "1556it [00:03, 474.19it/s]\n",
            "38it [00:00, 378.43it/s]"
          ],
          "name": "stderr"
        },
        {
          "output_type": "stream",
          "text": [
            "Epoch [47/100], Loss: 8.152062946464866e-06\n",
            "-----------------------------------------------------------------------------\n"
          ],
          "name": "stdout"
        },
        {
          "output_type": "stream",
          "text": [
            "1556it [00:03, 471.99it/s]\n",
            "47it [00:00, 466.97it/s]"
          ],
          "name": "stderr"
        },
        {
          "output_type": "stream",
          "text": [
            "Epoch [48/100], Loss: 8.055347279878333e-06\n",
            "-----------------------------------------------------------------------------\n"
          ],
          "name": "stdout"
        },
        {
          "output_type": "stream",
          "text": [
            "1556it [00:03, 476.41it/s]\n",
            "49it [00:00, 484.40it/s]"
          ],
          "name": "stderr"
        },
        {
          "output_type": "stream",
          "text": [
            "Epoch [49/100], Loss: 7.839597856218461e-06\n",
            "-----------------------------------------------------------------------------\n"
          ],
          "name": "stdout"
        },
        {
          "output_type": "stream",
          "text": [
            "1556it [00:03, 474.62it/s]\n",
            "49it [00:00, 481.23it/s]"
          ],
          "name": "stderr"
        },
        {
          "output_type": "stream",
          "text": [
            "Epoch [50/100], Loss: 7.765674126858357e-06\n",
            "-----------------------------------------------------------------------------\n"
          ],
          "name": "stdout"
        },
        {
          "output_type": "stream",
          "text": [
            "1556it [00:03, 473.20it/s]\n",
            "48it [00:00, 476.42it/s]"
          ],
          "name": "stderr"
        },
        {
          "output_type": "stream",
          "text": [
            "Epoch [51/100], Loss: 7.649509825569112e-06\n",
            "-----------------------------------------------------------------------------\n"
          ],
          "name": "stdout"
        },
        {
          "output_type": "stream",
          "text": [
            "1556it [00:03, 474.26it/s]\n",
            "49it [00:00, 482.37it/s]"
          ],
          "name": "stderr"
        },
        {
          "output_type": "stream",
          "text": [
            "Epoch [52/100], Loss: 7.5407665462989826e-06\n",
            "-----------------------------------------------------------------------------\n"
          ],
          "name": "stdout"
        },
        {
          "output_type": "stream",
          "text": [
            "1556it [00:03, 473.47it/s]\n",
            "48it [00:00, 477.68it/s]"
          ],
          "name": "stderr"
        },
        {
          "output_type": "stream",
          "text": [
            "Epoch [53/100], Loss: 7.427927357639419e-06\n",
            "-----------------------------------------------------------------------------\n"
          ],
          "name": "stdout"
        },
        {
          "output_type": "stream",
          "text": [
            "1556it [00:03, 469.57it/s]\n",
            "48it [00:00, 474.91it/s]"
          ],
          "name": "stderr"
        },
        {
          "output_type": "stream",
          "text": [
            "Epoch [54/100], Loss: 7.321582415897865e-06\n",
            "-----------------------------------------------------------------------------\n"
          ],
          "name": "stdout"
        },
        {
          "output_type": "stream",
          "text": [
            "1556it [00:03, 470.63it/s]\n",
            "47it [00:00, 469.10it/s]"
          ],
          "name": "stderr"
        },
        {
          "output_type": "stream",
          "text": [
            "Epoch [55/100], Loss: 7.219527105917223e-06\n",
            "-----------------------------------------------------------------------------\n"
          ],
          "name": "stdout"
        },
        {
          "output_type": "stream",
          "text": [
            "1556it [00:03, 470.77it/s]\n",
            "47it [00:00, 461.10it/s]"
          ],
          "name": "stderr"
        },
        {
          "output_type": "stream",
          "text": [
            "Epoch [56/100], Loss: 7.123278010112699e-06\n",
            "-----------------------------------------------------------------------------\n"
          ],
          "name": "stdout"
        },
        {
          "output_type": "stream",
          "text": [
            "1556it [00:03, 472.61it/s]\n",
            "46it [00:00, 452.16it/s]"
          ],
          "name": "stderr"
        },
        {
          "output_type": "stream",
          "text": [
            "Epoch [57/100], Loss: 7.032731900835643e-06\n",
            "-----------------------------------------------------------------------------\n"
          ],
          "name": "stdout"
        },
        {
          "output_type": "stream",
          "text": [
            "1556it [00:03, 475.64it/s]\n",
            "49it [00:00, 486.43it/s]"
          ],
          "name": "stderr"
        },
        {
          "output_type": "stream",
          "text": [
            "Epoch [58/100], Loss: 6.946534995222464e-06\n",
            "-----------------------------------------------------------------------------\n"
          ],
          "name": "stdout"
        },
        {
          "output_type": "stream",
          "text": [
            "1556it [00:03, 478.51it/s]\n",
            "48it [00:00, 475.82it/s]"
          ],
          "name": "stderr"
        },
        {
          "output_type": "stream",
          "text": [
            "Epoch [59/100], Loss: 6.862899226689478e-06\n",
            "-----------------------------------------------------------------------------\n"
          ],
          "name": "stdout"
        },
        {
          "output_type": "stream",
          "text": [
            "1556it [00:03, 478.09it/s]\n",
            "49it [00:00, 479.68it/s]"
          ],
          "name": "stderr"
        },
        {
          "output_type": "stream",
          "text": [
            "Epoch [60/100], Loss: 6.78396099829115e-06\n",
            "-----------------------------------------------------------------------------\n"
          ],
          "name": "stdout"
        },
        {
          "output_type": "stream",
          "text": [
            "1556it [00:03, 474.77it/s]\n",
            "48it [00:00, 474.93it/s]"
          ],
          "name": "stderr"
        },
        {
          "output_type": "stream",
          "text": [
            "Epoch [61/100], Loss: 6.708875389449531e-06\n",
            "-----------------------------------------------------------------------------\n"
          ],
          "name": "stdout"
        },
        {
          "output_type": "stream",
          "text": [
            "1556it [00:03, 476.39it/s]\n",
            "46it [00:00, 451.00it/s]"
          ],
          "name": "stderr"
        },
        {
          "output_type": "stream",
          "text": [
            "Epoch [62/100], Loss: 6.74690772939357e-06\n",
            "-----------------------------------------------------------------------------\n"
          ],
          "name": "stdout"
        },
        {
          "output_type": "stream",
          "text": [
            "1556it [00:03, 474.63it/s]\n",
            "49it [00:00, 485.02it/s]"
          ],
          "name": "stderr"
        },
        {
          "output_type": "stream",
          "text": [
            "Epoch [63/100], Loss: 6.7560449679149315e-06\n",
            "-----------------------------------------------------------------------------\n"
          ],
          "name": "stdout"
        },
        {
          "output_type": "stream",
          "text": [
            "1556it [00:03, 476.52it/s]\n",
            "49it [00:00, 488.48it/s]"
          ],
          "name": "stderr"
        },
        {
          "output_type": "stream",
          "text": [
            "Epoch [64/100], Loss: 6.71891393722035e-06\n",
            "-----------------------------------------------------------------------------\n"
          ],
          "name": "stdout"
        },
        {
          "output_type": "stream",
          "text": [
            "1556it [00:03, 479.44it/s]\n",
            "49it [00:00, 482.52it/s]"
          ],
          "name": "stderr"
        },
        {
          "output_type": "stream",
          "text": [
            "Epoch [65/100], Loss: 6.668487458227901e-06\n",
            "-----------------------------------------------------------------------------\n"
          ],
          "name": "stdout"
        },
        {
          "output_type": "stream",
          "text": [
            "1556it [00:03, 477.64it/s]\n",
            "49it [00:00, 482.48it/s]"
          ],
          "name": "stderr"
        },
        {
          "output_type": "stream",
          "text": [
            "Epoch [66/100], Loss: 6.609819592995336e-06\n",
            "-----------------------------------------------------------------------------\n"
          ],
          "name": "stdout"
        },
        {
          "output_type": "stream",
          "text": [
            "1556it [00:03, 477.21it/s]\n",
            "49it [00:00, 485.86it/s]"
          ],
          "name": "stderr"
        },
        {
          "output_type": "stream",
          "text": [
            "Epoch [67/100], Loss: 6.555530944751808e-06\n",
            "-----------------------------------------------------------------------------\n"
          ],
          "name": "stdout"
        },
        {
          "output_type": "stream",
          "text": [
            "1556it [00:03, 478.43it/s]\n",
            "49it [00:00, 487.40it/s]"
          ],
          "name": "stderr"
        },
        {
          "output_type": "stream",
          "text": [
            "Epoch [68/100], Loss: 6.4688315433159005e-06\n",
            "-----------------------------------------------------------------------------\n"
          ],
          "name": "stdout"
        },
        {
          "output_type": "stream",
          "text": [
            "1556it [00:03, 477.06it/s]\n",
            "48it [00:00, 477.18it/s]"
          ],
          "name": "stderr"
        },
        {
          "output_type": "stream",
          "text": [
            "Epoch [69/100], Loss: 6.37849370832555e-06\n",
            "-----------------------------------------------------------------------------\n"
          ],
          "name": "stdout"
        },
        {
          "output_type": "stream",
          "text": [
            "1556it [00:03, 473.72it/s]\n",
            "48it [00:00, 478.88it/s]"
          ],
          "name": "stderr"
        },
        {
          "output_type": "stream",
          "text": [
            "Epoch [70/100], Loss: 6.291781119216466e-06\n",
            "-----------------------------------------------------------------------------\n"
          ],
          "name": "stdout"
        },
        {
          "output_type": "stream",
          "text": [
            "1556it [00:03, 478.99it/s]\n",
            "49it [00:00, 483.61it/s]"
          ],
          "name": "stderr"
        },
        {
          "output_type": "stream",
          "text": [
            "Epoch [71/100], Loss: 6.209374078025576e-06\n",
            "-----------------------------------------------------------------------------\n"
          ],
          "name": "stdout"
        },
        {
          "output_type": "stream",
          "text": [
            "1556it [00:03, 479.13it/s]\n",
            "49it [00:00, 486.11it/s]"
          ],
          "name": "stderr"
        },
        {
          "output_type": "stream",
          "text": [
            "Epoch [72/100], Loss: 6.130756901256973e-06\n",
            "-----------------------------------------------------------------------------\n"
          ],
          "name": "stdout"
        },
        {
          "output_type": "stream",
          "text": [
            "1556it [00:03, 469.55it/s]\n",
            "40it [00:00, 396.41it/s]"
          ],
          "name": "stderr"
        },
        {
          "output_type": "stream",
          "text": [
            "Epoch [73/100], Loss: 6.056600796000566e-06\n",
            "-----------------------------------------------------------------------------\n"
          ],
          "name": "stdout"
        },
        {
          "output_type": "stream",
          "text": [
            "1556it [00:03, 478.46it/s]\n",
            "49it [00:00, 489.41it/s]"
          ],
          "name": "stderr"
        },
        {
          "output_type": "stream",
          "text": [
            "Epoch [74/100], Loss: 5.9842077462235466e-06\n",
            "-----------------------------------------------------------------------------\n"
          ],
          "name": "stdout"
        },
        {
          "output_type": "stream",
          "text": [
            "1556it [00:03, 481.14it/s]\n",
            "49it [00:00, 486.96it/s]"
          ],
          "name": "stderr"
        },
        {
          "output_type": "stream",
          "text": [
            "Epoch [75/100], Loss: 5.913989298278466e-06\n",
            "-----------------------------------------------------------------------------\n"
          ],
          "name": "stdout"
        },
        {
          "output_type": "stream",
          "text": [
            "1556it [00:03, 480.89it/s]\n",
            "48it [00:00, 474.07it/s]"
          ],
          "name": "stderr"
        },
        {
          "output_type": "stream",
          "text": [
            "Epoch [76/100], Loss: 5.845770374435233e-06\n",
            "-----------------------------------------------------------------------------\n"
          ],
          "name": "stdout"
        },
        {
          "output_type": "stream",
          "text": [
            "1556it [00:03, 477.53it/s]\n",
            "49it [00:00, 487.26it/s]"
          ],
          "name": "stderr"
        },
        {
          "output_type": "stream",
          "text": [
            "Epoch [77/100], Loss: 5.778520517196739e-06\n",
            "-----------------------------------------------------------------------------\n"
          ],
          "name": "stdout"
        },
        {
          "output_type": "stream",
          "text": [
            "1556it [00:03, 478.69it/s]\n",
            "47it [00:00, 468.95it/s]"
          ],
          "name": "stderr"
        },
        {
          "output_type": "stream",
          "text": [
            "Epoch [78/100], Loss: 5.712799065804575e-06\n",
            "-----------------------------------------------------------------------------\n"
          ],
          "name": "stdout"
        },
        {
          "output_type": "stream",
          "text": [
            "1556it [00:03, 470.48it/s]\n",
            "48it [00:00, 477.81it/s]"
          ],
          "name": "stderr"
        },
        {
          "output_type": "stream",
          "text": [
            "Epoch [79/100], Loss: 5.648445494443877e-06\n",
            "-----------------------------------------------------------------------------\n"
          ],
          "name": "stdout"
        },
        {
          "output_type": "stream",
          "text": [
            "1556it [00:03, 468.83it/s]\n",
            "49it [00:00, 481.16it/s]"
          ],
          "name": "stderr"
        },
        {
          "output_type": "stream",
          "text": [
            "Epoch [80/100], Loss: 5.584174232353689e-06\n",
            "-----------------------------------------------------------------------------\n"
          ],
          "name": "stdout"
        },
        {
          "output_type": "stream",
          "text": [
            "1556it [00:03, 471.71it/s]\n",
            "49it [00:00, 487.66it/s]"
          ],
          "name": "stderr"
        },
        {
          "output_type": "stream",
          "text": [
            "Epoch [81/100], Loss: 5.520971171790734e-06\n",
            "-----------------------------------------------------------------------------\n"
          ],
          "name": "stdout"
        },
        {
          "output_type": "stream",
          "text": [
            "1556it [00:03, 476.71it/s]\n",
            "49it [00:00, 480.55it/s]"
          ],
          "name": "stderr"
        },
        {
          "output_type": "stream",
          "text": [
            "Epoch [82/100], Loss: 5.458684881887166e-06\n",
            "-----------------------------------------------------------------------------\n"
          ],
          "name": "stdout"
        },
        {
          "output_type": "stream",
          "text": [
            "1556it [00:03, 477.81it/s]\n",
            "45it [00:00, 446.56it/s]"
          ],
          "name": "stderr"
        },
        {
          "output_type": "stream",
          "text": [
            "Epoch [83/100], Loss: 5.3967519306752365e-06\n",
            "-----------------------------------------------------------------------------\n"
          ],
          "name": "stdout"
        },
        {
          "output_type": "stream",
          "text": [
            "1556it [00:03, 475.28it/s]\n",
            "49it [00:00, 488.40it/s]"
          ],
          "name": "stderr"
        },
        {
          "output_type": "stream",
          "text": [
            "Epoch [84/100], Loss: 5.335172318154946e-06\n",
            "-----------------------------------------------------------------------------\n"
          ],
          "name": "stdout"
        },
        {
          "output_type": "stream",
          "text": [
            "1556it [00:03, 480.99it/s]\n",
            "49it [00:00, 482.51it/s]"
          ],
          "name": "stderr"
        },
        {
          "output_type": "stream",
          "text": [
            "Epoch [85/100], Loss: 5.2744935601367615e-06\n",
            "-----------------------------------------------------------------------------\n"
          ],
          "name": "stdout"
        },
        {
          "output_type": "stream",
          "text": [
            "1556it [00:03, 479.31it/s]\n",
            "49it [00:00, 487.49it/s]"
          ],
          "name": "stderr"
        },
        {
          "output_type": "stream",
          "text": [
            "Epoch [86/100], Loss: 5.2144341680104844e-06\n",
            "-----------------------------------------------------------------------------\n"
          ],
          "name": "stdout"
        },
        {
          "output_type": "stream",
          "text": [
            "1556it [00:03, 480.69it/s]\n",
            "49it [00:00, 482.45it/s]"
          ],
          "name": "stderr"
        },
        {
          "output_type": "stream",
          "text": [
            "Epoch [87/100], Loss: 5.154312475497136e-06\n",
            "-----------------------------------------------------------------------------\n"
          ],
          "name": "stdout"
        },
        {
          "output_type": "stream",
          "text": [
            "1556it [00:03, 479.08it/s]\n",
            "49it [00:00, 489.71it/s]"
          ],
          "name": "stderr"
        },
        {
          "output_type": "stream",
          "text": [
            "Epoch [88/100], Loss: 5.095346750749741e-06\n",
            "-----------------------------------------------------------------------------\n"
          ],
          "name": "stdout"
        },
        {
          "output_type": "stream",
          "text": [
            "1556it [00:03, 477.42it/s]\n",
            "46it [00:00, 457.05it/s]"
          ],
          "name": "stderr"
        },
        {
          "output_type": "stream",
          "text": [
            "Epoch [89/100], Loss: 5.036586571804946e-06\n",
            "-----------------------------------------------------------------------------\n"
          ],
          "name": "stdout"
        },
        {
          "output_type": "stream",
          "text": [
            "1556it [00:03, 475.19it/s]\n",
            "48it [00:00, 473.03it/s]"
          ],
          "name": "stderr"
        },
        {
          "output_type": "stream",
          "text": [
            "Epoch [90/100], Loss: 4.978166998625966e-06\n",
            "-----------------------------------------------------------------------------\n"
          ],
          "name": "stdout"
        },
        {
          "output_type": "stream",
          "text": [
            "1556it [00:03, 480.19it/s]\n",
            "50it [00:00, 490.94it/s]"
          ],
          "name": "stderr"
        },
        {
          "output_type": "stream",
          "text": [
            "Epoch [91/100], Loss: 4.920353148918366e-06\n",
            "-----------------------------------------------------------------------------\n"
          ],
          "name": "stdout"
        },
        {
          "output_type": "stream",
          "text": [
            "1556it [00:03, 481.30it/s]\n",
            "48it [00:00, 479.13it/s]"
          ],
          "name": "stderr"
        },
        {
          "output_type": "stream",
          "text": [
            "Epoch [92/100], Loss: 4.862876266997773e-06\n",
            "-----------------------------------------------------------------------------\n"
          ],
          "name": "stdout"
        },
        {
          "output_type": "stream",
          "text": [
            "1556it [00:03, 475.29it/s]\n",
            "49it [00:00, 485.05it/s]"
          ],
          "name": "stderr"
        },
        {
          "output_type": "stream",
          "text": [
            "Epoch [93/100], Loss: 4.805998742085649e-06\n",
            "-----------------------------------------------------------------------------\n"
          ],
          "name": "stdout"
        },
        {
          "output_type": "stream",
          "text": [
            "1556it [00:03, 479.31it/s]\n",
            "44it [00:00, 432.39it/s]"
          ],
          "name": "stderr"
        },
        {
          "output_type": "stream",
          "text": [
            "Epoch [94/100], Loss: 4.749585514218779e-06\n",
            "-----------------------------------------------------------------------------\n"
          ],
          "name": "stdout"
        },
        {
          "output_type": "stream",
          "text": [
            "1556it [00:03, 477.19it/s]\n",
            "48it [00:00, 476.64it/s]"
          ],
          "name": "stderr"
        },
        {
          "output_type": "stream",
          "text": [
            "Epoch [95/100], Loss: 4.693634764407761e-06\n",
            "-----------------------------------------------------------------------------\n"
          ],
          "name": "stdout"
        },
        {
          "output_type": "stream",
          "text": [
            "1556it [00:03, 477.08it/s]\n",
            "49it [00:00, 484.15it/s]"
          ],
          "name": "stderr"
        },
        {
          "output_type": "stream",
          "text": [
            "Epoch [96/100], Loss: 4.638400696421741e-06\n",
            "-----------------------------------------------------------------------------\n"
          ],
          "name": "stdout"
        },
        {
          "output_type": "stream",
          "text": [
            "1556it [00:03, 473.81it/s]\n",
            "47it [00:00, 466.94it/s]"
          ],
          "name": "stderr"
        },
        {
          "output_type": "stream",
          "text": [
            "Epoch [97/100], Loss: 4.58311023976421e-06\n",
            "-----------------------------------------------------------------------------\n"
          ],
          "name": "stdout"
        },
        {
          "output_type": "stream",
          "text": [
            "1556it [00:03, 458.31it/s]\n",
            "47it [00:00, 462.77it/s]"
          ],
          "name": "stderr"
        },
        {
          "output_type": "stream",
          "text": [
            "Epoch [98/100], Loss: 4.528151748672826e-06\n",
            "-----------------------------------------------------------------------------\n"
          ],
          "name": "stdout"
        },
        {
          "output_type": "stream",
          "text": [
            "1556it [00:03, 465.44it/s]\n",
            "49it [00:00, 485.69it/s]"
          ],
          "name": "stderr"
        },
        {
          "output_type": "stream",
          "text": [
            "Epoch [99/100], Loss: 4.47377669843263e-06\n",
            "-----------------------------------------------------------------------------\n"
          ],
          "name": "stdout"
        },
        {
          "output_type": "stream",
          "text": [
            "1556it [00:03, 477.98it/s]\n"
          ],
          "name": "stderr"
        },
        {
          "output_type": "stream",
          "text": [
            "Epoch [100/100], Loss: 4.4193543544679414e-06\n",
            "-----------------------------------------------------------------------------\n",
            "[tensor(0.0014, device='cuda:0') tensor(0.0017, device='cuda:0')\n",
            " tensor(0.0009, device='cuda:0') tensor(0.0002, device='cuda:0')\n",
            " tensor(3.6669e-07, device='cuda:0') tensor(1.3439e-05, device='cuda:0')\n",
            " tensor(1.9196e-06, device='cuda:0') tensor(1.5182e-06, device='cuda:0')\n",
            " tensor(4.5188e-06, device='cuda:0') tensor(5.0204e-06, device='cuda:0')\n",
            " tensor(5.2493e-06, device='cuda:0') tensor(5.6278e-06, device='cuda:0')\n",
            " tensor(6.2051e-06, device='cuda:0') tensor(6.9649e-06, device='cuda:0')\n",
            " tensor(7.7993e-06, device='cuda:0') tensor(8.6341e-06, device='cuda:0')\n",
            " tensor(9.5932e-06, device='cuda:0') tensor(1.0484e-05, device='cuda:0')\n",
            " tensor(1.1428e-05, device='cuda:0') tensor(1.2313e-05, device='cuda:0')\n",
            " tensor(1.3089e-05, device='cuda:0') tensor(1.3661e-05, device='cuda:0')\n",
            " tensor(1.3877e-05, device='cuda:0') tensor(1.4175e-05, device='cuda:0')\n",
            " tensor(1.4381e-05, device='cuda:0') tensor(1.4442e-05, device='cuda:0')\n",
            " tensor(1.4403e-05, device='cuda:0') tensor(1.4343e-05, device='cuda:0')\n",
            " tensor(1.3943e-05, device='cuda:0') tensor(1.3520e-05, device='cuda:0')\n",
            " tensor(1.3058e-05, device='cuda:0') tensor(1.2614e-05, device='cuda:0')\n",
            " tensor(1.2181e-05, device='cuda:0') tensor(1.1758e-05, device='cuda:0')\n",
            " tensor(1.1350e-05, device='cuda:0') tensor(1.0959e-05, device='cuda:0')\n",
            " tensor(1.0590e-05, device='cuda:0') tensor(1.0238e-05, device='cuda:0')\n",
            " tensor(9.9190e-06, device='cuda:0') tensor(9.6265e-06, device='cuda:0')\n",
            " tensor(9.3577e-06, device='cuda:0') tensor(9.1110e-06, device='cuda:0')\n",
            " tensor(8.8827e-06, device='cuda:0') tensor(8.6731e-06, device='cuda:0')\n",
            " tensor(8.4804e-06, device='cuda:0') tensor(8.3926e-06, device='cuda:0')\n",
            " tensor(8.1521e-06, device='cuda:0') tensor(8.0553e-06, device='cuda:0')\n",
            " tensor(7.8396e-06, device='cuda:0') tensor(7.7657e-06, device='cuda:0')\n",
            " tensor(7.6495e-06, device='cuda:0') tensor(7.5408e-06, device='cuda:0')\n",
            " tensor(7.4279e-06, device='cuda:0') tensor(7.3216e-06, device='cuda:0')\n",
            " tensor(7.2195e-06, device='cuda:0') tensor(7.1233e-06, device='cuda:0')\n",
            " tensor(7.0327e-06, device='cuda:0') tensor(6.9465e-06, device='cuda:0')\n",
            " tensor(6.8629e-06, device='cuda:0') tensor(6.7840e-06, device='cuda:0')\n",
            " tensor(6.7089e-06, device='cuda:0') tensor(6.7469e-06, device='cuda:0')\n",
            " tensor(6.7560e-06, device='cuda:0') tensor(6.7189e-06, device='cuda:0')\n",
            " tensor(6.6685e-06, device='cuda:0') tensor(6.6098e-06, device='cuda:0')\n",
            " tensor(6.5555e-06, device='cuda:0') tensor(6.4688e-06, device='cuda:0')\n",
            " tensor(6.3785e-06, device='cuda:0') tensor(6.2918e-06, device='cuda:0')\n",
            " tensor(6.2094e-06, device='cuda:0') tensor(6.1308e-06, device='cuda:0')\n",
            " tensor(6.0566e-06, device='cuda:0') tensor(5.9842e-06, device='cuda:0')\n",
            " tensor(5.9140e-06, device='cuda:0') tensor(5.8458e-06, device='cuda:0')\n",
            " tensor(5.7785e-06, device='cuda:0') tensor(5.7128e-06, device='cuda:0')\n",
            " tensor(5.6484e-06, device='cuda:0') tensor(5.5842e-06, device='cuda:0')\n",
            " tensor(5.5210e-06, device='cuda:0') tensor(5.4587e-06, device='cuda:0')\n",
            " tensor(5.3968e-06, device='cuda:0') tensor(5.3352e-06, device='cuda:0')\n",
            " tensor(5.2745e-06, device='cuda:0') tensor(5.2144e-06, device='cuda:0')\n",
            " tensor(5.1543e-06, device='cuda:0') tensor(5.0953e-06, device='cuda:0')\n",
            " tensor(5.0366e-06, device='cuda:0') tensor(4.9782e-06, device='cuda:0')\n",
            " tensor(4.9204e-06, device='cuda:0') tensor(4.8629e-06, device='cuda:0')\n",
            " tensor(4.8060e-06, device='cuda:0') tensor(4.7496e-06, device='cuda:0')\n",
            " tensor(4.6936e-06, device='cuda:0') tensor(4.6384e-06, device='cuda:0')\n",
            " tensor(4.5831e-06, device='cuda:0') tensor(4.5282e-06, device='cuda:0')\n",
            " tensor(4.4738e-06, device='cuda:0') tensor(4.4194e-06, device='cuda:0')]\n",
            "[ 6560.11114254  6636.53627348  6774.69022384  6737.46429176\n",
            "  6708.48141789  6330.18659771  6423.04042267  6238.16187736\n",
            "  6252.54430099  6287.34536857  6370.69156202  6756.4192309\n",
            "  7341.35947304  7393.81792842  7475.40689152  7348.91089276\n",
            "  7424.29955259  7425.79046231  7721.92490928  8407.79531239\n",
            "  8180.32125737  7959.21988897  8161.90322246  8190.11748672\n",
            "  8211.75844822  8180.93000635  7752.9686645   7610.51252298\n",
            "  7553.60622647  7421.93900489  7013.11355544  7044.08904097\n",
            "  6944.98718708  6730.3463785   6271.18103145  6548.04055443\n",
            "  6165.02886932  6275.25287495  6330.03454277  6274.7676068\n",
            "  6202.19991566  6288.04626781  6322.61420485  6578.94705862\n",
            "  6418.43716667  6488.41202577  6310.51821252  6473.85384868\n",
            "  6369.81019672  6530.66522891  6693.30788869  6748.21414819\n",
            "  6729.41221601  6902.47153692  7084.51901362  7040.04581263\n",
            "  6985.97553485  7046.78303475  7193.12246679  7277.19919306\n",
            "  7255.24079169  7364.44304581  6704.71475914  6503.56429735\n",
            "  6446.21011185  6203.58845719  6260.21630907  6317.64690575\n",
            "  6289.96127905  6339.01032166  6498.65153172  6492.36704562\n",
            "  6524.67067555  6501.49901345  6273.4174209   6353.99526239\n",
            "  6400.64083224  6512.75494432  6754.67772598  6721.98452917\n",
            "  6702.90464229  6601.14291014  6439.56257032  6474.58160941\n",
            "  6684.70938949  6635.1872506   6604.28257681  6630.37019087\n",
            "  6581.95220852  6542.04345297  6490.56723447  6557.96350838\n",
            "  6626.9359544   6589.33176365  6591.5776855   6656.37508543\n",
            "  6617.30268565  6577.59820344  6228.87043888  6246.0161118\n",
            "  6245.56502557  6282.56544136  6613.71080922  6615.21872304\n",
            "  6540.98905599  6498.37267454  6443.59821772  6489.16968154\n",
            "  6500.72715805  6467.1973034   6482.88005037  6494.28941705\n",
            "  6458.69866081  6446.82714927  6444.30309146  6445.25955128\n",
            "  6312.25999418  6308.63047507  6337.46209336  6379.22152992\n",
            "  6395.39242935  6377.50569597  6456.19377989  6442.32938958\n",
            "  6471.10864054  6522.47832878  6448.56888202  6409.77066369\n",
            "  6399.37621037  6404.82204992  6375.86047086  6362.43585823\n",
            "  5711.90602463  5646.65170714  5573.4164832   5557.54050919\n",
            "  5612.15535796  4837.79524059  4441.81124819  4602.15536416\n",
            "  4349.62801673  4342.7235057   3860.02238685  4016.264014\n",
            "  3781.23279638  3813.48133389  4260.25509769  4273.89434568\n",
            "  4012.0923579   4194.16520798  4131.7900403   3875.30964639\n",
            "  3942.37365098  3752.69330547  3506.85010251  3413.898571\n",
            "  3480.32048335  3615.7697974   3500.08058076  3419.40673955\n",
            "  3485.72627768  3311.7986787   3237.65748004  3241.34911877\n",
            "  3251.99038152  3544.93561315  3702.92221906  3757.9372566\n",
            "  4148.54612705  3902.60087891  4028.9715984   4007.18189341\n",
            "  4080.83952978  3819.71721352  3862.13925499  3655.68630909\n",
            "  3935.76228988  3844.48381381  3877.26435028  3752.05575164\n",
            "  3862.87078827  3950.03743983  3851.62901604  3859.72524329\n",
            "  3848.55075171  4081.77628047  4028.60921722  4026.21386024\n",
            "  4037.57681015  3662.93921775  3665.16647753  3653.02108745\n",
            "  3536.79235732  3699.57009646  3630.25983971  3650.9065022\n",
            "  3673.15951893  3648.95023008  3727.52431048  3602.76867239\n",
            "  3571.11148096  3603.05024184  3579.77476259  3602.36668912\n",
            "  3598.33644091  3597.67821861  3581.70083233  3463.28819308\n",
            "  3440.00601361  3479.30180006  3451.31987662  3479.09411435\n",
            "  3506.52230177  3452.49982061  3455.53312658  3458.86444282\n",
            "  3405.37514383  3390.50540402  3658.38964874  3665.16988048\n",
            "  3686.97761018  3643.486916    3646.32014553  3623.29193634\n",
            "  3609.65272141  3611.647189    3618.71221893  3660.4989769\n",
            "  3910.43067479  3948.832097    3999.2730522   3951.52290765\n",
            "  4002.06967666  4139.65677498  3808.96858015  3883.8054743\n",
            "  3857.29403349  3841.7850284   3855.99925235  3859.79447951\n",
            "  3865.23949756  3846.07536184  3764.86236769  3893.47068584\n",
            "  3900.17974517  3915.96911986  3896.89193755  3973.91117957\n",
            "  3962.28001431  3901.77708601  3913.16049318  3910.52356601\n",
            "  3925.10252397  3964.22086803  4052.95137923  4027.10714962\n",
            "  4035.19903285  4053.91685406  4080.65613614  4031.44060362\n",
            "  4028.55027023  4039.88971813  4015.98603236  3961.27993039\n",
            "  3977.02522142  4080.2130958   4063.93601469  4095.44498708\n",
            "  4223.71830897  4123.61349231  4178.00796545  4882.93197252\n",
            "  4965.66500635  4918.30561026  5035.83413091  5053.21725082\n",
            "  5206.98201238  5300.38106356  5214.98287783  5326.16957297\n",
            "  5071.84691031  5102.91338409  5097.22233148  5166.7912904\n",
            "  5065.99874134  5238.26936286  5253.02808638  5294.8843241\n",
            "  5144.27849978  5275.30762596  5180.68270346  5287.33462994\n",
            "  5544.97293788  5407.00063229  5161.88223622  5194.92187863\n",
            "  5092.79129491  5132.50420292  5210.21459809  5369.63961641\n",
            "  5241.57092364  5533.31385222  5791.74035957  5870.43056758\n",
            "  5834.59479624  5790.26825263  5888.6441294   6007.95831807\n",
            "  6164.44095976  6382.37409703  7193.89903977  6957.47454692\n",
            "  7835.28565227  7998.88575398  8205.9747001   7886.81738993\n",
            "  7337.08626726  7229.94752608  8206.31614111  7994.63943839\n",
            "  7974.50377998  7670.65170943  7875.1687166   7999.25524001\n",
            "  8057.83184639  8672.8835634   8822.26193399  8718.52510888\n",
            "  8669.38243321  8286.57298025  8568.29511316  8559.58679744\n",
            "  8754.0549938   8173.97233015  7670.41734933  7801.36196991\n",
            "  7822.26864212  8035.07592896  7948.69769304  7670.27194893\n",
            "  8001.05616665  7915.50569279  8154.26676229  8232.37108779\n",
            "  8688.28161299  8851.64793581  8984.97872497  9330.36293433\n",
            "  9090.35949671  9293.2206218   9534.67483761 10155.56054856\n",
            " 10698.81735533 10847.10369416 11023.90489058 11754.91156501\n",
            " 12872.8724891  11121.79698612 12355.18458418 11959.32072798\n",
            " 10748.17521215 10593.12739993 10816.38588672 11964.17846179\n",
            " 11196.58957803 10977.84530865 11245.18687332 11469.83708232\n",
            " 12311.24952666 12560.66951349 12133.10265667 11347.91972079\n",
            " 11805.52527406 11371.08351853 10235.69561349 10892.855597\n",
            "  9464.30110037  9667.40442881 10640.42545418 10530.66301176\n",
            " 10780.40529175 10558.57269918 10322.8022907   9904.56899653\n",
            "  9807.19644747  9906.95166254  9869.51696924  9460.70116492\n",
            "  9538.97653615  9528.18054723]\n",
            "[tensor([[6587.4668]], device='cuda:0'), tensor([[6577.3901]], device='cuda:0'), tensor([[6716.1201]], device='cuda:0'), tensor([[6764.4863]], device='cuda:0'), tensor([[6742.8003]], device='cuda:0'), tensor([[6554.9951]], device='cuda:0'), tensor([[6375.7466]], device='cuda:0'), tensor([[6307.7925]], device='cuda:0'), tensor([[6265.9570]], device='cuda:0'), tensor([[6276.2651]], device='cuda:0'), tensor([[6363.3838]], device='cuda:0'), tensor([[6573.9009]], device='cuda:0'), tensor([[7137.0322]], device='cuda:0'), tensor([[7448.7744]], device='cuda:0'), tensor([[7464.1699]], device='cuda:0'), tensor([[7516.6289]], device='cuda:0'), tensor([[7413.4395]], device='cuda:0'), tensor([[7534.0693]], device='cuda:0'), tensor([[7649.6006]], device='cuda:0'), tensor([[8185.1255]], device='cuda:0'), tensor([[8365.1846]], device='cuda:0'), tensor([[8202.8633]], device='cuda:0'), tensor([[8166.0703]], device='cuda:0'), tensor([[8265.1465]], device='cuda:0'), tensor([[8314.4873]], device='cuda:0'), tensor([[8160.0396]], device='cuda:0'), tensor([[8033.7881]], device='cuda:0'), tensor([[7666.4600]], device='cuda:0'), tensor([[7663.3887]], device='cuda:0'), tensor([[7467.9214]], device='cuda:0'), tensor([[7323.7510]], device='cuda:0'), tensor([[7031.3813]], device='cuda:0'), tensor([[7059.9683]], device='cuda:0'), tensor([[6978.7139]], device='cuda:0'), tensor([[6482.8213]], device='cuda:0'), tensor([[6446.5903]], device='cuda:0'), tensor([[6355.1074]], device='cuda:0'), tensor([[6279.3560]], device='cuda:0'), tensor([[6327.6558]], device='cuda:0'), tensor([[6352.6431]], device='cuda:0'), tensor([[6076.1665]], device='cuda:0'), tensor([[6373.9385]], device='cuda:0'), tensor([[6362.6021]], device='cuda:0'), tensor([[6457.2197]], device='cuda:0'), tensor([[6509.1958]], device='cuda:0'), tensor([[6450.5142]], device='cuda:0'), tensor([[6410.4282]], device='cuda:0'), tensor([[6402.5835]], device='cuda:0'), tensor([[6557.0327]], device='cuda:0'), tensor([[6462.7417]], device='cuda:0'), tensor([[6616.3569]], device='cuda:0'), tensor([[6736.5117]], device='cuda:0'), tensor([[6721.0444]], device='cuda:0'), tensor([[6813.9180]], device='cuda:0'), tensor([[7032.8896]], device='cuda:0'), tensor([[7074.9224]], device='cuda:0'), tensor([[6955.8438]], device='cuda:0'), tensor([[7020.2061]], device='cuda:0'), tensor([[7198.6426]], device='cuda:0'), tensor([[7252.5957]], device='cuda:0'), tensor([[7308.3774]], device='cuda:0'), tensor([[7362.9116]], device='cuda:0'), tensor([[7140.5596]], device='cuda:0'), tensor([[6528.9414]], device='cuda:0'), tensor([[6470.7788]], device='cuda:0'), tensor([[6364.5498]], device='cuda:0'), tensor([[6329.6968]], device='cuda:0'), tensor([[6301.2568]], device='cuda:0'), tensor([[6319.8989]], device='cuda:0'), tensor([[6291.6006]], device='cuda:0'), tensor([[6438.5684]], device='cuda:0'), tensor([[6512.9033]], device='cuda:0'), tensor([[6536.6055]], device='cuda:0'), tensor([[6520.1465]], device='cuda:0'), tensor([[6427.5088]], device='cuda:0'), tensor([[6300.3027]], device='cuda:0'), tensor([[6325.2593]], device='cuda:0'), tensor([[6466.3833]], device='cuda:0'), tensor([[6637.5801]], device='cuda:0'), tensor([[6748.9556]], device='cuda:0'), tensor([[6742.5684]], device='cuda:0'), tensor([[6665.1733]], device='cuda:0'), tensor([[6495.8706]], device='cuda:0'), tensor([[6487.6050]], device='cuda:0'), tensor([[6612.4766]], device='cuda:0'), tensor([[6690.0991]], device='cuda:0'), tensor([[6580.8037]], device='cuda:0'), tensor([[6616.9092]], device='cuda:0'), tensor([[6603.6851]], device='cuda:0'), tensor([[6564.9258]], device='cuda:0'), tensor([[6485.6533]], device='cuda:0'), tensor([[6558.9399]], device='cuda:0'), tensor([[6594.9966]], device='cuda:0'), tensor([[6607.8042]], device='cuda:0'), tensor([[6579.7017]], device='cuda:0'), tensor([[6631.8975]], device='cuda:0'), tensor([[6630.6304]], device='cuda:0'), tensor([[6585.0283]], device='cuda:0'), tensor([[6386.6978]], device='cuda:0'), tensor([[6242.4497]], device='cuda:0'), tensor([[6265.4087]], device='cuda:0'), tensor([[6292.0898]], device='cuda:0'), tensor([[6670.4243]], device='cuda:0'), tensor([[6638.6934]], device='cuda:0'), tensor([[6582.6729]], device='cuda:0'), tensor([[6526.5044]], device='cuda:0'), tensor([[6472.0635]], device='cuda:0'), tensor([[6470.5688]], device='cuda:0'), tensor([[6534.5752]], device='cuda:0'), tensor([[6533.5073]], device='cuda:0'), tensor([[6460.7051]], device='cuda:0'), tensor([[6491.6577]], device='cuda:0'), tensor([[6463.7378]], device='cuda:0'), tensor([[6466.9253]], device='cuda:0'), tensor([[6472.8623]], device='cuda:0'), tensor([[6466.5444]], device='cuda:0'), tensor([[6389.5347]], device='cuda:0'), tensor([[6303.1572]], device='cuda:0'), tensor([[6305.3506]], device='cuda:0'), tensor([[6356.2236]], device='cuda:0'), tensor([[6390.7163]], device='cuda:0'), tensor([[6375.0254]], device='cuda:0'), tensor([[6438.5068]], device='cuda:0'), tensor([[6454.3340]], device='cuda:0'), tensor([[6443.1660]], device='cuda:0'), tensor([[6509.3496]], device='cuda:0'), tensor([[6494.2051]], device='cuda:0'), tensor([[6419.4478]], device='cuda:0'), tensor([[6425.5454]], device='cuda:0'), tensor([[6385.0122]], device='cuda:0'), tensor([[6395.5933]], device='cuda:0'), tensor([[6347.7100]], device='cuda:0'), tensor([[5962.5171]], device='cuda:0'), tensor([[5538.1709]], device='cuda:0'), tensor([[5560.5469]], device='cuda:0'), tensor([[5532.8237]], device='cuda:0'), tensor([[5588.7759]], device='cuda:0'), tensor([[5235.5664]], device='cuda:0'), tensor([[4575.2627]], device='cuda:0'), tensor([[4536.7607]], device='cuda:0'), tensor([[4549.3979]], device='cuda:0'), tensor([[4344.4443]], device='cuda:0'), tensor([[4238.2188]], device='cuda:0'), tensor([[3958.2209]], device='cuda:0'), tensor([[3980.1721]], device='cuda:0'), tensor([[3860.3767]], device='cuda:0'), tensor([[4181.5649]], device='cuda:0'), tensor([[4329.5449]], device='cuda:0'), tensor([[4219.7236]], device='cuda:0'), tensor([[4226.0884]], device='cuda:0'), tensor([[4265.7373]], device='cuda:0'), tensor([[4090.2742]], device='cuda:0'), tensor([[4038.8035]], device='cuda:0'), tensor([[3962.6707]], device='cuda:0'), tensor([[3826.6624]], device='cuda:0'), tensor([[3539.9814]], device='cuda:0'), tensor([[3611.0693]], device='cuda:0'), tensor([[3739.9250]], device='cuda:0'), tensor([[3711.7947]], device='cuda:0'), tensor([[3615.5083]], device='cuda:0'), tensor([[3642.2122]], device='cuda:0'), tensor([[3586.1001]], device='cuda:0'), tensor([[3473.4299]], device='cuda:0'), tensor([[3452.8755]], device='cuda:0'), tensor([[3485.2483]], device='cuda:0'), tensor([[3636.1223]], device='cuda:0'), tensor([[3757.2126]], device='cuda:0'), tensor([[3918.0762]], device='cuda:0'), tensor([[4066.5503]], device='cuda:0'), tensor([[4125.5498]], device='cuda:0'), tensor([[4053.1562]], device='cuda:0'), tensor([[4125.6489]], device='cuda:0'), tensor([[4214.2793]], device='cuda:0'), tensor([[4048.2454]], device='cuda:0'), tensor([[3948.1482]], device='cuda:0'), tensor([[3901.6309]], device='cuda:0'), tensor([[3946.9089]], device='cuda:0'), tensor([[4028.5107]], device='cuda:0'), tensor([[3975.7927]], device='cuda:0'), tensor([[3925.7783]], device='cuda:0'), tensor([[3922.5796]], device='cuda:0'), tensor([[3999.4607]], device='cuda:0'), tensor([[3998.5803]], device='cuda:0'), tensor([[3949.1367]], device='cuda:0'), tensor([[3972.9661]], device='cuda:0'), tensor([[4073.9336]], device='cuda:0'), tensor([[4125.0806]], device='cuda:0'), tensor([[4124.5142]], device='cuda:0'), tensor([[4108.9927]], device='cuda:0'), tensor([[3983.0359]], device='cuda:0'), tensor([[3794.1206]], device='cuda:0'), tensor([[3792.2688]], device='cuda:0'), tensor([[3763.8027]], device='cuda:0'), tensor([[3782.6172]], device='cuda:0'), tensor([[3799.2690]], device='cuda:0'), tensor([[3784.1562]], device='cuda:0'), tensor([[3781.6626]], device='cuda:0'), tensor([[3790.3987]], device='cuda:0'), tensor([[3835.7852]], device='cuda:0'), tensor([[3803.6077]], device='cuda:0'), tensor([[3723.2805]], device='cuda:0'), tensor([[3720.2151]], device='cuda:0'), tensor([[3715.6436]], device='cuda:0'), tensor([[3735.0464]], device='cuda:0'), tensor([[3732.8533]], device='cuda:0'), tensor([[3766.2300]], device='cuda:0'), tensor([[3727.0986]], device='cuda:0'), tensor([[3661.7954]], device='cuda:0'), tensor([[3604.4299]], device='cuda:0'), tensor([[3624.4668]], device='cuda:0'), tensor([[3627.8708]], device='cuda:0'), tensor([[3625.0435]], device='cuda:0'), tensor([[3649.1455]], device='cuda:0'), tensor([[3644.3306]], device='cuda:0'), tensor([[3624.8049]], device='cuda:0'), tensor([[3627.5747]], device='cuda:0'), tensor([[3599.0044]], device='cuda:0'), tensor([[3580.0767]], device='cuda:0'), tensor([[3719.1719]], device='cuda:0'), tensor([[3794.4465]], device='cuda:0'), tensor([[3801.9155]], device='cuda:0'), tensor([[3798.1897]], device='cuda:0'), tensor([[3767.4060]], device='cuda:0'), tensor([[3770.4604]], device='cuda:0'), tensor([[3753.8347]], device='cuda:0'), tensor([[3761.7964]], device='cuda:0'), tensor([[3762.2725]], device='cuda:0'), tensor([[3778.2905]], device='cuda:0'), tensor([[3909.2080]], device='cuda:0'), tensor([[4017.1868]], device='cuda:0'), tensor([[4037.1387]], device='cuda:0'), tensor([[4050.5828]], device='cuda:0'), tensor([[4044.1519]], device='cuda:0'), tensor([[4129.3477]], device='cuda:0'), tensor([[4100.9209]], device='cuda:0'), tensor([[3951.0127]], device='cuda:0'), tensor([[3955.8040]], device='cuda:0'), tensor([[3924.6846]], device='cuda:0'), tensor([[3953.0981]], device='cuda:0'), tensor([[3962.1042]], device='cuda:0'), tensor([[3953.1807]], device='cuda:0'), tensor([[3955.7158]], device='cuda:0'), tensor([[3912.7036]], device='cuda:0'), tensor([[3931.1990]], device='cuda:0'), tensor([[3968.7063]], device='cuda:0'), tensor([[3993.0947]], device='cuda:0'), tensor([[3994.9966]], device='cuda:0'), tensor([[4026.4561]], device='cuda:0'), tensor([[4034.0164]], device='cuda:0'), tensor([[4006.9021]], device='cuda:0'), tensor([[3977.0876]], device='cuda:0'), tensor([[3993.0383]], device='cuda:0'), tensor([[3997.2954]], device='cuda:0'), tensor([[4016.5293]], device='cuda:0'), tensor([[4088.7268]], device='cuda:0'), tensor([[4100.1436]], device='cuda:0'), tensor([[4100.4658]], device='cuda:0'), tensor([[4098.0537]], device='cuda:0'), tensor([[4107.3555]], device='cuda:0'), tensor([[4100.9956]], device='cuda:0'), tensor([[4104.6655]], device='cuda:0'), tensor([[4105.4746]], device='cuda:0'), tensor([[4087.3472]], device='cuda:0'), tensor([[4046.3684]], device='cuda:0'), tensor([[4030.1941]], device='cuda:0'), tensor([[4092.4883]], device='cuda:0'), tensor([[4132.4165]], device='cuda:0'), tensor([[4131.4805]], device='cuda:0'), tensor([[4225.2539]], device='cuda:0'), tensor([[4230.1890]], device='cuda:0'), tensor([[4193.0098]], device='cuda:0'), tensor([[4553.8667]], device='cuda:0'), tensor([[5012.8613]], device='cuda:0'), tensor([[4904.8428]], device='cuda:0'), tensor([[4945.4717]], device='cuda:0'), tensor([[5068.0889]], device='cuda:0'), tensor([[5164.6284]], device='cuda:0'), tensor([[5239.8091]], device='cuda:0'), tensor([[5236.5317]], device='cuda:0'), tensor([[5323.6348]], device='cuda:0'), tensor([[5214.9243]], device='cuda:0'), tensor([[5052.6582]], device='cuda:0'), tensor([[5118.3442]], device='cuda:0'), tensor([[5145.7246]], device='cuda:0'), tensor([[5133.4678]], device='cuda:0'), tensor([[5169.6528]], device='cuda:0'), tensor([[5240.6836]], device='cuda:0'), tensor([[5279.7314]], device='cuda:0'), tensor([[5180.1675]], device='cuda:0'), tensor([[5165.4258]], device='cuda:0'), tensor([[5193.8223]], device='cuda:0'), tensor([[5152.4307]], device='cuda:0'), tensor([[5447.7500]], device='cuda:0'), tensor([[5455.3735]], device='cuda:0'), tensor([[5325.2158]], device='cuda:0'), tensor([[5220.1758]], device='cuda:0'), tensor([[5111.0737]], device='cuda:0'), tensor([[5109.1919]], device='cuda:0'), tensor([[5176.1494]], device='cuda:0'), tensor([[5317.6338]], device='cuda:0'), tensor([[5303.4443]], device='cuda:0'), tensor([[5431.5898]], device='cuda:0'), tensor([[5723.0195]], device='cuda:0'), tensor([[5802.4121]], device='cuda:0'), tensor([[5805.1982]], device='cuda:0'), tensor([[5774.3574]], device='cuda:0'), tensor([[5912.9287]], device='cuda:0'), tensor([[5920.9380]], device='cuda:0'), tensor([[6076.4258]], device='cuda:0'), tensor([[6290.6621]], device='cuda:0'), tensor([[6929.3760]], device='cuda:0'), tensor([[7164.4438]], device='cuda:0'), tensor([[7641.6211]], device='cuda:0'), tensor([[8042.5996]], device='cuda:0'), tensor([[8110.4863]], device='cuda:0'), tensor([[8123.9355]], device='cuda:0'), tensor([[7557.4102]], device='cuda:0'), tensor([[7380.4941]], device='cuda:0'), tensor([[7970.1050]], device='cuda:0'), tensor([[8033.1323]], device='cuda:0'), tensor([[8055.2778]], device='cuda:0'), tensor([[7925.2305]], device='cuda:0'), tensor([[7862.7197]], device='cuda:0'), tensor([[8096.4985]], device='cuda:0'), tensor([[8154.5156]], device='cuda:0'), tensor([[8520.6016]], device='cuda:0'), tensor([[8904.7578]], device='cuda:0'), tensor([[8849.0586]], device='cuda:0'), tensor([[8764.0156]], device='cuda:0'), tensor([[8796.7354]], device='cuda:0'), tensor([[8506.4316]], device='cuda:0'), tensor([[8666.9600]], device='cuda:0'), tensor([[8858.9961]], device='cuda:0'), tensor([[8630.4814]], device='cuda:0'), tensor([[7932.3794]], device='cuda:0'), tensor([[7836.9902]], device='cuda:0'), tensor([[7810.7090]], device='cuda:0'), tensor([[8074.4551]], device='cuda:0'), tensor([[8071.0552]], device='cuda:0'), tensor([[7913.2739]], device='cuda:0'), tensor([[7940.8530]], device='cuda:0'), tensor([[8014.5444]], device='cuda:0'), tensor([[8153.9058]], device='cuda:0'), tensor([[8327.3623]], device='cuda:0'), tensor([[8649.6865]], device='cuda:0'), tensor([[8917.6318]], device='cuda:0'), tensor([[9274.9434]], device='cuda:0'), tensor([[9406.1084]], device='cuda:0'), tensor([[9370.0840]], device='cuda:0'), tensor([[9384.9443]], device='cuda:0'), tensor([[9630.1406]], device='cuda:0'), tensor([[10102.9756]], device='cuda:0'), tensor([[10959.7100]], device='cuda:0'), tensor([[11222.4678]], device='cuda:0'), tensor([[11119.4570]], device='cuda:0'), tensor([[11681.2178]], device='cuda:0'), tensor([[13030.5205]], device='cuda:0'), tensor([[12359.0713]], device='cuda:0'), tensor([[12041.9873]], device='cuda:0'), tensor([[12204.7344]], device='cuda:0'), tensor([[11903.1875]], device='cuda:0'), tensor([[10971.1641]], device='cuda:0'), tensor([[10654.0391]], device='cuda:0'), tensor([[11727.8027]], device='cuda:0'), tensor([[11908.4785]], device='cuda:0'), tensor([[11413.4385]], device='cuda:0'), tensor([[11672.8447]], device='cuda:0'), tensor([[11667.6504]], device='cuda:0'), tensor([[12226.9902]], device='cuda:0'), tensor([[12699.2754]], device='cuda:0'), tensor([[12740.0117]], device='cuda:0'), tensor([[11900.1309]], device='cuda:0'), tensor([[11856.1709]], device='cuda:0'), tensor([[11723.3877]], device='cuda:0'), tensor([[11236.5371]], device='cuda:0'), tensor([[10854.5303]], device='cuda:0'), tensor([[10647.4189]], device='cuda:0'), tensor([[9804.0107]], device='cuda:0'), tensor([[10435.7109]], device='cuda:0'), tensor([[10726.9033]], device='cuda:0'), tensor([[10959.1816]], device='cuda:0'), tensor([[10885.1240]], device='cuda:0'), tensor([[10667.1641]], device='cuda:0'), tensor([[10363.5859]], device='cuda:0'), tensor([[9962.6904]], device='cuda:0'), tensor([[10220.4883]], device='cuda:0'), tensor([[10034.3340]], device='cuda:0'), tensor([[10102.2051]], device='cuda:0'), tensor([[9624.6855]], device='cuda:0'), tensor([[9784.8955]], device='cuda:0')]\n",
            "390\n",
            "the item is =\t tensor([[6587.4668]], device='cuda:0')\n",
            "the size of the item is =\t torch.Size([1, 1])\n",
            "the item is =\t tensor([[6577.3901]], device='cuda:0')\n",
            "the size of the item is =\t torch.Size([1, 1])\n",
            "the item is =\t tensor([[6716.1201]], device='cuda:0')\n",
            "the size of the item is =\t torch.Size([1, 1])\n",
            "the item is =\t tensor([[6764.4863]], device='cuda:0')\n",
            "the size of the item is =\t torch.Size([1, 1])\n",
            "the item is =\t tensor([[6742.8003]], device='cuda:0')\n",
            "the size of the item is =\t torch.Size([1, 1])\n",
            "the item is =\t tensor([[6554.9951]], device='cuda:0')\n",
            "the size of the item is =\t torch.Size([1, 1])\n",
            "the item is =\t tensor([[6375.7466]], device='cuda:0')\n",
            "the size of the item is =\t torch.Size([1, 1])\n",
            "the item is =\t tensor([[6307.7925]], device='cuda:0')\n",
            "the size of the item is =\t torch.Size([1, 1])\n",
            "the item is =\t tensor([[6265.9570]], device='cuda:0')\n",
            "the size of the item is =\t torch.Size([1, 1])\n",
            "the item is =\t tensor([[6276.2651]], device='cuda:0')\n",
            "the size of the item is =\t torch.Size([1, 1])\n",
            "the item is =\t tensor([[6363.3838]], device='cuda:0')\n",
            "the size of the item is =\t torch.Size([1, 1])\n",
            "the item is =\t tensor([[6573.9009]], device='cuda:0')\n",
            "the size of the item is =\t torch.Size([1, 1])\n",
            "the item is =\t tensor([[7137.0322]], device='cuda:0')\n",
            "the size of the item is =\t torch.Size([1, 1])\n",
            "the item is =\t tensor([[7448.7744]], device='cuda:0')\n",
            "the size of the item is =\t torch.Size([1, 1])\n",
            "the item is =\t tensor([[7464.1699]], device='cuda:0')\n",
            "the size of the item is =\t torch.Size([1, 1])\n",
            "the item is =\t tensor([[7516.6289]], device='cuda:0')\n",
            "the size of the item is =\t torch.Size([1, 1])\n",
            "the item is =\t tensor([[7413.4395]], device='cuda:0')\n",
            "the size of the item is =\t torch.Size([1, 1])\n",
            "the item is =\t tensor([[7534.0693]], device='cuda:0')\n",
            "the size of the item is =\t torch.Size([1, 1])\n",
            "the item is =\t tensor([[7649.6006]], device='cuda:0')\n",
            "the size of the item is =\t torch.Size([1, 1])\n",
            "the item is =\t tensor([[8185.1255]], device='cuda:0')\n",
            "the size of the item is =\t torch.Size([1, 1])\n",
            "the item is =\t tensor([[8365.1846]], device='cuda:0')\n",
            "the size of the item is =\t torch.Size([1, 1])\n",
            "the item is =\t tensor([[8202.8633]], device='cuda:0')\n",
            "the size of the item is =\t torch.Size([1, 1])\n",
            "the item is =\t tensor([[8166.0703]], device='cuda:0')\n",
            "the size of the item is =\t torch.Size([1, 1])\n",
            "the item is =\t tensor([[8265.1465]], device='cuda:0')\n",
            "the size of the item is =\t torch.Size([1, 1])\n",
            "the item is =\t tensor([[8314.4873]], device='cuda:0')\n",
            "the size of the item is =\t torch.Size([1, 1])\n",
            "the item is =\t tensor([[8160.0396]], device='cuda:0')\n",
            "the size of the item is =\t torch.Size([1, 1])\n",
            "the item is =\t tensor([[8033.7881]], device='cuda:0')\n",
            "the size of the item is =\t torch.Size([1, 1])\n",
            "the item is =\t tensor([[7666.4600]], device='cuda:0')\n",
            "the size of the item is =\t torch.Size([1, 1])\n",
            "the item is =\t tensor([[7663.3887]], device='cuda:0')\n",
            "the size of the item is =\t torch.Size([1, 1])\n",
            "the item is =\t tensor([[7467.9214]], device='cuda:0')\n",
            "the size of the item is =\t torch.Size([1, 1])\n",
            "the item is =\t tensor([[7323.7510]], device='cuda:0')\n",
            "the size of the item is =\t torch.Size([1, 1])\n",
            "the item is =\t tensor([[7031.3813]], device='cuda:0')\n",
            "the size of the item is =\t torch.Size([1, 1])\n",
            "the item is =\t tensor([[7059.9683]], device='cuda:0')\n",
            "the size of the item is =\t torch.Size([1, 1])\n",
            "the item is =\t tensor([[6978.7139]], device='cuda:0')\n",
            "the size of the item is =\t torch.Size([1, 1])\n",
            "the item is =\t tensor([[6482.8213]], device='cuda:0')\n",
            "the size of the item is =\t torch.Size([1, 1])\n",
            "the item is =\t tensor([[6446.5903]], device='cuda:0')\n",
            "the size of the item is =\t torch.Size([1, 1])\n",
            "the item is =\t tensor([[6355.1074]], device='cuda:0')\n",
            "the size of the item is =\t torch.Size([1, 1])\n",
            "the item is =\t tensor([[6279.3560]], device='cuda:0')\n",
            "the size of the item is =\t torch.Size([1, 1])\n",
            "the item is =\t tensor([[6327.6558]], device='cuda:0')\n",
            "the size of the item is =\t torch.Size([1, 1])\n",
            "the item is =\t tensor([[6352.6431]], device='cuda:0')\n",
            "the size of the item is =\t torch.Size([1, 1])\n",
            "the item is =\t tensor([[6076.1665]], device='cuda:0')\n",
            "the size of the item is =\t torch.Size([1, 1])\n",
            "the item is =\t tensor([[6373.9385]], device='cuda:0')\n",
            "the size of the item is =\t torch.Size([1, 1])\n",
            "the item is =\t tensor([[6362.6021]], device='cuda:0')\n",
            "the size of the item is =\t torch.Size([1, 1])\n",
            "the item is =\t tensor([[6457.2197]], device='cuda:0')\n",
            "the size of the item is =\t torch.Size([1, 1])\n",
            "the item is =\t tensor([[6509.1958]], device='cuda:0')\n",
            "the size of the item is =\t torch.Size([1, 1])\n",
            "the item is =\t tensor([[6450.5142]], device='cuda:0')\n",
            "the size of the item is =\t torch.Size([1, 1])\n",
            "the item is =\t tensor([[6410.4282]], device='cuda:0')\n",
            "the size of the item is =\t torch.Size([1, 1])\n",
            "the item is =\t tensor([[6402.5835]], device='cuda:0')\n",
            "the size of the item is =\t torch.Size([1, 1])\n",
            "the item is =\t tensor([[6557.0327]], device='cuda:0')\n",
            "the size of the item is =\t torch.Size([1, 1])\n",
            "the item is =\t tensor([[6462.7417]], device='cuda:0')\n",
            "the size of the item is =\t torch.Size([1, 1])\n",
            "the item is =\t tensor([[6616.3569]], device='cuda:0')\n",
            "the size of the item is =\t torch.Size([1, 1])\n",
            "the item is =\t tensor([[6736.5117]], device='cuda:0')\n",
            "the size of the item is =\t torch.Size([1, 1])\n",
            "the item is =\t tensor([[6721.0444]], device='cuda:0')\n",
            "the size of the item is =\t torch.Size([1, 1])\n",
            "the item is =\t tensor([[6813.9180]], device='cuda:0')\n",
            "the size of the item is =\t torch.Size([1, 1])\n",
            "the item is =\t tensor([[7032.8896]], device='cuda:0')\n",
            "the size of the item is =\t torch.Size([1, 1])\n",
            "the item is =\t tensor([[7074.9224]], device='cuda:0')\n",
            "the size of the item is =\t torch.Size([1, 1])\n",
            "the item is =\t tensor([[6955.8438]], device='cuda:0')\n",
            "the size of the item is =\t torch.Size([1, 1])\n",
            "the item is =\t tensor([[7020.2061]], device='cuda:0')\n",
            "the size of the item is =\t torch.Size([1, 1])\n",
            "the item is =\t tensor([[7198.6426]], device='cuda:0')\n",
            "the size of the item is =\t torch.Size([1, 1])\n",
            "the item is =\t tensor([[7252.5957]], device='cuda:0')\n",
            "the size of the item is =\t torch.Size([1, 1])\n",
            "the item is =\t tensor([[7308.3774]], device='cuda:0')\n",
            "the size of the item is =\t torch.Size([1, 1])\n",
            "the item is =\t tensor([[7362.9116]], device='cuda:0')\n",
            "the size of the item is =\t torch.Size([1, 1])\n",
            "the item is =\t tensor([[7140.5596]], device='cuda:0')\n",
            "the size of the item is =\t torch.Size([1, 1])\n",
            "the item is =\t tensor([[6528.9414]], device='cuda:0')\n",
            "the size of the item is =\t torch.Size([1, 1])\n",
            "the item is =\t tensor([[6470.7788]], device='cuda:0')\n",
            "the size of the item is =\t torch.Size([1, 1])\n",
            "the item is =\t tensor([[6364.5498]], device='cuda:0')\n",
            "the size of the item is =\t torch.Size([1, 1])\n",
            "the item is =\t tensor([[6329.6968]], device='cuda:0')\n",
            "the size of the item is =\t torch.Size([1, 1])\n",
            "the item is =\t tensor([[6301.2568]], device='cuda:0')\n",
            "the size of the item is =\t torch.Size([1, 1])\n",
            "the item is =\t tensor([[6319.8989]], device='cuda:0')\n",
            "the size of the item is =\t torch.Size([1, 1])\n",
            "the item is =\t tensor([[6291.6006]], device='cuda:0')\n",
            "the size of the item is =\t torch.Size([1, 1])\n",
            "the item is =\t tensor([[6438.5684]], device='cuda:0')\n",
            "the size of the item is =\t torch.Size([1, 1])\n",
            "the item is =\t tensor([[6512.9033]], device='cuda:0')\n",
            "the size of the item is =\t torch.Size([1, 1])\n",
            "the item is =\t tensor([[6536.6055]], device='cuda:0')\n",
            "the size of the item is =\t torch.Size([1, 1])\n",
            "the item is =\t tensor([[6520.1465]], device='cuda:0')\n",
            "the size of the item is =\t torch.Size([1, 1])\n",
            "the item is =\t tensor([[6427.5088]], device='cuda:0')\n",
            "the size of the item is =\t torch.Size([1, 1])\n",
            "the item is =\t tensor([[6300.3027]], device='cuda:0')\n",
            "the size of the item is =\t torch.Size([1, 1])\n",
            "the item is =\t tensor([[6325.2593]], device='cuda:0')\n",
            "the size of the item is =\t torch.Size([1, 1])\n",
            "the item is =\t tensor([[6466.3833]], device='cuda:0')\n",
            "the size of the item is =\t torch.Size([1, 1])\n",
            "the item is =\t tensor([[6637.5801]], device='cuda:0')\n",
            "the size of the item is =\t torch.Size([1, 1])\n",
            "the item is =\t tensor([[6748.9556]], device='cuda:0')\n",
            "the size of the item is =\t torch.Size([1, 1])\n",
            "the item is =\t tensor([[6742.5684]], device='cuda:0')\n",
            "the size of the item is =\t torch.Size([1, 1])\n",
            "the item is =\t tensor([[6665.1733]], device='cuda:0')\n",
            "the size of the item is =\t torch.Size([1, 1])\n",
            "the item is =\t tensor([[6495.8706]], device='cuda:0')\n",
            "the size of the item is =\t torch.Size([1, 1])\n",
            "the item is =\t tensor([[6487.6050]], device='cuda:0')\n",
            "the size of the item is =\t torch.Size([1, 1])\n",
            "the item is =\t tensor([[6612.4766]], device='cuda:0')\n",
            "the size of the item is =\t torch.Size([1, 1])\n",
            "the item is =\t tensor([[6690.0991]], device='cuda:0')\n",
            "the size of the item is =\t torch.Size([1, 1])\n",
            "the item is =\t tensor([[6580.8037]], device='cuda:0')\n",
            "the size of the item is =\t torch.Size([1, 1])\n",
            "the item is =\t tensor([[6616.9092]], device='cuda:0')\n",
            "the size of the item is =\t torch.Size([1, 1])\n",
            "the item is =\t tensor([[6603.6851]], device='cuda:0')\n",
            "the size of the item is =\t torch.Size([1, 1])\n",
            "the item is =\t tensor([[6564.9258]], device='cuda:0')\n",
            "the size of the item is =\t torch.Size([1, 1])\n",
            "the item is =\t tensor([[6485.6533]], device='cuda:0')\n",
            "the size of the item is =\t torch.Size([1, 1])\n",
            "the item is =\t tensor([[6558.9399]], device='cuda:0')\n",
            "the size of the item is =\t torch.Size([1, 1])\n",
            "the item is =\t tensor([[6594.9966]], device='cuda:0')\n",
            "the size of the item is =\t torch.Size([1, 1])\n",
            "the item is =\t tensor([[6607.8042]], device='cuda:0')\n",
            "the size of the item is =\t torch.Size([1, 1])\n",
            "the item is =\t tensor([[6579.7017]], device='cuda:0')\n",
            "the size of the item is =\t torch.Size([1, 1])\n",
            "the item is =\t tensor([[6631.8975]], device='cuda:0')\n",
            "the size of the item is =\t torch.Size([1, 1])\n",
            "the item is =\t tensor([[6630.6304]], device='cuda:0')\n",
            "the size of the item is =\t torch.Size([1, 1])\n",
            "the item is =\t tensor([[6585.0283]], device='cuda:0')\n",
            "the size of the item is =\t torch.Size([1, 1])\n",
            "the item is =\t tensor([[6386.6978]], device='cuda:0')\n",
            "the size of the item is =\t torch.Size([1, 1])\n",
            "the item is =\t tensor([[6242.4497]], device='cuda:0')\n",
            "the size of the item is =\t torch.Size([1, 1])\n",
            "the item is =\t tensor([[6265.4087]], device='cuda:0')\n",
            "the size of the item is =\t torch.Size([1, 1])\n",
            "the item is =\t tensor([[6292.0898]], device='cuda:0')\n",
            "the size of the item is =\t torch.Size([1, 1])\n",
            "the item is =\t tensor([[6670.4243]], device='cuda:0')\n",
            "the size of the item is =\t torch.Size([1, 1])\n",
            "the item is =\t tensor([[6638.6934]], device='cuda:0')\n",
            "the size of the item is =\t torch.Size([1, 1])\n",
            "the item is =\t tensor([[6582.6729]], device='cuda:0')\n",
            "the size of the item is =\t torch.Size([1, 1])\n",
            "the item is =\t tensor([[6526.5044]], device='cuda:0')\n",
            "the size of the item is =\t torch.Size([1, 1])\n",
            "the item is =\t tensor([[6472.0635]], device='cuda:0')\n",
            "the size of the item is =\t torch.Size([1, 1])\n",
            "the item is =\t tensor([[6470.5688]], device='cuda:0')\n",
            "the size of the item is =\t torch.Size([1, 1])\n",
            "the item is =\t tensor([[6534.5752]], device='cuda:0')\n",
            "the size of the item is =\t torch.Size([1, 1])\n",
            "the item is =\t tensor([[6533.5073]], device='cuda:0')\n",
            "the size of the item is =\t torch.Size([1, 1])\n",
            "the item is =\t tensor([[6460.7051]], device='cuda:0')\n",
            "the size of the item is =\t torch.Size([1, 1])\n",
            "the item is =\t tensor([[6491.6577]], device='cuda:0')\n",
            "the size of the item is =\t torch.Size([1, 1])\n",
            "the item is =\t tensor([[6463.7378]], device='cuda:0')\n",
            "the size of the item is =\t torch.Size([1, 1])\n",
            "the item is =\t tensor([[6466.9253]], device='cuda:0')\n",
            "the size of the item is =\t torch.Size([1, 1])\n",
            "the item is =\t tensor([[6472.8623]], device='cuda:0')\n",
            "the size of the item is =\t torch.Size([1, 1])\n",
            "the item is =\t tensor([[6466.5444]], device='cuda:0')\n",
            "the size of the item is =\t torch.Size([1, 1])\n",
            "the item is =\t tensor([[6389.5347]], device='cuda:0')\n",
            "the size of the item is =\t torch.Size([1, 1])\n",
            "the item is =\t tensor([[6303.1572]], device='cuda:0')\n",
            "the size of the item is =\t torch.Size([1, 1])\n",
            "the item is =\t tensor([[6305.3506]], device='cuda:0')\n",
            "the size of the item is =\t torch.Size([1, 1])\n",
            "the item is =\t tensor([[6356.2236]], device='cuda:0')\n",
            "the size of the item is =\t torch.Size([1, 1])\n",
            "the item is =\t tensor([[6390.7163]], device='cuda:0')\n",
            "the size of the item is =\t torch.Size([1, 1])\n",
            "the item is =\t tensor([[6375.0254]], device='cuda:0')\n",
            "the size of the item is =\t torch.Size([1, 1])\n",
            "the item is =\t tensor([[6438.5068]], device='cuda:0')\n",
            "the size of the item is =\t torch.Size([1, 1])\n",
            "the item is =\t tensor([[6454.3340]], device='cuda:0')\n",
            "the size of the item is =\t torch.Size([1, 1])\n",
            "the item is =\t tensor([[6443.1660]], device='cuda:0')\n",
            "the size of the item is =\t torch.Size([1, 1])\n",
            "the item is =\t tensor([[6509.3496]], device='cuda:0')\n",
            "the size of the item is =\t torch.Size([1, 1])\n",
            "the item is =\t tensor([[6494.2051]], device='cuda:0')\n",
            "the size of the item is =\t torch.Size([1, 1])\n",
            "the item is =\t tensor([[6419.4478]], device='cuda:0')\n",
            "the size of the item is =\t torch.Size([1, 1])\n",
            "the item is =\t tensor([[6425.5454]], device='cuda:0')\n",
            "the size of the item is =\t torch.Size([1, 1])\n",
            "the item is =\t tensor([[6385.0122]], device='cuda:0')\n",
            "the size of the item is =\t torch.Size([1, 1])\n",
            "the item is =\t tensor([[6395.5933]], device='cuda:0')\n",
            "the size of the item is =\t torch.Size([1, 1])\n",
            "the item is =\t tensor([[6347.7100]], device='cuda:0')\n",
            "the size of the item is =\t torch.Size([1, 1])\n",
            "the item is =\t tensor([[5962.5171]], device='cuda:0')\n",
            "the size of the item is =\t torch.Size([1, 1])\n",
            "the item is =\t tensor([[5538.1709]], device='cuda:0')\n",
            "the size of the item is =\t torch.Size([1, 1])\n",
            "the item is =\t tensor([[5560.5469]], device='cuda:0')\n",
            "the size of the item is =\t torch.Size([1, 1])\n",
            "the item is =\t tensor([[5532.8237]], device='cuda:0')\n",
            "the size of the item is =\t torch.Size([1, 1])\n",
            "the item is =\t tensor([[5588.7759]], device='cuda:0')\n",
            "the size of the item is =\t torch.Size([1, 1])\n",
            "the item is =\t tensor([[5235.5664]], device='cuda:0')\n",
            "the size of the item is =\t torch.Size([1, 1])\n",
            "the item is =\t tensor([[4575.2627]], device='cuda:0')\n",
            "the size of the item is =\t torch.Size([1, 1])\n",
            "the item is =\t tensor([[4536.7607]], device='cuda:0')\n",
            "the size of the item is =\t torch.Size([1, 1])\n",
            "the item is =\t tensor([[4549.3979]], device='cuda:0')\n",
            "the size of the item is =\t torch.Size([1, 1])\n",
            "the item is =\t tensor([[4344.4443]], device='cuda:0')\n",
            "the size of the item is =\t torch.Size([1, 1])\n",
            "the item is =\t tensor([[4238.2188]], device='cuda:0')\n",
            "the size of the item is =\t torch.Size([1, 1])\n",
            "the item is =\t tensor([[3958.2209]], device='cuda:0')\n",
            "the size of the item is =\t torch.Size([1, 1])\n",
            "the item is =\t tensor([[3980.1721]], device='cuda:0')\n",
            "the size of the item is =\t torch.Size([1, 1])\n",
            "the item is =\t tensor([[3860.3767]], device='cuda:0')\n",
            "the size of the item is =\t torch.Size([1, 1])\n",
            "the item is =\t tensor([[4181.5649]], device='cuda:0')\n",
            "the size of the item is =\t torch.Size([1, 1])\n",
            "the item is =\t tensor([[4329.5449]], device='cuda:0')\n",
            "the size of the item is =\t torch.Size([1, 1])\n",
            "the item is =\t tensor([[4219.7236]], device='cuda:0')\n",
            "the size of the item is =\t torch.Size([1, 1])\n",
            "the item is =\t tensor([[4226.0884]], device='cuda:0')\n",
            "the size of the item is =\t torch.Size([1, 1])\n",
            "the item is =\t tensor([[4265.7373]], device='cuda:0')\n",
            "the size of the item is =\t torch.Size([1, 1])\n",
            "the item is =\t tensor([[4090.2742]], device='cuda:0')\n",
            "the size of the item is =\t torch.Size([1, 1])\n",
            "the item is =\t tensor([[4038.8035]], device='cuda:0')\n",
            "the size of the item is =\t torch.Size([1, 1])\n",
            "the item is =\t tensor([[3962.6707]], device='cuda:0')\n",
            "the size of the item is =\t torch.Size([1, 1])\n",
            "the item is =\t tensor([[3826.6624]], device='cuda:0')\n",
            "the size of the item is =\t torch.Size([1, 1])\n",
            "the item is =\t tensor([[3539.9814]], device='cuda:0')\n",
            "the size of the item is =\t torch.Size([1, 1])\n",
            "the item is =\t tensor([[3611.0693]], device='cuda:0')\n",
            "the size of the item is =\t torch.Size([1, 1])\n",
            "the item is =\t tensor([[3739.9250]], device='cuda:0')\n",
            "the size of the item is =\t torch.Size([1, 1])\n",
            "the item is =\t tensor([[3711.7947]], device='cuda:0')\n",
            "the size of the item is =\t torch.Size([1, 1])\n",
            "the item is =\t tensor([[3615.5083]], device='cuda:0')\n",
            "the size of the item is =\t torch.Size([1, 1])\n",
            "the item is =\t tensor([[3642.2122]], device='cuda:0')\n",
            "the size of the item is =\t torch.Size([1, 1])\n",
            "the item is =\t tensor([[3586.1001]], device='cuda:0')\n",
            "the size of the item is =\t torch.Size([1, 1])\n",
            "the item is =\t tensor([[3473.4299]], device='cuda:0')\n",
            "the size of the item is =\t torch.Size([1, 1])\n",
            "the item is =\t tensor([[3452.8755]], device='cuda:0')\n",
            "the size of the item is =\t torch.Size([1, 1])\n",
            "the item is =\t tensor([[3485.2483]], device='cuda:0')\n",
            "the size of the item is =\t torch.Size([1, 1])\n",
            "the item is =\t tensor([[3636.1223]], device='cuda:0')\n",
            "the size of the item is =\t torch.Size([1, 1])\n",
            "the item is =\t tensor([[3757.2126]], device='cuda:0')\n",
            "the size of the item is =\t torch.Size([1, 1])\n",
            "the item is =\t tensor([[3918.0762]], device='cuda:0')\n",
            "the size of the item is =\t torch.Size([1, 1])\n",
            "the item is =\t tensor([[4066.5503]], device='cuda:0')\n",
            "the size of the item is =\t torch.Size([1, 1])\n",
            "the item is =\t tensor([[4125.5498]], device='cuda:0')\n",
            "the size of the item is =\t torch.Size([1, 1])\n",
            "the item is =\t tensor([[4053.1562]], device='cuda:0')\n",
            "the size of the item is =\t torch.Size([1, 1])\n",
            "the item is =\t tensor([[4125.6489]], device='cuda:0')\n",
            "the size of the item is =\t torch.Size([1, 1])\n",
            "the item is =\t tensor([[4214.2793]], device='cuda:0')\n",
            "the size of the item is =\t torch.Size([1, 1])\n",
            "the item is =\t tensor([[4048.2454]], device='cuda:0')\n",
            "the size of the item is =\t torch.Size([1, 1])\n",
            "the item is =\t tensor([[3948.1482]], device='cuda:0')\n",
            "the size of the item is =\t torch.Size([1, 1])\n",
            "the item is =\t tensor([[3901.6309]], device='cuda:0')\n",
            "the size of the item is =\t torch.Size([1, 1])\n",
            "the item is =\t tensor([[3946.9089]], device='cuda:0')\n",
            "the size of the item is =\t torch.Size([1, 1])\n",
            "the item is =\t tensor([[4028.5107]], device='cuda:0')\n",
            "the size of the item is =\t torch.Size([1, 1])\n",
            "the item is =\t tensor([[3975.7927]], device='cuda:0')\n",
            "the size of the item is =\t torch.Size([1, 1])\n",
            "the item is =\t tensor([[3925.7783]], device='cuda:0')\n",
            "the size of the item is =\t torch.Size([1, 1])\n",
            "the item is =\t tensor([[3922.5796]], device='cuda:0')\n",
            "the size of the item is =\t torch.Size([1, 1])\n",
            "the item is =\t tensor([[3999.4607]], device='cuda:0')\n",
            "the size of the item is =\t torch.Size([1, 1])\n",
            "the item is =\t tensor([[3998.5803]], device='cuda:0')\n",
            "the size of the item is =\t torch.Size([1, 1])\n",
            "the item is =\t tensor([[3949.1367]], device='cuda:0')\n",
            "the size of the item is =\t torch.Size([1, 1])\n",
            "the item is =\t tensor([[3972.9661]], device='cuda:0')\n",
            "the size of the item is =\t torch.Size([1, 1])\n",
            "the item is =\t tensor([[4073.9336]], device='cuda:0')\n",
            "the size of the item is =\t torch.Size([1, 1])\n",
            "the item is =\t tensor([[4125.0806]], device='cuda:0')\n",
            "the size of the item is =\t torch.Size([1, 1])\n",
            "the item is =\t tensor([[4124.5142]], device='cuda:0')\n",
            "the size of the item is =\t torch.Size([1, 1])\n",
            "the item is =\t tensor([[4108.9927]], device='cuda:0')\n",
            "the size of the item is =\t torch.Size([1, 1])\n",
            "the item is =\t tensor([[3983.0359]], device='cuda:0')\n",
            "the size of the item is =\t torch.Size([1, 1])\n",
            "the item is =\t tensor([[3794.1206]], device='cuda:0')\n",
            "the size of the item is =\t torch.Size([1, 1])\n",
            "the item is =\t tensor([[3792.2688]], device='cuda:0')\n",
            "the size of the item is =\t torch.Size([1, 1])\n",
            "the item is =\t tensor([[3763.8027]], device='cuda:0')\n",
            "the size of the item is =\t torch.Size([1, 1])\n",
            "the item is =\t tensor([[3782.6172]], device='cuda:0')\n",
            "the size of the item is =\t torch.Size([1, 1])\n",
            "the item is =\t tensor([[3799.2690]], device='cuda:0')\n",
            "the size of the item is =\t torch.Size([1, 1])\n",
            "the item is =\t tensor([[3784.1562]], device='cuda:0')\n",
            "the size of the item is =\t torch.Size([1, 1])\n",
            "the item is =\t tensor([[3781.6626]], device='cuda:0')\n",
            "the size of the item is =\t torch.Size([1, 1])\n",
            "the item is =\t tensor([[3790.3987]], device='cuda:0')\n",
            "the size of the item is =\t torch.Size([1, 1])\n",
            "the item is =\t tensor([[3835.7852]], device='cuda:0')\n",
            "the size of the item is =\t torch.Size([1, 1])\n",
            "the item is =\t tensor([[3803.6077]], device='cuda:0')\n",
            "the size of the item is =\t torch.Size([1, 1])\n",
            "the item is =\t tensor([[3723.2805]], device='cuda:0')\n",
            "the size of the item is =\t torch.Size([1, 1])\n",
            "the item is =\t tensor([[3720.2151]], device='cuda:0')\n",
            "the size of the item is =\t torch.Size([1, 1])\n",
            "the item is =\t tensor([[3715.6436]], device='cuda:0')\n",
            "the size of the item is =\t torch.Size([1, 1])\n",
            "the item is =\t tensor([[3735.0464]], device='cuda:0')\n",
            "the size of the item is =\t torch.Size([1, 1])\n",
            "the item is =\t tensor([[3732.8533]], device='cuda:0')\n",
            "the size of the item is =\t torch.Size([1, 1])\n",
            "the item is =\t tensor([[3766.2300]], device='cuda:0')\n",
            "the size of the item is =\t torch.Size([1, 1])\n",
            "the item is =\t tensor([[3727.0986]], device='cuda:0')\n",
            "the size of the item is =\t torch.Size([1, 1])\n",
            "the item is =\t tensor([[3661.7954]], device='cuda:0')\n",
            "the size of the item is =\t torch.Size([1, 1])\n",
            "the item is =\t tensor([[3604.4299]], device='cuda:0')\n",
            "the size of the item is =\t torch.Size([1, 1])\n",
            "the item is =\t tensor([[3624.4668]], device='cuda:0')\n",
            "the size of the item is =\t torch.Size([1, 1])\n",
            "the item is =\t tensor([[3627.8708]], device='cuda:0')\n",
            "the size of the item is =\t torch.Size([1, 1])\n",
            "the item is =\t tensor([[3625.0435]], device='cuda:0')\n",
            "the size of the item is =\t torch.Size([1, 1])\n",
            "the item is =\t tensor([[3649.1455]], device='cuda:0')\n",
            "the size of the item is =\t torch.Size([1, 1])\n",
            "the item is =\t tensor([[3644.3306]], device='cuda:0')\n",
            "the size of the item is =\t torch.Size([1, 1])\n",
            "the item is =\t tensor([[3624.8049]], device='cuda:0')\n",
            "the size of the item is =\t torch.Size([1, 1])\n",
            "the item is =\t tensor([[3627.5747]], device='cuda:0')\n",
            "the size of the item is =\t torch.Size([1, 1])\n",
            "the item is =\t tensor([[3599.0044]], device='cuda:0')\n",
            "the size of the item is =\t torch.Size([1, 1])\n",
            "the item is =\t tensor([[3580.0767]], device='cuda:0')\n",
            "the size of the item is =\t torch.Size([1, 1])\n",
            "the item is =\t tensor([[3719.1719]], device='cuda:0')\n",
            "the size of the item is =\t torch.Size([1, 1])\n",
            "the item is =\t tensor([[3794.4465]], device='cuda:0')\n",
            "the size of the item is =\t torch.Size([1, 1])\n",
            "the item is =\t tensor([[3801.9155]], device='cuda:0')\n",
            "the size of the item is =\t torch.Size([1, 1])\n",
            "the item is =\t tensor([[3798.1897]], device='cuda:0')\n",
            "the size of the item is =\t torch.Size([1, 1])\n",
            "the item is =\t tensor([[3767.4060]], device='cuda:0')\n",
            "the size of the item is =\t torch.Size([1, 1])\n",
            "the item is =\t tensor([[3770.4604]], device='cuda:0')\n",
            "the size of the item is =\t torch.Size([1, 1])\n",
            "the item is =\t tensor([[3753.8347]], device='cuda:0')\n",
            "the size of the item is =\t torch.Size([1, 1])\n",
            "the item is =\t tensor([[3761.7964]], device='cuda:0')\n",
            "the size of the item is =\t torch.Size([1, 1])\n",
            "the item is =\t tensor([[3762.2725]], device='cuda:0')\n",
            "the size of the item is =\t torch.Size([1, 1])\n",
            "the item is =\t tensor([[3778.2905]], device='cuda:0')\n",
            "the size of the item is =\t torch.Size([1, 1])\n",
            "the item is =\t tensor([[3909.2080]], device='cuda:0')\n",
            "the size of the item is =\t torch.Size([1, 1])\n",
            "the item is =\t tensor([[4017.1868]], device='cuda:0')\n",
            "the size of the item is =\t torch.Size([1, 1])\n",
            "the item is =\t tensor([[4037.1387]], device='cuda:0')\n",
            "the size of the item is =\t torch.Size([1, 1])\n",
            "the item is =\t tensor([[4050.5828]], device='cuda:0')\n",
            "the size of the item is =\t torch.Size([1, 1])\n",
            "the item is =\t tensor([[4044.1519]], device='cuda:0')\n",
            "the size of the item is =\t torch.Size([1, 1])\n",
            "the item is =\t tensor([[4129.3477]], device='cuda:0')\n",
            "the size of the item is =\t torch.Size([1, 1])\n",
            "the item is =\t tensor([[4100.9209]], device='cuda:0')\n",
            "the size of the item is =\t torch.Size([1, 1])\n",
            "the item is =\t tensor([[3951.0127]], device='cuda:0')\n",
            "the size of the item is =\t torch.Size([1, 1])\n",
            "the item is =\t tensor([[3955.8040]], device='cuda:0')\n",
            "the size of the item is =\t torch.Size([1, 1])\n",
            "the item is =\t tensor([[3924.6846]], device='cuda:0')\n",
            "the size of the item is =\t torch.Size([1, 1])\n",
            "the item is =\t tensor([[3953.0981]], device='cuda:0')\n",
            "the size of the item is =\t torch.Size([1, 1])\n",
            "the item is =\t tensor([[3962.1042]], device='cuda:0')\n",
            "the size of the item is =\t torch.Size([1, 1])\n",
            "the item is =\t tensor([[3953.1807]], device='cuda:0')\n",
            "the size of the item is =\t torch.Size([1, 1])\n",
            "the item is =\t tensor([[3955.7158]], device='cuda:0')\n",
            "the size of the item is =\t torch.Size([1, 1])\n",
            "the item is =\t tensor([[3912.7036]], device='cuda:0')\n",
            "the size of the item is =\t torch.Size([1, 1])\n",
            "the item is =\t tensor([[3931.1990]], device='cuda:0')\n",
            "the size of the item is =\t torch.Size([1, 1])\n",
            "the item is =\t tensor([[3968.7063]], device='cuda:0')\n",
            "the size of the item is =\t torch.Size([1, 1])\n",
            "the item is =\t tensor([[3993.0947]], device='cuda:0')\n",
            "the size of the item is =\t torch.Size([1, 1])\n",
            "the item is =\t tensor([[3994.9966]], device='cuda:0')\n",
            "the size of the item is =\t torch.Size([1, 1])\n",
            "the item is =\t tensor([[4026.4561]], device='cuda:0')\n",
            "the size of the item is =\t torch.Size([1, 1])\n",
            "the item is =\t tensor([[4034.0164]], device='cuda:0')\n",
            "the size of the item is =\t torch.Size([1, 1])\n",
            "the item is =\t tensor([[4006.9021]], device='cuda:0')\n",
            "the size of the item is =\t torch.Size([1, 1])\n",
            "the item is =\t tensor([[3977.0876]], device='cuda:0')\n",
            "the size of the item is =\t torch.Size([1, 1])\n",
            "the item is =\t tensor([[3993.0383]], device='cuda:0')\n",
            "the size of the item is =\t torch.Size([1, 1])\n",
            "the item is =\t tensor([[3997.2954]], device='cuda:0')\n",
            "the size of the item is =\t torch.Size([1, 1])\n",
            "the item is =\t tensor([[4016.5293]], device='cuda:0')\n",
            "the size of the item is =\t torch.Size([1, 1])\n",
            "the item is =\t tensor([[4088.7268]], device='cuda:0')\n",
            "the size of the item is =\t torch.Size([1, 1])\n",
            "the item is =\t tensor([[4100.1436]], device='cuda:0')\n",
            "the size of the item is =\t torch.Size([1, 1])\n",
            "the item is =\t tensor([[4100.4658]], device='cuda:0')\n",
            "the size of the item is =\t torch.Size([1, 1])\n",
            "the item is =\t tensor([[4098.0537]], device='cuda:0')\n",
            "the size of the item is =\t torch.Size([1, 1])\n",
            "the item is =\t tensor([[4107.3555]], device='cuda:0')\n",
            "the size of the item is =\t torch.Size([1, 1])\n",
            "the item is =\t tensor([[4100.9956]], device='cuda:0')\n",
            "the size of the item is =\t torch.Size([1, 1])\n",
            "the item is =\t tensor([[4104.6655]], device='cuda:0')\n",
            "the size of the item is =\t torch.Size([1, 1])\n",
            "the item is =\t tensor([[4105.4746]], device='cuda:0')\n",
            "the size of the item is =\t torch.Size([1, 1])\n",
            "the item is =\t tensor([[4087.3472]], device='cuda:0')\n",
            "the size of the item is =\t torch.Size([1, 1])\n",
            "the item is =\t tensor([[4046.3684]], device='cuda:0')\n",
            "the size of the item is =\t torch.Size([1, 1])\n",
            "the item is =\t tensor([[4030.1941]], device='cuda:0')\n",
            "the size of the item is =\t torch.Size([1, 1])\n",
            "the item is =\t tensor([[4092.4883]], device='cuda:0')\n",
            "the size of the item is =\t torch.Size([1, 1])\n",
            "the item is =\t tensor([[4132.4165]], device='cuda:0')\n",
            "the size of the item is =\t torch.Size([1, 1])\n",
            "the item is =\t tensor([[4131.4805]], device='cuda:0')\n",
            "the size of the item is =\t torch.Size([1, 1])\n",
            "the item is =\t tensor([[4225.2539]], device='cuda:0')\n",
            "the size of the item is =\t torch.Size([1, 1])\n",
            "the item is =\t tensor([[4230.1890]], device='cuda:0')\n",
            "the size of the item is =\t torch.Size([1, 1])\n",
            "the item is =\t tensor([[4193.0098]], device='cuda:0')\n",
            "the size of the item is =\t torch.Size([1, 1])\n",
            "the item is =\t tensor([[4553.8667]], device='cuda:0')\n",
            "the size of the item is =\t torch.Size([1, 1])\n",
            "the item is =\t tensor([[5012.8613]], device='cuda:0')\n",
            "the size of the item is =\t torch.Size([1, 1])\n",
            "the item is =\t tensor([[4904.8428]], device='cuda:0')\n",
            "the size of the item is =\t torch.Size([1, 1])\n",
            "the item is =\t tensor([[4945.4717]], device='cuda:0')\n",
            "the size of the item is =\t torch.Size([1, 1])\n",
            "the item is =\t tensor([[5068.0889]], device='cuda:0')\n",
            "the size of the item is =\t torch.Size([1, 1])\n",
            "the item is =\t tensor([[5164.6284]], device='cuda:0')\n",
            "the size of the item is =\t torch.Size([1, 1])\n",
            "the item is =\t tensor([[5239.8091]], device='cuda:0')\n",
            "the size of the item is =\t torch.Size([1, 1])\n",
            "the item is =\t tensor([[5236.5317]], device='cuda:0')\n",
            "the size of the item is =\t torch.Size([1, 1])\n",
            "the item is =\t tensor([[5323.6348]], device='cuda:0')\n",
            "the size of the item is =\t torch.Size([1, 1])\n",
            "the item is =\t tensor([[5214.9243]], device='cuda:0')\n",
            "the size of the item is =\t torch.Size([1, 1])\n",
            "the item is =\t tensor([[5052.6582]], device='cuda:0')\n",
            "the size of the item is =\t torch.Size([1, 1])\n",
            "the item is =\t tensor([[5118.3442]], device='cuda:0')\n",
            "the size of the item is =\t torch.Size([1, 1])\n",
            "the item is =\t tensor([[5145.7246]], device='cuda:0')\n",
            "the size of the item is =\t torch.Size([1, 1])\n",
            "the item is =\t tensor([[5133.4678]], device='cuda:0')\n",
            "the size of the item is =\t torch.Size([1, 1])\n",
            "the item is =\t tensor([[5169.6528]], device='cuda:0')\n",
            "the size of the item is =\t torch.Size([1, 1])\n",
            "the item is =\t tensor([[5240.6836]], device='cuda:0')\n",
            "the size of the item is =\t torch.Size([1, 1])\n",
            "the item is =\t tensor([[5279.7314]], device='cuda:0')\n",
            "the size of the item is =\t torch.Size([1, 1])\n",
            "the item is =\t tensor([[5180.1675]], device='cuda:0')\n",
            "the size of the item is =\t torch.Size([1, 1])\n",
            "the item is =\t tensor([[5165.4258]], device='cuda:0')\n",
            "the size of the item is =\t torch.Size([1, 1])\n",
            "the item is =\t tensor([[5193.8223]], device='cuda:0')\n",
            "the size of the item is =\t torch.Size([1, 1])\n",
            "the item is =\t tensor([[5152.4307]], device='cuda:0')\n",
            "the size of the item is =\t torch.Size([1, 1])\n",
            "the item is =\t tensor([[5447.7500]], device='cuda:0')\n",
            "the size of the item is =\t torch.Size([1, 1])\n",
            "the item is =\t tensor([[5455.3735]], device='cuda:0')\n",
            "the size of the item is =\t torch.Size([1, 1])\n",
            "the item is =\t tensor([[5325.2158]], device='cuda:0')\n",
            "the size of the item is =\t torch.Size([1, 1])\n",
            "the item is =\t tensor([[5220.1758]], device='cuda:0')\n",
            "the size of the item is =\t torch.Size([1, 1])\n",
            "the item is =\t tensor([[5111.0737]], device='cuda:0')\n",
            "the size of the item is =\t torch.Size([1, 1])\n",
            "the item is =\t tensor([[5109.1919]], device='cuda:0')\n",
            "the size of the item is =\t torch.Size([1, 1])\n",
            "the item is =\t tensor([[5176.1494]], device='cuda:0')\n",
            "the size of the item is =\t torch.Size([1, 1])\n",
            "the item is =\t tensor([[5317.6338]], device='cuda:0')\n",
            "the size of the item is =\t torch.Size([1, 1])\n",
            "the item is =\t tensor([[5303.4443]], device='cuda:0')\n",
            "the size of the item is =\t torch.Size([1, 1])\n",
            "the item is =\t tensor([[5431.5898]], device='cuda:0')\n",
            "the size of the item is =\t torch.Size([1, 1])\n",
            "the item is =\t tensor([[5723.0195]], device='cuda:0')\n",
            "the size of the item is =\t torch.Size([1, 1])\n",
            "the item is =\t tensor([[5802.4121]], device='cuda:0')\n",
            "the size of the item is =\t torch.Size([1, 1])\n",
            "the item is =\t tensor([[5805.1982]], device='cuda:0')\n",
            "the size of the item is =\t torch.Size([1, 1])\n",
            "the item is =\t tensor([[5774.3574]], device='cuda:0')\n",
            "the size of the item is =\t torch.Size([1, 1])\n",
            "the item is =\t tensor([[5912.9287]], device='cuda:0')\n",
            "the size of the item is =\t torch.Size([1, 1])\n",
            "the item is =\t tensor([[5920.9380]], device='cuda:0')\n",
            "the size of the item is =\t torch.Size([1, 1])\n",
            "the item is =\t tensor([[6076.4258]], device='cuda:0')\n",
            "the size of the item is =\t torch.Size([1, 1])\n",
            "the item is =\t tensor([[6290.6621]], device='cuda:0')\n",
            "the size of the item is =\t torch.Size([1, 1])\n",
            "the item is =\t tensor([[6929.3760]], device='cuda:0')\n",
            "the size of the item is =\t torch.Size([1, 1])\n",
            "the item is =\t tensor([[7164.4438]], device='cuda:0')\n",
            "the size of the item is =\t torch.Size([1, 1])\n",
            "the item is =\t tensor([[7641.6211]], device='cuda:0')\n",
            "the size of the item is =\t torch.Size([1, 1])\n",
            "the item is =\t tensor([[8042.5996]], device='cuda:0')\n",
            "the size of the item is =\t torch.Size([1, 1])\n",
            "the item is =\t tensor([[8110.4863]], device='cuda:0')\n",
            "the size of the item is =\t torch.Size([1, 1])\n",
            "the item is =\t tensor([[8123.9355]], device='cuda:0')\n",
            "the size of the item is =\t torch.Size([1, 1])\n",
            "the item is =\t tensor([[7557.4102]], device='cuda:0')\n",
            "the size of the item is =\t torch.Size([1, 1])\n",
            "the item is =\t tensor([[7380.4941]], device='cuda:0')\n",
            "the size of the item is =\t torch.Size([1, 1])\n",
            "the item is =\t tensor([[7970.1050]], device='cuda:0')\n",
            "the size of the item is =\t torch.Size([1, 1])\n",
            "the item is =\t tensor([[8033.1323]], device='cuda:0')\n",
            "the size of the item is =\t torch.Size([1, 1])\n",
            "the item is =\t tensor([[8055.2778]], device='cuda:0')\n",
            "the size of the item is =\t torch.Size([1, 1])\n",
            "the item is =\t tensor([[7925.2305]], device='cuda:0')\n",
            "the size of the item is =\t torch.Size([1, 1])\n",
            "the item is =\t tensor([[7862.7197]], device='cuda:0')\n",
            "the size of the item is =\t torch.Size([1, 1])\n",
            "the item is =\t tensor([[8096.4985]], device='cuda:0')\n",
            "the size of the item is =\t torch.Size([1, 1])\n",
            "the item is =\t tensor([[8154.5156]], device='cuda:0')\n",
            "the size of the item is =\t torch.Size([1, 1])\n",
            "the item is =\t tensor([[8520.6016]], device='cuda:0')\n",
            "the size of the item is =\t torch.Size([1, 1])\n",
            "the item is =\t tensor([[8904.7578]], device='cuda:0')\n",
            "the size of the item is =\t torch.Size([1, 1])\n",
            "the item is =\t tensor([[8849.0586]], device='cuda:0')\n",
            "the size of the item is =\t torch.Size([1, 1])\n",
            "the item is =\t tensor([[8764.0156]], device='cuda:0')\n",
            "the size of the item is =\t torch.Size([1, 1])\n",
            "the item is =\t tensor([[8796.7354]], device='cuda:0')\n",
            "the size of the item is =\t torch.Size([1, 1])\n",
            "the item is =\t tensor([[8506.4316]], device='cuda:0')\n",
            "the size of the item is =\t torch.Size([1, 1])\n",
            "the item is =\t tensor([[8666.9600]], device='cuda:0')\n",
            "the size of the item is =\t torch.Size([1, 1])\n",
            "the item is =\t tensor([[8858.9961]], device='cuda:0')\n",
            "the size of the item is =\t torch.Size([1, 1])\n",
            "the item is =\t tensor([[8630.4814]], device='cuda:0')\n",
            "the size of the item is =\t torch.Size([1, 1])\n",
            "the item is =\t tensor([[7932.3794]], device='cuda:0')\n",
            "the size of the item is =\t torch.Size([1, 1])\n",
            "the item is =\t tensor([[7836.9902]], device='cuda:0')\n",
            "the size of the item is =\t torch.Size([1, 1])\n",
            "the item is =\t tensor([[7810.7090]], device='cuda:0')\n",
            "the size of the item is =\t torch.Size([1, 1])\n",
            "the item is =\t tensor([[8074.4551]], device='cuda:0')\n",
            "the size of the item is =\t torch.Size([1, 1])\n",
            "the item is =\t tensor([[8071.0552]], device='cuda:0')\n",
            "the size of the item is =\t torch.Size([1, 1])\n",
            "the item is =\t tensor([[7913.2739]], device='cuda:0')\n",
            "the size of the item is =\t torch.Size([1, 1])\n",
            "the item is =\t tensor([[7940.8530]], device='cuda:0')\n",
            "the size of the item is =\t torch.Size([1, 1])\n",
            "the item is =\t tensor([[8014.5444]], device='cuda:0')\n",
            "the size of the item is =\t torch.Size([1, 1])\n",
            "the item is =\t tensor([[8153.9058]], device='cuda:0')\n",
            "the size of the item is =\t torch.Size([1, 1])\n",
            "the item is =\t tensor([[8327.3623]], device='cuda:0')\n",
            "the size of the item is =\t torch.Size([1, 1])\n",
            "the item is =\t tensor([[8649.6865]], device='cuda:0')\n",
            "the size of the item is =\t torch.Size([1, 1])\n",
            "the item is =\t tensor([[8917.6318]], device='cuda:0')\n",
            "the size of the item is =\t torch.Size([1, 1])\n",
            "the item is =\t tensor([[9274.9434]], device='cuda:0')\n",
            "the size of the item is =\t torch.Size([1, 1])\n",
            "the item is =\t tensor([[9406.1084]], device='cuda:0')\n",
            "the size of the item is =\t torch.Size([1, 1])\n",
            "the item is =\t tensor([[9370.0840]], device='cuda:0')\n",
            "the size of the item is =\t torch.Size([1, 1])\n",
            "the item is =\t tensor([[9384.9443]], device='cuda:0')\n",
            "the size of the item is =\t torch.Size([1, 1])\n",
            "the item is =\t tensor([[9630.1406]], device='cuda:0')\n",
            "the size of the item is =\t torch.Size([1, 1])\n",
            "the item is =\t tensor([[10102.9756]], device='cuda:0')\n",
            "the size of the item is =\t torch.Size([1, 1])\n",
            "the item is =\t tensor([[10959.7100]], device='cuda:0')\n",
            "the size of the item is =\t torch.Size([1, 1])\n",
            "the item is =\t tensor([[11222.4678]], device='cuda:0')\n",
            "the size of the item is =\t torch.Size([1, 1])\n",
            "the item is =\t tensor([[11119.4570]], device='cuda:0')\n",
            "the size of the item is =\t torch.Size([1, 1])\n",
            "the item is =\t tensor([[11681.2178]], device='cuda:0')\n",
            "the size of the item is =\t torch.Size([1, 1])\n",
            "the item is =\t tensor([[13030.5205]], device='cuda:0')\n",
            "the size of the item is =\t torch.Size([1, 1])\n",
            "the item is =\t tensor([[12359.0713]], device='cuda:0')\n",
            "the size of the item is =\t torch.Size([1, 1])\n",
            "the item is =\t tensor([[12041.9873]], device='cuda:0')\n",
            "the size of the item is =\t torch.Size([1, 1])\n",
            "the item is =\t tensor([[12204.7344]], device='cuda:0')\n",
            "the size of the item is =\t torch.Size([1, 1])\n",
            "the item is =\t tensor([[11903.1875]], device='cuda:0')\n",
            "the size of the item is =\t torch.Size([1, 1])\n",
            "the item is =\t tensor([[10971.1641]], device='cuda:0')\n",
            "the size of the item is =\t torch.Size([1, 1])\n",
            "the item is =\t tensor([[10654.0391]], device='cuda:0')\n",
            "the size of the item is =\t torch.Size([1, 1])\n",
            "the item is =\t tensor([[11727.8027]], device='cuda:0')\n",
            "the size of the item is =\t torch.Size([1, 1])\n",
            "the item is =\t tensor([[11908.4785]], device='cuda:0')\n",
            "the size of the item is =\t torch.Size([1, 1])\n",
            "the item is =\t tensor([[11413.4385]], device='cuda:0')\n",
            "the size of the item is =\t torch.Size([1, 1])\n",
            "the item is =\t tensor([[11672.8447]], device='cuda:0')\n",
            "the size of the item is =\t torch.Size([1, 1])\n",
            "the item is =\t tensor([[11667.6504]], device='cuda:0')\n",
            "the size of the item is =\t torch.Size([1, 1])\n",
            "the item is =\t tensor([[12226.9902]], device='cuda:0')\n",
            "the size of the item is =\t torch.Size([1, 1])\n",
            "the item is =\t tensor([[12699.2754]], device='cuda:0')\n",
            "the size of the item is =\t torch.Size([1, 1])\n",
            "the item is =\t tensor([[12740.0117]], device='cuda:0')\n",
            "the size of the item is =\t torch.Size([1, 1])\n",
            "the item is =\t tensor([[11900.1309]], device='cuda:0')\n",
            "the size of the item is =\t torch.Size([1, 1])\n",
            "the item is =\t tensor([[11856.1709]], device='cuda:0')\n",
            "the size of the item is =\t torch.Size([1, 1])\n",
            "the item is =\t tensor([[11723.3877]], device='cuda:0')\n",
            "the size of the item is =\t torch.Size([1, 1])\n",
            "the item is =\t tensor([[11236.5371]], device='cuda:0')\n",
            "the size of the item is =\t torch.Size([1, 1])\n",
            "the item is =\t tensor([[10854.5303]], device='cuda:0')\n",
            "the size of the item is =\t torch.Size([1, 1])\n",
            "the item is =\t tensor([[10647.4189]], device='cuda:0')\n",
            "the size of the item is =\t torch.Size([1, 1])\n",
            "the item is =\t tensor([[9804.0107]], device='cuda:0')\n",
            "the size of the item is =\t torch.Size([1, 1])\n",
            "the item is =\t tensor([[10435.7109]], device='cuda:0')\n",
            "the size of the item is =\t torch.Size([1, 1])\n",
            "the item is =\t tensor([[10726.9033]], device='cuda:0')\n",
            "the size of the item is =\t torch.Size([1, 1])\n",
            "the item is =\t tensor([[10959.1816]], device='cuda:0')\n",
            "the size of the item is =\t torch.Size([1, 1])\n",
            "the item is =\t tensor([[10885.1240]], device='cuda:0')\n",
            "the size of the item is =\t torch.Size([1, 1])\n",
            "the item is =\t tensor([[10667.1641]], device='cuda:0')\n",
            "the size of the item is =\t torch.Size([1, 1])\n",
            "the item is =\t tensor([[10363.5859]], device='cuda:0')\n",
            "the size of the item is =\t torch.Size([1, 1])\n",
            "the item is =\t tensor([[9962.6904]], device='cuda:0')\n",
            "the size of the item is =\t torch.Size([1, 1])\n",
            "the item is =\t tensor([[10220.4883]], device='cuda:0')\n",
            "the size of the item is =\t torch.Size([1, 1])\n",
            "the item is =\t tensor([[10034.3340]], device='cuda:0')\n",
            "the size of the item is =\t torch.Size([1, 1])\n",
            "the item is =\t tensor([[10102.2051]], device='cuda:0')\n",
            "the size of the item is =\t torch.Size([1, 1])\n",
            "the item is =\t tensor([[9624.6855]], device='cuda:0')\n",
            "the size of the item is =\t torch.Size([1, 1])\n",
            "the item is =\t tensor([[9784.8955]], device='cuda:0')\n",
            "the size of the item is =\t torch.Size([1, 1])\n",
            "390\n",
            "390\n"
          ],
          "name": "stdout"
        },
        {
          "output_type": "display_data",
          "data": {
            "image/png": "[encoded data removed]",
            "text/plain": [
              "<Figure size 432x288 with 1 Axes>"
            ]
          },
          "metadata": {
            "tags": []
          }
        }
      ]
    },
    {
      "cell_type": "markdown",
      "metadata": {
        "id": "6Q-T1K5rWChB",
        "colab_type": "text"
      },
      "source": [
        "## Model Inference Testing"
      ]
    },
    {
      "cell_type": "code",
      "metadata": {
        "id": "rC1qbe-GH7Iv",
        "colab_type": "code",
        "outputId": "427b0050-35ef-4faa-964c-499b932d22df",
        "colab": {
          "base_uri": "https://localhost:8080/",
          "height": 68
        }
      },
      "source": [
        "class Inferencer(object):\n",
        "    def __init__(self):\n",
        "        pass\n",
        "    def un_normalize(self,norm_val,min_val,max_val,typelist=None):\n",
        "        if(typelist):\n",
        "            for idx,item in enumerate(norm_val):\n",
        "                new_val = item * (max_val - min_val) + min_val\n",
        "                norm_val[idx] = new_val\n",
        "            return norm_val\n",
        "        else:\n",
        "            return norm_val * (max_val - min_val) + min_val \n",
        "\n",
        "    def inference(self,value, normalize_method, model,minimum_price,maximum_price):\n",
        "        value = np.array(value)\n",
        "        predictions = []\n",
        "        for sample in value:\n",
        "            sample = np.array(sample).reshape(1,-1)\n",
        "            example = torch.tensor(normalize_method.transform(sample)).float()\n",
        "            \n",
        "            if(str(device) == 'cuda'):\n",
        "                example = example.to(device)\n",
        "\n",
        "            output = model(example)\n",
        "            output_unnorm = self.un_normalize(norm_val=output.detach(),min_val=minimum_price,max_val=maximum_price)\n",
        "            predictions.append(output_unnorm)\n",
        "        return predictions\n",
        "\n",
        "def main(normalizer,model,minimum_price,maximum_price):\n",
        "    inf = Inferencer()\n",
        "    print(minimum_price)\n",
        "    print(maximum_price)\n",
        "    output = inf.inference(value=[ [9400,9800,vol[-1]],\n",
        "                                   [9400,10000,35000]],\n",
        "                       normalize_method=normalizer,\n",
        "                       model=model,\n",
        "                       minimum_price=minimum_price,\n",
        "                       maximum_price=maximum_price\n",
        "                      )\n",
        "    print('BTC prediction: ', output)\n",
        "    \n",
        "    \n",
        "main(normalizer=min_max_scaler,model=price_model,minimum_price=min_price,maximum_price=max_price)\n",
        "\n"
      ],
      "execution_count": 0,
      "outputs": [
        {
          "output_type": "stream",
          "text": [
            "tensor(178.3485, dtype=torch.float64)\n",
            "tensor(19394.7576, dtype=torch.float64)\n",
            "BTC prediction:  [tensor([[9697.6611]], device='cuda:0'), tensor([[9741.0957]], device='cuda:0')]\n"
          ],
          "name": "stdout"
        }
      ]
    },
    {
      "cell_type": "code",
      "metadata": {
        "id": "YVVoQiS5l_Lr",
        "colab_type": "code",
        "colab": {}
      },
      "source": [
        ""
      ],
      "execution_count": 0,
      "outputs": []
    }
  ]
}