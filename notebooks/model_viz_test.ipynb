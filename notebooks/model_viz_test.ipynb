{
  "nbformat": 4,
  "nbformat_minor": 0,
  "metadata": {
    "colab": {
      "name": "model_viz_test.ipynb",
      "version": "0.3.2",
      "provenance": [],
      "collapsed_sections": []
    },
    "kernelspec": {
      "name": "python3",
      "display_name": "Python 3"
    },
    "accelerator": "GPU"
  },
  "cells": [
    {
      "cell_type": "markdown",
      "metadata": {
        "id": "vGODXQ40k75X",
        "colab_type": "text"
      },
      "source": [
        "# Time Series Regression with Neural Networks: Cryptocurrency Price Prediction"
      ]
    },
    {
      "cell_type": "code",
      "metadata": {
        "id": "X8aFqnebuJB_",
        "colab_type": "code",
        "outputId": "1120bc23-7f4c-4cf6-e133-4e8ce7454a35",
        "colab": {
          "base_uri": "https://localhost:8080/",
          "height": 544
        }
      },
      "source": [
        "!pip install cryptocompare\n",
        "!nvidia-smi"
      ],
      "execution_count": 1,
      "outputs": [
        {
          "output_type": "stream",
          "text": [
            "Collecting cryptocompare\n",
            "  Downloading https://files.pythonhosted.org/packages/5f/fb/06d620efa600bfd59ce693f291754428e3cbe2b5637cbaab217a7e6d9ea9/cryptocompare-0.6.4.tar.gz\n",
            "Requirement already satisfied: requests in /usr/local/lib/python3.6/dist-packages (from cryptocompare) (2.21.0)\n",
            "Requirement already satisfied: idna<2.9,>=2.5 in /usr/local/lib/python3.6/dist-packages (from requests->cryptocompare) (2.8)\n",
            "Requirement already satisfied: urllib3<1.25,>=1.21.1 in /usr/local/lib/python3.6/dist-packages (from requests->cryptocompare) (1.24.3)\n",
            "Requirement already satisfied: certifi>=2017.4.17 in /usr/local/lib/python3.6/dist-packages (from requests->cryptocompare) (2019.6.16)\n",
            "Requirement already satisfied: chardet<3.1.0,>=3.0.2 in /usr/local/lib/python3.6/dist-packages (from requests->cryptocompare) (3.0.4)\n",
            "Building wheels for collected packages: cryptocompare\n",
            "  Building wheel for cryptocompare (setup.py) ... \u001b[?25l\u001b[?25hdone\n",
            "  Created wheel for cryptocompare: filename=cryptocompare-0.6.4-cp36-none-any.whl size=3612 sha256=8dbbc5b52ca1f981bb7ad8c53ffc829c50f371d16967108a3d7d25f179693b64\n",
            "  Stored in directory: /root/.cache/pip/wheels/65/a3/15/2a0d81279c399c458d34b33a42d0786d14541efe595ee2fa1c\n",
            "Successfully built cryptocompare\n",
            "Installing collected packages: cryptocompare\n",
            "Successfully installed cryptocompare-0.6.4\n",
            "Sat Aug  3 04:21:00 2019       \n",
            "+-----------------------------------------------------------------------------+\n",
            "| NVIDIA-SMI 418.67       Driver Version: 410.79       CUDA Version: 10.0     |\n",
            "|-------------------------------+----------------------+----------------------+\n",
            "| GPU  Name        Persistence-M| Bus-Id        Disp.A | Volatile Uncorr. ECC |\n",
            "| Fan  Temp  Perf  Pwr:Usage/Cap|         Memory-Usage | GPU-Util  Compute M. |\n",
            "|===============================+======================+======================|\n",
            "|   0  Tesla K80           Off  | 00000000:00:04.0 Off |                    0 |\n",
            "| N/A   31C    P8    31W / 149W |      0MiB / 11441MiB |      0%      Default |\n",
            "+-------------------------------+----------------------+----------------------+\n",
            "                                                                               \n",
            "+-----------------------------------------------------------------------------+\n",
            "| Processes:                                                       GPU Memory |\n",
            "|  GPU       PID   Type   Process name                             Usage      |\n",
            "|=============================================================================|\n",
            "|  No running processes found                                                 |\n",
            "+-----------------------------------------------------------------------------+\n"
          ],
          "name": "stdout"
        }
      ]
    },
    {
      "cell_type": "code",
      "metadata": {
        "id": "-xkssd58cEK5",
        "colab_type": "code",
        "outputId": "c7d1371b-01d9-4311-a457-4c1c7a7f5693",
        "colab": {
          "base_uri": "https://localhost:8080/",
          "height": 122
        }
      },
      "source": [
        "from google.colab import drive\n",
        "drive.mount('/content/gdrive')\n",
        "import requests\n",
        "import os\n",
        "import yaml\n",
        "import json\n",
        "import numpy as np\n",
        "import pandas as pd\n",
        "import torch\n",
        "import torch.nn as nn\n",
        "import torch.nn.functional as F\n",
        "import torch.utils.data\n",
        "from torch.utils.tensorboard import SummaryWriter\n",
        "import sklearn\n",
        "from sklearn import preprocessing\n",
        "from sklearn.model_selection import train_test_split\n",
        "from tqdm import tqdm\n",
        "import matplotlib.pyplot as plt\n",
        "import urllib3\n",
        "import cryptocompare\n",
        "from datetime import datetime"
      ],
      "execution_count": 2,
      "outputs": [
        {
          "output_type": "stream",
          "text": [
            "Go to this URL in a browser: https://accounts.google.com/o/oauth2/auth?client_id=947318989803-6bn6qk8qdgf4n4g3pfee6491hc0brc4i.apps.googleusercontent.com&redirect_uri=urn%3Aietf%3Awg%3Aoauth%3A2.0%3Aoob&scope=email%20https%3A%2F%2Fwww.googleapis.com%2Fauth%2Fdocs.test%20https%3A%2F%2Fwww.googleapis.com%2Fauth%2Fdrive%20https%3A%2F%2Fwww.googleapis.com%2Fauth%2Fdrive.photos.readonly%20https%3A%2F%2Fwww.googleapis.com%2Fauth%2Fpeopleapi.readonly&response_type=code\n",
            "\n",
            "Enter your authorization code:\n",
            "··········\n",
            "Mounted at /content/gdrive\n"
          ],
          "name": "stdout"
        }
      ]
    },
    {
      "cell_type": "code",
      "metadata": {
        "id": "dj0xknt5cJwl",
        "colab_type": "code",
        "outputId": "fe81fffa-e30b-4fcd-98db-3a4e2b4c121e",
        "colab": {
          "base_uri": "https://localhost:8080/",
          "height": 51
        }
      },
      "source": [
        "print(\"PyTorch version:\", torch.__version__)\n",
        "print(\"NumPy version:\", np.__version__)"
      ],
      "execution_count": 3,
      "outputs": [
        {
          "output_type": "stream",
          "text": [
            "PyTorch version: 1.1.0\n",
            "NumPy version: 1.16.4\n"
          ],
          "name": "stdout"
        }
      ]
    },
    {
      "cell_type": "markdown",
      "metadata": {
        "id": "vHSMryQzE6Zy",
        "colab_type": "text"
      },
      "source": [
        "## Data Analysis"
      ]
    },
    {
      "cell_type": "code",
      "metadata": {
        "id": "UJIfjHclu6Fl",
        "colab_type": "code",
        "outputId": "07e274ee-5dfe-42c3-9f84-e892755e0a4a",
        "colab": {
          "base_uri": "https://localhost:8080/",
          "height": 1000
        }
      },
      "source": [
        "# hourly -- volume -- per day\n",
        "# USD \n",
        "\n",
        "#cryptocompare api key:1 e3c9fe62074dbf5805d45f528d1e60c7ae15be68a63ba57ca3a5f2f9dbbf66f\n",
        "\n",
        "#close,high,low,open,time,volumefrom,volumeto\n",
        "\n",
        "def posix2Human(time_):\n",
        "    timestamp = time_\n",
        "    dt_object = datetime.fromtimestamp(timestamp)\n",
        "    return dt_object\n",
        "\n",
        "histPriceDay = cryptocompare.get_historical_price_day('BTC', curr='USD')\n",
        "\n",
        "# Getting CryptoCompare BTC volume data -- 2000 API calls back \n",
        "vol = []\n",
        "for idx, item in enumerate(histPriceDay['Data']):\n",
        "    vol.append(item['volumefrom'])    \n",
        "\n",
        "# -- Init subplots --\n",
        "f,arr = plt.subplots(1,2)\n",
        "  \n",
        "arr[0].plot(np.array(vol),'g')\n",
        "\n",
        "# Testing moving average\n",
        "\n",
        "rolling_amnt = 4\n",
        "df = pd.DataFrame(vol).rolling(rolling_amnt).mean()\n",
        "print(df)\n",
        "\n",
        "min_vol = np.nanmin(df.values)\n",
        "max_vol = np.nanmax(df.values)\n",
        "\n",
        "print(min_vol)\n",
        "print(max_vol)\n",
        "\n",
        "test = df.values\n",
        "\n",
        "\n",
        "for i in range(rolling_amnt):\n",
        "    rand_num = np.random.randint(low=min_vol,high=max_vol)\n",
        "    test[i] = rand_num\n",
        "\n",
        "arr[0].plot(test,color='r')\n",
        "print(arr)\n",
        "\n",
        "def fetch_latest_BTC_JSON():\n",
        "    \"\"\"Fetch the latest JSON data\"\"\"\n",
        "    API_LINK = 'https://www.alphavantage.co/query?function=DIGITAL_CURRENCY_DAILY&symbol=BTC&market=USD&apikey=SAITMI5ZUMGEKGKY'\n",
        "    page = requests.get(API_LINK).json()\n",
        "    return page\n",
        "\n",
        "page = fetch_latest_BTC_JSON()\n",
        "\n",
        "vol2 = []\n",
        "for key,value in page['Time Series (Digital Currency Daily)'].items():\n",
        "    vol2.append(float(value['5. volume']))\n",
        "    \n",
        "arr[1].plot(np.array(vol2))\n",
        "\n",
        "plt.tight_layout()\n",
        "f.set_figheight(5)\n",
        "f.set_figwidth(30)\n",
        "\n",
        "plt.show()\n",
        "\n"
      ],
      "execution_count": 33,
      "outputs": [
        {
          "output_type": "stream",
          "text": [
            "                0\n",
            "0             NaN\n",
            "1             NaN\n",
            "2             NaN\n",
            "3     135136.8450\n",
            "4     108628.2575\n",
            "5      71864.8650\n",
            "6      58613.7500\n",
            "7      57179.0550\n",
            "8      51149.7425\n",
            "9      54906.1600\n",
            "10     58491.7050\n",
            "11     60305.6175\n",
            "12     55739.7625\n",
            "13     57616.0950\n",
            "14     58375.5300\n",
            "15     62023.2900\n",
            "16     67269.2175\n",
            "17     65835.7525\n",
            "18     62982.2650\n",
            "19     54837.2475\n",
            "20     50420.2250\n",
            "21     50560.2675\n",
            "22     51495.7825\n",
            "23     53530.5825\n",
            "24     54646.8150\n",
            "25     52664.5975\n",
            "26     48903.2975\n",
            "27     44213.2850\n",
            "28     43554.3975\n",
            "29     48148.6650\n",
            "...           ...\n",
            "1411   93441.9725\n",
            "1412   75236.2850\n",
            "1413   55556.7975\n",
            "1414   53733.3575\n",
            "1415   57118.5375\n",
            "1416   76206.2600\n",
            "1417   92726.7350\n",
            "1418   90763.6400\n",
            "1419   85658.7325\n",
            "1420   73605.5125\n",
            "1421   71058.9275\n",
            "1422   85444.6650\n",
            "1423   95905.7250\n",
            "1424  102438.9400\n",
            "1425   95002.0800\n",
            "1426   80809.2625\n",
            "1427   65146.0950\n",
            "1428   52178.8325\n",
            "1429   49618.5050\n",
            "1430   49114.5575\n",
            "1431   49591.0950\n",
            "1432   44937.6675\n",
            "1433   45019.5175\n",
            "1434   38410.2100\n",
            "1435   36197.4200\n",
            "1436   35421.3900\n",
            "1437   32658.5375\n",
            "1438   36456.4275\n",
            "1439   39651.1000\n",
            "1440   35057.4625\n",
            "\n",
            "[1441 rows x 1 columns]\n",
            "18778.55249999991\n",
            "374488.67\n",
            "[<matplotlib.axes._subplots.AxesSubplot object at 0x7fd44d143b38>\n",
            " <matplotlib.axes._subplots.AxesSubplot object at 0x7fd45500bbe0>]\n"
          ],
          "name": "stdout"
        },
        {
          "output_type": "display_data",
          "data": {
            "image/png": "[encoded data removed]",
            "text/plain": [
              "<Figure size 2160x360 with 2 Axes>"
            ]
          },
          "metadata": {
            "tags": []
          }
        }
      ]
    },
    {
      "cell_type": "code",
      "metadata": {
        "id": "Rqa4cSjR-U4X",
        "colab_type": "code",
        "outputId": "380ede35-bcda-4fb9-ea52-8c68254eb57e",
        "colab": {
          "base_uri": "https://localhost:8080/",
          "height": 337
        }
      },
      "source": [
        "histPriceDay\n",
        "\n",
        "close_prices = []\n",
        "for idx,item in enumerate(histPriceDay['Data']):\n",
        "    close_prices.append(item['close'])\n",
        "\n",
        "print(len(close_prices))\n",
        "\n",
        "# Calc SMA\n",
        "sma = pd.DataFrame(close_prices).rolling(21).sum() / 21\n",
        "\n",
        "# B-Bands\n",
        "std = pd.DataFrame(close_prices).rolling(21).std()\n",
        "lower_band = sma + (std * 2)\n",
        "upper_band = sma - (std * 2)\n",
        "\n",
        "print(type(lower_band.values))\n",
        "print(type(upper_band.values))\n",
        "lower_band = lower_band.values.flatten()\n",
        "upper_band = upper_band.values.flatten()\n",
        "\n",
        "plt.plot(lower_band,'c--')\n",
        "plt.plot(upper_band,'r--')\n",
        "x = np.arange(1441)\n",
        "plt.fill_between(x,np.array(lower_band),np.array(upper_band),interpolate=True,alpha=0.5)\n",
        "plt.plot(close_prices,'white')\n",
        "plt.plot(sma,'yellow')\n",
        "fig_size = plt.rcParams[\"figure.figsize\"]\n",
        "print(fig_size)\n",
        "fig_size[0] = 20\n",
        "fig_size[1] = 15\n",
        "plt.rcParams[\"figure.figsize\"] = fig_size\n",
        "fig_size = plt.rcParams[\"figure.figsize\"]\n",
        "ax = plt.gca()\n",
        "ax.set_facecolor((0, 0, 0))\n",
        "plt.legend(['Bollinger Bands Up','Bollinger Bands Down','Closing Price','SMA'])\n",
        "plt.show()"
      ],
      "execution_count": 5,
      "outputs": [
        {
          "output_type": "stream",
          "text": [
            "1441\n",
            "<class 'numpy.ndarray'>\n",
            "<class 'numpy.ndarray'>\n",
            "[6.0, 4.0]\n"
          ],
          "name": "stdout"
        },
        {
          "output_type": "display_data",
          "data": {
            "image/png": "[encoded data removed]",
            "text/plain": [
              "<Figure size 432x288 with 1 Axes>"
            ]
          },
          "metadata": {
            "tags": []
          }
        }
      ]
    },
    {
      "cell_type": "code",
      "metadata": {
        "id": "huJFdlNivLxr",
        "colab_type": "code",
        "outputId": "f6102df2-2457-46a0-ac83-94de07880065",
        "colab": {
          "base_uri": "https://localhost:8080/",
          "height": 34
        }
      },
      "source": [
        "print('CryptoCompare last reported volume (yesterday): ', vol[-1])"
      ],
      "execution_count": 6,
      "outputs": [
        {
          "output_type": "stream",
          "text": [
            "CryptoCompare last reported volume (yesterday):  10481.64\n"
          ],
          "name": "stdout"
        }
      ]
    },
    {
      "cell_type": "markdown",
      "metadata": {
        "id": "p16ipIQIDeRx",
        "colab_type": "text"
      },
      "source": [
        "## Config file with Model Hyperparameters"
      ]
    },
    {
      "cell_type": "code",
      "metadata": {
        "id": "Fs81MIhVvQ9Q",
        "colab_type": "code",
        "outputId": "6db1c28a-4785-4e4c-d79f-e2b56e8c787e",
        "colab": {
          "base_uri": "https://localhost:8080/",
          "height": 51
        }
      },
      "source": [
        "def get_config(file_loc='/content/gdrive/My Drive/College/Undergraduate Research/StockData/config.yaml'):\n",
        "    return yaml.safe_load(open(file_loc))\n",
        "config = get_config()\n",
        "print(type(config))\n",
        "print(config)"
      ],
      "execution_count": 7,
      "outputs": [
        {
          "output_type": "stream",
          "text": [
            "<class 'dict'>\n",
            "{'learning_rate': 0.001, 'batch_size': 1, 'epochs': 100, 'dropout_rate': 0, 'lstm_hidden_size': 1, 'lstm_num_layers': 1}\n"
          ],
          "name": "stdout"
        }
      ]
    },
    {
      "cell_type": "markdown",
      "metadata": {
        "id": "r3mV8lNFDjKB",
        "colab_type": "text"
      },
      "source": [
        "## Neural network architectures\n",
        "\n",
        "* 3 Layer Multi-Layer Perceptron\n",
        "* 1 Layer Temporal Convolutional Neural Network\n",
        "* Long-Term-Short-Term Recurrent Neural Network"
      ]
    },
    {
      "cell_type": "code",
      "metadata": {
        "id": "WDURcbQYcMbV",
        "colab_type": "code",
        "colab": {}
      },
      "source": [
        "\"\"\"\n",
        "Basic multilayer perceptron subclass \n",
        "of three layers in PyTorch\n",
        "\"\"\"\n",
        "class MLP(nn.Module):\n",
        "    def __init__(self,num_features):\n",
        "        super(MLP,self).__init__()\n",
        "        self.fc1 = nn.Linear(in_features=num_features,out_features=32)\n",
        "        self.fc2 = nn.Linear(in_features=32,out_features=128)\n",
        "        self.fc3 = nn.Linear(in_features=128,out_features=1)\n",
        "    \n",
        "    def forward(self, x):\n",
        "        \"\"\"\"Forward pass definition\"\"\"\n",
        "        x = F.leaky_relu(self.fc1(x))\n",
        "        x = F.leaky_relu(self.fc2(x))\n",
        "        x = F.leaky_relu(self.fc3(x))\n",
        "        return x\n",
        "\n",
        "class NumberRegression_MLP(nn.Module):\n",
        "    def __init__(self):\n",
        "        super(NumberRegression_MLP,self).__init__()\n",
        "        self.fc1 = nn.Linear(in_features=1,out_features=32)\n",
        "        self.fc2 = nn.Linear(in_features=32,out_features=128)\n",
        "        self.fc3 = nn.Linear(in_features=128,out_features=1)\n",
        "    def forward(self, x):\n",
        "        \"\"\"\"Forward pass definition\"\"\"\n",
        "        x = F.leaky_relu(self.fc1(x))\n",
        "        x = F.leaky_relu(self.fc2(x))\n",
        "        x = F.leaky_relu(self.fc3(x))\n",
        "        return x\n",
        "\"\"\"\n",
        "Recurrent Neural Networks (RNN)\n",
        "RNNs are an excellent method to model sequential data\n",
        "and time series data. This is perfect for stocks and\n",
        "crytocurrency price prediction.\n",
        "\n",
        "https://stackoverflow.com/questions/45022734/understanding-a-simple-lstm-pytorch\n",
        "https://www.jessicayung.com/lstms-for-time-series-in-pytorch/\n",
        "\"\"\"\n",
        "class TestRNN(nn.Module):\n",
        "    def __init__(self,bat_size,in_features,h_size,layer_amnt):\n",
        "        super(TestRNN,self).__init__()\n",
        "        \n",
        "        self.batch_sz = bat_size\n",
        "        self.in_features = in_features\n",
        "        self.h_size = h_size\n",
        "        self.layer_amnt = layer_amnt\n",
        "        \n",
        "        self.lstm1 = nn.LSTM(input_size=self.in_features,\n",
        "                             hidden_size=self.h_size,\n",
        "                             num_layers=self.layer_amnt,\n",
        "                             bias=True,\n",
        "                             batch_first=True,\n",
        "                             dropout=0,\n",
        "                             bidirectional=False\n",
        "                            )\n",
        "    def init_hidden(self):\n",
        "        \"\"\"Intialize/re-init the hidden and cell states. \n",
        "        The hidden state acts as the memory of the RNN \n",
        "        which gets passed from one unit to another. \n",
        "        h_i = f(h_i + in)\n",
        "\n",
        "        Intializing with 0s\n",
        "        \"\"\"\n",
        "        #print('layer size =\\t', self.layer_amnt)\n",
        "        #print('bat_size =\\t', self.batch_sz)\n",
        "        #print('hidden size =\\t',self.h_size)\n",
        "        return (torch.zeros(self.layer_amnt,self.batch_sz,self.h_size),\n",
        "                torch.zeros(self.layer_amnt,self.batch_sz,self.h_size))\n",
        "    def forward(self,x):\n",
        "        x = x.unsqueeze(0)\n",
        "        hidden_init = self.init_hidden()\n",
        "        h0 = hidden_init[0].to(device)\n",
        "        c0 = hidden_init[1].to(device)\n",
        "        x,hidden = self.lstm1( x,(h0,c0))\n",
        "        return x\n",
        "      \n",
        "\"\"\"\n",
        "Temporal Convolutional Neural Network (CNN)\n",
        "Time series based convolutional neural network\n",
        "\"\"\"\n",
        "class TimeCNN(nn.Module):\n",
        "    def __init__(self):\n",
        "        super(TimeCNN,self).__init__()\n",
        "        self.conv1 = nn.Conv1d(in_channels=1,out_channels=256,kernel_size=2,stride=1,padding=0)\n",
        "        self.fc1 = nn.Linear(in_features=512,out_features=1024)\n",
        "        self.fc2 = nn.Linear(in_features=1024,out_features=128)\n",
        "        self.fc3 = nn.Linear(in_features=128,out_features=1)\n",
        "    def forward(self,x):\n",
        "        x = x.unsqueeze(0)\n",
        "        x = F.leaky_relu(self.conv1(x))\n",
        "        x = x.reshape(-1)\n",
        "        x = F.leaky_relu(self.fc1(x))\n",
        "        x = F.leaky_relu(self.fc2(x))\n",
        "        x = F.leaky_relu(self.fc3(x))\n",
        "        return x\n",
        "\n",
        "\"\"\"\n",
        "https://arxiv.org/pdf/1506.00019.pdf\n",
        "https://www.quora.com/How-is-the-hidden-state-h-different-from-the-memory-c-in-an-LSTM-cell\n",
        "\"\"\"\n",
        "class TimeRNN(nn.Module):\n",
        "    def __init__(self,bat_size,in_features,h_size,layer_amnt):\n",
        "        super(TimeRNN,self).__init__()\n",
        "        \n",
        "        self.batch_sz = bat_size\n",
        "        self.in_features = in_features\n",
        "        self.h_size = h_size\n",
        "        self.layer_amnt = layer_amnt\n",
        "        \n",
        "        self.lstm1 = nn.LSTM(input_size=self.in_features,\n",
        "                             hidden_size=self.h_size,\n",
        "                             num_layers=self.layer_amnt,\n",
        "                             bias=True,\n",
        "                             batch_first=True,\n",
        "                             dropout=0,\n",
        "                             bidirectional=False)\n",
        "        self.fc1 = nn.Linear(in_features=1,out_features=1)\n",
        "    def init_hidden(self):\n",
        "        \"\"\"Intialize/re-init the hidden and cell states. \n",
        "        The hidden state acts as the memory of the RNN \n",
        "        which gets passed from one unit to another. \n",
        "        h_i = f(h_i + in)\n",
        "\n",
        "        Intializing with 0s\n",
        "        \"\"\"\n",
        "        #print('layer size =\\t', self.layer_amnt)\n",
        "        #print('bat_size =\\t', self.batch_sz)\n",
        "        #print('hidden size =\\t',self.h_size)\n",
        "        return (torch.zeros(self.layer_amnt,self.batch_sz,self.h_size),\n",
        "                torch.zeros(self.layer_amnt,self.batch_sz,self.h_size))\n",
        "    def forward(self,x):\n",
        "        x = x.unsqueeze(0)\n",
        "        hidden_init = self.init_hidden()\n",
        "        h0 = hidden_init[0].to(device)\n",
        "        c0 = hidden_init[1].to(device)\n",
        "        x,hidden = self.lstm1( x,(h0,c0))\n",
        "        x = F.leaky_relu(self.fc1(x[-1].view(self.batch_sz,-1)))\n",
        "        return x"
      ],
      "execution_count": 0,
      "outputs": []
    },
    {
      "cell_type": "code",
      "metadata": {
        "id": "RKSf-IgwcO6G",
        "colab_type": "code",
        "colab": {}
      },
      "source": [
        "class TickerData(torch.utils.data.Dataset):\n",
        "    def __init__(self, table):\n",
        "        self.dataset = table\n",
        "    def __len__(self):\n",
        "        return len(self.dataset)\n",
        "    def __getitem__(self,idx):\n",
        "        \"\"\"idx --> data pointer\"\"\"\n",
        "        return self.dataset[idx]"
      ],
      "execution_count": 0,
      "outputs": []
    },
    {
      "cell_type": "code",
      "metadata": {
        "id": "rKiMgnPRfHl5",
        "colab_type": "code",
        "outputId": "f22770e2-458f-41d6-f18e-7cfc4d1b9c53",
        "colab": {
          "base_uri": "https://localhost:8080/",
          "height": 68
        }
      },
      "source": [
        "device = torch.device(\"cuda\" if torch.cuda.is_available() else \"cpu\")\n",
        "print(\"Device state:\\t\", device)\n",
        "print(\"Device index:\\t\",torch.cuda.current_device())\n",
        "print(\"Current device:\\t\", torch.cuda.get_device_name(device))"
      ],
      "execution_count": 10,
      "outputs": [
        {
          "output_type": "stream",
          "text": [
            "Device state:\t cuda\n",
            "Device index:\t 0\n",
            "Current device:\t Tesla K80\n"
          ],
          "name": "stdout"
        }
      ]
    },
    {
      "cell_type": "markdown",
      "metadata": {
        "id": "psJuWNdZD3il",
        "colab_type": "text"
      },
      "source": [
        "## Training Phase"
      ]
    },
    {
      "cell_type": "code",
      "metadata": {
        "id": "ATH5hCDpcVL9",
        "colab_type": "code",
        "colab": {}
      },
      "source": [
        "class Trainer(object):\n",
        "    def __init__(self):\n",
        "        pass\n",
        "    def fetch_latest_BTC_JSON(self):\n",
        "        \"\"\"Fetch the latest JSON data\"\"\"\n",
        "        API_LINK = 'https://www.alphavantage.co/query?function=DIGITAL_CURRENCY_DAILY&symbol=BTC&market=USD&apikey=SAITMI5ZUMGEKGKY'\n",
        "        page = requests.get(API_LINK).json()\n",
        "        return page\n",
        "    def fetch_btc_prices(self):\n",
        "        with open(\"/content/gdrive/My Drive/College/Undergraduate Research/StockData/BTC_data.json\") as f:\n",
        "            return json.load(f)  \n",
        "\n",
        "    def parse_alphaV_JSON(self,raw_data):\n",
        "        # Remove meta data for now\n",
        "        raw_data.pop('Meta Data',None)\n",
        "        # Remove key name\n",
        "        df = pd.DataFrame.from_dict(raw_data['Time Series (Digital Currency Daily)'],dtype=float)\n",
        "        # Flip dates as columns into rows\n",
        "        df = df.transpose()\n",
        "        return df\n",
        "    \n",
        "    def data_split(self,x_train,y_train):\n",
        "        x_train, x_test, y_train, y_test = train_test_split(x_train,y_train,test_size=0.2,random_state=100,shuffle=False)\n",
        "        return x_train, x_test, y_train, y_test\n",
        "\n",
        "    def train(self,model, x_data,y_data, original_prices,epochs):\n",
        "        \"\"\"Price prediction model training loop function. This method\n",
        "        is generalized for the purposes of allowing any model to be used\n",
        "\n",
        "        Arguements:\"\"\"\n",
        "        prices = torch.tensor(original_prices)\n",
        "        max_price = torch.max(prices)\n",
        "        min_price = torch.min(prices)\n",
        "\n",
        "        print('----Dataset Prep----')\n",
        "        x_train, x_test, y_train, y_test = self.data_split(x_data,y_data)\n",
        "        train_tensorDataset = torch.utils.data.TensorDataset(torch.from_numpy(x_train),torch.from_numpy(y_train))\n",
        "        train_data_loader = torch.utils.data.DataLoader(\n",
        "            dataset=train_tensorDataset,\n",
        "            batch_size=config['batch_size'],\n",
        "            shuffle=False,\n",
        "            num_workers=0\n",
        "        )\n",
        "\n",
        "        test_tensorDataset = torch.utils.data.TensorDataset(torch.Tensor(x_test),torch.Tensor(y_test))\n",
        "        test_data_loader = torch.utils.data.DataLoader(\n",
        "            dataset=test_tensorDataset,\n",
        "            batch_size=config['batch_size'],\n",
        "            shuffle=False,\n",
        "            num_workers=0\n",
        "        )\n",
        "\n",
        "        print('-- Model Architecture --')\n",
        "        print(model)\n",
        "\n",
        "        # -- Model to CUDA GPU --\n",
        "        if( str(device) == 'cuda'):\n",
        "            print('Sending model to',torch.cuda.get_device_name(device),' GPU')\n",
        "            #model = model.cuda()\n",
        "            model.to(device)\n",
        "\n",
        "        # -- Since we are predicting prices --> mean squared error is our loss function\n",
        "        loss_func = torch.nn.MSELoss()\n",
        "\n",
        "        # -- Optimizer --> Adam generally works best\n",
        "        # TODO: choose a better learning rate later\n",
        "        optimizer = torch.optim.Adam(model.parameters(), lr=config['learning_rate'])\n",
        "\n",
        "        total_loss = 0\n",
        "        losses = []\n",
        "        for epoch in (range(epochs)):\n",
        "            for i, (examples,labels) in tqdm(enumerate(train_data_loader)):\n",
        "\n",
        "                if( str(device) == 'cuda'):\n",
        "                    examples = examples.to(device)\n",
        "                    labels = labels.to(device)\n",
        "\n",
        "                #print(examples , \" ----- \" , labels)\n",
        "\n",
        "                optimizer.zero_grad()\n",
        "\n",
        "                # -- Input to CUDA --\n",
        "                #examples = examples.to(device)\n",
        "                #labels = labels.to(device)\n",
        "\n",
        "                y_predictions = model(examples.float())\n",
        "                loss = loss_func(y_predictions.float(),labels.view(1,1).float())\n",
        "\n",
        "                total_loss += loss.data\n",
        "\n",
        "                # back-prop to update the weights\n",
        "                loss.backward()\n",
        "                # optimizer steps based on lr\n",
        "                optimizer.step()\n",
        "\n",
        "                y_preds = y_predictions.cpu().detach().numpy()\n",
        "                y_preds = torch.tensor(y_preds)\n",
        "                #print(y_preds.shape)\n",
        "                test = self.un_normalize(y_preds, min_price, max_price)\n",
        "                #print(\"---> \", test)\n",
        "                #break\n",
        "\n",
        "            print ('Epoch [{}/{}], Loss: {}'.format(epoch+1, config['epochs'], loss.data))\n",
        "            #print(list(model.parameters()))\n",
        "            print(\"-----------------------------------------------------------------------------\")\n",
        "            losses.append(loss.data)\n",
        "        return losses, test_data_loader, loss_func, model, min_price, max_price, y_test\n",
        "\n",
        "\n",
        "    def table_edit(self,dataframe):\n",
        "        dataframe = dataframe.drop(labels=['1b. open (USD)','2b. high (USD)','3b. low (USD)','4b. close (USD)'],axis=1)\n",
        "        table_col_order = ['1a. open (USD)','2a. high (USD)','3a. low (USD)','5. volume','6. market cap (USD)','4a. close (USD)']\n",
        "        dataframe = dataframe[table_col_order]\n",
        "        return dataframe\n",
        "\n",
        "    def loss_visualize(self,loss_tensor):\n",
        "        losses = np.array(loss_tensor)\n",
        "        print(losses)\n",
        "\n",
        "        plt.plot(losses)\n",
        "\n",
        "    def validation_test(self,test_dataloader, criterion, model, norm_min, norm_max):\n",
        "        test_loss = 0\n",
        "        accuracy = 0\n",
        "        all_predictions = []\n",
        "        for (examples, labels) in test_dataloader:\n",
        "\n",
        "            if(str(device) == 'cuda'):\n",
        "                examples = examples.to(device)\n",
        "                labels = labels.to(device)\n",
        "\n",
        "            output = model.forward(examples)\n",
        "\n",
        "            un_normed_outputs = self.un_normalize(output, norm_min,norm_max)\n",
        "            all_predictions.append(un_normed_outputs.detach())\n",
        "            #print(\"output --> \", un_normed_outputs)\n",
        "            loss = criterion(output, labels.view(1,1)).item()\n",
        "            test_loss += loss\n",
        "\n",
        "            #ps = torch.exp(output)\n",
        "            #equality = (labels.data == ps.max(dim=1)[1])\n",
        "            #accuracy += equality.type(torch.FloatTensor).mean()\n",
        "\n",
        "            #print('output --> ', un_normed_outputs, ' loss --> ', loss)\n",
        "\n",
        "        return test_loss, accuracy, all_predictions\n",
        "\n",
        "    def un_normalize(self,norm_val,min_val,max_val,typelist=None):\n",
        "        if(typelist):\n",
        "            for idx,item in enumerate(norm_val):\n",
        "                new_val = item * (max_val - min_val) + min_val\n",
        "                norm_val[idx] = new_val\n",
        "            return norm_val\n",
        "        else:\n",
        "            return norm_val * (max_val - min_val) + min_val  \n",
        "\n",
        "    def prediction_visualization(self,minimum_price,maximum_price,close_prices,model_predictions):\n",
        "        plt.close()\n",
        "\n",
        "        test_values = np.array(self.un_normalize(norm_val=close_prices,min_val=minimum_price,max_val=maximum_price,typelist=True))\n",
        "        print(test_values)\n",
        "        #print(np.array(model_predictions.grad))\n",
        "        #model_predictions[0].requires_grad = False\n",
        "        print(model_predictions) ###\n",
        "        print(len(model_predictions))\n",
        "        for idx,item in enumerate(model_predictions):\n",
        "            print('the item is =\\t',item)\n",
        "            print('the size of the item is =\\t', item.shape)\n",
        "            model_predictions[idx] = np.asscalar(item.cpu().numpy())\n",
        "        predicted_values = model_predictions\n",
        "\n",
        "        print(len(test_values))\n",
        "        print(len(predicted_values))\n",
        "\n",
        "        f, ax = plt.subplots()\n",
        "\n",
        "        ax.plot(np.array(test_values),color='#FFA500')\n",
        "        ax.plot(np.array(predicted_values),color='g')\n",
        "        plt.show()\n",
        "        return np.array(test_values),np.array(predicted_values)\n",
        "\n",
        "    def volume_visualization(self,volume):\n",
        "        vol = np.array(volume)\n",
        "        plt.plot(vol)\n",
        "        pass\n",
        "\n",
        "    def VMA_calculation(self,prices=[]):\n",
        "        prices = np.array(prices)\n",
        "\n",
        "        n_prices = []\n",
        "        for idx, p in enumerate(prices):\n",
        "            if(idx + 1 == len(prices)):\n",
        "                break\n",
        "            p1 = prices[idx]\n",
        "            p2 = prices[idx+1]\n",
        "            arr = np.array([p1,p2])#,p3,p4,p5,p6,p7,p8,p9,p10,p11])\n",
        "            n_prices.append(arr)\n",
        "\n",
        "        vmas = []\n",
        "        for arr in n_prices:\n",
        "            sum_vol = arr.sum()\n",
        "            vmas.append(sum_vol/2)\n",
        "\n",
        "        first_ten = vmas[:10]\n",
        "        average_num = np.average(first_ten)\n",
        "        vmas = np.insert(vmas,0,average_num)\n",
        "\n",
        "        #plt.figure(figsize=(20,10))\n",
        "        #plt.plot(np.array(prices))\n",
        "        #plt.plot(np.array(vmas))\n",
        "        return vmas\n",
        "\n",
        "\n",
        "    def vol_dataset_prep(self,vma,volume,original_volume):\n",
        "        \"\"\"VMA - x_train -- volume -- y_train\"\"\"\n",
        "        print(len(vma))\n",
        "        print(len(volume))\n",
        "        print(len(original_volume))\n",
        "\n",
        "    #     vma = torch.tensor(vma)\n",
        "    #     volume = torch.tensor(volume)\n",
        "\n",
        "\n",
        "        #########################\n",
        "        x_train,x_test,y_train,y_test = data_split(volume,volume)\n",
        "\n",
        "        #######################\n",
        "\n",
        "        #x_train,x_test,y_train,y_test = data_split(vma,volume)\n",
        "\n",
        "        train_data = torch.utils.data.TensorDataset(torch.from_numpy(x_train),torch.from_numpy(y_train))\n",
        "        test_data = torch.utils.data.TensorDataset(torch.from_numpy(x_test),torch.from_numpy(y_test))\n",
        "        train_dataloader = torch.utils.data.DataLoader(\n",
        "            dataset=train_data,\n",
        "            batch_size=1,\n",
        "            shuffle=False,\n",
        "            num_workers=0\n",
        "        )\n",
        "        test_dataloader = torch.utils.data.DataLoader(\n",
        "            dataset=test_data,\n",
        "            batch_size=1,\n",
        "            shuffle=False,\n",
        "            num_workers=0\n",
        "        )\n",
        "        return x_train,y_train,x_test,y_test,train_dataloader,test_dataloader\n",
        "\n",
        "    def vol_train(self,model, train_dataloader):\n",
        "        loss_func = torch.nn.MSELoss()\n",
        "        optimizer = torch.optim.Adam(model.parameters(),lr=0.001)\n",
        "\n",
        "        total_loss = 0\n",
        "        losses = []\n",
        "        for epoch in (range(10)):\n",
        "            for i, (examples,labels) in tqdm(enumerate(train_dataloader)):\n",
        "\n",
        "                optimizer.zero_grad()\n",
        "\n",
        "                y_predictions = model(examples.float())\n",
        "                loss = loss_func(y_predictions.float(),labels.float())\n",
        "\n",
        "                total_loss += loss.data\n",
        "\n",
        "                # back-prop to update the weights\n",
        "                loss.backward()\n",
        "                # optimizer steps based on lr\n",
        "                optimizer.step()\n",
        "\n",
        "                y_preds = y_predictions.cpu().detach().numpy()\n",
        "                y_preds = torch.tensor(y_preds)\n",
        "                #print(y_preds.shape)\n",
        "                #print(\"---> \", test)\n",
        "                #break\n",
        "\n",
        "            print ('Epoch [{}/{}], Loss: {}'.format(epoch+1, 100, loss.data))\n",
        "            #print(list(model.parameters()))\n",
        "            print(\"-----------------------------------------------------------------------------\")\n",
        "            losses.append(loss.data)\n",
        "        return model,loss_func,total_loss,losses\n",
        "\n",
        "    def vol_test(self,model,criterion,test_dataloader,min_val,max_val):\n",
        "        test_loss = 0\n",
        "        accuracy = 0\n",
        "        all_predictions = []\n",
        "        for (examples, labels) in test_dataloader:\n",
        "            output = model.forward(examples.float())\n",
        "            un_normed_outputs = self.un_normalize(output, min_val,max_val)\n",
        "            all_predictions.append(un_normed_outputs.detach())\n",
        "            loss = criterion(output, labels.float()).item()\n",
        "            test_loss += loss\n",
        "        return test_loss, accuracy, all_predictions\n",
        "\n",
        "    def vol_prediction_visualization(self,predictions,actual,min_val,max_val):\n",
        "        for idx,item in enumerate(predictions):\n",
        "              predictions[idx] = np.asscalar(item.numpy())\n",
        "        print(predictions)\n",
        "        actual = self.un_normalize(actual,min_val,max_val,typelist=True)\n",
        "        print(actual)\n",
        "        plt.figure(figsize=(20,10))\n",
        "        plt.plot(np.array(actual),color='g')\n",
        "        plt.plot(np.array(predictions),color='#FFA500')"
      ],
      "execution_count": 0,
      "outputs": []
    },
    {
      "cell_type": "code",
      "metadata": {
        "id": "3hMUGeDkcZnZ",
        "colab_type": "code",
        "outputId": "958b6764-3b3b-45e8-947c-9096e122ee8d",
        "colab": {
          "base_uri": "https://localhost:8080/",
          "height": 1000
        }
      },
      "source": [
        "def main():\n",
        "\n",
        "    trainer = Trainer()\n",
        "\n",
        "    # -- Preprocessing -- #\n",
        "    raw_price_data = trainer.fetch_latest_BTC_JSON()\n",
        "    data_df = trainer.parse_alphaV_JSON(raw_data=raw_price_data)\n",
        "    data_df = data_df.iloc[::-1] # Flip data\n",
        "\n",
        "    # Seperating the y-data\n",
        "    prices = np.array(data_df['4a. close (USD)'].tolist())\n",
        "   \n",
        "    # Temporary dataframe for creating an extra normalizer for re-scaling inference values later\n",
        "    data_df_temp = data_df.drop(labels=['1a. open (USD)','1b. open (USD)','2b. high (USD)','3b. low (USD)','4a. close (USD)','4b. close (USD)','6. market cap (USD)'],axis=1) # ,'2a. high (USD)','3a. low (USD)'\n",
        "    minmax_2 = preprocessing.MinMaxScaler()\n",
        "    data_df_temp = pd.DataFrame(minmax_2.fit_transform(data_df_temp), columns=data_df_temp.columns)\n",
        "    \n",
        "    # -- Normalize the Data --\n",
        "    min_max_scaler = preprocessing.MinMaxScaler()\n",
        "    data_df = pd.DataFrame(min_max_scaler.fit_transform(data_df), columns=data_df.columns)\n",
        "    data_df = trainer.table_edit(data_df)\n",
        "    y_train = np.array(data_df['4a. close (USD)'].tolist())\n",
        "    data_df = data_df.drop(labels=['4a. close (USD)'],axis=1)\n",
        "    \n",
        "    data_df = data_df.drop(labels=['1a. open (USD)','6. market cap (USD)'],axis=1)\n",
        "    print('---new---')\n",
        "    print(data_df)\n",
        " \n",
        "    model = TimeRNN(bat_size=config['batch_size'],\n",
        "                    in_features=3,\n",
        "                    h_size=config['lstm_hidden_size'],\n",
        "                    layer_amnt=config['lstm_num_layers']\n",
        "                    ) \n",
        "    #model = TimeCNN()\n",
        "    #model = MLP(3)\n",
        "\n",
        "    losses, test_data_loader, loss_func, model, min_price, max_price, test_prices = trainer.train(model=model, \n",
        "                                                                                                  x_data=data_df.values,\n",
        "                                                                                                  y_data=y_train,\n",
        "                                                                                                  original_prices=prices,\n",
        "                                                                                                  epochs=config['epochs']\n",
        "                                                                                                  )\n",
        "    trainer.loss_visualize(losses)\n",
        "    _, _, all_unnormed_outputs = trainer.validation_test(test_dataloader=test_data_loader,criterion=loss_func, model=model, norm_min=min_price, norm_max=max_price)\n",
        "    \n",
        "    test_values,pred_values = trainer.prediction_visualization(minimum_price=min_price,\n",
        "                                                               maximum_price=max_price,\n",
        "                                                               close_prices=test_prices,\n",
        "                                                               model_predictions=all_unnormed_outputs\n",
        "                                                               )\n",
        "    return minmax_2,model,min_price,max_price,test_values,pred_values\n",
        "\n",
        "min_max_scaler,price_model,min_price,max_price,test_values,pred_values = main()"
      ],
      "execution_count": 60,
      "outputs": [
        {
          "output_type": "stream",
          "text": [
            "30it [00:00, 299.72it/s]"
          ],
          "name": "stderr"
        },
        {
          "output_type": "stream",
          "text": [
            "---new---\n",
            "      2a. high (USD)  3a. low (USD)  5. volume\n",
            "0           0.014211       0.015871   0.065599\n",
            "1           0.014355       0.013845   0.100519\n",
            "2           0.012236       0.012991   0.077509\n",
            "3           0.012484       0.013762   0.040911\n",
            "4           0.012945       0.014617   0.022424\n",
            "5           0.013249       0.014911   0.017252\n",
            "6           0.012887       0.014522   0.029798\n",
            "7           0.012805       0.014599   0.019009\n",
            "8           0.012839       0.014362   0.024194\n",
            "9           0.012070       0.009860   0.140818\n",
            "10          0.011075       0.009354   0.137174\n",
            "11          0.011771       0.012994   0.041614\n",
            "12          0.011221       0.011829   0.049542\n",
            "13          0.013162       0.012539   0.098314\n",
            "14          0.015952       0.015069   0.092624\n",
            "15          0.017025       0.017238   0.092662\n",
            "16          0.016395       0.016630   0.058510\n",
            "17          0.014684       0.015970   0.033406\n",
            "18          0.015022       0.015944   0.031836\n",
            "19          0.015335       0.017046   0.017060\n",
            "20          0.015214       0.017085   0.024600\n",
            "21          0.015527       0.016735   0.019979\n",
            "22          0.014785       0.016675   0.015215\n",
            "23          0.015437       0.016455   0.020052\n",
            "24          0.015295       0.014523   0.087341\n",
            "25          0.013033       0.014837   0.022632\n",
            "26          0.013104       0.014165   0.020683\n",
            "27          0.012035       0.013445   0.047005\n",
            "28          0.012851       0.014013   0.029785\n",
            "29          0.012825       0.014131   0.027454\n",
            "...              ...            ...        ...\n",
            "1920        0.600840       0.587116   0.086402\n",
            "1921        0.569810       0.573142   0.081185\n",
            "1922        0.583661       0.581017   0.061057\n",
            "1923        0.579340       0.588668   0.048619\n",
            "1924        0.618587       0.600718   0.079138\n",
            "1925        0.639539       0.645278   0.097185\n",
            "1926        0.657030       0.619128   0.145848\n",
            "1927        0.604970       0.584006   0.124805\n",
            "1928        0.594753       0.588930   0.069069\n",
            "1929        0.591270       0.572785   0.071339\n",
            "1930        0.570775       0.539536   0.094342\n",
            "1931        0.551091       0.523810   0.110072\n",
            "1932        0.549693       0.495538   0.140342\n",
            "1933        0.495285       0.481139   0.118756\n",
            "1934        0.534817       0.492144   0.123273\n",
            "1935        0.534293       0.537854   0.078462\n",
            "1936        0.550011       0.550673   0.126703\n",
            "1937        0.540438       0.551110   0.078611\n",
            "1938        0.530167       0.534912   0.066031\n",
            "1939        0.514769       0.520250   0.067275\n",
            "1940        0.493587       0.504494   0.071496\n",
            "1941        0.505751       0.515214   0.054223\n",
            "1942        0.493175       0.512645   0.043757\n",
            "1943        0.506331       0.495625   0.071350\n",
            "1944        0.475978       0.484464   0.044569\n",
            "1945        0.481745       0.498239   0.045346\n",
            "1946        0.483358       0.496492   0.045021\n",
            "1947        0.502469       0.505938   0.060053\n",
            "1948        0.520718       0.522996   0.061515\n",
            "1949        0.531430       0.547518   0.061544\n",
            "\n",
            "[1950 rows x 3 columns]\n",
            "----Dataset Prep----\n",
            "-- Model Architecture --\n",
            "TimeRNN(\n",
            "  (lstm1): LSTM(3, 1, batch_first=True)\n",
            "  (fc1): Linear(in_features=1, out_features=1, bias=True)\n",
            ")\n",
            "Sending model to Tesla K80  GPU\n"
          ],
          "name": "stdout"
        },
        {
          "output_type": "stream",
          "text": [
            "1560it [00:05, 303.37it/s]\n",
            "32it [00:00, 311.15it/s]"
          ],
          "name": "stderr"
        },
        {
          "output_type": "stream",
          "text": [
            "Epoch [1/100], Loss: 4.497082773013972e-05\n",
            "-----------------------------------------------------------------------------\n"
          ],
          "name": "stdout"
        },
        {
          "output_type": "stream",
          "text": [
            "1560it [00:05, 307.09it/s]\n",
            "32it [00:00, 314.97it/s]"
          ],
          "name": "stderr"
        },
        {
          "output_type": "stream",
          "text": [
            "Epoch [2/100], Loss: 0.00010705997556215152\n",
            "-----------------------------------------------------------------------------\n"
          ],
          "name": "stdout"
        },
        {
          "output_type": "stream",
          "text": [
            "1560it [00:05, 306.59it/s]\n",
            "32it [00:00, 315.87it/s]"
          ],
          "name": "stderr"
        },
        {
          "output_type": "stream",
          "text": [
            "Epoch [3/100], Loss: 3.773210119106807e-05\n",
            "-----------------------------------------------------------------------------\n"
          ],
          "name": "stdout"
        },
        {
          "output_type": "stream",
          "text": [
            "1560it [00:05, 305.92it/s]\n",
            "32it [00:00, 314.26it/s]"
          ],
          "name": "stderr"
        },
        {
          "output_type": "stream",
          "text": [
            "Epoch [4/100], Loss: 1.0202218163612997e-06\n",
            "-----------------------------------------------------------------------------\n"
          ],
          "name": "stdout"
        },
        {
          "output_type": "stream",
          "text": [
            "1560it [00:05, 302.03it/s]\n",
            "30it [00:00, 294.55it/s]"
          ],
          "name": "stderr"
        },
        {
          "output_type": "stream",
          "text": [
            "Epoch [5/100], Loss: 1.0750281035143416e-05\n",
            "-----------------------------------------------------------------------------\n"
          ],
          "name": "stdout"
        },
        {
          "output_type": "stream",
          "text": [
            "1560it [00:05, 289.56it/s]\n",
            "30it [00:00, 292.04it/s]"
          ],
          "name": "stderr"
        },
        {
          "output_type": "stream",
          "text": [
            "Epoch [6/100], Loss: 3.1964427762432024e-05\n",
            "-----------------------------------------------------------------------------\n"
          ],
          "name": "stdout"
        },
        {
          "output_type": "stream",
          "text": [
            "1560it [00:05, 294.42it/s]\n",
            "30it [00:00, 299.20it/s]"
          ],
          "name": "stderr"
        },
        {
          "output_type": "stream",
          "text": [
            "Epoch [7/100], Loss: 3.719617234310135e-05\n",
            "-----------------------------------------------------------------------------\n"
          ],
          "name": "stdout"
        },
        {
          "output_type": "stream",
          "text": [
            "1560it [00:05, 307.79it/s]\n",
            "31it [00:00, 308.66it/s]"
          ],
          "name": "stderr"
        },
        {
          "output_type": "stream",
          "text": [
            "Epoch [8/100], Loss: 2.6767305826069787e-05\n",
            "-----------------------------------------------------------------------------\n"
          ],
          "name": "stdout"
        },
        {
          "output_type": "stream",
          "text": [
            "1560it [00:05, 306.11it/s]\n",
            "31it [00:00, 307.66it/s]"
          ],
          "name": "stderr"
        },
        {
          "output_type": "stream",
          "text": [
            "Epoch [9/100], Loss: 1.3025538464717101e-05\n",
            "-----------------------------------------------------------------------------\n"
          ],
          "name": "stdout"
        },
        {
          "output_type": "stream",
          "text": [
            "1560it [00:05, 308.02it/s]\n",
            "32it [00:00, 314.89it/s]"
          ],
          "name": "stderr"
        },
        {
          "output_type": "stream",
          "text": [
            "Epoch [10/100], Loss: 3.564120106602786e-06\n",
            "-----------------------------------------------------------------------------\n"
          ],
          "name": "stdout"
        },
        {
          "output_type": "stream",
          "text": [
            "1560it [00:05, 308.99it/s]\n",
            "32it [00:00, 313.91it/s]"
          ],
          "name": "stderr"
        },
        {
          "output_type": "stream",
          "text": [
            "Epoch [11/100], Loss: 9.708413983844366e-08\n",
            "-----------------------------------------------------------------------------\n"
          ],
          "name": "stdout"
        },
        {
          "output_type": "stream",
          "text": [
            "1560it [00:05, 311.54it/s]\n",
            "32it [00:00, 316.17it/s]"
          ],
          "name": "stderr"
        },
        {
          "output_type": "stream",
          "text": [
            "Epoch [12/100], Loss: 9.100063493860944e-07\n",
            "-----------------------------------------------------------------------------\n"
          ],
          "name": "stdout"
        },
        {
          "output_type": "stream",
          "text": [
            "1560it [00:05, 309.76it/s]\n",
            "33it [00:00, 322.69it/s]"
          ],
          "name": "stderr"
        },
        {
          "output_type": "stream",
          "text": [
            "Epoch [13/100], Loss: 3.5254040540166898e-06\n",
            "-----------------------------------------------------------------------------\n"
          ],
          "name": "stdout"
        },
        {
          "output_type": "stream",
          "text": [
            "1560it [00:04, 312.45it/s]\n",
            "29it [00:00, 280.16it/s]"
          ],
          "name": "stderr"
        },
        {
          "output_type": "stream",
          "text": [
            "Epoch [14/100], Loss: 6.336113528959686e-06\n",
            "-----------------------------------------------------------------------------\n"
          ],
          "name": "stdout"
        },
        {
          "output_type": "stream",
          "text": [
            "1560it [00:05, 309.73it/s]\n",
            "32it [00:00, 319.97it/s]"
          ],
          "name": "stderr"
        },
        {
          "output_type": "stream",
          "text": [
            "Epoch [15/100], Loss: 8.745355444261804e-06\n",
            "-----------------------------------------------------------------------------\n"
          ],
          "name": "stdout"
        },
        {
          "output_type": "stream",
          "text": [
            "1560it [00:05, 308.05it/s]\n",
            "32it [00:00, 310.47it/s]"
          ],
          "name": "stderr"
        },
        {
          "output_type": "stream",
          "text": [
            "Epoch [16/100], Loss: 1.065804190147901e-05\n",
            "-----------------------------------------------------------------------------\n"
          ],
          "name": "stdout"
        },
        {
          "output_type": "stream",
          "text": [
            "1560it [00:05, 309.82it/s]\n",
            "31it [00:00, 308.67it/s]"
          ],
          "name": "stderr"
        },
        {
          "output_type": "stream",
          "text": [
            "Epoch [17/100], Loss: 1.2141237675677985e-05\n",
            "-----------------------------------------------------------------------------\n"
          ],
          "name": "stdout"
        },
        {
          "output_type": "stream",
          "text": [
            "1560it [00:05, 308.17it/s]\n",
            "31it [00:00, 307.59it/s]"
          ],
          "name": "stderr"
        },
        {
          "output_type": "stream",
          "text": [
            "Epoch [18/100], Loss: 1.3287349247548264e-05\n",
            "-----------------------------------------------------------------------------\n"
          ],
          "name": "stdout"
        },
        {
          "output_type": "stream",
          "text": [
            "1560it [00:05, 307.00it/s]\n",
            "32it [00:00, 313.18it/s]"
          ],
          "name": "stderr"
        },
        {
          "output_type": "stream",
          "text": [
            "Epoch [19/100], Loss: 1.4169517271511722e-05\n",
            "-----------------------------------------------------------------------------\n"
          ],
          "name": "stdout"
        },
        {
          "output_type": "stream",
          "text": [
            "1560it [00:05, 306.83it/s]\n",
            "30it [00:00, 291.82it/s]"
          ],
          "name": "stderr"
        },
        {
          "output_type": "stream",
          "text": [
            "Epoch [20/100], Loss: 1.4845327314105816e-05\n",
            "-----------------------------------------------------------------------------\n"
          ],
          "name": "stdout"
        },
        {
          "output_type": "stream",
          "text": [
            "1560it [00:05, 293.54it/s]\n",
            "33it [00:00, 326.41it/s]"
          ],
          "name": "stderr"
        },
        {
          "output_type": "stream",
          "text": [
            "Epoch [21/100], Loss: 1.535626688564662e-05\n",
            "-----------------------------------------------------------------------------\n"
          ],
          "name": "stdout"
        },
        {
          "output_type": "stream",
          "text": [
            "1560it [00:05, 308.97it/s]\n",
            "32it [00:00, 310.26it/s]"
          ],
          "name": "stderr"
        },
        {
          "output_type": "stream",
          "text": [
            "Epoch [22/100], Loss: 1.5734149201307446e-05\n",
            "-----------------------------------------------------------------------------\n"
          ],
          "name": "stdout"
        },
        {
          "output_type": "stream",
          "text": [
            "1560it [00:05, 308.88it/s]\n",
            "33it [00:00, 327.12it/s]"
          ],
          "name": "stderr"
        },
        {
          "output_type": "stream",
          "text": [
            "Epoch [23/100], Loss: 1.6006264559109695e-05\n",
            "-----------------------------------------------------------------------------\n"
          ],
          "name": "stdout"
        },
        {
          "output_type": "stream",
          "text": [
            "1560it [00:05, 309.70it/s]\n",
            "32it [00:00, 317.73it/s]"
          ],
          "name": "stderr"
        },
        {
          "output_type": "stream",
          "text": [
            "Epoch [24/100], Loss: 1.6188731024158187e-05\n",
            "-----------------------------------------------------------------------------\n"
          ],
          "name": "stdout"
        },
        {
          "output_type": "stream",
          "text": [
            "1560it [00:05, 308.76it/s]\n",
            "32it [00:00, 318.28it/s]"
          ],
          "name": "stderr"
        },
        {
          "output_type": "stream",
          "text": [
            "Epoch [25/100], Loss: 1.6302845324389637e-05\n",
            "-----------------------------------------------------------------------------\n"
          ],
          "name": "stdout"
        },
        {
          "output_type": "stream",
          "text": [
            "1560it [00:05, 308.59it/s]\n",
            "31it [00:00, 309.84it/s]"
          ],
          "name": "stderr"
        },
        {
          "output_type": "stream",
          "text": [
            "Epoch [26/100], Loss: 1.635896842344664e-05\n",
            "-----------------------------------------------------------------------------\n"
          ],
          "name": "stdout"
        },
        {
          "output_type": "stream",
          "text": [
            "1560it [00:05, 310.06it/s]\n",
            "32it [00:00, 313.23it/s]"
          ],
          "name": "stderr"
        },
        {
          "output_type": "stream",
          "text": [
            "Epoch [27/100], Loss: 1.63681306730723e-05\n",
            "-----------------------------------------------------------------------------\n"
          ],
          "name": "stdout"
        },
        {
          "output_type": "stream",
          "text": [
            "1560it [00:05, 311.15it/s]\n",
            "29it [00:00, 285.72it/s]"
          ],
          "name": "stderr"
        },
        {
          "output_type": "stream",
          "text": [
            "Epoch [28/100], Loss: 1.6338000932591967e-05\n",
            "-----------------------------------------------------------------------------\n"
          ],
          "name": "stdout"
        },
        {
          "output_type": "stream",
          "text": [
            "1560it [00:05, 310.11it/s]\n",
            "32it [00:00, 316.58it/s]"
          ],
          "name": "stderr"
        },
        {
          "output_type": "stream",
          "text": [
            "Epoch [29/100], Loss: 1.6278067050734535e-05\n",
            "-----------------------------------------------------------------------------\n"
          ],
          "name": "stdout"
        },
        {
          "output_type": "stream",
          "text": [
            "1560it [00:04, 312.69it/s]\n",
            "33it [00:00, 323.29it/s]"
          ],
          "name": "stderr"
        },
        {
          "output_type": "stream",
          "text": [
            "Epoch [30/100], Loss: 1.6190888345590793e-05\n",
            "-----------------------------------------------------------------------------\n"
          ],
          "name": "stdout"
        },
        {
          "output_type": "stream",
          "text": [
            "1560it [00:05, 309.30it/s]\n",
            "30it [00:00, 294.76it/s]"
          ],
          "name": "stderr"
        },
        {
          "output_type": "stream",
          "text": [
            "Epoch [31/100], Loss: 1.6084337403299287e-05\n",
            "-----------------------------------------------------------------------------\n"
          ],
          "name": "stdout"
        },
        {
          "output_type": "stream",
          "text": [
            "1560it [00:04, 312.53it/s]\n",
            "31it [00:00, 308.19it/s]"
          ],
          "name": "stderr"
        },
        {
          "output_type": "stream",
          "text": [
            "Epoch [32/100], Loss: 1.5958607036736794e-05\n",
            "-----------------------------------------------------------------------------\n"
          ],
          "name": "stdout"
        },
        {
          "output_type": "stream",
          "text": [
            "1560it [00:04, 312.10it/s]\n",
            "33it [00:00, 322.89it/s]"
          ],
          "name": "stderr"
        },
        {
          "output_type": "stream",
          "text": [
            "Epoch [33/100], Loss: 1.5816771337995306e-05\n",
            "-----------------------------------------------------------------------------\n"
          ],
          "name": "stdout"
        },
        {
          "output_type": "stream",
          "text": [
            "1560it [00:04, 313.02it/s]\n",
            "32it [00:00, 318.97it/s]"
          ],
          "name": "stderr"
        },
        {
          "output_type": "stream",
          "text": [
            "Epoch [34/100], Loss: 1.5664008969906718e-05\n",
            "-----------------------------------------------------------------------------\n"
          ],
          "name": "stdout"
        },
        {
          "output_type": "stream",
          "text": [
            "1560it [00:04, 312.69it/s]\n",
            "32it [00:00, 318.89it/s]"
          ],
          "name": "stderr"
        },
        {
          "output_type": "stream",
          "text": [
            "Epoch [35/100], Loss: 1.5500250810873695e-05\n",
            "-----------------------------------------------------------------------------\n"
          ],
          "name": "stdout"
        },
        {
          "output_type": "stream",
          "text": [
            "1560it [00:04, 312.46it/s]\n",
            "30it [00:00, 296.72it/s]"
          ],
          "name": "stderr"
        },
        {
          "output_type": "stream",
          "text": [
            "Epoch [36/100], Loss: 1.532685200800188e-05\n",
            "-----------------------------------------------------------------------------\n"
          ],
          "name": "stdout"
        },
        {
          "output_type": "stream",
          "text": [
            "1560it [00:05, 311.87it/s]\n",
            "32it [00:00, 319.81it/s]"
          ],
          "name": "stderr"
        },
        {
          "output_type": "stream",
          "text": [
            "Epoch [37/100], Loss: 1.5144914868869819e-05\n",
            "-----------------------------------------------------------------------------\n"
          ],
          "name": "stdout"
        },
        {
          "output_type": "stream",
          "text": [
            "1560it [00:04, 313.63it/s]\n",
            "32it [00:00, 318.28it/s]"
          ],
          "name": "stderr"
        },
        {
          "output_type": "stream",
          "text": [
            "Epoch [38/100], Loss: 1.4954614016460255e-05\n",
            "-----------------------------------------------------------------------------\n"
          ],
          "name": "stdout"
        },
        {
          "output_type": "stream",
          "text": [
            "1560it [00:05, 312.00it/s]\n",
            "33it [00:00, 326.43it/s]"
          ],
          "name": "stderr"
        },
        {
          "output_type": "stream",
          "text": [
            "Epoch [39/100], Loss: 1.4758416000404395e-05\n",
            "-----------------------------------------------------------------------------\n"
          ],
          "name": "stdout"
        },
        {
          "output_type": "stream",
          "text": [
            "1560it [00:04, 312.11it/s]\n",
            "32it [00:00, 319.00it/s]"
          ],
          "name": "stderr"
        },
        {
          "output_type": "stream",
          "text": [
            "Epoch [40/100], Loss: 1.4556462701875716e-05\n",
            "-----------------------------------------------------------------------------\n"
          ],
          "name": "stdout"
        },
        {
          "output_type": "stream",
          "text": [
            "1560it [00:04, 312.66it/s]\n",
            "33it [00:00, 323.70it/s]"
          ],
          "name": "stderr"
        },
        {
          "output_type": "stream",
          "text": [
            "Epoch [41/100], Loss: 1.4347320757224225e-05\n",
            "-----------------------------------------------------------------------------\n"
          ],
          "name": "stdout"
        },
        {
          "output_type": "stream",
          "text": [
            "1560it [00:05, 310.15it/s]\n",
            "31it [00:00, 308.45it/s]"
          ],
          "name": "stderr"
        },
        {
          "output_type": "stream",
          "text": [
            "Epoch [42/100], Loss: 1.4134761840978172e-05\n",
            "-----------------------------------------------------------------------------\n"
          ],
          "name": "stdout"
        },
        {
          "output_type": "stream",
          "text": [
            "1560it [00:04, 312.22it/s]\n",
            "30it [00:00, 299.85it/s]"
          ],
          "name": "stderr"
        },
        {
          "output_type": "stream",
          "text": [
            "Epoch [43/100], Loss: 1.3917117939854506e-05\n",
            "-----------------------------------------------------------------------------\n"
          ],
          "name": "stdout"
        },
        {
          "output_type": "stream",
          "text": [
            "1560it [00:05, 311.57it/s]\n",
            "32it [00:00, 319.81it/s]"
          ],
          "name": "stderr"
        },
        {
          "output_type": "stream",
          "text": [
            "Epoch [44/100], Loss: 1.36965290948865e-05\n",
            "-----------------------------------------------------------------------------\n"
          ],
          "name": "stdout"
        },
        {
          "output_type": "stream",
          "text": [
            "1560it [00:05, 311.39it/s]\n",
            "33it [00:00, 321.69it/s]"
          ],
          "name": "stderr"
        },
        {
          "output_type": "stream",
          "text": [
            "Epoch [45/100], Loss: 1.3471576494339388e-05\n",
            "-----------------------------------------------------------------------------\n"
          ],
          "name": "stdout"
        },
        {
          "output_type": "stream",
          "text": [
            "1560it [00:04, 312.00it/s]\n",
            "33it [00:00, 324.28it/s]"
          ],
          "name": "stderr"
        },
        {
          "output_type": "stream",
          "text": [
            "Epoch [46/100], Loss: 1.3245883565105032e-05\n",
            "-----------------------------------------------------------------------------\n"
          ],
          "name": "stdout"
        },
        {
          "output_type": "stream",
          "text": [
            "1560it [00:05, 309.01it/s]\n",
            "32it [00:00, 313.76it/s]"
          ],
          "name": "stderr"
        },
        {
          "output_type": "stream",
          "text": [
            "Epoch [47/100], Loss: 1.30143544083694e-05\n",
            "-----------------------------------------------------------------------------\n"
          ],
          "name": "stdout"
        },
        {
          "output_type": "stream",
          "text": [
            "1560it [00:05, 310.87it/s]\n",
            "32it [00:00, 315.95it/s]"
          ],
          "name": "stderr"
        },
        {
          "output_type": "stream",
          "text": [
            "Epoch [48/100], Loss: 1.2782736121152993e-05\n",
            "-----------------------------------------------------------------------------\n"
          ],
          "name": "stdout"
        },
        {
          "output_type": "stream",
          "text": [
            "1560it [00:05, 309.25it/s]\n",
            "32it [00:00, 319.24it/s]"
          ],
          "name": "stderr"
        },
        {
          "output_type": "stream",
          "text": [
            "Epoch [49/100], Loss: 1.2550029168778565e-05\n",
            "-----------------------------------------------------------------------------\n"
          ],
          "name": "stdout"
        },
        {
          "output_type": "stream",
          "text": [
            "1560it [00:05, 311.95it/s]\n",
            "33it [00:00, 316.56it/s]"
          ],
          "name": "stderr"
        },
        {
          "output_type": "stream",
          "text": [
            "Epoch [50/100], Loss: 1.2316741049289703e-05\n",
            "-----------------------------------------------------------------------------\n"
          ],
          "name": "stdout"
        },
        {
          "output_type": "stream",
          "text": [
            "1560it [00:04, 313.31it/s]\n",
            "33it [00:00, 320.74it/s]"
          ],
          "name": "stderr"
        },
        {
          "output_type": "stream",
          "text": [
            "Epoch [51/100], Loss: 1.2082740795449354e-05\n",
            "-----------------------------------------------------------------------------\n"
          ],
          "name": "stdout"
        },
        {
          "output_type": "stream",
          "text": [
            "1560it [00:05, 310.52it/s]\n",
            "30it [00:00, 295.56it/s]"
          ],
          "name": "stderr"
        },
        {
          "output_type": "stream",
          "text": [
            "Epoch [52/100], Loss: 1.1848726899188478e-05\n",
            "-----------------------------------------------------------------------------\n"
          ],
          "name": "stdout"
        },
        {
          "output_type": "stream",
          "text": [
            "1560it [00:04, 313.13it/s]\n",
            "33it [00:00, 324.43it/s]"
          ],
          "name": "stderr"
        },
        {
          "output_type": "stream",
          "text": [
            "Epoch [53/100], Loss: 1.1613143215072341e-05\n",
            "-----------------------------------------------------------------------------\n"
          ],
          "name": "stdout"
        },
        {
          "output_type": "stream",
          "text": [
            "1560it [00:05, 310.59it/s]\n",
            "32it [00:00, 318.81it/s]"
          ],
          "name": "stderr"
        },
        {
          "output_type": "stream",
          "text": [
            "Epoch [54/100], Loss: 1.1382337106624618e-05\n",
            "-----------------------------------------------------------------------------\n"
          ],
          "name": "stdout"
        },
        {
          "output_type": "stream",
          "text": [
            "1560it [00:05, 311.54it/s]\n",
            "33it [00:00, 318.62it/s]"
          ],
          "name": "stderr"
        },
        {
          "output_type": "stream",
          "text": [
            "Epoch [55/100], Loss: 1.115086161007639e-05\n",
            "-----------------------------------------------------------------------------\n"
          ],
          "name": "stdout"
        },
        {
          "output_type": "stream",
          "text": [
            "1560it [00:05, 311.73it/s]\n",
            "32it [00:00, 319.18it/s]"
          ],
          "name": "stderr"
        },
        {
          "output_type": "stream",
          "text": [
            "Epoch [56/100], Loss: 1.0921961802523583e-05\n",
            "-----------------------------------------------------------------------------\n"
          ],
          "name": "stdout"
        },
        {
          "output_type": "stream",
          "text": [
            "1560it [00:04, 313.26it/s]\n",
            "33it [00:00, 324.42it/s]"
          ],
          "name": "stderr"
        },
        {
          "output_type": "stream",
          "text": [
            "Epoch [57/100], Loss: 1.0695630408008583e-05\n",
            "-----------------------------------------------------------------------------\n"
          ],
          "name": "stdout"
        },
        {
          "output_type": "stream",
          "text": [
            "1560it [00:04, 313.70it/s]\n",
            "33it [00:00, 321.44it/s]"
          ],
          "name": "stderr"
        },
        {
          "output_type": "stream",
          "text": [
            "Epoch [58/100], Loss: 1.0471475434314925e-05\n",
            "-----------------------------------------------------------------------------\n"
          ],
          "name": "stdout"
        },
        {
          "output_type": "stream",
          "text": [
            "1560it [00:04, 315.63it/s]\n",
            "29it [00:00, 286.73it/s]"
          ],
          "name": "stderr"
        },
        {
          "output_type": "stream",
          "text": [
            "Epoch [59/100], Loss: 1.025007622956764e-05\n",
            "-----------------------------------------------------------------------------\n"
          ],
          "name": "stdout"
        },
        {
          "output_type": "stream",
          "text": [
            "1560it [00:05, 311.17it/s]\n",
            "33it [00:00, 321.21it/s]"
          ],
          "name": "stderr"
        },
        {
          "output_type": "stream",
          "text": [
            "Epoch [60/100], Loss: 1.0034063961938955e-05\n",
            "-----------------------------------------------------------------------------\n"
          ],
          "name": "stdout"
        },
        {
          "output_type": "stream",
          "text": [
            "1560it [00:04, 313.56it/s]\n",
            "32it [00:00, 319.10it/s]"
          ],
          "name": "stderr"
        },
        {
          "output_type": "stream",
          "text": [
            "Epoch [61/100], Loss: 9.819791557674762e-06\n",
            "-----------------------------------------------------------------------------\n"
          ],
          "name": "stdout"
        },
        {
          "output_type": "stream",
          "text": [
            "1560it [00:04, 313.22it/s]\n",
            "33it [00:00, 320.75it/s]"
          ],
          "name": "stderr"
        },
        {
          "output_type": "stream",
          "text": [
            "Epoch [62/100], Loss: 9.610233064449858e-06\n",
            "-----------------------------------------------------------------------------\n"
          ],
          "name": "stdout"
        },
        {
          "output_type": "stream",
          "text": [
            "1560it [00:04, 313.52it/s]\n",
            "33it [00:00, 324.75it/s]"
          ],
          "name": "stderr"
        },
        {
          "output_type": "stream",
          "text": [
            "Epoch [63/100], Loss: 9.404579941474367e-06\n",
            "-----------------------------------------------------------------------------\n"
          ],
          "name": "stdout"
        },
        {
          "output_type": "stream",
          "text": [
            "1560it [00:04, 312.40it/s]\n",
            "31it [00:00, 306.74it/s]"
          ],
          "name": "stderr"
        },
        {
          "output_type": "stream",
          "text": [
            "Epoch [64/100], Loss: 9.204044545185752e-06\n",
            "-----------------------------------------------------------------------------\n"
          ],
          "name": "stdout"
        },
        {
          "output_type": "stream",
          "text": [
            "1560it [00:04, 314.68it/s]\n",
            "32it [00:00, 316.73it/s]"
          ],
          "name": "stderr"
        },
        {
          "output_type": "stream",
          "text": [
            "Epoch [65/100], Loss: 9.006922482512891e-06\n",
            "-----------------------------------------------------------------------------\n"
          ],
          "name": "stdout"
        },
        {
          "output_type": "stream",
          "text": [
            "1560it [00:04, 312.98it/s]\n",
            "30it [00:00, 297.79it/s]"
          ],
          "name": "stderr"
        },
        {
          "output_type": "stream",
          "text": [
            "Epoch [66/100], Loss: 8.814587999950163e-06\n",
            "-----------------------------------------------------------------------------\n"
          ],
          "name": "stdout"
        },
        {
          "output_type": "stream",
          "text": [
            "1560it [00:05, 304.81it/s]\n",
            "29it [00:00, 280.61it/s]"
          ],
          "name": "stderr"
        },
        {
          "output_type": "stream",
          "text": [
            "Epoch [67/100], Loss: 8.627830538898706e-06\n",
            "-----------------------------------------------------------------------------\n"
          ],
          "name": "stdout"
        },
        {
          "output_type": "stream",
          "text": [
            "1560it [00:05, 298.95it/s]\n",
            "30it [00:00, 291.51it/s]"
          ],
          "name": "stderr"
        },
        {
          "output_type": "stream",
          "text": [
            "Epoch [68/100], Loss: 8.44584428705275e-06\n",
            "-----------------------------------------------------------------------------\n"
          ],
          "name": "stdout"
        },
        {
          "output_type": "stream",
          "text": [
            "1560it [00:05, 307.77it/s]\n",
            "29it [00:00, 289.76it/s]"
          ],
          "name": "stderr"
        },
        {
          "output_type": "stream",
          "text": [
            "Epoch [69/100], Loss: 8.268711098935455e-06\n",
            "-----------------------------------------------------------------------------\n"
          ],
          "name": "stdout"
        },
        {
          "output_type": "stream",
          "text": [
            "1560it [00:04, 315.41it/s]\n",
            "29it [00:00, 289.69it/s]"
          ],
          "name": "stderr"
        },
        {
          "output_type": "stream",
          "text": [
            "Epoch [70/100], Loss: 8.094981239992194e-06\n",
            "-----------------------------------------------------------------------------\n"
          ],
          "name": "stdout"
        },
        {
          "output_type": "stream",
          "text": [
            "1560it [00:04, 320.06it/s]\n",
            "33it [00:00, 322.00it/s]"
          ],
          "name": "stderr"
        },
        {
          "output_type": "stream",
          "text": [
            "Epoch [71/100], Loss: 7.928130798973143e-06\n",
            "-----------------------------------------------------------------------------\n"
          ],
          "name": "stdout"
        },
        {
          "output_type": "stream",
          "text": [
            "1560it [00:04, 313.27it/s]\n",
            "33it [00:00, 325.81it/s]"
          ],
          "name": "stderr"
        },
        {
          "output_type": "stream",
          "text": [
            "Epoch [72/100], Loss: 7.764843758195639e-06\n",
            "-----------------------------------------------------------------------------\n"
          ],
          "name": "stdout"
        },
        {
          "output_type": "stream",
          "text": [
            "1560it [00:04, 312.71it/s]\n",
            "32it [00:00, 313.84it/s]"
          ],
          "name": "stderr"
        },
        {
          "output_type": "stream",
          "text": [
            "Epoch [73/100], Loss: 7.607694442413049e-06\n",
            "-----------------------------------------------------------------------------\n"
          ],
          "name": "stdout"
        },
        {
          "output_type": "stream",
          "text": [
            "1560it [00:04, 314.47it/s]\n",
            "31it [00:00, 308.24it/s]"
          ],
          "name": "stderr"
        },
        {
          "output_type": "stream",
          "text": [
            "Epoch [74/100], Loss: 7.455569175363053e-06\n",
            "-----------------------------------------------------------------------------\n"
          ],
          "name": "stdout"
        },
        {
          "output_type": "stream",
          "text": [
            "1560it [00:04, 312.55it/s]\n",
            "29it [00:00, 284.57it/s]"
          ],
          "name": "stderr"
        },
        {
          "output_type": "stream",
          "text": [
            "Epoch [75/100], Loss: 7.307557552849175e-06\n",
            "-----------------------------------------------------------------------------\n"
          ],
          "name": "stdout"
        },
        {
          "output_type": "stream",
          "text": [
            "1560it [00:04, 312.26it/s]\n",
            "32it [00:00, 314.72it/s]"
          ],
          "name": "stderr"
        },
        {
          "output_type": "stream",
          "text": [
            "Epoch [76/100], Loss: 7.164380349422572e-06\n",
            "-----------------------------------------------------------------------------\n"
          ],
          "name": "stdout"
        },
        {
          "output_type": "stream",
          "text": [
            "1560it [00:04, 312.46it/s]\n",
            "32it [00:00, 319.54it/s]"
          ],
          "name": "stderr"
        },
        {
          "output_type": "stream",
          "text": [
            "Epoch [77/100], Loss: 7.0257788138405886e-06\n",
            "-----------------------------------------------------------------------------\n"
          ],
          "name": "stdout"
        },
        {
          "output_type": "stream",
          "text": [
            "1560it [00:04, 313.82it/s]\n",
            "33it [00:00, 324.10it/s]"
          ],
          "name": "stderr"
        },
        {
          "output_type": "stream",
          "text": [
            "Epoch [78/100], Loss: 6.8922859099984635e-06\n",
            "-----------------------------------------------------------------------------\n"
          ],
          "name": "stdout"
        },
        {
          "output_type": "stream",
          "text": [
            "1560it [00:04, 313.92it/s]\n",
            "33it [00:00, 322.36it/s]"
          ],
          "name": "stderr"
        },
        {
          "output_type": "stream",
          "text": [
            "Epoch [79/100], Loss: 6.76332865623408e-06\n",
            "-----------------------------------------------------------------------------\n"
          ],
          "name": "stdout"
        },
        {
          "output_type": "stream",
          "text": [
            "1560it [00:04, 316.00it/s]\n",
            "33it [00:00, 323.88it/s]"
          ],
          "name": "stderr"
        },
        {
          "output_type": "stream",
          "text": [
            "Epoch [80/100], Loss: 6.638660124735907e-06\n",
            "-----------------------------------------------------------------------------\n"
          ],
          "name": "stdout"
        },
        {
          "output_type": "stream",
          "text": [
            "1560it [00:05, 311.83it/s]\n",
            "30it [00:00, 293.12it/s]"
          ],
          "name": "stderr"
        },
        {
          "output_type": "stream",
          "text": [
            "Epoch [81/100], Loss: 6.518194823001977e-06\n",
            "-----------------------------------------------------------------------------\n"
          ],
          "name": "stdout"
        },
        {
          "output_type": "stream",
          "text": [
            "1560it [00:05, 305.12it/s]\n",
            "29it [00:00, 284.50it/s]"
          ],
          "name": "stderr"
        },
        {
          "output_type": "stream",
          "text": [
            "Epoch [82/100], Loss: 6.403205588867422e-06\n",
            "-----------------------------------------------------------------------------\n"
          ],
          "name": "stdout"
        },
        {
          "output_type": "stream",
          "text": [
            "1560it [00:04, 314.35it/s]\n",
            "33it [00:00, 320.57it/s]"
          ],
          "name": "stderr"
        },
        {
          "output_type": "stream",
          "text": [
            "Epoch [83/100], Loss: 6.29222950010444e-06\n",
            "-----------------------------------------------------------------------------\n"
          ],
          "name": "stdout"
        },
        {
          "output_type": "stream",
          "text": [
            "1560it [00:04, 315.55it/s]\n",
            "32it [00:00, 314.44it/s]"
          ],
          "name": "stderr"
        },
        {
          "output_type": "stream",
          "text": [
            "Epoch [84/100], Loss: 6.185039637784939e-06\n",
            "-----------------------------------------------------------------------------\n"
          ],
          "name": "stdout"
        },
        {
          "output_type": "stream",
          "text": [
            "1560it [00:04, 313.10it/s]\n",
            "33it [00:00, 326.96it/s]"
          ],
          "name": "stderr"
        },
        {
          "output_type": "stream",
          "text": [
            "Epoch [85/100], Loss: 6.081710125727113e-06\n",
            "-----------------------------------------------------------------------------\n"
          ],
          "name": "stdout"
        },
        {
          "output_type": "stream",
          "text": [
            "1560it [00:04, 316.25it/s]\n",
            "32it [00:00, 317.81it/s]"
          ],
          "name": "stderr"
        },
        {
          "output_type": "stream",
          "text": [
            "Epoch [86/100], Loss: 5.983332812320441e-06\n",
            "-----------------------------------------------------------------------------\n"
          ],
          "name": "stdout"
        },
        {
          "output_type": "stream",
          "text": [
            "1560it [00:04, 313.91it/s]\n",
            "32it [00:00, 318.24it/s]"
          ],
          "name": "stderr"
        },
        {
          "output_type": "stream",
          "text": [
            "Epoch [87/100], Loss: 5.887492989131715e-06\n",
            "-----------------------------------------------------------------------------\n"
          ],
          "name": "stdout"
        },
        {
          "output_type": "stream",
          "text": [
            "1560it [00:04, 313.70it/s]\n",
            "28it [00:00, 276.48it/s]"
          ],
          "name": "stderr"
        },
        {
          "output_type": "stream",
          "text": [
            "Epoch [88/100], Loss: 5.797161975351628e-06\n",
            "-----------------------------------------------------------------------------\n"
          ],
          "name": "stdout"
        },
        {
          "output_type": "stream",
          "text": [
            "1560it [00:04, 313.24it/s]\n",
            "32it [00:00, 315.91it/s]"
          ],
          "name": "stderr"
        },
        {
          "output_type": "stream",
          "text": [
            "Epoch [89/100], Loss: 5.7085258049482945e-06\n",
            "-----------------------------------------------------------------------------\n"
          ],
          "name": "stdout"
        },
        {
          "output_type": "stream",
          "text": [
            "1560it [00:04, 314.58it/s]\n",
            "33it [00:00, 323.11it/s]"
          ],
          "name": "stderr"
        },
        {
          "output_type": "stream",
          "text": [
            "Epoch [90/100], Loss: 5.624671757686883e-06\n",
            "-----------------------------------------------------------------------------\n"
          ],
          "name": "stdout"
        },
        {
          "output_type": "stream",
          "text": [
            "1560it [00:05, 311.07it/s]\n",
            "33it [00:00, 327.42it/s]"
          ],
          "name": "stderr"
        },
        {
          "output_type": "stream",
          "text": [
            "Epoch [91/100], Loss: 5.542700364458142e-06\n",
            "-----------------------------------------------------------------------------\n"
          ],
          "name": "stdout"
        },
        {
          "output_type": "stream",
          "text": [
            "1560it [00:04, 315.77it/s]\n",
            "33it [00:00, 320.09it/s]"
          ],
          "name": "stderr"
        },
        {
          "output_type": "stream",
          "text": [
            "Epoch [92/100], Loss: 5.464674813993042e-06\n",
            "-----------------------------------------------------------------------------\n"
          ],
          "name": "stdout"
        },
        {
          "output_type": "stream",
          "text": [
            "1560it [00:04, 314.04it/s]\n",
            "31it [00:00, 308.66it/s]"
          ],
          "name": "stderr"
        },
        {
          "output_type": "stream",
          "text": [
            "Epoch [93/100], Loss: 5.3883086366113275e-06\n",
            "-----------------------------------------------------------------------------\n"
          ],
          "name": "stdout"
        },
        {
          "output_type": "stream",
          "text": [
            "1560it [00:04, 315.93it/s]\n",
            "28it [00:00, 279.57it/s]"
          ],
          "name": "stderr"
        },
        {
          "output_type": "stream",
          "text": [
            "Epoch [94/100], Loss: 5.3170147111814e-06\n",
            "-----------------------------------------------------------------------------\n"
          ],
          "name": "stdout"
        },
        {
          "output_type": "stream",
          "text": [
            "1560it [00:04, 316.14it/s]\n",
            "33it [00:00, 323.38it/s]"
          ],
          "name": "stderr"
        },
        {
          "output_type": "stream",
          "text": [
            "Epoch [95/100], Loss: 5.24578581462265e-06\n",
            "-----------------------------------------------------------------------------\n"
          ],
          "name": "stdout"
        },
        {
          "output_type": "stream",
          "text": [
            "1560it [00:04, 314.46it/s]\n",
            "33it [00:00, 321.93it/s]"
          ],
          "name": "stderr"
        },
        {
          "output_type": "stream",
          "text": [
            "Epoch [96/100], Loss: 5.178427727514645e-06\n",
            "-----------------------------------------------------------------------------\n"
          ],
          "name": "stdout"
        },
        {
          "output_type": "stream",
          "text": [
            "1560it [00:04, 314.77it/s]\n",
            "33it [00:00, 328.67it/s]"
          ],
          "name": "stderr"
        },
        {
          "output_type": "stream",
          "text": [
            "Epoch [97/100], Loss: 5.113930910738418e-06\n",
            "-----------------------------------------------------------------------------\n"
          ],
          "name": "stdout"
        },
        {
          "output_type": "stream",
          "text": [
            "1560it [00:04, 315.09it/s]\n",
            "31it [00:00, 306.52it/s]"
          ],
          "name": "stderr"
        },
        {
          "output_type": "stream",
          "text": [
            "Epoch [98/100], Loss: 5.050909749115817e-06\n",
            "-----------------------------------------------------------------------------\n"
          ],
          "name": "stdout"
        },
        {
          "output_type": "stream",
          "text": [
            "1560it [00:04, 314.93it/s]\n",
            "31it [00:00, 306.92it/s]"
          ],
          "name": "stderr"
        },
        {
          "output_type": "stream",
          "text": [
            "Epoch [99/100], Loss: 4.990942215954419e-06\n",
            "-----------------------------------------------------------------------------\n"
          ],
          "name": "stdout"
        },
        {
          "output_type": "stream",
          "text": [
            "1560it [00:04, 313.61it/s]\n"
          ],
          "name": "stderr"
        },
        {
          "output_type": "stream",
          "text": [
            "Epoch [100/100], Loss: 4.9321270125801675e-06\n",
            "-----------------------------------------------------------------------------\n",
            "[tensor(4.4971e-05, device='cuda:0') tensor(0.0001, device='cuda:0')\n",
            " tensor(3.7732e-05, device='cuda:0') tensor(1.0202e-06, device='cuda:0')\n",
            " tensor(1.0750e-05, device='cuda:0') tensor(3.1964e-05, device='cuda:0')\n",
            " tensor(3.7196e-05, device='cuda:0') tensor(2.6767e-05, device='cuda:0')\n",
            " tensor(1.3026e-05, device='cuda:0') tensor(3.5641e-06, device='cuda:0')\n",
            " tensor(9.7084e-08, device='cuda:0') tensor(9.1001e-07, device='cuda:0')\n",
            " tensor(3.5254e-06, device='cuda:0') tensor(6.3361e-06, device='cuda:0')\n",
            " tensor(8.7454e-06, device='cuda:0') tensor(1.0658e-05, device='cuda:0')\n",
            " tensor(1.2141e-05, device='cuda:0') tensor(1.3287e-05, device='cuda:0')\n",
            " tensor(1.4170e-05, device='cuda:0') tensor(1.4845e-05, device='cuda:0')\n",
            " tensor(1.5356e-05, device='cuda:0') tensor(1.5734e-05, device='cuda:0')\n",
            " tensor(1.6006e-05, device='cuda:0') tensor(1.6189e-05, device='cuda:0')\n",
            " tensor(1.6303e-05, device='cuda:0') tensor(1.6359e-05, device='cuda:0')\n",
            " tensor(1.6368e-05, device='cuda:0') tensor(1.6338e-05, device='cuda:0')\n",
            " tensor(1.6278e-05, device='cuda:0') tensor(1.6191e-05, device='cuda:0')\n",
            " tensor(1.6084e-05, device='cuda:0') tensor(1.5959e-05, device='cuda:0')\n",
            " tensor(1.5817e-05, device='cuda:0') tensor(1.5664e-05, device='cuda:0')\n",
            " tensor(1.5500e-05, device='cuda:0') tensor(1.5327e-05, device='cuda:0')\n",
            " tensor(1.5145e-05, device='cuda:0') tensor(1.4955e-05, device='cuda:0')\n",
            " tensor(1.4758e-05, device='cuda:0') tensor(1.4556e-05, device='cuda:0')\n",
            " tensor(1.4347e-05, device='cuda:0') tensor(1.4135e-05, device='cuda:0')\n",
            " tensor(1.3917e-05, device='cuda:0') tensor(1.3697e-05, device='cuda:0')\n",
            " tensor(1.3472e-05, device='cuda:0') tensor(1.3246e-05, device='cuda:0')\n",
            " tensor(1.3014e-05, device='cuda:0') tensor(1.2783e-05, device='cuda:0')\n",
            " tensor(1.2550e-05, device='cuda:0') tensor(1.2317e-05, device='cuda:0')\n",
            " tensor(1.2083e-05, device='cuda:0') tensor(1.1849e-05, device='cuda:0')\n",
            " tensor(1.1613e-05, device='cuda:0') tensor(1.1382e-05, device='cuda:0')\n",
            " tensor(1.1151e-05, device='cuda:0') tensor(1.0922e-05, device='cuda:0')\n",
            " tensor(1.0696e-05, device='cuda:0') tensor(1.0471e-05, device='cuda:0')\n",
            " tensor(1.0250e-05, device='cuda:0') tensor(1.0034e-05, device='cuda:0')\n",
            " tensor(9.8198e-06, device='cuda:0') tensor(9.6102e-06, device='cuda:0')\n",
            " tensor(9.4046e-06, device='cuda:0') tensor(9.2040e-06, device='cuda:0')\n",
            " tensor(9.0069e-06, device='cuda:0') tensor(8.8146e-06, device='cuda:0')\n",
            " tensor(8.6278e-06, device='cuda:0') tensor(8.4458e-06, device='cuda:0')\n",
            " tensor(8.2687e-06, device='cuda:0') tensor(8.0950e-06, device='cuda:0')\n",
            " tensor(7.9281e-06, device='cuda:0') tensor(7.7648e-06, device='cuda:0')\n",
            " tensor(7.6077e-06, device='cuda:0') tensor(7.4556e-06, device='cuda:0')\n",
            " tensor(7.3076e-06, device='cuda:0') tensor(7.1644e-06, device='cuda:0')\n",
            " tensor(7.0258e-06, device='cuda:0') tensor(6.8923e-06, device='cuda:0')\n",
            " tensor(6.7633e-06, device='cuda:0') tensor(6.6387e-06, device='cuda:0')\n",
            " tensor(6.5182e-06, device='cuda:0') tensor(6.4032e-06, device='cuda:0')\n",
            " tensor(6.2922e-06, device='cuda:0') tensor(6.1850e-06, device='cuda:0')\n",
            " tensor(6.0817e-06, device='cuda:0') tensor(5.9833e-06, device='cuda:0')\n",
            " tensor(5.8875e-06, device='cuda:0') tensor(5.7972e-06, device='cuda:0')\n",
            " tensor(5.7085e-06, device='cuda:0') tensor(5.6247e-06, device='cuda:0')\n",
            " tensor(5.5427e-06, device='cuda:0') tensor(5.4647e-06, device='cuda:0')\n",
            " tensor(5.3883e-06, device='cuda:0') tensor(5.3170e-06, device='cuda:0')\n",
            " tensor(5.2458e-06, device='cuda:0') tensor(5.1784e-06, device='cuda:0')\n",
            " tensor(5.1139e-06, device='cuda:0') tensor(5.0509e-06, device='cuda:0')\n",
            " tensor(4.9909e-06, device='cuda:0') tensor(4.9321e-06, device='cuda:0')]\n",
            "[ 6708.48141789  6330.18659771  6423.04042267  6238.16187736\n",
            "  6252.54430099  6287.34536857  6370.69156202  6756.4192309\n",
            "  7341.35947304  7393.81792842  7475.40689152  7348.91089276\n",
            "  7424.29955259  7425.79046231  7721.92490928  8407.79531239\n",
            "  8180.32125737  7959.21988897  8161.90322246  8190.11748672\n",
            "  8211.75844822  8180.93000635  7752.9686645   7610.51252298\n",
            "  7553.60622647  7421.93900489  7013.11355544  7044.08904097\n",
            "  6944.98718708  6730.3463785   6271.18103145  6548.04055443\n",
            "  6165.02886932  6275.25287495  6330.03454277  6274.7676068\n",
            "  6202.19991566  6288.04626781  6322.61420485  6578.94705862\n",
            "  6418.43716667  6488.41202577  6310.51821252  6473.85384868\n",
            "  6369.81019672  6530.66522891  6693.30788869  6748.21414819\n",
            "  6729.41221601  6902.47153692  7084.51901362  7040.04581263\n",
            "  6985.97553485  7046.78303475  7193.12246679  7277.19919306\n",
            "  7255.24079169  7364.44304581  6704.71475914  6503.56429735\n",
            "  6446.21011185  6203.58845719  6260.21630907  6317.64690575\n",
            "  6289.96127905  6339.01032166  6498.65153172  6492.36704562\n",
            "  6524.67067555  6501.49901345  6273.4174209   6353.99526239\n",
            "  6400.64083224  6512.75494432  6754.67772598  6721.98452917\n",
            "  6702.90464229  6601.14291014  6439.56257032  6474.58160941\n",
            "  6684.70938949  6635.1872506   6604.28257681  6630.37019087\n",
            "  6581.95220852  6542.04345297  6490.56723447  6557.96350838\n",
            "  6626.9359544   6589.33176365  6591.5776855   6656.37508543\n",
            "  6617.30268565  6577.59820344  6228.87043888  6246.0161118\n",
            "  6245.56502557  6282.56544136  6613.71080922  6615.21872304\n",
            "  6540.98905599  6498.37267454  6443.59821772  6489.16968154\n",
            "  6500.72715805  6467.1973034   6482.88005037  6494.28941705\n",
            "  6458.69866081  6446.82714927  6444.30309146  6445.25955128\n",
            "  6312.25999418  6308.63047507  6337.46209336  6379.22152992\n",
            "  6395.39242935  6377.50569597  6456.19377989  6442.32938958\n",
            "  6471.10864054  6522.47832878  6448.56888202  6409.77066369\n",
            "  6399.37621037  6404.82204992  6375.86047086  6362.43585823\n",
            "  5711.90602463  5646.65170714  5573.4164832   5557.54050919\n",
            "  5612.15535796  4837.79524059  4441.81124819  4602.15536416\n",
            "  4349.62801673  4342.7235057   3860.02238685  4016.264014\n",
            "  3781.23279638  3813.48133389  4260.25509769  4273.89434568\n",
            "  4012.0923579   4194.16520798  4131.7900403   3875.30964639\n",
            "  3942.37365098  3752.69330547  3506.85010251  3413.898571\n",
            "  3480.32048335  3615.7697974   3500.08058076  3419.40673955\n",
            "  3485.72627768  3311.7986787   3237.65748004  3241.34911877\n",
            "  3251.99038152  3544.93561315  3702.92221906  3757.9372566\n",
            "  4148.54612705  3902.60087891  4028.9715984   4007.18189341\n",
            "  4080.83952978  3819.71721352  3862.13925499  3655.68630909\n",
            "  3935.76228988  3844.48381381  3877.26435028  3752.05575164\n",
            "  3862.87078827  3950.03743983  3851.62901604  3859.72524329\n",
            "  3848.55075171  4081.77628047  4028.60921722  4026.21386024\n",
            "  4037.57681015  3662.93921775  3665.16647753  3653.02108745\n",
            "  3536.79235732  3699.57009646  3630.25983971  3650.9065022\n",
            "  3673.15951893  3648.95023008  3727.52431048  3602.76867239\n",
            "  3571.11148096  3603.05024184  3579.77476259  3602.36668912\n",
            "  3598.33644091  3597.67821861  3581.70083233  3463.28819308\n",
            "  3440.00601361  3479.30180006  3451.31987662  3479.09411435\n",
            "  3506.52230177  3452.49982061  3455.53312658  3458.86444282\n",
            "  3405.37514383  3390.50540402  3658.38964874  3665.16988048\n",
            "  3686.97761018  3643.486916    3646.32014553  3623.29193634\n",
            "  3609.65272141  3611.647189    3618.71221893  3660.4989769\n",
            "  3910.43067479  3948.832097    3999.2730522   3951.52290765\n",
            "  4002.06967666  4139.65677498  3808.96858015  3883.8054743\n",
            "  3857.29403349  3841.7850284   3855.99925235  3859.79447951\n",
            "  3865.23949756  3846.07536184  3764.86236769  3893.47068584\n",
            "  3900.17974517  3915.96911986  3896.89193755  3973.91117957\n",
            "  3962.28001431  3901.77708601  3913.16049318  3910.52356601\n",
            "  3925.10252397  3964.22086803  4052.95137923  4027.10714962\n",
            "  4035.19903285  4053.91685406  4080.65613614  4031.44060362\n",
            "  4028.55027023  4039.88971813  4015.98603236  3961.27993039\n",
            "  3977.02522142  4080.2130958   4063.93601469  4095.44498708\n",
            "  4223.71830897  4123.61349231  4178.00796545  4882.93197252\n",
            "  4965.66500635  4918.30561026  5035.83413091  5053.21725082\n",
            "  5206.98201238  5300.38106356  5214.98287783  5326.16957297\n",
            "  5071.84691031  5102.91338409  5097.22233148  5166.7912904\n",
            "  5065.99874134  5238.26936286  5253.02808638  5294.8843241\n",
            "  5144.27849978  5275.30762596  5180.68270346  5287.33462994\n",
            "  5544.97293788  5407.00063229  5161.88223622  5194.92187863\n",
            "  5092.79129491  5132.50420292  5210.21459809  5369.63961641\n",
            "  5241.57092364  5533.31385222  5791.74035957  5870.43056758\n",
            "  5834.59479624  5790.26825263  5888.6441294   6007.95831807\n",
            "  6164.44095976  6382.37409703  7193.89903977  6957.47454692\n",
            "  7835.28565227  7998.88575398  8205.9747001   7886.81738993\n",
            "  7337.08626726  7229.94752608  8206.31614111  7994.63943839\n",
            "  7974.50377998  7670.65170943  7875.1687166   7999.25524001\n",
            "  8057.83184639  8672.8835634   8822.26193399  8718.52510888\n",
            "  8669.38243321  8286.57298025  8568.29511316  8559.58679744\n",
            "  8754.0549938   8173.97233015  7670.41734933  7801.36196991\n",
            "  7822.26864212  8035.07592896  7948.69769304  7670.27194893\n",
            "  8001.05616665  7915.50569279  8154.26676229  8232.37108779\n",
            "  8688.28161299  8851.64793581  8984.97872497  9330.36293433\n",
            "  9090.35949671  9293.2206218   9534.67483761 10155.56054856\n",
            " 10698.81735533 10847.10369416 11023.90489058 11754.91156501\n",
            " 12872.8724891  11121.79698612 12355.18458418 11959.32072798\n",
            " 10748.17521215 10593.12739993 10816.38588672 11964.17846179\n",
            " 11196.58957803 10977.84530865 11245.18687332 11469.83708232\n",
            " 12311.24952666 12560.66951349 12133.10265667 11347.91972079\n",
            " 11805.52527406 11371.08351853 10235.69561349 10892.855597\n",
            "  9464.30110037  9667.40442881 10640.42545418 10530.66301176\n",
            " 10780.40529175 10558.57269918 10322.8022907   9904.56899653\n",
            "  9807.19644747  9906.95166254  9869.51696924  9460.70116492\n",
            "  9538.97653615  9528.18054723  9598.92243456 10090.79934802\n",
            " 10410.11490378 10513.77679379]\n",
            "[tensor([[6768.6396]], device='cuda:0'), tensor([[6531.1997]], device='cuda:0'), tensor([[6411.5664]], device='cuda:0'), tensor([[6305.5000]], device='cuda:0'), tensor([[6288.8193]], device='cuda:0'), tensor([[6279.8628]], device='cuda:0'), tensor([[6356.0850]], device='cuda:0'), tensor([[6607.5449]], device='cuda:0'), tensor([[7056.3481]], device='cuda:0'), tensor([[7494.7949]], device='cuda:0'), tensor([[7476.6494]], device='cuda:0'), tensor([[7516.6113]], device='cuda:0'), tensor([[7386.2710]], device='cuda:0'), tensor([[7527.4937]], device='cuda:0'), tensor([[7649.2998]], device='cuda:0'), tensor([[8119.9858]], device='cuda:0'), tensor([[8345.7188]], device='cuda:0'), tensor([[8154.6963]], device='cuda:0'), tensor([[8100.1245]], device='cuda:0'), tensor([[8214.7891]], device='cuda:0'), tensor([[8259.8740]], device='cuda:0'), tensor([[8123.2764]], device='cuda:0'), tensor([[7971.1289]], device='cuda:0'), tensor([[7667.5752]], device='cuda:0'), tensor([[7649.5083]], device='cuda:0'), tensor([[7486.2700]], device='cuda:0'), tensor([[7249.5371]], device='cuda:0'), tensor([[7043.3223]], device='cuda:0'), tensor([[7042.4600]], device='cuda:0'), tensor([[6959.9238]], device='cuda:0'), tensor([[6505.6255]], device='cuda:0'), tensor([[6448.9839]], device='cuda:0'), tensor([[6344.2222]], device='cuda:0'), tensor([[6281.4985]], device='cuda:0'), tensor([[6339.1172]], device='cuda:0'), tensor([[6373.3047]], device='cuda:0'), tensor([[6157.6958]], device='cuda:0'), tensor([[6453.1909]], device='cuda:0'), tensor([[6389.3989]], device='cuda:0'), tensor([[6474.2744]], device='cuda:0'), tensor([[6498.3442]], device='cuda:0'), tensor([[6463.5444]], device='cuda:0'), tensor([[6438.8433]], device='cuda:0'), tensor([[6432.0298]], device='cuda:0'), tensor([[6586.3706]], device='cuda:0'), tensor([[6481.0542]], device='cuda:0'), tensor([[6626.1714]], device='cuda:0'), tensor([[6752.6328]], device='cuda:0'), tensor([[6706.0088]], device='cuda:0'), tensor([[6805.7710]], device='cuda:0'), tensor([[7044.8491]], device='cuda:0'), tensor([[7080.5376]], device='cuda:0'), tensor([[6927.7349]], device='cuda:0'), tensor([[7034.4692]], device='cuda:0'), tensor([[7173.9316]], device='cuda:0'), tensor([[7274.7617]], device='cuda:0'), tensor([[7310.1416]], device='cuda:0'), tensor([[7368.4370]], device='cuda:0'), tensor([[7063.1504]], device='cuda:0'), tensor([[6590.9780]], device='cuda:0'), tensor([[6490.1973]], device='cuda:0'), tensor([[6323.5850]], device='cuda:0'), tensor([[6311.5259]], device='cuda:0'), tensor([[6339.0830]], device='cuda:0'), tensor([[6344.9009]], device='cuda:0'), tensor([[6324.3999]], device='cuda:0'), tensor([[6461.9443]], device='cuda:0'), tensor([[6537.5605]], device='cuda:0'), tensor([[6544.0068]], device='cuda:0'), tensor([[6519.0278]], device='cuda:0'), tensor([[6408.0259]], device='cuda:0'), tensor([[6360.5117]], device='cuda:0'), tensor([[6367.5840]], device='cuda:0'), tensor([[6495.9521]], device='cuda:0'), tensor([[6675.6709]], device='cuda:0'), tensor([[6763.5986]], device='cuda:0'), tensor([[6752.6885]], device='cuda:0'), tensor([[6687.3721]], device='cuda:0'), tensor([[6513.9067]], device='cuda:0'), tensor([[6499.9751]], device='cuda:0'), tensor([[6606.7319]], device='cuda:0'), tensor([[6725.9121]], device='cuda:0'), tensor([[6591.1294]], device='cuda:0'), tensor([[6630.1221]], device='cuda:0'), tensor([[6631.0356]], device='cuda:0'), tensor([[6602.2822]], device='cuda:0'), tensor([[6531.7964]], device='cuda:0'), tensor([[6581.6631]], device='cuda:0'), tensor([[6623.5122]], device='cuda:0'), tensor([[6617.9546]], device='cuda:0'), tensor([[6586.5586]], device='cuda:0'), tensor([[6653.5854]], device='cuda:0'), tensor([[6658.5210]], device='cuda:0'), tensor([[6619.5181]], device='cuda:0'), tensor([[6424.0562]], device='cuda:0'), tensor([[6280.8774]], device='cuda:0'), tensor([[6289.7671]], device='cuda:0'), tensor([[6319.8164]], device='cuda:0'), tensor([[6676.6860]], device='cuda:0'), tensor([[6671.8662]], device='cuda:0'), tensor([[6601.8804]], device='cuda:0'), tensor([[6554.2642]], device='cuda:0'), tensor([[6511.8179]], device='cuda:0'), tensor([[6489.3608]], device='cuda:0'), tensor([[6530.3921]], device='cuda:0'), tensor([[6532.5142]], device='cuda:0'), tensor([[6500.6035]], device='cuda:0'), tensor([[6527.0781]], device='cuda:0'), tensor([[6503.6802]], device='cuda:0'), tensor([[6503.9321]], device='cuda:0'), tensor([[6485.8887]], device='cuda:0'), tensor([[6483.7495]], device='cuda:0'), tensor([[6413.3149]], device='cuda:0'), tensor([[6352.1113]], device='cuda:0'), tensor([[6336.8364]], device='cuda:0'), tensor([[6391.9004]], device='cuda:0'), tensor([[6422.0713]], device='cuda:0'), tensor([[6400.6719]], device='cuda:0'), tensor([[6439.1030]], device='cuda:0'), tensor([[6476.7417]], device='cuda:0'), tensor([[6480.1992]], device='cuda:0'), tensor([[6549.3135]], device='cuda:0'), tensor([[6532.0269]], device='cuda:0'), tensor([[6457.7437]], device='cuda:0'), tensor([[6439.7954]], device='cuda:0'), tensor([[6404.6230]], device='cuda:0'), tensor([[6428.8999]], device='cuda:0'), tensor([[6394.4653]], device='cuda:0'), tensor([[5965.8979]], device='cuda:0'), tensor([[5601.8379]], device='cuda:0'), tensor([[5611.8237]], device='cuda:0'), tensor([[5583.7183]], device='cuda:0'), tensor([[5635.3823]], device='cuda:0'), tensor([[5262.4683]], device='cuda:0'), tensor([[4702.6802]], device='cuda:0'), tensor([[4602.9688]], device='cuda:0'), tensor([[4568.2095]], device='cuda:0'), tensor([[4409.0005]], device='cuda:0'), tensor([[4182.7803]], device='cuda:0'), tensor([[3999.8335]], device='cuda:0'), tensor([[4025.6003]], device='cuda:0'), tensor([[3922.8430]], device='cuda:0'), tensor([[4218.5742]], device='cuda:0'), tensor([[4402.1045]], device='cuda:0'), tensor([[4253.8110]], device='cuda:0'), tensor([[4221.1680]], device='cuda:0'), tensor([[4298.4316]], device='cuda:0'), tensor([[4111.1196]], device='cuda:0'), tensor([[4073.3857]], device='cuda:0'), tensor([[3992.8237]], device='cuda:0'), tensor([[3858.0398]], device='cuda:0'), tensor([[3612.1069]], device='cuda:0'), tensor([[3624.7815]], device='cuda:0'), tensor([[3743.0908]], device='cuda:0'), tensor([[3730.7551]], device='cuda:0'), tensor([[3628.9941]], device='cuda:0'), tensor([[3643.1243]], device='cuda:0'), tensor([[3567.1458]], device='cuda:0'), tensor([[3465.1799]], device='cuda:0'), tensor([[3421.7078]], device='cuda:0'), tensor([[3456.0334]], device='cuda:0'), tensor([[3604.4561]], device='cuda:0'), tensor([[3754.1182]], device='cuda:0'), tensor([[3988.1475]], device='cuda:0'), tensor([[4113.7764]], device='cuda:0'), tensor([[4160.1328]], device='cuda:0'), tensor([[4067.3040]], device='cuda:0'), tensor([[4156.5278]], device='cuda:0'), tensor([[4258.7588]], device='cuda:0'), tensor([[4053.1907]], device='cuda:0'), tensor([[3967.4060]], device='cuda:0'), tensor([[3900.8108]], device='cuda:0'), tensor([[3933.1675]], device='cuda:0'), tensor([[4026.5042]], device='cuda:0'), tensor([[3996.3508]], device='cuda:0'), tensor([[3945.9780]], device='cuda:0'), tensor([[3920.2017]], device='cuda:0'), tensor([[4019.5496]], device='cuda:0'), tensor([[4019.6492]], device='cuda:0'), tensor([[3968.1147]], device='cuda:0'), tensor([[3998.0085]], device='cuda:0'), tensor([[4078.9641]], device='cuda:0'), tensor([[4182.4272]], device='cuda:0'), tensor([[4186.8218]], device='cuda:0'), tensor([[4172.5034]], device='cuda:0'), tensor([[3993.1028]], device='cuda:0'), tensor([[3831.8472]], device='cuda:0'), tensor([[3804.3684]], device='cuda:0'), tensor([[3751.9646]], device='cuda:0'), tensor([[3786.5737]], device='cuda:0'), tensor([[3818.8333]], device='cuda:0'), tensor([[3809.7290]], device='cuda:0'), tensor([[3798.8811]], device='cuda:0'), tensor([[3804.0056]], device='cuda:0'), tensor([[3839.2397]], device='cuda:0'), tensor([[3816.2166]], device='cuda:0'), tensor([[3744.4492]], device='cuda:0'), tensor([[3741.4673]], device='cuda:0'), tensor([[3766.9705]], device='cuda:0'), tensor([[3747.2390]], device='cuda:0'), tensor([[3751.7180]], device='cuda:0'), tensor([[3777.2954]], device='cuda:0'), tensor([[3739.9888]], device='cuda:0'), tensor([[3686.2773]], device='cuda:0'), tensor([[3612.6165]], device='cuda:0'), tensor([[3636.3328]], device='cuda:0'), tensor([[3650.6348]], device='cuda:0'), tensor([[3633.2451]], device='cuda:0'), tensor([[3646.4302]], device='cuda:0'), tensor([[3637.9978]], device='cuda:0'), tensor([[3629.8499]], device='cuda:0'), tensor([[3614.2610]], device='cuda:0'), tensor([[3600.8074]], device='cuda:0'), tensor([[3573.6304]], device='cuda:0'), tensor([[3708.5432]], device='cuda:0'), tensor([[3804.9282]], device='cuda:0'), tensor([[3812.9512]], device='cuda:0'), tensor([[3815.9253]], device='cuda:0'), tensor([[3794.1250]], device='cuda:0'), tensor([[3789.3982]], device='cuda:0'), tensor([[3772.8079]], device='cuda:0'), tensor([[3777.5903]], device='cuda:0'), tensor([[3780.0449]], device='cuda:0'), tensor([[3798.1655]], device='cuda:0'), tensor([[3947.9568]], device='cuda:0'), tensor([[4110.6309]], device='cuda:0'), tensor([[4100.7500]], device='cuda:0'), tensor([[4107.2085]], device='cuda:0'), tensor([[4116.5303]], device='cuda:0'), tensor([[4183.1958]], device='cuda:0'), tensor([[4131.7896]], device='cuda:0'), tensor([[4002.7805]], device='cuda:0'), tensor([[4005.6338]], device='cuda:0'), tensor([[3981.1033]], device='cuda:0'), tensor([[4022.7585]], device='cuda:0'), tensor([[4005.3416]], device='cuda:0'), tensor([[3996.2920]], device='cuda:0'), tensor([[3995.2043]], device='cuda:0'), tensor([[3954.8381]], device='cuda:0'), tensor([[3974.9902]], device='cuda:0'), tensor([[4032.6143]], device='cuda:0'), tensor([[4061.5447]], device='cuda:0'), tensor([[4058.1865]], device='cuda:0'), tensor([[4074.6687]], device='cuda:0'), tensor([[4077.9050]], device='cuda:0'), tensor([[4074.0159]], device='cuda:0'), tensor([[4035.5728]], device='cuda:0'), tensor([[4056.7449]], device='cuda:0'), tensor([[4069.6914]], device='cuda:0'), tensor([[4082.0037]], device='cuda:0'), tensor([[4156.2432]], device='cuda:0'), tensor([[4154.1133]], device='cuda:0'), tensor([[4171.1846]], device='cuda:0'), tensor([[4172.2886]], device='cuda:0'), tensor([[4186.1558]], device='cuda:0'), tensor([[4187.8618]], device='cuda:0'), tensor([[4176.4062]], device='cuda:0'), tensor([[4156.0278]], device='cuda:0'), tensor([[4156.8208]], device='cuda:0'), tensor([[4130.9971]], device='cuda:0'), tensor([[4093.9148]], device='cuda:0'), tensor([[4161.4546]], device='cuda:0'), tensor([[4199.5454]], device='cuda:0'), tensor([[4248.2300]], device='cuda:0'), tensor([[4287.6709]], device='cuda:0'), tensor([[4271.7690]], device='cuda:0'), tensor([[4283.7368]], device='cuda:0'), tensor([[4675.5908]], device='cuda:0'), tensor([[5210.1187]], device='cuda:0'), tensor([[5040.8330]], device='cuda:0'), tensor([[5078.4736]], device='cuda:0'), tensor([[5176.4663]], device='cuda:0'), tensor([[5182.2720]], device='cuda:0'), tensor([[5290.9038]], device='cuda:0'), tensor([[5281.7695]], device='cuda:0'), tensor([[5356.2129]], device='cuda:0'), tensor([[5224.8174]], device='cuda:0'), tensor([[5078.2373]], device='cuda:0'), tensor([[5143.1899]], device='cuda:0'), tensor([[5147.6592]], device='cuda:0'), tensor([[5146.4399]], device='cuda:0'), tensor([[5178.5347]], device='cuda:0'), tensor([[5290.6479]], device='cuda:0'), tensor([[5326.1992]], device='cuda:0'), tensor([[5284.2935]], device='cuda:0'), tensor([[5301.0483]], device='cuda:0'), tensor([[5288.2202]], device='cuda:0'), tensor([[5274.9854]], device='cuda:0'), tensor([[5493.7769]], device='cuda:0'), tensor([[5525.9385]], device='cuda:0'), tensor([[5361.7075]], device='cuda:0'), tensor([[5314.2783]], device='cuda:0'), tensor([[5265.0557]], device='cuda:0'), tensor([[5266.4849]], device='cuda:0'), tensor([[5221.2568]], device='cuda:0'), tensor([[5324.5488]], device='cuda:0'), tensor([[5376.7998]], device='cuda:0'), tensor([[5397.9326]], device='cuda:0'), tensor([[5734.4233]], device='cuda:0'), tensor([[5810.1260]], device='cuda:0'), tensor([[5814.4639]], device='cuda:0'), tensor([[5793.5591]], device='cuda:0'), tensor([[5936.9883]], device='cuda:0'), tensor([[5960.0991]], device='cuda:0'), tensor([[6131.1777]], device='cuda:0'), tensor([[6322.4072]], device='cuda:0'), tensor([[6853.9927]], device='cuda:0'), tensor([[7215.2778]], device='cuda:0'), tensor([[7496.7578]], device='cuda:0'), tensor([[8053.1450]], device='cuda:0'), tensor([[8127.7852]], device='cuda:0'), tensor([[8084.2319]], device='cuda:0'), tensor([[7512.6802]], device='cuda:0'), tensor([[7365.4907]], device='cuda:0'), tensor([[7731.9580]], device='cuda:0'), tensor([[7967.9595]], device='cuda:0'), tensor([[8027.7031]], device='cuda:0'), tensor([[7881.3662]], device='cuda:0'), tensor([[7778.4614]], device='cuda:0'), tensor([[8041.1323]], device='cuda:0'), tensor([[8104.3682]], device='cuda:0'), tensor([[8328.5391]], device='cuda:0'), tensor([[8889.5781]], device='cuda:0'), tensor([[8818.8105]], device='cuda:0'), tensor([[8700.4590]], device='cuda:0'), tensor([[8626.8330]], device='cuda:0'), tensor([[8422.0537]], device='cuda:0'), tensor([[8620.7510]], device='cuda:0'), tensor([[8754.6562]], device='cuda:0'), tensor([[8484.5986]], device='cuda:0'), tensor([[7863.7915]], device='cuda:0'), tensor([[7799.7700]], device='cuda:0'), tensor([[7734.4941]], device='cuda:0'), tensor([[7998.2788]], device='cuda:0'), tensor([[7988.6162]], device='cuda:0'), tensor([[7787.7129]], device='cuda:0'), tensor([[7818.3516]], device='cuda:0'), tensor([[7940.2959]], device='cuda:0'), tensor([[8073.2036]], device='cuda:0'), tensor([[8263.3350]], device='cuda:0'), tensor([[8497.5195]], device='cuda:0'), tensor([[8826.9785]], device='cuda:0'), tensor([[9176.6182]], device='cuda:0'), tensor([[9295.6104]], device='cuda:0'), tensor([[9256.0693]], device='cuda:0'), tensor([[9271.9082]], device='cuda:0'), tensor([[9497.6377]], device='cuda:0'), tensor([[9929.8203]], device='cuda:0'), tensor([[10714.8398]], device='cuda:0'), tensor([[10978.1416]], device='cuda:0'), tensor([[10935.4639]], device='cuda:0'), tensor([[11486.4678]], device='cuda:0'), tensor([[12740.7432]], device='cuda:0'), tensor([[11709.4727]], device='cuda:0'), tensor([[11641.5576]], device='cuda:0'), tensor([[11947.9795]], device='cuda:0'), tensor([[11471.3301]], device='cuda:0'), tensor([[10695.0215]], device='cuda:0'), tensor([[10371.5596]], device='cuda:0'), tensor([[11464.5459]], device='cuda:0'), tensor([[11627.0195]], device='cuda:0'), tensor([[11232.4609]], device='cuda:0'), tensor([[11413.7910]], device='cuda:0'), tensor([[11460.4688]], device='cuda:0'), tensor([[11906.9756]], device='cuda:0'), tensor([[12564.3203]], device='cuda:0'), tensor([[12431.6816]], device='cuda:0'), tensor([[11646.1768]], device='cuda:0'), tensor([[11591.5059]], device='cuda:0'), tensor([[11383.3760]], device='cuda:0'), tensor([[10861.2705]], device='cuda:0'), tensor([[10538.8203]], device='cuda:0'), tensor([[10215.9238]], device='cuda:0'), tensor([[9613.4189]], device='cuda:0'), tensor([[10051.5762]], device='cuda:0'), tensor([[10553.6367]], device='cuda:0'), tensor([[10852.6377]], device='cuda:0'), tensor([[10754.3076]], device='cuda:0'), tensor([[10479.8828]], device='cuda:0'), tensor([[10191.0791]], device='cuda:0'), tensor([[9844.8154]], device='cuda:0'), tensor([[10054.0166]], device='cuda:0'), tensor([[9919.2822]], device='cuda:0'), tensor([[9840.0469]], device='cuda:0'), tensor([[9455.0498]], device='cuda:0'), tensor([[9662.3213]], device='cuda:0'), tensor([[9654.2949]], device='cuda:0'), tensor([[9923.7412]], device='cuda:0'), tensor([[10265.4971]], device='cuda:0'), tensor([[10632.8125]], device='cuda:0')]\n",
            "390\n",
            "the item is =\t tensor([[6768.6396]], device='cuda:0')\n",
            "the size of the item is =\t torch.Size([1, 1])\n",
            "the item is =\t tensor([[6531.1997]], device='cuda:0')\n",
            "the size of the item is =\t torch.Size([1, 1])\n",
            "the item is =\t tensor([[6411.5664]], device='cuda:0')\n",
            "the size of the item is =\t torch.Size([1, 1])\n",
            "the item is =\t tensor([[6305.5000]], device='cuda:0')\n",
            "the size of the item is =\t torch.Size([1, 1])\n",
            "the item is =\t tensor([[6288.8193]], device='cuda:0')\n",
            "the size of the item is =\t torch.Size([1, 1])\n",
            "the item is =\t tensor([[6279.8628]], device='cuda:0')\n",
            "the size of the item is =\t torch.Size([1, 1])\n",
            "the item is =\t tensor([[6356.0850]], device='cuda:0')\n",
            "the size of the item is =\t torch.Size([1, 1])\n",
            "the item is =\t tensor([[6607.5449]], device='cuda:0')\n",
            "the size of the item is =\t torch.Size([1, 1])\n",
            "the item is =\t tensor([[7056.3481]], device='cuda:0')\n",
            "the size of the item is =\t torch.Size([1, 1])\n",
            "the item is =\t tensor([[7494.7949]], device='cuda:0')\n",
            "the size of the item is =\t torch.Size([1, 1])\n",
            "the item is =\t tensor([[7476.6494]], device='cuda:0')\n",
            "the size of the item is =\t torch.Size([1, 1])\n",
            "the item is =\t tensor([[7516.6113]], device='cuda:0')\n",
            "the size of the item is =\t torch.Size([1, 1])\n",
            "the item is =\t tensor([[7386.2710]], device='cuda:0')\n",
            "the size of the item is =\t torch.Size([1, 1])\n",
            "the item is =\t tensor([[7527.4937]], device='cuda:0')\n",
            "the size of the item is =\t torch.Size([1, 1])\n",
            "the item is =\t tensor([[7649.2998]], device='cuda:0')\n",
            "the size of the item is =\t torch.Size([1, 1])\n",
            "the item is =\t tensor([[8119.9858]], device='cuda:0')\n",
            "the size of the item is =\t torch.Size([1, 1])\n",
            "the item is =\t tensor([[8345.7188]], device='cuda:0')\n",
            "the size of the item is =\t torch.Size([1, 1])\n",
            "the item is =\t tensor([[8154.6963]], device='cuda:0')\n",
            "the size of the item is =\t torch.Size([1, 1])\n",
            "the item is =\t tensor([[8100.1245]], device='cuda:0')\n",
            "the size of the item is =\t torch.Size([1, 1])\n",
            "the item is =\t tensor([[8214.7891]], device='cuda:0')\n",
            "the size of the item is =\t torch.Size([1, 1])\n",
            "the item is =\t tensor([[8259.8740]], device='cuda:0')\n",
            "the size of the item is =\t torch.Size([1, 1])\n",
            "the item is =\t tensor([[8123.2764]], device='cuda:0')\n",
            "the size of the item is =\t torch.Size([1, 1])\n",
            "the item is =\t tensor([[7971.1289]], device='cuda:0')\n",
            "the size of the item is =\t torch.Size([1, 1])\n",
            "the item is =\t tensor([[7667.5752]], device='cuda:0')\n",
            "the size of the item is =\t torch.Size([1, 1])\n",
            "the item is =\t tensor([[7649.5083]], device='cuda:0')\n",
            "the size of the item is =\t torch.Size([1, 1])\n",
            "the item is =\t tensor([[7486.2700]], device='cuda:0')\n",
            "the size of the item is =\t torch.Size([1, 1])\n",
            "the item is =\t tensor([[7249.5371]], device='cuda:0')\n",
            "the size of the item is =\t torch.Size([1, 1])\n",
            "the item is =\t tensor([[7043.3223]], device='cuda:0')\n",
            "the size of the item is =\t torch.Size([1, 1])\n",
            "the item is =\t tensor([[7042.4600]], device='cuda:0')\n",
            "the size of the item is =\t torch.Size([1, 1])\n",
            "the item is =\t tensor([[6959.9238]], device='cuda:0')\n",
            "the size of the item is =\t torch.Size([1, 1])\n",
            "the item is =\t tensor([[6505.6255]], device='cuda:0')\n",
            "the size of the item is =\t torch.Size([1, 1])\n",
            "the item is =\t tensor([[6448.9839]], device='cuda:0')\n",
            "the size of the item is =\t torch.Size([1, 1])\n",
            "the item is =\t tensor([[6344.2222]], device='cuda:0')\n",
            "the size of the item is =\t torch.Size([1, 1])\n",
            "the item is =\t tensor([[6281.4985]], device='cuda:0')\n",
            "the size of the item is =\t torch.Size([1, 1])\n",
            "the item is =\t tensor([[6339.1172]], device='cuda:0')\n",
            "the size of the item is =\t torch.Size([1, 1])\n",
            "the item is =\t tensor([[6373.3047]], device='cuda:0')\n",
            "the size of the item is =\t torch.Size([1, 1])\n",
            "the item is =\t tensor([[6157.6958]], device='cuda:0')\n",
            "the size of the item is =\t torch.Size([1, 1])\n",
            "the item is =\t tensor([[6453.1909]], device='cuda:0')\n",
            "the size of the item is =\t torch.Size([1, 1])\n",
            "the item is =\t tensor([[6389.3989]], device='cuda:0')\n",
            "the size of the item is =\t torch.Size([1, 1])\n",
            "the item is =\t tensor([[6474.2744]], device='cuda:0')\n",
            "the size of the item is =\t torch.Size([1, 1])\n",
            "the item is =\t tensor([[6498.3442]], device='cuda:0')\n",
            "the size of the item is =\t torch.Size([1, 1])\n",
            "the item is =\t tensor([[6463.5444]], device='cuda:0')\n",
            "the size of the item is =\t torch.Size([1, 1])\n",
            "the item is =\t tensor([[6438.8433]], device='cuda:0')\n",
            "the size of the item is =\t torch.Size([1, 1])\n",
            "the item is =\t tensor([[6432.0298]], device='cuda:0')\n",
            "the size of the item is =\t torch.Size([1, 1])\n",
            "the item is =\t tensor([[6586.3706]], device='cuda:0')\n",
            "the size of the item is =\t torch.Size([1, 1])\n",
            "the item is =\t tensor([[6481.0542]], device='cuda:0')\n",
            "the size of the item is =\t torch.Size([1, 1])\n",
            "the item is =\t tensor([[6626.1714]], device='cuda:0')\n",
            "the size of the item is =\t torch.Size([1, 1])\n",
            "the item is =\t tensor([[6752.6328]], device='cuda:0')\n",
            "the size of the item is =\t torch.Size([1, 1])\n",
            "the item is =\t tensor([[6706.0088]], device='cuda:0')\n",
            "the size of the item is =\t torch.Size([1, 1])\n",
            "the item is =\t tensor([[6805.7710]], device='cuda:0')\n",
            "the size of the item is =\t torch.Size([1, 1])\n",
            "the item is =\t tensor([[7044.8491]], device='cuda:0')\n",
            "the size of the item is =\t torch.Size([1, 1])\n",
            "the item is =\t tensor([[7080.5376]], device='cuda:0')\n",
            "the size of the item is =\t torch.Size([1, 1])\n",
            "the item is =\t tensor([[6927.7349]], device='cuda:0')\n",
            "the size of the item is =\t torch.Size([1, 1])\n",
            "the item is =\t tensor([[7034.4692]], device='cuda:0')\n",
            "the size of the item is =\t torch.Size([1, 1])\n",
            "the item is =\t tensor([[7173.9316]], device='cuda:0')\n",
            "the size of the item is =\t torch.Size([1, 1])\n",
            "the item is =\t tensor([[7274.7617]], device='cuda:0')\n",
            "the size of the item is =\t torch.Size([1, 1])\n",
            "the item is =\t tensor([[7310.1416]], device='cuda:0')\n",
            "the size of the item is =\t torch.Size([1, 1])\n",
            "the item is =\t tensor([[7368.4370]], device='cuda:0')\n",
            "the size of the item is =\t torch.Size([1, 1])\n",
            "the item is =\t tensor([[7063.1504]], device='cuda:0')\n",
            "the size of the item is =\t torch.Size([1, 1])\n",
            "the item is =\t tensor([[6590.9780]], device='cuda:0')\n",
            "the size of the item is =\t torch.Size([1, 1])\n",
            "the item is =\t tensor([[6490.1973]], device='cuda:0')\n",
            "the size of the item is =\t torch.Size([1, 1])\n",
            "the item is =\t tensor([[6323.5850]], device='cuda:0')\n",
            "the size of the item is =\t torch.Size([1, 1])\n",
            "the item is =\t tensor([[6311.5259]], device='cuda:0')\n",
            "the size of the item is =\t torch.Size([1, 1])\n",
            "the item is =\t tensor([[6339.0830]], device='cuda:0')\n",
            "the size of the item is =\t torch.Size([1, 1])\n",
            "the item is =\t tensor([[6344.9009]], device='cuda:0')\n",
            "the size of the item is =\t torch.Size([1, 1])\n",
            "the item is =\t tensor([[6324.3999]], device='cuda:0')\n",
            "the size of the item is =\t torch.Size([1, 1])\n",
            "the item is =\t tensor([[6461.9443]], device='cuda:0')\n",
            "the size of the item is =\t torch.Size([1, 1])\n",
            "the item is =\t tensor([[6537.5605]], device='cuda:0')\n",
            "the size of the item is =\t torch.Size([1, 1])\n",
            "the item is =\t tensor([[6544.0068]], device='cuda:0')\n",
            "the size of the item is =\t torch.Size([1, 1])\n",
            "the item is =\t tensor([[6519.0278]], device='cuda:0')\n",
            "the size of the item is =\t torch.Size([1, 1])\n",
            "the item is =\t tensor([[6408.0259]], device='cuda:0')\n",
            "the size of the item is =\t torch.Size([1, 1])\n",
            "the item is =\t tensor([[6360.5117]], device='cuda:0')\n",
            "the size of the item is =\t torch.Size([1, 1])\n",
            "the item is =\t tensor([[6367.5840]], device='cuda:0')\n",
            "the size of the item is =\t torch.Size([1, 1])\n",
            "the item is =\t tensor([[6495.9521]], device='cuda:0')\n",
            "the size of the item is =\t torch.Size([1, 1])\n",
            "the item is =\t tensor([[6675.6709]], device='cuda:0')\n",
            "the size of the item is =\t torch.Size([1, 1])\n",
            "the item is =\t tensor([[6763.5986]], device='cuda:0')\n",
            "the size of the item is =\t torch.Size([1, 1])\n",
            "the item is =\t tensor([[6752.6885]], device='cuda:0')\n",
            "the size of the item is =\t torch.Size([1, 1])\n",
            "the item is =\t tensor([[6687.3721]], device='cuda:0')\n",
            "the size of the item is =\t torch.Size([1, 1])\n",
            "the item is =\t tensor([[6513.9067]], device='cuda:0')\n",
            "the size of the item is =\t torch.Size([1, 1])\n",
            "the item is =\t tensor([[6499.9751]], device='cuda:0')\n",
            "the size of the item is =\t torch.Size([1, 1])\n",
            "the item is =\t tensor([[6606.7319]], device='cuda:0')\n",
            "the size of the item is =\t torch.Size([1, 1])\n",
            "the item is =\t tensor([[6725.9121]], device='cuda:0')\n",
            "the size of the item is =\t torch.Size([1, 1])\n",
            "the item is =\t tensor([[6591.1294]], device='cuda:0')\n",
            "the size of the item is =\t torch.Size([1, 1])\n",
            "the item is =\t tensor([[6630.1221]], device='cuda:0')\n",
            "the size of the item is =\t torch.Size([1, 1])\n",
            "the item is =\t tensor([[6631.0356]], device='cuda:0')\n",
            "the size of the item is =\t torch.Size([1, 1])\n",
            "the item is =\t tensor([[6602.2822]], device='cuda:0')\n",
            "the size of the item is =\t torch.Size([1, 1])\n",
            "the item is =\t tensor([[6531.7964]], device='cuda:0')\n",
            "the size of the item is =\t torch.Size([1, 1])\n",
            "the item is =\t tensor([[6581.6631]], device='cuda:0')\n",
            "the size of the item is =\t torch.Size([1, 1])\n",
            "the item is =\t tensor([[6623.5122]], device='cuda:0')\n",
            "the size of the item is =\t torch.Size([1, 1])\n",
            "the item is =\t tensor([[6617.9546]], device='cuda:0')\n",
            "the size of the item is =\t torch.Size([1, 1])\n",
            "the item is =\t tensor([[6586.5586]], device='cuda:0')\n",
            "the size of the item is =\t torch.Size([1, 1])\n",
            "the item is =\t tensor([[6653.5854]], device='cuda:0')\n",
            "the size of the item is =\t torch.Size([1, 1])\n",
            "the item is =\t tensor([[6658.5210]], device='cuda:0')\n",
            "the size of the item is =\t torch.Size([1, 1])\n",
            "the item is =\t tensor([[6619.5181]], device='cuda:0')\n",
            "the size of the item is =\t torch.Size([1, 1])\n",
            "the item is =\t tensor([[6424.0562]], device='cuda:0')\n",
            "the size of the item is =\t torch.Size([1, 1])\n",
            "the item is =\t tensor([[6280.8774]], device='cuda:0')\n",
            "the size of the item is =\t torch.Size([1, 1])\n",
            "the item is =\t tensor([[6289.7671]], device='cuda:0')\n",
            "the size of the item is =\t torch.Size([1, 1])\n",
            "the item is =\t tensor([[6319.8164]], device='cuda:0')\n",
            "the size of the item is =\t torch.Size([1, 1])\n",
            "the item is =\t tensor([[6676.6860]], device='cuda:0')\n",
            "the size of the item is =\t torch.Size([1, 1])\n",
            "the item is =\t tensor([[6671.8662]], device='cuda:0')\n",
            "the size of the item is =\t torch.Size([1, 1])\n",
            "the item is =\t tensor([[6601.8804]], device='cuda:0')\n",
            "the size of the item is =\t torch.Size([1, 1])\n",
            "the item is =\t tensor([[6554.2642]], device='cuda:0')\n",
            "the size of the item is =\t torch.Size([1, 1])\n",
            "the item is =\t tensor([[6511.8179]], device='cuda:0')\n",
            "the size of the item is =\t torch.Size([1, 1])\n",
            "the item is =\t tensor([[6489.3608]], device='cuda:0')\n",
            "the size of the item is =\t torch.Size([1, 1])\n",
            "the item is =\t tensor([[6530.3921]], device='cuda:0')\n",
            "the size of the item is =\t torch.Size([1, 1])\n",
            "the item is =\t tensor([[6532.5142]], device='cuda:0')\n",
            "the size of the item is =\t torch.Size([1, 1])\n",
            "the item is =\t tensor([[6500.6035]], device='cuda:0')\n",
            "the size of the item is =\t torch.Size([1, 1])\n",
            "the item is =\t tensor([[6527.0781]], device='cuda:0')\n",
            "the size of the item is =\t torch.Size([1, 1])\n",
            "the item is =\t tensor([[6503.6802]], device='cuda:0')\n",
            "the size of the item is =\t torch.Size([1, 1])\n",
            "the item is =\t tensor([[6503.9321]], device='cuda:0')\n",
            "the size of the item is =\t torch.Size([1, 1])\n",
            "the item is =\t tensor([[6485.8887]], device='cuda:0')\n",
            "the size of the item is =\t torch.Size([1, 1])\n",
            "the item is =\t tensor([[6483.7495]], device='cuda:0')\n",
            "the size of the item is =\t torch.Size([1, 1])\n",
            "the item is =\t tensor([[6413.3149]], device='cuda:0')\n",
            "the size of the item is =\t torch.Size([1, 1])\n",
            "the item is =\t tensor([[6352.1113]], device='cuda:0')\n",
            "the size of the item is =\t torch.Size([1, 1])\n",
            "the item is =\t tensor([[6336.8364]], device='cuda:0')\n",
            "the size of the item is =\t torch.Size([1, 1])\n",
            "the item is =\t tensor([[6391.9004]], device='cuda:0')\n",
            "the size of the item is =\t torch.Size([1, 1])\n",
            "the item is =\t tensor([[6422.0713]], device='cuda:0')\n",
            "the size of the item is =\t torch.Size([1, 1])\n",
            "the item is =\t tensor([[6400.6719]], device='cuda:0')\n",
            "the size of the item is =\t torch.Size([1, 1])\n",
            "the item is =\t tensor([[6439.1030]], device='cuda:0')\n",
            "the size of the item is =\t torch.Size([1, 1])\n",
            "the item is =\t tensor([[6476.7417]], device='cuda:0')\n",
            "the size of the item is =\t torch.Size([1, 1])\n",
            "the item is =\t tensor([[6480.1992]], device='cuda:0')\n",
            "the size of the item is =\t torch.Size([1, 1])\n",
            "the item is =\t tensor([[6549.3135]], device='cuda:0')\n",
            "the size of the item is =\t torch.Size([1, 1])\n",
            "the item is =\t tensor([[6532.0269]], device='cuda:0')\n",
            "the size of the item is =\t torch.Size([1, 1])\n",
            "the item is =\t tensor([[6457.7437]], device='cuda:0')\n",
            "the size of the item is =\t torch.Size([1, 1])\n",
            "the item is =\t tensor([[6439.7954]], device='cuda:0')\n",
            "the size of the item is =\t torch.Size([1, 1])\n",
            "the item is =\t tensor([[6404.6230]], device='cuda:0')\n",
            "the size of the item is =\t torch.Size([1, 1])\n",
            "the item is =\t tensor([[6428.8999]], device='cuda:0')\n",
            "the size of the item is =\t torch.Size([1, 1])\n",
            "the item is =\t tensor([[6394.4653]], device='cuda:0')\n",
            "the size of the item is =\t torch.Size([1, 1])\n",
            "the item is =\t tensor([[5965.8979]], device='cuda:0')\n",
            "the size of the item is =\t torch.Size([1, 1])\n",
            "the item is =\t tensor([[5601.8379]], device='cuda:0')\n",
            "the size of the item is =\t torch.Size([1, 1])\n",
            "the item is =\t tensor([[5611.8237]], device='cuda:0')\n",
            "the size of the item is =\t torch.Size([1, 1])\n",
            "the item is =\t tensor([[5583.7183]], device='cuda:0')\n",
            "the size of the item is =\t torch.Size([1, 1])\n",
            "the item is =\t tensor([[5635.3823]], device='cuda:0')\n",
            "the size of the item is =\t torch.Size([1, 1])\n",
            "the item is =\t tensor([[5262.4683]], device='cuda:0')\n",
            "the size of the item is =\t torch.Size([1, 1])\n",
            "the item is =\t tensor([[4702.6802]], device='cuda:0')\n",
            "the size of the item is =\t torch.Size([1, 1])\n",
            "the item is =\t tensor([[4602.9688]], device='cuda:0')\n",
            "the size of the item is =\t torch.Size([1, 1])\n",
            "the item is =\t tensor([[4568.2095]], device='cuda:0')\n",
            "the size of the item is =\t torch.Size([1, 1])\n",
            "the item is =\t tensor([[4409.0005]], device='cuda:0')\n",
            "the size of the item is =\t torch.Size([1, 1])\n",
            "the item is =\t tensor([[4182.7803]], device='cuda:0')\n",
            "the size of the item is =\t torch.Size([1, 1])\n",
            "the item is =\t tensor([[3999.8335]], device='cuda:0')\n",
            "the size of the item is =\t torch.Size([1, 1])\n",
            "the item is =\t tensor([[4025.6003]], device='cuda:0')\n",
            "the size of the item is =\t torch.Size([1, 1])\n",
            "the item is =\t tensor([[3922.8430]], device='cuda:0')\n",
            "the size of the item is =\t torch.Size([1, 1])\n",
            "the item is =\t tensor([[4218.5742]], device='cuda:0')\n",
            "the size of the item is =\t torch.Size([1, 1])\n",
            "the item is =\t tensor([[4402.1045]], device='cuda:0')\n",
            "the size of the item is =\t torch.Size([1, 1])\n",
            "the item is =\t tensor([[4253.8110]], device='cuda:0')\n",
            "the size of the item is =\t torch.Size([1, 1])\n",
            "the item is =\t tensor([[4221.1680]], device='cuda:0')\n",
            "the size of the item is =\t torch.Size([1, 1])\n",
            "the item is =\t tensor([[4298.4316]], device='cuda:0')\n",
            "the size of the item is =\t torch.Size([1, 1])\n",
            "the item is =\t tensor([[4111.1196]], device='cuda:0')\n",
            "the size of the item is =\t torch.Size([1, 1])\n",
            "the item is =\t tensor([[4073.3857]], device='cuda:0')\n",
            "the size of the item is =\t torch.Size([1, 1])\n",
            "the item is =\t tensor([[3992.8237]], device='cuda:0')\n",
            "the size of the item is =\t torch.Size([1, 1])\n",
            "the item is =\t tensor([[3858.0398]], device='cuda:0')\n",
            "the size of the item is =\t torch.Size([1, 1])\n",
            "the item is =\t tensor([[3612.1069]], device='cuda:0')\n",
            "the size of the item is =\t torch.Size([1, 1])\n",
            "the item is =\t tensor([[3624.7815]], device='cuda:0')\n",
            "the size of the item is =\t torch.Size([1, 1])\n",
            "the item is =\t tensor([[3743.0908]], device='cuda:0')\n",
            "the size of the item is =\t torch.Size([1, 1])\n",
            "the item is =\t tensor([[3730.7551]], device='cuda:0')\n",
            "the size of the item is =\t torch.Size([1, 1])\n",
            "the item is =\t tensor([[3628.9941]], device='cuda:0')\n",
            "the size of the item is =\t torch.Size([1, 1])\n",
            "the item is =\t tensor([[3643.1243]], device='cuda:0')\n",
            "the size of the item is =\t torch.Size([1, 1])\n",
            "the item is =\t tensor([[3567.1458]], device='cuda:0')\n",
            "the size of the item is =\t torch.Size([1, 1])\n",
            "the item is =\t tensor([[3465.1799]], device='cuda:0')\n",
            "the size of the item is =\t torch.Size([1, 1])\n",
            "the item is =\t tensor([[3421.7078]], device='cuda:0')\n",
            "the size of the item is =\t torch.Size([1, 1])\n",
            "the item is =\t tensor([[3456.0334]], device='cuda:0')\n",
            "the size of the item is =\t torch.Size([1, 1])\n",
            "the item is =\t tensor([[3604.4561]], device='cuda:0')\n",
            "the size of the item is =\t torch.Size([1, 1])\n",
            "the item is =\t tensor([[3754.1182]], device='cuda:0')\n",
            "the size of the item is =\t torch.Size([1, 1])\n",
            "the item is =\t tensor([[3988.1475]], device='cuda:0')\n",
            "the size of the item is =\t torch.Size([1, 1])\n",
            "the item is =\t tensor([[4113.7764]], device='cuda:0')\n",
            "the size of the item is =\t torch.Size([1, 1])\n",
            "the item is =\t tensor([[4160.1328]], device='cuda:0')\n",
            "the size of the item is =\t torch.Size([1, 1])\n",
            "the item is =\t tensor([[4067.3040]], device='cuda:0')\n",
            "the size of the item is =\t torch.Size([1, 1])\n",
            "the item is =\t tensor([[4156.5278]], device='cuda:0')\n",
            "the size of the item is =\t torch.Size([1, 1])\n",
            "the item is =\t tensor([[4258.7588]], device='cuda:0')\n",
            "the size of the item is =\t torch.Size([1, 1])\n",
            "the item is =\t tensor([[4053.1907]], device='cuda:0')\n",
            "the size of the item is =\t torch.Size([1, 1])\n",
            "the item is =\t tensor([[3967.4060]], device='cuda:0')\n",
            "the size of the item is =\t torch.Size([1, 1])\n",
            "the item is =\t tensor([[3900.8108]], device='cuda:0')\n",
            "the size of the item is =\t torch.Size([1, 1])\n",
            "the item is =\t tensor([[3933.1675]], device='cuda:0')\n",
            "the size of the item is =\t torch.Size([1, 1])\n",
            "the item is =\t tensor([[4026.5042]], device='cuda:0')\n",
            "the size of the item is =\t torch.Size([1, 1])\n",
            "the item is =\t tensor([[3996.3508]], device='cuda:0')\n",
            "the size of the item is =\t torch.Size([1, 1])\n",
            "the item is =\t tensor([[3945.9780]], device='cuda:0')\n",
            "the size of the item is =\t torch.Size([1, 1])\n",
            "the item is =\t tensor([[3920.2017]], device='cuda:0')\n",
            "the size of the item is =\t torch.Size([1, 1])\n",
            "the item is =\t tensor([[4019.5496]], device='cuda:0')\n",
            "the size of the item is =\t torch.Size([1, 1])\n",
            "the item is =\t tensor([[4019.6492]], device='cuda:0')\n",
            "the size of the item is =\t torch.Size([1, 1])\n",
            "the item is =\t tensor([[3968.1147]], device='cuda:0')\n",
            "the size of the item is =\t torch.Size([1, 1])\n",
            "the item is =\t tensor([[3998.0085]], device='cuda:0')\n",
            "the size of the item is =\t torch.Size([1, 1])\n",
            "the item is =\t tensor([[4078.9641]], device='cuda:0')\n",
            "the size of the item is =\t torch.Size([1, 1])\n",
            "the item is =\t tensor([[4182.4272]], device='cuda:0')\n",
            "the size of the item is =\t torch.Size([1, 1])\n",
            "the item is =\t tensor([[4186.8218]], device='cuda:0')\n",
            "the size of the item is =\t torch.Size([1, 1])\n",
            "the item is =\t tensor([[4172.5034]], device='cuda:0')\n",
            "the size of the item is =\t torch.Size([1, 1])\n",
            "the item is =\t tensor([[3993.1028]], device='cuda:0')\n",
            "the size of the item is =\t torch.Size([1, 1])\n",
            "the item is =\t tensor([[3831.8472]], device='cuda:0')\n",
            "the size of the item is =\t torch.Size([1, 1])\n",
            "the item is =\t tensor([[3804.3684]], device='cuda:0')\n",
            "the size of the item is =\t torch.Size([1, 1])\n",
            "the item is =\t tensor([[3751.9646]], device='cuda:0')\n",
            "the size of the item is =\t torch.Size([1, 1])\n",
            "the item is =\t tensor([[3786.5737]], device='cuda:0')\n",
            "the size of the item is =\t torch.Size([1, 1])\n",
            "the item is =\t tensor([[3818.8333]], device='cuda:0')\n",
            "the size of the item is =\t torch.Size([1, 1])\n",
            "the item is =\t tensor([[3809.7290]], device='cuda:0')\n",
            "the size of the item is =\t torch.Size([1, 1])\n",
            "the item is =\t tensor([[3798.8811]], device='cuda:0')\n",
            "the size of the item is =\t torch.Size([1, 1])\n",
            "the item is =\t tensor([[3804.0056]], device='cuda:0')\n",
            "the size of the item is =\t torch.Size([1, 1])\n",
            "the item is =\t tensor([[3839.2397]], device='cuda:0')\n",
            "the size of the item is =\t torch.Size([1, 1])\n",
            "the item is =\t tensor([[3816.2166]], device='cuda:0')\n",
            "the size of the item is =\t torch.Size([1, 1])\n",
            "the item is =\t tensor([[3744.4492]], device='cuda:0')\n",
            "the size of the item is =\t torch.Size([1, 1])\n",
            "the item is =\t tensor([[3741.4673]], device='cuda:0')\n",
            "the size of the item is =\t torch.Size([1, 1])\n",
            "the item is =\t tensor([[3766.9705]], device='cuda:0')\n",
            "the size of the item is =\t torch.Size([1, 1])\n",
            "the item is =\t tensor([[3747.2390]], device='cuda:0')\n",
            "the size of the item is =\t torch.Size([1, 1])\n",
            "the item is =\t tensor([[3751.7180]], device='cuda:0')\n",
            "the size of the item is =\t torch.Size([1, 1])\n",
            "the item is =\t tensor([[3777.2954]], device='cuda:0')\n",
            "the size of the item is =\t torch.Size([1, 1])\n",
            "the item is =\t tensor([[3739.9888]], device='cuda:0')\n",
            "the size of the item is =\t torch.Size([1, 1])\n",
            "the item is =\t tensor([[3686.2773]], device='cuda:0')\n",
            "the size of the item is =\t torch.Size([1, 1])\n",
            "the item is =\t tensor([[3612.6165]], device='cuda:0')\n",
            "the size of the item is =\t torch.Size([1, 1])\n",
            "the item is =\t tensor([[3636.3328]], device='cuda:0')\n",
            "the size of the item is =\t torch.Size([1, 1])\n",
            "the item is =\t tensor([[3650.6348]], device='cuda:0')\n",
            "the size of the item is =\t torch.Size([1, 1])\n",
            "the item is =\t tensor([[3633.2451]], device='cuda:0')\n",
            "the size of the item is =\t torch.Size([1, 1])\n",
            "the item is =\t tensor([[3646.4302]], device='cuda:0')\n",
            "the size of the item is =\t torch.Size([1, 1])\n",
            "the item is =\t tensor([[3637.9978]], device='cuda:0')\n",
            "the size of the item is =\t torch.Size([1, 1])\n",
            "the item is =\t tensor([[3629.8499]], device='cuda:0')\n",
            "the size of the item is =\t torch.Size([1, 1])\n",
            "the item is =\t tensor([[3614.2610]], device='cuda:0')\n",
            "the size of the item is =\t torch.Size([1, 1])\n",
            "the item is =\t tensor([[3600.8074]], device='cuda:0')\n",
            "the size of the item is =\t torch.Size([1, 1])\n",
            "the item is =\t tensor([[3573.6304]], device='cuda:0')\n",
            "the size of the item is =\t torch.Size([1, 1])\n",
            "the item is =\t tensor([[3708.5432]], device='cuda:0')\n",
            "the size of the item is =\t torch.Size([1, 1])\n",
            "the item is =\t tensor([[3804.9282]], device='cuda:0')\n",
            "the size of the item is =\t torch.Size([1, 1])\n",
            "the item is =\t tensor([[3812.9512]], device='cuda:0')\n",
            "the size of the item is =\t torch.Size([1, 1])\n",
            "the item is =\t tensor([[3815.9253]], device='cuda:0')\n",
            "the size of the item is =\t torch.Size([1, 1])\n",
            "the item is =\t tensor([[3794.1250]], device='cuda:0')\n",
            "the size of the item is =\t torch.Size([1, 1])\n",
            "the item is =\t tensor([[3789.3982]], device='cuda:0')\n",
            "the size of the item is =\t torch.Size([1, 1])\n",
            "the item is =\t tensor([[3772.8079]], device='cuda:0')\n",
            "the size of the item is =\t torch.Size([1, 1])\n",
            "the item is =\t tensor([[3777.5903]], device='cuda:0')\n",
            "the size of the item is =\t torch.Size([1, 1])\n",
            "the item is =\t tensor([[3780.0449]], device='cuda:0')\n",
            "the size of the item is =\t torch.Size([1, 1])\n",
            "the item is =\t tensor([[3798.1655]], device='cuda:0')\n",
            "the size of the item is =\t torch.Size([1, 1])\n",
            "the item is =\t tensor([[3947.9568]], device='cuda:0')\n",
            "the size of the item is =\t torch.Size([1, 1])\n",
            "the item is =\t tensor([[4110.6309]], device='cuda:0')\n",
            "the size of the item is =\t torch.Size([1, 1])\n",
            "the item is =\t tensor([[4100.7500]], device='cuda:0')\n",
            "the size of the item is =\t torch.Size([1, 1])\n",
            "the item is =\t tensor([[4107.2085]], device='cuda:0')\n",
            "the size of the item is =\t torch.Size([1, 1])\n",
            "the item is =\t tensor([[4116.5303]], device='cuda:0')\n",
            "the size of the item is =\t torch.Size([1, 1])\n",
            "the item is =\t tensor([[4183.1958]], device='cuda:0')\n",
            "the size of the item is =\t torch.Size([1, 1])\n",
            "the item is =\t tensor([[4131.7896]], device='cuda:0')\n",
            "the size of the item is =\t torch.Size([1, 1])\n",
            "the item is =\t tensor([[4002.7805]], device='cuda:0')\n",
            "the size of the item is =\t torch.Size([1, 1])\n",
            "the item is =\t tensor([[4005.6338]], device='cuda:0')\n",
            "the size of the item is =\t torch.Size([1, 1])\n",
            "the item is =\t tensor([[3981.1033]], device='cuda:0')\n",
            "the size of the item is =\t torch.Size([1, 1])\n",
            "the item is =\t tensor([[4022.7585]], device='cuda:0')\n",
            "the size of the item is =\t torch.Size([1, 1])\n",
            "the item is =\t tensor([[4005.3416]], device='cuda:0')\n",
            "the size of the item is =\t torch.Size([1, 1])\n",
            "the item is =\t tensor([[3996.2920]], device='cuda:0')\n",
            "the size of the item is =\t torch.Size([1, 1])\n",
            "the item is =\t tensor([[3995.2043]], device='cuda:0')\n",
            "the size of the item is =\t torch.Size([1, 1])\n",
            "the item is =\t tensor([[3954.8381]], device='cuda:0')\n",
            "the size of the item is =\t torch.Size([1, 1])\n",
            "the item is =\t tensor([[3974.9902]], device='cuda:0')\n",
            "the size of the item is =\t torch.Size([1, 1])\n",
            "the item is =\t tensor([[4032.6143]], device='cuda:0')\n",
            "the size of the item is =\t torch.Size([1, 1])\n",
            "the item is =\t tensor([[4061.5447]], device='cuda:0')\n",
            "the size of the item is =\t torch.Size([1, 1])\n",
            "the item is =\t tensor([[4058.1865]], device='cuda:0')\n",
            "the size of the item is =\t torch.Size([1, 1])\n",
            "the item is =\t tensor([[4074.6687]], device='cuda:0')\n",
            "the size of the item is =\t torch.Size([1, 1])\n",
            "the item is =\t tensor([[4077.9050]], device='cuda:0')\n",
            "the size of the item is =\t torch.Size([1, 1])\n",
            "the item is =\t tensor([[4074.0159]], device='cuda:0')\n",
            "the size of the item is =\t torch.Size([1, 1])\n",
            "the item is =\t tensor([[4035.5728]], device='cuda:0')\n",
            "the size of the item is =\t torch.Size([1, 1])\n",
            "the item is =\t tensor([[4056.7449]], device='cuda:0')\n",
            "the size of the item is =\t torch.Size([1, 1])\n",
            "the item is =\t tensor([[4069.6914]], device='cuda:0')\n",
            "the size of the item is =\t torch.Size([1, 1])\n",
            "the item is =\t tensor([[4082.0037]], device='cuda:0')\n",
            "the size of the item is =\t torch.Size([1, 1])\n",
            "the item is =\t tensor([[4156.2432]], device='cuda:0')\n",
            "the size of the item is =\t torch.Size([1, 1])\n",
            "the item is =\t tensor([[4154.1133]], device='cuda:0')\n",
            "the size of the item is =\t torch.Size([1, 1])\n",
            "the item is =\t tensor([[4171.1846]], device='cuda:0')\n",
            "the size of the item is =\t torch.Size([1, 1])\n",
            "the item is =\t tensor([[4172.2886]], device='cuda:0')\n",
            "the size of the item is =\t torch.Size([1, 1])\n",
            "the item is =\t tensor([[4186.1558]], device='cuda:0')\n",
            "the size of the item is =\t torch.Size([1, 1])\n",
            "the item is =\t tensor([[4187.8618]], device='cuda:0')\n",
            "the size of the item is =\t torch.Size([1, 1])\n",
            "the item is =\t tensor([[4176.4062]], device='cuda:0')\n",
            "the size of the item is =\t torch.Size([1, 1])\n",
            "the item is =\t tensor([[4156.0278]], device='cuda:0')\n",
            "the size of the item is =\t torch.Size([1, 1])\n",
            "the item is =\t tensor([[4156.8208]], device='cuda:0')\n",
            "the size of the item is =\t torch.Size([1, 1])\n",
            "the item is =\t tensor([[4130.9971]], device='cuda:0')\n",
            "the size of the item is =\t torch.Size([1, 1])\n",
            "the item is =\t tensor([[4093.9148]], device='cuda:0')\n",
            "the size of the item is =\t torch.Size([1, 1])\n",
            "the item is =\t tensor([[4161.4546]], device='cuda:0')\n",
            "the size of the item is =\t torch.Size([1, 1])\n",
            "the item is =\t tensor([[4199.5454]], device='cuda:0')\n",
            "the size of the item is =\t torch.Size([1, 1])\n",
            "the item is =\t tensor([[4248.2300]], device='cuda:0')\n",
            "the size of the item is =\t torch.Size([1, 1])\n",
            "the item is =\t tensor([[4287.6709]], device='cuda:0')\n",
            "the size of the item is =\t torch.Size([1, 1])\n",
            "the item is =\t tensor([[4271.7690]], device='cuda:0')\n",
            "the size of the item is =\t torch.Size([1, 1])\n",
            "the item is =\t tensor([[4283.7368]], device='cuda:0')\n",
            "the size of the item is =\t torch.Size([1, 1])\n",
            "the item is =\t tensor([[4675.5908]], device='cuda:0')\n",
            "the size of the item is =\t torch.Size([1, 1])\n",
            "the item is =\t tensor([[5210.1187]], device='cuda:0')\n",
            "the size of the item is =\t torch.Size([1, 1])\n",
            "the item is =\t tensor([[5040.8330]], device='cuda:0')\n",
            "the size of the item is =\t torch.Size([1, 1])\n",
            "the item is =\t tensor([[5078.4736]], device='cuda:0')\n",
            "the size of the item is =\t torch.Size([1, 1])\n",
            "the item is =\t tensor([[5176.4663]], device='cuda:0')\n",
            "the size of the item is =\t torch.Size([1, 1])\n",
            "the item is =\t tensor([[5182.2720]], device='cuda:0')\n",
            "the size of the item is =\t torch.Size([1, 1])\n",
            "the item is =\t tensor([[5290.9038]], device='cuda:0')\n",
            "the size of the item is =\t torch.Size([1, 1])\n",
            "the item is =\t tensor([[5281.7695]], device='cuda:0')\n",
            "the size of the item is =\t torch.Size([1, 1])\n",
            "the item is =\t tensor([[5356.2129]], device='cuda:0')\n",
            "the size of the item is =\t torch.Size([1, 1])\n",
            "the item is =\t tensor([[5224.8174]], device='cuda:0')\n",
            "the size of the item is =\t torch.Size([1, 1])\n",
            "the item is =\t tensor([[5078.2373]], device='cuda:0')\n",
            "the size of the item is =\t torch.Size([1, 1])\n",
            "the item is =\t tensor([[5143.1899]], device='cuda:0')\n",
            "the size of the item is =\t torch.Size([1, 1])\n",
            "the item is =\t tensor([[5147.6592]], device='cuda:0')\n",
            "the size of the item is =\t torch.Size([1, 1])\n",
            "the item is =\t tensor([[5146.4399]], device='cuda:0')\n",
            "the size of the item is =\t torch.Size([1, 1])\n",
            "the item is =\t tensor([[5178.5347]], device='cuda:0')\n",
            "the size of the item is =\t torch.Size([1, 1])\n",
            "the item is =\t tensor([[5290.6479]], device='cuda:0')\n",
            "the size of the item is =\t torch.Size([1, 1])\n",
            "the item is =\t tensor([[5326.1992]], device='cuda:0')\n",
            "the size of the item is =\t torch.Size([1, 1])\n",
            "the item is =\t tensor([[5284.2935]], device='cuda:0')\n",
            "the size of the item is =\t torch.Size([1, 1])\n",
            "the item is =\t tensor([[5301.0483]], device='cuda:0')\n",
            "the size of the item is =\t torch.Size([1, 1])\n",
            "the item is =\t tensor([[5288.2202]], device='cuda:0')\n",
            "the size of the item is =\t torch.Size([1, 1])\n",
            "the item is =\t tensor([[5274.9854]], device='cuda:0')\n",
            "the size of the item is =\t torch.Size([1, 1])\n",
            "the item is =\t tensor([[5493.7769]], device='cuda:0')\n",
            "the size of the item is =\t torch.Size([1, 1])\n",
            "the item is =\t tensor([[5525.9385]], device='cuda:0')\n",
            "the size of the item is =\t torch.Size([1, 1])\n",
            "the item is =\t tensor([[5361.7075]], device='cuda:0')\n",
            "the size of the item is =\t torch.Size([1, 1])\n",
            "the item is =\t tensor([[5314.2783]], device='cuda:0')\n",
            "the size of the item is =\t torch.Size([1, 1])\n",
            "the item is =\t tensor([[5265.0557]], device='cuda:0')\n",
            "the size of the item is =\t torch.Size([1, 1])\n",
            "the item is =\t tensor([[5266.4849]], device='cuda:0')\n",
            "the size of the item is =\t torch.Size([1, 1])\n",
            "the item is =\t tensor([[5221.2568]], device='cuda:0')\n",
            "the size of the item is =\t torch.Size([1, 1])\n",
            "the item is =\t tensor([[5324.5488]], device='cuda:0')\n",
            "the size of the item is =\t torch.Size([1, 1])\n",
            "the item is =\t tensor([[5376.7998]], device='cuda:0')\n",
            "the size of the item is =\t torch.Size([1, 1])\n",
            "the item is =\t tensor([[5397.9326]], device='cuda:0')\n",
            "the size of the item is =\t torch.Size([1, 1])\n",
            "the item is =\t tensor([[5734.4233]], device='cuda:0')\n",
            "the size of the item is =\t torch.Size([1, 1])\n",
            "the item is =\t tensor([[5810.1260]], device='cuda:0')\n",
            "the size of the item is =\t torch.Size([1, 1])\n",
            "the item is =\t tensor([[5814.4639]], device='cuda:0')\n",
            "the size of the item is =\t torch.Size([1, 1])\n",
            "the item is =\t tensor([[5793.5591]], device='cuda:0')\n",
            "the size of the item is =\t torch.Size([1, 1])\n",
            "the item is =\t tensor([[5936.9883]], device='cuda:0')\n",
            "the size of the item is =\t torch.Size([1, 1])\n",
            "the item is =\t tensor([[5960.0991]], device='cuda:0')\n",
            "the size of the item is =\t torch.Size([1, 1])\n",
            "the item is =\t tensor([[6131.1777]], device='cuda:0')\n",
            "the size of the item is =\t torch.Size([1, 1])\n",
            "the item is =\t tensor([[6322.4072]], device='cuda:0')\n",
            "the size of the item is =\t torch.Size([1, 1])\n",
            "the item is =\t tensor([[6853.9927]], device='cuda:0')\n",
            "the size of the item is =\t torch.Size([1, 1])\n",
            "the item is =\t tensor([[7215.2778]], device='cuda:0')\n",
            "the size of the item is =\t torch.Size([1, 1])\n",
            "the item is =\t tensor([[7496.7578]], device='cuda:0')\n",
            "the size of the item is =\t torch.Size([1, 1])\n",
            "the item is =\t tensor([[8053.1450]], device='cuda:0')\n",
            "the size of the item is =\t torch.Size([1, 1])\n",
            "the item is =\t tensor([[8127.7852]], device='cuda:0')\n",
            "the size of the item is =\t torch.Size([1, 1])\n",
            "the item is =\t tensor([[8084.2319]], device='cuda:0')\n",
            "the size of the item is =\t torch.Size([1, 1])\n",
            "the item is =\t tensor([[7512.6802]], device='cuda:0')\n",
            "the size of the item is =\t torch.Size([1, 1])\n",
            "the item is =\t tensor([[7365.4907]], device='cuda:0')\n",
            "the size of the item is =\t torch.Size([1, 1])\n",
            "the item is =\t tensor([[7731.9580]], device='cuda:0')\n",
            "the size of the item is =\t torch.Size([1, 1])\n",
            "the item is =\t tensor([[7967.9595]], device='cuda:0')\n",
            "the size of the item is =\t torch.Size([1, 1])\n",
            "the item is =\t tensor([[8027.7031]], device='cuda:0')\n",
            "the size of the item is =\t torch.Size([1, 1])\n",
            "the item is =\t tensor([[7881.3662]], device='cuda:0')\n",
            "the size of the item is =\t torch.Size([1, 1])\n",
            "the item is =\t tensor([[7778.4614]], device='cuda:0')\n",
            "the size of the item is =\t torch.Size([1, 1])\n",
            "the item is =\t tensor([[8041.1323]], device='cuda:0')\n",
            "the size of the item is =\t torch.Size([1, 1])\n",
            "the item is =\t tensor([[8104.3682]], device='cuda:0')\n",
            "the size of the item is =\t torch.Size([1, 1])\n",
            "the item is =\t tensor([[8328.5391]], device='cuda:0')\n",
            "the size of the item is =\t torch.Size([1, 1])\n",
            "the item is =\t tensor([[8889.5781]], device='cuda:0')\n",
            "the size of the item is =\t torch.Size([1, 1])\n",
            "the item is =\t tensor([[8818.8105]], device='cuda:0')\n",
            "the size of the item is =\t torch.Size([1, 1])\n",
            "the item is =\t tensor([[8700.4590]], device='cuda:0')\n",
            "the size of the item is =\t torch.Size([1, 1])\n",
            "the item is =\t tensor([[8626.8330]], device='cuda:0')\n",
            "the size of the item is =\t torch.Size([1, 1])\n",
            "the item is =\t tensor([[8422.0537]], device='cuda:0')\n",
            "the size of the item is =\t torch.Size([1, 1])\n",
            "the item is =\t tensor([[8620.7510]], device='cuda:0')\n",
            "the size of the item is =\t torch.Size([1, 1])\n",
            "the item is =\t tensor([[8754.6562]], device='cuda:0')\n",
            "the size of the item is =\t torch.Size([1, 1])\n",
            "the item is =\t tensor([[8484.5986]], device='cuda:0')\n",
            "the size of the item is =\t torch.Size([1, 1])\n",
            "the item is =\t tensor([[7863.7915]], device='cuda:0')\n",
            "the size of the item is =\t torch.Size([1, 1])\n",
            "the item is =\t tensor([[7799.7700]], device='cuda:0')\n",
            "the size of the item is =\t torch.Size([1, 1])\n",
            "the item is =\t tensor([[7734.4941]], device='cuda:0')\n",
            "the size of the item is =\t torch.Size([1, 1])\n",
            "the item is =\t tensor([[7998.2788]], device='cuda:0')\n",
            "the size of the item is =\t torch.Size([1, 1])\n",
            "the item is =\t tensor([[7988.6162]], device='cuda:0')\n",
            "the size of the item is =\t torch.Size([1, 1])\n",
            "the item is =\t tensor([[7787.7129]], device='cuda:0')\n",
            "the size of the item is =\t torch.Size([1, 1])\n",
            "the item is =\t tensor([[7818.3516]], device='cuda:0')\n",
            "the size of the item is =\t torch.Size([1, 1])\n",
            "the item is =\t tensor([[7940.2959]], device='cuda:0')\n",
            "the size of the item is =\t torch.Size([1, 1])\n",
            "the item is =\t tensor([[8073.2036]], device='cuda:0')\n",
            "the size of the item is =\t torch.Size([1, 1])\n",
            "the item is =\t tensor([[8263.3350]], device='cuda:0')\n",
            "the size of the item is =\t torch.Size([1, 1])\n",
            "the item is =\t tensor([[8497.5195]], device='cuda:0')\n",
            "the size of the item is =\t torch.Size([1, 1])\n",
            "the item is =\t tensor([[8826.9785]], device='cuda:0')\n",
            "the size of the item is =\t torch.Size([1, 1])\n",
            "the item is =\t tensor([[9176.6182]], device='cuda:0')\n",
            "the size of the item is =\t torch.Size([1, 1])\n",
            "the item is =\t tensor([[9295.6104]], device='cuda:0')\n",
            "the size of the item is =\t torch.Size([1, 1])\n",
            "the item is =\t tensor([[9256.0693]], device='cuda:0')\n",
            "the size of the item is =\t torch.Size([1, 1])\n",
            "the item is =\t tensor([[9271.9082]], device='cuda:0')\n",
            "the size of the item is =\t torch.Size([1, 1])\n",
            "the item is =\t tensor([[9497.6377]], device='cuda:0')\n",
            "the size of the item is =\t torch.Size([1, 1])\n",
            "the item is =\t tensor([[9929.8203]], device='cuda:0')\n",
            "the size of the item is =\t torch.Size([1, 1])\n",
            "the item is =\t tensor([[10714.8398]], device='cuda:0')\n",
            "the size of the item is =\t torch.Size([1, 1])\n",
            "the item is =\t tensor([[10978.1416]], device='cuda:0')\n",
            "the size of the item is =\t torch.Size([1, 1])\n",
            "the item is =\t tensor([[10935.4639]], device='cuda:0')\n",
            "the size of the item is =\t torch.Size([1, 1])\n",
            "the item is =\t tensor([[11486.4678]], device='cuda:0')\n",
            "the size of the item is =\t torch.Size([1, 1])\n",
            "the item is =\t tensor([[12740.7432]], device='cuda:0')\n",
            "the size of the item is =\t torch.Size([1, 1])\n",
            "the item is =\t tensor([[11709.4727]], device='cuda:0')\n",
            "the size of the item is =\t torch.Size([1, 1])\n",
            "the item is =\t tensor([[11641.5576]], device='cuda:0')\n",
            "the size of the item is =\t torch.Size([1, 1])\n",
            "the item is =\t tensor([[11947.9795]], device='cuda:0')\n",
            "the size of the item is =\t torch.Size([1, 1])\n",
            "the item is =\t tensor([[11471.3301]], device='cuda:0')\n",
            "the size of the item is =\t torch.Size([1, 1])\n",
            "the item is =\t tensor([[10695.0215]], device='cuda:0')\n",
            "the size of the item is =\t torch.Size([1, 1])\n",
            "the item is =\t tensor([[10371.5596]], device='cuda:0')\n",
            "the size of the item is =\t torch.Size([1, 1])\n",
            "the item is =\t tensor([[11464.5459]], device='cuda:0')\n",
            "the size of the item is =\t torch.Size([1, 1])\n",
            "the item is =\t tensor([[11627.0195]], device='cuda:0')\n",
            "the size of the item is =\t torch.Size([1, 1])\n",
            "the item is =\t tensor([[11232.4609]], device='cuda:0')\n",
            "the size of the item is =\t torch.Size([1, 1])\n",
            "the item is =\t tensor([[11413.7910]], device='cuda:0')\n",
            "the size of the item is =\t torch.Size([1, 1])\n",
            "the item is =\t tensor([[11460.4688]], device='cuda:0')\n",
            "the size of the item is =\t torch.Size([1, 1])\n",
            "the item is =\t tensor([[11906.9756]], device='cuda:0')\n",
            "the size of the item is =\t torch.Size([1, 1])\n",
            "the item is =\t tensor([[12564.3203]], device='cuda:0')\n",
            "the size of the item is =\t torch.Size([1, 1])\n",
            "the item is =\t tensor([[12431.6816]], device='cuda:0')\n",
            "the size of the item is =\t torch.Size([1, 1])\n",
            "the item is =\t tensor([[11646.1768]], device='cuda:0')\n",
            "the size of the item is =\t torch.Size([1, 1])\n",
            "the item is =\t tensor([[11591.5059]], device='cuda:0')\n",
            "the size of the item is =\t torch.Size([1, 1])\n",
            "the item is =\t tensor([[11383.3760]], device='cuda:0')\n",
            "the size of the item is =\t torch.Size([1, 1])\n",
            "the item is =\t tensor([[10861.2705]], device='cuda:0')\n",
            "the size of the item is =\t torch.Size([1, 1])\n",
            "the item is =\t tensor([[10538.8203]], device='cuda:0')\n",
            "the size of the item is =\t torch.Size([1, 1])\n",
            "the item is =\t tensor([[10215.9238]], device='cuda:0')\n",
            "the size of the item is =\t torch.Size([1, 1])\n",
            "the item is =\t tensor([[9613.4189]], device='cuda:0')\n",
            "the size of the item is =\t torch.Size([1, 1])\n",
            "the item is =\t tensor([[10051.5762]], device='cuda:0')\n",
            "the size of the item is =\t torch.Size([1, 1])\n",
            "the item is =\t tensor([[10553.6367]], device='cuda:0')\n",
            "the size of the item is =\t torch.Size([1, 1])\n",
            "the item is =\t tensor([[10852.6377]], device='cuda:0')\n",
            "the size of the item is =\t torch.Size([1, 1])\n",
            "the item is =\t tensor([[10754.3076]], device='cuda:0')\n",
            "the size of the item is =\t torch.Size([1, 1])\n",
            "the item is =\t tensor([[10479.8828]], device='cuda:0')\n",
            "the size of the item is =\t torch.Size([1, 1])\n",
            "the item is =\t tensor([[10191.0791]], device='cuda:0')\n",
            "the size of the item is =\t torch.Size([1, 1])\n",
            "the item is =\t tensor([[9844.8154]], device='cuda:0')\n",
            "the size of the item is =\t torch.Size([1, 1])\n",
            "the item is =\t tensor([[10054.0166]], device='cuda:0')\n",
            "the size of the item is =\t torch.Size([1, 1])\n",
            "the item is =\t tensor([[9919.2822]], device='cuda:0')\n",
            "the size of the item is =\t torch.Size([1, 1])\n",
            "the item is =\t tensor([[9840.0469]], device='cuda:0')\n",
            "the size of the item is =\t torch.Size([1, 1])\n",
            "the item is =\t tensor([[9455.0498]], device='cuda:0')\n",
            "the size of the item is =\t torch.Size([1, 1])\n",
            "the item is =\t tensor([[9662.3213]], device='cuda:0')\n",
            "the size of the item is =\t torch.Size([1, 1])\n",
            "the item is =\t tensor([[9654.2949]], device='cuda:0')\n",
            "the size of the item is =\t torch.Size([1, 1])\n",
            "the item is =\t tensor([[9923.7412]], device='cuda:0')\n",
            "the size of the item is =\t torch.Size([1, 1])\n",
            "the item is =\t tensor([[10265.4971]], device='cuda:0')\n",
            "the size of the item is =\t torch.Size([1, 1])\n",
            "the item is =\t tensor([[10632.8125]], device='cuda:0')\n",
            "the size of the item is =\t torch.Size([1, 1])\n",
            "390\n",
            "390\n"
          ],
          "name": "stdout"
        },
        {
          "output_type": "display_data",
          "data": {
            "image/png": "[encoded data removed]",
            "text/plain": [
              "<Figure size 1440x1080 with 1 Axes>"
            ]
          },
          "metadata": {
            "tags": []
          }
        }
      ]
    },
    {
      "cell_type": "markdown",
      "metadata": {
        "id": "6Q-T1K5rWChB",
        "colab_type": "text"
      },
      "source": [
        "## Model Inference Testing"
      ]
    },
    {
      "cell_type": "code",
      "metadata": {
        "id": "rC1qbe-GH7Iv",
        "colab_type": "code",
        "outputId": "ae05eb82-28cc-4aa8-d821-75d44866857a",
        "colab": {
          "base_uri": "https://localhost:8080/",
          "height": 675
        }
      },
      "source": [
        "class Inferencer(object):\n",
        "    def __init__(self):\n",
        "        pass\n",
        "    def un_normalize(self,norm_val,min_val,max_val,typelist=None):\n",
        "        if(typelist):\n",
        "            for idx,item in enumerate(norm_val):\n",
        "                new_val = item * (max_val - min_val) + min_val\n",
        "                norm_val[idx] = new_val\n",
        "            return norm_val\n",
        "        else:\n",
        "            return norm_val * (max_val - min_val) + min_val \n",
        "\n",
        "    def inference(self,value, normalize_method, model,minimum_price,maximum_price):\n",
        "        value = np.array(value)\n",
        "        predictions = []\n",
        "        for sample in value:\n",
        "            sample = np.array(sample).reshape(1,-1)\n",
        "            example = torch.tensor(normalize_method.transform(sample)).float()\n",
        "            \n",
        "            if(str(device) == 'cuda'):\n",
        "                example = example.to(device)\n",
        "\n",
        "            output = model(example)\n",
        "            output_unnorm = self.un_normalize(norm_val=output.detach(),min_val=minimum_price,max_val=maximum_price)\n",
        "            predictions.append(output_unnorm)\n",
        "        return predictions\n",
        "    \n",
        "    def prediction_visualize(self,window=0,test_vals=[],pred_values=[],inference_values=[]):\n",
        "\n",
        "        if(window == 0):\n",
        "            plt.close()\n",
        "            # --- visualize ---\n",
        "            f,arr = plt.subplots()\n",
        "            arr.plot(test_vals,'#FFA500')\n",
        "            arr.plot(pred_values,'g')\n",
        "\n",
        "            x_val = np.arange(len(pred_values),len(pred_values)+len(inference_values),1)\n",
        "            # -- Connect --\n",
        "            x = [x_val[0] - 1, x_val[0]]\n",
        "            y = [pred_values[-1],inference_values[0]]\n",
        "            arr.plot(x,y,'r')\n",
        "            \n",
        "            arr.plot(x_val,inference_values,'r')\n",
        "            arr.grid()\n",
        "        else:\n",
        "            plt.close()\n",
        "            test_vals = test_vals[-window:]\n",
        "            pred_vals = pred_values[-window:]\n",
        "\n",
        "            f,arr = plt.subplots()\n",
        "            arr.plot(test_vals,'#FFA500')\n",
        "            arr.plot(pred_vals,'g')\n",
        "\n",
        "            x_val = np.arange(len(pred_vals),len(pred_vals)+len(inference_values),1)\n",
        "            # -- Connect --\n",
        "            x = [x_val[0] - 1, x_val[0]]\n",
        "            y = [pred_values[-1],inference_values[0]]\n",
        "            arr.plot(x,y,'r--')\n",
        "\n",
        "            arr.plot(x_val,inference_values,'r--')\n",
        "            arr.grid()\n",
        "\n",
        "            start = min( np.min(test_vals),np.min(pred_vals),np.min(inference_values))\n",
        "            end = max(( np.max(test_vals),np.max(pred_vals),np.max(inference_values)))\n",
        "\n",
        "            plt.yticks(np.arange(start-100,end+100,100))\n",
        "            arr.set_title(str(window) + ' day BTCUSD Price Prediction')\n",
        "            arr.legend(['Actual Value','Predicted Value','Inference'],prop={'size': 15})\n",
        "\n",
        "            fig_size[0] = 10\n",
        "            fig_size[1] = 10\n",
        "            plt.rcParams[\"figure.figsize\"] = fig_size\n",
        "\n",
        "            \n",
        "\n",
        "def main(normalizer,model,minimum_price,maximum_price,test_vals,predicted_vals):\n",
        "    inf = Inferencer()\n",
        "    print(minimum_price)\n",
        "    print(maximum_price)\n",
        "    output = inf.inference(value=[[10300,11100,vol[-1]] ,\n",
        "                                  [10500,11100,25000],\n",
        "                                  [10400,11100,33424]\n",
        "                                  ],\n",
        "                       normalize_method=normalizer,\n",
        "                       model=model,\n",
        "                       minimum_price=minimum_price,\n",
        "                       maximum_price=maximum_price\n",
        "                      )\n",
        "    print('BTC prediction: ', output)\n",
        "\n",
        "    for idx,out in enumerate(output):\n",
        "        output[idx] = np.asscalar(out.cpu())\n",
        "    print(output)\n",
        "\n",
        "    inf.prediction_visualize(window=30,\n",
        "                             test_vals=test_vals,\n",
        "                             pred_values=predicted_vals,\n",
        "                             inference_values=output\n",
        "                             )\n",
        "    \n",
        "\n",
        "    \n",
        "main(normalizer=min_max_scaler,\n",
        "     model=price_model,\n",
        "     minimum_price=min_price,\n",
        "     maximum_price=max_price,\n",
        "     test_vals=test_values,\n",
        "     predicted_vals=pred_values)\n",
        "\n"
      ],
      "execution_count": 104,
      "outputs": [
        {
          "output_type": "stream",
          "text": [
            "tensor(178.3485, dtype=torch.float64)\n",
            "tensor(19394.7576, dtype=torch.float64)\n",
            "BTC prediction:  [tensor([[10904.8301]], device='cuda:0'), tensor([[10993.2949]], device='cuda:0'), tensor([[10959.7188]], device='cuda:0')]\n",
            "[10904.830078125, 10993.294921875, 10959.71875]\n"
          ],
          "name": "stdout"
        },
        {
          "output_type": "display_data",
          "data": {
            "image/png": "[encoded data removed]",
            "text/plain": [
              "<Figure size 720x720 with 1 Axes>"
            ]
          },
          "metadata": {
            "tags": []
          }
        }
      ]
    },
    {
      "cell_type": "code",
      "metadata": {
        "id": "FvfD0cni6z4O",
        "colab_type": "code",
        "colab": {}
      },
      "source": [
        ""
      ],
      "execution_count": 0,
      "outputs": []
    }
  ]
}