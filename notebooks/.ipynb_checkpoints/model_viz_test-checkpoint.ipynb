{
 "cells": [
  {
   "cell_type": "markdown",
   "metadata": {},
   "source": [
    "# Bitcoin Price Prediction \n",
    "## Gohur Ali, Matthew Rodriguez\n",
    "\n",
    "In this notebook we prototype some deep learning models built in PyTorch to discover patterns to aid in the prediction of various trends in Bitcoin. Overall, we hope that it helps us in our personal investments.\n",
    "\n",
    "We employ the use of multilayer perceptrons for volume and price prediction."
   ]
  },
  {
   "cell_type": "code",
   "execution_count": 1,
   "metadata": {
    "colab": {
     "base_uri": "https://localhost:8080/",
     "height": 129
    },
    "colab_type": "code",
    "id": "-xkssd58cEK5",
    "outputId": "41cc002e-9905-4d9b-b377-c8c6f4fb0c30"
   },
   "outputs": [],
   "source": [
    "#from google.colab import drive\n",
    "#drive.mount('/content/gdrive')\n",
    "import requests\n",
    "import os\n",
    "import yaml\n",
    "import json\n",
    "import numpy as np\n",
    "import pandas as pd\n",
    "import torch\n",
    "import torch.nn as nn\n",
    "import torch.nn.functional as F\n",
    "import torch.utils.data\n",
    "import sklearn\n",
    "from sklearn import preprocessing\n",
    "from sklearn.model_selection import train_test_split\n",
    "from tqdm import tqdm\n",
    "import matplotlib.pyplot as plt\n",
    "import urllib3\n",
    "import cryptocompare\n",
    "from datetime import datetime"
   ]
  },
  {
   "cell_type": "code",
   "execution_count": 2,
   "metadata": {
    "colab": {
     "base_uri": "https://localhost:8080/",
     "height": 35
    },
    "colab_type": "code",
    "id": "dj0xknt5cJwl",
    "outputId": "6074390f-d1dd-4b84-c5ef-03841f1b8742",
    "scrolled": false
   },
   "outputs": [
    {
     "name": "stdout",
     "output_type": "stream",
     "text": [
      "PyTorch version: 1.0.1.post2\n"
     ]
    }
   ],
   "source": [
    "print(\"PyTorch version:\", torch.__version__)"
   ]
  },
  {
   "cell_type": "code",
   "execution_count": 3,
   "metadata": {
    "scrolled": true
   },
   "outputs": [
    {
     "name": "stdout",
     "output_type": "stream",
     "text": [
      "{'TimeFrom': 1439683200, 'Type': 100, 'RateLimit': {}, 'Aggregated': False, 'TimeTo': 1564099200, 'HasWarning': False, 'FirstValueInArray': True, 'Response': 'Success', 'Data': [{'low': 254.57, 'volumeto': 17880398.95, 'open': 260.52, 'close': 257.12, 'high': 261.92, 'time': 1439683200, 'volumefrom': 69037.08}, {'low': 252.87, 'volumeto': 12378054.89, 'open': 257.12, 'close': 257.13, 'high': 259.93, 'time': 1439769600, 'volumefrom': 47882.96}, {'low': 245.74, 'volumeto': 23896056.77, 'open': 257.13, 'close': 246.72, 'high': 257.53, 'time': 1439856000, 'volumefrom': 94503.04}, {'low': 214.29, 'volumeto': 55514712.14, 'open': 246.72, 'close': 226, 'high': 247.95, 'time': 1439942400, 'volumefrom': 245822.71}, {'low': 225.54, 'volumeto': 21225055.42, 'open': 226, 'close': 234.66, 'high': 238.03, 'time': 1440028800, 'volumefrom': 90981.27}, {'low': 230.48, 'volumeto': 13485729.48, 'open': 234.66, 'close': 232.4, 'high': 236.3, 'time': 1440115200, 'volumefrom': 57649.08}, {'low': 221.04, 'volumeto': 16976922.67, 'open': 232.4, 'close': 229.54, 'high': 235.07, 'time': 1440201600, 'volumefrom': 74205.5}, {'low': 224.27, 'volumeto': 11204081.47, 'open': 229.54, 'close': 226.75, 'high': 232.7, 'time': 1440288000, 'volumefrom': 48840.79}, {'low': 207.82, 'volumeto': 43008579.43, 'open': 226.75, 'close': 211.43, 'high': 228.43, 'time': 1440374400, 'volumefrom': 196695.2}, {'low': 196.26, 'volumeto': 40651749.53, 'open': 211.43, 'close': 220.51, 'high': 226.55, 'time': 1440460800, 'volumefrom': 190793.65}, {'low': 218.79, 'volumeto': 20986286.41, 'open': 220.51, 'close': 224.97, 'high': 230.69, 'time': 1440547200, 'volumefrom': 92812.47}, {'low': 222, 'volumeto': 13631111.36, 'open': 224.97, 'close': 222.73, 'high': 228.44, 'time': 1440633600, 'volumefrom': 60246.06}, {'low': 219.6, 'volumeto': 20751420.42, 'open': 222.73, 'close': 231.64, 'high': 234.81, 'time': 1440720000, 'volumefrom': 90660.85}, {'low': 226.35, 'volumeto': 10072201.21, 'open': 231.64, 'close': 228.5, 'high': 233.09, 'time': 1440806400, 'volumefrom': 43740.08}, {'low': 225.44, 'volumeto': 9118089.39, 'open': 228.5, 'close': 228.4, 'high': 232.32, 'time': 1440892800, 'volumefrom': 39808.01}, {'low': 224.2, 'volumeto': 12521966.49, 'open': 228.4, 'close': 229.47, 'high': 231.79, 'time': 1440979200, 'volumefrom': 54507.28}, {'low': 225.76, 'volumeto': 15206241.05, 'open': 229.47, 'close': 227.18, 'high': 231.45, 'time': 1441065600, 'volumefrom': 66543.6}, {'low': 225.57, 'volumeto': 13443780.85, 'open': 227.18, 'close': 228.63, 'high': 230.59, 'time': 1441152000, 'volumefrom': 58765.75}, {'low': 225.36, 'volumeto': 12337406.44, 'open': 228.63, 'close': 226.2, 'high': 229.62, 'time': 1441238400, 'volumefrom': 54150.19}, {'low': 225.75, 'volumeto': 14174313.31, 'open': 226.2, 'close': 230.25, 'high': 231.06, 'time': 1441324800, 'volumefrom': 61762.93}, {'low': 228.29, 'volumeto': 11253257.52, 'open': 230.25, 'close': 233.67, 'high': 235.61, 'time': 1441411200, 'volumefrom': 48280.18}, {'low': 234.74, 'volumeto': 15939620.21, 'open': 233.67, 'close': 239.86, 'high': 243.64, 'time': 1441497600, 'volumefrom': 66271.08}, {'low': 237.49, 'volumeto': 13744695.27, 'open': 239.86, 'close': 239.58, 'high': 242.66, 'time': 1441584000, 'volumefrom': 57187.93}, {'low': 239.23, 'volumeto': 18605471.98, 'open': 239.58, 'close': 243.24, 'high': 246.38, 'time': 1441670400, 'volumefrom': 76353.97}, {'low': 236.49, 'volumeto': 16636258.68, 'open': 243.24, 'close': 237.41, 'high': 244.34, 'time': 1441756800, 'volumefrom': 69263.89}, {'low': 234.31, 'volumeto': 14447606.84, 'open': 237.41, 'close': 238.08, 'high': 240.63, 'time': 1441843200, 'volumefrom': 60537.22}, {'low': 237.38, 'volumeto': 10992443.1, 'open': 238.08, 'close': 239.9, 'high': 241.02, 'time': 1441929600, 'volumefrom': 45773.98}, {'low': 233.32, 'volumeto': 10407178.6, 'open': 239.9, 'close': 235.6, 'high': 240.32, 'time': 1442016000, 'volumefrom': 43773.9}, {'low': 228.28, 'volumeto': 11983360.26, 'open': 235.6, 'close': 230.19, 'high': 236.16, 'time': 1442102400, 'volumefrom': 51595.8}, {'low': 225.96, 'volumeto': 14070910.12, 'open': 230.19, 'close': 229.91, 'high': 232.64, 'time': 1442188800, 'volumefrom': 61097.39}, {'low': 228.03, 'volumeto': 11425472.46, 'open': 229.91, 'close': 229.53, 'high': 242.83, 'time': 1442275200, 'volumefrom': 49516.04}, {'low': 225.05, 'volumeto': 11866728.14, 'open': 229.53, 'close': 228.6, 'high': 230.89, 'time': 1442361600, 'volumefrom': 51913.1}, {'low': 227.95, 'volumeto': 12975914.38, 'open': 228.6, 'close': 232.72, 'high': 235.17, 'time': 1442448000, 'volumefrom': 56060.73}, {'low': 230.58, 'volumeto': 12397851.98, 'open': 232.72, 'close': 232.21, 'high': 234.69, 'time': 1442534400, 'volumefrom': 53168.52}, {'low': 230.21, 'volumeto': 8004103.62, 'open': 232.21, 'close': 231.11, 'high': 233.35, 'time': 1442620800, 'volumefrom': 34470.84}, {'low': 229.93, 'volumeto': 7676869.88, 'open': 231.11, 'close': 231.09, 'high': 232.67, 'time': 1442707200, 'volumefrom': 33153.05}, {'low': 225, 'volumeto': 12180039.21, 'open': 231.09, 'close': 226.33, 'high': 231.63, 'time': 1442793600, 'volumefrom': 53425.18}, {'low': 224.07, 'volumeto': 16390021.59, 'open': 226.33, 'close': 230.01, 'high': 233.24, 'time': 1442880000, 'volumefrom': 71545.59}, {'low': 228.5, 'volumeto': 10064288.46, 'open': 230.01, 'close': 229.89, 'high': 232.2, 'time': 1442966400, 'volumefrom': 43602.2}, {'low': 229.57, 'volumeto': 16797644.6, 'open': 229.89, 'close': 233.76, 'high': 235.84, 'time': 1443052800, 'volumefrom': 72124.09}, {'low': 232.7, 'volumeto': 14510987.84, 'open': 233.76, 'close': 235.03, 'high': 237.58, 'time': 1443139200, 'volumefrom': 61574.99}, {'low': 232.74, 'volumeto': 9449846.08, 'open': 235.03, 'close': 234.3, 'high': 235.71, 'time': 1443225600, 'volumefrom': 40288.81}, {'low': 231.84, 'volumeto': 8429802.53, 'open': 234.3, 'close': 232.5, 'high': 234.75, 'time': 1443312000, 'volumefrom': 36139.39}, {'low': 232.37, 'volumeto': 15282768.65, 'open': 232.5, 'close': 238.87, 'high': 240.39, 'time': 1443398400, 'volumefrom': 64274.87}, {'low': 234.8, 'volumeto': 13637645.5, 'open': 238.87, 'close': 236.71, 'high': 240.39, 'time': 1443484800, 'volumefrom': 57296.63}, {'low': 234.39, 'volumeto': 11946864.9, 'open': 236.71, 'close': 235.93, 'high': 237.83, 'time': 1443571200, 'volumefrom': 50515.18}, {'low': 234.7, 'volumeto': 12534482.83, 'open': 235.93, 'close': 237.05, 'high': 238.66, 'time': 1443657600, 'volumefrom': 52884.47}, {'low': 235.14, 'volumeto': 11378441.69, 'open': 237.05, 'close': 236.71, 'high': 238.45, 'time': 1443744000, 'volumefrom': 47941.6}, {'low': 236.07, 'volumeto': 10338780.01, 'open': 236.71, 'close': 238.58, 'high': 239.52, 'time': 1443830400, 'volumefrom': 43304.67}, {'low': 237.51, 'volumeto': 7618430.27, 'open': 238.58, 'close': 238.33, 'high': 277.58, 'time': 1443916800, 'volumefrom': 31854.49}, {'low': 236.41, 'volumeto': 14631928.87, 'open': 238.33, 'close': 240.15, 'high': 240.53, 'time': 1444003200, 'volumefrom': 61240.52}, {'low': 239.36, 'volumeto': 19242190.45, 'open': 240.15, 'close': 246.14, 'high': 247.61, 'time': 1444089600, 'volumefrom': 78843.88}, {'low': 241.65, 'volumeto': 15363142.53, 'open': 246.14, 'close': 242.98, 'high': 247.28, 'time': 1444176000, 'volumefrom': 62600.8}, {'low': 241.57, 'volumeto': 10762328.45, 'open': 242.98, 'close': 242.58, 'high': 244.79, 'time': 1444262400, 'volumefrom': 44153.62}, {'low': 241.34, 'volumeto': 9897714.74, 'open': 242.58, 'close': 244.04, 'high': 244.56, 'time': 1444348800, 'volumefrom': 40572.8}, {'low': 242.89, 'volumeto': 9547124.76, 'open': 244.04, 'close': 245.35, 'high': 245.93, 'time': 1444435200, 'volumefrom': 38960.98}, {'low': 244.47, 'volumeto': 10232454.52, 'open': 245.35, 'close': 247.65, 'high': 248.26, 'time': 1444521600, 'volumefrom': 41425.58}, {'low': 244.65, 'volumeto': 9961674.07, 'open': 247.65, 'close': 245.35, 'high': 248.02, 'time': 1444608000, 'volumefrom': 40389.34}, {'low': 243.11, 'volumeto': 18553307.06, 'open': 245.35, 'close': 248.78, 'high': 251.19, 'time': 1444694400, 'volumefrom': 74881.9}, {'low': 248.28, 'volumeto': 17511356.73, 'open': 248.78, 'close': 252.33, 'high': 255.06, 'time': 1444780800, 'volumefrom': 69581.72}, {'low': 251.17, 'volumeto': 15465023.84, 'open': 252.33, 'close': 254.44, 'high': 256.76, 'time': 1444867200, 'volumefrom': 60635.46}, {'low': 253.93, 'volumeto': 24886162.93, 'open': 254.44, 'close': 262.87, 'high': 267.27, 'time': 1444953600, 'volumefrom': 95178.55}, {'low': 261.74, 'volumeto': 30715446.42, 'open': 262.87, 'close': 269.58, 'high': 275.41, 'time': 1445040000, 'volumefrom': 113842.13}, {'low': 259.53, 'volumeto': 13921233.73, 'open': 269.58, 'close': 261.67, 'high': 272.44, 'time': 1445126400, 'volumefrom': 52264.98}, {'low': 259.89, 'volumeto': 15352671.06, 'open': 261.67, 'close': 263.82, 'high': 265.95, 'time': 1445212800, 'volumefrom': 58169.97}, {'low': 262.7, 'volumeto': 20200355.34, 'open': 263.82, 'close': 269.75, 'high': 272.12, 'time': 1445299200, 'volumefrom': 75401.79}, {'low': 263.54, 'volumeto': 16006977.1, 'open': 269.75, 'close': 267.11, 'high': 272.17, 'time': 1445385600, 'volumefrom': 59638.03}, {'low': 266.8, 'volumeto': 25481882.58, 'open': 267.11, 'close': 274.42, 'high': 278.74, 'time': 1445472000, 'volumefrom': 93154.36}, {'low': 273.17, 'volumeto': 19221822.38, 'open': 274.42, 'close': 276.92, 'high': 279.77, 'time': 1445558400, 'volumefrom': 69321.79}, {'low': 277.01, 'volumeto': 16875626.47, 'open': 276.92, 'close': 282.56, 'high': 283.05, 'time': 1445644800, 'volumefrom': 60132.74}, {'low': 281.75, 'volumeto': 32946170.24, 'open': 282.56, 'close': 287.86, 'high': 295.56, 'time': 1445731200, 'volumefrom': 113901.26}, {'low': 279.62, 'volumeto': 20794049.79, 'open': 287.86, 'close': 285.15, 'high': 287.62, 'time': 1445817600, 'volumefrom': 73205.79}, {'low': 285.09, 'volumeto': 31003938.2, 'open': 285.15, 'close': 294.66, 'high': 298.43, 'time': 1445904000, 'volumefrom': 105868.3}, {'low': 294.02, 'volumeto': 35117112.66, 'open': 294.66, 'close': 303.54, 'high': 307.46, 'time': 1445990400, 'volumefrom': 116408.66}, {'low': 300.16, 'volumeto': 43194878.81, 'open': 303.54, 'close': 313.63, 'high': 318.48, 'time': 1446076800, 'volumefrom': 138919.55}, {'low': 310.82, 'volumeto': 50796456.31, 'open': 313.63, 'close': 327.12, 'high': 334.92, 'time': 1446163200, 'volumefrom': 156489.02}, {'low': 304.6, 'volumeto': 33762428.44, 'open': 327.12, 'close': 311.24, 'high': 333.25, 'time': 1446249600, 'volumefrom': 105831.92}, {'low': 304.72, 'volumeto': 23427549.6, 'open': 311.24, 'close': 322.95, 'high': 324.34, 'time': 1446336000, 'volumefrom': 73712.79}, {'low': 319.75, 'volumeto': 76864059.45, 'open': 322.95, 'close': 359.28, 'high': 365.75, 'time': 1446422400, 'volumefrom': 223094.73}, {'low': 354.58, 'volumeto': 163481625.82, 'open': 359.28, 'close': 396.49, 'high': 416.78, 'time': 1446508800, 'volumefrom': 421992.87}, {'low': 368.62, 'volumeto': 229673024.39, 'open': 396.49, 'close': 400.89, 'high': 492.8, 'time': 1446595200, 'volumefrom': 517733.91}, {'low': 366.08, 'volumeto': 121763708.16, 'open': 400.89, 'close': 382.7, 'high': 447.24, 'time': 1446681600, 'volumefrom': 302953.09}, {'low': 348.84, 'volumeto': 94921694.02, 'open': 382.7, 'close': 369.81, 'high': 396.35, 'time': 1446768000, 'volumefrom': 255274.81}, {'low': 368.98, 'volumeto': 39495095, 'open': 369.81, 'close': 385.09, 'high': 391.75, 'time': 1446854400, 'volumefrom': 103025.55}, {'low': 365.49, 'volumeto': 35907981.64, 'open': 385.09, 'close': 371.56, 'high': 389.78, 'time': 1446940800, 'volumefrom': 94356.82}, {'low': 360.17, 'volumeto': 47074440.94, 'open': 371.56, 'close': 380.22, 'high': 385.11, 'time': 1447027200, 'volumefrom': 125535.36}, {'low': 323.21, 'volumeto': 74896052.37, 'open': 380.22, 'close': 336.69, 'high': 381.38, 'time': 1447113600, 'volumefrom': 210288.65}, {'low': 292.38, 'volumeto': 83078426.53, 'open': 336.69, 'close': 304.71, 'high': 341.76, 'time': 1447200000, 'volumefrom': 263962.67}, {'low': 306.07, 'volumeto': 54120828.19, 'open': 304.71, 'close': 333.85, 'high': 346.13, 'time': 1447286400, 'volumefrom': 164613.86}, {'low': 323.91, 'volumeto': 32480298.94, 'open': 333.85, 'close': 333.77, 'high': 341.79, 'time': 1447372800, 'volumefrom': 97247.84}, {'low': 326.35, 'volumeto': 23836097.89, 'open': 333.77, 'close': 331.77, 'high': 369.8, 'time': 1447459200, 'volumefrom': 71109.3}, {'low': 314.16, 'volumeto': 28640663.53, 'open': 331.77, 'close': 317.45, 'high': 334.78, 'time': 1447545600, 'volumefrom': 88318.89}, {'low': 314.06, 'volumeto': 28260517.56, 'open': 317.45, 'close': 330.21, 'high': 332.01, 'time': 1447632000, 'volumefrom': 87141.33}, {'low': 328.15, 'volumeto': 32944787.48, 'open': 330.21, 'close': 333.91, 'high': 342.91, 'time': 1447718400, 'volumefrom': 98247.88}, {'low': 329.42, 'volumeto': 26194853.26, 'open': 333.91, 'close': 335.92, 'high': 337.39, 'time': 1447804800, 'volumefrom': 78355.69}, {'low': 323.36, 'volumeto': 28543062.16, 'open': 335.92, 'close': 324.98, 'high': 335.64, 'time': 1447891200, 'volumefrom': 86374.86}, {'low': 309.48, 'volumeto': 35090324.43, 'open': 324.98, 'close': 321.12, 'high': 327.06, 'time': 1447977600, 'volumefrom': 109984.76}, {'low': 318.37, 'volumeto': 14652996.7, 'open': 321.12, 'close': 324.7, 'high': 328.42, 'time': 1448064000, 'volumefrom': 44997.78}, {'low': 319.35, 'volumeto': 11915632.14, 'open': 324.7, 'close': 322.78, 'high': 326.94, 'time': 1448150400, 'volumefrom': 36748.64}, {'low': 319.89, 'volumeto': 13839023.95, 'open': 322.78, 'close': 322.12, 'high': 325, 'time': 1448236800, 'volumefrom': 42733.54}, {'low': 315.54, 'volumeto': 16282941.39, 'open': 322.12, 'close': 318.35, 'high': 323.26, 'time': 1448323200, 'volumefrom': 50660.16}, {'low': 315.69, 'volumeto': 25200934.79, 'open': 318.35, 'close': 327.52, 'high': 330.04, 'time': 1448409600, 'volumefrom': 77684.42}, {'low': 327.4, 'volumeto': 73395832.57, 'open': 327.52, 'close': 353.74, 'high': 368.92, 'time': 1448496000, 'volumefrom': 211376.8}, {'low': 345.15, 'volumeto': 36955394.2, 'open': 353.74, 'close': 359.52, 'high': 363.9, 'time': 1448582400, 'volumefrom': 103479.86}, {'low': 350.49, 'volumeto': 19988111.49, 'open': 359.52, 'close': 355.83, 'high': 360.08, 'time': 1448668800, 'volumefrom': 56171.07}, {'low': 354.55, 'volumeto': 24546100.04, 'open': 355.83, 'close': 370.84, 'high': 372.84, 'time': 1448755200, 'volumefrom': 67365.88}, {'low': 367.87, 'volumeto': 48913368.38, 'open': 370.84, 'close': 377.97, 'high': 382.56, 'time': 1448841600, 'volumefrom': 129767.07}, {'low': 353.66, 'volumeto': 40821470.73, 'open': 377.97, 'close': 361.8, 'high': 379.02, 'time': 1448928000, 'volumefrom': 111904.7}, {'low': 347.16, 'volumeto': 32881089.02, 'open': 361.8, 'close': 359.98, 'high': 363.43, 'time': 1449014400, 'volumefrom': 92449.73}, {'low': 355.47, 'volumeto': 31673283.3, 'open': 359.98, 'close': 360.31, 'high': 371.37, 'time': 1449100800, 'volumefrom': 87225.21}, {'low': 354.31, 'volumeto': 21820610.2, 'open': 360.31, 'close': 361.67, 'high': 363.95, 'time': 1449187200, 'volumefrom': 60548.44}, {'low': 361.5, 'volumeto': 43438102.1, 'open': 361.67, 'close': 386.69, 'high': 390.28, 'time': 1449273600, 'volumefrom': 115198.52}, {'low': 382.62, 'volumeto': 52068577.43, 'open': 386.69, 'close': 393.38, 'high': 402.19, 'time': 1449360000, 'volumefrom': 131856.64}, {'low': 381.69, 'volumeto': 38102878.77, 'open': 393.38, 'close': 394.28, 'high': 398.74, 'time': 1449446400, 'volumefrom': 96750.51}, {'low': 388.03, 'volumeto': 29543120.08, 'open': 394.28, 'close': 410.67, 'high': 411.07, 'time': 1449532800, 'volumefrom': 74361.57}, {'low': 403.26, 'volumeto': 61289838.7, 'open': 410.67, 'close': 416, 'high': 424.58, 'time': 1449619200, 'volumefrom': 147362.83}, {'low': 409.53, 'volumeto': 29794270.99, 'open': 416, 'close': 415.49, 'high': 420.36, 'time': 1449705600, 'volumefrom': 71661.75}, {'low': 413.72, 'volumeto': 76433917.46, 'open': 415.49, 'close': 449.83, 'high': 453.37, 'time': 1449792000, 'volumefrom': 175058.38}, {'low': 403.69, 'volumeto': 91838640.61, 'open': 449.83, 'close': 432.29, 'high': 467.71, 'time': 1449878400, 'volumefrom': 211440.71}, {'low': 420.76, 'volumeto': 27898250.74, 'open': 432.29, 'close': 434.69, 'high': 440.97, 'time': 1449964800, 'volumefrom': 64139.63}, {'low': 428.84, 'volumeto': 97068568.78, 'open': 434.69, 'close': 442, 'high': 449.45, 'time': 1450051200, 'volumefrom': 218923.82}, {'low': 440.72, 'volumeto': 48912227.87, 'open': 442, 'close': 462.65, 'high': 464.23, 'time': 1450137600, 'volumefrom': 107064.22}, {'low': 437.37, 'volumeto': 84336145.39, 'open': 462.65, 'close': 453.98, 'high': 465.16, 'time': 1450224000, 'volumefrom': 185221.17}, {'low': 447.29, 'volumeto': 29344348.08, 'open': 453.98, 'close': 455.53, 'high': 458.44, 'time': 1450310400, 'volumefrom': 64574.94}, {'low': 453.46, 'volumeto': 38425211.05, 'open': 455.53, 'close': 463.18, 'high': 466.12, 'time': 1450396800, 'volumefrom': 83409.95}, {'low': 452.33, 'volumeto': 28327900.15, 'open': 463.18, 'close': 461.2, 'high': 465.99, 'time': 1450483200, 'volumefrom': 61309.41}, {'low': 431.1, 'volumeto': 54316484.95, 'open': 461.2, 'close': 441.78, 'high': 462.76, 'time': 1450569600, 'volumefrom': 121531.64}, {'low': 423.99, 'volumeto': 53270215.6, 'open': 441.78, 'close': 437.59, 'high': 445.54, 'time': 1450656000, 'volumefrom': 121990.88}, {'low': 433.25, 'volumeto': 28845536.39, 'open': 437.59, 'close': 437.03, 'high': 443.22, 'time': 1450742400, 'volumefrom': 65785.54}, {'low': 434.28, 'volumeto': 27877349.1, 'open': 437.03, 'close': 442.43, 'high': 444.78, 'time': 1450828800, 'volumefrom': 63247.04}, {'low': 441.76, 'volumeto': 36096662.15, 'open': 442.43, 'close': 452.98, 'high': 460.62, 'time': 1450915200, 'volumefrom': 79604.01}, {'low': 449.52, 'volumeto': 19251958.85, 'open': 452.98, 'close': 454.05, 'high': 457.44, 'time': 1451001600, 'volumefrom': 42390.82}, {'low': 400.45, 'volumeto': 88564770.72, 'open': 454.05, 'close': 415.37, 'high': 456.48, 'time': 1451088000, 'volumefrom': 208582.27}, {'low': 406.09, 'volumeto': 28259303.48, 'open': 415.37, 'close': 422.39, 'high': 425.51, 'time': 1451174400, 'volumefrom': 67581.91}, {'low': 417.14, 'volumeto': 28978639.73, 'open': 422.39, 'close': 421.76, 'high': 429.85, 'time': 1451260800, 'volumefrom': 68345.44}, {'low': 419.3, 'volumeto': 30163445.65, 'open': 421.76, 'close': 431.92, 'high': 433.56, 'time': 1451347200, 'volumefrom': 70645.37}, {'low': 420.77, 'volumeto': 29289416.54, 'open': 431.92, 'close': 427.15, 'high': 435.04, 'time': 1451433600, 'volumefrom': 68269.9}, {'low': 417.14, 'volumeto': 27758278.73, 'open': 427.15, 'close': 429.95, 'high': 433.12, 'time': 1451520000, 'volumefrom': 65213.47}, {'low': 425.86, 'volumeto': 20334286.58, 'open': 429.95, 'close': 433.99, 'high': 437.95, 'time': 1451606400, 'volumefrom': 46973.12}, {'low': 430.73, 'volumeto': 14566820.95, 'open': 433.99, 'close': 433.72, 'high': 437.43, 'time': 1451692800, 'volumefrom': 33570.39}, {'low': 423.09, 'volumeto': 23490162.61, 'open': 433.72, 'close': 430.7, 'high': 434.14, 'time': 1451779200, 'volumefrom': 54826.26}, {'low': 428.6, 'volumeto': 22943968.22, 'open': 430.7, 'close': 433.32, 'high': 435.26, 'time': 1451865600, 'volumefrom': 53007.87}, {'low': 428.87, 'volumeto': 19499588.99, 'open': 433.32, 'close': 431.2, 'high': 435.25, 'time': 1451952000, 'volumefrom': 45029.87}, {'low': 425, 'volumeto': 18702334.67, 'open': 431.2, 'close': 430.82, 'high': 432.11, 'time': 1452038400, 'volumefrom': 43432.03}, {'low': 428.52, 'volumeto': 58253615.03, 'open': 430.82, 'close': 457.05, 'high': 457.54, 'time': 1452124800, 'volumefrom': 130197.44}, {'low': 446.51, 'volumeto': 41594025.32, 'open': 457.05, 'close': 452.87, 'high': 462.92, 'time': 1452211200, 'volumefrom': 91304.61}, {'low': 444.9, 'volumeto': 17967113.95, 'open': 452.87, 'close': 448.31, 'high': 454.55, 'time': 1452297600, 'volumefrom': 39809.95}, {'low': 438.62, 'volumeto': 19778456.68, 'open': 448.31, 'close': 446.19, 'high': 448.88, 'time': 1452384000, 'volumefrom': 44457.28}, {'low': 441.77, 'volumeto': 25358480.83, 'open': 446.19, 'close': 447.72, 'high': 451.08, 'time': 1452470400, 'volumefrom': 56587.4}, {'low': 443.14, 'volumeto': 19913400.66, 'open': 447.72, 'close': 445.04, 'high': 448.41, 'time': 1452556800, 'volumefrom': 44585.93}, {'low': 420.39, 'volumeto': 39525195.32, 'open': 445.04, 'close': 432.18, 'high': 443.72, 'time': 1452643200, 'volumefrom': 92040.06}, {'low': 427.01, 'volumeto': 19948730.59, 'open': 432.18, 'close': 429.13, 'high': 433.74, 'time': 1452729600, 'volumefrom': 46172.51}, {'low': 364.71, 'volumeto': 107060613.39, 'open': 429.13, 'close': 372.26, 'high': 430.15, 'time': 1452816000, 'volumefrom': 268141.73}, {'low': 350.39, 'volumeto': 68297105.65, 'open': 372.26, 'close': 385.04, 'high': 386.72, 'time': 1452902400, 'volumefrom': 183962.03}, {'low': 377.71, 'volumeto': 25464382.4, 'open': 385.04, 'close': 382.47, 'high': 390.72, 'time': 1452988800, 'volumefrom': 66089.34}, {'low': 373.21, 'volumeto': 26546465.91, 'open': 382.47, 'close': 384.4, 'high': 387.29, 'time': 1453075200, 'volumefrom': 69301.33}, {'low': 375.89, 'volumeto': 25417876.87, 'open': 384.4, 'close': 379.46, 'high': 386.69, 'time': 1453161600, 'volumefrom': 66345.24}, {'low': 374.05, 'volumeto': 76873917.15, 'open': 379.46, 'close': 414.58, 'high': 425.72, 'time': 1453248000, 'volumefrom': 190316.94}, {'low': 403.86, 'volumeto': 37264942.18, 'open': 414.58, 'close': 410.24, 'high': 423.42, 'time': 1453334400, 'volumefrom': 89938.22}, {'low': 374.9, 'volumeto': 56548790.09, 'open': 410.24, 'close': 382.65, 'high': 411.49, 'time': 1453420800, 'volumefrom': 144856.97}, {'low': 380.27, 'volumeto': 23908533.75, 'open': 382.65, 'close': 388.61, 'high': 395.43, 'time': 1453507200, 'volumefrom': 61383.14}, {'low': 385.53, 'volumeto': 25770175.58, 'open': 388.61, 'close': 402.13, 'high': 405.4, 'time': 1453593600, 'volumefrom': 64535.73}, {'low': 386.85, 'volumeto': 26793044.72, 'open': 402.13, 'close': 392.76, 'high': 403.78, 'time': 1453680000, 'volumefrom': 67659.06}, {'low': 387.9, 'volumeto': 22384754.5, 'open': 392.76, 'close': 389.78, 'high': 397.74, 'time': 1453766400, 'volumefrom': 56805.12}, {'low': 389.35, 'volumeto': 17297117.36, 'open': 389.78, 'close': 395.02, 'high': 397.37, 'time': 1453852800, 'volumefrom': 43678.72}, {'low': 376.71, 'volumeto': 29717813.05, 'open': 395.02, 'close': 379.69, 'high': 395.42, 'time': 1453939200, 'volumefrom': 77319.55}, {'low': 363.49, 'volumeto': 51927041.84, 'open': 379.69, 'close': 380.29, 'high': 385.75, 'time': 1454025600, 'volumefrom': 138455.81}, {'low': 375.04, 'volumeto': 13720656.84, 'open': 380.29, 'close': 377.76, 'high': 381.75, 'time': 1454112000, 'volumefrom': 36179.6}, {'low': 366.88, 'volumeto': 14718855.75, 'open': 377.76, 'close': 369.84, 'high': 380.54, 'time': 1454198400, 'volumefrom': 39019.71}, {'low': 365.27, 'volumeto': 27728088.91, 'open': 369.84, 'close': 372.18, 'high': 379.78, 'time': 1454284800, 'volumefrom': 74346.01}, {'low': 371.4, 'volumeto': 19123252.48, 'open': 372.18, 'close': 373.92, 'high': 376.63, 'time': 1454371200, 'volumefrom': 50981.07}, {'low': 366.2, 'volumeto': 22266682.14, 'open': 373.92, 'close': 368.02, 'high': 375.89, 'time': 1454457600, 'volumefrom': 59813.05}, {'low': 368.05, 'volumeto': 38961905.49, 'open': 368.02, 'close': 390.65, 'high': 391.83, 'time': 1454544000, 'volumefrom': 101868.7}, {'low': 384.48, 'volumeto': 23688228.07, 'open': 390.65, 'close': 386.46, 'high': 391.15, 'time': 1454630400, 'volumefrom': 60917.35}, {'low': 372.87, 'volumeto': 29801286.8, 'open': 386.46, 'close': 376.68, 'high': 386.35, 'time': 1454716800, 'volumefrom': 78850.1}, {'low': 375.28, 'volumeto': 15395728.35, 'open': 376.68, 'close': 377.94, 'high': 382.61, 'time': 1454803200, 'volumefrom': 40743.17}, {'low': 372.1, 'volumeto': 23424062.52, 'open': 377.94, 'close': 372.63, 'high': 380.92, 'time': 1454889600, 'volumefrom': 62236.23}, {'low': 371.42, 'volumeto': 20801701.37, 'open': 372.63, 'close': 375.32, 'high': 377.59, 'time': 1454976000, 'volumefrom': 55358.89}, {'low': 374.09, 'volumeto': 37137791.06, 'open': 375.32, 'close': 381.88, 'high': 385.38, 'time': 1455062400, 'volumefrom': 97487.81}, {'low': 372.75, 'volumeto': 23858467.37, 'open': 381.88, 'close': 379.45, 'high': 383.23, 'time': 1455148800, 'volumefrom': 62653.08}, {'low': 379.32, 'volumeto': 20685663.27, 'open': 379.45, 'close': 384.04, 'high': 386.4, 'time': 1455235200, 'volumefrom': 53759.93}, {'low': 383.31, 'volumeto': 18757146.48, 'open': 384.04, 'close': 390.1, 'high': 392.57, 'time': 1455321600, 'volumefrom': 48158.05}, {'low': 390.06, 'volumeto': 29442484.67, 'open': 390.1, 'close': 405.5, 'high': 405.93, 'time': 1455408000, 'volumefrom': 73589.64}, {'low': 396.56, 'volumeto': 34862753.81, 'open': 405.5, 'close': 401.07, 'high': 410.85, 'time': 1455494400, 'volumefrom': 86127.28}, {'low': 398, 'volumeto': 27726590.05, 'open': 401.07, 'close': 406.42, 'high': 409.75, 'time': 1455580800, 'volumefrom': 68330.32}, {'low': 405.05, 'volumeto': 37559686.21, 'open': 406.42, 'close': 417.14, 'high': 421.45, 'time': 1455667200, 'volumefrom': 90323.21}, {'low': 414.78, 'volumeto': 32541108.12, 'open': 417.14, 'close': 421.4, 'high': 425.51, 'time': 1455753600, 'volumefrom': 77346.22}, {'low': 416.36, 'volumeto': 21991480.98, 'open': 421.4, 'close': 419.98, 'high': 424.26, 'time': 1455840000, 'volumefrom': 52240.27}, {'low': 419.49, 'volumeto': 48500793.67, 'open': 419.98, 'close': 440.06, 'high': 442.66, 'time': 1455926400, 'volumefrom': 111626.76}, {'low': 425.47, 'volumeto': 44120520.96, 'open': 440.06, 'close': 437.87, 'high': 447.61, 'time': 1456012800, 'volumefrom': 100499.03}, {'low': 431.3, 'volumeto': 24563748.2, 'open': 437.87, 'close': 437.79, 'high': 440.18, 'time': 1456099200, 'volumefrom': 56010.22}, {'low': 414.36, 'volumeto': 39915706.29, 'open': 437.79, 'close': 419.9, 'high': 440.76, 'time': 1456185600, 'volumefrom': 93717.62}, {'low': 410.36, 'volumeto': 28041199.85, 'open': 419.9, 'close': 422.72, 'high': 425.17, 'time': 1456272000, 'volumefrom': 66506.84}, {'low': 417.51, 'volumeto': 22692099.41, 'open': 422.72, 'close': 423.48, 'high': 427.18, 'time': 1456358400, 'volumefrom': 53541.45}, {'low': 419.11, 'volumeto': 22642013.92, 'open': 423.48, 'close': 427.32, 'high': 427.58, 'time': 1456444800, 'volumefrom': 53212.34}, {'low': 427.3, 'volumeto': 18543436.43, 'open': 427.32, 'close': 431.3, 'high': 434.14, 'time': 1456531200, 'volumefrom': 42792.33}, {'low': 421.22, 'volumeto': 21876091.34, 'open': 431.3, 'close': 432.47, 'high': 435.62, 'time': 1456617600, 'volumefrom': 50847.07}, {'low': 429.83, 'volumeto': 30077319.62, 'open': 432.47, 'close': 436.21, 'high': 441.32, 'time': 1456704000, 'volumefrom': 68773.52}, {'low': 428.49, 'volumeto': 29312670.84, 'open': 436.21, 'close': 434.04, 'high': 439.02, 'time': 1456790400, 'volumefrom': 67461.59}, {'low': 423.85, 'volumeto': 24894311.79, 'open': 434.04, 'close': 425.36, 'high': 435.91, 'time': 1456876800, 'volumefrom': 57744.55}, {'low': 414.94, 'volumeto': 33188751.08, 'open': 425.36, 'close': 419.56, 'high': 425.83, 'time': 1456963200, 'volumefrom': 78902.45}, {'low': 407.2, 'volumeto': 31416610.3, 'open': 419.56, 'close': 409.48, 'high': 423.39, 'time': 1457049600, 'volumefrom': 75267.61}, {'low': 386.93, 'volumeto': 51725937.08, 'open': 409.48, 'close': 399, 'high': 410.06, 'time': 1457136000, 'volumefrom': 129149.15}, {'low': 393.09, 'volumeto': 25324456.27, 'open': 399, 'close': 405.96, 'high': 412.02, 'time': 1457222400, 'volumefrom': 62593.92}, {'low': 401.98, 'volumeto': 25349627.97, 'open': 405.96, 'close': 414.87, 'high': 416.58, 'time': 1457308800, 'volumefrom': 61774.07}, {'low': 408.42, 'volumeto': 22204517.93, 'open': 414.87, 'close': 411.9, 'high': 416.72, 'time': 1457395200, 'volumefrom': 53769.8}, {'low': 408.94, 'volumeto': 21035428.97, 'open': 411.9, 'close': 412.76, 'high': 414.88, 'time': 1457481600, 'volumefrom': 50919.66}, {'low': 410.27, 'volumeto': 23114636.62, 'open': 412.76, 'close': 415.83, 'high': 417.48, 'time': 1457568000, 'volumefrom': 55735.81}, {'low': 415.11, 'volumeto': 25469781.33, 'open': 415.83, 'close': 419.11, 'high': 422.4, 'time': 1457654400, 'volumefrom': 60632.19}, {'low': 407.03, 'volumeto': 24660321.63, 'open': 419.11, 'close': 410.36, 'high': 420.67, 'time': 1457740800, 'volumefrom': 59635.49}, {'low': 409.57, 'volumeto': 14457108, 'open': 410.36, 'close': 412.41, 'high': 415.93, 'time': 1457827200, 'volumefrom': 34977.81}, {'low': 411.19, 'volumeto': 20471909.73, 'open': 412.41, 'close': 414.31, 'high': 416.08, 'time': 1457913600, 'volumefrom': 49332.82}, {'low': 412.31, 'volumeto': 20227610.88, 'open': 414.31, 'close': 415.13, 'high': 417.37, 'time': 1458000000, 'volumefrom': 48596.63}, {'low': 413.32, 'volumeto': 18509954.18, 'open': 415.13, 'close': 415.91, 'high': 416.95, 'time': 1458086400, 'volumefrom': 44535.24}, {'low': 415.33, 'volumeto': 18409340.68, 'open': 415.91, 'close': 418.16, 'high': 419.56, 'time': 1458172800, 'volumefrom': 43820.66}, {'low': 402.48, 'volumeto': 27178165.73, 'open': 418.16, 'close': 408.16, 'high': 418.58, 'time': 1458259200, 'volumefrom': 66068.03}, {'low': 402.13, 'volumeto': 15084656.26, 'open': 408.16, 'close': 408.69, 'high': 410.49, 'time': 1458345600, 'volumefrom': 36997.54}, {'low': 407.24, 'volumeto': 12577521.63, 'open': 408.69, 'close': 411.53, 'high': 413.45, 'time': 1458432000, 'volumefrom': 30543.21}, {'low': 407.25, 'volumeto': 17735457.25, 'open': 411.53, 'close': 411.11, 'high': 413.09, 'time': 1458518400, 'volumefrom': 43159.26}, {'low': 410.78, 'volumeto': 20425092.47, 'open': 411.11, 'close': 416.21, 'high': 417.94, 'time': 1458604800, 'volumefrom': 49075.11}, {'low': 414.18, 'volumeto': 16946522.38, 'open': 416.21, 'close': 416.98, 'high': 419.58, 'time': 1458691200, 'volumefrom': 40605.05}, {'low': 412.88, 'volumeto': 16210672.62, 'open': 416.98, 'close': 414.74, 'high': 417.68, 'time': 1458777600, 'volumefrom': 38828.43}, {'low': 412.41, 'volumeto': 14431200.38, 'open': 414.74, 'close': 415.71, 'high': 417.3, 'time': 1458864000, 'volumefrom': 34588.15}, {'low': 413.93, 'volumeto': 11696306.67, 'open': 415.71, 'close': 416.51, 'high': 417.71, 'time': 1458950400, 'volumefrom': 28056.64}, {'low': 415.5, 'volumeto': 26137150.51, 'open': 416.51, 'close': 424.57, 'high': 427.36, 'time': 1459036800, 'volumefrom': 61724.4}, {'low': 419.7, 'volumeto': 18410749.99, 'open': 424.57, 'close': 422.21, 'high': 425.36, 'time': 1459123200, 'volumefrom': 43444.76}, {'low': 406.36, 'volumeto': 28765857.05, 'open': 422.21, 'close': 415, 'high': 424.53, 'time': 1459209600, 'volumefrom': 69113.03}, {'low': 408.4, 'volumeto': 17890792.61, 'open': 415, 'close': 412.44, 'high': 416.22, 'time': 1459296000, 'volumefrom': 43282.31}, {'low': 411.45, 'volumeto': 17407273.19, 'open': 412.44, 'close': 415.66, 'high': 417.16, 'time': 1459382400, 'volumefrom': 41840.9}, {'low': 412.79, 'volumeto': 15852511.01, 'open': 415.66, 'close': 415.64, 'high': 416.86, 'time': 1459468800, 'volumefrom': 38218.91}, {'low': 415.09, 'volumeto': 13137339.89, 'open': 415.64, 'close': 418.51, 'high': 420.09, 'time': 1459555200, 'volumefrom': 31309.25}, {'low': 416.95, 'volumeto': 9591214.82, 'open': 418.51, 'close': 419.06, 'high': 420.18, 'time': 1459641600, 'volumefrom': 22798.16}, {'low': 416.21, 'volumeto': 14031939.65, 'open': 419.06, 'close': 419.33, 'high': 420.39, 'time': 1459728000, 'volumefrom': 33436.9}, {'low': 417.95, 'volumeto': 17260368.39, 'open': 419.33, 'close': 422.07, 'high': 423.67, 'time': 1459814400, 'volumefrom': 40886.78}, {'low': 419.54, 'volumeto': 13836754.91, 'open': 422.07, 'close': 421.26, 'high': 422.81, 'time': 1459900800, 'volumefrom': 32667.23}, {'low': 417.94, 'volumeto': 15200495.86, 'open': 421.26, 'close': 420.14, 'high': 422.03, 'time': 1459987200, 'volumefrom': 36056.99}, {'low': 415.5, 'volumeto': 19810838.26, 'open': 420.14, 'close': 417.69, 'high': 423.51, 'time': 1460073600, 'volumefrom': 46947.25}, {'low': 412.39, 'volumeto': 12291880.83, 'open': 417.69, 'close': 418.05, 'high': 418.85, 'time': 1460160000, 'volumefrom': 29424.6}, {'low': 416.69, 'volumeto': 9806327.9, 'open': 418.05, 'close': 420.25, 'high': 421.63, 'time': 1460246400, 'volumefrom': 23300.23}, {'low': 418.11, 'volumeto': 15374195.04, 'open': 420.25, 'close': 421.43, 'high': 422.35, 'time': 1460332800, 'volumefrom': 36387.29}, {'low': 420.7, 'volumeto': 24580503.64, 'open': 421.43, 'close': 424.74, 'high': 426.69, 'time': 1460419200, 'volumefrom': 57711.94}, {'low': 421.41, 'volumeto': 16183793.93, 'open': 424.74, 'close': 423.47, 'high': 426.58, 'time': 1460505600, 'volumefrom': 38088.6}, {'low': 421.84, 'volumeto': 13038970.54, 'open': 423.47, 'close': 424.02, 'high': 425.44, 'time': 1460592000, 'volumefrom': 30664.4}, {'low': 423.25, 'volumeto': 23214560.1, 'open': 424.02, 'close': 428.67, 'high': 429.49, 'time': 1460678400, 'volumefrom': 54119.98}, {'low': 426.84, 'volumeto': 12517265.78, 'open': 428.67, 'close': 430.05, 'high': 432, 'time': 1460764800, 'volumefrom': 29021.18}, {'low': 423.79, 'volumeto': 10980868.31, 'open': 430.05, 'close': 426.26, 'high': 430.62, 'time': 1460851200, 'volumefrom': 25586.86}, {'low': 424.35, 'volumeto': 13951524.85, 'open': 426.26, 'close': 427.69, 'high': 429.07, 'time': 1460937600, 'volumefrom': 32574.71}, {'low': 426.84, 'volumeto': 19713466.34, 'open': 427.69, 'close': 434.92, 'high': 436.07, 'time': 1461024000, 'volumefrom': 45675.4}, {'low': 432.51, 'volumeto': 32655415.81, 'open': 434.92, 'close': 441.16, 'high': 442.86, 'time': 1461110400, 'volumefrom': 74361.53}, {'low': 439.53, 'volumeto': 28168774.29, 'open': 441.16, 'close': 449.34, 'high': 450.8, 'time': 1461196800, 'volumefrom': 63127.8}, {'low': 441.9, 'volumeto': 22225157.27, 'open': 449.34, 'close': 445.28, 'high': 450.19, 'time': 1461283200, 'volumefrom': 49710.33}, {'low': 443.07, 'volumeto': 18998211.55, 'open': 445.28, 'close': 450.08, 'high': 451.48, 'time': 1461369600, 'volumefrom': 42358.77}, {'low': 447.89, 'volumeto': 33984269.34, 'open': 450.08, 'close': 457.56, 'high': 461.78, 'time': 1461456000, 'volumefrom': 74434.28}, {'low': 451.79, 'volumeto': 37614684.81, 'open': 457.56, 'close': 461.73, 'high': 466.23, 'time': 1461542400, 'volumefrom': 81656.03}, {'low': 459.23, 'volumeto': 31451239.15, 'open': 461.73, 'close': 466, 'high': 468.86, 'time': 1461628800, 'volumefrom': 67557.86}, {'low': 444.62, 'volumeto': 41539684.76, 'open': 466, 'close': 447.01, 'high': 467.87, 'time': 1461715200, 'volumefrom': 90806.31}, {'low': 433.9, 'volumeto': 36369788.38, 'open': 447.01, 'close': 448.48, 'high': 450.1, 'time': 1461801600, 'volumefrom': 81934.58}, {'low': 445.22, 'volumeto': 20264761.95, 'open': 448.48, 'close': 454.98, 'high': 456.31, 'time': 1461888000, 'volumefrom': 44850.72}, {'low': 446.65, 'volumeto': 15994805.53, 'open': 454.98, 'close': 448.53, 'high': 456.86, 'time': 1461974400, 'volumefrom': 35308.4}, {'low': 447.52, 'volumeto': 9838490.74, 'open': 448.53, 'close': 452.24, 'high': 454.21, 'time': 1462060800, 'volumefrom': 21745.59}, {'low': 440.21, 'volumeto': 32863011.95, 'open': 452.24, 'close': 444.18, 'high': 453.87, 'time': 1462147200, 'volumefrom': 73854.48}, {'low': 441.55, 'volumeto': 22292253.48, 'open': 444.18, 'close': 450.27, 'high': 451.54, 'time': 1462233600, 'volumefrom': 49749.84}, {'low': 444.22, 'volumeto': 17676609.71, 'open': 450.27, 'close': 445.8, 'high': 450.87, 'time': 1462320000, 'volumefrom': 39440.84}, {'low': 444.35, 'volumeto': 18765369.38, 'open': 445.8, 'close': 448.08, 'high': 449.19, 'time': 1462406400, 'volumefrom': 41887.49}, {'low': 445.72, 'volumeto': 31122708.07, 'open': 448.08, 'close': 459.56, 'high': 461.48, 'time': 1462492800, 'volumefrom': 68429.7}, {'low': 454.6, 'volumeto': 14247601.97, 'open': 459.56, 'close': 458.46, 'high': 460.61, 'time': 1462579200, 'volumefrom': 30971.06}, {'low': 454.94, 'volumeto': 12689581.18, 'open': 458.46, 'close': 457.87, 'high': 460.18, 'time': 1462665600, 'volumefrom': 27597.1}, {'low': 455.38, 'volumeto': 22322043.96, 'open': 457.87, 'close': 460.44, 'high': 464.18, 'time': 1462752000, 'volumefrom': 48422.16}, {'low': 446.81, 'volumeto': 27247925.23, 'open': 460.44, 'close': 449.36, 'high': 462.14, 'time': 1462838400, 'volumefrom': 59992.45}, {'low': 449.59, 'volumeto': 18137209.37, 'open': 449.36, 'close': 452.5, 'high': 456.15, 'time': 1462924800, 'volumefrom': 39965.14}, {'low': 448.4, 'volumeto': 22252919.49, 'open': 452.5, 'close': 454.43, 'high': 455.34, 'time': 1463011200, 'volumefrom': 49186.86}, {'low': 451.49, 'volumeto': 14768796.02, 'open': 454.43, 'close': 455.41, 'high': 457.22, 'time': 1463097600, 'volumefrom': 32389.98}, {'low': 453.58, 'volumeto': 9319128.91, 'open': 455.41, 'close': 456.44, 'high': 457.74, 'time': 1463184000, 'volumefrom': 20360.7}, {'low': 455, 'volumeto': 9745309.9, 'open': 456.44, 'close': 458.11, 'high': 460.28, 'time': 1463270400, 'volumefrom': 21196.42}, {'low': 450.73, 'volumeto': 16731954.01, 'open': 458.11, 'close': 454.87, 'high': 459.57, 'time': 1463356800, 'volumefrom': 36601.5}, {'low': 451.71, 'volumeto': 15741822.36, 'open': 454.87, 'close': 453.25, 'high': 456.3, 'time': 1463443200, 'volumefrom': 34628.34}, {'low': 452.35, 'volumeto': 14884550.93, 'open': 453.25, 'close': 454.22, 'high': 456.65, 'time': 1463529600, 'volumefrom': 32606.95}, {'low': 441.12, 'volumeto': 26626097.5, 'open': 454.22, 'close': 442.66, 'high': 455.19, 'time': 1463616000, 'volumefrom': 59385.1}, {'low': 435.42, 'volumeto': 21415312.04, 'open': 442.66, 'close': 442.11, 'high': 447.76, 'time': 1463702400, 'volumefrom': 48431.62}, {'low': 439.73, 'volumeto': 10213550.36, 'open': 442.11, 'close': 443.64, 'high': 445.24, 'time': 1463788800, 'volumefrom': 22999.29}, {'low': 436.94, 'volumeto': 12691382.29, 'open': 443.64, 'close': 439.62, 'high': 444.24, 'time': 1463875200, 'volumefrom': 28739.45}, {'low': 438.24, 'volumeto': 15885933.69, 'open': 439.62, 'close': 443.69, 'high': 444.99, 'time': 1463961600, 'volumefrom': 35897.23}, {'low': 442.02, 'volumeto': 14837671.76, 'open': 443.69, 'close': 446.11, 'high': 447.9, 'time': 1464048000, 'volumefrom': 33214.62}, {'low': 445.35, 'volumeto': 16954105.43, 'open': 446.11, 'close': 449.78, 'high': 451.21, 'time': 1464134400, 'volumefrom': 37716.29}, {'low': 447.67, 'volumeto': 17093327.23, 'open': 449.78, 'close': 453.3, 'high': 454.25, 'time': 1464220800, 'volumefrom': 37715.9}, {'low': 452.71, 'volumeto': 63894987.38, 'open': 453.3, 'close': 474.05, 'high': 479.22, 'time': 1464307200, 'volumefrom': 135674.57}, {'low': 467.05, 'volumeto': 75400711.07, 'open': 474.05, 'close': 524.22, 'high': 531.76, 'time': 1464393600, 'volumefrom': 150172.04}, {'low': 493.22, 'volumeto': 80753301.33, 'open': 524.22, 'close': 516.05, 'high': 548.04, 'time': 1464480000, 'volumefrom': 152570.22}, {'low': 512.81, 'volumeto': 41433165.43, 'open': 516.05, 'close': 532.26, 'high': 544.18, 'time': 1464566400, 'volumefrom': 77528.43}, {'low': 513.15, 'volumeto': 60896411.69, 'open': 532.26, 'close': 528.92, 'high': 546.92, 'time': 1464652800, 'volumefrom': 114080.03}, {'low': 521.3, 'volumeto': 38742660.86, 'open': 528.92, 'close': 537.4, 'high': 542.26, 'time': 1464739200, 'volumefrom': 72406.45}, {'low': 530.47, 'volumeto': 28380698.71, 'open': 537.4, 'close': 537.1, 'high': 541.55, 'time': 1464825600, 'volumefrom': 52877.98}, {'low': 534.34, 'volumeto': 59464310.87, 'open': 537.1, 'close': 567.03, 'high': 573.72, 'time': 1464912000, 'volumefrom': 106250.27}, {'low': 560.87, 'volumeto': 50353517.34, 'open': 567.03, 'close': 571.95, 'high': 592.68, 'time': 1464998400, 'volumefrom': 87411.46}, {'low': 567.77, 'volumeto': 37233994.18, 'open': 571.95, 'close': 574.91, 'high': 583.64, 'time': 1465084800, 'volumefrom': 64520.22}, {'low': 571.67, 'volumeto': 37131086.56, 'open': 574.91, 'close': 583.58, 'high': 586.73, 'time': 1465171200, 'volumefrom': 63682.81}, {'low': 543.63, 'volumeto': 49082472.71, 'open': 583.58, 'close': 575.58, 'high': 591.32, 'time': 1465257600, 'volumefrom': 84694.25}, {'low': 567.78, 'volumeto': 28706216.31, 'open': 575.58, 'close': 580.51, 'high': 582.44, 'time': 1465344000, 'volumefrom': 49604.16}, {'low': 569.26, 'volumeto': 28010575.91, 'open': 580.51, 'close': 574.69, 'high': 580.71, 'time': 1465430400, 'volumefrom': 48613.35}, {'low': 571.14, 'volumeto': 26290866.62, 'open': 574.69, 'close': 577.89, 'high': 579.26, 'time': 1465516800, 'volumefrom': 45501.86}, {'low': 576.29, 'volumeto': 24790441.26, 'open': 577.89, 'close': 591.6, 'high': 592.61, 'time': 1465603200, 'volumefrom': 42217.02}, {'low': 592.79, 'volumeto': 139684630.33, 'open': 591.6, 'close': 666.55, 'high': 683.85, 'time': 1465689600, 'volumefrom': 217379.53}, {'low': 652.78, 'volumeto': 149442548.73, 'open': 666.55, 'close': 700.07, 'high': 718.24, 'time': 1465776000, 'volumefrom': 216731.32}, {'low': 654.69, 'volumeto': 92458349.24, 'open': 700.07, 'close': 685.14, 'high': 702.52, 'time': 1465862400, 'volumefrom': 135648.79}, {'low': 670.45, 'volumeto': 53863568.9, 'open': 685.14, 'close': 690.77, 'high': 695.07, 'time': 1465948800, 'volumefrom': 78620.97}, {'low': 687.43, 'volumeto': 169704647.02, 'open': 690.77, 'close': 761.21, 'high': 769.73, 'time': 1466035200, 'volumefrom': 229569.22}, {'low': 704.21, 'volumeto': 160302360.32, 'open': 761.21, 'close': 743.9, 'high': 771.89, 'time': 1466121600, 'volumefrom': 215870.36}, {'low': 727.13, 'volumeto': 91056993.79, 'open': 743.9, 'close': 753.77, 'high': 776.04, 'time': 1466208000, 'volumefrom': 120525.37}, {'low': 740.38, 'volumeto': 45805980.62, 'open': 753.77, 'close': 761.04, 'high': 765.1, 'time': 1466294400, 'volumefrom': 60445.37}, {'low': 717.41, 'volumeto': 83637617.46, 'open': 761.04, 'close': 733.97, 'high': 764.6, 'time': 1466380800, 'volumefrom': 112290.09}, {'low': 626.05, 'volumeto': 166828425.88, 'open': 733.97, 'close': 667.38, 'high': 732.23, 'time': 1466467200, 'volumefrom': 248083.39}, {'low': 586.6, 'volumeto': 129550795.89, 'open': 667.38, 'close': 590.56, 'high': 677.8, 'time': 1466553600, 'volumefrom': 202320.1}, {'low': 539.28, 'volumeto': 154289129.68, 'open': 590.56, 'close': 620.84, 'high': 629.55, 'time': 1466640000, 'volumefrom': 261739.44}, {'low': 616.41, 'volumeto': 128990817.06, 'open': 620.84, 'close': 656.89, 'high': 687.39, 'time': 1466726400, 'volumefrom': 196694.45}, {'low': 640.79, 'volumeto': 67442141.07, 'open': 656.89, 'close': 663.52, 'high': 688.1, 'time': 1466812800, 'volumefrom': 100457.69}, {'low': 609.9, 'volumeto': 56403088.15, 'open': 663.52, 'close': 625.41, 'high': 665.19, 'time': 1466899200, 'volumefrom': 88928.71}, {'low': 615.22, 'volumeto': 63747137.15, 'open': 625.41, 'close': 644.66, 'high': 650.34, 'time': 1466985600, 'volumefrom': 99812.97}, {'low': 634.26, 'volumeto': 49673830.24, 'open': 644.66, 'close': 644.89, 'high': 659.27, 'time': 1467072000, 'volumefrom': 76657.93}, {'low': 621.76, 'volumeto': 50898093.64, 'open': 644.89, 'close': 636.54, 'high': 645.91, 'time': 1467158400, 'volumefrom': 80218.82}, {'low': 631.24, 'volumeto': 58215062.66, 'open': 636.54, 'close': 670.02, 'high': 673.04, 'time': 1467244800, 'volumefrom': 88203.81}, {'low': 661.09, 'volumeto': 62394480.64, 'open': 670.02, 'close': 674.57, 'high': 685.11, 'time': 1467331200, 'volumefrom': 92227.36}, {'low': 671.46, 'volumeto': 46555796.93, 'open': 674.57, 'close': 698.06, 'high': 700.46, 'time': 1467417600, 'volumefrom': 67380.47}, {'low': 644.61, 'volumeto': 66591456.99, 'open': 698.06, 'close': 661.64, 'high': 701.49, 'time': 1467504000, 'volumefrom': 99268.29}, {'low': 644.04, 'volumeto': 42756935.48, 'open': 661.64, 'close': 675.16, 'high': 679.03, 'time': 1467590400, 'volumefrom': 63905.01}, {'low': 657.31, 'volumeto': 36687264.23, 'open': 675.16, 'close': 663.67, 'high': 679.19, 'time': 1467676800, 'volumefrom': 54642.8}, {'low': 662.24, 'volumeto': 31708100.51, 'open': 663.67, 'close': 672.7, 'high': 678.39, 'time': 1467763200, 'volumefrom': 47049.5}, {'low': 604.95, 'volumeto': 97639342.03, 'open': 672.7, 'close': 635.25, 'high': 676.19, 'time': 1467849600, 'volumefrom': 153608.21}, {'low': 630.17, 'volumeto': 49243011.02, 'open': 635.25, 'close': 662.78, 'high': 663.43, 'time': 1467936000, 'volumefrom': 75892.55}, {'low': 620.68, 'volumeto': 62061207.33, 'open': 662.78, 'close': 651.83, 'high': 663.49, 'time': 1468022400, 'volumefrom': 96013.13}, {'low': 636.8, 'volumeto': 18955766.48, 'open': 651.83, 'close': 647.11, 'high': 651.98, 'time': 1468108800, 'volumefrom': 29256.82}, {'low': 639.97, 'volumeto': 29925667.34, 'open': 647.11, 'close': 646.71, 'high': 657.47, 'time': 1468195200, 'volumefrom': 45941.77}, {'low': 644.56, 'volumeto': 44047499.67, 'open': 646.71, 'close': 670.56, 'high': 673.19, 'time': 1468281600, 'volumefrom': 66591.48}, {'low': 656.04, 'volumeto': 41791464.25, 'open': 670.56, 'close': 661.15, 'high': 672.02, 'time': 1468368000, 'volumefrom': 62958.21}, {'low': 646.31, 'volumeto': 31748496.83, 'open': 661.15, 'close': 657.25, 'high': 661.88, 'time': 1468454400, 'volumefrom': 48196.92}, {'low': 656.5, 'volumeto': 23817856.65, 'open': 657.25, 'close': 664.2, 'high': 667.46, 'time': 1468540800, 'volumefrom': 35830.56}, {'low': 655.72, 'volumeto': 13557557.05, 'open': 664.2, 'close': 660.69, 'high': 665.41, 'time': 1468627200, 'volumefrom': 20385}, {'low': 660.13, 'volumeto': 31614610.5, 'open': 660.69, 'close': 676.33, 'high': 680.94, 'time': 1468713600, 'volumefrom': 46840.6}, {'low': 664.61, 'volumeto': 28810844.41, 'open': 676.33, 'close': 670.38, 'high': 680.42, 'time': 1468800000, 'volumefrom': 42576.77}, {'low': 663.63, 'volumeto': 20401885.27, 'open': 670.38, 'close': 671.1, 'high': 673.24, 'time': 1468886400, 'volumefrom': 30395.36}, {'low': 659.51, 'volumeto': 25075066.39, 'open': 671.1, 'close': 664.4, 'high': 672.29, 'time': 1468972800, 'volumefrom': 37562.71}, {'low': 657.82, 'volumeto': 21351309.78, 'open': 664.4, 'close': 664.62, 'high': 666.51, 'time': 1469059200, 'volumefrom': 32164.64}, {'low': 645.69, 'volumeto': 43283429.35, 'open': 664.62, 'close': 651.11, 'high': 669.44, 'time': 1469145600, 'volumefrom': 65894.84}, {'low': 647.98, 'volumeto': 19544654.54, 'open': 651.11, 'close': 655.16, 'high': 658.17, 'time': 1469232000, 'volumefrom': 29884.68}, {'low': 651.03, 'volumeto': 19642346.73, 'open': 655.16, 'close': 659.29, 'high': 664.21, 'time': 1469318400, 'volumefrom': 29815.62}, {'low': 651.08, 'volumeto': 22564554.46, 'open': 659.29, 'close': 654, 'high': 662.51, 'time': 1469404800, 'volumefrom': 34383.06}, {'low': 643.49, 'volumeto': 32177578.58, 'open': 654, 'close': 654.38, 'high': 657.76, 'time': 1469491200, 'volumefrom': 49388.21}, {'low': 646.04, 'volumeto': 19568531.49, 'open': 654.38, 'close': 654.54, 'high': 659.08, 'time': 1469577600, 'volumefrom': 29885.7}, {'low': 650.81, 'volumeto': 18452583.66, 'open': 654.54, 'close': 654.13, 'high': 657.96, 'time': 1469664000, 'volumefrom': 28112.8}, {'low': 650.99, 'volumeto': 17757920.48, 'open': 654.13, 'close': 655.43, 'high': 657.4, 'time': 1469750400, 'volumefrom': 27043.62}, {'low': 652.06, 'volumeto': 12721755.54, 'open': 655.43, 'close': 654.74, 'high': 657.55, 'time': 1469836800, 'volumefrom': 19354.41}, {'low': 621.42, 'volumeto': 39918066.14, 'open': 654.74, 'close': 621.87, 'high': 654.92, 'time': 1469923200, 'volumefrom': 62887.74}, {'low': 603.55, 'volumeto': 41229298.83, 'open': 621.87, 'close': 607, 'high': 627.89, 'time': 1470009600, 'volumefrom': 66660.27}, {'low': 471.36, 'volumeto': 75338595.54, 'open': 607, 'close': 513.43, 'high': 613.75, 'time': 1470096000, 'volumefrom': 130913.66}, {'low': 514.09, 'volumeto': 47170751.56, 'open': 513.43, 'close': 566.44, 'high': 573.06, 'time': 1470182400, 'volumefrom': 85930.35}, {'low': 559.5, 'volumeto': 25725471.16, 'open': 566.44, 'close': 576.22, 'high': 584.89, 'time': 1470268800, 'volumefrom': 44823.44}, {'low': 565.81, 'volumeto': 15992890.37, 'open': 576.22, 'close': 574.66, 'high': 579.97, 'time': 1470355200, 'volumefrom': 27885.51}, {'low': 565.33, 'volumeto': 14676841.26, 'open': 574.66, 'close': 586.45, 'high': 596.68, 'time': 1470441600, 'volumefrom': 25382.28}, {'low': 580.87, 'volumeto': 15491523.1, 'open': 586.45, 'close': 590.85, 'high': 596.01, 'time': 1470528000, 'volumefrom': 26202.24}, {'low': 585.41, 'volumeto': 14726811.56, 'open': 590.85, 'close': 589.24, 'high': 594.24, 'time': 1470614400, 'volumefrom': 24880.83}, {'low': 581.1, 'volumeto': 15304277.91, 'open': 589.24, 'close': 585.25, 'high': 591.2, 'time': 1470700800, 'volumefrom': 25971.47}, {'low': 580.87, 'volumeto': 29376783.81, 'open': 585.25, 'close': 590.94, 'high': 600.52, 'time': 1470787200, 'volumefrom': 49568.68}, {'low': 585.39, 'volumeto': 23640952.51, 'open': 590.94, 'close': 587.84, 'high': 599.15, 'time': 1470873600, 'volumefrom': 39824.58}, {'low': 582.2, 'volumeto': 15009452.98, 'open': 587.84, 'close': 587.14, 'high': 591.14, 'time': 1470960000, 'volumefrom': 25501.78}, {'low': 582.81, 'volumeto': 11357750.81, 'open': 587.14, 'close': 584.59, 'high': 590.07, 'time': 1471046400, 'volumefrom': 19303.82}, {'low': 559.93, 'volumeto': 18970094.63, 'open': 584.59, 'close': 569.06, 'high': 585.8, 'time': 1471132800, 'volumefrom': 33065.8}, {'low': 559.28, 'volumeto': 19218972.96, 'open': 569.06, 'close': 566.95, 'high': 574.97, 'time': 1471219200, 'volumefrom': 33771.15}, {'low': 563.38, 'volumeto': 21634083.15, 'open': 566.95, 'close': 580.19, 'high': 583.38, 'time': 1471305600, 'volumefrom': 37689.33}, {'low': 568.66, 'volumeto': 18886741.55, 'open': 580.19, 'close': 572.34, 'high': 581.1, 'time': 1471392000, 'volumefrom': 32760.8}, {'low': 570.83, 'volumeto': 17509679.71, 'open': 572.34, 'close': 573.39, 'high': 579.53, 'time': 1471478400, 'volumefrom': 30389.41}, {'low': 566.25, 'volumeto': 14701426.29, 'open': 573.39, 'close': 574.56, 'high': 577.86, 'time': 1471564800, 'volumefrom': 25530.44}, {'low': 572.28, 'volumeto': 13416843.63, 'open': 574.56, 'close': 582.61, 'high': 583.5, 'time': 1471651200, 'volumefrom': 23119.79}, {'low': 577.84, 'volumeto': 8294321.53, 'open': 582.61, 'close': 580.66, 'high': 585.32, 'time': 1471737600, 'volumefrom': 14160.18}, {'low': 577.13, 'volumeto': 19658058.08, 'open': 580.66, 'close': 587.47, 'high': 591.9, 'time': 1471824000, 'volumefrom': 33558.61}, {'low': 578.61, 'volumeto': 18772369.53, 'open': 587.47, 'close': 583.56, 'high': 589.87, 'time': 1471910400, 'volumefrom': 32082.32}, {'low': 576.82, 'volumeto': 16337141.09, 'open': 583.56, 'close': 579.66, 'high': 584.47, 'time': 1471996800, 'volumefrom': 28057.04}, {'low': 570.81, 'volumeto': 18885349.63, 'open': 579.66, 'close': 577.96, 'high': 580.71, 'time': 1472083200, 'volumefrom': 32733.65}, {'low': 575.83, 'volumeto': 12329289.75, 'open': 577.96, 'close': 579.37, 'high': 582.73, 'time': 1472169600, 'volumefrom': 21168.38}, {'low': 567.25, 'volumeto': 10747219.53, 'open': 579.37, 'close': 570.35, 'high': 580.41, 'time': 1472256000, 'volumefrom': 18686.65}, {'low': 569.21, 'volumeto': 7377921.72, 'open': 570.35, 'close': 574.98, 'high': 576.32, 'time': 1472342400, 'volumefrom': 12824.95}, {'low': 571.38, 'volumeto': 13760854.22, 'open': 574.98, 'close': 574.23, 'high': 578.61, 'time': 1472428800, 'volumefrom': 23862.95}, {'low': 572.51, 'volumeto': 15895354.76, 'open': 574.23, 'close': 577.32, 'high': 579.94, 'time': 1472515200, 'volumefrom': 27480.29}, {'low': 571.69, 'volumeto': 14338795.45, 'open': 577.32, 'close': 573.88, 'high': 578.25, 'time': 1472601600, 'volumefrom': 24933.77}, {'low': 569.37, 'volumeto': 14860164.25, 'open': 573.88, 'close': 571.99, 'high': 704.97, 'time': 1472688000, 'volumefrom': 25872.2}, {'low': 569.3, 'volumeto': 15315755.66, 'open': 571.99, 'close': 575.29, 'high': 577.6, 'time': 1472774400, 'volumefrom': 26612.15}, {'low': 572.64, 'volumeto': 21055514.22, 'open': 575.29, 'close': 598.84, 'high': 604.97, 'time': 1472860800, 'volumefrom': 35699.73}, {'low': 590.78, 'volumeto': 18646011.82, 'open': 598.84, 'close': 609.55, 'high': 615.2, 'time': 1472947200, 'volumefrom': 30690.03}, {'low': 598.77, 'volumeto': 15369832.26, 'open': 609.55, 'close': 605.76, 'high': 610.61, 'time': 1473033600, 'volumefrom': 25286.46}, {'low': 603.55, 'volumeto': 14864563.84, 'open': 605.76, 'close': 610.44, 'high': 611.95, 'time': 1473120000, 'volumefrom': 24324.78}, {'low': 606.24, 'volumeto': 18429525.07, 'open': 610.44, 'close': 613.21, 'high': 616.48, 'time': 1473206400, 'volumefrom': 30033.77}, {'low': 611.25, 'volumeto': 22710390.64, 'open': 613.21, 'close': 625.57, 'high': 629.3, 'time': 1473292800, 'volumefrom': 36328.29}, {'low': 617.32, 'volumeto': 17710151.19, 'open': 625.57, 'close': 623.16, 'high': 627.58, 'time': 1473379200, 'volumefrom': 28333.32}, {'low': 621.07, 'volumeto': 9600113.74, 'open': 623.16, 'close': 624.52, 'high': 627.45, 'time': 1473465600, 'volumefrom': 15279.28}, {'low': 592.79, 'volumeto': 22467346.61, 'open': 624.52, 'close': 605.61, 'high': 630.77, 'time': 1473552000, 'volumefrom': 36543.99}, {'low': 603.03, 'volumeto': 17058938.65, 'open': 605.61, 'close': 607.98, 'high': 610.62, 'time': 1473638400, 'volumefrom': 27944.86}, {'low': 604.87, 'volumeto': 16850869.45, 'open': 607.98, 'close': 608.61, 'high': 612.03, 'time': 1473724800, 'volumefrom': 27515.13}, {'low': 606.39, 'volumeto': 14878860.18, 'open': 608.61, 'close': 609.54, 'high': 612.16, 'time': 1473811200, 'volumefrom': 24244.49}, {'low': 605.1, 'volumeto': 13892193.46, 'open': 609.54, 'close': 608.11, 'high': 610.73, 'time': 1473897600, 'volumefrom': 22687.24}, {'low': 605.15, 'volumeto': 13353736.94, 'open': 608.11, 'close': 607.78, 'high': 610.36, 'time': 1473984000, 'volumefrom': 21847.03}, {'low': 604.52, 'volumeto': 9724490.11, 'open': 607.78, 'close': 607.08, 'high': 609.61, 'time': 1474070400, 'volumefrom': 15894.29}, {'low': 605.22, 'volumeto': 10004923.58, 'open': 607.08, 'close': 610.7, 'high': 612.38, 'time': 1474156800, 'volumefrom': 16329.91}, {'low': 606.99, 'volumeto': 12981851.28, 'open': 610.7, 'close': 609.85, 'high': 612.41, 'time': 1474243200, 'volumefrom': 21236.53}, {'low': 605.93, 'volumeto': 13809380.94, 'open': 609.85, 'close': 609.24, 'high': 611.27, 'time': 1474329600, 'volumefrom': 22607.66}, {'low': 591.69, 'volumeto': 22059386.51, 'open': 609.24, 'close': 597.16, 'high': 608.82, 'time': 1474416000, 'volumefrom': 36862.36}, {'low': 592.83, 'volumeto': 13463966.31, 'open': 597.16, 'close': 595.63, 'high': 599.78, 'time': 1474502400, 'volumefrom': 22441.49}, {'low': 594.11, 'volumeto': 15567036.24, 'open': 595.63, 'close': 602.92, 'high': 603.7, 'time': 1474588800, 'volumefrom': 25921.89}, {'low': 600.5, 'volumeto': 8196210.74, 'open': 602.92, 'close': 602.59, 'high': 605.92, 'time': 1474675200, 'volumefrom': 13472.8}, {'low': 598.35, 'volumeto': 8038079.81, 'open': 602.59, 'close': 601.49, 'high': 604.87, 'time': 1474761600, 'volumefrom': 13278.03}, {'low': 598.17, 'volumeto': 16700407.53, 'open': 601.49, 'close': 606.54, 'high': 608.46, 'time': 1474848000, 'volumefrom': 27504.57}, {'low': 601.73, 'volumeto': 15534315.77, 'open': 606.54, 'close': 605.47, 'high': 608.97, 'time': 1474934400, 'volumefrom': 25546.7}, {'low': 602.62, 'volumeto': 11485005.36, 'open': 605.47, 'close': 604.67, 'high': 606.9, 'time': 1475020800, 'volumefrom': 18936.2}, {'low': 602.01, 'volumeto': 15403975.48, 'open': 604.67, 'close': 604.7, 'high': 607.23, 'time': 1475107200, 'volumefrom': 25321.05}, {'low': 602.25, 'volumeto': 14534745.84, 'open': 604.7, 'close': 608.14, 'high': 608.78, 'time': 1475193600, 'volumefrom': 23952.58}, {'low': 607.07, 'volumeto': 10415543.03, 'open': 608.14, 'close': 613.41, 'high': 615, 'time': 1475280000, 'volumefrom': 16932.63}, {'low': 607.67, 'volumeto': 10096653.77, 'open': 613.41, 'close': 610.69, 'high': 614.21, 'time': 1475366400, 'volumefrom': 16534.52}, {'low': 608.47, 'volumeto': 13462741.8, 'open': 610.69, 'close': 611.6, 'high': 613.2, 'time': 1475452800, 'volumefrom': 21946.12}, {'low': 606.5, 'volumeto': 15300692.52, 'open': 611.6, 'close': 608.96, 'high': 612.68, 'time': 1475539200, 'volumefrom': 24993.32}, {'low': 607.98, 'volumeto': 14360536.88, 'open': 608.96, 'close': 611.82, 'high': 613.65, 'time': 1475625600, 'volumefrom': 23401.3}, {'low': 608.54, 'volumeto': 13276337.45, 'open': 611.82, 'close': 610.97, 'high': 612.68, 'time': 1475712000, 'volumefrom': 21625.57}, {'low': 609.12, 'volumeto': 20167399.2, 'open': 610.97, 'close': 616.03, 'high': 619.43, 'time': 1475798400, 'volumefrom': 32725.06}, {'low': 614.88, 'volumeto': 8467434, 'open': 616.03, 'close': 617.65, 'high': 619.56, 'time': 1475884800, 'volumefrom': 13620.86}, {'low': 613.01, 'volumeto': 8320759.4, 'open': 617.65, 'close': 615.77, 'high': 618.35, 'time': 1475971200, 'volumefrom': 13430.26}, {'low': 612.76, 'volumeto': 15597892.34, 'open': 615.77, 'close': 617.29, 'high': 618.81, 'time': 1476057600, 'volumefrom': 25230.93}, {'low': 615.6, 'volumeto': 35367127.91, 'open': 617.29, 'close': 640.45, 'high': 642.35, 'time': 1476144000, 'volumefrom': 55765.89}, {'low': 632.19, 'volumeto': 17240000.95, 'open': 640.45, 'close': 635.99, 'high': 642.51, 'time': 1476230400, 'volumefrom': 26952.73}, {'low': 632.25, 'volumeto': 16387361.92, 'open': 635.99, 'close': 635.6, 'high': 639.52, 'time': 1476316800, 'volumefrom': 25614.65}, {'low': 630.66, 'volumeto': 20114873.61, 'open': 635.6, 'close': 637.92, 'high': 640.46, 'time': 1476403200, 'volumefrom': 31421.75}, {'low': 635.06, 'volumeto': 7970927.57, 'open': 637.92, 'close': 637.03, 'high': 641.4, 'time': 1476489600, 'volumefrom': 12381.25}, {'low': 636.39, 'volumeto': 8306925.43, 'open': 637.03, 'close': 640.12, 'high': 642.18, 'time': 1476576000, 'volumefrom': 12886.16}, {'low': 634.89, 'volumeto': 17742610.19, 'open': 640.12, 'close': 637.37, 'high': 641.29, 'time': 1476662400, 'volumefrom': 27691.09}, {'low': 632.23, 'volumeto': 15725013.13, 'open': 637.37, 'close': 635.34, 'high': 639.34, 'time': 1476748800, 'volumefrom': 24598.13}, {'low': 624.09, 'volumeto': 22379197.69, 'open': 635.34, 'close': 629.06, 'high': 637.27, 'time': 1476835200, 'volumefrom': 35289.02}, {'low': 625.48, 'volumeto': 13252110.98, 'open': 629.06, 'close': 628.34, 'high': 630.83, 'time': 1476921600, 'volumefrom': 20943.99}, {'low': 627.58, 'volumeto': 17836383.25, 'open': 628.34, 'close': 630.45, 'high': 633.26, 'time': 1477008000, 'volumefrom': 28087.96}, {'low': 629.72, 'volumeto': 24154228.12, 'open': 630.45, 'close': 655.48, 'high': 659.89, 'time': 1477094400, 'volumefrom': 37097.19}, {'low': 648.78, 'volumeto': 14418212.04, 'open': 655.48, 'close': 653.03, 'high': 661.2, 'time': 1477180800, 'volumefrom': 21907.32}, {'low': 645.68, 'volumeto': 21726106.55, 'open': 653.03, 'close': 650.49, 'high': 654.32, 'time': 1477267200, 'volumefrom': 33243.05}, {'low': 647.65, 'volumeto': 24179462.12, 'open': 650.49, 'close': 651, 'high': 662.54, 'time': 1477353600, 'volumefrom': 36742.93}, {'low': 651.39, 'volumeto': 31949607.32, 'open': 651, 'close': 674.67, 'high': 678.39, 'time': 1477440000, 'volumefrom': 47670.4}, {'low': 672.26, 'volumeto': 31862181.34, 'open': 674.67, 'close': 682.3, 'high': 687.88, 'time': 1477526400, 'volumefrom': 46557.39}, {'low': 678.63, 'volumeto': 26829414, 'open': 682.3, 'close': 686.24, 'high': 688.43, 'time': 1477612800, 'volumefrom': 38968.34}, {'low': 685.22, 'volumeto': 38351348.64, 'open': 686.24, 'close': 714.95, 'high': 720.19, 'time': 1477699200, 'volumefrom': 54028.31}, {'low': 689.51, 'volumeto': 27793236.64, 'open': 714.95, 'close': 697.27, 'high': 714.91, 'time': 1477785600, 'volumefrom': 39328.5}, {'low': 682.17, 'volumeto': 26687188.09, 'open': 697.27, 'close': 698.67, 'high': 707.21, 'time': 1477872000, 'volumefrom': 38046.55}, {'low': 695.2, 'volumeto': 49453950.69, 'open': 698.67, 'close': 726.76, 'high': 734.36, 'time': 1477958400, 'volumefrom': 68064.91}, {'low': 718.14, 'volumeto': 28452232.03, 'open': 726.76, 'close': 733.51, 'high': 735.78, 'time': 1478044800, 'volumefrom': 39043.27}, {'low': 670.4, 'volumeto': 69067917.54, 'open': 733.51, 'close': 684.87, 'high': 744.43, 'time': 1478131200, 'volumefrom': 96409.44}, {'low': 681.27, 'volumeto': 33762721.43, 'open': 684.87, 'close': 702.08, 'high': 706.64, 'time': 1478217600, 'volumefrom': 48235.17}, {'low': 694.03, 'volumeto': 15554565.72, 'open': 702.08, 'close': 702.11, 'high': 706.38, 'time': 1478304000, 'volumefrom': 22018.95}, {'low': 697.63, 'volumeto': 18363567.63, 'open': 702.11, 'close': 709.91, 'high': 714.13, 'time': 1478390400, 'volumefrom': 25809.88}, {'low': 698.35, 'volumeto': 21797370.12, 'open': 709.91, 'close': 705.4, 'high': 711.66, 'time': 1478476800, 'volumefrom': 30743.71}, {'low': 700.96, 'volumeto': 28262235.71, 'open': 705.4, 'close': 710.9, 'high': 714.63, 'time': 1478563200, 'volumefrom': 39732.33}, {'low': 707.13, 'volumeto': 51548567.54, 'open': 710.9, 'close': 721.42, 'high': 741.23, 'time': 1478649600, 'volumefrom': 70698.2}, {'low': 707.31, 'volumeto': 23931322.76, 'open': 721.42, 'close': 714.57, 'high': 723.02, 'time': 1478736000, 'volumefrom': 33327.52}, {'low': 711.67, 'volumeto': 18386841.21, 'open': 714.57, 'close': 714.97, 'high': 719.79, 'time': 1478822400, 'volumefrom': 25583.38}, {'low': 701.08, 'volumeto': 19677656.63, 'open': 714.97, 'close': 704.27, 'high': 717.37, 'time': 1478908800, 'volumefrom': 27601.81}, {'low': 685.01, 'volumeto': 25249834.8, 'open': 704.27, 'close': 701.97, 'high': 705.61, 'time': 1478995200, 'volumefrom': 36136.74}, {'low': 696.11, 'volumeto': 26613445.03, 'open': 701.97, 'close': 704.56, 'high': 708.03, 'time': 1479081600, 'volumefrom': 37752.31}, {'low': 697.91, 'volumeto': 29562740.26, 'open': 704.56, 'close': 711.1, 'high': 716.93, 'time': 1479168000, 'volumefrom': 41401.17}, {'low': 708.14, 'volumeto': 58304902.39, 'open': 711.1, 'close': 740.28, 'high': 745.98, 'time': 1479254400, 'volumefrom': 79569.14}, {'low': 730.08, 'volumeto': 46942756.4, 'open': 740.28, 'close': 737.53, 'high': 751.91, 'time': 1479340800, 'volumefrom': 62772.48}, {'low': 730.95, 'volumeto': 29666065.54, 'open': 737.53, 'close': 746.96, 'high': 751.43, 'time': 1479427200, 'volumefrom': 39708.18}, {'low': 737.44, 'volumeto': 19276573.28, 'open': 746.96, 'close': 747.89, 'high': 755.34, 'time': 1479513600, 'volumefrom': 25625.82}, {'low': 712.77, 'volumeto': 34876785.19, 'open': 747.89, 'close': 728.51, 'high': 752.26, 'time': 1479600000, 'volumefrom': 47423.27}, {'low': 726.55, 'volumeto': 24010681.87, 'open': 728.51, 'close': 736.19, 'high': 744.33, 'time': 1479686400, 'volumefrom': 32508.2}, {'low': 730.62, 'volumeto': 33225195.21, 'open': 736.19, 'close': 749.34, 'high': 754.01, 'time': 1479772800, 'volumefrom': 44441.44}, {'low': 731.34, 'volumeto': 28258203.98, 'open': 749.34, 'close': 741.07, 'high': 750.93, 'time': 1479859200, 'volumefrom': 37869.33}, {'low': 726.19, 'volumeto': 27531777.52, 'open': 741.07, 'close': 735.31, 'high': 744.24, 'time': 1479945600, 'volumefrom': 37239.41}, {'low': 728.97, 'volumeto': 21299510.69, 'open': 735.31, 'close': 740.39, 'high': 741.25, 'time': 1480032000, 'volumefrom': 28846.87}, {'low': 725.62, 'volumeto': 16682481.58, 'open': 740.39, 'close': 734.14, 'high': 740.96, 'time': 1480118400, 'volumefrom': 22578.17}, {'low': 727.11, 'volumeto': 15735824.63, 'open': 734.14, 'close': 729.42, 'high': 738.29, 'time': 1480204800, 'volumefrom': 21354.15}, {'low': 727.74, 'volumeto': 25153838.93, 'open': 729.42, 'close': 733.3, 'high': 738.1, 'time': 1480291200, 'volumefrom': 34117.31}, {'low': 727.78, 'volumeto': 24030304.1, 'open': 733.3, 'close': 732.56, 'high': 737.04, 'time': 1480377600, 'volumefrom': 32567.83}, {'low': 730.57, 'volumeto': 29210351.41, 'open': 732.56, 'close': 742.49, 'high': 745.39, 'time': 1480464000, 'volumefrom': 39277.45}, {'low': 741.08, 'volumeto': 40690942.17, 'open': 742.49, 'close': 752.63, 'high': 755.48, 'time': 1480550400, 'volumefrom': 54029.19}, {'low': 752.25, 'volumeto': 48893613.64, 'open': 752.63, 'close': 770.94, 'high': 779.02, 'time': 1480636800, 'volumefrom': 63217.85}, {'low': 755.81, 'volumeto': 30234128.1, 'open': 770.94, 'close': 764.24, 'high': 772.32, 'time': 1480723200, 'volumefrom': 38445.54}, {'low': 758.8, 'volumeto': 14755120.48, 'open': 764.24, 'close': 766.39, 'high': 769.23, 'time': 1480809600, 'volumefrom': 19163.97}, {'low': 746.01, 'volumeto': 39082688.28, 'open': 766.39, 'close': 754.34, 'high': 769.18, 'time': 1480896000, 'volumefrom': 51164.97}, {'low': 750.91, 'volumeto': 25497771.6, 'open': 754.34, 'close': 758.21, 'high': 762.48, 'time': 1480982400, 'volumefrom': 33430.33}, {'low': 754.27, 'volumeto': 26755412.58, 'open': 758.21, 'close': 765.56, 'high': 769.02, 'time': 1481068800, 'volumefrom': 34864.8}, {'low': 761.17, 'volumeto': 22208497.22, 'open': 765.56, 'close': 768.49, 'high': 773.41, 'time': 1481155200, 'volumefrom': 28780.25}, {'low': 765.03, 'volumeto': 18722048.47, 'open': 768.49, 'close': 770.48, 'high': 773.48, 'time': 1481241600, 'volumefrom': 24176.98}, {'low': 769.19, 'volumeto': 14049110.07, 'open': 770.48, 'close': 774, 'high': 776.96, 'time': 1481328000, 'volumefrom': 18017.98}, {'low': 763, 'volumeto': 13269086.38, 'open': 774, 'close': 767.91, 'high': 774.16, 'time': 1481414400, 'volumefrom': 17140.02}, {'low': 767.86, 'volumeto': 22442991.37, 'open': 767.91, 'close': 778.47, 'high': 781.26, 'time': 1481500800, 'volumefrom': 28759.72}, {'low': 767.77, 'volumeto': 25894856.06, 'open': 778.47, 'close': 778.74, 'high': 790.33, 'time': 1481587200, 'volumefrom': 33108.65}, {'low': 771.01, 'volumeto': 19326375.41, 'open': 778.74, 'close': 776.5, 'high': 780.77, 'time': 1481673600, 'volumefrom': 24782.47}, {'low': 773.12, 'volumeto': 20452116.66, 'open': 776.5, 'close': 775.21, 'high': 780.27, 'time': 1481760000, 'volumefrom': 26224.24}, {'low': 773.31, 'volumeto': 21650384.64, 'open': 775.21, 'close': 782.05, 'high': 783.94, 'time': 1481846400, 'volumefrom': 27607.57}, {'low': 779.36, 'volumeto': 18648778.51, 'open': 782.05, 'close': 787.17, 'high': 791.57, 'time': 1481932800, 'volumefrom': 23581.31}, {'low': 783.8, 'volumeto': 11525747.48, 'open': 787.17, 'close': 789.01, 'high': 791.26, 'time': 1482019200, 'volumefrom': 14532.68}, {'low': 786.31, 'volumeto': 20238681.94, 'open': 789.01, 'close': 789.79, 'high': 793.73, 'time': 1482105600, 'volumefrom': 25460.54}, {'low': 787.12, 'volumeto': 27406319.09, 'open': 789.79, 'close': 799.1, 'high': 800.02, 'time': 1482192000, 'volumefrom': 34480.19}, {'low': 795.98, 'volumeto': 53411082.07, 'open': 799.1, 'close': 829.21, 'high': 833.13, 'time': 1482278400, 'volumefrom': 65293.55}, {'low': 828.87, 'volumeto': 60511618.45, 'open': 829.21, 'close': 860.15, 'high': 874.68, 'time': 1482364800, 'volumefrom': 70557.59}, {'low': 858.04, 'volumeto': 91802931.23, 'open': 860.15, 'close': 917.17, 'high': 920.26, 'time': 1482451200, 'volumefrom': 102224.08}, {'low': 880.79, 'volumeto': 41576781.41, 'open': 917.17, 'close': 891.07, 'high': 920.49, 'time': 1482537600, 'volumefrom': 46030.07}, {'low': 851.42, 'volumeto': 37173377.51, 'open': 891.07, 'close': 891.07, 'high': 895.24, 'time': 1482624000, 'volumefrom': 42483.29}, {'low': 885.88, 'volumeto': 35002753.4, 'open': 891.07, 'close': 898.38, 'high': 909.32, 'time': 1482710400, 'volumefrom': 38787.58}, {'low': 893.38, 'volumeto': 45966615.06, 'open': 898.38, 'close': 925.78, 'high': 937.91, 'time': 1482796800, 'volumefrom': 49691.61}, {'low': 925.49, 'volumeto': 73811803.99, 'open': 925.78, 'close': 972.17, 'high': 974.51, 'time': 1482883200, 'volumefrom': 77285.8}, {'low': 949.23, 'volumeto': 59226667.89, 'open': 972.17, 'close': 971.08, 'high': 982.57, 'time': 1482969600, 'volumefrom': 61124.62}, {'low': 927.4, 'volumeto': 67449149.3, 'open': 971.08, 'close': 959.04, 'high': 971.59, 'time': 1483056000, 'volumefrom': 70839.81}, {'low': 942.4, 'volumeto': 26379401.89, 'open': 959.04, 'close': 963.38, 'high': 965.47, 'time': 1483142400, 'volumefrom': 27559.31}, {'low': 956.1, 'volumeto': 40570922.99, 'open': 963.38, 'close': 995.44, 'high': 1001.61, 'time': 1483228800, 'volumefrom': 41148.52}, {'low': 990.2, 'volumeto': 66038073.34, 'open': 995.44, 'close': 1017.05, 'high': 1031.68, 'time': 1483315200, 'volumefrom': 64951.63}, {'low': 1006.53, 'volumeto': 56085870.7, 'open': 1017.05, 'close': 1033.3, 'high': 1035.47, 'time': 1483401600, 'volumefrom': 54788.01}, {'low': 1022.32, 'volumeto': 170584623.04, 'open': 1033.3, 'close': 1135.41, 'high': 1148.54, 'time': 1483488000, 'volumefrom': 156272.17}, {'low': 874.53, 'volumeto': 244839289.77, 'open': 1135.41, 'close': 989.35, 'high': 1150.63, 'time': 1483574400, 'volumefrom': 240007.84}, {'low': 852.55, 'volumeto': 179160668.84, 'open': 989.35, 'close': 886.16, 'high': 1027.42, 'time': 1483660800, 'volumefrom': 194290.96}, {'low': 806.66, 'volumeto': 113037531.71, 'open': 886.16, 'close': 888.87, 'high': 900.86, 'time': 1483747200, 'volumefrom': 130663.09}, {'low': 875.85, 'volumeto': 70298340.37, 'open': 888.87, 'close': 900.86, 'high': 936.13, 'time': 1483833600, 'volumefrom': 76905.99}, {'low': 870.91, 'volumeto': 55963281.18, 'open': 900.86, 'close': 899.78, 'high': 910.47, 'time': 1483920000, 'volumefrom': 62579.5}, {'low': 890.12, 'volumeto': 48644106.82, 'open': 899.78, 'close': 904.37, 'high': 911.32, 'time': 1484006400, 'volumefrom': 53709.46}, {'low': 751.63, 'volumeto': 160194109.8, 'open': 904.37, 'close': 785.43, 'high': 917.65, 'time': 1484092800, 'volumefrom': 194436.54}, {'low': 739.55, 'volumeto': 93986701.88, 'open': 785.43, 'close': 810.11, 'high': 828.21, 'time': 1484179200, 'volumefrom': 120241.76}, {'low': 771, 'volumeto': 72555875.62, 'open': 810.11, 'close': 824.83, 'high': 835.05, 'time': 1484265600, 'volumefrom': 89861.97}, {'low': 808.27, 'volumeto': 36594482, 'open': 824.83, 'close': 819.63, 'high': 838.9, 'time': 1484352000, 'volumefrom': 44207.74}, {'low': 808.63, 'volumeto': 20004735.1, 'open': 819.63, 'close': 821.17, 'high': 826.43, 'time': 1484438400, 'volumefrom': 24401.41}, {'low': 817.7, 'volumeto': 27592899.17, 'open': 821.17, 'close': 827.34, 'high': 836.66, 'time': 1484524800, 'volumefrom': 33222.93}, {'low': 825.04, 'volumeto': 72272727.15, 'open': 827.34, 'close': 899.66, 'high': 906.38, 'time': 1484611200, 'volumefrom': 82207.99}, {'low': 845.87, 'volumeto': 61042392.11, 'open': 899.66, 'close': 872.03, 'high': 913.67, 'time': 1484697600, 'volumefrom': 69258.17}, {'low': 870.71, 'volumeto': 52300814.98, 'open': 872.03, 'close': 895.21, 'high': 905.28, 'time': 1484784000, 'volumefrom': 58440.87}, {'low': 878.9, 'volumeto': 34847130.33, 'open': 895.21, 'close': 892.91, 'high': 901.49, 'time': 1484870400, 'volumefrom': 38865.48}, {'low': 889.46, 'volumeto': 37129176.59, 'open': 892.91, 'close': 919.84, 'high': 928.93, 'time': 1484956800, 'volumefrom': 40378.21}, {'low': 888.62, 'volumeto': 44074299.79, 'open': 919.84, 'close': 918.84, 'high': 938.38, 'time': 1485043200, 'volumefrom': 47927.32}, {'low': 910.85, 'volumeto': 30261054.5, 'open': 918.84, 'close': 921.46, 'high': 927.98, 'time': 1485129600, 'volumefrom': 32744.43}, {'low': 889.15, 'volumeto': 53468911.31, 'open': 921.46, 'close': 893.75, 'high': 925.61, 'time': 1485216000, 'volumefrom': 58874.32}, {'low': 883.63, 'volumeto': 34014866.15, 'open': 893.75, 'close': 894.41, 'high': 905.7, 'time': 1485302400, 'volumefrom': 37902.18}, {'low': 893.49, 'volumeto': 30795685.98, 'open': 894.41, 'close': 915.56, 'high': 919.32, 'time': 1485388800, 'volumefrom': 33800.2}, {'low': 907.92, 'volumeto': 28503144.41, 'open': 915.56, 'close': 918.01, 'high': 922.56, 'time': 1485475200, 'volumefrom': 30968.49}, {'low': 912.84, 'volumeto': 13251844.02, 'open': 918.01, 'close': 918.51, 'high': 921.89, 'time': 1485561600, 'volumefrom': 14307.36}, {'low': 912.68, 'volumeto': 10214368.33, 'open': 918.51, 'close': 914.55, 'high': 922.4, 'time': 1485648000, 'volumefrom': 11052.31}, {'low': 911.51, 'volumeto': 17604172.47, 'open': 914.55, 'close': 920.73, 'high': 922.35, 'time': 1485734400, 'volumefrom': 19062.15}, {'low': 917.38, 'volumeto': 51869216.53, 'open': 920.73, 'close': 965.49, 'high': 967.45, 'time': 1485820800, 'volumefrom': 54670.21}, {'low': 959.82, 'volumeto': 44035816.37, 'open': 965.49, 'close': 982.43, 'high': 986.57, 'time': 1485907200, 'volumefrom': 45223.3}, {'low': 973.5, 'volumeto': 50633910.56, 'open': 982.43, 'close': 1003.97, 'high': 1009.13, 'time': 1485993600, 'volumefrom': 50863.87}, {'low': 989.21, 'volumeto': 62431017.97, 'open': 1003.97, 'close': 1013.02, 'high': 1023.72, 'time': 1486080000, 'volumefrom': 61671.88}, {'low': 1000.41, 'volumeto': 40406542.54, 'open': 1013.02, 'close': 1031.85, 'high': 1041.04, 'time': 1486166400, 'volumefrom': 39461.62}, {'low': 1004.05, 'volumeto': 31669956.98, 'open': 1031.85, 'close': 1016.11, 'high': 1033.66, 'time': 1486252800, 'volumefrom': 31058.49}, {'low': 1010.83, 'volumeto': 32828350.27, 'open': 1016.11, 'close': 1024.67, 'high': 1030.6, 'time': 1486339200, 'volumefrom': 32019.82}, {'low': 1019.87, 'volumeto': 41318349.43, 'open': 1024.67, 'close': 1049.56, 'high': 1054.1, 'time': 1486425600, 'volumefrom': 39553.25}, {'low': 1020.33, 'volumeto': 68336320.22, 'open': 1049.56, 'close': 1055.49, 'high': 1069.23, 'time': 1486512000, 'volumefrom': 65145.12}, {'low': 924.65, 'volumeto': 145839317.48, 'open': 1055.49, 'close': 978.96, 'high': 1073.03, 'time': 1486598400, 'volumefrom': 146746.26}, {'low': 947.02, 'volumeto': 60639111.4, 'open': 978.96, 'close': 997.61, 'high': 1005.6, 'time': 1486684800, 'volumefrom': 62132.99}, {'low': 983.93, 'volumeto': 28504495.1, 'open': 997.61, 'close': 1008.32, 'high': 1014.32, 'time': 1486771200, 'volumefrom': 28319.39}, {'low': 992.45, 'volumeto': 14825023.07, 'open': 1008.32, 'close': 996.52, 'high': 1007.82, 'time': 1486857600, 'volumefrom': 14750.39}, {'low': 975.1, 'volumeto': 32785064.4, 'open': 996.52, 'close': 995.36, 'high': 1007.61, 'time': 1486944000, 'volumefrom': 32908.63}, {'low': 986.46, 'volumeto': 39810076.3, 'open': 995.36, 'close': 1008.34, 'high': 1013.8, 'time': 1487030400, 'volumefrom': 39537.9}, {'low': 999.73, 'volumeto': 23569549.45, 'open': 1008.34, 'close': 1008.19, 'high': 1010.93, 'time': 1487116800, 'volumefrom': 23359.15}, {'low': 1007.39, 'volumeto': 39114743.32, 'open': 1008.19, 'close': 1031.93, 'high': 1040.28, 'time': 1487203200, 'volumefrom': 38080.21}, {'low': 1025.87, 'volumeto': 47815360.54, 'open': 1031.93, 'close': 1049.41, 'high': 1057.39, 'time': 1487289600, 'volumefrom': 45711.79}, {'low': 1044.68, 'volumeto': 26856521.18, 'open': 1049.41, 'close': 1052.28, 'high': 1063.21, 'time': 1487376000, 'volumefrom': 25362.02}, {'low': 1037.67, 'volumeto': 18876881.86, 'open': 1052.28, 'close': 1048.89, 'high': 1056.48, 'time': 1487462400, 'volumefrom': 17953.15}, {'low': 1040.99, 'volumeto': 32959720.15, 'open': 1048.89, 'close': 1077.56, 'high': 1081.78, 'time': 1487548800, 'volumefrom': 31010.85}, {'low': 1073.54, 'volumeto': 62908569.43, 'open': 1077.56, 'close': 1119.03, 'high': 1123.03, 'time': 1487635200, 'volumefrom': 57048.87}, {'low': 1094.83, 'volumeto': 53647453.34, 'open': 1119.03, 'close': 1120.46, 'high': 1132.25, 'time': 1487721600, 'volumefrom': 47913.31}, {'low': 1113.54, 'volumeto': 75663167.44, 'open': 1120.46, 'close': 1171.91, 'high': 1181.6, 'time': 1487808000, 'volumefrom': 65737.1}, {'low': 1092.41, 'volumeto': 126978010.75, 'open': 1171.91, 'close': 1176.49, 'high': 1211.74, 'time': 1487894400, 'volumefrom': 108170.88}, {'low': 1116.21, 'volumeto': 53003830.46, 'open': 1176.49, 'close': 1149.05, 'high': 1180.01, 'time': 1487980800, 'volumefrom': 45860.52}, {'low': 1130.61, 'volumeto': 35750258.05, 'open': 1149.05, 'close': 1171.58, 'high': 1177.47, 'time': 1488067200, 'volumefrom': 30764.77}, {'low': 1164.27, 'volumeto': 42035366.64, 'open': 1171.58, 'close': 1188.83, 'high': 1195.82, 'time': 1488153600, 'volumefrom': 35468.84}, {'low': 1175.75, 'volumeto': 60371869.57, 'open': 1188.83, 'close': 1189.27, 'high': 1208.22, 'time': 1488240000, 'volumefrom': 50579.83}, {'low': 1154.55, 'volumeto': 61964760.57, 'open': 1189.27, 'close': 1222.66, 'high': 1225.04, 'time': 1488326400, 'volumefrom': 51153.83}, {'low': 1211.96, 'volumeto': 98040639.32, 'open': 1222.66, 'close': 1255.47, 'high': 1286.98, 'time': 1488412800, 'volumefrom': 78492.01}, {'low': 1250.8, 'volumeto': 85876262.86, 'open': 1255.47, 'close': 1283.3, 'high': 1291.35, 'time': 1488499200, 'volumefrom': 67275.49}, {'low': 1228.73, 'volumeto': 48597934.9, 'open': 1283.3, 'close': 1264.32, 'high': 1285.78, 'time': 1488585600, 'volumefrom': 38418.2}, {'low': 1242.1, 'volumeto': 32104972.38, 'open': 1264.32, 'close': 1271.22, 'high': 1273.28, 'time': 1488672000, 'volumefrom': 25430.23}, {'low': 1261, 'volumeto': 39591110.81, 'open': 1271.22, 'close': 1277.01, 'high': 1280.61, 'time': 1488758400, 'volumefrom': 31026.9}, {'low': 1148.66, 'volumeto': 108673876.49, 'open': 1277.01, 'close': 1232.69, 'high': 1280.89, 'time': 1488844800, 'volumefrom': 87722.01}, {'low': 1136.88, 'volumeto': 116342973.91, 'open': 1232.69, 'close': 1146.97, 'high': 1242.04, 'time': 1488931200, 'volumefrom': 97875.25}, {'low': 1129.35, 'volumeto': 70427061.57, 'open': 1146.97, 'close': 1191.33, 'high': 1206.97, 'time': 1489017600, 'volumefrom': 59860.55}, {'low': 988.69, 'volumeto': 223836041.81, 'open': 1191.33, 'close': 1112.39, 'high': 1330.42, 'time': 1489104000, 'volumefrom': 190472.52}, {'low': 1104.78, 'volumeto': 82387198.06, 'open': 1112.39, 'close': 1179.22, 'high': 1202.69, 'time': 1489190400, 'volumefrom': 70747.22}, {'low': 1160.9, 'volumeto': 53441762.07, 'open': 1179.22, 'close': 1225.11, 'high': 1235.46, 'time': 1489276800, 'volumefrom': 44412.09}, {'low': 1205.61, 'volumeto': 74376298.14, 'open': 1225.11, 'close': 1238.19, 'high': 1245.63, 'time': 1489363200, 'volumefrom': 60460.94}, {'low': 1218.38, 'volumeto': 56058617.23, 'open': 1238.19, 'close': 1243.14, 'high': 1255.52, 'time': 1489449600, 'volumefrom': 45142.05}, {'low': 1236.43, 'volumeto': 54486699.63, 'open': 1243.14, 'close': 1253.43, 'high': 1256.95, 'time': 1489536000, 'volumefrom': 43592.4}, {'low': 1118.96, 'volumeto': 159409024.53, 'open': 1253.43, 'close': 1172.88, 'high': 1260.24, 'time': 1489622400, 'volumefrom': 132773.3}, {'low': 1063.48, 'volumeto': 183879768.71, 'open': 1172.88, 'close': 1071.71, 'high': 1174.9, 'time': 1489708800, 'volumefrom': 163739}, {'low': 940.18, 'volumeto': 212772055.65, 'open': 1071.71, 'close': 971.38, 'high': 1103.61, 'time': 1489795200, 'volumefrom': 210424.36}, {'low': 967.31, 'volumeto': 108128237.76, 'open': 971.38, 'close': 1022.6, 'high': 1063.67, 'time': 1489881600, 'volumefrom': 106444.72}, {'low': 1005.05, 'volumeto': 63833143.48, 'open': 1022.6, 'close': 1047.51, 'high': 1057.5, 'time': 1489968000, 'volumefrom': 61431.4}, {'low': 1043.87, 'volumeto': 101051998.73, 'open': 1047.51, 'close': 1121.29, 'high': 1125.53, 'time': 1490054400, 'volumefrom': 92591.27}, {'low': 997.78, 'volumeto': 120730492.05, 'open': 1121.29, 'close': 1044.72, 'high': 1121.88, 'time': 1490140800, 'volumefrom': 115286.08}, {'low': 1022.02, 'volumeto': 58898141.13, 'open': 1044.72, 'close': 1035.03, 'high': 1062.79, 'time': 1490227200, 'volumefrom': 56517.89}, {'low': 927.35, 'volumeto': 130042865.54, 'open': 1035.03, 'close': 939.7, 'high': 1038.38, 'time': 1490313600, 'volumefrom': 132599.72}, {'low': 890.43, 'volumeto': 118395054.45, 'open': 939.7, 'close': 966.3, 'high': 995.96, 'time': 1490400000, 'volumefrom': 127044.59}, {'low': 946.65, 'volumeto': 83255983.42, 'open': 966.3, 'close': 969.44, 'high': 1004.32, 'time': 1490486400, 'volumefrom': 85332.41}, {'low': 961.8, 'volumeto': 92332221.14, 'open': 969.44, 'close': 1045.14, 'high': 1048.85, 'time': 1490572800, 'volumefrom': 91256.43}, {'low': 1015.45, 'volumeto': 83567551.46, 'open': 1045.14, 'close': 1044.42, 'high': 1068.41, 'time': 1490659200, 'volumefrom': 80000.9}, {'low': 1008.34, 'volumeto': 71261535.48, 'open': 1044.42, 'close': 1041.9, 'high': 1058.66, 'time': 1490745600, 'volumefrom': 68852.51}, {'low': 1020.93, 'volumeto': 77633883.53, 'open': 1041.9, 'close': 1037.91, 'high': 1052.66, 'time': 1490832000, 'volumefrom': 74984.88}, {'low': 1035.18, 'volumeto': 96543920.02, 'open': 1037.91, 'close': 1079.11, 'high': 1088.2, 'time': 1490918400, 'volumefrom': 90987.94}, {'low': 1067.47, 'volumeto': 55020078.21, 'open': 1079.11, 'close': 1086.12, 'high': 1103.74, 'time': 1491004800, 'volumefrom': 50658.36}, {'low': 1074.21, 'volumeto': 77853933.84, 'open': 1086.12, 'close': 1097.4, 'high': 1109.48, 'time': 1491091200, 'volumefrom': 70980.71}, {'low': 1095.55, 'volumeto': 111870807.42, 'open': 1097.4, 'close': 1147.56, 'high': 1157.87, 'time': 1491177600, 'volumefrom': 98499.3}, {'low': 1122.15, 'volumeto': 81164094.44, 'open': 1147.56, 'close': 1141.77, 'high': 1161.19, 'time': 1491264000, 'volumefrom': 70998.95}, {'low': 1110.06, 'volumeto': 78335573.66, 'open': 1141.77, 'close': 1129.87, 'high': 1143.84, 'time': 1491350400, 'volumefrom': 69469.37}, {'low': 1130.51, 'volumeto': 108182158.18, 'open': 1129.87, 'close': 1188.7, 'high': 1201.55, 'time': 1491436800, 'volumefrom': 92357.58}, {'low': 1173.18, 'volumeto': 71184485.98, 'open': 1188.7, 'close': 1190.49, 'high': 1201.23, 'time': 1491523200, 'volumefrom': 59746.57}, {'low': 1166.65, 'volumeto': 39393003.33, 'open': 1190.49, 'close': 1180.78, 'high': 1198.22, 'time': 1491609600, 'volumefrom': 33180.63}, {'low': 1173.99, 'volumeto': 54498333.26, 'open': 1180.78, 'close': 1204.34, 'high': 1215.1, 'time': 1491696000, 'volumefrom': 45351.08}, {'low': 1194.81, 'volumeto': 48473680.7, 'open': 1204.34, 'close': 1206.71, 'high': 1214.87, 'time': 1491782400, 'volumefrom': 40013.05}, {'low': 1195.76, 'volumeto': 45563707.07, 'open': 1206.71, 'close': 1220.74, 'high': 1229.57, 'time': 1491868800, 'volumefrom': 37394.78}, {'low': 1207.36, 'volumeto': 54699396.14, 'open': 1220.74, 'close': 1212.53, 'high': 1225.46, 'time': 1491955200, 'volumefrom': 44783.23}, {'low': 1150.29, 'volumeto': 78456422.62, 'open': 1212.53, 'close': 1176.2, 'high': 1218.66, 'time': 1492041600, 'volumefrom': 66051.93}, {'low': 1162.16, 'volumeto': 56129576.67, 'open': 1176.2, 'close': 1177.33, 'high': 1195.4, 'time': 1492128000, 'volumefrom': 47217.49}, {'low': 841.53, 'volumeto': 33877537.21, 'open': 1177.33, 'close': 1176.99, 'high': 1194.85, 'time': 1492214400, 'volumefrom': 28384.58}, {'low': 1166.74, 'volumeto': 22538918.55, 'open': 1176.99, 'close': 1176.8, 'high': 1187.97, 'time': 1492300800, 'volumefrom': 18930.29}, {'low': 1172.81, 'volumeto': 56095607.39, 'open': 1176.8, 'close': 1194.01, 'high': 1202.97, 'time': 1492387200, 'volumefrom': 46483.54}, {'low': 1191.14, 'volumeto': 64900219.25, 'open': 1194.01, 'close': 1206.09, 'high': 1213.88, 'time': 1492473600, 'volumefrom': 52747.52}, {'low': 1194.08, 'volumeto': 53034357.1, 'open': 1206.09, 'close': 1215.2, 'high': 1218.21, 'time': 1492560000, 'volumefrom': 43347.15}, {'low': 1210.67, 'volumeto': 69223360.98, 'open': 1215.2, 'close': 1238.09, 'high': 1246.64, 'time': 1492646400, 'volumefrom': 55194.86}, {'low': 1235.56, 'volumeto': 52498296.85, 'open': 1238.09, 'close': 1249.64, 'high': 1256.97, 'time': 1492732800, 'volumefrom': 41344.02}, {'low': 1215.78, 'volumeto': 55776932.72, 'open': 1249.64, 'close': 1240.89, 'high': 1256.97, 'time': 1492819200, 'volumefrom': 43814.59}, {'low': 1223.06, 'volumeto': 54224355.75, 'open': 1240.89, 'close': 1249.14, 'high': 1256.23, 'time': 1492905600, 'volumefrom': 42608.01}, {'low': 1234.86, 'volumeto': 49281629.32, 'open': 1249.14, 'close': 1248.18, 'high': 1256.36, 'time': 1492992000, 'volumefrom': 38542.24}, {'low': 1244.21, 'volumeto': 56659016.28, 'open': 1248.18, 'close': 1264.31, 'high': 1272.62, 'time': 1493078400, 'volumefrom': 43885.78}, {'low': 1263, 'volumeto': 77649710.39, 'open': 1264.31, 'close': 1286.63, 'high': 1309.2, 'time': 1493164800, 'volumefrom': 58908.66}, {'low': 1285.3, 'volumeto': 83319636.4, 'open': 1286.63, 'close': 1332.91, 'high': 1346.79, 'time': 1493251200, 'volumefrom': 61771.48}, {'low': 1287.62, 'volumeto': 104536476.71, 'open': 1332.91, 'close': 1329.62, 'high': 1356.15, 'time': 1493337600, 'volumefrom': 77569.41}, {'low': 1314.15, 'volumeto': 55982468.15, 'open': 1329.62, 'close': 1336.28, 'high': 1343.69, 'time': 1493424000, 'volumefrom': 40969.34}, {'low': 1309.66, 'volumeto': 55470285.83, 'open': 1336.28, 'close': 1351.91, 'high': 1358.94, 'time': 1493510400, 'volumefrom': 40643.04}, {'low': 1342.78, 'volumeto': 144414038.52, 'open': 1351.91, 'close': 1415.81, 'high': 1448.68, 'time': 1493596800, 'volumefrom': 100438.27}, {'low': 1394.83, 'volumeto': 103342244.97, 'open': 1415.81, 'close': 1445.93, 'high': 1471.14, 'time': 1493683200, 'volumefrom': 70004.82}, {'low': 1424.05, 'volumeto': 122551707.4, 'open': 1445.93, 'close': 1485.55, 'high': 1496.39, 'time': 1493769600, 'volumefrom': 81717.36}, {'low': 1437.11, 'volumeto': 213084949.56, 'open': 1485.55, 'close': 1516.76, 'high': 1609.84, 'time': 1493856000, 'volumefrom': 136711.3}, {'low': 1485.01, 'volumeto': 188015771.96, 'open': 1516.76, 'close': 1507.77, 'high': 1588.11, 'time': 1493942400, 'volumefrom': 120379.24}, {'low': 1503.93, 'volumeto': 92747185.54, 'open': 1507.77, 'close': 1545.29, 'high': 1560.42, 'time': 1494028800, 'volumefrom': 59602.01}, {'low': 1495.18, 'volumeto': 111708072.42, 'open': 1545.29, 'close': 1554.45, 'high': 1572.89, 'time': 1494115200, 'volumefrom': 71355.58}, {'low': 1552.86, 'volumeto': 174687869.23, 'open': 1554.45, 'close': 1664.47, 'high': 1667.67, 'time': 1494201600, 'volumefrom': 107226.89}, {'low': 1619.97, 'volumeto': 219169486.19, 'open': 1664.47, 'close': 1697.5, 'high': 1757.39, 'time': 1494288000, 'volumefrom': 127228.68}, {'low': 1664.99, 'volumeto': 156203600.07, 'open': 1697.5, 'close': 1752.31, 'high': 1766.18, 'time': 1494374400, 'volumefrom': 89679.81}, {'low': 1741.54, 'volumeto': 198829123.41, 'open': 1752.31, 'close': 1819.29, 'high': 1864.76, 'time': 1494460800, 'volumefrom': 109009}, {'low': 1641.18, 'volumeto': 192159873.95, 'open': 1819.29, 'close': 1686.39, 'high': 1822.51, 'time': 1494547200, 'volumefrom': 109341.25}, {'low': 1594.59, 'volumeto': 128390095.83, 'open': 1686.39, 'close': 1763.74, 'high': 1770.5, 'time': 1494633600, 'volumefrom': 75467.87}, {'low': 1736.13, 'volumeto': 72874378.57, 'open': 1763.74, 'close': 1772.55, 'high': 1802.75, 'time': 1494720000, 'volumefrom': 40635.4}, {'low': 1656.81, 'volumeto': 138499150.92, 'open': 1772.55, 'close': 1708.92, 'high': 1776.65, 'time': 1494806400, 'volumefrom': 80241.72}, {'low': 1653.72, 'volumeto': 130379207.17, 'open': 1708.92, 'close': 1729.34, 'high': 1752.55, 'time': 1494892800, 'volumefrom': 75541.37}, {'low': 1703.97, 'volumeto': 170954154.68, 'open': 1729.34, 'close': 1801.3, 'high': 1842.83, 'time': 1494979200, 'volumefrom': 94618.69}, {'low': 1791.12, 'volumeto': 135901905.39, 'open': 1801.3, 'close': 1880.99, 'high': 1980.49, 'time': 1495065600, 'volumefrom': 73095.54}, {'low': 1875.28, 'volumeto': 191523926.23, 'open': 1880.99, 'close': 1962, 'high': 1969.7, 'time': 1495152000, 'volumefrom': 98759.13}, {'low': 1944.4, 'volumeto': 179346919.05, 'open': 1962, 'close': 2040.18, 'high': 2048.45, 'time': 1495238400, 'volumefrom': 89862.03}, {'low': 1980.07, 'volumeto': 161036810.13, 'open': 2040.18, 'close': 2044.19, 'high': 2094.94, 'time': 1495324800, 'volumefrom': 78775.32}, {'low': 1998.61, 'volumeto': 373482496.01, 'open': 2044.19, 'close': 2124.41, 'high': 2264.76, 'time': 1495411200, 'volumefrom': 174376.65}, {'low': 2110.78, 'volumeto': 251969081.94, 'open': 2124.41, 'close': 2272.58, 'high': 2286.3, 'time': 1495497600, 'volumefrom': 114179.23}, {'low': 2263.29, 'volumeto': 353734030.88, 'open': 2272.58, 'close': 2445.28, 'high': 2496.98, 'time': 1495584000, 'volumefrom': 149254.84}, {'low': 2210.48, 'volumeto': 622139030.97, 'open': 2445.28, 'close': 2307.22, 'high': 2781.76, 'time': 1495670400, 'volumefrom': 248438.97}, {'low': 2051.45, 'volumeto': 441342711.51, 'open': 2306.96, 'close': 2244.89, 'high': 2616.52, 'time': 1495756800, 'volumefrom': 191494.03}, {'low': 1868.56, 'volumeto': 446034004.02, 'open': 2244.89, 'close': 2052.43, 'high': 2322.37, 'time': 1495843200, 'volumefrom': 222952.91}, {'low': 2051.07, 'volumeto': 266766116.87, 'open': 2052.43, 'close': 2189.02, 'high': 2300.52, 'time': 1495929600, 'volumefrom': 125004.39}, {'low': 2117.34, 'volumeto': 204101576.11, 'open': 2189.02, 'close': 2278.21, 'high': 2337.35, 'time': 1496016000, 'volumefrom': 92235.69}, {'low': 2147.1, 'volumeto': 270069146.9, 'open': 2278.21, 'close': 2192.55, 'high': 2329.26, 'time': 1496102400, 'volumefrom': 120964.11}, {'low': 2168.37, 'volumeto': 261223035.96, 'open': 2192.55, 'close': 2303.34, 'high': 2330.62, 'time': 1496188800, 'volumefrom': 117749.1}, {'low': 2303.34, 'volumeto': 290070431.91, 'open': 2303.34, 'close': 2412.65, 'high': 2460.84, 'time': 1496275200, 'volumefrom': 122696.44}, {'low': 2385.59, 'volumeto': 199765372.83, 'open': 2412.65, 'close': 2492.6, 'high': 2493.97, 'time': 1496361600, 'volumefrom': 83028.45}, {'low': 2449.95, 'volumeto': 177168595.51, 'open': 2492.6, 'close': 2545.43, 'high': 2582.77, 'time': 1496448000, 'volumefrom': 70956.49}, {'low': 2478.18, 'volumeto': 149060810.38, 'open': 2545.43, 'close': 2524.06, 'high': 2559.79, 'time': 1496534400, 'volumefrom': 59478.96}, {'low': 2523.92, 'volumeto': 225611887.49, 'open': 2524.06, 'close': 2704.96, 'high': 2705.38, 'time': 1496620800, 'volumefrom': 86686.38}, {'low': 2699.68, 'volumeto': 538772473.78, 'open': 2704.96, 'close': 2870.5, 'high': 2931.24, 'time': 1496707200, 'volumefrom': 192228.25}, {'low': 2626.56, 'volumeto': 340329903.73, 'open': 2870.5, 'close': 2691.51, 'high': 2880.95, 'time': 1496793600, 'volumefrom': 122676.04}, {'low': 2623.61, 'volumeto': 260898606.12, 'open': 2691.51, 'close': 2798.78, 'high': 2808.41, 'time': 1496880000, 'volumefrom': 95420.44}, {'low': 2786.07, 'volumeto': 189237110.88, 'open': 2798.78, 'close': 2811.43, 'high': 2852.07, 'time': 1496966400, 'volumefrom': 67044.96}, {'low': 2807.36, 'volumeto': 246869682.08, 'open': 2811.43, 'close': 2900.25, 'high': 2914.19, 'time': 1497052800, 'volumefrom': 86516.58}, {'low': 2867.25, 'volumeto': 241516660.76, 'open': 2900.25, 'close': 2973.45, 'high': 2977.86, 'time': 1497139200, 'volumefrom': 83026.07}, {'low': 2483.63, 'volumeto': 585158909.87, 'open': 2973.45, 'close': 2656.77, 'high': 2985.06, 'time': 1497225600, 'volumefrom': 217963.32}, {'low': 2647.44, 'volumeto': 314476276.72, 'open': 2656.77, 'close': 2712.99, 'high': 2784.77, 'time': 1497312000, 'volumefrom': 116738.08}, {'low': 2348.99, 'volumeto': 448294279.42, 'open': 2712.99, 'close': 2467.27, 'high': 2803.72, 'time': 1497398400, 'volumefrom': 174189.24}, {'low': 2125.56, 'volumeto': 606264366.01, 'open': 2467.27, 'close': 2442.46, 'high': 2521.6, 'time': 1497484800, 'volumefrom': 262787.33}, {'low': 2335.28, 'volumeto': 286630757.58, 'open': 2442.46, 'close': 2508.58, 'high': 2536.42, 'time': 1497571200, 'volumefrom': 117206.43}, {'low': 2454.81, 'volumeto': 246698591.9, 'open': 2508.58, 'close': 2655.1, 'high': 2690.71, 'time': 1497657600, 'volumefrom': 95948.29}, {'low': 2488.59, 'volumeto': 235239296.33, 'open': 2655.1, 'close': 2539.56, 'high': 2676.04, 'time': 1497744000, 'volumefrom': 92004.22}, {'low': 2518.78, 'volumeto': 210372750.85, 'open': 2539.56, 'close': 2616.82, 'high': 2617.75, 'time': 1497830400, 'volumefrom': 81829.22}, {'low': 2613.98, 'volumeto': 300034010.58, 'open': 2616.82, 'close': 2754.38, 'high': 2800.48, 'time': 1497916800, 'volumefrom': 111303.55}, {'low': 2624.35, 'volumeto': 313234721.45, 'open': 2754.38, 'close': 2677.62, 'high': 2804.41, 'time': 1498003200, 'volumefrom': 116033.61}, {'low': 2623.17, 'volumeto': 210318780.96, 'open': 2677.62, 'close': 2722.84, 'high': 2757.32, 'time': 1498089600, 'volumefrom': 78297.6}, {'low': 2699.48, 'volumeto': 155303414.19, 'open': 2722.84, 'close': 2710.37, 'high': 2759.66, 'time': 1498176000, 'volumefrom': 56938.1}, {'low': 2540.35, 'volumeto': 228007287.01, 'open': 2710.37, 'close': 2590.05, 'high': 2741.56, 'time': 1498262400, 'volumefrom': 86964.18}, {'low': 2472.37, 'volumeto': 220679135.83, 'open': 2590.05, 'close': 2541.62, 'high': 2660.66, 'time': 1498348800, 'volumefrom': 86972.43}, {'low': 2327.26, 'volumeto': 401912134.89, 'open': 2541.62, 'close': 2446.05, 'high': 2584.75, 'time': 1498435200, 'volumefrom': 165825.86}, {'low': 2309.63, 'volumeto': 381517099.87, 'open': 2446.05, 'close': 2583.75, 'high': 2585.06, 'time': 1498521600, 'volumefrom': 159263.78}, {'low': 2490.11, 'volumeto': 279792448.24, 'open': 2583.75, 'close': 2577.74, 'high': 2616.95, 'time': 1498608000, 'volumefrom': 110423.89}, {'low': 2526.51, 'volumeto': 191733499.8, 'open': 2577.74, 'close': 2558.37, 'high': 2605.86, 'time': 1498694400, 'volumefrom': 75323.92}, {'low': 2469.54, 'volumeto': 183878856.3, 'open': 2558.37, 'close': 2480.61, 'high': 2576.28, 'time': 1498780800, 'volumefrom': 73001.6}, {'low': 2387.47, 'volumeto': 160661673.8, 'open': 2480.61, 'close': 2424.61, 'high': 2529.62, 'time': 1498867200, 'volumefrom': 66319.98}, {'low': 2375.86, 'volumeto': 165839565.2, 'open': 2424.61, 'close': 2536.46, 'high': 2555.34, 'time': 1498953600, 'volumefrom': 67757.31}, {'low': 2506.3, 'volumeto': 212244951.2, 'open': 2536.46, 'close': 2572.47, 'high': 2617.48, 'time': 1499040000, 'volumefrom': 83418.16}, {'low': 2569.99, 'volumeto': 210433639.12, 'open': 2572.47, 'close': 2617.32, 'high': 2658.73, 'time': 1499126400, 'volumefrom': 80675.07}, {'low': 2562.04, 'volumeto': 232257106.93, 'open': 2617.32, 'close': 2627.86, 'high': 2642.74, 'time': 1499212800, 'volumefrom': 89719.19}, {'low': 2581.8, 'volumeto': 156558009.83, 'open': 2627.86, 'close': 2614.24, 'high': 2634.84, 'time': 1499299200, 'volumefrom': 60155.45}, {'low': 2484.73, 'volumeto': 229168229.22, 'open': 2614.24, 'close': 2513.88, 'high': 2617.48, 'time': 1499385600, 'volumefrom': 90447.94}, {'low': 2480.62, 'volumeto': 136973389.49, 'open': 2513.88, 'close': 2564.86, 'high': 2568.73, 'time': 1499472000, 'volumefrom': 54508.76}, {'low': 2509.65, 'volumeto': 99506518.51, 'open': 2564.86, 'close': 2511.43, 'high': 2576.73, 'time': 1499558400, 'volumefrom': 39161.96}, {'low': 2271.79, 'volumeto': 297270301, 'open': 2511.43, 'close': 2344.02, 'high': 2530.34, 'time': 1499644800, 'volumefrom': 123797.54}, {'low': 2265.48, 'volumeto': 341998621.09, 'open': 2344.02, 'close': 2324.29, 'high': 2412.75, 'time': 1499731200, 'volumefrom': 146630.2}, {'low': 2262.08, 'volumeto': 257095280.13, 'open': 2324.29, 'close': 2403.09, 'high': 2424.82, 'time': 1499817600, 'volumefrom': 109522.9}, {'low': 2334.96, 'volumeto': 208630220.69, 'open': 2403.09, 'close': 2362.44, 'high': 2436.66, 'time': 1499904000, 'volumefrom': 88166.37}, {'low': 2165.36, 'volumeto': 257704533.44, 'open': 2362.44, 'close': 2234.17, 'high': 2370.53, 'time': 1499990400, 'volumefrom': 114411.35}, {'low': 1974.03, 'volumeto': 320719096.8, 'open': 2234.17, 'close': 1975.08, 'high': 2237.13, 'time': 1500076800, 'volumefrom': 155317.39}, {'low': 1808.99, 'volumeto': 364287861.72, 'open': 1975.08, 'close': 1914.09, 'high': 2044.41, 'time': 1500163200, 'volumefrom': 189643.47}, {'low': 1913.79, 'volumeto': 368366495.35, 'open': 1914.09, 'close': 2233.39, 'high': 2233.83, 'time': 1500249600, 'volumefrom': 176887.53}, {'low': 2164.59, 'volumeto': 465220151.81, 'open': 2233.39, 'close': 2320.23, 'high': 2400.74, 'time': 1500336000, 'volumefrom': 202621.16}, {'low': 2243.13, 'volumeto': 357639189.58, 'open': 2320.23, 'close': 2282.58, 'high': 2412.38, 'time': 1500422400, 'volumefrom': 154319.01}, {'low': 2282.11, 'volumeto': 807416890.88, 'open': 2282.58, 'close': 2866.02, 'high': 2932.81, 'time': 1500508800, 'volumefrom': 310335.43}, {'low': 2622.54, 'volumeto': 529154789.97, 'open': 2866.02, 'close': 2675.08, 'high': 2873.96, 'time': 1500595200, 'volumefrom': 193756.93}, {'low': 2658.59, 'volumeto': 341992860.2, 'open': 2675.08, 'close': 2836.53, 'high': 2876.71, 'time': 1500681600, 'volumefrom': 121917.95}, {'low': 2675.65, 'volumeto': 299869260.34, 'open': 2836.53, 'close': 2756.61, 'high': 2856.67, 'time': 1500768000, 'volumefrom': 108229.76}, {'low': 2715.69, 'volumeto': 229047365.02, 'open': 2756.61, 'close': 2763.42, 'high': 2798.89, 'time': 1500854400, 'volumefrom': 83009.25}, {'low': 2472.62, 'volumeto': 534765380.75, 'open': 2763.42, 'close': 2582.58, 'high': 2779.08, 'time': 1500940800, 'volumefrom': 205883.15}, {'low': 2441.54, 'volumeto': 340465234.92, 'open': 2582.58, 'close': 2559.21, 'high': 2631.73, 'time': 1501027200, 'volumefrom': 135502.93}, {'low': 2547.74, 'volumeto': 269880857.99, 'open': 2559.21, 'close': 2691.88, 'high': 2712.92, 'time': 1501113600, 'volumefrom': 103832.54}, {'low': 2683.59, 'volumeto': 383479795.74, 'open': 2691.88, 'close': 2806.75, 'high': 2843.78, 'time': 1501200000, 'volumefrom': 138904.86}, {'low': 2699.42, 'volumeto': 230818894.97, 'open': 2806.75, 'close': 2733.5, 'high': 2812.13, 'time': 1501286400, 'volumefrom': 84491.69}, {'low': 2621.68, 'volumeto': 222933516.31, 'open': 2733.5, 'close': 2766.49, 'high': 2773.06, 'time': 1501372800, 'volumefrom': 82717.65}, {'low': 2723.05, 'volumeto': 254836601.62, 'open': 2766.49, 'close': 2883.27, 'high': 2916.3, 'time': 1501459200, 'volumefrom': 91115.22}, {'low': 2659.62, 'volumeto': 341216428.6, 'open': 2883.27, 'close': 2746.99, 'high': 2946.02, 'time': 1501545600, 'volumefrom': 123174.1}, {'low': 2668.87, 'volumeto': 222534344.58, 'open': 2746.99, 'close': 2720.53, 'high': 2773.8, 'time': 1501632000, 'volumefrom': 81817.6}, {'low': 2717.62, 'volumeto': 188517085.91, 'open': 2720.53, 'close': 2809.99, 'high': 2822.88, 'time': 1501718400, 'volumefrom': 68102.9}, {'low': 2779.51, 'volumeto': 195800289.46, 'open': 2809.99, 'close': 2878.49, 'high': 2892.67, 'time': 1501804800, 'volumefrom': 68760.4}, {'low': 2875.91, 'volumeto': 503737620.4, 'open': 2878.49, 'close': 3262.8, 'high': 3344.01, 'time': 1501891200, 'volumefrom': 159402.96}, {'low': 3166.52, 'volumeto': 196484496.53, 'open': 3262.8, 'close': 3232.03, 'high': 3295.07, 'time': 1501977600, 'volumefrom': 60660.39}, {'low': 3198.51, 'volumeto': 294021645.24, 'open': 3232.03, 'close': 3401.91, 'high': 3425.13, 'time': 1502064000, 'volumefrom': 88111.88}, {'low': 3357.15, 'volumeto': 366169429.25, 'open': 3401.91, 'close': 3429.38, 'high': 3494.87, 'time': 1502150400, 'volumefrom': 106940.67}, {'low': 3251.03, 'volumeto': 324058681.71, 'open': 3429.38, 'close': 3348.79, 'high': 3437.15, 'time': 1502236800, 'volumefrom': 97062.76}, {'low': 3322.92, 'volumeto': 242024460.29, 'open': 3348.79, 'close': 3425.67, 'high': 3453.84, 'time': 1502323200, 'volumefrom': 71000.32}, {'low': 3409.79, 'volumeto': 345135492.36, 'open': 3425.67, 'close': 3654.37, 'high': 3706.48, 'time': 1502409600, 'volumefrom': 97564.43}, {'low': 3611.36, 'volumeto': 469532325.43, 'open': 3654.37, 'close': 3871.62, 'high': 3967.26, 'time': 1502496000, 'volumefrom': 123593.57}, {'low': 3847.31, 'volumeto': 638917500.34, 'open': 3871.62, 'close': 4062.6, 'high': 4189.42, 'time': 1502582400, 'volumefrom': 158586.97}, {'low': 3978.95, 'volumeto': 540927757.84, 'open': 4062.6, 'close': 4327.94, 'high': 4336.71, 'time': 1502668800, 'volumefrom': 128460}, {'low': 3837.13, 'volumeto': 872840682.33, 'open': 4327.94, 'close': 4161.66, 'high': 4436.48, 'time': 1502755200, 'volumefrom': 211581.81}, {'low': 3938.62, 'volumeto': 472960334.46, 'open': 4161.66, 'close': 4387.4, 'high': 4398.06, 'time': 1502841600, 'volumefrom': 112901.04}, {'low': 4194.1, 'volumeto': 554232802.49, 'open': 4387.4, 'close': 4278.92, 'high': 4487.5, 'time': 1502928000, 'volumefrom': 127475.88}, {'low': 3978.28, 'volumeto': 603898315.45, 'open': 4278.92, 'close': 4105.37, 'high': 4362.73, 'time': 1503014400, 'volumefrom': 144398.64}, {'low': 3957.46, 'volumeto': 462723151.89, 'open': 4105.37, 'close': 4150.45, 'high': 4189.68, 'time': 1503100800, 'volumefrom': 113724.38}, {'low': 4034.4, 'volumeto': 288193446.22, 'open': 4150.45, 'close': 4066.6, 'high': 4182.29, 'time': 1503187200, 'volumefrom': 70163.05}, {'low': 3966.93, 'volumeto': 365174045.82, 'open': 4066.6, 'close': 4005.1, 'high': 4097.25, 'time': 1503273600, 'volumefrom': 90644.62}, {'low': 3612.21, 'volumeto': 659657838.92, 'open': 4005.1, 'close': 4089.7, 'high': 4142.68, 'time': 1503360000, 'volumefrom': 169138.73}, {'low': 4070.49, 'volumeto': 402340258.48, 'open': 4089.7, 'close': 4141.09, 'high': 4255.62, 'time': 1503446400, 'volumefrom': 96649.15}, {'low': 4111.71, 'volumeto': 305373477.79, 'open': 4141.09, 'close': 4318.35, 'high': 4364.11, 'time': 1503532800, 'volumefrom': 72358.36}, {'low': 4292.63, 'volumeto': 362283252.98, 'open': 4318.35, 'close': 4364.41, 'high': 4461.71, 'time': 1503619200, 'volumefrom': 82901.88}, {'low': 4263.28, 'volumeto': 199403922.82, 'open': 4364.41, 'close': 4352.3, 'high': 4379.28, 'time': 1503705600, 'volumefrom': 46159.77}, {'low': 4321.12, 'volumeto': 185180843.1, 'open': 4352.3, 'close': 4345.75, 'high': 4408.18, 'time': 1503792000, 'volumefrom': 42516.01}, {'low': 4195.23, 'volumeto': 325285703.33, 'open': 4345.75, 'close': 4390.31, 'high': 4403.13, 'time': 1503878400, 'volumefrom': 75486.08}, {'low': 4350.22, 'volumeto': 455467850.19, 'open': 4390.31, 'close': 4597.31, 'high': 4647.83, 'time': 1503964800, 'volumefrom': 100801.36}, {'low': 4491.79, 'volumeto': 313466398.12, 'open': 4597.31, 'close': 4583.02, 'high': 4644.06, 'time': 1504051200, 'volumefrom': 68471.63}, {'low': 4580.13, 'volumeto': 338981145.1, 'open': 4583.02, 'close': 4735.11, 'high': 4765.07, 'time': 1504137600, 'volumefrom': 72293.57}, {'low': 4690.17, 'volumeto': 491140364.58, 'open': 4735.11, 'close': 4921.85, 'high': 4925.23, 'time': 1504224000, 'volumefrom': 102012.79}, {'low': 4448.64, 'volumeto': 747713818.1, 'open': 4921.85, 'close': 4573.8, 'high': 4976.52, 'time': 1504310400, 'volumefrom': 160770.39}, {'low': 4397.74, 'volumeto': 470135795.37, 'open': 4573.8, 'close': 4612.92, 'high': 4719.78, 'time': 1504396800, 'volumefrom': 102823.39}, {'low': 4098.58, 'volumeto': 737216060.51, 'open': 4612.92, 'close': 4267.45, 'high': 4621.01, 'time': 1504483200, 'volumefrom': 170399.25}, {'low': 4004.62, 'volumeto': 673846827.74, 'open': 4267.45, 'close': 4409.08, 'high': 4496.67, 'time': 1504569600, 'volumefrom': 158410.81}, {'low': 4401.53, 'volumeto': 504717245.65, 'open': 4409.08, 'close': 4618.71, 'high': 4660.04, 'time': 1504656000, 'volumefrom': 110931.13}, {'low': 4493.2, 'volumeto': 324939872.82, 'open': 4618.71, 'close': 4635.6, 'high': 4690.55, 'time': 1504742400, 'volumefrom': 70531.23}, {'low': 4130.88, 'volumeto': 786819863.5, 'open': 4635.6, 'close': 4326.45, 'high': 4699.59, 'time': 1504828800, 'volumefrom': 180364.02}, {'low': 4185.33, 'volumeto': 332195251.06, 'open': 4326.45, 'close': 4335.13, 'high': 4402.15, 'time': 1504915200, 'volumefrom': 77087.34}, {'low': 4032.15, 'volumeto': 451244396.53, 'open': 4335.13, 'close': 4245.89, 'high': 4338.08, 'time': 1505001600, 'volumefrom': 108075.24}, {'low': 4134.62, 'volumeto': 375254125.16, 'open': 4245.89, 'close': 4217.9, 'high': 4364.42, 'time': 1505088000, 'volumefrom': 88757.81}, {'low': 4074.97, 'volumeto': 453402207.42, 'open': 4217.9, 'close': 4158.92, 'high': 4387.76, 'time': 1505174400, 'volumefrom': 107041.94}, {'low': 3752.01, 'volumeto': 728385231.78, 'open': 4158.92, 'close': 3870.29, 'high': 4174.58, 'time': 1505260800, 'volumefrom': 186540.37}, {'low': 3218.98, 'volumeto': 1118258889.56, 'open': 3870.29, 'close': 3243.08, 'high': 3930.69, 'time': 1505347200, 'volumefrom': 317592.57}, {'low': 2979.88, 'volumeto': 1519153953.02, 'open': 3243.08, 'close': 3713.76, 'high': 3824.43, 'time': 1505433600, 'volumefrom': 448551.92}, {'low': 3551.83, 'volumeto': 627559216.22, 'open': 3713.76, 'close': 3698.92, 'high': 3893.67, 'time': 1505520000, 'volumefrom': 169361.61}, {'low': 3485.83, 'volumeto': 351250484.2, 'open': 3698.92, 'close': 3689.61, 'high': 3796.56, 'time': 1505606400, 'volumefrom': 96068.08}, {'low': 3689, 'volumeto': 586938661.3, 'open': 3689.61, 'close': 4100.28, 'high': 4122.75, 'time': 1505692800, 'volumefrom': 147927.08}, {'low': 3852.22, 'volumeto': 488897829.62, 'open': 4100.28, 'close': 3907.96, 'high': 4120.71, 'time': 1505779200, 'volumefrom': 123214.81}, {'low': 3846.76, 'volumeto': 342438072.5, 'open': 3907.96, 'close': 3882.16, 'high': 4053.04, 'time': 1505865600, 'volumefrom': 86645.15}, {'low': 3576.54, 'volumeto': 543570164.08, 'open': 3882.16, 'close': 3617.27, 'high': 3912.79, 'time': 1505952000, 'volumefrom': 145124.78}, {'low': 3505.81, 'volumeto': 414612501.81, 'open': 3617.27, 'close': 3600.83, 'high': 3753.51, 'time': 1506038400, 'volumefrom': 114717.36}, {'low': 3563.18, 'volumeto': 253370774.72, 'open': 3600.83, 'close': 3788.02, 'high': 3813.39, 'time': 1506124800, 'volumefrom': 67820.32}, {'low': 3633.88, 'volumeto': 183852135.74, 'open': 3788.02, 'close': 3667.52, 'high': 3790.89, 'time': 1506211200, 'volumefrom': 49661.76}, {'low': 3665.67, 'volumeto': 386674961.65, 'open': 3667.52, 'close': 3932.83, 'high': 3971.5, 'time': 1506297600, 'volumefrom': 100194.7}, {'low': 3858.75, 'volumeto': 248481868.86, 'open': 3932.83, 'close': 3892.7, 'high': 3982.31, 'time': 1506384000, 'volumefrom': 63252.3}, {'low': 3882.08, 'volumeto': 480358673.93, 'open': 3892.7, 'close': 4212.2, 'high': 4232.35, 'time': 1506470400, 'volumefrom': 117596.07}, {'low': 4112.88, 'volumeto': 386909537.01, 'open': 4212.2, 'close': 4195.65, 'high': 4274.64, 'time': 1506556800, 'volumefrom': 92228.17}, {'low': 4030.37, 'volumeto': 404599756.28, 'open': 4195.65, 'close': 4172.79, 'high': 4237.51, 'time': 1506643200, 'volumefrom': 97803.91}, {'low': 4164.25, 'volumeto': 290796939.99, 'open': 4172.79, 'close': 4360.62, 'high': 4383.27, 'time': 1506729600, 'volumefrom': 67493.68}, {'low': 4258.32, 'volumeto': 262485153.92, 'open': 4360.62, 'close': 4403.09, 'high': 4412.62, 'time': 1506816000, 'volumefrom': 60583.85}, {'low': 4364.67, 'volumeto': 314621927.61, 'open': 4403.09, 'close': 4401.32, 'high': 4477.38, 'time': 1506902400, 'volumefrom': 71201.48}, {'low': 4230.73, 'volumeto': 353046057.47, 'open': 4401.32, 'close': 4314.18, 'high': 4435.99, 'time': 1506988800, 'volumefrom': 81867.3}, {'low': 4183.57, 'volumeto': 272424730.47, 'open': 4314.18, 'close': 4218.66, 'high': 4355.29, 'time': 1507075200, 'volumefrom': 64081.96}, {'low': 4143.35, 'volumeto': 271914958.4, 'open': 4218.66, 'close': 4321.44, 'high': 4365.76, 'time': 1507161600, 'volumefrom': 63613.2}, {'low': 4296.93, 'volumeto': 269878225.69, 'open': 4321.44, 'close': 4371.94, 'high': 4422.15, 'time': 1507248000, 'volumefrom': 61692.93}, {'low': 4319.48, 'volumeto': 176332039.12, 'open': 4371.94, 'close': 4435.81, 'high': 4472.92, 'time': 1507334400, 'volumefrom': 40202.08}, {'low': 4419.36, 'volumeto': 323063950.84, 'open': 4435.81, 'close': 4611.7, 'high': 4622.87, 'time': 1507420800, 'volumefrom': 71366.95}, {'low': 4556.15, 'volumeto': 518586828.49, 'open': 4611.7, 'close': 4777.49, 'high': 4875.38, 'time': 1507507200, 'volumefrom': 110191.77}, {'low': 4722.81, 'volumeto': 475717720.64, 'open': 4777.49, 'close': 4763.36, 'high': 4930, 'time': 1507593600, 'volumefrom': 98485}, {'low': 4718.6, 'volumeto': 338533507.33, 'open': 4763.36, 'close': 4824.2, 'high': 4874.89, 'time': 1507680000, 'volumefrom': 70482.75}, {'low': 4814.98, 'volumeto': 848641969.34, 'open': 4824.2, 'close': 5432.62, 'high': 5432.63, 'time': 1507766400, 'volumefrom': 163916.09}, {'low': 5391.97, 'volumeto': 1211469140.96, 'open': 5432.62, 'close': 5637.26, 'high': 5852.78, 'time': 1507852800, 'volumefrom': 215018.92}, {'low': 5568.86, 'volumeto': 434406119.95, 'open': 5637.26, 'close': 5824.71, 'high': 5839.62, 'time': 1507939200, 'volumefrom': 76224.35}, {'low': 5448.22, 'volumeto': 571166215.25, 'open': 5824.71, 'close': 5688.14, 'high': 5862.69, 'time': 1508025600, 'volumefrom': 101636.95}, {'low': 5576.1, 'volumeto': 349154669.33, 'open': 5677.35, 'close': 5759.33, 'high': 5795.33, 'time': 1508112000, 'volumefrom': 61358.95}, {'low': 5521.09, 'volumeto': 368658284.35, 'open': 5759.25, 'close': 5598.58, 'high': 5773.32, 'time': 1508198400, 'volumefrom': 65637.43}, {'low': 5114.87, 'volumeto': 654722509.03, 'open': 5598.58, 'close': 5575.83, 'high': 5601.3, 'time': 1508284800, 'volumefrom': 122020.31}, {'low': 5517.62, 'volumeto': 469774559.06, 'open': 5576.71, 'close': 5698.65, 'high': 5737.41, 'time': 1508371200, 'volumefrom': 83056.09}, {'low': 5611.39, 'volumeto': 729487923.01, 'open': 5698.62, 'close': 5993.11, 'high': 6075.32, 'time': 1508457600, 'volumefrom': 123860.51}, {'low': 5874.54, 'volumeto': 684989667.22, 'open': 5993.11, 'close': 6006.65, 'high': 6187.2, 'time': 1508544000, 'volumefrom': 112943.89}, {'low': 5722.98, 'volumeto': 618893096.8, 'open': 6006.65, 'close': 5982.86, 'high': 6070.56, 'time': 1508630400, 'volumefrom': 105030.93}, {'low': 5644.22, 'volumeto': 801148315.46, 'open': 5982.86, 'close': 5903.61, 'high': 6048.98, 'time': 1508716800, 'volumefrom': 137140.4}, {'low': 5463.41, 'volumeto': 811951129.66, 'open': 5903.61, 'close': 5513.08, 'high': 5904.63, 'time': 1508803200, 'volumefrom': 143735.81}, {'low': 5375.64, 'volumeto': 585738379.88, 'open': 5513.08, 'close': 5734, 'high': 5747.96, 'time': 1508889600, 'volumefrom': 105839.48}, {'low': 5689.92, 'volumeto': 547664553.57, 'open': 5734, 'close': 5887.61, 'high': 5970.4, 'time': 1508976000, 'volumefrom': 93675.55}, {'low': 5692.32, 'volumeto': 488283724.04, 'open': 5887.62, 'close': 5764.56, 'high': 5997.83, 'time': 1509062400, 'volumefrom': 83933.5}, {'low': 5654.8, 'volumeto': 305611140.99, 'open': 5764.56, 'close': 5726.61, 'high': 5871.04, 'time': 1509148800, 'volumefrom': 53232.17}, {'low': 5679.37, 'volumeto': 966990808.93, 'open': 5726.61, 'close': 6147.52, 'high': 6295.43, 'time': 1509235200, 'volumefrom': 163055.75}, {'low': 6018.97, 'volumeto': 481600502.95, 'open': 6147.7, 'close': 6124.28, 'high': 6226.18, 'time': 1509321600, 'volumefrom': 78624.31}, {'low': 6090.83, 'volumeto': 637838767.02, 'open': 6124.28, 'close': 6451.24, 'high': 6467.2, 'time': 1509408000, 'volumefrom': 101249.62}, {'low': 6355, 'volumeto': 869798619.79, 'open': 6449.1, 'close': 6737.78, 'high': 6738.74, 'time': 1509494400, 'volumefrom': 133191.93}, {'low': 6737.77, 'volumeto': 1663170039.86, 'open': 6737.78, 'close': 7024.81, 'high': 7339.91, 'time': 1509580800, 'volumefrom': 238796.19}, {'low': 6938.93, 'volumeto': 1120978013.29, 'open': 7024.81, 'close': 7152.12, 'high': 7445.62, 'time': 1509667200, 'volumefrom': 154886.75}, {'low': 6957.84, 'volumeto': 773371754.85, 'open': 7146.98, 'close': 7363.8, 'high': 7492.24, 'time': 1509753600, 'volumefrom': 106602.67}, {'low': 7284.33, 'volumeto': 789287755.18, 'open': 7363.8, 'close': 7389.55, 'high': 7599.44, 'time': 1509840000, 'volumefrom': 105727.2}, {'low': 6934.73, 'volumeto': 1148125488.89, 'open': 7389.55, 'close': 6959.23, 'high': 7429.7, 'time': 1509926400, 'volumefrom': 159688.48}, {'low': 6957.8, 'volumeto': 716798409.14, 'open': 6959.27, 'close': 7102.75, 'high': 7222.37, 'time': 1510012800, 'volumefrom': 101044.57}, {'low': 7026.97, 'volumeto': 1632547465.88, 'open': 7102.23, 'close': 7444.36, 'high': 7869.1, 'time': 1510099200, 'volumefrom': 220224.38}, {'low': 7040.83, 'volumeto': 915963933.06, 'open': 7444.36, 'close': 7129.59, 'high': 7457.12, 'time': 1510185600, 'volumefrom': 126769.9}, {'low': 6406.05, 'volumeto': 1513421266.51, 'open': 7129.59, 'close': 6565.8, 'high': 7318.97, 'time': 1510272000, 'volumefrom': 222001.18}, {'low': 6197.87, 'volumeto': 878096915.35, 'open': 6565.8, 'close': 6339.86, 'high': 6821.5, 'time': 1510358400, 'volumefrom': 135719.07}, {'low': 5493.64, 'volumeto': 1629165385.9, 'open': 6339.87, 'close': 5878.13, 'high': 6490.53, 'time': 1510444800, 'volumefrom': 269832.87}, {'low': 5828.34, 'volumeto': 1135256036.03, 'open': 5878.09, 'close': 6522.45, 'high': 6760.15, 'time': 1510531200, 'volumefrom': 178340.89}, {'low': 6419.18, 'volumeto': 634604991.54, 'open': 6522.45, 'close': 6597.06, 'high': 6728.59, 'time': 1510617600, 'volumefrom': 96502.09}, {'low': 6596.94, 'volumeto': 922959468.47, 'open': 6597.06, 'close': 7283.22, 'high': 7330.06, 'time': 1510704000, 'volumefrom': 131120.23}, {'low': 7119.17, 'volumeto': 1010130763.21, 'open': 7283.02, 'close': 7853.68, 'high': 7964.64, 'time': 1510790400, 'volumefrom': 133937.8}, {'low': 7534.7, 'volumeto': 917599923.24, 'open': 7853.68, 'close': 7699.95, 'high': 8000.19, 'time': 1510876800, 'volumefrom': 117347.03}, {'low': 7458.9, 'volumeto': 571121111, 'open': 7699.95, 'close': 7780.91, 'high': 7857.52, 'time': 1510963200, 'volumefrom': 74382.12}, {'low': 7675.41, 'volumeto': 541391321.61, 'open': 7781.02, 'close': 8042.64, 'high': 8100.87, 'time': 1511049600, 'volumefrom': 68618.85}, {'low': 7947.28, 'volumeto': 617354329.03, 'open': 8042.64, 'close': 8244.69, 'high': 8294.12, 'time': 1511136000, 'volumefrom': 75703.64}, {'low': 7819.06, 'volumeto': 938345413.24, 'open': 8245.87, 'close': 8099.97, 'high': 8368.36, 'time': 1511222400, 'volumefrom': 115454.28}, {'low': 8091.63, 'volumeto': 539697375.37, 'open': 8099.92, 'close': 8234.55, 'high': 8304.37, 'time': 1511308800, 'volumefrom': 65811.68}, {'low': 8012.35, 'volumeto': 555465146.26, 'open': 8234.5, 'close': 8013.41, 'high': 8266.55, 'time': 1511395200, 'volumefrom': 68010.7}, {'low': 7900.17, 'volumeto': 595710405.8, 'open': 8013.38, 'close': 8200.8, 'high': 8332.94, 'time': 1511481600, 'volumefrom': 72994.63}, {'low': 8153.7, 'volumeto': 718483679.6, 'open': 8203.45, 'close': 8754.69, 'high': 8761.98, 'time': 1511568000, 'volumefrom': 84670.41}, {'low': 8746.56, 'volumeto': 782499976.71, 'open': 8754.62, 'close': 9318.42, 'high': 9474.62, 'time': 1511654400, 'volumefrom': 85891.98}, {'low': 9316.84, 'volumeto': 1025175619.87, 'open': 9318.42, 'close': 9733.2, 'high': 9733.61, 'time': 1511740800, 'volumefrom': 106902.79}, {'low': 9638.2, 'volumeto': 865328615.73, 'open': 9732.63, 'close': 9906.04, 'high': 9969.58, 'time': 1511827200, 'volumefrom': 87754.89}, {'low': 8938.7, 'volumeto': 2418792360.6, 'open': 9906.04, 'close': 9837.86, 'high': 11417.84, 'time': 1511913600, 'volumefrom': 233325.32}, {'low': 9023.77, 'volumeto': 1836210107.31, 'open': 9848.05, 'close': 9946.76, 'high': 10689.06, 'time': 1512000000, 'volumefrom': 187008.87}, {'low': 9420.93, 'volumeto': 1353669597.43, 'open': 9947.08, 'close': 10861.47, 'high': 10942.8, 'time': 1512086400, 'volumefrom': 131918.85}, {'low': 10715.55, 'volumeto': 950474241.58, 'open': 10861.47, 'close': 10912.73, 'high': 11175.23, 'time': 1512172800, 'volumefrom': 86825.51}, {'low': 10578.43, 'volumeto': 1380012064.12, 'open': 10912.72, 'close': 11246.21, 'high': 11851.09, 'time': 1512259200, 'volumefrom': 122125.7}, {'low': 10917.81, 'volumeto': 1057859226.18, 'open': 11244.2, 'close': 11623.91, 'high': 11624.63, 'time': 1512345600, 'volumefrom': 93173.9}, {'low': 11486.13, 'volumeto': 1048839303.8, 'open': 11624.37, 'close': 11667.13, 'high': 11901.87, 'time': 1512432000, 'volumefrom': 89687.21}, {'low': 11661.76, 'volumeto': 2437037791.81, 'open': 11667.13, 'close': 13749.57, 'high': 13843.2, 'time': 1512518400, 'volumefrom': 191576.66}, {'low': 13401.61, 'volumeto': 4510225316.19, 'open': 13750.09, 'close': 16850.31, 'high': 16879.26, 'time': 1512604800, 'volumefrom': 297108.66}, {'low': 13906.1, 'volumeto': 4546014731.58, 'open': 16867.98, 'close': 16047.61, 'high': 17294.85, 'time': 1512691200, 'volumefrom': 286762.02}, {'low': 13151.47, 'volumeto': 2699876215.33, 'open': 16048.18, 'close': 14843.42, 'high': 16313.18, 'time': 1512777600, 'volumefrom': 181979.81}, {'low': 13031, 'volumeto': 2904037859.64, 'open': 14839.98, 'close': 15059.6, 'high': 15783.2, 'time': 1512864000, 'volumefrom': 201620.09}, {'low': 15024.56, 'volumeto': 2634267594.52, 'open': 15060.45, 'close': 16732.47, 'high': 17399.18, 'time': 1512950400, 'volumefrom': 159724.56}, {'low': 16254.53, 'volumeto': 2246138895.89, 'open': 16733.29, 'close': 17083.9, 'high': 17560.65, 'time': 1513036800, 'volumefrom': 132846.57}, {'low': 15669.86, 'volumeto': 2576055941.69, 'open': 17083.9, 'close': 16286.82, 'high': 17267.96, 'time': 1513123200, 'volumefrom': 155407.35}, {'low': 16023.64, 'volumeto': 1773813863.46, 'open': 16286.82, 'close': 16467.91, 'high': 16941.08, 'time': 1513209600, 'volumefrom': 107918.03}, {'low': 16442.2, 'volumeto': 2682351213.91, 'open': 16467.91, 'close': 17604.85, 'high': 17987.03, 'time': 1513296000, 'volumefrom': 153651.15}, {'low': 17318.54, 'volumeto': 2078806368.79, 'open': 17594.08, 'close': 19345.49, 'high': 19587.7, 'time': 1513382400, 'volumefrom': 112173.97}, {'low': 18750.91, 'volumeto': 2264650369.71, 'open': 19346.6, 'close': 19065.71, 'high': 19870.62, 'time': 1513468800, 'volumefrom': 117408.38}, {'low': 18114.42, 'volumeto': 2597510049.89, 'open': 19065.71, 'close': 18972.32, 'high': 19221.1, 'time': 1513555200, 'volumefrom': 139251.39}, {'low': 16812.8, 'volumeto': 3136709262.09, 'open': 18971.19, 'close': 17523.7, 'high': 19021.97, 'time': 1513641600, 'volumefrom': 174543.37}, {'low': 15642.69, 'volumeto': 3791752510.78, 'open': 17521.73, 'close': 16461.97, 'high': 17813.6, 'time': 1513728000, 'volumefrom': 227676.13}, {'low': 14952.98, 'volumeto': 2619295475.76, 'open': 16461.09, 'close': 15632.12, 'high': 17301.83, 'time': 1513814400, 'volumefrom': 163735.02}, {'low': 10875.71, 'volumeto': 6245731508.4, 'open': 15632.12, 'close': 13664.97, 'high': 15823.72, 'time': 1513900800, 'volumefrom': 466980.6}, {'low': 13356.07, 'volumeto': 2491903154.48, 'open': 13664.97, 'close': 14396.46, 'high': 15493.23, 'time': 1513987200, 'volumefrom': 170169.39}, {'low': 12166.45, 'volumeto': 2428437693.16, 'open': 14396.63, 'close': 13789.95, 'high': 14413.72, 'time': 1514073600, 'volumefrom': 182417.29}, {'low': 13010.71, 'volumeto': 1487888106.52, 'open': 13789.95, 'close': 13833.49, 'high': 14467.43, 'time': 1514160000, 'volumefrom': 107475.98}, {'low': 13748.49, 'volumeto': 2198577125.17, 'open': 13830.19, 'close': 15756.56, 'high': 16094.67, 'time': 1514246400, 'volumefrom': 143135.26}, {'low': 14534.66, 'volumeto': 2162831128.76, 'open': 15757.02, 'close': 15416.64, 'high': 16514.59, 'time': 1514332800, 'volumefrom': 138705.28}, {'low': 13466.07, 'volumeto': 2425912717.56, 'open': 15416.34, 'close': 14398.7, 'high': 15505.51, 'time': 1514419200, 'volumefrom': 170366.63}, {'low': 13951.08, 'volumeto': 1733583750.2, 'open': 14398.45, 'close': 14392.57, 'high': 15109.81, 'time': 1514505600, 'volumefrom': 118874.63}, {'low': 11962.09, 'volumeto': 2387311023.42, 'open': 14392.14, 'close': 12531.52, 'high': 14461.46, 'time': 1514592000, 'volumefrom': 182065.44}, {'low': 12359.43, 'volumeto': 1492142483.58, 'open': 12532.38, 'close': 13850.4, 'high': 14241.82, 'time': 1514678400, 'volumefrom': 111270.55}, {'low': 12877.67, 'volumeto': 1057521524.42, 'open': 13850.49, 'close': 13444.88, 'high': 13921.53, 'time': 1514764800, 'volumefrom': 78425.21}, {'low': 12934.16, 'volumeto': 1956783037.35, 'open': 13444.88, 'close': 14754.13, 'high': 15306.13, 'time': 1514851200, 'volumefrom': 137732.17}, {'low': 14579.71, 'volumeto': 1604206990.04, 'open': 14754.09, 'close': 15156.62, 'high': 15435.01, 'time': 1514937600, 'volumefrom': 106543.39}, {'low': 14244.67, 'volumeto': 1656714736.62, 'open': 15156.49, 'close': 15180.08, 'high': 15408.66, 'time': 1515024000, 'volumefrom': 110968.82}, {'low': 14832.36, 'volumeto': 2283988962.92, 'open': 15180.08, 'close': 16954.78, 'high': 17126.95, 'time': 1515110400, 'volumefrom': 141960.42}, {'low': 16286.57, 'volumeto': 1412703790.73, 'open': 16954.76, 'close': 17172.3, 'high': 17252.85, 'time': 1515196800, 'volumefrom': 83927.99}, {'low': 15791.13, 'volumeto': 1309532650.11, 'open': 17174.5, 'close': 16228.16, 'high': 17184.81, 'time': 1515283200, 'volumefrom': 79006.37}, {'low': 13902.31, 'volumeto': 2166366561.33, 'open': 16228.26, 'close': 14976.17, 'high': 16302.92, 'time': 1515369600, 'volumefrom': 142453.96}, {'low': 14221.55, 'volumeto': 1486802326.34, 'open': 14976.17, 'close': 14468.5, 'high': 15390.28, 'time': 1515456000, 'volumefrom': 99730.65}, {'low': 13450.54, 'volumeto': 2025083791.13, 'open': 14468.09, 'close': 14919.49, 'high': 14919.49, 'time': 1515542400, 'volumefrom': 142303.9}, {'low': 12825.95, 'volumeto': 2373494121.74, 'open': 14920.36, 'close': 13308.06, 'high': 14979.96, 'time': 1515628800, 'volumefrom': 173452.27}, {'low': 12851.91, 'volumeto': 1402292716.89, 'open': 13308.06, 'close': 13841.19, 'high': 14129.08, 'time': 1515715200, 'volumefrom': 102068.02}, {'low': 13830.28, 'volumeto': 1021352776.21, 'open': 13841.19, 'close': 14243.12, 'high': 14595.04, 'time': 1515801600, 'volumefrom': 71300.93}, {'low': 13031.91, 'volumeto': 1112590573.36, 'open': 14244.12, 'close': 13638.63, 'high': 14415.67, 'time': 1515888000, 'volumefrom': 81536}, {'low': 13416.71, 'volumeto': 1170462750.59, 'open': 13638.63, 'close': 13631.98, 'high': 14355.82, 'time': 1515974400, 'volumefrom': 84089.84}, {'low': 10032.69, 'volumeto': 3842651741.45, 'open': 13634.6, 'close': 11282.49, 'high': 13648.84, 'time': 1516060800, 'volumefrom': 325702.79}, {'low': 9205.38, 'volumeto': 3666978316.26, 'open': 11282.49, 'close': 11162.7, 'high': 11736.3, 'time': 1516147200, 'volumefrom': 348631.94}, {'low': 10642.33, 'volumeto': 2357251805.09, 'open': 11162.7, 'close': 11175.52, 'high': 12018.43, 'time': 1516233600, 'volumefrom': 204918.02}, {'low': 10867.18, 'volumeto': 1264875700.45, 'open': 11175.52, 'close': 11521.76, 'high': 11780.49, 'time': 1516320000, 'volumefrom': 110885.87}, {'low': 11502.11, 'volumeto': 1492721765.44, 'open': 11521.82, 'close': 12783.94, 'high': 13031.04, 'time': 1516406400, 'volumefrom': 119084.84}, {'low': 11101.73, 'volumeto': 1552755289.93, 'open': 12783.54, 'close': 11549.93, 'high': 12787.35, 'time': 1516492800, 'volumefrom': 130427.64}, {'low': 10067.76, 'volumeto': 1811992345.95, 'open': 11549.98, 'close': 10814.52, 'high': 11913.74, 'time': 1516579200, 'volumefrom': 165723.08}, {'low': 9980.5, 'volumeto': 1710180828.64, 'open': 10814.52, 'close': 10858.23, 'high': 11388.52, 'time': 1516665600, 'volumefrom': 158868.59}, {'low': 10506.55, 'volumeto': 1286435482.05, 'open': 10853.78, 'close': 11429.02, 'high': 11531.6, 'time': 1516752000, 'volumefrom': 115804.82}, {'low': 10930.34, 'volumeto': 1061064251.44, 'open': 11428.11, 'close': 11175.87, 'high': 11741.92, 'time': 1516838400, 'volumefrom': 93317.76}, {'low': 10346.86, 'volumeto': 1560135332.27, 'open': 11175.87, 'close': 11104.2, 'high': 11656.54, 'time': 1516924800, 'volumefrom': 142350.84}, {'low': 10879.2, 'volumeto': 1031091633.68, 'open': 11104.34, 'close': 11459.71, 'high': 11638.69, 'time': 1517011200, 'volumefrom': 90873.81}, {'low': 11407.94, 'volumeto': 1038153169.8, 'open': 11460.39, 'close': 11767.74, 'high': 12064.19, 'time': 1517097600, 'volumefrom': 87917.22}, {'low': 11089.52, 'volumeto': 920836244.04, 'open': 11767.74, 'close': 11233.95, 'high': 11860.29, 'time': 1517184000, 'volumefrom': 80713.7}, {'low': 9871.21, 'volumeto': 1720894077.2, 'open': 11234.32, 'close': 10107.26, 'high': 11263.7, 'time': 1517270400, 'volumefrom': 164072.93}, {'low': 9698.13, 'volumeto': 1230902973.11, 'open': 10107.4, 'close': 10226.86, 'high': 10377.96, 'time': 1517356800, 'volumefrom': 122260.49}, {'low': 8726.95, 'volumeto': 1964308989.29, 'open': 10226.86, 'close': 9114.72, 'high': 10280.84, 'time': 1517443200, 'volumefrom': 208918.8}, {'low': 7786.2, 'volumeto': 2768759876.15, 'open': 9114.73, 'close': 8870.82, 'high': 9147.93, 'time': 1517529600, 'volumefrom': 322596.22}, {'low': 8194.68, 'volumeto': 1253484523.4, 'open': 8872.87, 'close': 9251.27, 'high': 9504.37, 'time': 1517616000, 'volumefrom': 139226.07}, {'low': 7889.83, 'volumeto': 1413207410.82, 'open': 9251.27, 'close': 8218.05, 'high': 9400.99, 'time': 1517702400, 'volumefrom': 164609.06}, {'low': 6627.31, 'volumeto': 2534149181.03, 'open': 8218.05, 'close': 6937.08, 'high': 8391.29, 'time': 1517788800, 'volumefrom': 341828.54}, {'low': 5968.36, 'volumeto': 3397596513.74, 'open': 6936.43, 'close': 7701.25, 'high': 7932.38, 'time': 1517875200, 'volumefrom': 495883.24}, {'low': 7208.86, 'volumeto': 2159765331.36, 'open': 7701.25, 'close': 7592.72, 'high': 8572.68, 'time': 1517961600, 'volumefrom': 271450.37}, {'low': 7590.48, 'volumeto': 1594673973.51, 'open': 7593.78, 'close': 8260.69, 'high': 8643.94, 'time': 1518048000, 'volumefrom': 193040.33}, {'low': 7775.36, 'volumeto': 1348072086.15, 'open': 8259.26, 'close': 8696.83, 'high': 8743.2, 'time': 1518134400, 'volumefrom': 162279.68}, {'low': 8176.25, 'volumeto': 1348923336.33, 'open': 8696.83, 'close': 8569.29, 'high': 9081.49, 'time': 1518220800, 'volumefrom': 155616.78}, {'low': 7862.31, 'volumeto': 1013771945.88, 'open': 8569.32, 'close': 8084.61, 'high': 8573.35, 'time': 1518307200, 'volumefrom': 123293.84}, {'low': 8084.41, 'volumeto': 1085921871.17, 'open': 8084.61, 'close': 8911.27, 'high': 8997.34, 'time': 1518393600, 'volumefrom': 124923.98}, {'low': 8379.35, 'volumeto': 853320352.71, 'open': 8911.17, 'close': 8544.69, 'high': 8955.15, 'time': 1518480000, 'volumefrom': 98632.88}, {'low': 8542.98, 'volumeto': 1220863360.18, 'open': 8544.69, 'close': 9485.64, 'high': 9508.22, 'time': 1518566400, 'volumefrom': 133702.54}, {'low': 9363.38, 'volumeto': 1666668487.88, 'open': 9485.64, 'close': 10033.75, 'high': 10223.58, 'time': 1518652800, 'volumefrom': 168776.78}, {'low': 9720.38, 'volumeto': 1061827697.26, 'open': 10033.75, 'close': 10188.73, 'high': 10303.14, 'time': 1518739200, 'volumefrom': 105556.67}, {'low': 10074.07, 'volumeto': 1327921168.02, 'open': 10188.73, 'close': 11097.21, 'high': 11119.45, 'time': 1518825600, 'volumefrom': 123660.48}, {'low': 10161.01, 'volumeto': 1659704217.34, 'open': 11097.21, 'close': 10417.23, 'high': 11288.34, 'time': 1518912000, 'volumefrom': 154431.22}, {'low': 10336.32, 'volumeto': 1186535653.61, 'open': 10418.12, 'close': 11182.28, 'high': 11265.96, 'time': 1518998400, 'volumefrom': 108244.29}, {'low': 11130.95, 'volumeto': 1640343867.77, 'open': 11182.28, 'close': 11256.43, 'high': 11802.23, 'time': 1519084800, 'volumefrom': 142449.23}, {'low': 10256.21, 'volumeto': 1982721124.63, 'open': 11256.78, 'close': 10481.66, 'high': 11295.58, 'time': 1519171200, 'volumefrom': 183274.25}, {'low': 9757.19, 'volumeto': 1795951829.82, 'open': 10481.66, 'close': 9847.96, 'high': 10941.57, 'time': 1519257600, 'volumefrom': 175506.26}, {'low': 9604, 'volumeto': 1399448203.16, 'open': 9847.96, 'close': 10175.51, 'high': 10420.67, 'time': 1519344000, 'volumefrom': 139373.76}, {'low': 9396.54, 'volumeto': 1244484468.57, 'open': 10175.51, 'close': 9705.73, 'high': 10528, 'time': 1519430400, 'volumefrom': 125269.68}, {'low': 9329.44, 'volumeto': 793093192.66, 'open': 9705.73, 'close': 9610.11, 'high': 9873.79, 'time': 1519516800, 'volumefrom': 82430.45}, {'low': 9411.82, 'volumeto': 1181729273.47, 'open': 9610.11, 'close': 10326.5, 'high': 10457.51, 'time': 1519603200, 'volumefrom': 117416.47}, {'low': 10154.24, 'volumeto': 1060840699.02, 'open': 10326.5, 'close': 10594.76, 'high': 10879.38, 'time': 1519689600, 'volumefrom': 99772.39}, {'low': 10303.14, 'volumeto': 1126074675.67, 'open': 10594.76, 'close': 10334.44, 'high': 11067.76, 'time': 1519776000, 'volumefrom': 105434.79}, {'low': 10247.56, 'volumeto': 952472120.03, 'open': 10334.44, 'close': 10929.37, 'high': 11090.3, 'time': 1519862400, 'volumefrom': 88432.44}, {'low': 10801.45, 'volumeto': 852908489.64, 'open': 10929.37, 'close': 11043.12, 'high': 11191.94, 'time': 1519948800, 'volumefrom': 77195.49}, {'low': 11043.12, 'volumeto': 812200126.22, 'open': 11043.12, 'close': 11465.36, 'high': 11530.66, 'time': 1520035200, 'volumefrom': 71279.36}, {'low': 11084.01, 'volumeto': 690727335.55, 'open': 11465.36, 'close': 11504.42, 'high': 11539.79, 'time': 1520121600, 'volumefrom': 61016.39}, {'low': 11431.55, 'volumeto': 791471905.1, 'open': 11503.94, 'close': 11440.73, 'high': 11694.15, 'time': 1520208000, 'volumefrom': 68323.51}, {'low': 10589.28, 'volumeto': 1210081181.36, 'open': 11440.33, 'close': 10735.45, 'high': 11441.65, 'time': 1520294400, 'volumefrom': 109876.55}, {'low': 9470.73, 'volumeto': 1858869115, 'open': 10735.45, 'close': 9928.56, 'high': 10913.7, 'time': 1520380800, 'volumefrom': 183060.08}, {'low': 9086.85, 'volumeto': 1492236089.97, 'open': 9928.56, 'close': 9316.72, 'high': 10119.21, 'time': 1520467200, 'volumefrom': 154879.22}, {'low': 8393.45, 'volumeto': 2081621422.7, 'open': 9316.77, 'close': 9252.76, 'high': 9433.38, 'time': 1520553600, 'volumefrom': 233598.15}, {'low': 8727.43, 'volumeto': 1084925795.69, 'open': 9252.76, 'close': 8797.27, 'high': 9518.62, 'time': 1520640000, 'volumefrom': 117409.38}, {'low': 8484.32, 'volumeto': 1374814644.2, 'open': 8797.27, 'close': 9544.84, 'high': 9735.64, 'time': 1520726400, 'volumefrom': 149877.66}, {'low': 8796.52, 'volumeto': 1435404200.39, 'open': 9543.98, 'close': 9142.15, 'high': 9907.41, 'time': 1520812800, 'volumefrom': 152959.8}, {'low': 8856.65, 'volumeto': 1228556284.3, 'open': 9142.27, 'close': 9160.12, 'high': 9486.12, 'time': 1520899200, 'volumefrom': 133768.47}, {'low': 7966.94, 'volumeto': 1385572511.72, 'open': 9160.12, 'close': 8217.7, 'high': 9360.66, 'time': 1520985600, 'volumefrom': 161775.05}, {'low': 7698.47, 'volumeto': 1519850464.55, 'open': 8216.22, 'close': 8268.41, 'high': 8432.12, 'time': 1521072000, 'volumefrom': 187365.71}, {'low': 7924.11, 'volumeto': 1082790136.53, 'open': 8267.95, 'close': 8283.23, 'high': 8616.63, 'time': 1521158400, 'volumefrom': 129688.11}, {'low': 7765.41, 'volumeto': 901939422.97, 'open': 8283.23, 'close': 7883.45, 'high': 8360.64, 'time': 1521244800, 'volumefrom': 111641.32}, {'low': 7318.46, 'volumeto': 1535519444.95, 'open': 7882.67, 'close': 8215.4, 'high': 8299.86, 'time': 1521331200, 'volumefrom': 198796.34}, {'low': 8129.66, 'volumeto': 1447812723.08, 'open': 8215.5, 'close': 8623.14, 'high': 8725.6, 'time': 1521417600, 'volumefrom': 171829.52}, {'low': 8339.8, 'volumeto': 1150462439.42, 'open': 8623.14, 'close': 8920.71, 'high': 9056.23, 'time': 1521504000, 'volumefrom': 131959.66}, {'low': 8778.69, 'volumeto': 991376396.96, 'open': 8920.53, 'close': 8911.35, 'high': 9184.51, 'time': 1521590400, 'volumefrom': 109985.22}, {'low': 8500.88, 'volumeto': 1023286566.15, 'open': 8911.37, 'close': 8724.98, 'high': 9107, 'time': 1521676800, 'volumefrom': 116522.98}, {'low': 8307.58, 'volumeto': 939997284.45, 'open': 8724.98, 'close': 8934.8, 'high': 8935.88, 'time': 1521763200, 'volumefrom': 109649.39}, {'low': 8515.53, 'volumeto': 827663165.33, 'open': 8935.51, 'close': 8548.06, 'high': 9036.23, 'time': 1521849600, 'volumefrom': 93296.24}, {'low': 8395.85, 'volumeto': 657643520.26, 'open': 8548.39, 'close': 8472.84, 'high': 8690.36, 'time': 1521936000, 'volumefrom': 76775.64}, {'low': 7869.27, 'volumeto': 1079038734.78, 'open': 8472.56, 'close': 8152.2, 'high': 8521.04, 'time': 1522022400, 'volumefrom': 131859.97}, {'low': 7752.3, 'volumeto': 930754990.52, 'open': 8152.18, 'close': 7808.48, 'high': 8226.24, 'time': 1522108800, 'volumefrom': 116523.1}, {'low': 7752.6, 'volumeto': 657712114.92, 'open': 7808.42, 'close': 7959.78, 'high': 8117.79, 'time': 1522195200, 'volumefrom': 82590.62}, {'low': 6927.11, 'volumeto': 1379180030.3, 'open': 7959.78, 'close': 7106.62, 'high': 7983.77, 'time': 1522281600, 'volumefrom': 185805.88}, {'low': 6595.26, 'volumeto': 1584675343.21, 'open': 7106.62, 'close': 6853.76, 'high': 7280.27, 'time': 1522368000, 'volumefrom': 229837.79}, {'low': 6806.34, 'volumeto': 915400590.57, 'open': 6853.75, 'close': 6943.77, 'high': 7228.4, 'time': 1522454400, 'volumefrom': 129526.48}, {'low': 6463.54, 'volumeto': 889887684.72, 'open': 6943.77, 'close': 6835.84, 'high': 7056.22, 'time': 1522540800, 'volumefrom': 131344.01}, {'low': 6792.3, 'volumeto': 748861435.14, 'open': 6835.58, 'close': 7074.6, 'high': 8218.66, 'time': 1522627200, 'volumefrom': 106513.22}, {'low': 7039.88, 'volumeto': 905326798.64, 'open': 7074.65, 'close': 7434.3, 'high': 7528.97, 'time': 1522713600, 'volumefrom': 122807.02}, {'low': 6727.09, 'volumeto': 877199782.17, 'open': 7434.3, 'close': 6815.5, 'high': 7442.42, 'time': 1522800000, 'volumefrom': 123910.33}, {'low': 6602.38, 'volumeto': 777145174.76, 'open': 6815.5, 'close': 6790.45, 'high': 6933.66, 'time': 1522886400, 'volumefrom': 114426.84}, {'low': 6526.67, 'volumeto': 605651287.47, 'open': 6790.45, 'close': 6634.86, 'high': 6869.53, 'time': 1522972800, 'volumefrom': 90749.16}, {'low': 6624.47, 'volumeto': 564883141.53, 'open': 6634.86, 'close': 6917.2, 'high': 7083.85, 'time': 1523059200, 'volumefrom': 81312.77}, {'low': 6911.02, 'volumeto': 425825572.09, 'open': 6917.2, 'close': 7049.92, 'high': 7132.03, 'time': 1523145600, 'volumefrom': 60386.23}, {'low': 6633.69, 'volumeto': 901883664.92, 'open': 7049.92, 'close': 6789.53, 'high': 7204.28, 'time': 1523232000, 'volumefrom': 130534.03}, {'low': 6676.72, 'volumeto': 424510977.27, 'open': 6789.53, 'close': 6871.07, 'high': 6922.84, 'time': 1523318400, 'volumefrom': 62035.53}, {'low': 6839.16, 'volumeto': 450141340.22, 'open': 6871.07, 'close': 6977.13, 'high': 6999.37, 'time': 1523404800, 'volumefrom': 64802.3}, {'low': 6791.33, 'volumeto': 1490759969.77, 'open': 6977.04, 'close': 7927.73, 'high': 8051.95, 'time': 1523491200, 'volumefrom': 197276.82}, {'low': 7758.8, 'volumeto': 1171435820.59, 'open': 7927.73, 'close': 7899.11, 'high': 8237.16, 'time': 1523577600, 'volumefrom': 145665.26}, {'low': 7841.19, 'volumeto': 537286381.88, 'open': 7898.74, 'close': 8022.51, 'high': 8195.34, 'time': 1523664000, 'volumefrom': 66678.63}, {'low': 8021.04, 'volumeto': 570527804.56, 'open': 8022.51, 'close': 8376.73, 'high': 8437.03, 'time': 1523750400, 'volumefrom': 68822.07}, {'low': 7929.24, 'volumeto': 713471956.84, 'open': 8376.73, 'close': 8079.77, 'high': 8430.93, 'time': 1523836800, 'volumefrom': 87681.75}, {'low': 7858.12, 'volumeto': 580880500.84, 'open': 8079.77, 'close': 7921.63, 'high': 8187.6, 'time': 1523923200, 'volumefrom': 71933.6}, {'low': 7908.92, 'volumeto': 593500791.64, 'open': 7921.65, 'close': 8189.96, 'high': 8246.57, 'time': 1524009600, 'volumefrom': 73050.12}, {'low': 8136.42, 'volumeto': 602099034.89, 'open': 8189.92, 'close': 8301.82, 'high': 8321.01, 'time': 1524096000, 'volumefrom': 72820.98}, {'low': 8243.49, 'volumeto': 979994921.45, 'open': 8301.82, 'close': 8877.08, 'high': 8945.14, 'time': 1524182400, 'volumefrom': 114730.74}, {'low': 8631.18, 'volumeto': 829073400.66, 'open': 8877.15, 'close': 8935.72, 'high': 9047.82, 'time': 1524268800, 'volumefrom': 93635.24}, {'low': 8788.44, 'volumeto': 610183093.43, 'open': 8935.85, 'close': 8823.36, 'high': 9043.98, 'time': 1524355200, 'volumefrom': 68212.83}, {'low': 8804.2, 'volumeto': 553892335.42, 'open': 8823.46, 'close': 8968.25, 'high': 9025.73, 'time': 1524441600, 'volumefrom': 61895.95}, {'low': 8957.68, 'volumeto': 1276464750.74, 'open': 8967.86, 'close': 9655.77, 'high': 9741.91, 'time': 1524528000, 'volumefrom': 136352.05}, {'low': 8757.06, 'volumeto': 1779806222.98, 'open': 9657.69, 'close': 8873.62, 'high': 9765.23, 'time': 1524614400, 'volumefrom': 192797.41}, {'low': 8669.38, 'volumeto': 997427934.62, 'open': 8873.57, 'close': 9282.12, 'high': 9315.13, 'time': 1524700800, 'volumefrom': 111690.32}, {'low': 8923.48, 'volumeto': 758182407.35, 'open': 9289.01, 'close': 8938.47, 'high': 9385.87, 'time': 1524787200, 'volumefrom': 82025.4}, {'low': 8892.52, 'volumeto': 774111704.68, 'open': 8938.47, 'close': 9351.47, 'high': 9435.9, 'time': 1524873600, 'volumefrom': 83347.1}, {'low': 9189.07, 'volumeto': 640931911.37, 'open': 9349.94, 'close': 9407.04, 'high': 9552.67, 'time': 1524960000, 'volumefrom': 68227.03}, {'low': 9133.6, 'volumeto': 574099218.21, 'open': 9407.35, 'close': 9248.45, 'high': 9459.81, 'time': 1525046400, 'volumefrom': 61631.36}, {'low': 8851.1, 'volumeto': 669555436.99, 'open': 9248.25, 'close': 9077.28, 'high': 9251.66, 'time': 1525132800, 'volumefrom': 74147.8}, {'low': 8993.82, 'volumeto': 527488395.49, 'open': 9077.28, 'close': 9232.19, 'high': 9271.62, 'time': 1525219200, 'volumefrom': 57618.44}, {'low': 9172.28, 'volumeto': 857646889.15, 'open': 9232.19, 'close': 9745.04, 'high': 9817.19, 'time': 1525305600, 'volumefrom': 90631.98}, {'low': 9547.21, 'volumeto': 663887678.35, 'open': 9746.26, 'close': 9699.61, 'high': 9785.15, 'time': 1525392000, 'volumefrom': 68689.75}, {'low': 9687.09, 'volumeto': 679872376.4, 'open': 9700.37, 'close': 9845.9, 'high': 9968.85, 'time': 1525478400, 'volumefrom': 68875.75}, {'low': 9441.93, 'volumeto': 608650204.19, 'open': 9846.44, 'close': 9644.92, 'high': 9936.96, 'time': 1525564800, 'volumefrom': 62904.49}, {'low': 9202.13, 'volumeto': 692580062.51, 'open': 9643.99, 'close': 9377.81, 'high': 9662.23, 'time': 1525651200, 'volumefrom': 73842.44}, {'low': 9063.07, 'volumeto': 673924125.29, 'open': 9377.08, 'close': 9196.13, 'high': 9472.09, 'time': 1525737600, 'volumefrom': 72659.12}, {'low': 8987.27, 'volumeto': 625495066.08, 'open': 9196.13, 'close': 9321.16, 'high': 9373.46, 'time': 1525824000, 'volumefrom': 67939.11}, {'low': 9017.13, 'volumeto': 629850604.12, 'open': 9321.52, 'close': 9032.22, 'high': 9393.95, 'time': 1525910400, 'volumefrom': 67915.99}, {'low': 8363.5, 'volumeto': 1176888629.2, 'open': 9032.22, 'close': 8421, 'high': 9032.27, 'time': 1525996800, 'volumefrom': 134727.27}, {'low': 8225.97, 'volumeto': 783972252.35, 'open': 8420.82, 'close': 8486.67, 'high': 8653.8, 'time': 1526083200, 'volumefrom': 92805.87}, {'low': 8350.91, 'volumeto': 525395861.86, 'open': 8488.07, 'close': 8709.46, 'high': 8773.96, 'time': 1526169600, 'volumefrom': 61066.94}, {'low': 8312.72, 'volumeto': 874543293.99, 'open': 8709.46, 'close': 8672.9, 'high': 8883, 'time': 1526256000, 'volumefrom': 101370.46}, {'low': 8441.25, 'volumeto': 730739738.9, 'open': 8672.88, 'close': 8480.16, 'high': 8848.69, 'time': 1526342400, 'volumefrom': 84517.8}, {'low': 8119.17, 'volumeto': 789660713.22, 'open': 8480.16, 'close': 8344.78, 'high': 8501.65, 'time': 1526428800, 'volumefrom': 95203.5}, {'low': 8015.77, 'volumeto': 615539512.71, 'open': 8342.69, 'close': 8071.04, 'high': 8476.45, 'time': 1526515200, 'volumefrom': 74445.77}, {'low': 7940.35, 'volumeto': 558167598.76, 'open': 8071.04, 'close': 8247.91, 'high': 8280.45, 'time': 1526601600, 'volumefrom': 68665.67}, {'low': 8160.8, 'volumeto': 381458405.45, 'open': 8247.91, 'close': 8249.24, 'high': 8397.27, 'time': 1526688000, 'volumefrom': 45978.21}, {'low': 8181.46, 'volumeto': 418898289.02, 'open': 8249.24, 'close': 8533, 'high': 8591.45, 'time': 1526774400, 'volumefrom': 49694.23}, {'low': 8347.88, 'volumeto': 463653636.91, 'open': 8533.22, 'close': 8419.65, 'high': 8585.85, 'time': 1526860800, 'volumefrom': 54602.79}, {'low': 7962.43, 'volumeto': 543342369.36, 'open': 8419.67, 'close': 7992.75, 'high': 8428.6, 'time': 1526947200, 'volumefrom': 66032.52}, {'low': 7460.66, 'volumeto': 934151146.29, 'open': 7992.75, 'close': 7505.77, 'high': 8031.63, 'time': 1527033600, 'volumefrom': 120597.47}, {'low': 7283.77, 'volumeto': 826278113.25, 'open': 7505.77, 'close': 7584.74, 'high': 7729.48, 'time': 1527120000, 'volumefrom': 109709.83}, {'low': 7347.96, 'volumeto': 634474356.99, 'open': 7584.78, 'close': 7475.36, 'high': 7652.37, 'time': 1527206400, 'volumefrom': 84630.56}, {'low': 7314.71, 'volumeto': 368322782.27, 'open': 7475.36, 'close': 7355.06, 'high': 7626.69, 'time': 1527292800, 'volumefrom': 48994.09}, {'low': 7256.67, 'volumeto': 341348321.23, 'open': 7355.06, 'close': 7362.23, 'high': 7420.07, 'time': 1527379200, 'volumefrom': 46446.45}, {'low': 7092.91, 'volumeto': 526854342.95, 'open': 7362.23, 'close': 7118.88, 'high': 7455.55, 'time': 1527465600, 'volumefrom': 72505.5}, {'low': 7069.01, 'volumeto': 634849312.09, 'open': 7118.88, 'close': 7474.75, 'high': 7533.03, 'time': 1527552000, 'volumefrom': 86536.7}, {'low': 7295.78, 'volumeto': 505870974.98, 'open': 7474.75, 'close': 7393.02, 'high': 7571.08, 'time': 1527638400, 'volumefrom': 67797.62}, {'low': 7349.52, 'volumeto': 458223966.12, 'open': 7393.02, 'close': 7502.15, 'high': 7608.87, 'time': 1527724800, 'volumefrom': 60780.47}, {'low': 7370.27, 'volumeto': 458687659.47, 'open': 7501.74, 'close': 7530.55, 'high': 7614.66, 'time': 1527811200, 'volumefrom': 61082.25}, {'low': 7467.79, 'volumeto': 362414878.61, 'open': 7530.55, 'close': 7643.26, 'high': 7697.34, 'time': 1527897600, 'volumefrom': 47435.99}, {'low': 7606.76, 'volumeto': 332313005.46, 'open': 7643.26, 'close': 7719.75, 'high': 7774.96, 'time': 1527984000, 'volumefrom': 42988.84}, {'low': 7469.21, 'volumeto': 427448262.3, 'open': 7719.73, 'close': 7503.2, 'high': 7760.73, 'time': 1528070400, 'volumefrom': 56223.86}, {'low': 7394.97, 'volumeto': 440337235.4, 'open': 7503.32, 'close': 7629.4, 'high': 7672.7, 'time': 1528156800, 'volumefrom': 58424.84}, {'low': 7504.98, 'volumeto': 396116252.65, 'open': 7629.4, 'close': 7661.79, 'high': 7701.35, 'time': 1528243200, 'volumefrom': 51911.42}, {'low': 7651.13, 'volumeto': 342475552.09, 'open': 7661.79, 'close': 7700.11, 'high': 7755.92, 'time': 1528329600, 'volumefrom': 44318.41}, {'low': 7559.5, 'volumeto': 310119047.41, 'open': 7700.4, 'close': 7627.52, 'high': 7709.61, 'time': 1528416000, 'volumefrom': 40500.95}, {'low': 7495.72, 'volumeto': 218013881.09, 'open': 7627.56, 'close': 7513.69, 'high': 7691.74, 'time': 1528502400, 'volumefrom': 28511.04}, {'low': 6661.98, 'volumeto': 895514425.38, 'open': 7513.76, 'close': 6773.72, 'high': 7514.04, 'time': 1528588800, 'volumefrom': 127797.43}, {'low': 6652.89, 'volumeto': 482788065.15, 'open': 6773.72, 'close': 6887.37, 'high': 6913.85, 'time': 1528675200, 'volumefrom': 71169.64}, {'low': 6462.61, 'volumeto': 509372466.34, 'open': 6887.43, 'close': 6556.94, 'high': 6888.33, 'time': 1528761600, 'volumefrom': 75997.29}, {'low': 6140.63, 'volumeto': 797087281.14, 'open': 6556.94, 'close': 6310.43, 'high': 6623, 'time': 1528848000, 'volumefrom': 124304.17}, {'low': 6286.23, 'volumeto': 620296377.11, 'open': 6310.43, 'close': 6643.26, 'high': 6719.44, 'time': 1528934400, 'volumefrom': 95038.67}, {'low': 6380.69, 'volumeto': 379228601.07, 'open': 6643.63, 'close': 6396.71, 'high': 6667.23, 'time': 1529020800, 'volumefrom': 57731.42}, {'low': 6345.99, 'volumeto': 232802782.59, 'open': 6396.71, 'close': 6503.1, 'high': 6569.15, 'time': 1529107200, 'volumefrom': 35851.38}, {'low': 6446.38, 'volumeto': 224575526.46, 'open': 6503.1, 'close': 6457.78, 'high': 6585.77, 'time': 1529193600, 'volumefrom': 34359.95}, {'low': 6401.41, 'volumeto': 430241689.13, 'open': 6457.78, 'close': 6714.82, 'high': 6802.03, 'time': 1529280000, 'volumefrom': 65285.57}, {'low': 6672.2, 'volumeto': 370797057.99, 'open': 6714.56, 'close': 6741.28, 'high': 6839.6, 'time': 1529366400, 'volumefrom': 54949.84}, {'low': 6569.96, 'volumeto': 400530201.24, 'open': 6741.28, 'close': 6761.27, 'high': 6817.9, 'time': 1529452800, 'volumefrom': 59674.47}, {'low': 6687.66, 'volumeto': 295690715.67, 'open': 6761.27, 'close': 6720.64, 'high': 6790.08, 'time': 1529539200, 'volumefrom': 43765.89}, {'low': 5941.32, 'volumeto': 862826624.25, 'open': 6720.64, 'close': 6051.47, 'high': 6731.51, 'time': 1529625600, 'volumefrom': 137346.53}, {'low': 6033.2, 'volumeto': 350697378.49, 'open': 6051.47, 'close': 6166.54, 'high': 6257.88, 'time': 1529712000, 'volumefrom': 57011.61}, {'low': 5782.13, 'volumeto': 667479078.32, 'open': 6166.36, 'close': 6157.78, 'high': 6254.02, 'time': 1529798400, 'volumefrom': 110833.06}, {'low': 6095.25, 'volumeto': 492834172.99, 'open': 6157.78, 'close': 6260.35, 'high': 6344.45, 'time': 1529884800, 'volumefrom': 79086.4}, {'low': 6067.49, 'volumeto': 391396653.43, 'open': 6260.4, 'close': 6088.39, 'high': 6286.36, 'time': 1529971200, 'volumefrom': 62925.3}, {'low': 6021.69, 'volumeto': 383457137.86, 'open': 6092.26, 'close': 6141.57, 'high': 6192.11, 'time': 1530057600, 'volumefrom': 62639.82}, {'low': 5844.26, 'volumeto': 385907044.98, 'open': 6141.57, 'close': 5871.28, 'high': 6172.23, 'time': 1530144000, 'volumefrom': 63585.51}, {'low': 5813.02, 'volumeto': 554799001.51, 'open': 5870.81, 'close': 6203.8, 'high': 6286.67, 'time': 1530230400, 'volumefrom': 92884.98}, {'low': 6194.51, 'volumeto': 419284677.69, 'open': 6203.81, 'close': 6385.38, 'high': 6503.33, 'time': 1530316800, 'volumefrom': 65571.19}, {'low': 6262.72, 'volumeto': 259708490.63, 'open': 6385.43, 'close': 6339.04, 'high': 6429.5, 'time': 1530403200, 'volumefrom': 40809.54}, {'low': 5537.86, 'volumeto': 465915661.24, 'open': 6342.69, 'close': 6615.66, 'high': 6673.71, 'time': 1530489600, 'volumefrom': 73069.19}, {'low': 6473.48, 'volumeto': 356390898.98, 'open': 6616.6, 'close': 6509.58, 'high': 6670.3, 'time': 1530576000, 'volumefrom': 54662.02}, {'low': 6411.13, 'volumeto': 412202352.61, 'open': 6508.43, 'close': 6590.06, 'high': 6777.97, 'time': 1530662400, 'volumefrom': 62355.75}, {'low': 6448.23, 'volumeto': 421189063.01, 'open': 6589.77, 'close': 6534.81, 'high': 6691.32, 'time': 1530748800, 'volumefrom': 63771.67}, {'low': 6458.14, 'volumeto': 310759733.14, 'open': 6534.81, 'close': 6602.02, 'high': 6633.44, 'time': 1530835200, 'volumefrom': 47259.68}, {'low': 6518.23, 'volumeto': 277167900.06, 'open': 6602.03, 'close': 6758.08, 'high': 6814.42, 'time': 1530921600, 'volumefrom': 41785.1}, {'low': 6684.15, 'volumeto': 268455446.1, 'open': 6758.08, 'close': 6707.38, 'high': 6782.85, 'time': 1531008000, 'volumefrom': 39671.12}, {'low': 6625.58, 'volumeto': 328316145.78, 'open': 6707.46, 'close': 6668.84, 'high': 6803.1, 'time': 1531094400, 'volumefrom': 48761.43}, {'low': 6277.23, 'volumeto': 470432142.71, 'open': 6668.84, 'close': 6306.85, 'high': 6683.61, 'time': 1531180800, 'volumefrom': 72513.31}, {'low': 6293.68, 'volumeto': 327667754.35, 'open': 6306.87, 'close': 6394.36, 'high': 6405.59, 'time': 1531267200, 'volumefrom': 51054.67}, {'low': 6084, 'volumeto': 409078182.65, 'open': 6394.36, 'close': 6253.6, 'high': 6394.93, 'time': 1531353600, 'volumefrom': 65555.38}, {'low': 6131.54, 'volumeto': 319802271.97, 'open': 6253.66, 'close': 6229.83, 'high': 6349.21, 'time': 1531440000, 'volumefrom': 50964.41}, {'low': 6190.18, 'volumeto': 174416786.37, 'open': 6229.61, 'close': 6268.75, 'high': 6332.46, 'time': 1531526400, 'volumefrom': 27713.18}, {'low': 6245.75, 'volumeto': 218543291.78, 'open': 6268.32, 'close': 6364.26, 'high': 6401.5, 'time': 1531612800, 'volumefrom': 34225.9}, {'low': 6349.83, 'volumeto': 494264915.91, 'open': 6364.26, 'close': 6740.55, 'high': 6761.84, 'time': 1531699200, 'volumefrom': 74798.53}, {'low': 6677.56, 'volumeto': 799401451.35, 'open': 6740.54, 'close': 7326.7, 'high': 7476.24, 'time': 1531785600, 'volumefrom': 112707.21}, {'low': 7253.71, 'volumeto': 788460811.94, 'open': 7326.76, 'close': 7383.39, 'high': 7590.65, 'time': 1531872000, 'volumefrom': 105818.71}, {'low': 7289.9, 'volumeto': 522544440.45, 'open': 7383.39, 'close': 7477.5, 'high': 7563.7, 'time': 1531958400, 'volumefrom': 70179.39}, {'low': 7279.34, 'volumeto': 603034414.79, 'open': 7477.1, 'close': 7333.93, 'high': 7676.55, 'time': 1532044800, 'volumefrom': 80874.93}, {'low': 7220.37, 'volumeto': 297440355.21, 'open': 7333.93, 'close': 7405.4, 'high': 7453.07, 'time': 1532131200, 'volumefrom': 40295.77}, {'low': 7345.25, 'volumeto': 355565264.85, 'open': 7405.4, 'close': 7398.64, 'high': 7569.28, 'time': 1532217600, 'volumefrom': 47479.76}, {'low': 7376.66, 'volumeto': 745533303.01, 'open': 7398.64, 'close': 7718, 'high': 7798.59, 'time': 1532304000, 'volumefrom': 96722.04}, {'low': 7692.16, 'volumeto': 1166560702.13, 'open': 7718, 'close': 8395.82, 'high': 8485.71, 'time': 1532390400, 'volumefrom': 143800.43}, {'low': 8061.07, 'volumeto': 736530740.43, 'open': 8395.81, 'close': 8170.23, 'high': 8481.11, 'time': 1532476800, 'volumefrom': 89988.19}, {'low': 7862.67, 'volumeto': 643953970.45, 'open': 8170.37, 'close': 7937.25, 'high': 8302.24, 'time': 1532563200, 'volumefrom': 78993.93}, {'low': 7806.25, 'volumeto': 646256012.09, 'open': 7937.1, 'close': 8182.89, 'high': 8278.01, 'time': 1532649600, 'volumefrom': 80336.48}, {'low': 8070.04, 'volumeto': 295872316.42, 'open': 8182.88, 'close': 8230.87, 'high': 8238.04, 'time': 1532736000, 'volumefrom': 36136.12}, {'low': 8123.53, 'volumeto': 280233415.98, 'open': 8230.82, 'close': 8216.78, 'high': 8291.55, 'time': 1532822400, 'volumefrom': 34073.43}, {'low': 7867.44, 'volumeto': 681120739.99, 'open': 8216.7, 'close': 8176.06, 'high': 8273.61, 'time': 1532908800, 'volumefrom': 83918.76}, {'low': 7663.7, 'volumeto': 765186307.24, 'open': 8176.08, 'close': 7735.3, 'high': 8176.27, 'time': 1532995200, 'volumefrom': 97152.13}, {'low': 7449.31, 'volumeto': 595404848.88, 'open': 7736.25, 'close': 7610.9, 'high': 7760.74, 'time': 1533081600, 'volumefrom': 78466.58}, {'low': 7470.86, 'volumeto': 424093581.76, 'open': 7610.9, 'close': 7542.34, 'high': 7713.32, 'time': 1533168000, 'volumefrom': 55711.79}, {'low': 7296.76, 'volumeto': 586982505.83, 'open': 7542.34, 'close': 7417.6, 'high': 7542.49, 'time': 1533254400, 'volumefrom': 79126.57}, {'low': 6940.15, 'volumeto': 534002935.97, 'open': 7417.6, 'close': 7017.89, 'high': 7490.89, 'time': 1533340800, 'volumefrom': 74300.44}, {'low': 6898.31, 'volumeto': 368914046.39, 'open': 7017.89, 'close': 7042.39, 'high': 7092.53, 'time': 1533427200, 'volumefrom': 52556.01}, {'low': 6854.79, 'volumeto': 410408444.75, 'open': 7042.57, 'close': 6945.78, 'high': 7160.4, 'time': 1533513600, 'volumefrom': 58545.04}, {'low': 6685.02, 'volumeto': 575690006.27, 'open': 6945.77, 'close': 6723.21, 'high': 7150.86, 'time': 1533600000, 'volumefrom': 82683.83}, {'low': 6133.03, 'volumeto': 838853615.89, 'open': 6723.29, 'close': 6285.02, 'high': 6723.99, 'time': 1533686400, 'volumefrom': 130417.52}, {'low': 6195.02, 'volumeto': 575748446.38, 'open': 6285.06, 'close': 6543.24, 'high': 6631.23, 'time': 1533772800, 'volumefrom': 89588.13}, {'low': 6025.91, 'volumeto': 639457019.98, 'open': 6543.25, 'close': 6153.41, 'high': 6582.14, 'time': 1533859200, 'volumefrom': 100856.92}, {'low': 6014.26, 'volumeto': 545722619.11, 'open': 6152.95, 'close': 6242.54, 'high': 6488.55, 'time': 1533945600, 'volumefrom': 87651.14}, {'low': 6176.89, 'volumeto': 366460108.69, 'open': 6242.53, 'close': 6322.92, 'high': 6483.39, 'time': 1534032000, 'volumefrom': 57916.23}, {'low': 6157.03, 'volumeto': 452431672.68, 'open': 6322.41, 'close': 6263.2, 'high': 6545.02, 'time': 1534118400, 'volumefrom': 71073.56}, {'low': 5891.87, 'volumeto': 759847789.73, 'open': 6263.2, 'close': 6199.6, 'high': 6266.5, 'time': 1534204800, 'volumefrom': 125196.64}, {'low': 6193.63, 'volumeto': 852103141.83, 'open': 6199.63, 'close': 6274.22, 'high': 6620.07, 'time': 1534291200, 'volumefrom': 132926.33}, {'low': 6217.33, 'volumeto': 454679037.36, 'open': 6274.22, 'close': 6323.81, 'high': 6478.07, 'time': 1534377600, 'volumefrom': 71357.92}, {'low': 6300.45, 'volumeto': 477089455.56, 'open': 6323.81, 'close': 6591.16, 'high': 6594.72, 'time': 1534464000, 'volumefrom': 73383.05}, {'low': 6322.44, 'volumeto': 336744293.81, 'open': 6591.18, 'close': 6405.71, 'high': 6622.16, 'time': 1534550400, 'volumefrom': 52093.8}, {'low': 6330.56, 'volumeto': 253984821.8, 'open': 6405.74, 'close': 6502.18, 'high': 6560.88, 'time': 1534636800, 'volumefrom': 39452.94}, {'low': 6248.39, 'volumeto': 397981291.82, 'open': 6502.24, 'close': 6269.9, 'high': 6537.54, 'time': 1534723200, 'volumefrom': 61983.28}, {'low': 6259.81, 'volumeto': 396746063.37, 'open': 6270.09, 'close': 6491.11, 'high': 6506.69, 'time': 1534809600, 'volumefrom': 61753.86}, {'low': 6264.34, 'volumeto': 764005011.18, 'open': 6491.09, 'close': 6366.13, 'high': 6890.79, 'time': 1534896000, 'volumefrom': 116096.61}, {'low': 6356.96, 'volumeto': 340811486.77, 'open': 6366.14, 'close': 6538.95, 'high': 6575.28, 'time': 1534982400, 'volumefrom': 52740.3}, {'low': 6481.76, 'volumeto': 382456858.97, 'open': 6539.13, 'close': 6708.96, 'high': 6736.83, 'time': 1535068800, 'volumefrom': 58037.12}, {'low': 6684.19, 'volumeto': 258296664.16, 'open': 6708.94, 'close': 6749.56, 'high': 6808.89, 'time': 1535155200, 'volumefrom': 38189.09}, {'low': 6588.48, 'volumeto': 265820591.17, 'open': 6749.71, 'close': 6720.6, 'high': 6793.17, 'time': 1535241600, 'volumefrom': 39682.91}, {'low': 6674.84, 'volumeto': 405769271.5, 'open': 6720.6, 'close': 6915.73, 'high': 6944.21, 'time': 1535328000, 'volumefrom': 59984.28}, {'low': 6877.2, 'volumeto': 487789642, 'open': 6915.92, 'close': 7091.38, 'high': 7136.71, 'time': 1535414400, 'volumefrom': 69448.01}, {'low': 6944.76, 'volumeto': 356139022.3, 'open': 7091.38, 'close': 7052, 'high': 7137.47, 'time': 1535500800, 'volumefrom': 50361.95}, {'low': 6818.69, 'volumeto': 425475685.56, 'open': 7051.61, 'close': 6998.76, 'high': 7072.64, 'time': 1535587200, 'volumefrom': 61266.88}, {'low': 6903.08, 'volumeto': 349131152.81, 'open': 6998.76, 'close': 7026.96, 'high': 7096.73, 'time': 1535673600, 'volumefrom': 49774.38}, {'low': 7025.58, 'volumeto': 300301833.39, 'open': 7026.96, 'close': 7203.46, 'high': 7272.03, 'time': 1535760000, 'volumefrom': 41873.76}, {'low': 7144.71, 'volumeto': 447453370.83, 'open': 7203.46, 'close': 7301.26, 'high': 7384.38, 'time': 1535846400, 'volumefrom': 61424.38}, {'low': 7204.89, 'volumeto': 309327793.27, 'open': 7301.25, 'close': 7270.05, 'high': 7350.58, 'time': 1535932800, 'volumefrom': 42451.23}, {'low': 7246.76, 'volumeto': 343762001.58, 'open': 7270.05, 'close': 7369.86, 'high': 7417.65, 'time': 1536019200, 'volumefrom': 46681.9}, {'low': 6694.06, 'volumeto': 797851163.66, 'open': 7369.89, 'close': 6705.03, 'high': 7401.43, 'time': 1536105600, 'volumefrom': 113370.51}, {'low': 6295.11, 'volumeto': 823309044.3, 'open': 6705.06, 'close': 6515.42, 'high': 6727.19, 'time': 1536192000, 'volumefrom': 127586.04}, {'low': 6345.48, 'volumeto': 344487244.01, 'open': 6515.42, 'close': 6411.78, 'high': 6549.39, 'time': 1536278400, 'volumefrom': 53170.79}, {'low': 6134.76, 'volumeto': 317380272.09, 'open': 6413.12, 'close': 6200.16, 'high': 6480.57, 'time': 1536364800, 'volumefrom': 49719.12}, {'low': 6161.83, 'volumeto': 244400344.41, 'open': 6200.23, 'close': 6249.07, 'high': 6451.25, 'time': 1536451200, 'volumefrom': 38701}, {'low': 6247.64, 'volumeto': 320435279.61, 'open': 6249.07, 'close': 6324.43, 'high': 6371.42, 'time': 1536537600, 'volumefrom': 50695.88}, {'low': 6199.19, 'volumeto': 324512939.85, 'open': 6324.43, 'close': 6295.54, 'high': 6415.51, 'time': 1536624000, 'volumefrom': 51401.22}, {'low': 6208.28, 'volumeto': 332537236.17, 'open': 6295.54, 'close': 6337.11, 'high': 6357.89, 'time': 1536710400, 'volumefrom': 52814.83}, {'low': 6337.08, 'volumeto': 425090869.76, 'open': 6337.08, 'close': 6492, 'high': 6534.89, 'time': 1536796800, 'volumefrom': 65684.53}, {'low': 6393.84, 'volumeto': 377989402.01, 'open': 6492.17, 'close': 6486.01, 'high': 6591.59, 'time': 1536883200, 'volumefrom': 58029.07}, {'low': 6473.47, 'volumeto': 208349557, 'open': 6485.39, 'close': 6522.08, 'high': 6573.19, 'time': 1536969600, 'volumefrom': 31894.67}, {'low': 6404.31, 'volumeto': 200545603.1, 'open': 6522.68, 'close': 6502.44, 'high': 6525.05, 'time': 1537056000, 'volumefrom': 30897.54}, {'low': 6216.83, 'volumeto': 399675966.34, 'open': 6502.44, 'close': 6261.48, 'high': 6538.82, 'time': 1537142400, 'volumefrom': 62738.57}, {'low': 6238.25, 'volumeto': 348485895.37, 'open': 6261.33, 'close': 6346.44, 'high': 6393.39, 'time': 1537228800, 'volumefrom': 55076.95}, {'low': 6131.02, 'volumeto': 452379323.08, 'open': 6346.44, 'close': 6398.8, 'high': 6522.9, 'time': 1537315200, 'volumefrom': 71293.01}, {'low': 6361.33, 'volumeto': 301619960.91, 'open': 6398.83, 'close': 6505.9, 'high': 6551.93, 'time': 1537401600, 'volumefrom': 46802.06}, {'low': 6501.01, 'volumeto': 569642976.25, 'open': 6505.97, 'close': 6762.06, 'high': 6785.22, 'time': 1537488000, 'volumefrom': 85295.46}, {'low': 6633.01, 'volumeto': 261159308.22, 'open': 6762.07, 'close': 6716.6, 'high': 6834.49, 'time': 1537574400, 'volumefrom': 38829.87}, {'low': 6663.9, 'volumeto': 169080003.37, 'open': 6716.6, 'close': 6702.7, 'high': 6768.56, 'time': 1537660800, 'volumefrom': 25143.83}, {'low': 6557.82, 'volumeto': 324660682.66, 'open': 6702.73, 'close': 6583.53, 'high': 6717.6, 'time': 1537747200, 'volumefrom': 48934.13}, {'low': 6333.21, 'volumeto': 420279170.44, 'open': 6583.53, 'close': 6437.74, 'high': 6583.54, 'time': 1537833600, 'volumefrom': 65381.85}, {'low': 6383.16, 'volumeto': 264402806.65, 'open': 6437.74, 'close': 6462.6, 'high': 6543.92, 'time': 1537920000, 'volumefrom': 40752.6}, {'low': 6434.76, 'volumeto': 345096700.08, 'open': 6462.6, 'close': 6686.13, 'high': 6733.94, 'time': 1538006400, 'volumefrom': 52542}, {'low': 6545.41, 'volumeto': 497340510.07, 'open': 6686.13, 'close': 6635.38, 'high': 6806.1, 'time': 1538092800, 'volumefrom': 74353.41}, {'low': 6474.23, 'volumeto': 245055396.51, 'open': 6635.4, 'close': 6603.75, 'high': 6635.42, 'time': 1538179200, 'volumefrom': 37296.34}, {'low': 6543.68, 'volumeto': 174302164.09, 'open': 6603.75, 'close': 6623.71, 'high': 6741.96, 'time': 1538265600, 'volumefrom': 26335.14}, {'low': 6510.54, 'volumeto': 256959931.63, 'open': 6623.82, 'close': 6594.98, 'high': 6662.6, 'time': 1538352000, 'volumefrom': 38926.98}, {'low': 6478.04, 'volumeto': 267166277.79, 'open': 6594.98, 'close': 6525.47, 'high': 6618.95, 'time': 1538438400, 'volumefrom': 40624.2}, {'low': 6428.98, 'volumeto': 306385346.59, 'open': 6525.46, 'close': 6492.26, 'high': 6537.07, 'time': 1538524800, 'volumefrom': 47186}, {'low': 6486.86, 'volumeto': 277614018.45, 'open': 6492.61, 'close': 6579.79, 'high': 6622.32, 'time': 1538611200, 'volumefrom': 42142.96}, {'low': 6546.98, 'volumeto': 262562344.98, 'open': 6580, 'close': 6632.87, 'high': 6683.55, 'time': 1538697600, 'volumefrom': 39731.28}, {'low': 6563.25, 'volumeto': 162722103.98, 'open': 6632.88, 'close': 6589.94, 'high': 6637.08, 'time': 1538784000, 'volumefrom': 24787.61}, {'low': 6535.02, 'volumeto': 179378859.39, 'open': 6589.94, 'close': 6601.15, 'high': 6622.49, 'time': 1538870400, 'volumefrom': 27272.67}, {'low': 6565.01, 'volumeto': 313507433.75, 'open': 6601.46, 'close': 6650.07, 'high': 6698.31, 'time': 1538956800, 'volumefrom': 47216.82}, {'low': 6589.39, 'volumeto': 213976678.23, 'open': 6650.07, 'close': 6631.79, 'high': 6657, 'time': 1539043200, 'volumefrom': 32204.25}, {'low': 6487.86, 'volumeto': 323664963.18, 'open': 6631.79, 'close': 6581.07, 'high': 6633.22, 'time': 1539129600, 'volumefrom': 49264.39}, {'low': 6171.95, 'volumeto': 654924117.8, 'open': 6581.07, 'close': 6209.47, 'high': 6581.59, 'time': 1539216000, 'volumefrom': 104258.49}, {'low': 6173.86, 'volumeto': 289840137.45, 'open': 6209.47, 'close': 6250.85, 'high': 6296.56, 'time': 1539302400, 'volumefrom': 46195.91}, {'low': 6238.92, 'volumeto': 137705035.59, 'open': 6252.1, 'close': 6267.27, 'high': 6280.73, 'time': 1539388800, 'volumefrom': 21914.85}, {'low': 6247.17, 'volumeto': 215422888.18, 'open': 6267.27, 'close': 6277.73, 'high': 6346.56, 'time': 1539475200, 'volumefrom': 34130.1}, {'low': 6244.77, 'volumeto': 1190524168.21, 'open': 6277.73, 'close': 6612.36, 'high': 7234.83, 'time': 1539561600, 'volumefrom': 177320.05}, {'low': 6545.54, 'volumeto': 324232509.78, 'open': 6612.69, 'close': 6583.05, 'high': 6724.91, 'time': 1539648000, 'volumefrom': 49191.34}, {'low': 6511.6, 'volumeto': 220418636.64, 'open': 6583.05, 'close': 6574.52, 'high': 6589.2, 'time': 1539734400, 'volumefrom': 33538.55}, {'low': 6445.05, 'volumeto': 331761115.45, 'open': 6576.4, 'close': 6488.72, 'high': 6616.27, 'time': 1539820800, 'volumefrom': 50725.31}, {'low': 6449.36, 'volumeto': 237855085.41, 'open': 6489.37, 'close': 6469.28, 'high': 6503.09, 'time': 1539907200, 'volumefrom': 36599.64}, {'low': 6395.45, 'volumeto': 127185847.78, 'open': 6469.28, 'close': 6490.56, 'high': 6645.2, 'time': 1539993600, 'volumefrom': 19543.75}, {'low': 6474.47, 'volumeto': 105283929.06, 'open': 6490.6, 'close': 6509.87, 'high': 6557.39, 'time': 1540080000, 'volumefrom': 16019.49}, {'low': 6460.38, 'volumeto': 202766914.4, 'open': 6509.87, 'close': 6483.23, 'high': 6531.23, 'time': 1540166400, 'volumefrom': 31239.03}, {'low': 6438.99, 'volumeto': 220913293.6, 'open': 6484.32, 'close': 6470.22, 'high': 6496.2, 'time': 1540252800, 'volumefrom': 34071.62}, {'low': 6465.73, 'volumeto': 222068131.83, 'open': 6470.63, 'close': 6476.25, 'high': 6538.35, 'time': 1540339200, 'volumefrom': 34111.66}, {'low': 6432.3, 'volumeto': 231214963.95, 'open': 6476.52, 'close': 6462.77, 'high': 6497.9, 'time': 1540425600, 'volumefrom': 35706.92}, {'low': 6441.81, 'volumeto': 215447656.36, 'open': 6462.77, 'close': 6457.21, 'high': 6514, 'time': 1540512000, 'volumefrom': 33284.54}, {'low': 6445.95, 'volumeto': 124066466.34, 'open': 6457.21, 'close': 6470.17, 'high': 6479, 'time': 1540598400, 'volumefrom': 19092.86}, {'low': 6444.74, 'volumeto': 109118160.99, 'open': 6470.17, 'close': 6470.74, 'high': 6483.24, 'time': 1540684800, 'volumefrom': 16806.73}, {'low': 6282.58, 'volumeto': 342463526.52, 'open': 6470.74, 'close': 6313.91, 'high': 6483.39, 'time': 1540771200, 'volumefrom': 53760.53}, {'low': 6286.3, 'volumeto': 269592154.08, 'open': 6314.38, 'close': 6309.11, 'high': 6340.68, 'time': 1540857600, 'volumefrom': 42701.22}, {'low': 6241.49, 'volumeto': 245357244.49, 'open': 6309.11, 'close': 6342.61, 'high': 6391.25, 'time': 1540944000, 'volumefrom': 38823.41}, {'low': 6322.6, 'volumeto': 199861220.45, 'open': 6342.81, 'close': 6381.3, 'high': 6402.59, 'time': 1541030400, 'volumefrom': 31397.71}, {'low': 6371.57, 'volumeto': 179385606.7, 'open': 6381.3, 'close': 6394.66, 'high': 6420.93, 'time': 1541116800, 'volumefrom': 27987.6}, {'low': 6336.96, 'volumeto': 183565304.27, 'open': 6394.65, 'close': 6376.32, 'high': 6398.09, 'time': 1541203200, 'volumefrom': 28808.38}, {'low': 6351.92, 'volumeto': 175805188.92, 'open': 6376.55, 'close': 6467.05, 'high': 6498.16, 'time': 1541289600, 'volumefrom': 27317.02}, {'low': 6406.69, 'volumeto': 155758902.3, 'open': 6467.05, 'close': 6433.74, 'high': 6475.8, 'time': 1541376000, 'volumefrom': 24142}, {'low': 6412.56, 'volumeto': 239808254.25, 'open': 6433.53, 'close': 6479.72, 'high': 6482.81, 'time': 1541462400, 'volumefrom': 37162.36}, {'low': 6476.59, 'volumeto': 360052788.55, 'open': 6479.72, 'close': 6529.68, 'high': 6562.79, 'time': 1541548800, 'volumefrom': 55100.44}, {'low': 6438.27, 'volumeto': 273205386.68, 'open': 6530.94, 'close': 6446.06, 'high': 6542.42, 'time': 1541635200, 'volumefrom': 42073.45}, {'low': 6352.45, 'volumeto': 237893036.71, 'open': 6446.06, 'close': 6377.99, 'high': 6457.97, 'time': 1541721600, 'volumefrom': 37086.04}, {'low': 6376.17, 'volumeto': 94313328.59, 'open': 6377.99, 'close': 6396.37, 'high': 6419.92, 'time': 1541808000, 'volumefrom': 14658.42}, {'low': 6326.38, 'volumeto': 130156001.58, 'open': 6396.39, 'close': 6408.18, 'high': 6414.18, 'time': 1541894400, 'volumefrom': 20337.03}, {'low': 6350.87, 'volumeto': 181575610.86, 'open': 6408.18, 'close': 6375.08, 'high': 6435.41, 'time': 1541980800, 'volumefrom': 28338.62}, {'low': 6315.58, 'volumeto': 227689745.72, 'open': 6375.08, 'close': 6339.17, 'high': 6389.43, 'time': 1542067200, 'volumefrom': 35761.27}, {'low': 5469.93, 'volumeto': 1045469380.16, 'open': 6339.17, 'close': 5741.47, 'high': 6375.7, 'time': 1542153600, 'volumefrom': 178422.8}, {'low': 5300.75, 'volumeto': 820864013.96, 'open': 5740.51, 'close': 5647.5, 'high': 5767.06, 'time': 1542240000, 'volumefrom': 147895.07}, {'low': 5487.87, 'volumeto': 397196182.83, 'open': 5647.5, 'close': 5586.27, 'high': 5676.54, 'time': 1542326400, 'volumefrom': 71050.83}, {'low': 5524.7, 'volumeto': 164182152.19, 'open': 5586.97, 'close': 5568.94, 'high': 5602.01, 'time': 1542412800, 'volumefrom': 29517.8}, {'low': 5567.95, 'volumeto': 233409182.46, 'open': 5567.95, 'close': 5615.26, 'high': 5701.35, 'time': 1542499200, 'volumefrom': 41702.04}, {'low': 4757.01, 'volumeto': 1072037780.45, 'open': 5615.26, 'close': 4809.62, 'high': 5615.98, 'time': 1542585600, 'volumefrom': 207964.38}, {'low': 4168.25, 'volumeto': 1433400842.16, 'open': 4809.62, 'close': 4441.81, 'high': 4953.56, 'time': 1542672000, 'volumefrom': 315023.21}, {'low': 4315.58, 'volumeto': 686284917.84, 'open': 4441.81, 'close': 4593.04, 'high': 4689.55, 'time': 1542758400, 'volumefrom': 152286.19}, {'low': 4297.21, 'volumeto': 376852837.57, 'open': 4593.04, 'close': 4320.68, 'high': 4640.72, 'time': 1542844800, 'volumefrom': 83715.43}, {'low': 4157.19, 'volumeto': 521825987.75, 'open': 4320.68, 'close': 4343.42, 'high': 4419.48, 'time': 1542931200, 'volumefrom': 121719.16}, {'low': 3741.2, 'volumeto': 503028289.39, 'open': 4343.42, 'close': 3854.11, 'high': 4432, 'time': 1543017600, 'volumefrom': 123090.79}, {'low': 3550.04, 'volumeto': 819869496.19, 'open': 3854.11, 'close': 4004.15, 'high': 4165.93, 'time': 1543104000, 'volumefrom': 213926.98}, {'low': 3598.81, 'volumeto': 715341714.72, 'open': 4004.46, 'close': 3784.59, 'high': 4124.7, 'time': 1543190400, 'volumefrom': 185985.76}, {'low': 3613.11, 'volumeto': 555212127.53, 'open': 3784.77, 'close': 3822.99, 'high': 3878.9, 'time': 1543276800, 'volumefrom': 147999.31}, {'low': 3822.94, 'volumeto': 726808596.57, 'open': 3822.99, 'close': 4263.55, 'high': 4398.57, 'time': 1543363200, 'volumefrom': 175435.76}, {'low': 4130.68, 'volumeto': 479575430.64, 'open': 4263.52, 'close': 4286.69, 'high': 4444.39, 'time': 1543449600, 'volumefrom': 112103.36}, {'low': 3916.3, 'volumeto': 497762735.43, 'open': 4286.85, 'close': 4009.67, 'high': 4331.07, 'time': 1543536000, 'volumefrom': 121993.57}, {'low': 3942.62, 'volumeto': 280927570.31, 'open': 4009.67, 'close': 4197.46, 'high': 4309.65, 'time': 1543622400, 'volumefrom': 67774.58}, {'low': 4077.67, 'volumeto': 262154694.41, 'open': 4197.7, 'close': 4143.86, 'high': 4318.79, 'time': 1543708800, 'volumefrom': 62748.83}, {'low': 3795.18, 'volumeto': 423985399.83, 'open': 4143.86, 'close': 3871.41, 'high': 4159.01, 'time': 1543795200, 'volumefrom': 107400.61}, {'low': 3770.92, 'volumeto': 373361232.89, 'open': 3871.41, 'close': 3948.44, 'high': 4082.68, 'time': 1543881600, 'volumefrom': 94655.27}, {'low': 3719.19, 'volumeto': 320944415.67, 'open': 3948.44, 'close': 3737.53, 'high': 3961.8, 'time': 1543968000, 'volumefrom': 83811.55}, {'low': 3467.92, 'volumeto': 590923562.42, 'open': 3737.53, 'close': 3485.18, 'high': 3883.43, 'time': 1544054400, 'volumefrom': 159523.77}, {'low': 3248, 'volumeto': 699930576.16, 'open': 3485.18, 'close': 3420.57, 'high': 3576.11, 'time': 1544140800, 'volumefrom': 206088.47}, {'low': 3295.21, 'volumeto': 357548590.53, 'open': 3420.57, 'close': 3461.07, 'high': 3602.49, 'time': 1544227200, 'volumefrom': 104091.14}, {'low': 3436.5, 'volumeto': 295321498.63, 'open': 3461.07, 'close': 3592.84, 'high': 3718.58, 'time': 1544313600, 'volumefrom': 83347.79}, {'low': 3416.77, 'volumeto': 287119758.11, 'open': 3592.84, 'close': 3467.16, 'high': 3645.49, 'time': 1544400000, 'volumefrom': 81855.33}, {'low': 3348.98, 'volumeto': 230671778.42, 'open': 3467.16, 'close': 3401.02, 'high': 3483.58, 'time': 1544486400, 'volumefrom': 67519.71}, {'low': 3380.48, 'volumeto': 257293632.74, 'open': 3401.02, 'close': 3485.59, 'high': 3545.37, 'time': 1544572800, 'volumefrom': 74415.95}, {'low': 3272.81, 'volumeto': 286236674.73, 'open': 3485.59, 'close': 3305.11, 'high': 3493.76, 'time': 1544659200, 'volumefrom': 84592.04}, {'low': 3180.97, 'volumeto': 290985461.02, 'open': 3305.11, 'close': 3235.48, 'high': 3333.24, 'time': 1544745600, 'volumefrom': 89133.43}, {'low': 3169.53, 'volumeto': 165378769.6, 'open': 3235.48, 'close': 3232.51, 'high': 3271.76, 'time': 1544832000, 'volumefrom': 51317.37}, {'low': 3227.4, 'volumeto': 148182655.41, 'open': 3232.51, 'close': 3255.37, 'high': 3319.83, 'time': 1544918400, 'volumefrom': 45102.51}, {'low': 3239.06, 'volumeto': 412454521.38, 'open': 3255.37, 'close': 3548.19, 'high': 3639.65, 'time': 1545004800, 'volumefrom': 119831.24}, {'low': 3481.46, 'volumeto': 327807644.75, 'open': 3548.19, 'close': 3715.85, 'high': 3727.99, 'time': 1545091200, 'volumefrom': 91609.53}, {'low': 3693.57, 'volumeto': 620695447.39, 'open': 3715.85, 'close': 3736.54, 'high': 3969.7, 'time': 1545177600, 'volumefrom': 163016.15}, {'low': 3712.82, 'volumeto': 724855205.51, 'open': 3736.54, 'close': 4137.66, 'high': 4225.52, 'time': 1545264000, 'volumefrom': 180025.9}, {'low': 3831.2, 'volumeto': 516656937.13, 'open': 4137.66, 'close': 3898.81, 'high': 4247.71, 'time': 1545350400, 'volumefrom': 128508.13}, {'low': 3849.23, 'volumeto': 250085915.72, 'open': 3898.81, 'close': 4045.24, 'high': 4060.34, 'time': 1545436800, 'volumefrom': 63672.55}, {'low': 3972.39, 'volumeto': 235997621.23, 'open': 4045.24, 'close': 4007.63, 'high': 4117.65, 'time': 1545523200, 'volumefrom': 58294.45}, {'low': 4006.6, 'volumeto': 459290147.24, 'open': 4007.63, 'close': 4081.95, 'high': 4303.37, 'time': 1545609600, 'volumefrom': 109869.44}, {'low': 3734.85, 'volumeto': 367200910.64, 'open': 4081.95, 'close': 3834.73, 'high': 4094.61, 'time': 1545696000, 'volumefrom': 95683.55}, {'low': 3746.86, 'volumeto': 263439573.84, 'open': 3834.73, 'close': 3848.78, 'high': 3923.93, 'time': 1545782400, 'volumefrom': 68965.06}, {'low': 3622.39, 'volumeto': 305729129.14, 'open': 3848.78, 'close': 3646.09, 'high': 3888.92, 'time': 1545868800, 'volumefrom': 81652.77}, {'low': 3628.43, 'volumeto': 353705007.17, 'open': 3646.09, 'close': 3947.86, 'high': 4007.71, 'time': 1545955200, 'volumefrom': 92882.41}, {'low': 3774.38, 'volumeto': 214891355.42, 'open': 3947.86, 'close': 3797.06, 'high': 4004.14, 'time': 1546041600, 'volumefrom': 54702.16}, {'low': 3760.8, 'volumeto': 191958416.81, 'open': 3797.06, 'close': 3896.21, 'high': 3925.18, 'time': 1546128000, 'volumefrom': 49797.04}, {'low': 3701.48, 'volumeto': 206190463.74, 'open': 3896.21, 'close': 3747.39, 'high': 3904.28, 'time': 1546214400, 'volumefrom': 54221.49}, {'low': 3696.94, 'volumeto': 170598307.96, 'open': 3747.39, 'close': 3880.15, 'high': 3938.75, 'time': 1546300800, 'volumefrom': 45104.29}, {'low': 3826.29, 'volumeto': 210854603.84, 'open': 3880.15, 'close': 3961.01, 'high': 3989.59, 'time': 1546387200, 'volumefrom': 54034.73}, {'low': 3778.76, 'volumeto': 176488072.06, 'open': 3961.01, 'close': 3835.86, 'high': 3965.52, 'time': 1546473600, 'volumefrom': 45585.19}, {'low': 3783.88, 'volumeto': 170507611.15, 'open': 3835.86, 'close': 3874.06, 'high': 3901.65, 'time': 1546560000, 'volumefrom': 44398.9}, {'low': 3841.13, 'volumeto': 139438510.18, 'open': 3874.06, 'close': 3855.39, 'high': 3926.92, 'time': 1546646400, 'volumefrom': 35766.65}, {'low': 3829.09, 'volumeto': 236298043.75, 'open': 3855.39, 'close': 4102.85, 'high': 4145.16, 'time': 1546732800, 'volumefrom': 58878.99}, {'low': 4001.35, 'volumeto': 209289368.14, 'open': 4102.85, 'close': 4050.4, 'high': 4132.62, 'time': 1546819200, 'volumefrom': 51541.23}, {'low': 3990.34, 'volumeto': 268091045.44, 'open': 4050.4, 'close': 4040.75, 'high': 4156.16, 'time': 1546905600, 'volumefrom': 65973.5}, {'low': 4013, 'volumeto': 223639028.92, 'open': 4040.75, 'close': 4048.34, 'high': 4092.91, 'time': 1546992000, 'volumefrom': 55130.13}, {'low': 3631.07, 'volumeto': 412522198.13, 'open': 4048.34, 'close': 3668.15, 'high': 4085.09, 'time': 1547078400, 'volumefrom': 108277.01}, {'low': 3616.41, 'volumeto': 231465488.1, 'open': 3668.15, 'close': 3669.2, 'high': 3729.69, 'time': 1547164800, 'volumefrom': 63070.18}, {'low': 3611.2, 'volumeto': 103912541.38, 'open': 3669.2, 'close': 3664.38, 'high': 3692.12, 'time': 1547251200, 'volumefrom': 28343.28}, {'low': 3528.24, 'volumeto': 164125048.97, 'open': 3664.38, 'close': 3551.24, 'high': 3675.2, 'time': 1547337600, 'volumefrom': 45682.73}, {'low': 3544.53, 'volumeto': 204793029.92, 'open': 3551.24, 'close': 3703.9, 'high': 3748.88, 'time': 1547424000, 'volumefrom': 56099.99}, {'low': 3590.49, 'volumeto': 198582447.53, 'open': 3703.9, 'close': 3621.24, 'high': 3724.3, 'time': 1547510400, 'volumefrom': 54154.65}, {'low': 3611.38, 'volumeto': 196211595.54, 'open': 3621.24, 'close': 3643.99, 'high': 3704.37, 'time': 1547596800, 'volumefrom': 53843.55}, {'low': 3586.92, 'volumeto': 168287506.1, 'open': 3643.99, 'close': 3685.3, 'high': 3695.28, 'time': 1547683200, 'volumefrom': 46181.32}, {'low': 3620.44, 'volumeto': 118317804.97, 'open': 3685.3, 'close': 3648.05, 'high': 3685.39, 'time': 1547769600, 'volumefrom': 32418.99}, {'low': 3643.01, 'volumeto': 143238228.4, 'open': 3648.05, 'close': 3729.78, 'high': 3799.62, 'time': 1547856000, 'volumefrom': 38341.35}, {'low': 3529.25, 'volumeto': 177628515.93, 'open': 3729.78, 'close': 3567.73, 'high': 3754.65, 'time': 1547942400, 'volumefrom': 49198.37}, {'low': 3535.19, 'volumeto': 129000924.6, 'open': 3567.73, 'close': 3571.92, 'high': 3599.83, 'time': 1548028800, 'volumefrom': 36101.4}, {'low': 3473.77, 'volumeto': 191355241.84, 'open': 3571.92, 'close': 3602.04, 'high': 3635.69, 'time': 1548115200, 'volumefrom': 53586.91}, {'low': 3543.96, 'volumeto': 135864247.56, 'open': 3602.04, 'close': 3572.05, 'high': 3631.15, 'time': 1548201600, 'volumefrom': 37910.4}, {'low': 3546.5, 'volumeto': 113155246.95, 'open': 3572.05, 'close': 3598.52, 'high': 3616.33, 'time': 1548288000, 'volumefrom': 31630.57}, {'low': 3539.41, 'volumeto': 116674680.78, 'open': 3598.52, 'close': 3582.89, 'high': 3607.43, 'time': 1548374400, 'volumefrom': 32679.69}, {'low': 3578.62, 'volumeto': 105927045.55, 'open': 3582.89, 'close': 3596.5, 'high': 3676.4, 'time': 1548460800, 'volumefrom': 29201.1}, {'low': 3511.29, 'volumeto': 93766117.67, 'open': 3596.5, 'close': 3565.08, 'high': 3605.99, 'time': 1548547200, 'volumefrom': 26261.48}, {'low': 3402.56, 'volumeto': 206309738.62, 'open': 3565.08, 'close': 3453.42, 'high': 3567.56, 'time': 1548633600, 'volumefrom': 59700.11}, {'low': 3369.19, 'volumeto': 158106687, 'open': 3453.42, 'close': 3418.25, 'high': 3463.2, 'time': 1548720000, 'volumefrom': 46304.1}, {'low': 3395.94, 'volumeto': 146422486.1, 'open': 3418.25, 'close': 3467.21, 'high': 3488.91, 'time': 1548806400, 'volumefrom': 42399.63}, {'low': 3422.83, 'volumeto': 128773893.15, 'open': 3467.21, 'close': 3434.13, 'high': 3499.78, 'time': 1548892800, 'volumefrom': 37365.7}, {'low': 3398.96, 'volumeto': 144476056.44, 'open': 3434.13, 'close': 3461.63, 'high': 3478.55, 'time': 1548979200, 'volumefrom': 41976.43}, {'low': 3441.21, 'volumeto': 94144187.11, 'open': 3461.63, 'close': 3508.68, 'high': 3519.14, 'time': 1549065600, 'volumefrom': 27103.48}, {'low': 3424.42, 'volumeto': 79591219.11, 'open': 3508.68, 'close': 3449.62, 'high': 3514.43, 'time': 1549152000, 'volumefrom': 23044.88}, {'low': 3429.21, 'volumeto': 82280894.52, 'open': 3449.62, 'close': 3431.24, 'high': 3470.8, 'time': 1549238400, 'volumefrom': 23959.61}, {'low': 3415.67, 'volumeto': 84042727.18, 'open': 3431.24, 'close': 3447.66, 'high': 3447.88, 'time': 1549324800, 'volumefrom': 24459.49}, {'low': 3362.24, 'volumeto': 150408587.85, 'open': 3447.66, 'close': 3394.89, 'high': 3459.33, 'time': 1549411200, 'volumefrom': 44281.79}, {'low': 3369.1, 'volumeto': 97390901.92, 'open': 3394.89, 'close': 3375.33, 'high': 3406.54, 'time': 1549497600, 'volumefrom': 28811.35}, {'low': 3363.32, 'volumeto': 317023029.42, 'open': 3375.33, 'close': 3660.03, 'high': 3735.1, 'time': 1549584000, 'volumefrom': 89444.22}, {'low': 3616.11, 'volumeto': 94200588.34, 'open': 3660.03, 'close': 3652.26, 'high': 3673.71, 'time': 1549670400, 'volumefrom': 25880.75}, {'low': 3611.46, 'volumeto': 109365095.98, 'open': 3652.26, 'close': 3685.14, 'high': 3689.32, 'time': 1549756800, 'volumefrom': 30046.26}, {'low': 3608.18, 'volumeto': 146354074.39, 'open': 3685.14, 'close': 3611.34, 'high': 3688.59, 'time': 1549843200, 'volumefrom': 40461.58}, {'low': 3574.22, 'volumeto': 164816438.53, 'open': 3611.34, 'close': 3617.41, 'high': 3648.67, 'time': 1549929600, 'volumefrom': 45717.05}, {'low': 3590.01, 'volumeto': 146822348.57, 'open': 3617.41, 'close': 3605.87, 'high': 3655.89, 'time': 1550016000, 'volumefrom': 40664.15}, {'low': 3567.39, 'volumeto': 117804856.32, 'open': 3605.87, 'close': 3588.72, 'high': 3619.7, 'time': 1550102400, 'volumefrom': 32779.35}, {'low': 3575.95, 'volumeto': 130398989.33, 'open': 3588.72, 'close': 3593.49, 'high': 3640.65, 'time': 1550188800, 'volumefrom': 36251.38}, {'low': 3592.04, 'volumeto': 86973822.79, 'open': 3593.49, 'close': 3617.24, 'high': 3639.75, 'time': 1550275200, 'volumefrom': 24003.59}, {'low': 3608.18, 'volumeto': 134218331.16, 'open': 3617.24, 'close': 3670.92, 'high': 3706.17, 'time': 1550361600, 'volumefrom': 36849.32}, {'low': 3661.42, 'volumeto': 376203280.43, 'open': 3670.92, 'close': 3912.57, 'high': 3952.44, 'time': 1550448000, 'volumefrom': 98728.99}, {'low': 3882.52, 'volumeto': 292137057.43, 'open': 3912.57, 'close': 3924.24, 'high': 4010.91, 'time': 1550534400, 'volumefrom': 74127.62}, {'low': 3898.91, 'volumeto': 209282292.49, 'open': 3924.24, 'close': 3974.05, 'high': 3992.31, 'time': 1550620800, 'volumefrom': 53048.95}, {'low': 3900.28, 'volumeto': 187314178.85, 'open': 3974.05, 'close': 3937.04, 'high': 4026.54, 'time': 1550707200, 'volumefrom': 47433.87}, {'low': 3917.66, 'volumeto': 170405341.81, 'open': 3937.04, 'close': 3983.53, 'high': 3996.15, 'time': 1550793600, 'volumefrom': 43006.55}, {'low': 3948.48, 'volumeto': 231174632.28, 'open': 3983.53, 'close': 4149.09, 'high': 4192.39, 'time': 1550880000, 'volumefrom': 57002.5}, {'low': 3755.38, 'volumeto': 319071544.94, 'open': 4149.09, 'close': 3771.62, 'high': 4221.62, 'time': 1550966400, 'volumefrom': 80391.72}, {'low': 3771.53, 'volumeto': 185036583.31, 'open': 3771.62, 'close': 3845.51, 'high': 3885.06, 'time': 1551052800, 'volumefrom': 48406.42}, {'low': 3791.9, 'volumeto': 126868886.89, 'open': 3845.51, 'close': 3817.88, 'high': 3852.66, 'time': 1551139200, 'volumefrom': 33253.08}, {'low': 3699.53, 'volumeto': 175069054.72, 'open': 3817.88, 'close': 3830.72, 'high': 3851.84, 'time': 1551225600, 'volumefrom': 46011.1}, {'low': 3798, 'volumeto': 170646670.66, 'open': 3830.72, 'close': 3823.37, 'high': 3909.86, 'time': 1551312000, 'volumefrom': 44353.45}, {'low': 3822.67, 'volumeto': 101774924.71, 'open': 3823.37, 'close': 3831.48, 'high': 3866.12, 'time': 1551398400, 'volumefrom': 26522.34}, {'low': 3790.74, 'volumeto': 73894412.97, 'open': 3831.48, 'close': 3842.94, 'high': 3846.38, 'time': 1551484800, 'volumefrom': 19283.71}, {'low': 3788.04, 'volumeto': 64065044.79, 'open': 3842.94, 'close': 3812.31, 'high': 3853.28, 'time': 1551571200, 'volumefrom': 16769.86}, {'low': 3705.14, 'volumeto': 147245676.28, 'open': 3812.31, 'close': 3731.28, 'high': 3831.01, 'time': 1551657600, 'volumefrom': 39278.22}, {'low': 3720.49, 'volumeto': 165062256.27, 'open': 3731.28, 'close': 3874.18, 'high': 3893.52, 'time': 1551744000, 'volumefrom': 43262.3}, {'low': 3839.39, 'volumeto': 129520549.49, 'open': 3874.18, 'close': 3874.98, 'high': 3916.29, 'time': 1551830400, 'volumefrom': 33536.95}, {'low': 3853.2, 'volumeto': 146201726.67, 'open': 3874.98, 'close': 3882.61, 'high': 3911.76, 'time': 1551916800, 'volumefrom': 37619.38}, {'low': 3804.98, 'volumeto': 153405087.61, 'open': 3882.61, 'close': 3868.02, 'high': 3932.02, 'time': 1552003200, 'volumefrom': 39428.25}, {'low': 3860.66, 'volumeto': 108370246.04, 'open': 3868.02, 'close': 3947.74, 'high': 3975.25, 'time': 1552089600, 'volumefrom': 27600.01}, {'low': 3897.82, 'volumeto': 68252920.53, 'open': 3947.74, 'close': 3929.84, 'high': 3948.21, 'time': 1552176000, 'volumefrom': 17404.16}, {'low': 3849.45, 'volumeto': 126998648.6, 'open': 3929.84, 'close': 3874.89, 'high': 3941.99, 'time': 1552262400, 'volumefrom': 32708.55}, {'low': 3827.23, 'volumeto': 130291591.54, 'open': 3874.89, 'close': 3888.57, 'high': 3904.7, 'time': 1552348800, 'volumefrom': 33655.37}, {'low': 3853.06, 'volumeto': 108286926.77, 'open': 3888.57, 'close': 3878.44, 'high': 3898.25, 'time': 1552435200, 'volumefrom': 27922.69}, {'low': 3825.03, 'volumeto': 133931876.12, 'open': 3878.44, 'close': 3881.44, 'high': 3922.21, 'time': 1552521600, 'volumefrom': 34554.38}, {'low': 3876.17, 'volumeto': 125588541.02, 'open': 3881.44, 'close': 3927.08, 'high': 3935.1, 'time': 1552608000, 'volumefrom': 32133.02}, {'low': 3924.98, 'volumeto': 166216280.52, 'open': 3927.08, 'close': 4027.01, 'high': 4069.11, 'time': 1552694400, 'volumefrom': 41319.81}, {'low': 3970.97, 'volumeto': 68146133.16, 'open': 4027.01, 'close': 3998, 'high': 4030.38, 'time': 1552780800, 'volumefrom': 17033.6}, {'low': 3964.31, 'volumeto': 109428478.54, 'open': 3998, 'close': 3988.85, 'high': 4038.99, 'time': 1552867200, 'volumefrom': 27416.92}, {'low': 3972.47, 'volumeto': 118919147.36, 'open': 3988.85, 'close': 4024.14, 'high': 4032.04, 'time': 1552953600, 'volumefrom': 29686.2}, {'low': 3995.49, 'volumeto': 148490744.9, 'open': 4024.14, 'close': 4056.75, 'high': 4064.95, 'time': 1553040000, 'volumefrom': 36862.09}, {'low': 3953.53, 'volumeto': 178077036.22, 'open': 4056.75, 'close': 3996.93, 'high': 4082.29, 'time': 1553126400, 'volumefrom': 44251.52}, {'low': 3984, 'volumeto': 90726555.79, 'open': 3996.93, 'close': 4000.84, 'high': 4018.21, 'time': 1553212800, 'volumefrom': 22671.75}, {'low': 3982.47, 'volumeto': 74094017.72, 'open': 4000.84, 'close': 4007.21, 'high': 4019.36, 'time': 1553299200, 'volumefrom': 18486.22}, {'low': 3970.35, 'volumeto': 64375076.75, 'open': 4007.21, 'close': 3994.11, 'high': 4010.3, 'time': 1553385600, 'volumefrom': 16111.98}, {'low': 3887.68, 'volumeto': 136398998.18, 'open': 3994.11, 'close': 3924.55, 'high': 4005.29, 'time': 1553472000, 'volumefrom': 34191.84}, {'low': 3902.52, 'volumeto': 93805733.55, 'open': 3924.55, 'close': 3942.22, 'high': 3943.2, 'time': 1553558400, 'volumefrom': 23873.14}, {'low': 3932.79, 'volumeto': 149005782.26, 'open': 3942.22, 'close': 4045.98, 'high': 4054.32, 'time': 1553644800, 'volumefrom': 37132.4}, {'low': 4014.69, 'volumeto': 102296341.19, 'open': 4045.98, 'close': 4036.45, 'high': 4046.44, 'time': 1553731200, 'volumefrom': 25343.13}, {'low': 4031.22, 'volumeto': 170915132.77, 'open': 4036.45, 'close': 4111.38, 'high': 4122.89, 'time': 1553817600, 'volumefrom': 41843.31}, {'low': 4066.87, 'volumeto': 102400533.82, 'open': 4111.38, 'close': 4118.13, 'high': 4146.88, 'time': 1553904000, 'volumefrom': 24906.26}, {'low': 4098.79, 'volumeto': 56727425.19, 'open': 4118.13, 'close': 4112.69, 'high': 4129.43, 'time': 1553990400, 'volumefrom': 13792.73}, {'low': 4082.2, 'volumeto': 152826759.02, 'open': 4112.69, 'close': 4151.32, 'high': 4164.33, 'time': 1554076800, 'volumefrom': 36921.55}, {'low': 4147.7, 'volumeto': 814748125.73, 'open': 4151.32, 'close': 4906.93, 'high': 5104.42, 'time': 1554163200, 'volumefrom': 172473.31}, {'low': 4831.59, 'volumeto': 809158339.99, 'open': 4906.93, 'close': 4976.59, 'high': 5335.7, 'time': 1554249600, 'volumefrom': 159843.43}, {'low': 4799.77, 'volumeto': 370109007.61, 'open': 4976.59, 'close': 4913.36, 'high': 5071.98, 'time': 1554336000, 'volumefrom': 74544.88}, {'low': 4897.61, 'volumeto': 280722247.3, 'open': 4913.36, 'close': 5047.23, 'high': 5074.13, 'time': 1554422400, 'volumefrom': 56130.82}, {'low': 4938, 'volumeto': 275839573.8, 'open': 5047.23, 'close': 5057.25, 'high': 5240.19, 'time': 1554508800, 'volumefrom': 54180.91}, {'low': 5044.28, 'volumeto': 243329883.48, 'open': 5057.25, 'close': 5201.16, 'high': 5266.04, 'time': 1554595200, 'volumefrom': 47200.43}, {'low': 5141.23, 'volumeto': 366577921.18, 'open': 5201.16, 'close': 5294.09, 'high': 5347.88, 'time': 1554681600, 'volumefrom': 69803.56}, {'low': 5159.13, 'volumeto': 253577595.39, 'open': 5294.09, 'close': 5201.3, 'high': 5294.09, 'time': 1554768000, 'volumefrom': 48552.25}, {'low': 5178.61, 'volumeto': 349643837.46, 'open': 5201.3, 'close': 5318.6, 'high': 5460.94, 'time': 1554854400, 'volumefrom': 65813.81}, {'low': 4987.65, 'volumeto': 356811374.12, 'open': 5318.6, 'close': 5048.56, 'high': 5343.66, 'time': 1554940800, 'volumefrom': 69622.86}, {'low': 4927.62, 'volumeto': 220667543.59, 'open': 5048.56, 'close': 5081.5, 'high': 5118.61, 'time': 1555027200, 'volumefrom': 43762.94}, {'low': 5056.19, 'volumeto': 118956124.9, 'open': 5081.5, 'close': 5080.66, 'high': 5128.96, 'time': 1555113600, 'volumefrom': 23342.24}, {'low': 5031.2, 'volumeto': 108148233.81, 'open': 5080.66, 'close': 5165.59, 'high': 5186.82, 'time': 1555200000, 'volumefrom': 21193.03}, {'low': 4969.31, 'volumeto': 205867031.18, 'open': 5165.59, 'close': 5037.27, 'high': 5195.31, 'time': 1555286400, 'volumefrom': 40402.46}, {'low': 5029.16, 'volumeto': 207311534.31, 'open': 5037.27, 'close': 5212.81, 'high': 5232.03, 'time': 1555372800, 'volumefrom': 40370}, {'low': 5190.81, 'volumeto': 194699629.15, 'open': 5212.81, 'close': 5236.26, 'high': 5270.76, 'time': 1555459200, 'volumefrom': 37225.68}, {'low': 5232.99, 'volumeto': 187312150.44, 'open': 5236.26, 'close': 5289.75, 'high': 5317.78, 'time': 1555545600, 'volumefrom': 35511.12}, {'low': 5212.18, 'volumeto': 158699049.55, 'open': 5289.75, 'close': 5295.53, 'high': 5353.01, 'time': 1555632000, 'volumefrom': 30109.97}, {'low': 5274.45, 'volumeto': 123577001.56, 'open': 5295.53, 'close': 5326.18, 'high': 5366.6, 'time': 1555718400, 'volumefrom': 23214.49}, {'low': 5232.77, 'volumeto': 134681237.4, 'open': 5326.18, 'close': 5305.74, 'high': 5348.59, 'time': 1555804800, 'volumefrom': 25466.81}, {'low': 5265.73, 'volumeto': 242498187.66, 'open': 5305.74, 'close': 5394.67, 'high': 5444.76, 'time': 1555891200, 'volumefrom': 45346.65}, {'low': 5371.31, 'volumeto': 368556751.66, 'open': 5394.67, 'close': 5539.1, 'high': 5626.83, 'time': 1555977600, 'volumefrom': 66448.85}, {'low': 5390.98, 'volumeto': 339093001.24, 'open': 5539.1, 'close': 5454.58, 'high': 5633, 'time': 1556064000, 'volumefrom': 61651.16}, {'low': 5031.69, 'volumeto': 374798664.87, 'open': 5454.58, 'close': 5162.67, 'high': 5521.61, 'time': 1556150400, 'volumefrom': 70755.72}, {'low': 5104.18, 'volumeto': 366773360.18, 'open': 5162.67, 'close': 5234.09, 'high': 5361.94, 'time': 1556236800, 'volumefrom': 70191.21}, {'low': 5192.45, 'volumeto': 113430273.96, 'open': 5234.09, 'close': 5229.48, 'high': 5282.97, 'time': 1556323200, 'volumefrom': 21692.98}, {'low': 5218.42, 'volumeto': 133564683.52, 'open': 5233.47, 'close': 5272.45, 'high': 5313.7, 'time': 1556409600, 'volumefrom': 25294.87}, {'low': 5162.81, 'volumeto': 167206787.27, 'open': 5272.45, 'close': 5237.96, 'high': 5299.51, 'time': 1556496000, 'volumefrom': 31947.44}, {'low': 5224.64, 'volumeto': 172540196.26, 'open': 5237.96, 'close': 5350.64, 'high': 5372.23, 'time': 1556582400, 'volumefrom': 32567.46}, {'low': 5346.7, 'volumeto': 147345369.73, 'open': 5350.64, 'close': 5389.54, 'high': 5417.17, 'time': 1556668800, 'volumefrom': 27410.57}, {'low': 5387.29, 'volumeto': 192256639.91, 'open': 5389.54, 'close': 5500.72, 'high': 5531.15, 'time': 1556755200, 'volumefrom': 35089.37}, {'low': 5484.78, 'volumeto': 432335283.61, 'open': 5500.72, 'close': 5753.38, 'high': 5891.9, 'time': 1556841600, 'volumefrom': 75434.86}, {'low': 5596.15, 'volumeto': 263390273.68, 'open': 5753.38, 'close': 5840.08, 'high': 5901.36, 'time': 1556928000, 'volumefrom': 45628.34}, {'low': 5709.74, 'volumeto': 147662500.76, 'open': 5840.08, 'close': 5794.14, 'high': 5849.5, 'time': 1557014400, 'volumefrom': 25481.48}, {'low': 5644.15, 'volumeto': 200316185.51, 'open': 5794.14, 'close': 5748.17, 'high': 5823.67, 'time': 1557100800, 'volumefrom': 34979.71}, {'low': 5748.17, 'volumeto': 353043890.95, 'open': 5748.17, 'close': 5819.57, 'high': 6031.54, 'time': 1557187200, 'volumefrom': 59556.89}, {'low': 5753.08, 'volumeto': 241917027.36, 'open': 5819.57, 'close': 5998.71, 'high': 6032.25, 'time': 1557273600, 'volumefrom': 40967.62}, {'low': 5988.65, 'volumeto': 310336580.16, 'open': 5998.71, 'close': 6171.96, 'high': 6194.91, 'time': 1557360000, 'volumefrom': 51005.27}, {'low': 6133.21, 'volumeto': 430403405.14, 'open': 6171.96, 'close': 6358.29, 'high': 6444.57, 'time': 1557446400, 'volumefrom': 68160.13}, {'low': 6357.02, 'volumeto': 933141315.95, 'open': 6358.29, 'close': 7191.36, 'high': 7394.94, 'time': 1557532800, 'volumefrom': 135248.42}, {'low': 6793.21, 'volumeto': 1023203366.46, 'open': 7191.36, 'close': 6977.63, 'high': 7541.61, 'time': 1557619200, 'volumefrom': 142892.25}, {'low': 6873.42, 'volumeto': 1140302646.6, 'open': 6977.63, 'close': 7806.36, 'high': 8127.75, 'time': 1557705600, 'volumefrom': 149082.57}, {'low': 7631.34, 'volumeto': 976094121.29, 'open': 7806.36, 'close': 7980.13, 'high': 8297.02, 'time': 1557792000, 'volumefrom': 122383.06}, {'low': 7849.92, 'volumeto': 694202804.31, 'open': 7980.13, 'close': 8183.83, 'high': 8263.29, 'time': 1557878400, 'volumefrom': 86162.62}, {'low': 7679.05, 'volumeto': 762104107.69, 'open': 8183.83, 'close': 7874.11, 'high': 8352.25, 'time': 1557964800, 'volumefrom': 95341.68}, {'low': 6668.67, 'volumeto': 1023961962.83, 'open': 7874.11, 'close': 7371.96, 'high': 7930.98, 'time': 1558051200, 'volumefrom': 141482.93}, {'low': 7213.72, 'volumeto': 303317486.98, 'open': 7371.96, 'close': 7266.08, 'high': 7491.67, 'time': 1558137600, 'volumefrom': 41327.89}, {'low': 7257.26, 'volumeto': 723011166.2, 'open': 7266.08, 'close': 8193.14, 'high': 8281.66, 'time': 1558224000, 'volumefrom': 91218.12}, {'low': 7591.85, 'volumeto': 637617163.27, 'open': 8193.14, 'close': 7998.29, 'high': 8193.14, 'time': 1558310400, 'volumefrom': 80672.83}, {'low': 7807.77, 'volumeto': 357803946.85, 'open': 7998.29, 'close': 7947.93, 'high': 8102.32, 'time': 1558396800, 'volumefrom': 45005.01}, {'low': 7533.66, 'volumeto': 424501866.33, 'open': 7947.93, 'close': 7626.89, 'high': 8033.76, 'time': 1558483200, 'volumefrom': 54216.74}, {'low': 7478.74, 'volumeto': 386766321.19, 'open': 7626.89, 'close': 7876.5, 'high': 7971.26, 'time': 1558569600, 'volumefrom': 50121.07}, {'low': 7801.57, 'volumeto': 413162746.86, 'open': 7876.5, 'close': 7996.4, 'high': 8165.45, 'time': 1558656000, 'volumefrom': 51604.15}, {'low': 7948.68, 'volumeto': 179206342.03, 'open': 7996.4, 'close': 8059.13, 'high': 8140.82, 'time': 1558742400, 'volumefrom': 22294.65}, {'low': 7894.53, 'volumeto': 483663699.62, 'open': 8059.13, 'close': 8726.23, 'high': 8779, 'time': 1558828800, 'volumefrom': 57648.95}, {'low': 8668.46, 'volumeto': 507164714.76, 'open': 8726.23, 'close': 8785.17, 'high': 8931.53, 'time': 1558915200, 'volumefrom': 57692.17}, {'low': 8562.2, 'volumeto': 360752199.95, 'open': 8785.17, 'close': 8718.85, 'high': 8818.71, 'time': 1559001600, 'volumefrom': 41445.13}, {'low': 8444.1, 'volumeto': 380343928.72, 'open': 8718.85, 'close': 8664.56, 'high': 8760.48, 'time': 1559088000, 'volumefrom': 44056.71}, {'low': 8027.21, 'volumeto': 815525590.67, 'open': 8664.56, 'close': 8276.25, 'high': 9065.89, 'time': 1559174400, 'volumefrom': 95189.06}, {'low': 8116, 'volumeto': 502056527.56, 'open': 8276.25, 'close': 8550.67, 'high': 8570.78, 'time': 1559260800, 'volumefrom': 60143.23}, {'low': 8459.65, 'volumeto': 229736992.43, 'open': 8550.67, 'close': 8555.87, 'high': 8619.21, 'time': 1559347200, 'volumefrom': 26884.15}, {'low': 8547.48, 'volumeto': 221708083.06, 'open': 8555.87, 'close': 8737.91, 'high': 8819.9, 'time': 1559433600, 'volumefrom': 25506.14}, {'low': 8073.18, 'volumeto': 534972187.72, 'open': 8737.91, 'close': 8114.49, 'high': 8740.24, 'time': 1559520000, 'volumefrom': 63486.15}, {'low': 7463.94, 'volumeto': 809220381.24, 'open': 8114.49, 'close': 7677.47, 'high': 8114.49, 'time': 1559606400, 'volumefrom': 103552.9}, {'low': 7591.88, 'volumeto': 387021977.02, 'open': 7677.47, 'close': 7791.29, 'high': 7917.14, 'time': 1559692800, 'volumefrom': 49771.65}, {'low': 7467.52, 'volumeto': 342084400.02, 'open': 7791.29, 'close': 7807.36, 'high': 7872.1, 'time': 1559779200, 'volumefrom': 44397.47}, {'low': 7767.37, 'volumeto': 407241297.23, 'open': 7807.36, 'close': 8002.63, 'high': 8127.63, 'time': 1559865600, 'volumefrom': 51105.14}, {'low': 7796.46, 'volumeto': 186055499.51, 'open': 8002.63, 'close': 7933.78, 'high': 8058.91, 'time': 1559952000, 'volumefrom': 23469.94}, {'low': 7535.9, 'volumeto': 234551796.21, 'open': 7933.78, 'close': 7643.44, 'high': 7964.75, 'time': 1560038400, 'volumefrom': 30301.73}, {'low': 7533.53, 'volumeto': 339520552.04, 'open': 7643.44, 'close': 8021, 'high': 8061.5, 'time': 1560124800, 'volumefrom': 43154.98}, {'low': 7724.58, 'volumeto': 282632009.38, 'open': 8021, 'close': 7917.32, 'high': 8049.78, 'time': 1560211200, 'volumefrom': 35850.45}, {'low': 7834.57, 'volumeto': 399065678.38, 'open': 7917.32, 'close': 8174.14, 'high': 8250, 'time': 1560297600, 'volumefrom': 49460.34}, {'low': 8053.65, 'volumeto': 315594036.87, 'open': 8174.14, 'close': 8235.57, 'high': 8326.2, 'time': 1560384000, 'volumefrom': 38536.25}, {'low': 8180.39, 'volumeto': 424131990.84, 'open': 8235.57, 'close': 8693.96, 'high': 8724.42, 'time': 1560470400, 'volumefrom': 50383.98}, {'low': 8621.48, 'volumeto': 333656492.38, 'open': 8693.96, 'close': 8853.56, 'high': 8905.14, 'time': 1560556800, 'volumefrom': 38140.15}, {'low': 8800.96, 'volumeto': 767025702.52, 'open': 8853.56, 'close': 8979.18, 'high': 9372.89, 'time': 1560643200, 'volumefrom': 84289.2}, {'low': 8976.99, 'volumeto': 606269265.79, 'open': 8979.18, 'close': 9336.01, 'high': 9468.85, 'time': 1560729600, 'volumefrom': 65486.04}, {'low': 8941.83, 'volumeto': 473016555.83, 'open': 9336.01, 'close': 9081.71, 'high': 9357.22, 'time': 1560816000, 'volumefrom': 51829.13}, {'low': 9045.47, 'volumeto': 293070485.25, 'open': 9081.71, 'close': 9280.54, 'high': 9313.18, 'time': 1560902400, 'volumefrom': 32012.68}, {'low': 9219.81, 'volumeto': 424436854.57, 'open': 9280.54, 'close': 9536.85, 'high': 9600.28, 'time': 1560988800, 'volumefrom': 45144.43}, {'low': 9536.85, 'volumeto': 765543626.6, 'open': 9536.85, 'close': 10218.87, 'high': 10230.86, 'time': 1561075200, 'volumefrom': 77828.7}, {'low': 10086.32, 'volumeto': 1240328392.49, 'open': 10218.87, 'close': 10689.54, 'high': 11207.97, 'time': 1561161600, 'volumefrom': 115793.98}, {'low': 10513.81, 'volumeto': 619160985.99, 'open': 10689.54, 'close': 10855.99, 'high': 11285.51, 'time': 1561248000, 'volumefrom': 57082.02}, {'low': 10555.71, 'volumeto': 565444720.43, 'open': 10855.99, 'close': 11035.74, 'high': 11100.92, 'time': 1561334400, 'volumefrom': 52118.36}, {'low': 10992.37, 'volumeto': 953962631.15, 'open': 11035.74, 'close': 11740.34, 'high': 11778.22, 'time': 1561420800, 'volumefrom': 84123.73}, {'low': 11679.1, 'volumeto': 2685872365.1, 'open': 11740.34, 'close': 12913.28, 'high': 13826.76, 'time': 1561507200, 'volumefrom': 211449.88}, {'low': 10335.34, 'volumeto': 2345027203.81, 'open': 12913.28, 'close': 11154.09, 'high': 13314.05, 'time': 1561593600, 'volumefrom': 202428.68}, {'low': 10772.75, 'volumeto': 1408438810.31, 'open': 11154.09, 'close': 12355.06, 'high': 12433, 'time': 1561680000, 'volumefrom': 120700.97}, {'low': 11352.27, 'volumeto': 968516834.6, 'open': 12355.06, 'close': 11884.1, 'high': 12362.9, 'time': 1561766400, 'volumefrom': 81875.16}, {'low': 10677.83, 'volumeto': 917158052.37, 'open': 11884.1, 'close': 10769.05, 'high': 12200.02, 'time': 1561852800, 'volumefrom': 80893.36}, {'low': 10006.43, 'volumeto': 1225129699.57, 'open': 10769.05, 'close': 10591.87, 'high': 11207, 'time': 1561939200, 'volumefrom': 115739.97}, {'low': 9678.1, 'volumeto': 1239524970.43, 'open': 10591.87, 'close': 10844.13, 'high': 10927.6, 'time': 1562025600, 'volumefrom': 120994.95}, {'low': 10841.91, 'volumeto': 1313585829.89, 'open': 10844.13, 'close': 11981.61, 'high': 12009.59, 'time': 1562112000, 'volumefrom': 115565.16}, {'low': 11067.68, 'volumeto': 831236841.56, 'open': 11981.61, 'close': 11156.52, 'high': 12055.11, 'time': 1562198400, 'volumefrom': 71141.03}, {'low': 10787.94, 'volumeto': 734424868.07, 'open': 11156.52, 'close': 10993.25, 'high': 11435.38, 'time': 1562284800, 'volumefrom': 66066.75}, {'low': 10985.4, 'volumeto': 549769169.13, 'open': 10993.25, 'close': 11248.94, 'high': 11709.27, 'time': 1562371200, 'volumefrom': 48172.2}, {'low': 11109.42, 'volumeto': 418161890.29, 'open': 11248.94, 'close': 11474.28, 'high': 11605.43, 'time': 1562457600, 'volumefrom': 36847.21}, {'low': 11339.02, 'volumeto': 762033323.29, 'open': 11474.28, 'close': 12296.16, 'high': 12386.28, 'time': 1562544000, 'volumefrom': 63847.27}, {'low': 12117.31, 'volumeto': 993891866.34, 'open': 12296.16, 'close': 12567.02, 'high': 12808.06, 'time': 1562630400, 'volumefrom': 79607.47}, {'low': 11569.94, 'volumeto': 1554955347.89, 'open': 12567.02, 'close': 12099.12, 'high': 13183.73, 'time': 1562716800, 'volumefrom': 124523.09}, {'low': 11002.39, 'volumeto': 1185222449.66, 'open': 12099.12, 'close': 11343.12, 'high': 12099.91, 'time': 1562803200, 'volumefrom': 102929.11}, {'low': 11096.61, 'volumeto': 647690095.15, 'open': 11343.12, 'close': 11797.37, 'high': 11931.91, 'time': 1562889600, 'volumefrom': 55994.89}, {'low': 10827.53, 'volumeto': 668325183.28, 'open': 11797.37, 'close': 11363.97, 'high': 11835.87, 'time': 1562976000, 'volumefrom': 59187.84}, {'low': 10118.85, 'volumeto': 814667763.32, 'open': 11363.97, 'close': 10204.41, 'high': 11447.92, 'time': 1563062400, 'volumefrom': 76310.21}, {'low': 9877.02, 'volumeto': 965178341.63, 'open': 10204.41, 'close': 10850.26, 'high': 11070.18, 'time': 1563148800, 'volumefrom': 92742.77}, {'low': 9366.82, 'volumeto': 1140137759.72, 'open': 10850.26, 'close': 9423.44, 'high': 11025.76, 'time': 1563235200, 'volumefrom': 113537.84}, {'low': 9086.51, 'volumeto': 965256823.84, 'open': 9423.44, 'close': 9696.15, 'high': 9982.24, 'time': 1563321600, 'volumefrom': 101032.08}, {'low': 9292.61, 'volumeto': 1033842556.65, 'open': 9696.15, 'close': 10638.35, 'high': 10776.54, 'time': 1563408000, 'volumefrom': 102443.07}, {'low': 10135.16, 'volumeto': 658190962.53, 'open': 10638.35, 'close': 10532.94, 'high': 10757.41, 'time': 1563494400, 'volumefrom': 62995.33}, {'low': 10379.19, 'volumeto': 608954333.23, 'open': 10532.94, 'close': 10759.42, 'high': 11094.32, 'time': 1563580800, 'volumefrom': 56766.57}, {'low': 10329.89, 'volumeto': 405339891.1, 'open': 10759.42, 'close': 10586.71, 'high': 10833.99, 'time': 1563667200, 'volumefrom': 38379.41}, {'low': 10072.07, 'volumeto': 524442852.25, 'open': 10586.71, 'close': 10325.87, 'high': 10676.6, 'time': 1563753600, 'volumefrom': 50574.02}, {'low': 9820.61, 'volumeto': 529438124.08, 'open': 10325.87, 'close': 9854.15, 'high': 10328.44, 'time': 1563840000, 'volumefrom': 52754.02}, {'low': 9535.78, 'volumeto': 531611909.42, 'open': 9854.15, 'close': 9772.14, 'high': 9920.54, 'time': 1563926400, 'volumefrom': 54750.78}, {'low': 9744.7, 'volumeto': 403576364.36, 'open': 9772.14, 'close': 9882.43, 'high': 10184.43, 'time': 1564012800, 'volumefrom': 40285.56}, {'low': 9668.52, 'volumeto': 225710142.01, 'open': 9882.43, 'close': 9799.03, 'high': 9890.05, 'time': 1564099200, 'volumefrom': 23113.43}], 'ConversionType': {'type': 'direct', 'conversionSymbol': ''}}\n"
     ]
    },
    {
     "data": {
      "image/png": "[encoded data removed]",
      "text/plain": [
       "<Figure size 2160x360 with 2 Axes>"
      ]
     },
     "metadata": {
      "needs_background": "light"
     },
     "output_type": "display_data"
    }
   ],
   "source": [
    "# hourly -- volume -- per day\n",
    "# USD \n",
    "\n",
    "#cryptocompare api key:1 e3c9fe62074dbf5805d45f528d1e60c7ae15be68a63ba57ca3a5f2f9dbbf66f\n",
    "\n",
    "#close,high,low,open,time,volumefrom,volumeto\n",
    "\n",
    "def posix2Human(time_):\n",
    "    timestamp = time_\n",
    "    dt_object = datetime.fromtimestamp(timestamp)\n",
    "    return dt_object\n",
    "\n",
    "histPriceDay = cryptocompare.get_historical_price_day('BTC', curr='USD')\n",
    "print((histPriceDay))\n",
    "\n",
    "# Getting CryptoCompare BTC volume data -- 2000 API calls back \n",
    "vol = []\n",
    "for idx, item in enumerate(histPriceDay['Data']):\n",
    "    vol.append(item['volumefrom'])    \n",
    "\n",
    "# -- Init subplots --\n",
    "f,arr = plt.subplots(1,2)\n",
    "  \n",
    "arr[0].plot(np.array(vol),'g')\n",
    "\n",
    "def fetch_latest_BTC_JSON():\n",
    "    \"\"\"Fetch the latest JSON data\"\"\"\n",
    "    API_LINK = 'https://www.alphavantage.co/query?function=DIGITAL_CURRENCY_DAILY&symbol=BTC&market=USD&apikey=SAITMI5ZUMGEKGKY'\n",
    "    page = requests.get(API_LINK).json()\n",
    "    return page\n",
    "\n",
    "page = fetch_latest_BTC_JSON()\n",
    "\n",
    "vol2 = []\n",
    "for key,value in page['Time Series (Digital Currency Daily)'].items():\n",
    "    vol2.append(float(value['5. volume']))\n",
    "    \n",
    "arr[1].plot(np.array(vol2))\n",
    "\n",
    "plt.tight_layout()\n",
    "f.set_figheight(5)\n",
    "f.set_figwidth(30)\n",
    "\n",
    "plt.show()"
   ]
  },
  {
   "cell_type": "code",
   "execution_count": 4,
   "metadata": {
    "scrolled": true
   },
   "outputs": [
    {
     "name": "stdout",
     "output_type": "stream",
     "text": [
      "CryptoCompare last reported volume (yesterday):  23113.43\n"
     ]
    }
   ],
   "source": [
    "print('CryptoCompare last reported volume (yesterday): ', vol[-1])"
   ]
  },
  {
   "cell_type": "code",
   "execution_count": 5,
   "metadata": {},
   "outputs": [
    {
     "name": "stdout",
     "output_type": "stream",
     "text": [
      "<class 'dict'>\n",
      "{'mlp_learning_rate': 0.001, 'mlp_epochs': 50, 'mlp_batch_size': 1}\n"
     ]
    }
   ],
   "source": [
    "def get_config(file_loc='../config.yaml'):\n",
    "    return yaml.safe_load(open(file_loc))\n",
    "config = get_config()\n",
    "print(type(config))\n",
    "print(config)"
   ]
  },
  {
   "cell_type": "markdown",
   "metadata": {},
   "source": [
    "## Neural Net Architectures"
   ]
  },
  {
   "cell_type": "code",
   "execution_count": 6,
   "metadata": {
    "colab": {},
    "colab_type": "code",
    "id": "WDURcbQYcMbV"
   },
   "outputs": [],
   "source": [
    "\"\"\"\n",
    "Basic multilayer perceptron subclass \n",
    "of three layers in PyTorch\n",
    "\"\"\"\n",
    "class MLP(nn.Module):\n",
    "    def __init__(self,num_features):\n",
    "        super(MLP,self).__init__()\n",
    "        self.fc1 = nn.Linear(in_features=num_features,out_features=32)\n",
    "        self.fc2 = nn.Linear(in_features=32,out_features=128)\n",
    "        self.fc3 = nn.Linear(in_features=128,out_features=1)\n",
    "    \n",
    "    def forward(self, x):\n",
    "        \"\"\"\"Forward pass definition\"\"\"\n",
    "        x = F.leaky_relu(self.fc1(x))\n",
    "        x = F.leaky_relu(self.fc2(x))\n",
    "        x = F.leaky_relu(self.fc3(x))\n",
    "        return x\n",
    "      \n",
    "class NumberRegression_MLP(nn.Module):\n",
    "    def __init__(self):\n",
    "        super(NumberRegression_MLP,self).__init__()\n",
    "        self.fc1 = nn.Linear(in_features=1,out_features=32)\n",
    "        self.fc2 = nn.Linear(in_features=32,out_features=128)\n",
    "        self.fc3 = nn.Linear(in_features=128,out_features=1)\n",
    "    def forward(self, x):\n",
    "        \"\"\"\"Forward pass definition\"\"\"\n",
    "        x = F.leaky_relu(self.fc1(x))\n",
    "        x = F.leaky_relu(self.fc2(x))\n",
    "        x = F.leaky_relu(self.fc3(x))\n",
    "        return x\n",
    "\n",
    "\"\"\"\n",
    "Recurrent Neural Networks (RNN)\n",
    "RNNs are an excellent method to model sequential data\n",
    "and time series data. This is perfect for stocks and\n",
    "crytocurrency price prediction.\n",
    "\"\"\"\n",
    "class TestRNN(nn.Module):\n",
    "    def __init__(self,input_dim,hidden_dim,layer_amnt):\n",
    "        super(TestRNN,self).__init__()\n",
    "        \n",
    "        self.input_dim = input_dim\n",
    "        self.hidden_dim = hidden_dim\n",
    "        self.layer_amnt = layer_amnt\n",
    "        \n",
    "        self.lstm1 = nn.LSTM(input_size=self.input_dim,\n",
    "                             hidden_size=self.hidden_dim,\n",
    "                             num_layers=1,\n",
    "                             bias=True,\n",
    "                             batch_first=False,\n",
    "                             dropout=0,\n",
    "                             bidirectional=False\n",
    "                            )\n",
    "        self.fc1 = nn.Linear(in_features=150,out_features=256)\n",
    "        self.fc2 = nn.Linear(in_features=256,out_features=128)\n",
    "        self.fc3 = nn.Linear(in_features=128,out_features=32)\n",
    "        self.fc4 = nn.Linear(in_features=32,out_features=1)\n",
    "        \n",
    "        pass\n",
    "    def forward(self,x):\n",
    "        pass"
   ]
  },
  {
   "cell_type": "code",
   "execution_count": 7,
   "metadata": {
    "colab": {},
    "colab_type": "code",
    "id": "RKSf-IgwcO6G"
   },
   "outputs": [],
   "source": [
    "class TickerData(torch.utils.data.Dataset):\n",
    "    def __init__(self, table):\n",
    "        self.dataset = table\n",
    "    def __len__(self):\n",
    "        return len(self.dataset)\n",
    "    def __getitem__(self,idx):\n",
    "        \"\"\"idx --> data pointer\"\"\"\n",
    "        return self.dataset[idx]"
   ]
  },
  {
   "cell_type": "code",
   "execution_count": 11,
   "metadata": {
    "colab": {},
    "colab_type": "code",
    "id": "rKiMgnPRfHl5"
   },
   "outputs": [
    {
     "data": {
      "text/plain": [
       "device(type='cpu')"
      ]
     },
     "execution_count": 11,
     "metadata": {},
     "output_type": "execute_result"
    }
   ],
   "source": [
    "device = torch.device(\"cuda\" if torch.cuda.is_available() else \"cpu\")\n",
    "device"
   ]
  },
  {
   "cell_type": "code",
   "execution_count": 51,
   "metadata": {
    "colab": {},
    "colab_type": "code",
    "id": "ATH5hCDpcVL9"
   },
   "outputs": [],
   "source": [
    "def fetch_latest_BTC_JSON():\n",
    "    \"\"\"Fetch the latest JSON data\"\"\"\n",
    "    API_LINK = 'https://www.alphavantage.co/query?function=DIGITAL_CURRENCY_DAILY&symbol=BTC&market=USD&apikey=SAITMI5ZUMGEKGKY'\n",
    "    page = requests.get(API_LINK).json()\n",
    "    return page\n",
    "  \n",
    "def fetch_btc_prices():\n",
    "    with open(\"/content/gdrive/My Drive/College/Undergraduate Research/StockData/BTC_data.json\") as f:\n",
    "        return json.load(f)      \n",
    "      \n",
    "def parse_alphaV_JSON(raw_data):\n",
    "    # Remove meta data for now\n",
    "    raw_data.pop('Meta Data',None)\n",
    "    # Remove key name\n",
    "    df = pd.DataFrame.from_dict(raw_data['Time Series (Digital Currency Daily)'],dtype=float)\n",
    "    # Flip dates as columns into rows\n",
    "    df = df.transpose()\n",
    "    return df\n",
    "\n",
    "def normalize():\n",
    "    pass\n",
    "  \n",
    "def data_split(x_train,y_train):\n",
    "        x_train, x_test, y_train, y_test = train_test_split(x_train,y_train,test_size=0.2,random_state=100,shuffle=False)\n",
    "        return x_train, x_test, y_train, y_test\n",
    "\n",
    "def train(model, x_data,y_data, original_prices):\n",
    "\n",
    "    prices = torch.tensor(original_prices)\n",
    "    max_price = torch.max(prices)\n",
    "    min_price = torch.min(prices)\n",
    "\n",
    "    print('----Dataset Prep----')\n",
    "    x_train, x_test, y_train, y_test = data_split(x_data,y_data)\n",
    "    train_tensorDataset = torch.utils.data.TensorDataset(torch.from_numpy(x_train),torch.from_numpy(y_train))\n",
    "    train_data_loader = torch.utils.data.DataLoader(\n",
    "        dataset=train_tensorDataset,\n",
    "        batch_size=1,\n",
    "        shuffle=False,\n",
    "        num_workers=0\n",
    "    )\n",
    "\n",
    "    test_tensorDataset = torch.utils.data.TensorDataset(torch.Tensor(x_test),torch.Tensor(y_test))\n",
    "    test_data_loader = torch.utils.data.DataLoader(\n",
    "        dataset=test_tensorDataset,\n",
    "        batch_size=1,\n",
    "        shuffle=False,\n",
    "        num_workers=0\n",
    "    )\n",
    "\n",
    "    print('-- Model Architecture --')\n",
    "    print(model)\n",
    "    \n",
    "    # -- Model to CUDA GPU --\n",
    "    #model.to(device)\n",
    "\n",
    "    # -- Since we are predicting prices --> mean squared error is our loss function\n",
    "    loss_func = torch.nn.MSELoss()\n",
    "\n",
    "    # -- Optimizer --> Adam generally works best\n",
    "    # TODO: choose a better learning rate later\n",
    "    optimizer = torch.optim.Adam(model.parameters(), lr=0.001)\n",
    "\n",
    "    total_loss = 0\n",
    "    losses = []\n",
    "    for epoch in (range(50)):\n",
    "        for i, (examples,labels) in tqdm(enumerate(train_data_loader)):\n",
    "\n",
    "            #print(examples , \" ----- \" , labels)\n",
    "            \n",
    "            optimizer.zero_grad()\n",
    "            \n",
    "            # -- Input to CUDA --\n",
    "            #examples = examples.to(device)\n",
    "            #labels = labels.to(device)\n",
    "            \n",
    "            y_predictions = model(examples.float())\n",
    "            loss = loss_func(y_predictions.float(),labels.float())\n",
    "\n",
    "            total_loss += loss.data\n",
    "\n",
    "            # back-prop to update the weights\n",
    "            loss.backward()\n",
    "            # optimizer steps based on lr\n",
    "            optimizer.step()\n",
    "\n",
    "            y_preds = y_predictions.cpu().detach().numpy()\n",
    "            y_preds = torch.tensor(y_preds)\n",
    "            #print(y_preds.shape)\n",
    "            test = un_normalize(y_preds, min_price, max_price)\n",
    "            #print(\"---> \", test)\n",
    "            #break\n",
    "\n",
    "        print ('Epoch [{}/{}], Loss: {}'.format(epoch+1, 100, loss.data))\n",
    "        #print(list(model.parameters()))\n",
    "        print(\"-----------------------------------------------------------------------------\")\n",
    "        losses.append(loss.data)\n",
    "    return losses, test_data_loader, loss_func, model, min_price, max_price, y_test\n",
    "\n",
    "\n",
    "def table_edit(dataframe):\n",
    "    dataframe = dataframe.drop(labels=['1b. open (USD)','2b. high (USD)','3b. low (USD)','4b. close (USD)'],axis=1)\n",
    "    table_col_order = ['1a. open (USD)','2a. high (USD)','3a. low (USD)','5. volume','6. market cap (USD)','4a. close (USD)']\n",
    "    dataframe = dataframe[table_col_order]\n",
    "    return dataframe\n",
    "\n",
    "def loss_visualize(loss_tensor):\n",
    "    losses = np.array(loss_tensor)\n",
    "    print(losses)\n",
    "    \n",
    "    plt.plot(losses)\n",
    "    \n",
    "def validation_test(test_dataloader, criterion, model, norm_min, norm_max):\n",
    "    test_loss = 0\n",
    "    accuracy = 0\n",
    "    all_predictions = []\n",
    "    for (examples, labels) in test_dataloader:\n",
    "        output = model.forward(examples)\n",
    "        \n",
    "        un_normed_outputs = un_normalize(output, norm_min,norm_max)\n",
    "        all_predictions.append(un_normed_outputs.detach())\n",
    "        #print(\"output --> \", un_normed_outputs)\n",
    "        loss = criterion(output, labels).item()\n",
    "        test_loss += loss\n",
    "        \n",
    "        #ps = torch.exp(output)\n",
    "        #equality = (labels.data == ps.max(dim=1)[1])\n",
    "        #accuracy += equality.type(torch.FloatTensor).mean()\n",
    "        \n",
    "        #print('output --> ', un_normed_outputs, ' loss --> ', loss)\n",
    "        \n",
    "    return test_loss, accuracy, all_predictions\n",
    "\n",
    "def un_normalize(norm_val,min_val,max_val,typelist=None):\n",
    "    if(typelist):\n",
    "        for idx,item in enumerate(norm_val):\n",
    "            new_val = item * (max_val - min_val) + min_val\n",
    "            norm_val[idx] = new_val\n",
    "        return norm_val\n",
    "    else:\n",
    "        return norm_val * (max_val - min_val) + min_val  \n",
    "\n",
    "def prediction_visualization(minimum_price,maximum_price,close_prices,model_predictions):\n",
    "    \n",
    "    plt.close()\n",
    "        \n",
    "    test_values = np.array(un_normalize(norm_val=close_prices,min_val=minimum_price,max_val=maximum_price,typelist=True))\n",
    "    print(test_values)\n",
    "    #print(np.array(model_predictions.grad))\n",
    "    #model_predictions[0].requires_grad = False\n",
    "    for idx,item in enumerate(model_predictions):\n",
    "        model_predictions[idx] = np.asscalar(item.numpy())\n",
    "    predicted_values = model_predictions\n",
    "     \n",
    "    print(len(test_values))\n",
    "    print(len(predicted_values))\n",
    "      \n",
    "    plt.plot(np.array(test_values),color='#FFA500')\n",
    "    plt.plot(np.array(predicted_values),color='g')\n",
    "    plt.show()\n",
    "    pass\n",
    "    \n",
    "def volume_visualization(volume):\n",
    "    vol = np.array(volume)\n",
    "    plt.plot(vol)\n",
    "    pass\n",
    "    \n",
    "def VMA_calculation(prices=[]):\n",
    "    prices = np.array(prices)\n",
    "      \n",
    "    n_prices = []\n",
    "    for idx, p in enumerate(prices):\n",
    "        if(idx + 1 == len(prices)):\n",
    "            break\n",
    "        p1 = prices[idx]\n",
    "        p2 = prices[idx+1]\n",
    "        arr = np.array([p1,p2])#,p3,p4,p5,p6,p7,p8,p9,p10,p11])\n",
    "        n_prices.append(arr)\n",
    "\n",
    "    vmas = []\n",
    "    for arr in n_prices:\n",
    "        sum_vol = arr.sum()\n",
    "        vmas.append(sum_vol/2)\n",
    "    \n",
    "    first_ten = vmas[:10]\n",
    "    average_num = np.average(first_ten)\n",
    "    vmas = np.insert(vmas,0,average_num)\n",
    "    \n",
    "    #plt.figure(figsize=(20,10))\n",
    "    #plt.plot(np.array(prices))\n",
    "    #plt.plot(np.array(vmas))\n",
    "    return vmas\n",
    "\n",
    "\n",
    "def vol_dataset_prep(vma,volume,original_volume):\n",
    "    \"\"\"VMA - x_train -- volume -- y_train\"\"\"\n",
    "    print(len(vma))\n",
    "    print(len(volume))\n",
    "    print(len(original_volume))\n",
    "    \n",
    "#     vma = torch.tensor(vma)\n",
    "#     volume = torch.tensor(volume)\n",
    "    \n",
    "    \n",
    "    #########################\n",
    "    x_train,x_test,y_train,y_test = data_split(volume,volume)\n",
    "    \n",
    "    #######################\n",
    "    \n",
    "    #x_train,x_test,y_train,y_test = data_split(vma,volume)\n",
    "    \n",
    "    train_data = torch.utils.data.TensorDataset(torch.from_numpy(x_train),torch.from_numpy(y_train))\n",
    "    test_data = torch.utils.data.TensorDataset(torch.from_numpy(x_test),torch.from_numpy(y_test))\n",
    "    train_dataloader = torch.utils.data.DataLoader(\n",
    "        dataset=train_data,\n",
    "        batch_size=1,\n",
    "        shuffle=False,\n",
    "        num_workers=0\n",
    "    )\n",
    "    test_dataloader = torch.utils.data.DataLoader(\n",
    "        dataset=test_data,\n",
    "        batch_size=1,\n",
    "        shuffle=False,\n",
    "        num_workers=0\n",
    "    )\n",
    "    return x_train,y_train,x_test,y_test,train_dataloader,test_dataloader\n",
    "\n",
    "def vol_train(model, train_dataloader):\n",
    "    loss_func = torch.nn.MSELoss()\n",
    "    optimizer = torch.optim.Adam(model.parameters(),lr=0.001)\n",
    "    \n",
    "    total_loss = 0\n",
    "    losses = []\n",
    "    for epoch in (range(10)):\n",
    "        for i, (examples,labels) in tqdm(enumerate(train_dataloader)):\n",
    "\n",
    "            optimizer.zero_grad()\n",
    "            \n",
    "            y_predictions = model(examples.float())\n",
    "            loss = loss_func(y_predictions.float(),labels.float())\n",
    "\n",
    "            total_loss += loss.data\n",
    "\n",
    "            # back-prop to update the weights\n",
    "            loss.backward()\n",
    "            # optimizer steps based on lr\n",
    "            optimizer.step()\n",
    "\n",
    "            y_preds = y_predictions.cpu().detach().numpy()\n",
    "            y_preds = torch.tensor(y_preds)\n",
    "            #print(y_preds.shape)\n",
    "            #print(\"---> \", test)\n",
    "            #break\n",
    "\n",
    "        print ('Epoch [{}/{}], Loss: {}'.format(epoch+1, 100, loss.data))\n",
    "        #print(list(model.parameters()))\n",
    "        print(\"-----------------------------------------------------------------------------\")\n",
    "        losses.append(loss.data)\n",
    "    return model,loss_func,total_loss,losses\n",
    "\n",
    "def vol_test(model,criterion,test_dataloader,min_val,max_val):\n",
    "    test_loss = 0\n",
    "    accuracy = 0\n",
    "    all_predictions = []\n",
    "    for (examples, labels) in test_dataloader:\n",
    "        output = model.forward(examples.float())\n",
    "        un_normed_outputs = un_normalize(output, min_val,max_val)\n",
    "        all_predictions.append(un_normed_outputs.detach())\n",
    "        loss = criterion(output, labels.float()).item()\n",
    "        test_loss += loss\n",
    "    return test_loss, accuracy, all_predictions\n",
    "\n",
    "def vol_prediction_visualization(predictions,actual,min_val,max_val):\n",
    "    for idx,item in enumerate(predictions):\n",
    "          predictions[idx] = np.asscalar(item.numpy())\n",
    "    print(predictions)\n",
    "    actual = un_normalize(actual,min_val,max_val,typelist=True)\n",
    "    print(actual)\n",
    "    plt.figure(figsize=(20,10))\n",
    "    plt.plot(np.array(actual),color='g')\n",
    "    plt.plot(np.array(predictions),color='#FFA500')\n",
    "      "
   ]
  },
  {
   "cell_type": "code",
   "execution_count": 52,
   "metadata": {
    "colab": {
     "base_uri": "https://localhost:8080/",
     "height": 700
    },
    "colab_type": "code",
    "id": "3hMUGeDkcZnZ",
    "outputId": "e351ab35-4ccf-4f68-c683-bc8b94e82d67",
    "scrolled": true
   },
   "outputs": [
    {
     "name": "stderr",
     "output_type": "stream",
     "text": [
      "28it [00:00, 277.57it/s]"
     ]
    },
    {
     "name": "stdout",
     "output_type": "stream",
     "text": [
      "            1a. open (USD)  1b. open (USD)  2a. high (USD)  2b. high (USD)  \\\n",
      "2014-04-01      468.480106      468.480106      491.267273      491.267273   \n",
      "2014-04-02      479.679615      479.679615      494.111337      494.111337   \n",
      "2014-04-03      437.322089      437.322089      452.441405      452.441405   \n",
      "2014-04-04      448.597144      448.597144      457.327172      457.327172   \n",
      "2014-04-05      450.027798      450.027798      466.385470      466.385470   \n",
      "2014-04-06      465.888799      465.888799      472.365986      472.365986   \n",
      "2014-04-07      462.121759      462.121759      465.238476      465.238476   \n",
      "2014-04-08      446.738715      446.738715      463.626506      463.626506   \n",
      "2014-04-09      452.169797      452.169797      464.305150      464.305150   \n",
      "2014-04-10      448.900539      448.900539      449.189035      449.189035   \n",
      "2014-04-11      361.493875      361.493875      429.613644      429.613644   \n",
      "2014-04-12      420.626947      420.626947      443.303397      443.303397   \n",
      "2014-04-13      420.928385      420.928385      432.492850      432.492850   \n",
      "2014-04-14      414.339897      414.339897      470.659231      470.659231   \n",
      "2014-04-15      457.234032      457.234032      525.508032      525.508032   \n",
      "2014-04-16      520.168211      520.168211      546.607733      546.607733   \n",
      "2014-04-17      530.101297      530.101297      534.210179      534.210179   \n",
      "2014-04-18      496.447574      496.447574      500.572836      500.572836   \n",
      "2014-04-19      479.494510      479.494510      507.227862      507.227862   \n",
      "2014-04-20      501.822893      501.822893      513.382603      513.382603   \n",
      "2014-04-21      497.315902      497.315902      510.996719      510.996719   \n",
      "2014-04-22      493.626983      493.626983      517.154395      517.154395   \n",
      "2014-04-23      485.863749      485.863749      502.554934      502.554934   \n",
      "2014-04-24      490.522533      490.522533      515.389432      515.389432   \n",
      "2014-04-25      500.883304      500.883304      512.597258      512.597258   \n",
      "2014-04-26      462.704816      462.704816      468.118762      468.118762   \n",
      "2014-04-27      458.357596      458.357596      469.511790      469.511790   \n",
      "2014-04-28      429.535452      429.535452      448.500238      448.500238   \n",
      "2014-04-29      440.440177      440.440177      464.547356      464.547356   \n",
      "2014-04-30      447.199323      447.199323      464.025908      464.025908   \n",
      "...                    ...             ...             ...             ...   \n",
      "2019-06-26    11739.297567    11739.297567    13786.392062    13786.392062   \n",
      "2019-06-27    12905.943836    12905.943836    13251.940673    13251.940673   \n",
      "2019-06-28    11158.075645    11158.075645    12414.486806    12414.486806   \n",
      "2019-06-29    12357.126216    12357.126216    12357.126216    12357.126216   \n",
      "2019-06-30    11897.968529    11897.968529    12182.683534    12182.683534   \n",
      "2019-07-01    10811.495425    10811.495425    11212.326890    11212.326890   \n",
      "2019-07-02    10591.576860    10591.576860    10915.951914    10915.951914   \n",
      "2019-07-03    10835.438612    10835.438612    11964.178462    11964.178462   \n",
      "2019-07-04    11974.681521    11974.681521    12024.840889    12024.840889   \n",
      "2019-07-05    11171.301351    11171.301351    11414.756812    11414.756812   \n",
      "2019-07-06    11000.322981    11000.322981    11687.082727    11687.082727   \n",
      "2019-07-07    11256.811845    11256.811845    11602.135348    11602.135348   \n",
      "2019-07-08    11481.982079    11481.982079    12373.748819    12373.748819   \n",
      "2019-07-09    12302.713863    12302.713863    12785.685528    12785.685528   \n",
      "2019-07-10    12567.985019    12567.985019    13129.576576    13129.576576   \n",
      "2019-07-11    12106.041494    12106.041494    12106.041494    12106.041494   \n",
      "2019-07-12    11360.410849    11360.410849    11905.153261    11905.153261   \n",
      "2019-07-13    11804.909210    11804.909210    11836.674788    11836.674788   \n",
      "2019-07-14    11371.225792    11371.225792    11433.732473    11433.732473   \n",
      "2019-07-15    10256.786228    10256.786228    11046.742086    11046.742086   \n",
      "2019-07-16    10861.828653    10861.828653    11019.258864    11019.258864   \n",
      "2019-07-17     9429.789916     9429.789916     9949.541390     9949.541390   \n",
      "2019-07-18     9702.655987     9702.655987    10726.777130    10726.777130   \n",
      "2019-07-19    10644.595895    10644.595895    10716.473781    10716.473781   \n",
      "2019-07-20    10540.639446    10540.639446    11025.495805    11025.495805   \n",
      "2019-07-21    10792.138770    10792.138770    10837.285621    10837.285621   \n",
      "2019-07-22    10559.358970    10559.358970    10635.358686    10635.358686   \n",
      "2019-07-23    10332.626227    10332.626227    10332.626227    10332.626227   \n",
      "2019-07-24     9869.996133     9869.996133     9916.167411     9916.167411   \n",
      "2019-07-25     9791.424436     9791.424436    10155.322277    10155.322277   \n",
      "\n",
      "            3a. low (USD)  3b. low (USD)  4a. close (USD)  4b. close (USD)  \\\n",
      "2014-04-01     468.480106     468.480106       479.023434       479.023434   \n",
      "2014-04-02     430.725909     430.725909       438.377824       438.377824   \n",
      "2014-04-03     414.811104     414.811104       446.819755       446.819755   \n",
      "2014-04-04     429.184117     429.184117       451.645992       451.645992   \n",
      "2014-04-05     445.107783     445.107783       464.379322       464.379322   \n",
      "2014-04-06     450.597413     450.597413       462.215799       462.215799   \n",
      "2014-04-07     443.342500     443.342500       448.452646       448.452646   \n",
      "2014-04-08     444.777377     444.777377       452.474664       452.474664   \n",
      "2014-04-09     440.366440     440.366440       449.892177       449.892177   \n",
      "2014-04-10     356.455475     356.455475       362.647136       362.647136   \n",
      "2014-04-11     347.027322     347.027322       420.349199       420.349199   \n",
      "2014-04-12     414.863435     414.863435       420.521563       420.521563   \n",
      "2014-04-13     393.164090     393.164090       413.605398       413.605398   \n",
      "2014-04-14     406.397096     406.397096       458.220153       458.220153   \n",
      "2014-04-15     453.537542     453.537542       520.868769       520.868769   \n",
      "2014-04-16     493.959392     493.959392       527.856055       527.856055   \n",
      "2014-04-17     482.628563     482.628563       496.093891       496.093891   \n",
      "2014-04-18     470.321519     470.321519       479.601185       479.601185   \n",
      "2014-04-19     469.846231     469.846231       500.762651       500.762651   \n",
      "2014-04-20     490.370925     490.370925       498.317205       498.317205   \n",
      "2014-04-21     491.099719     491.099719       494.006499       494.006499   \n",
      "2014-04-22     484.587524     484.587524       486.008328       486.008328   \n",
      "2014-04-23     483.467867     483.467867       490.454769       490.454769   \n",
      "2014-04-24     479.371372     479.371372       500.522667       500.522667   \n",
      "2014-04-25     443.354358     443.354358       462.272718       462.272718   \n",
      "2014-04-26     449.214921     449.214921       458.347009       458.347009   \n",
      "2014-04-27     436.688375     436.688375       437.935804       437.935804   \n",
      "2014-04-28     423.263084     423.263084       440.590455       440.590455   \n",
      "2014-04-29     433.855368     433.855368       447.555092       447.555092   \n",
      "2014-04-30     436.059447     436.059447       448.648602       448.648602   \n",
      "...                   ...            ...              ...              ...   \n",
      "2019-06-26   11723.927234   11723.927234     12872.872489     12872.872489   \n",
      "2019-06-27   10356.449624   10356.449624     11121.796986     11121.796986   \n",
      "2019-06-28   10846.325441   10846.325441     12355.184584     12355.184584   \n",
      "2019-06-29   11424.973085   11424.973085     11959.320728     11959.320728   \n",
      "2019-06-30   10748.175212   10748.175212     10748.175212     10748.175212   \n",
      "2019-07-01   10052.493092   10052.493092     10593.127400     10593.127400   \n",
      "2019-07-02    9714.507081    9714.507081     10816.385887     10816.385887   \n",
      "2019-07-03   10835.438612   10835.438612     11964.178462     11964.178462   \n",
      "2019-07-04   11113.970297   11113.970297     11196.589578     11196.589578   \n",
      "2019-07-05   10853.567209   10853.567209     10977.845309     10977.845309   \n",
      "2019-07-06   11000.322981   11000.322981     11245.186873     11245.186873   \n",
      "2019-07-07   11142.902754   11142.902754     11469.837082     11469.837082   \n",
      "2019-07-08   11367.459576   11367.459576     12311.249527     12311.249527   \n",
      "2019-07-09   12197.860289   12197.860289     12560.669513     12560.669513   \n",
      "2019-07-10   11710.542700   11710.542700     12133.102657     12133.102657   \n",
      "2019-07-11   11056.012895   11056.012895     11347.919721     11347.919721   \n",
      "2019-07-12   11147.780214   11147.780214     11805.525274     11805.525274   \n",
      "2019-07-13   10846.907373   10846.907373     11371.083519     11371.083519   \n",
      "2019-07-14   10227.288768   10227.288768     10235.695613     10235.695613   \n",
      "2019-07-15    9934.237808    9934.237808     10892.855597     10892.855597   \n",
      "2019-07-16    9407.366391    9407.366391      9464.301100      9464.301100   \n",
      "2019-07-17    9139.036848    9139.036848      9667.404429      9667.404429   \n",
      "2019-07-18    9344.121653    9344.121653     10640.425454     10640.425454   \n",
      "2019-07-19   10195.954293   10195.954293     10530.663012     10530.663012   \n",
      "2019-07-20   10434.841091   10434.841091     10780.405292     10780.405292   \n",
      "2019-07-21   10442.992297   10442.992297     10558.572699     10558.572699   \n",
      "2019-07-22   10141.118759   10141.118759     10322.802291     10322.802291   \n",
      "2019-07-23    9867.897063    9867.897063      9904.568997      9904.568997   \n",
      "2019-07-24    9574.264935    9574.264935      9807.196447      9807.196447   \n",
      "2019-07-25    9774.044229    9774.044229      9906.951663      9906.951663   \n",
      "\n",
      "                5. volume  6. market cap (USD)  \n",
      "2014-04-01   62894.683068         3.012803e+07  \n",
      "2014-04-02   96314.587552         4.222218e+07  \n",
      "2014-04-03   74292.749549         3.319547e+07  \n",
      "2014-04-04   39267.667348         1.773508e+07  \n",
      "2014-04-05   21574.144537         1.001859e+07  \n",
      "2014-04-06   16624.902000         7.684292e+06  \n",
      "2014-04-07   28631.526288         1.283988e+07  \n",
      "2014-04-08   18306.711121         8.283323e+06  \n",
      "2014-04-09   23268.961240         1.046852e+07  \n",
      "2014-04-10  134882.344992         4.891470e+07  \n",
      "2014-04-11  131394.417445         5.523154e+07  \n",
      "2014-04-12   39940.052127         1.679565e+07  \n",
      "2014-04-13   47527.555207         1.965765e+07  \n",
      "2014-04-14   94204.257655         4.316629e+07  \n",
      "2014-04-15   88758.504705         4.623153e+07  \n",
      "2014-04-16   88795.387832         4.687118e+07  \n",
      "2014-04-17   56110.237943         2.783595e+07  \n",
      "2014-04-18   32084.628021         1.538783e+07  \n",
      "2014-04-19   30582.037404         1.531434e+07  \n",
      "2014-04-20   16441.329798         8.192998e+06  \n",
      "2014-04-21   23657.398132         1.168691e+07  \n",
      "2014-04-22   19234.242376         9.348002e+06  \n",
      "2014-04-23   14675.496918         7.197667e+06  \n",
      "2014-04-24   19304.115097         9.662147e+06  \n",
      "2014-04-25   83702.836466         3.869354e+07  \n",
      "2014-04-26   21773.662406         9.979893e+06  \n",
      "2014-04-27   19907.943976         8.718401e+06  \n",
      "2014-04-28   45099.859983         1.987057e+07  \n",
      "2014-04-29   28619.206504         1.280867e+07  \n",
      "2014-04-30   26388.740791         1.183927e+07  \n",
      "...                   ...                  ...  \n",
      "2019-06-26  244265.780057         3.144402e+09  \n",
      "2019-06-27  223587.363490         2.486693e+09  \n",
      "2019-06-28  131233.416834         1.621413e+09  \n",
      "2019-06-29   95280.367323         1.139488e+09  \n",
      "2019-06-30   95274.942749         1.024032e+09  \n",
      "2019-07-01  133501.589074         1.414199e+09  \n",
      "2019-07-02  138255.761524         1.495428e+09  \n",
      "2019-07-03  129774.967260         1.552651e+09  \n",
      "2019-07-04   82804.071239         9.271232e+08  \n",
      "2019-07-05   77811.240246         8.541998e+08  \n",
      "2019-07-06   58547.996229         6.583832e+08  \n",
      "2019-07-07   46643.917653         5.349981e+08  \n",
      "2019-07-08   75852.199013         9.338353e+08  \n",
      "2019-07-09   93124.020379         1.169700e+09  \n",
      "2019-07-10  139696.033209         1.694946e+09  \n",
      "2019-07-11  119556.914312         1.356722e+09  \n",
      "2019-07-12   66215.327315         7.817067e+08  \n",
      "2019-07-13   68388.621347         7.776527e+08  \n",
      "2019-07-14   90402.934705         9.253369e+08  \n",
      "2019-07-15  105456.652242         1.148724e+09  \n",
      "2019-07-16  134426.968982         1.272257e+09  \n",
      "2019-07-17  113768.417567         1.099845e+09  \n",
      "2019-07-18  118091.071675         1.256539e+09  \n",
      "2019-07-19   75204.754330         7.919559e+08  \n",
      "2019-07-20  121373.246749         1.308453e+09  \n",
      "2019-07-21   75347.910786         7.955664e+08  \n",
      "2019-07-22   63308.338420         6.535195e+08  \n",
      "2019-07-23   64498.512524         6.388300e+08  \n",
      "2019-07-24   68538.337058         6.721689e+08  \n",
      "2019-07-25   52007.845004         5.152392e+08  \n",
      "\n",
      "[1942 rows x 10 columns]\n",
      "[ 479.0234337   438.37782382  446.81975514 ... 9904.56899653 9807.19644747\n",
      " 9906.95166254]\n",
      "---------------- original volume -----------------------\n",
      "[62894.68306786 96314.58755168 74292.74954889 ... 64498.51252433\n",
      " 68538.33705833 52007.84500448]\n",
      "---------------- original volume -----------------------\n",
      "113.97640361\n",
      "957152.47872048\n",
      "------slattt-----\n",
      "            2a. high (USD)  3a. low (USD)      5. volume\n",
      "2014-04-01      491.267273     468.480106   62894.683068\n",
      "2014-04-02      494.111337     430.725909   96314.587552\n",
      "2014-04-03      452.441405     414.811104   74292.749549\n",
      "2014-04-04      457.327172     429.184117   39267.667348\n",
      "2014-04-05      466.385470     445.107783   21574.144537\n",
      "2014-04-06      472.365986     450.597413   16624.902000\n",
      "2014-04-07      465.238476     443.342500   28631.526288\n",
      "2014-04-08      463.626506     444.777377   18306.711121\n",
      "2014-04-09      464.305150     440.366440   23268.961240\n",
      "2014-04-10      449.189035     356.455475  134882.344992\n",
      "2014-04-11      429.613644     347.027322  131394.417445\n",
      "2014-04-12      443.303397     414.863435   39940.052127\n",
      "2014-04-13      432.492850     393.164090   47527.555207\n",
      "2014-04-14      470.659231     406.397096   94204.257655\n",
      "2014-04-15      525.508032     453.537542   88758.504705\n",
      "2014-04-16      546.607733     493.959392   88795.387832\n",
      "2014-04-17      534.210179     482.628563   56110.237943\n",
      "2014-04-18      500.572836     470.321519   32084.628021\n",
      "2014-04-19      507.227862     469.846231   30582.037404\n",
      "2014-04-20      513.382603     490.370925   16441.329798\n",
      "2014-04-21      510.996719     491.099719   23657.398132\n",
      "2014-04-22      517.154395     484.587524   19234.242376\n",
      "2014-04-23      502.554934     483.467867   14675.496918\n",
      "2014-04-24      515.389432     479.371372   19304.115097\n",
      "2014-04-25      512.597258     443.354358   83702.836466\n",
      "2014-04-26      468.118762     449.214921   21773.662406\n",
      "2014-04-27      469.511790     436.688375   19907.943976\n",
      "2014-04-28      448.500238     423.263084   45099.859983\n",
      "2014-04-29      464.547356     433.855368   28619.206504\n",
      "2014-04-30      464.025908     436.059447   26388.740791\n",
      "...                    ...            ...            ...\n",
      "2019-06-26    13786.392062   11723.927234  244265.780057\n",
      "2019-06-27    13251.940673   10356.449624  223587.363490\n",
      "2019-06-28    12414.486806   10846.325441  131233.416834\n",
      "2019-06-29    12357.126216   11424.973085   95280.367323\n",
      "2019-06-30    12182.683534   10748.175212   95274.942749\n",
      "2019-07-01    11212.326890   10052.493092  133501.589074\n",
      "2019-07-02    10915.951914    9714.507081  138255.761524\n",
      "2019-07-03    11964.178462   10835.438612  129774.967260\n",
      "2019-07-04    12024.840889   11113.970297   82804.071239\n",
      "2019-07-05    11414.756812   10853.567209   77811.240246\n",
      "2019-07-06    11687.082727   11000.322981   58547.996229\n",
      "2019-07-07    11602.135348   11142.902754   46643.917653\n",
      "2019-07-08    12373.748819   11367.459576   75852.199013\n",
      "2019-07-09    12785.685528   12197.860289   93124.020379\n",
      "2019-07-10    13129.576576   11710.542700  139696.033209\n",
      "2019-07-11    12106.041494   11056.012895  119556.914312\n",
      "2019-07-12    11905.153261   11147.780214   66215.327315\n",
      "2019-07-13    11836.674788   10846.907373   68388.621347\n",
      "2019-07-14    11433.732473   10227.288768   90402.934705\n",
      "2019-07-15    11046.742086    9934.237808  105456.652242\n",
      "2019-07-16    11019.258864    9407.366391  134426.968982\n",
      "2019-07-17     9949.541390    9139.036848  113768.417567\n",
      "2019-07-18    10726.777130    9344.121653  118091.071675\n",
      "2019-07-19    10716.473781   10195.954293   75204.754330\n",
      "2019-07-20    11025.495805   10434.841091  121373.246749\n",
      "2019-07-21    10837.285621   10442.992297   75347.910786\n",
      "2019-07-22    10635.358686   10141.118759   63308.338420\n",
      "2019-07-23    10332.626227    9867.897063   64498.512524\n",
      "2019-07-24     9916.167411    9574.264935   68538.337058\n",
      "2019-07-25    10155.322277    9774.044229   52007.845004\n",
      "\n",
      "[1942 rows x 3 columns]\n",
      "---new---\n",
      "      2a. high (USD)  3a. low (USD)  5. volume\n",
      "0           0.014211       0.015871   0.065599\n",
      "1           0.014355       0.013845   0.100519\n",
      "2           0.012236       0.012991   0.077509\n",
      "3           0.012484       0.013762   0.040911\n",
      "4           0.012945       0.014617   0.022424\n",
      "5           0.013249       0.014911   0.017252\n",
      "6           0.012887       0.014522   0.029798\n",
      "7           0.012805       0.014599   0.019009\n",
      "8           0.012839       0.014362   0.024194\n",
      "9           0.012070       0.009860   0.140818\n",
      "10          0.011075       0.009354   0.137174\n",
      "11          0.011771       0.012994   0.041614\n",
      "12          0.011221       0.011829   0.049542\n",
      "13          0.013162       0.012539   0.098314\n",
      "14          0.015952       0.015069   0.092624\n",
      "15          0.017025       0.017238   0.092662\n",
      "16          0.016395       0.016630   0.058510\n",
      "17          0.014684       0.015970   0.033406\n",
      "18          0.015022       0.015944   0.031836\n",
      "19          0.015335       0.017046   0.017060\n",
      "20          0.015214       0.017085   0.024600\n",
      "21          0.015527       0.016735   0.019979\n",
      "22          0.014785       0.016675   0.015215\n",
      "23          0.015437       0.016455   0.020052\n",
      "24          0.015295       0.014523   0.087341\n",
      "25          0.013033       0.014837   0.022632\n",
      "26          0.013104       0.014165   0.020683\n",
      "27          0.012035       0.013445   0.047005\n",
      "28          0.012851       0.014013   0.029785\n",
      "29          0.012825       0.014131   0.027454\n",
      "...              ...            ...        ...\n",
      "1912        0.690438       0.619846   0.255112\n",
      "1913        0.663254       0.546467   0.233505\n",
      "1914        0.620659       0.572754   0.137005\n",
      "1915        0.617741       0.603804   0.099438\n",
      "1916        0.608868       0.567487   0.099433\n",
      "1917        0.559513       0.530156   0.139375\n",
      "1918        0.544439       0.512019   0.144343\n",
      "1919        0.597755       0.572169   0.135481\n",
      "1920        0.600840       0.587116   0.086402\n",
      "1921        0.569810       0.573142   0.081185\n",
      "1922        0.583661       0.581017   0.061057\n",
      "1923        0.579340       0.588668   0.048619\n",
      "1924        0.618587       0.600718   0.079138\n",
      "1925        0.639539       0.645278   0.097185\n",
      "1926        0.657030       0.619128   0.145848\n",
      "1927        0.604970       0.584006   0.124805\n",
      "1928        0.594753       0.588930   0.069069\n",
      "1929        0.591270       0.572785   0.071339\n",
      "1930        0.570775       0.539536   0.094342\n",
      "1931        0.551091       0.523810   0.110072\n",
      "1932        0.549693       0.495538   0.140342\n",
      "1933        0.495285       0.481139   0.118756\n",
      "1934        0.534817       0.492144   0.123273\n",
      "1935        0.534293       0.537854   0.078462\n",
      "1936        0.550011       0.550673   0.126703\n",
      "1937        0.540438       0.551110   0.078611\n",
      "1938        0.530167       0.534912   0.066031\n",
      "1939        0.514769       0.520250   0.067275\n",
      "1940        0.493587       0.504494   0.071496\n",
      "1941        0.505751       0.515214   0.054223\n",
      "\n",
      "[1942 rows x 3 columns]\n",
      "----Dataset Prep----\n",
      "-- Model Architecture --\n",
      "MLP(\n",
      "  (fc1): Linear(in_features=3, out_features=32, bias=True)\n",
      "  (fc2): Linear(in_features=32, out_features=128, bias=True)\n",
      "  (fc3): Linear(in_features=128, out_features=1, bias=True)\n",
      ")\n"
     ]
    },
    {
     "name": "stderr",
     "output_type": "stream",
     "text": [
      "1553it [00:04, 367.27it/s]\n",
      "30it [00:00, 293.69it/s]"
     ]
    },
    {
     "name": "stdout",
     "output_type": "stream",
     "text": [
      "Epoch [1/100], Loss: 0.00025402026949450374\n",
      "-----------------------------------------------------------------------------\n"
     ]
    },
    {
     "name": "stderr",
     "output_type": "stream",
     "text": [
      "1553it [00:03, 403.20it/s]\n",
      "37it [00:00, 363.20it/s]"
     ]
    },
    {
     "name": "stdout",
     "output_type": "stream",
     "text": [
      "Epoch [2/100], Loss: 7.351720705628395e-05\n",
      "-----------------------------------------------------------------------------\n"
     ]
    },
    {
     "name": "stderr",
     "output_type": "stream",
     "text": [
      "1553it [00:04, 362.94it/s]\n",
      "41it [00:00, 405.28it/s]"
     ]
    },
    {
     "name": "stdout",
     "output_type": "stream",
     "text": [
      "Epoch [3/100], Loss: 0.0002896424266509712\n",
      "-----------------------------------------------------------------------------\n"
     ]
    },
    {
     "name": "stderr",
     "output_type": "stream",
     "text": [
      "1553it [00:06, 251.57it/s]\n",
      "31it [00:00, 305.32it/s]"
     ]
    },
    {
     "name": "stdout",
     "output_type": "stream",
     "text": [
      "Epoch [4/100], Loss: 0.00016771492664702237\n",
      "-----------------------------------------------------------------------------\n"
     ]
    },
    {
     "name": "stderr",
     "output_type": "stream",
     "text": [
      "1553it [00:03, 410.95it/s]\n",
      "33it [00:00, 309.24it/s]"
     ]
    },
    {
     "name": "stdout",
     "output_type": "stream",
     "text": [
      "Epoch [5/100], Loss: 0.00014800704957451671\n",
      "-----------------------------------------------------------------------------\n"
     ]
    },
    {
     "name": "stderr",
     "output_type": "stream",
     "text": [
      "1553it [00:03, 399.87it/s]\n",
      "47it [00:00, 468.07it/s]"
     ]
    },
    {
     "name": "stdout",
     "output_type": "stream",
     "text": [
      "Epoch [6/100], Loss: 0.00011493916099425405\n",
      "-----------------------------------------------------------------------------\n"
     ]
    },
    {
     "name": "stderr",
     "output_type": "stream",
     "text": [
      "1553it [00:04, 373.38it/s]\n",
      "45it [00:00, 438.13it/s]"
     ]
    },
    {
     "name": "stdout",
     "output_type": "stream",
     "text": [
      "Epoch [7/100], Loss: 0.0001346392382401973\n",
      "-----------------------------------------------------------------------------\n"
     ]
    },
    {
     "name": "stderr",
     "output_type": "stream",
     "text": [
      "1553it [00:03, 411.03it/s]\n",
      "46it [00:00, 453.41it/s]"
     ]
    },
    {
     "name": "stdout",
     "output_type": "stream",
     "text": [
      "Epoch [8/100], Loss: 9.324029815616086e-05\n",
      "-----------------------------------------------------------------------------\n"
     ]
    },
    {
     "name": "stderr",
     "output_type": "stream",
     "text": [
      "1553it [00:03, 436.67it/s]\n",
      "42it [00:00, 414.00it/s]"
     ]
    },
    {
     "name": "stdout",
     "output_type": "stream",
     "text": [
      "Epoch [9/100], Loss: 0.00011511687625898048\n",
      "-----------------------------------------------------------------------------\n"
     ]
    },
    {
     "name": "stderr",
     "output_type": "stream",
     "text": [
      "1553it [00:03, 441.16it/s]\n",
      "43it [00:00, 427.40it/s]"
     ]
    },
    {
     "name": "stdout",
     "output_type": "stream",
     "text": [
      "Epoch [10/100], Loss: 0.00012547896767500788\n",
      "-----------------------------------------------------------------------------\n"
     ]
    },
    {
     "name": "stderr",
     "output_type": "stream",
     "text": [
      "1553it [00:03, 439.47it/s]\n",
      "44it [00:00, 438.30it/s]"
     ]
    },
    {
     "name": "stdout",
     "output_type": "stream",
     "text": [
      "Epoch [11/100], Loss: 8.920993423089385e-05\n",
      "-----------------------------------------------------------------------------\n"
     ]
    },
    {
     "name": "stderr",
     "output_type": "stream",
     "text": [
      "1553it [00:03, 421.67it/s]\n",
      "41it [00:00, 406.32it/s]"
     ]
    },
    {
     "name": "stdout",
     "output_type": "stream",
     "text": [
      "Epoch [12/100], Loss: 7.119165093172342e-05\n",
      "-----------------------------------------------------------------------------\n"
     ]
    },
    {
     "name": "stderr",
     "output_type": "stream",
     "text": [
      "1553it [00:03, 436.90it/s]\n",
      "44it [00:00, 435.81it/s]"
     ]
    },
    {
     "name": "stdout",
     "output_type": "stream",
     "text": [
      "Epoch [13/100], Loss: 0.0001204186410177499\n",
      "-----------------------------------------------------------------------------\n"
     ]
    },
    {
     "name": "stderr",
     "output_type": "stream",
     "text": [
      "1553it [00:03, 441.52it/s]\n",
      "32it [00:00, 319.88it/s]"
     ]
    },
    {
     "name": "stdout",
     "output_type": "stream",
     "text": [
      "Epoch [14/100], Loss: 9.579107427271083e-05\n",
      "-----------------------------------------------------------------------------\n"
     ]
    },
    {
     "name": "stderr",
     "output_type": "stream",
     "text": [
      "1553it [00:03, 437.49it/s]\n",
      "48it [00:00, 477.57it/s]"
     ]
    },
    {
     "name": "stdout",
     "output_type": "stream",
     "text": [
      "Epoch [15/100], Loss: 9.447661432204768e-05\n",
      "-----------------------------------------------------------------------------\n"
     ]
    },
    {
     "name": "stderr",
     "output_type": "stream",
     "text": [
      "1553it [00:03, 441.04it/s]\n",
      "48it [00:00, 478.20it/s]"
     ]
    },
    {
     "name": "stdout",
     "output_type": "stream",
     "text": [
      "Epoch [16/100], Loss: 9.55199939198792e-05\n",
      "-----------------------------------------------------------------------------\n"
     ]
    },
    {
     "name": "stderr",
     "output_type": "stream",
     "text": [
      "1553it [00:06, 238.27it/s]\n",
      "17it [00:00, 168.17it/s]"
     ]
    },
    {
     "name": "stdout",
     "output_type": "stream",
     "text": [
      "Epoch [17/100], Loss: 0.0001118444197345525\n",
      "-----------------------------------------------------------------------------\n"
     ]
    },
    {
     "name": "stderr",
     "output_type": "stream",
     "text": [
      "1553it [00:04, 320.24it/s]\n",
      "19it [00:00, 186.65it/s]"
     ]
    },
    {
     "name": "stdout",
     "output_type": "stream",
     "text": [
      "Epoch [18/100], Loss: 0.00010000755719374865\n",
      "-----------------------------------------------------------------------------\n"
     ]
    },
    {
     "name": "stderr",
     "output_type": "stream",
     "text": [
      "1553it [00:04, 348.03it/s]\n",
      "49it [00:00, 482.14it/s]"
     ]
    },
    {
     "name": "stdout",
     "output_type": "stream",
     "text": [
      "Epoch [19/100], Loss: 0.00014841703523416072\n",
      "-----------------------------------------------------------------------------\n"
     ]
    },
    {
     "name": "stderr",
     "output_type": "stream",
     "text": [
      "1553it [00:04, 319.81it/s]\n",
      "47it [00:00, 463.21it/s]"
     ]
    },
    {
     "name": "stdout",
     "output_type": "stream",
     "text": [
      "Epoch [20/100], Loss: 0.0001249147462658584\n",
      "-----------------------------------------------------------------------------\n"
     ]
    },
    {
     "name": "stderr",
     "output_type": "stream",
     "text": [
      "1553it [00:04, 351.97it/s]\n",
      "41it [00:00, 406.69it/s]"
     ]
    },
    {
     "name": "stdout",
     "output_type": "stream",
     "text": [
      "Epoch [21/100], Loss: 9.592821152182296e-05\n",
      "-----------------------------------------------------------------------------\n"
     ]
    },
    {
     "name": "stderr",
     "output_type": "stream",
     "text": [
      "1553it [00:03, 426.33it/s]\n",
      "44it [00:00, 437.46it/s]"
     ]
    },
    {
     "name": "stdout",
     "output_type": "stream",
     "text": [
      "Epoch [22/100], Loss: 9.138540917774662e-05\n",
      "-----------------------------------------------------------------------------\n"
     ]
    },
    {
     "name": "stderr",
     "output_type": "stream",
     "text": [
      "1553it [00:05, 277.48it/s]\n",
      "44it [00:00, 439.44it/s]"
     ]
    },
    {
     "name": "stdout",
     "output_type": "stream",
     "text": [
      "Epoch [23/100], Loss: 0.00017675530398264527\n",
      "-----------------------------------------------------------------------------\n"
     ]
    },
    {
     "name": "stderr",
     "output_type": "stream",
     "text": [
      "1553it [00:04, 310.97it/s]\n",
      "36it [00:00, 317.48it/s]"
     ]
    },
    {
     "name": "stdout",
     "output_type": "stream",
     "text": [
      "Epoch [24/100], Loss: 7.124043622752652e-05\n",
      "-----------------------------------------------------------------------------\n"
     ]
    },
    {
     "name": "stderr",
     "output_type": "stream",
     "text": [
      "1553it [00:04, 343.42it/s]\n",
      "37it [00:00, 369.10it/s]"
     ]
    },
    {
     "name": "stdout",
     "output_type": "stream",
     "text": [
      "Epoch [25/100], Loss: 0.00015253557648975402\n",
      "-----------------------------------------------------------------------------\n"
     ]
    },
    {
     "name": "stderr",
     "output_type": "stream",
     "text": [
      "1553it [00:04, 381.74it/s]\n",
      "55it [00:00, 539.10it/s]"
     ]
    },
    {
     "name": "stdout",
     "output_type": "stream",
     "text": [
      "Epoch [26/100], Loss: 0.00018519736477173865\n",
      "-----------------------------------------------------------------------------\n"
     ]
    },
    {
     "name": "stderr",
     "output_type": "stream",
     "text": [
      "1553it [00:03, 403.42it/s]\n",
      "47it [00:00, 467.54it/s]"
     ]
    },
    {
     "name": "stdout",
     "output_type": "stream",
     "text": [
      "Epoch [27/100], Loss: 0.00011019397061318159\n",
      "-----------------------------------------------------------------------------\n"
     ]
    },
    {
     "name": "stderr",
     "output_type": "stream",
     "text": [
      "1553it [00:04, 312.43it/s]\n",
      "22it [00:00, 218.09it/s]"
     ]
    },
    {
     "name": "stdout",
     "output_type": "stream",
     "text": [
      "Epoch [28/100], Loss: 0.000198467678274028\n",
      "-----------------------------------------------------------------------------\n"
     ]
    },
    {
     "name": "stderr",
     "output_type": "stream",
     "text": [
      "1553it [00:04, 324.16it/s]\n",
      "51it [00:00, 501.35it/s]"
     ]
    },
    {
     "name": "stdout",
     "output_type": "stream",
     "text": [
      "Epoch [29/100], Loss: 5.529641930479556e-05\n",
      "-----------------------------------------------------------------------------\n"
     ]
    },
    {
     "name": "stderr",
     "output_type": "stream",
     "text": [
      "1553it [00:03, 434.27it/s]\n",
      "38it [00:00, 368.17it/s]"
     ]
    },
    {
     "name": "stdout",
     "output_type": "stream",
     "text": [
      "Epoch [30/100], Loss: 0.0001636579108890146\n",
      "-----------------------------------------------------------------------------\n"
     ]
    },
    {
     "name": "stderr",
     "output_type": "stream",
     "text": [
      "1553it [00:05, 293.01it/s]\n",
      "33it [00:00, 323.45it/s]"
     ]
    },
    {
     "name": "stdout",
     "output_type": "stream",
     "text": [
      "Epoch [31/100], Loss: 0.00010299256246071309\n",
      "-----------------------------------------------------------------------------\n"
     ]
    },
    {
     "name": "stderr",
     "output_type": "stream",
     "text": [
      "1553it [00:05, 276.76it/s]\n",
      "44it [00:00, 435.80it/s]"
     ]
    },
    {
     "name": "stdout",
     "output_type": "stream",
     "text": [
      "Epoch [32/100], Loss: 6.900245352881029e-05\n",
      "-----------------------------------------------------------------------------\n"
     ]
    },
    {
     "name": "stderr",
     "output_type": "stream",
     "text": [
      "1553it [00:04, 343.58it/s]\n",
      "39it [00:00, 386.24it/s]"
     ]
    },
    {
     "name": "stdout",
     "output_type": "stream",
     "text": [
      "Epoch [33/100], Loss: 8.306711970362812e-05\n",
      "-----------------------------------------------------------------------------\n"
     ]
    },
    {
     "name": "stderr",
     "output_type": "stream",
     "text": [
      "1553it [00:04, 355.12it/s]\n",
      "28it [00:00, 179.48it/s]"
     ]
    },
    {
     "name": "stdout",
     "output_type": "stream",
     "text": [
      "Epoch [34/100], Loss: 0.00010154171468457207\n",
      "-----------------------------------------------------------------------------\n"
     ]
    },
    {
     "name": "stderr",
     "output_type": "stream",
     "text": [
      "1553it [00:09, 170.11it/s]\n",
      "9it [00:00, 88.68it/s]"
     ]
    },
    {
     "name": "stdout",
     "output_type": "stream",
     "text": [
      "Epoch [35/100], Loss: 3.969340832554735e-05\n",
      "-----------------------------------------------------------------------------\n"
     ]
    },
    {
     "name": "stderr",
     "output_type": "stream",
     "text": [
      "1553it [00:05, 264.77it/s]\n",
      "30it [00:00, 289.65it/s]"
     ]
    },
    {
     "name": "stdout",
     "output_type": "stream",
     "text": [
      "Epoch [36/100], Loss: 3.904342884197831e-05\n",
      "-----------------------------------------------------------------------------\n"
     ]
    },
    {
     "name": "stderr",
     "output_type": "stream",
     "text": [
      "1553it [00:05, 294.25it/s]\n",
      "43it [00:00, 429.19it/s]"
     ]
    },
    {
     "name": "stdout",
     "output_type": "stream",
     "text": [
      "Epoch [37/100], Loss: 5.2369672630447894e-05\n",
      "-----------------------------------------------------------------------------\n"
     ]
    },
    {
     "name": "stderr",
     "output_type": "stream",
     "text": [
      "1553it [00:05, 289.66it/s]\n",
      "45it [00:00, 442.70it/s]"
     ]
    },
    {
     "name": "stdout",
     "output_type": "stream",
     "text": [
      "Epoch [38/100], Loss: 3.149131543978001e-06\n",
      "-----------------------------------------------------------------------------\n"
     ]
    },
    {
     "name": "stderr",
     "output_type": "stream",
     "text": [
      "1553it [00:04, 319.47it/s]\n",
      "46it [00:00, 450.88it/s]"
     ]
    },
    {
     "name": "stdout",
     "output_type": "stream",
     "text": [
      "Epoch [39/100], Loss: 1.5245054783008527e-05\n",
      "-----------------------------------------------------------------------------\n"
     ]
    },
    {
     "name": "stderr",
     "output_type": "stream",
     "text": [
      "1553it [00:05, 306.13it/s]\n",
      "20it [00:00, 197.86it/s]"
     ]
    },
    {
     "name": "stdout",
     "output_type": "stream",
     "text": [
      "Epoch [40/100], Loss: 5.932207204750739e-05\n",
      "-----------------------------------------------------------------------------\n"
     ]
    },
    {
     "name": "stderr",
     "output_type": "stream",
     "text": [
      "1553it [00:03, 459.05it/s]\n",
      "55it [00:00, 548.47it/s]"
     ]
    },
    {
     "name": "stdout",
     "output_type": "stream",
     "text": [
      "Epoch [41/100], Loss: 6.559363100677729e-05\n",
      "-----------------------------------------------------------------------------\n"
     ]
    },
    {
     "name": "stderr",
     "output_type": "stream",
     "text": [
      "1553it [00:04, 346.31it/s]\n",
      "41it [00:00, 403.91it/s]"
     ]
    },
    {
     "name": "stdout",
     "output_type": "stream",
     "text": [
      "Epoch [42/100], Loss: 3.459716390352696e-05\n",
      "-----------------------------------------------------------------------------\n"
     ]
    },
    {
     "name": "stderr",
     "output_type": "stream",
     "text": [
      "1553it [00:05, 292.06it/s]\n",
      "41it [00:00, 408.74it/s]"
     ]
    },
    {
     "name": "stdout",
     "output_type": "stream",
     "text": [
      "Epoch [43/100], Loss: 1.986402457987424e-05\n",
      "-----------------------------------------------------------------------------\n"
     ]
    },
    {
     "name": "stderr",
     "output_type": "stream",
     "text": [
      "1553it [00:05, 308.90it/s]\n",
      "40it [00:00, 395.54it/s]"
     ]
    },
    {
     "name": "stdout",
     "output_type": "stream",
     "text": [
      "Epoch [44/100], Loss: 3.557226955308579e-05\n",
      "-----------------------------------------------------------------------------\n"
     ]
    },
    {
     "name": "stderr",
     "output_type": "stream",
     "text": [
      "1553it [00:03, 453.17it/s]\n",
      "48it [00:00, 478.14it/s]"
     ]
    },
    {
     "name": "stdout",
     "output_type": "stream",
     "text": [
      "Epoch [45/100], Loss: 6.498439324786887e-05\n",
      "-----------------------------------------------------------------------------\n"
     ]
    },
    {
     "name": "stderr",
     "output_type": "stream",
     "text": [
      "1553it [00:03, 457.86it/s]\n",
      "39it [00:00, 384.39it/s]"
     ]
    },
    {
     "name": "stdout",
     "output_type": "stream",
     "text": [
      "Epoch [46/100], Loss: 0.00016890655388124287\n",
      "-----------------------------------------------------------------------------\n"
     ]
    },
    {
     "name": "stderr",
     "output_type": "stream",
     "text": [
      "1553it [00:03, 447.95it/s]\n",
      "42it [00:00, 411.21it/s]"
     ]
    },
    {
     "name": "stdout",
     "output_type": "stream",
     "text": [
      "Epoch [47/100], Loss: 0.00011252687545493245\n",
      "-----------------------------------------------------------------------------\n"
     ]
    },
    {
     "name": "stderr",
     "output_type": "stream",
     "text": [
      "1553it [00:04, 317.19it/s]\n",
      "27it [00:00, 266.79it/s]"
     ]
    },
    {
     "name": "stdout",
     "output_type": "stream",
     "text": [
      "Epoch [48/100], Loss: 3.876422852044925e-05\n",
      "-----------------------------------------------------------------------------\n"
     ]
    },
    {
     "name": "stderr",
     "output_type": "stream",
     "text": [
      "1553it [00:03, 409.92it/s]\n",
      "45it [00:00, 443.42it/s]"
     ]
    },
    {
     "name": "stdout",
     "output_type": "stream",
     "text": [
      "Epoch [49/100], Loss: 0.00020580182899720967\n",
      "-----------------------------------------------------------------------------\n"
     ]
    },
    {
     "name": "stderr",
     "output_type": "stream",
     "text": [
      "1553it [00:04, 311.88it/s]\n"
     ]
    },
    {
     "name": "stdout",
     "output_type": "stream",
     "text": [
      "Epoch [50/100], Loss: 1.9491220882628113e-05\n",
      "-----------------------------------------------------------------------------\n",
      "[2.54020269e-04 7.35172071e-05 2.89642427e-04 1.67714927e-04\n",
      " 1.48007050e-04 1.14939161e-04 1.34639238e-04 9.32402982e-05\n",
      " 1.15116876e-04 1.25478968e-04 8.92099342e-05 7.11916509e-05\n",
      " 1.20418641e-04 9.57910743e-05 9.44766143e-05 9.55199939e-05\n",
      " 1.11844420e-04 1.00007557e-04 1.48417035e-04 1.24914746e-04\n",
      " 9.59282115e-05 9.13854092e-05 1.76755304e-04 7.12404362e-05\n",
      " 1.52535576e-04 1.85197365e-04 1.10193971e-04 1.98467678e-04\n",
      " 5.52964193e-05 1.63657911e-04 1.02992562e-04 6.90024535e-05\n",
      " 8.30671197e-05 1.01541715e-04 3.96934083e-05 3.90434288e-05\n",
      " 5.23696726e-05 3.14913154e-06 1.52450548e-05 5.93220720e-05\n",
      " 6.55936310e-05 3.45971639e-05 1.98640246e-05 3.55722696e-05\n",
      " 6.49843932e-05 1.68906554e-04 1.12526875e-04 3.87642285e-05\n",
      " 2.05801829e-04 1.94912209e-05]\n",
      "[ 6615.20849047  6519.52895163  6586.69057728  6560.11114254\n",
      "  6636.53627348  6774.69022384  6737.46429176  6708.48141789\n",
      "  6330.18659771  6423.04042267  6238.16187736  6252.54430099\n",
      "  6287.34536857  6370.69156202  6756.4192309   7341.35947304\n",
      "  7393.81792842  7475.40689152  7348.91089276  7424.29955259\n",
      "  7425.79046231  7721.92490928  8407.79531239  8180.32125737\n",
      "  7959.21988897  8161.90322246  8190.11748672  8211.75844822\n",
      "  8180.93000635  7752.9686645   7610.51252298  7553.60622647\n",
      "  7421.93900489  7013.11355544  7044.08904097  6944.98718708\n",
      "  6730.3463785   6271.18103145  6548.04055443  6165.02886932\n",
      "  6275.25287495  6330.03454277  6274.7676068   6202.19991566\n",
      "  6288.04626781  6322.61420485  6578.94705862  6418.43716667\n",
      "  6488.41202577  6310.51821252  6473.85384868  6369.81019672\n",
      "  6530.66522891  6693.30788869  6748.21414819  6729.41221601\n",
      "  6902.47153692  7084.51901362  7040.04581263  6985.97553485\n",
      "  7046.78303475  7193.12246679  7277.19919306  7255.24079169\n",
      "  7364.44304581  6704.71475914  6503.56429735  6446.21011185\n",
      "  6203.58845719  6260.21630907  6317.64690575  6289.96127905\n",
      "  6339.01032166  6498.65153172  6492.36704562  6524.67067555\n",
      "  6501.49901345  6273.4174209   6353.99526239  6400.64083224\n",
      "  6512.75494432  6754.67772598  6721.98452917  6702.90464229\n",
      "  6601.14291014  6439.56257032  6474.58160941  6684.70938949\n",
      "  6635.1872506   6604.28257681  6630.37019087  6581.95220852\n",
      "  6542.04345297  6490.56723447  6557.96350838  6626.9359544\n",
      "  6589.33176365  6591.5776855   6656.37508543  6617.30268565\n",
      "  6577.59820344  6228.87043888  6246.0161118   6245.56502557\n",
      "  6282.56544136  6613.71080922  6615.21872304  6540.98905599\n",
      "  6498.37267454  6443.59821772  6489.16968154  6500.72715805\n",
      "  6467.1973034   6482.88005037  6494.28941705  6458.69866081\n",
      "  6446.82714927  6444.30309146  6445.25955128  6312.25999418\n",
      "  6308.63047507  6337.46209336  6379.22152992  6395.39242935\n",
      "  6377.50569597  6456.19377989  6442.32938958  6471.10864054\n",
      "  6522.47832878  6448.56888202  6409.77066369  6399.37621037\n",
      "  6404.82204992  6375.86047086  6362.43585823  5711.90602463\n",
      "  5646.65170714  5573.4164832   5557.54050919  5612.15535796\n",
      "  4837.79524059  4441.81124819  4602.15536416  4349.62801673\n",
      "  4342.7235057   3860.02238685  4016.264014    3781.23279638\n",
      "  3813.48133389  4260.25509769  4273.89434568  4012.0923579\n",
      "  4194.16520798  4131.7900403   3875.30964639  3942.37365098\n",
      "  3752.69330547  3506.85010251  3413.898571    3480.32048335\n",
      "  3615.7697974   3500.08058076  3419.40673955  3485.72627768\n",
      "  3311.7986787   3237.65748004  3241.34911877  3251.99038152\n",
      "  3544.93561315  3702.92221906  3757.9372566   4148.54612705\n",
      "  3902.60087891  4028.9715984   4007.18189341  4080.83952978\n",
      "  3819.71721352  3862.13925499  3655.68630909  3935.76228988\n",
      "  3844.48381381  3877.26435028  3752.05575164  3862.87078827\n",
      "  3950.03743983  3851.62901604  3859.72524329  3848.55075171\n",
      "  4081.77628047  4028.60921722  4026.21386024  4037.57681015\n",
      "  3662.93921775  3665.16647753  3653.02108745  3536.79235732\n",
      "  3699.57009646  3630.25983971  3650.9065022   3673.15951893\n",
      "  3648.95023008  3727.52431048  3602.76867239  3571.11148096\n",
      "  3603.05024184  3579.77476259  3602.36668912  3598.33644091\n",
      "  3597.67821861  3581.70083233  3463.28819308  3440.00601361\n",
      "  3479.30180006  3451.31987662  3479.09411435  3506.52230177\n",
      "  3452.49982061  3455.53312658  3458.86444282  3405.37514383\n",
      "  3390.50540402  3658.38964874  3665.16988048  3686.97761018\n",
      "  3643.486916    3646.32014553  3623.29193634  3609.65272141\n",
      "  3611.647189    3618.71221893  3660.4989769   3910.43067479\n",
      "  3948.832097    3999.2730522   3951.52290765  4002.06967666\n",
      "  4139.65677498  3808.96858015  3883.8054743   3857.29403349\n",
      "  3841.7850284   3855.99925235  3859.79447951  3865.23949756\n",
      "  3846.07536184  3764.86236769  3893.47068584  3900.17974517\n",
      "  3915.96911986  3896.89193755  3973.91117957  3962.28001431\n",
      "  3901.77708601  3913.16049318  3910.52356601  3925.10252397\n",
      "  3964.22086803  4052.95137923  4027.10714962  4035.19903285\n",
      "  4053.91685406  4080.65613614  4031.44060362  4028.55027023\n",
      "  4039.88971813  4015.98603236  3961.27993039  3977.02522142\n",
      "  4080.2130958   4063.93601469  4095.44498708  4223.71830897\n",
      "  4123.61349231  4178.00796545  4882.93197252  4965.66500635\n",
      "  4918.30561026  5035.83413091  5053.21725082  5206.98201238\n",
      "  5300.38106356  5214.98287783  5326.16957297  5071.84691031\n",
      "  5102.91338409  5097.22233148  5166.7912904   5065.99874134\n",
      "  5238.26936286  5253.02808638  5294.8843241   5144.27849978\n",
      "  5275.30762596  5180.68270346  5287.33462994  5544.97293788\n",
      "  5407.00063229  5161.88223622  5194.92187863  5092.79129491\n",
      "  5132.50420292  5210.21459809  5369.63961641  5241.57092364\n",
      "  5533.31385222  5791.74035957  5870.43056758  5834.59479624\n",
      "  5790.26825263  5888.6441294   6007.95831807  6164.44095976\n",
      "  6382.37409703  7193.89903977  6957.47454692  7835.28565227\n",
      "  7998.88575398  8205.9747001   7886.81738993  7337.08626726\n",
      "  7229.94752608  8206.31614111  7994.63943839  7974.50377998\n",
      "  7670.65170943  7875.1687166   7999.25524001  8057.83184639\n",
      "  8672.8835634   8822.26193399  8718.52510888  8669.38243321\n",
      "  8286.57298025  8568.29511316  8559.58679744  8754.0549938\n",
      "  8173.97233015  7670.41734933  7801.36196991  7822.26864212\n",
      "  8035.07592896  7948.69769304  7670.27194893  8001.05616665\n",
      "  7915.50569279  8154.26676229  8232.37108779  8688.28161299\n",
      "  8851.64793581  8984.97872497  9330.36293433  9090.35949671\n",
      "  9293.2206218   9534.67483761 10155.56054856 10698.81735533\n",
      " 10847.10369416 11023.90489058 11754.91156501 12872.8724891\n",
      " 11121.79698612 12355.18458418 11959.32072798 10748.17521215\n",
      " 10593.12739993 10816.38588672 11964.17846179 11196.58957803\n",
      " 10977.84530865 11245.18687332 11469.83708232 12311.24952666\n",
      " 12560.66951349 12133.10265667 11347.91972079 11805.52527406\n",
      " 11371.08351853 10235.69561349 10892.855597    9464.30110037\n",
      "  9667.40442881 10640.42545418 10530.66301176 10780.40529175\n",
      " 10558.57269918 10322.8022907   9904.56899653  9807.19644747\n",
      "  9906.95166254]\n",
      "389\n",
      "389\n"
     ]
    },
    {
     "data": {
      "image/png": "[encoded data removed]",
      "text/plain": [
       "<Figure size 432x288 with 1 Axes>"
      ]
     },
     "metadata": {
      "needs_background": "light"
     },
     "output_type": "display_data"
    }
   ],
   "source": [
    "def main():    \n",
    "    # ------------------------------------------ PREPROCESSING ----------------------------------------------\n",
    "    raw_price_data = fetch_latest_BTC_JSON()\n",
    "#     raw_price_data = fetch_btc_prices()\n",
    "    data_df = parse_alphaV_JSON(raw_data=raw_price_data)\n",
    "    #data_df = data_df.iloc[::-1]\n",
    "    \n",
    "    print(data_df)\n",
    "    \n",
    "    prices = np.array(data_df['4a. close (USD)'].tolist())\n",
    "    print(prices)\n",
    "    \n",
    "    original_volume = data_df['5. volume'].values\n",
    "    min_volume = np.min(data_df['5. volume'].values)\n",
    "    max_volume = np.max(data_df['5. volume'].values)\n",
    "    \n",
    "    print('---------------- original volume -----------------------')\n",
    "    print(original_volume)\n",
    "    print('---------------- original volume -----------------------')\n",
    "    \n",
    "    print(min_volume)\n",
    "    print(max_volume)\n",
    "    \n",
    "    data_df_temp = data_df.drop(labels=['1a. open (USD)','1b. open (USD)','2b. high (USD)','3b. low (USD)','4a. close (USD)','4b. close (USD)','6. market cap (USD)'],axis=1) # ,'2a. high (USD)','3a. low (USD)'\n",
    "    minmax_2 = preprocessing.MinMaxScaler()\n",
    "    print('------slattt-----')\n",
    "    print(data_df_temp)\n",
    "    data_df_temp = pd.DataFrame(minmax_2.fit_transform(data_df_temp), columns=data_df_temp.columns)\n",
    "    \n",
    "    # -- Normalize the Data --\n",
    "    min_max_scaler = preprocessing.MinMaxScaler()\n",
    "    data_df = pd.DataFrame(min_max_scaler.fit_transform(data_df), columns=data_df.columns)\n",
    "    # print(data_df)\n",
    "    data_df = table_edit(data_df)\n",
    "    y_train = np.array(data_df['4a. close (USD)'].tolist())\n",
    "    data_df = data_df.drop(labels=['4a. close (USD)'],axis=1)\n",
    "    \n",
    "    data_df = data_df.drop(labels=['1a. open (USD)','6. market cap (USD)'],axis=1) # ,'2a. high (USD)','3a. low (USD)'\n",
    "    print('---new---')\n",
    "    print(data_df)\n",
    "\n",
    "#     vmas = VMA_calculation(prices=data_df['5. volume'].values)\n",
    "    \n",
    "#     #print(vmas)\n",
    "#     #print(un_normalize(norm_val=vmas,min_val=min_volume,max_val=max_volume,typelist=True))\n",
    "    \n",
    "#     x_train,y_train,x_test,y_test,train_dataloader,test_dataloader = vol_dataset_prep(vmas,data_df['5. volume'].values,original_volume)\n",
    "#     vol_predictor = NumberRegression_MLP()\n",
    "#     model,loss_func,_,_ = vol_train(vol_predictor, train_dataloader)\n",
    "#     test_loss,accuracy,predictions = vol_test(vol_predictor,loss_func,test_dataloader,min_volume,max_volume)\n",
    "#     vol_prediction_visualization(predictions,y_test,min_volume,max_volume)\n",
    "#     #print(data_df)\n",
    "#     test = data_df['5. volume'].values\n",
    "#     print(test)\n",
    "#     volume_visualization(test)\n",
    "\n",
    "    model = MLP(3)\n",
    "    losses, test_data_loader, loss_func, model, min_price, max_price, test_prices = train(model, data_df.values,y_train,prices)\n",
    "    loss_visualize(losses)\n",
    "    _, _, all_unnormed_outputs = validation_test(test_dataloader=test_data_loader,criterion=loss_func, model=model, norm_min=min_price, norm_max=max_price)\n",
    "    \n",
    "    prediction_visualization(minimum_price=min_price,maximum_price=max_price,close_prices=test_prices,model_predictions=all_unnormed_outputs)\n",
    "    return minmax_2,model,min_price,max_price\n",
    "\n",
    "min_max_scaler,price_model,min_price,max_price = main()"
   ]
  },
  {
   "cell_type": "markdown",
   "metadata": {
    "colab": {},
    "colab_type": "code",
    "id": "rC1qbe-GH7Iv"
   },
   "source": [
    "## Inference testing"
   ]
  },
  {
   "cell_type": "code",
   "execution_count": 53,
   "metadata": {},
   "outputs": [
    {
     "name": "stdout",
     "output_type": "stream",
     "text": [
      "BTC prediction:  tensor([[7345.8638]])\n"
     ]
    }
   ],
   "source": [
    "def inference(value, normalize_method, model,minimum_price,maximum_price):\n",
    "    value = np.array(value).reshape(1,-1)\n",
    "    # -- Normalize the value --\n",
    "    value = torch.tensor(normalize_method.transform(value)).float()\n",
    "    output = model(value)\n",
    "    output_unnorm = un_normalize(norm_val=output.detach(),min_val=minimum_price,max_val=maximum_price)\n",
    "    return output_unnorm\n",
    "\n",
    "def main(normalizer,model,minimum_price,maximum_price):\n",
    "    output = inference(value=[ 9600,10000,vol[-1]],\n",
    "                       normalize_method=normalizer,\n",
    "                       model=model,\n",
    "                       minimum_price=minimum_price,\n",
    "                       maximum_price=maximum_price\n",
    "                      )\n",
    "    print('BTC prediction: ', output)\n",
    "    \n",
    "    \n",
    "main(normalizer=min_max_scaler,model=price_model,minimum_price=min_price,maximum_price=max_price)"
   ]
  },
  {
   "cell_type": "code",
   "execution_count": null,
   "metadata": {},
   "outputs": [],
   "source": []
  },
  {
   "cell_type": "code",
   "execution_count": null,
   "metadata": {},
   "outputs": [],
   "source": []
  }
 ],
 "metadata": {
  "accelerator": "GPU",
  "colab": {
   "collapsed_sections": [],
   "name": "model_viz_test.ipynb",
   "provenance": [],
   "version": "0.3.2"
  },
  "kernelspec": {
   "display_name": "Python 3",
   "language": "python",
   "name": "python3"
  },
  "language_info": {
   "codemirror_mode": {
    "name": "ipython",
    "version": 3
   },
   "file_extension": ".py",
   "mimetype": "text/x-python",
   "name": "python",
   "nbconvert_exporter": "python",
   "pygments_lexer": "ipython3",
   "version": "3.5.2"
  }
 },
 "nbformat": 4,
 "nbformat_minor": 1
}
